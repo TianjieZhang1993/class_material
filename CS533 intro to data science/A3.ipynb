{
 "cells": [
  {
   "cell_type": "markdown",
   "id": "a6000e76",
   "metadata": {},
   "source": [
    "🚩**Name:  TJ Zhang**\n",
    "\n",
    "**Email: tjzhang@u.boisestate.edu**"
   ]
  },
  {
   "cell_type": "markdown",
   "id": "4ff6098a",
   "metadata": {},
   "source": [
    "### Set up"
   ]
  },
  {
   "cell_type": "code",
   "execution_count": 1,
   "id": "31bebf18",
   "metadata": {},
   "outputs": [],
   "source": [
    "import pandas as pd\n",
    "import numpy as np\n",
    "import seaborn as sns\n",
    "import matplotlib.pyplot as plt\n",
    "from census import Census\n",
    "from us import states"
   ]
  },
  {
   "cell_type": "markdown",
   "id": "a6ac033b",
   "metadata": {},
   "source": [
    "### Read Census data in state_pop"
   ]
  },
  {
   "cell_type": "code",
   "execution_count": 2,
   "id": "61b1f35e",
   "metadata": {},
   "outputs": [],
   "source": [
    "c = Census('279e38280cd89b39289e78c8b5696150b6d67ba0')"
   ]
  },
  {
   "cell_type": "code",
   "execution_count": 3,
   "id": "82885206",
   "metadata": {},
   "outputs": [
    {
     "data": {
      "text/html": [
       "<div>\n",
       "<style scoped>\n",
       "    .dataframe tbody tr th:only-of-type {\n",
       "        vertical-align: middle;\n",
       "    }\n",
       "\n",
       "    .dataframe tbody tr th {\n",
       "        vertical-align: top;\n",
       "    }\n",
       "\n",
       "    .dataframe thead th {\n",
       "        text-align: right;\n",
       "    }\n",
       "</style>\n",
       "<table border=\"1\" class=\"dataframe\">\n",
       "  <thead>\n",
       "    <tr style=\"text-align: right;\">\n",
       "      <th></th>\n",
       "      <th>NAME</th>\n",
       "      <th>B05010_001E</th>\n",
       "      <th>B05010_002E</th>\n",
       "      <th>state</th>\n",
       "      <th>Poverty_level</th>\n",
       "    </tr>\n",
       "  </thead>\n",
       "  <tbody>\n",
       "    <tr>\n",
       "      <th>0</th>\n",
       "      <td>Alabama</td>\n",
       "      <td>1048560.0</td>\n",
       "      <td>281052.0</td>\n",
       "      <td>01</td>\n",
       "      <td>0.268036</td>\n",
       "    </tr>\n",
       "    <tr>\n",
       "      <th>1</th>\n",
       "      <td>Alaska</td>\n",
       "      <td>179242.0</td>\n",
       "      <td>23963.0</td>\n",
       "      <td>02</td>\n",
       "      <td>0.133691</td>\n",
       "    </tr>\n",
       "    <tr>\n",
       "      <th>2</th>\n",
       "      <td>Arizona</td>\n",
       "      <td>1532525.0</td>\n",
       "      <td>385737.0</td>\n",
       "      <td>04</td>\n",
       "      <td>0.251700</td>\n",
       "    </tr>\n",
       "    <tr>\n",
       "      <th>3</th>\n",
       "      <td>Arkansas</td>\n",
       "      <td>663036.0</td>\n",
       "      <td>179070.0</td>\n",
       "      <td>05</td>\n",
       "      <td>0.270076</td>\n",
       "    </tr>\n",
       "    <tr>\n",
       "      <th>4</th>\n",
       "      <td>California</td>\n",
       "      <td>8778017.0</td>\n",
       "      <td>1945049.0</td>\n",
       "      <td>06</td>\n",
       "      <td>0.221582</td>\n",
       "    </tr>\n",
       "  </tbody>\n",
       "</table>\n",
       "</div>"
      ],
      "text/plain": [
       "         NAME  B05010_001E  B05010_002E state  Poverty_level\n",
       "0     Alabama    1048560.0     281052.0    01       0.268036\n",
       "1      Alaska     179242.0      23963.0    02       0.133691\n",
       "2     Arizona    1532525.0     385737.0    04       0.251700\n",
       "3    Arkansas     663036.0     179070.0    05       0.270076\n",
       "4  California    8778017.0    1945049.0    06       0.221582"
      ]
     },
     "execution_count": 3,
     "metadata": {},
     "output_type": "execute_result"
    }
   ],
   "source": [
    "state_pop = pd.DataFrame.from_records(c.acs5.state(('NAME', 'B05010_001E', 'B05010_002E'), '*', year=2014))\n",
    "state_pop['Poverty_level']=state_pop['B05010_002E']/state_pop['B05010_001E']\n",
    "state_pop.head()"
   ]
  },
  {
   "cell_type": "markdown",
   "id": "cf825257",
   "metadata": {},
   "source": [
    "### Read GHDx data in meningitis and Diarrheal_diseases"
   ]
  },
  {
   "cell_type": "code",
   "execution_count": 4,
   "id": "c7b4a299",
   "metadata": {},
   "outputs": [
    {
     "name": "stderr",
     "output_type": "stream",
     "text": [
      "<ipython-input-4-a8f57dc5eaa4>:3: FutureWarning: The default value of regex will change from True to False in a future version.\n",
      "  meningitis['Mortality'] = meningitis['Mortality Rate, 2014*'].str.replace(r'\\s*\\(.+\\)', '').astype('f8')\n",
      "<ipython-input-4-a8f57dc5eaa4>:6: FutureWarning: The default value of regex will change from True to False in a future version.\n",
      "  Diarrheal_diseases['Mortality'] = Diarrheal_diseases['Mortality Rate, 2014*'].str.replace(r'\\s*\\(.+\\)', '').astype('f8')\n"
     ]
    }
   ],
   "source": [
    "meningitis = pd.read_excel('IHME_USA_COUNTY_INFECT_DIS_MORT_1980_2014_NATIONAL_Y2018M03D27.XLSX',\n",
    "                        sheet_name='Meningitis', header=1, skipfooter=2)\n",
    "meningitis['Mortality'] = meningitis['Mortality Rate, 2014*'].str.replace(r'\\s*\\(.+\\)', '').astype('f8')\n",
    "Diarrheal_diseases = pd.read_excel('IHME_USA_COUNTY_INFECT_DIS_MORT_1980_2014_NATIONAL_Y2018M03D27.XLSX',\n",
    "                        sheet_name='Diarrheal diseases', header=1, skipfooter=2)\n",
    "Diarrheal_diseases['Mortality'] = Diarrheal_diseases['Mortality Rate, 2014*'].str.replace(r'\\s*\\(.+\\)', '').astype('f8')"
   ]
  },
  {
   "cell_type": "markdown",
   "id": "906f5403",
   "metadata": {},
   "source": [
    "**merge state_pop and meningitis as pop_meningitis**"
   ]
  },
  {
   "cell_type": "code",
   "execution_count": 5,
   "id": "1212e4a5",
   "metadata": {},
   "outputs": [],
   "source": [
    "pop_meningitis=pd.merge(state_pop[['NAME', 'Poverty_level']].rename(columns={'NAME': 'Location'}),\n",
    "         meningitis[['Location','Mortality']].rename(columns={'Mortality':'Mortality_meningitis'}), on='Location')"
   ]
  },
  {
   "cell_type": "markdown",
   "id": "410ec3d2",
   "metadata": {},
   "source": [
    "**merge pop_meningitis and Diarrheal_diseases as pop_Diarrheal_meningitis**"
   ]
  },
  {
   "cell_type": "code",
   "execution_count": 6,
   "id": "fe52ab58",
   "metadata": {},
   "outputs": [
    {
     "data": {
      "text/html": [
       "<div>\n",
       "<style scoped>\n",
       "    .dataframe tbody tr th:only-of-type {\n",
       "        vertical-align: middle;\n",
       "    }\n",
       "\n",
       "    .dataframe tbody tr th {\n",
       "        vertical-align: top;\n",
       "    }\n",
       "\n",
       "    .dataframe thead th {\n",
       "        text-align: right;\n",
       "    }\n",
       "</style>\n",
       "<table border=\"1\" class=\"dataframe\">\n",
       "  <thead>\n",
       "    <tr style=\"text-align: right;\">\n",
       "      <th></th>\n",
       "      <th>Location</th>\n",
       "      <th>Poverty_level</th>\n",
       "      <th>Mortality_meningitis</th>\n",
       "      <th>Mortality_Diarrheal</th>\n",
       "    </tr>\n",
       "  </thead>\n",
       "  <tbody>\n",
       "    <tr>\n",
       "      <th>0</th>\n",
       "      <td>Alabama</td>\n",
       "      <td>0.268036</td>\n",
       "      <td>0.58</td>\n",
       "      <td>2.41</td>\n",
       "    </tr>\n",
       "    <tr>\n",
       "      <th>1</th>\n",
       "      <td>Alaska</td>\n",
       "      <td>0.133691</td>\n",
       "      <td>0.43</td>\n",
       "      <td>1.34</td>\n",
       "    </tr>\n",
       "    <tr>\n",
       "      <th>2</th>\n",
       "      <td>Arizona</td>\n",
       "      <td>0.251700</td>\n",
       "      <td>0.43</td>\n",
       "      <td>2.55</td>\n",
       "    </tr>\n",
       "    <tr>\n",
       "      <th>3</th>\n",
       "      <td>Arkansas</td>\n",
       "      <td>0.270076</td>\n",
       "      <td>0.52</td>\n",
       "      <td>2.02</td>\n",
       "    </tr>\n",
       "    <tr>\n",
       "      <th>4</th>\n",
       "      <td>California</td>\n",
       "      <td>0.221582</td>\n",
       "      <td>0.31</td>\n",
       "      <td>2.21</td>\n",
       "    </tr>\n",
       "  </tbody>\n",
       "</table>\n",
       "</div>"
      ],
      "text/plain": [
       "     Location  Poverty_level  Mortality_meningitis  Mortality_Diarrheal\n",
       "0     Alabama       0.268036                  0.58                 2.41\n",
       "1      Alaska       0.133691                  0.43                 1.34\n",
       "2     Arizona       0.251700                  0.43                 2.55\n",
       "3    Arkansas       0.270076                  0.52                 2.02\n",
       "4  California       0.221582                  0.31                 2.21"
      ]
     },
     "execution_count": 6,
     "metadata": {},
     "output_type": "execute_result"
    }
   ],
   "source": [
    "pop_Diarrheal_meningitis=pd.merge(pop_meningitis,\n",
    "         Diarrheal_diseases[['Location','Mortality']].rename(columns={'Mortality':'Mortality_Diarrheal'}), \n",
    "                                  on='Location')\n",
    "pop_Diarrheal_meningitis.head()"
   ]
  },
  {
   "cell_type": "markdown",
   "id": "8d50b98a",
   "metadata": {},
   "source": [
    "### Read CDC data as infant_motality"
   ]
  },
  {
   "cell_type": "code",
   "execution_count": 7,
   "id": "822d2b76",
   "metadata": {},
   "outputs": [],
   "source": [
    "infant_motality=pd.read_csv('Infant_Mortality.csv')"
   ]
  },
  {
   "cell_type": "markdown",
   "id": "850e6c4b",
   "metadata": {},
   "source": [
    "We are interested about the data in 'YEAR'=2014"
   ]
  },
  {
   "cell_type": "code",
   "execution_count": 8,
   "id": "2bb11c9b",
   "metadata": {},
   "outputs": [],
   "source": [
    "infant_motality2014=infant_motality[infant_motality.YEAR.isin([2014])]"
   ]
  },
  {
   "cell_type": "markdown",
   "id": "7d1ebc3b",
   "metadata": {},
   "source": [
    "**link data**"
   ]
  },
  {
   "cell_type": "code",
   "execution_count": 9,
   "id": "e81c5afc",
   "metadata": {},
   "outputs": [],
   "source": [
    "statechange=pd.read_table('state.txt', sep='|')"
   ]
  },
  {
   "cell_type": "markdown",
   "id": "847376fe",
   "metadata": {},
   "source": [
    "**merge infant_motality2014 and statechange**"
   ]
  },
  {
   "cell_type": "code",
   "execution_count": 10,
   "id": "4723ba37",
   "metadata": {},
   "outputs": [
    {
     "data": {
      "text/html": [
       "<div>\n",
       "<style scoped>\n",
       "    .dataframe tbody tr th:only-of-type {\n",
       "        vertical-align: middle;\n",
       "    }\n",
       "\n",
       "    .dataframe tbody tr th {\n",
       "        vertical-align: top;\n",
       "    }\n",
       "\n",
       "    .dataframe thead th {\n",
       "        text-align: right;\n",
       "    }\n",
       "</style>\n",
       "<table border=\"1\" class=\"dataframe\">\n",
       "  <thead>\n",
       "    <tr style=\"text-align: right;\">\n",
       "      <th></th>\n",
       "      <th>YEAR</th>\n",
       "      <th>STATE</th>\n",
       "      <th>RATE</th>\n",
       "      <th>DEATHS</th>\n",
       "      <th>URL</th>\n",
       "      <th>STATE_NAME</th>\n",
       "    </tr>\n",
       "  </thead>\n",
       "  <tbody>\n",
       "    <tr>\n",
       "      <th>0</th>\n",
       "      <td>2014</td>\n",
       "      <td>AL</td>\n",
       "      <td>8.67</td>\n",
       "      <td>515</td>\n",
       "      <td>/nchs/pressroom/states/alabama.htm</td>\n",
       "      <td>Alabama</td>\n",
       "    </tr>\n",
       "    <tr>\n",
       "      <th>1</th>\n",
       "      <td>2014</td>\n",
       "      <td>AK</td>\n",
       "      <td>6.67</td>\n",
       "      <td>76</td>\n",
       "      <td>/nchs/pressroom/states/alaska.htm</td>\n",
       "      <td>Alaska</td>\n",
       "    </tr>\n",
       "    <tr>\n",
       "      <th>2</th>\n",
       "      <td>2014</td>\n",
       "      <td>AZ</td>\n",
       "      <td>6.1</td>\n",
       "      <td>530</td>\n",
       "      <td>/nchs/pressroom/states/arizona.htm</td>\n",
       "      <td>Arizona</td>\n",
       "    </tr>\n",
       "    <tr>\n",
       "      <th>3</th>\n",
       "      <td>2014</td>\n",
       "      <td>AR</td>\n",
       "      <td>7.48</td>\n",
       "      <td>288</td>\n",
       "      <td>/nchs/pressroom/states/arkansas.htm</td>\n",
       "      <td>Arkansas</td>\n",
       "    </tr>\n",
       "    <tr>\n",
       "      <th>4</th>\n",
       "      <td>2014</td>\n",
       "      <td>CA</td>\n",
       "      <td>4.32</td>\n",
       "      <td>2173</td>\n",
       "      <td>/nchs/pressroom/states/california.htm</td>\n",
       "      <td>California</td>\n",
       "    </tr>\n",
       "  </tbody>\n",
       "</table>\n",
       "</div>"
      ],
      "text/plain": [
       "   YEAR STATE  RATE  DEATHS                                    URL  STATE_NAME\n",
       "0  2014    AL  8.67     515     /nchs/pressroom/states/alabama.htm     Alabama\n",
       "1  2014    AK  6.67      76      /nchs/pressroom/states/alaska.htm      Alaska\n",
       "2  2014    AZ   6.1     530     /nchs/pressroom/states/arizona.htm     Arizona\n",
       "3  2014    AR  7.48     288    /nchs/pressroom/states/arkansas.htm    Arkansas\n",
       "4  2014    CA  4.32    2173  /nchs/pressroom/states/california.htm  California"
      ]
     },
     "execution_count": 10,
     "metadata": {},
     "output_type": "execute_result"
    }
   ],
   "source": [
    "infant_motality2014_1=pd.merge(infant_motality2014,\n",
    "                               statechange[['STUSAB','STATE_NAME']].rename(columns={'STUSAB': 'STATE'}),on='STATE')\n",
    "infant_motality2014_1.head()"
   ]
  },
  {
   "cell_type": "markdown",
   "id": "33b9c524",
   "metadata": {},
   "source": [
    "### Merge Census, GHDx, CDC together"
   ]
  },
  {
   "cell_type": "code",
   "execution_count": 11,
   "id": "d1e2b15d",
   "metadata": {},
   "outputs": [
    {
     "data": {
      "text/html": [
       "<div>\n",
       "<style scoped>\n",
       "    .dataframe tbody tr th:only-of-type {\n",
       "        vertical-align: middle;\n",
       "    }\n",
       "\n",
       "    .dataframe tbody tr th {\n",
       "        vertical-align: top;\n",
       "    }\n",
       "\n",
       "    .dataframe thead th {\n",
       "        text-align: right;\n",
       "    }\n",
       "</style>\n",
       "<table border=\"1\" class=\"dataframe\">\n",
       "  <thead>\n",
       "    <tr style=\"text-align: right;\">\n",
       "      <th></th>\n",
       "      <th>STATE_NAME</th>\n",
       "      <th>Poverty_level</th>\n",
       "      <th>Mortality_meningitis</th>\n",
       "      <th>Mortality_Diarrheal</th>\n",
       "      <th>Mortality_Infant</th>\n",
       "    </tr>\n",
       "  </thead>\n",
       "  <tbody>\n",
       "    <tr>\n",
       "      <th>0</th>\n",
       "      <td>Alabama</td>\n",
       "      <td>0.268036</td>\n",
       "      <td>0.58</td>\n",
       "      <td>2.41</td>\n",
       "      <td>8.67</td>\n",
       "    </tr>\n",
       "    <tr>\n",
       "      <th>1</th>\n",
       "      <td>Alaska</td>\n",
       "      <td>0.133691</td>\n",
       "      <td>0.43</td>\n",
       "      <td>1.34</td>\n",
       "      <td>6.67</td>\n",
       "    </tr>\n",
       "    <tr>\n",
       "      <th>2</th>\n",
       "      <td>Arizona</td>\n",
       "      <td>0.251700</td>\n",
       "      <td>0.43</td>\n",
       "      <td>2.55</td>\n",
       "      <td>6.10</td>\n",
       "    </tr>\n",
       "    <tr>\n",
       "      <th>3</th>\n",
       "      <td>Arkansas</td>\n",
       "      <td>0.270076</td>\n",
       "      <td>0.52</td>\n",
       "      <td>2.02</td>\n",
       "      <td>7.48</td>\n",
       "    </tr>\n",
       "    <tr>\n",
       "      <th>4</th>\n",
       "      <td>California</td>\n",
       "      <td>0.221582</td>\n",
       "      <td>0.31</td>\n",
       "      <td>2.21</td>\n",
       "      <td>4.32</td>\n",
       "    </tr>\n",
       "  </tbody>\n",
       "</table>\n",
       "</div>"
      ],
      "text/plain": [
       "   STATE_NAME  Poverty_level  Mortality_meningitis  Mortality_Diarrheal  \\\n",
       "0     Alabama       0.268036                  0.58                 2.41   \n",
       "1      Alaska       0.133691                  0.43                 1.34   \n",
       "2     Arizona       0.251700                  0.43                 2.55   \n",
       "3    Arkansas       0.270076                  0.52                 2.02   \n",
       "4  California       0.221582                  0.31                 2.21   \n",
       "\n",
       "   Mortality_Infant  \n",
       "0              8.67  \n",
       "1              6.67  \n",
       "2              6.10  \n",
       "3              7.48  \n",
       "4              4.32  "
      ]
     },
     "execution_count": 11,
     "metadata": {},
     "output_type": "execute_result"
    }
   ],
   "source": [
    "DATA=pd.merge(pop_Diarrheal_meningitis.rename(columns={'Location': 'STATE_NAME'}),\n",
    "         infant_motality2014_1[['RATE','STATE_NAME']].rename(columns={'RATE':'Mortality_Infant'}), on='STATE_NAME')\n",
    "DATA['Mortality_Infant']=DATA['Mortality_Infant'].astype('f8')\n",
    "DATA.head()"
   ]
  },
  {
   "cell_type": "markdown",
   "id": "d70ae03a",
   "metadata": {},
   "source": [
    "## After merging all the data sets, we can do the analysis now."
   ]
  },
  {
   "cell_type": "markdown",
   "id": "1c488180",
   "metadata": {},
   "source": [
    "**After merging, the 'DATA' and 'state_pop' have a little different. The 'DATA' only has 50 states while the 'state_pop' has 52 regions.**\n",
    "\n",
    "**This is the distribution of poverty level of all 52 regions (including 'Puerto Rico' and 'District of Columbia').**"
   ]
  },
  {
   "cell_type": "code",
   "execution_count": 12,
   "id": "bb1156da",
   "metadata": {},
   "outputs": [
    {
     "data": {
      "text/plain": [
       "count    52.000000\n",
       "mean      0.207473\n",
       "std       0.070696\n",
       "min       0.110946\n",
       "25%       0.153843\n",
       "50%       0.196620\n",
       "75%       0.247620\n",
       "max       0.566731\n",
       "Name: Poverty_level, dtype: float64"
      ]
     },
     "execution_count": 12,
     "metadata": {},
     "output_type": "execute_result"
    }
   ],
   "source": [
    "state_pop['Poverty_level'].describe()"
   ]
  },
  {
   "cell_type": "markdown",
   "id": "a1c1edbc",
   "metadata": {},
   "source": [
    "**This is the distribution of poverty level of 50 states.**"
   ]
  },
  {
   "cell_type": "code",
   "execution_count": 13,
   "id": "0cb79610",
   "metadata": {},
   "outputs": [
    {
     "data": {
      "text/plain": [
       "count    50.000000\n",
       "mean      0.199019\n",
       "std       0.049121\n",
       "min       0.110946\n",
       "25%       0.150691\n",
       "50%       0.192163\n",
       "75%       0.240783\n",
       "max       0.313809\n",
       "Name: Poverty_level, dtype: float64"
      ]
     },
     "execution_count": 13,
     "metadata": {},
     "output_type": "execute_result"
    }
   ],
   "source": [
    "DATA['Poverty_level'].describe()"
   ]
  },
  {
   "cell_type": "code",
   "execution_count": 14,
   "id": "9b6f56e2",
   "metadata": {},
   "outputs": [
    {
     "name": "stderr",
     "output_type": "stream",
     "text": [
      "/Users/zhangtianjie/opt/anaconda3/lib/python3.8/site-packages/seaborn/distributions.py:2557: FutureWarning: `distplot` is a deprecated function and will be removed in a future version. Please adapt your code to use either `displot` (a figure-level function with similar flexibility) or `histplot` (an axes-level function for histograms).\n",
      "  warnings.warn(msg, FutureWarning)\n",
      "/Users/zhangtianjie/opt/anaconda3/lib/python3.8/site-packages/seaborn/distributions.py:2557: FutureWarning: `distplot` is a deprecated function and will be removed in a future version. Please adapt your code to use either `displot` (a figure-level function with similar flexibility) or `histplot` (an axes-level function for histograms).\n",
      "  warnings.warn(msg, FutureWarning)\n"
     ]
    },
    {
     "data": {
      "text/plain": [
       "<AxesSubplot:xlabel='Poverty_level', ylabel='Density'>"
      ]
     },
     "execution_count": 14,
     "metadata": {},
     "output_type": "execute_result"
    },
    {
     "data": {
      "image/png": "[encoded data removed]",
      "text/plain": [
       "<Figure size 432x288 with 2 Axes>"
      ]
     },
     "metadata": {
      "needs_background": "light"
     },
     "output_type": "display_data"
    }
   ],
   "source": [
    "f0=plt.figure()\n",
    "f0.add_subplot(2,1,1)\n",
    "sns.distplot(state_pop['Poverty_level'])\n",
    "f0.add_subplot(2,1,2)\n",
    "sns.distplot(DATA['Poverty_level'])"
   ]
  },
  {
   "cell_type": "markdown",
   "id": "d94cced5",
   "metadata": {},
   "source": [
    "*As we can see, the distribution of 52 regions is slightly right skewed while the distribution of 50 states is symmetric. The mean is near 0.2.*"
   ]
  },
  {
   "cell_type": "code",
   "execution_count": 15,
   "id": "dd1e38ae",
   "metadata": {},
   "outputs": [
    {
     "name": "stderr",
     "output_type": "stream",
     "text": [
      "/Users/zhangtianjie/opt/anaconda3/lib/python3.8/site-packages/seaborn/_decorators.py:36: FutureWarning: Pass the following variables as keyword args: x, y. From version 0.12, the only valid positional argument will be `data`, and passing other arguments without an explicit keyword will result in an error or misinterpretation.\n",
      "  warnings.warn(\n",
      "/Users/zhangtianjie/opt/anaconda3/lib/python3.8/site-packages/seaborn/_decorators.py:36: FutureWarning: Pass the following variables as keyword args: x, y. From version 0.12, the only valid positional argument will be `data`, and passing other arguments without an explicit keyword will result in an error or misinterpretation.\n",
      "  warnings.warn(\n",
      "/Users/zhangtianjie/opt/anaconda3/lib/python3.8/site-packages/seaborn/_decorators.py:36: FutureWarning: Pass the following variables as keyword args: x, y. From version 0.12, the only valid positional argument will be `data`, and passing other arguments without an explicit keyword will result in an error or misinterpretation.\n",
      "  warnings.warn(\n"
     ]
    },
    {
     "data": {
      "text/plain": [
       "<AxesSubplot:xlabel='Poverty_level', ylabel='Mortality_Infant'>"
      ]
     },
     "execution_count": 15,
     "metadata": {},
     "output_type": "execute_result"
    },
    {
     "data": {
      "image/png": "[encoded data removed]",
      "text/plain": [
       "<Figure size 432x288 with 3 Axes>"
      ]
     },
     "metadata": {
      "needs_background": "light"
     },
     "output_type": "display_data"
    }
   ],
   "source": [
    "f=plt.figure()\n",
    "f.add_subplot(2,2,1)\n",
    "sns.regplot('Poverty_level', 'Mortality_meningitis', data=DATA)\n",
    "f.add_subplot(2,2,2)\n",
    "sns.regplot('Poverty_level', 'Mortality_Diarrheal', data=DATA)\n",
    "f.add_subplot(2,2,3)\n",
    "sns.regplot('Poverty_level', 'Mortality_Infant', data=DATA)"
   ]
  },
  {
   "cell_type": "code",
   "execution_count": 16,
   "id": "bae4c3bb",
   "metadata": {},
   "outputs": [
    {
     "data": {
      "text/html": [
       "<div>\n",
       "<style scoped>\n",
       "    .dataframe tbody tr th:only-of-type {\n",
       "        vertical-align: middle;\n",
       "    }\n",
       "\n",
       "    .dataframe tbody tr th {\n",
       "        vertical-align: top;\n",
       "    }\n",
       "\n",
       "    .dataframe thead th {\n",
       "        text-align: right;\n",
       "    }\n",
       "</style>\n",
       "<table border=\"1\" class=\"dataframe\">\n",
       "  <thead>\n",
       "    <tr style=\"text-align: right;\">\n",
       "      <th></th>\n",
       "      <th>Poverty_level</th>\n",
       "      <th>Mortality_meningitis</th>\n",
       "      <th>Mortality_Diarrheal</th>\n",
       "      <th>Mortality_Infant</th>\n",
       "    </tr>\n",
       "  </thead>\n",
       "  <tbody>\n",
       "    <tr>\n",
       "      <th>Poverty_level</th>\n",
       "      <td>1.000000</td>\n",
       "      <td>0.755028</td>\n",
       "      <td>-0.004185</td>\n",
       "      <td>0.615467</td>\n",
       "    </tr>\n",
       "    <tr>\n",
       "      <th>Mortality_meningitis</th>\n",
       "      <td>0.755028</td>\n",
       "      <td>1.000000</td>\n",
       "      <td>0.016492</td>\n",
       "      <td>0.723628</td>\n",
       "    </tr>\n",
       "    <tr>\n",
       "      <th>Mortality_Diarrheal</th>\n",
       "      <td>-0.004185</td>\n",
       "      <td>0.016492</td>\n",
       "      <td>1.000000</td>\n",
       "      <td>0.045732</td>\n",
       "    </tr>\n",
       "    <tr>\n",
       "      <th>Mortality_Infant</th>\n",
       "      <td>0.615467</td>\n",
       "      <td>0.723628</td>\n",
       "      <td>0.045732</td>\n",
       "      <td>1.000000</td>\n",
       "    </tr>\n",
       "  </tbody>\n",
       "</table>\n",
       "</div>"
      ],
      "text/plain": [
       "                      Poverty_level  Mortality_meningitis  \\\n",
       "Poverty_level              1.000000              0.755028   \n",
       "Mortality_meningitis       0.755028              1.000000   \n",
       "Mortality_Diarrheal       -0.004185              0.016492   \n",
       "Mortality_Infant           0.615467              0.723628   \n",
       "\n",
       "                      Mortality_Diarrheal  Mortality_Infant  \n",
       "Poverty_level                   -0.004185          0.615467  \n",
       "Mortality_meningitis             0.016492          0.723628  \n",
       "Mortality_Diarrheal              1.000000          0.045732  \n",
       "Mortality_Infant                 0.045732          1.000000  "
      ]
     },
     "execution_count": 16,
     "metadata": {},
     "output_type": "execute_result"
    }
   ],
   "source": [
    "DATA[['Poverty_level','Mortality_meningitis','Mortality_Diarrheal','Mortality_Infant']].corr()"
   ]
  },
  {
   "cell_type": "markdown",
   "id": "97d71d64",
   "metadata": {},
   "source": [
    "- Note: There is slightly different in calculating the correlation coefficients before and after merging the data, because there are 52 regions in Census data, 51 regions in GHDx data and 50 regions in CDC data. I merge them all together and then do the analysis. So the final dataset contains 50 regions for mortality of meningitis, Diarrheal and infant. The correlation coefficient is slightly different from data in census and GHXx. Hope you can understand.\n",
    "\n",
    "1. The correlation coefficients between Poverty rates and Mortality rates of Meningitis is 0.755028;\n",
    "\n",
    "2. The correlation coefficients between Poverty rates and Mortality rates of Diarrheal deseases is -0.004185;\n",
    "\n",
    "3. The correlation coefficients between Poverty rates and infant mortality is 0.615467\t;"
   ]
  },
  {
   "cell_type": "markdown",
   "id": "87a12e32",
   "metadata": {},
   "source": [
    "1. correlation coefficients with bootstrapped confidence intervals for Poverty rates and Mortality rates of Meningitis"
   ]
  },
  {
   "cell_type": "code",
   "execution_count": 17,
   "id": "200f9cd4",
   "metadata": {},
   "outputs": [
    {
     "data": {
      "text/plain": [
       "array([0.60673995, 0.85719759])"
      ]
     },
     "execution_count": 17,
     "metadata": {},
     "output_type": "execute_result"
    }
   ],
   "source": [
    "NBOOT = 10000\n",
    "boot_corrs = np.empty(NBOOT)\n",
    "for i in range(NBOOT):\n",
    "    samp = DATA.sample(n=len(DATA), replace=True)\n",
    "    boot_corrs[i] = samp['Poverty_level'].corr(samp['Mortality_meningitis'])\n",
    "np.quantile(boot_corrs, [0.025, 0.975])"
   ]
  },
  {
   "cell_type": "markdown",
   "id": "d7efec30",
   "metadata": {},
   "source": [
    "2. correlation coefficients with bootstrapped confidence intervals for Poverty rates and Mortality rates of Diarrheal deseases"
   ]
  },
  {
   "cell_type": "code",
   "execution_count": 18,
   "id": "585d0bb2",
   "metadata": {},
   "outputs": [
    {
     "data": {
      "text/plain": [
       "array([-0.29492049,  0.27780326])"
      ]
     },
     "execution_count": 18,
     "metadata": {},
     "output_type": "execute_result"
    }
   ],
   "source": [
    "NBOOT = 10000\n",
    "boot_corrs = np.empty(NBOOT)\n",
    "for i in range(NBOOT):\n",
    "    samp = DATA.sample(n=len(DATA), replace=True)\n",
    "    boot_corrs[i] = samp['Poverty_level'].corr(samp['Mortality_Diarrheal'])\n",
    "np.quantile(boot_corrs, [0.025, 0.975])"
   ]
  },
  {
   "cell_type": "markdown",
   "id": "e916d0ea",
   "metadata": {},
   "source": [
    "3. correlation coefficients with bootstrapped confidence intervals for Poverty rates and infant mortality"
   ]
  },
  {
   "cell_type": "code",
   "execution_count": 19,
   "id": "ead07344",
   "metadata": {},
   "outputs": [
    {
     "data": {
      "text/plain": [
       "array([0.40063057, 0.78557212])"
      ]
     },
     "execution_count": 19,
     "metadata": {},
     "output_type": "execute_result"
    }
   ],
   "source": [
    "NBOOT = 10000\n",
    "boot_corrs = np.empty(NBOOT)\n",
    "for i in range(NBOOT):\n",
    "    samp = DATA.sample(n=len(DATA), replace=True)\n",
    "    boot_corrs[i] = samp['Poverty_level'].corr(samp['Mortality_Infant'])\n",
    "np.quantile(boot_corrs, [0.025, 0.975])"
   ]
  },
  {
   "cell_type": "markdown",
   "id": "58e28a37",
   "metadata": {},
   "source": [
    "The distribution of poverty level of states is almost symmetric.\n",
    "\n",
    "The poverty rates has a relatively high relationship (r=0.76) with the motality rates of Meningitis while the relationship with the motality rates of Diarrheal diseases is quiet low (r=-0.006). There is an obvious relationship between the poverty rates and infant mortality rates.\n",
    "\n",
    "We didn't know whether it is people who are under the poverty line die in diseases as we only know the relationship between poverty rates and motality rates. It is better to understand the inherent mechanism."
   ]
  },
  {
   "cell_type": "code",
   "execution_count": null,
   "id": "a31c3e92",
   "metadata": {},
   "outputs": [],
   "source": []
  }
 ],
 "metadata": {
  "kernelspec": {
   "display_name": "Python 3",
   "language": "python",
   "name": "python3"
  },
  "language_info": {
   "codemirror_mode": {
    "name": "ipython",
    "version": 3
   },
   "file_extension": ".py",
   "mimetype": "text/x-python",
   "name": "python",
   "nbconvert_exporter": "python",
   "pygments_lexer": "ipython3",
   "version": "3.8.8"
  }
 },
 "nbformat": 4,
 "nbformat_minor": 5
}
