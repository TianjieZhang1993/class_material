{
 "cells": [
  {
   "cell_type": "markdown",
   "metadata": {},
   "source": [
    "# Assignment 2 Solution\n",
    "\n",
    "This is my solution to [Assignment 2](https://cs533.ekstrandom.net/assignments/a2/).\n",
    "\n",
    "In this notebook we are exploring two-variable relationships in the [HETREC 2011 Movie data](https://grouplens.org/datasets/hetrec-2011/)."
   ]
  },
  {
   "cell_type": "markdown",
   "metadata": {},
   "source": [
    "## Setup\n",
    "\n",
    "Let's start with our modules:"
   ]
  },
  {
   "cell_type": "code",
   "execution_count": 2,
   "metadata": {},
   "outputs": [],
   "source": [
    "import pandas as pd\n",
    "import numpy as np\n",
    "import scipy.stats as sps\n",
    "import matplotlib.pyplot as plt\n",
    "import seaborn as sns\n",
    "import statsmodels.api as sm\n",
    "import statsmodels.formula.api as smf"
   ]
  },
  {
   "cell_type": "code",
   "execution_count": 4,
   "metadata": {},
   "outputs": [],
   "source": [
    "np.random.seed(20210926)"
   ]
  },
  {
   "cell_type": "markdown",
   "metadata": {},
   "source": [
    "### Movie Data\n",
    "\n",
    "We're going to need the Movie data - let's go ahead and index by movie:"
   ]
  },
  {
   "cell_type": "code",
   "execution_count": 7,
   "metadata": {},
   "outputs": [
    {
     "data": {
      "text/html": [
       "<div>\n",
       "<style scoped>\n",
       "    .dataframe tbody tr th:only-of-type {\n",
       "        vertical-align: middle;\n",
       "    }\n",
       "\n",
       "    .dataframe tbody tr th {\n",
       "        vertical-align: top;\n",
       "    }\n",
       "\n",
       "    .dataframe thead th {\n",
       "        text-align: right;\n",
       "    }\n",
       "</style>\n",
       "<table border=\"1\" class=\"dataframe\">\n",
       "  <thead>\n",
       "    <tr style=\"text-align: right;\">\n",
       "      <th></th>\n",
       "      <th>title</th>\n",
       "      <th>imdbID</th>\n",
       "      <th>spanishTitle</th>\n",
       "      <th>imdbPictureURL</th>\n",
       "      <th>year</th>\n",
       "      <th>rtID</th>\n",
       "      <th>rtAllCriticsRating</th>\n",
       "      <th>rtAllCriticsNumReviews</th>\n",
       "      <th>rtAllCriticsNumFresh</th>\n",
       "      <th>rtAllCriticsNumRotten</th>\n",
       "      <th>rtAllCriticsScore</th>\n",
       "      <th>rtTopCriticsRating</th>\n",
       "      <th>rtTopCriticsNumReviews</th>\n",
       "      <th>rtTopCriticsNumFresh</th>\n",
       "      <th>rtTopCriticsNumRotten</th>\n",
       "      <th>rtTopCriticsScore</th>\n",
       "      <th>rtAudienceRating</th>\n",
       "      <th>rtAudienceNumRatings</th>\n",
       "      <th>rtAudienceScore</th>\n",
       "      <th>rtPictureURL</th>\n",
       "    </tr>\n",
       "    <tr>\n",
       "      <th>id</th>\n",
       "      <th></th>\n",
       "      <th></th>\n",
       "      <th></th>\n",
       "      <th></th>\n",
       "      <th></th>\n",
       "      <th></th>\n",
       "      <th></th>\n",
       "      <th></th>\n",
       "      <th></th>\n",
       "      <th></th>\n",
       "      <th></th>\n",
       "      <th></th>\n",
       "      <th></th>\n",
       "      <th></th>\n",
       "      <th></th>\n",
       "      <th></th>\n",
       "      <th></th>\n",
       "      <th></th>\n",
       "      <th></th>\n",
       "      <th></th>\n",
       "    </tr>\n",
       "  </thead>\n",
       "  <tbody>\n",
       "    <tr>\n",
       "      <th>1</th>\n",
       "      <td>Toy story</td>\n",
       "      <td>114709</td>\n",
       "      <td>Toy story (juguetes)</td>\n",
       "      <td>http://ia.media-imdb.com/images/M/MV5BMTMwNDU0...</td>\n",
       "      <td>1995</td>\n",
       "      <td>toy_story</td>\n",
       "      <td>9.0</td>\n",
       "      <td>73.0</td>\n",
       "      <td>73.0</td>\n",
       "      <td>0.0</td>\n",
       "      <td>100.0</td>\n",
       "      <td>8.5</td>\n",
       "      <td>17.0</td>\n",
       "      <td>17.0</td>\n",
       "      <td>0.0</td>\n",
       "      <td>100.0</td>\n",
       "      <td>3.7</td>\n",
       "      <td>102338.0</td>\n",
       "      <td>81.0</td>\n",
       "      <td>http://content7.flixster.com/movie/10/93/63/10...</td>\n",
       "    </tr>\n",
       "    <tr>\n",
       "      <th>2</th>\n",
       "      <td>Jumanji</td>\n",
       "      <td>113497</td>\n",
       "      <td>Jumanji</td>\n",
       "      <td>http://ia.media-imdb.com/images/M/MV5BMzM5NjE1...</td>\n",
       "      <td>1995</td>\n",
       "      <td>1068044-jumanji</td>\n",
       "      <td>5.6</td>\n",
       "      <td>28.0</td>\n",
       "      <td>13.0</td>\n",
       "      <td>15.0</td>\n",
       "      <td>46.0</td>\n",
       "      <td>5.8</td>\n",
       "      <td>5.0</td>\n",
       "      <td>2.0</td>\n",
       "      <td>3.0</td>\n",
       "      <td>40.0</td>\n",
       "      <td>3.2</td>\n",
       "      <td>44587.0</td>\n",
       "      <td>61.0</td>\n",
       "      <td>http://content8.flixster.com/movie/56/79/73/56...</td>\n",
       "    </tr>\n",
       "    <tr>\n",
       "      <th>3</th>\n",
       "      <td>Grumpy Old Men</td>\n",
       "      <td>107050</td>\n",
       "      <td>Dos viejos gruñones</td>\n",
       "      <td>http://ia.media-imdb.com/images/M/MV5BMTI5MTgy...</td>\n",
       "      <td>1993</td>\n",
       "      <td>grumpy_old_men</td>\n",
       "      <td>5.9</td>\n",
       "      <td>36.0</td>\n",
       "      <td>24.0</td>\n",
       "      <td>12.0</td>\n",
       "      <td>66.0</td>\n",
       "      <td>7.0</td>\n",
       "      <td>6.0</td>\n",
       "      <td>5.0</td>\n",
       "      <td>1.0</td>\n",
       "      <td>83.0</td>\n",
       "      <td>3.2</td>\n",
       "      <td>10489.0</td>\n",
       "      <td>66.0</td>\n",
       "      <td>http://content6.flixster.com/movie/25/60/25602...</td>\n",
       "    </tr>\n",
       "    <tr>\n",
       "      <th>4</th>\n",
       "      <td>Waiting to Exhale</td>\n",
       "      <td>114885</td>\n",
       "      <td>Esperando un respiro</td>\n",
       "      <td>http://ia.media-imdb.com/images/M/MV5BMTczMTMy...</td>\n",
       "      <td>1995</td>\n",
       "      <td>waiting_to_exhale</td>\n",
       "      <td>5.6</td>\n",
       "      <td>25.0</td>\n",
       "      <td>14.0</td>\n",
       "      <td>11.0</td>\n",
       "      <td>56.0</td>\n",
       "      <td>5.5</td>\n",
       "      <td>11.0</td>\n",
       "      <td>5.0</td>\n",
       "      <td>6.0</td>\n",
       "      <td>45.0</td>\n",
       "      <td>3.3</td>\n",
       "      <td>5666.0</td>\n",
       "      <td>79.0</td>\n",
       "      <td>http://content9.flixster.com/movie/10/94/17/10...</td>\n",
       "    </tr>\n",
       "    <tr>\n",
       "      <th>5</th>\n",
       "      <td>Father of the Bride Part II</td>\n",
       "      <td>113041</td>\n",
       "      <td>Vuelve el padre de la novia (Ahora también abu...</td>\n",
       "      <td>http://ia.media-imdb.com/images/M/MV5BMTg1NDc2...</td>\n",
       "      <td>1995</td>\n",
       "      <td>father_of_the_bride_part_ii</td>\n",
       "      <td>5.3</td>\n",
       "      <td>19.0</td>\n",
       "      <td>9.0</td>\n",
       "      <td>10.0</td>\n",
       "      <td>47.0</td>\n",
       "      <td>5.4</td>\n",
       "      <td>5.0</td>\n",
       "      <td>1.0</td>\n",
       "      <td>4.0</td>\n",
       "      <td>20.0</td>\n",
       "      <td>3.0</td>\n",
       "      <td>13761.0</td>\n",
       "      <td>64.0</td>\n",
       "      <td>http://content8.flixster.com/movie/25/54/25542...</td>\n",
       "    </tr>\n",
       "  </tbody>\n",
       "</table>\n",
       "</div>"
      ],
      "text/plain": [
       "                          title  imdbID  \\\n",
       "id                                        \n",
       "1                     Toy story  114709   \n",
       "2                       Jumanji  113497   \n",
       "3                Grumpy Old Men  107050   \n",
       "4             Waiting to Exhale  114885   \n",
       "5   Father of the Bride Part II  113041   \n",
       "\n",
       "                                         spanishTitle  \\\n",
       "id                                                      \n",
       "1                                Toy story (juguetes)   \n",
       "2                                             Jumanji   \n",
       "3                                 Dos viejos gruñones   \n",
       "4                                Esperando un respiro   \n",
       "5   Vuelve el padre de la novia (Ahora también abu...   \n",
       "\n",
       "                                       imdbPictureURL  year  \\\n",
       "id                                                            \n",
       "1   http://ia.media-imdb.com/images/M/MV5BMTMwNDU0...  1995   \n",
       "2   http://ia.media-imdb.com/images/M/MV5BMzM5NjE1...  1995   \n",
       "3   http://ia.media-imdb.com/images/M/MV5BMTI5MTgy...  1993   \n",
       "4   http://ia.media-imdb.com/images/M/MV5BMTczMTMy...  1995   \n",
       "5   http://ia.media-imdb.com/images/M/MV5BMTg1NDc2...  1995   \n",
       "\n",
       "                           rtID  rtAllCriticsRating  rtAllCriticsNumReviews  \\\n",
       "id                                                                            \n",
       "1                     toy_story                 9.0                    73.0   \n",
       "2               1068044-jumanji                 5.6                    28.0   \n",
       "3                grumpy_old_men                 5.9                    36.0   \n",
       "4             waiting_to_exhale                 5.6                    25.0   \n",
       "5   father_of_the_bride_part_ii                 5.3                    19.0   \n",
       "\n",
       "    rtAllCriticsNumFresh  rtAllCriticsNumRotten  rtAllCriticsScore  \\\n",
       "id                                                                   \n",
       "1                   73.0                    0.0              100.0   \n",
       "2                   13.0                   15.0               46.0   \n",
       "3                   24.0                   12.0               66.0   \n",
       "4                   14.0                   11.0               56.0   \n",
       "5                    9.0                   10.0               47.0   \n",
       "\n",
       "    rtTopCriticsRating  rtTopCriticsNumReviews  rtTopCriticsNumFresh  \\\n",
       "id                                                                     \n",
       "1                  8.5                    17.0                  17.0   \n",
       "2                  5.8                     5.0                   2.0   \n",
       "3                  7.0                     6.0                   5.0   \n",
       "4                  5.5                    11.0                   5.0   \n",
       "5                  5.4                     5.0                   1.0   \n",
       "\n",
       "    rtTopCriticsNumRotten  rtTopCriticsScore  rtAudienceRating  \\\n",
       "id                                                               \n",
       "1                     0.0              100.0               3.7   \n",
       "2                     3.0               40.0               3.2   \n",
       "3                     1.0               83.0               3.2   \n",
       "4                     6.0               45.0               3.3   \n",
       "5                     4.0               20.0               3.0   \n",
       "\n",
       "    rtAudienceNumRatings  rtAudienceScore  \\\n",
       "id                                          \n",
       "1               102338.0             81.0   \n",
       "2                44587.0             61.0   \n",
       "3                10489.0             66.0   \n",
       "4                 5666.0             79.0   \n",
       "5                13761.0             64.0   \n",
       "\n",
       "                                         rtPictureURL  \n",
       "id                                                     \n",
       "1   http://content7.flixster.com/movie/10/93/63/10...  \n",
       "2   http://content8.flixster.com/movie/56/79/73/56...  \n",
       "3   http://content6.flixster.com/movie/25/60/25602...  \n",
       "4   http://content9.flixster.com/movie/10/94/17/10...  \n",
       "5   http://content8.flixster.com/movie/25/54/25542...  "
      ]
     },
     "execution_count": 7,
     "metadata": {},
     "output_type": "execute_result"
    }
   ],
   "source": [
    "raw_movies = pd.read_table('../data/hetrec2011-ml/movies.dat', sep='\\t', na_values=['\\\\N'], encoding='latin1')\n",
    "raw_movies = raw_movies.set_index('id')\n",
    "raw_movies.head()"
   ]
  },
  {
   "cell_type": "markdown",
   "metadata": {},
   "source": [
    "How big is this frame?"
   ]
  },
  {
   "cell_type": "code",
   "execution_count": 8,
   "metadata": {},
   "outputs": [
    {
     "name": "stdout",
     "output_type": "stream",
     "text": [
      "<class 'pandas.core.frame.DataFrame'>\n",
      "Int64Index: 10197 entries, 1 to 65133\n",
      "Data columns (total 20 columns):\n",
      " #   Column                  Non-Null Count  Dtype  \n",
      "---  ------                  --------------  -----  \n",
      " 0   title                   10197 non-null  object \n",
      " 1   imdbID                  10197 non-null  int64  \n",
      " 2   spanishTitle            10197 non-null  object \n",
      " 3   imdbPictureURL          10016 non-null  object \n",
      " 4   year                    10197 non-null  int64  \n",
      " 5   rtID                    9886 non-null   object \n",
      " 6   rtAllCriticsRating      9967 non-null   float64\n",
      " 7   rtAllCriticsNumReviews  9967 non-null   float64\n",
      " 8   rtAllCriticsNumFresh    9967 non-null   float64\n",
      " 9   rtAllCriticsNumRotten   9967 non-null   float64\n",
      " 10  rtAllCriticsScore       9967 non-null   float64\n",
      " 11  rtTopCriticsRating      9967 non-null   float64\n",
      " 12  rtTopCriticsNumReviews  9967 non-null   float64\n",
      " 13  rtTopCriticsNumFresh    9967 non-null   float64\n",
      " 14  rtTopCriticsNumRotten   9967 non-null   float64\n",
      " 15  rtTopCriticsScore       9967 non-null   float64\n",
      " 16  rtAudienceRating        9967 non-null   float64\n",
      " 17  rtAudienceNumRatings    9967 non-null   float64\n",
      " 18  rtAudienceScore         9967 non-null   float64\n",
      " 19  rtPictureURL            9967 non-null   object \n",
      "dtypes: float64(13), int64(2), object(5)\n",
      "memory usage: 1.6+ MB\n"
     ]
    }
   ],
   "source": [
    "raw_movies.info()"
   ]
  },
  {
   "cell_type": "markdown",
   "metadata": {},
   "source": [
    "20 columns and 10K movies.\n",
    "\n",
    "Now, as noted in [Missing Data](https://cs533.ekstrandom.net/resources/tutorials/missingdata/), a lot of Rotten Tomatoes columns use zeros to record missing data.  Since a 'rating' is the average of 1-5 or 1-10 star ratings, 0 is an invalid value, so we assume those are actually missing.  Let's create a simplified movies frame that just has the fields we need, and replaces those zeros with missing values."
   ]
  },
  {
   "cell_type": "code",
   "execution_count": 9,
   "metadata": {},
   "outputs": [
    {
     "data": {
      "text/html": [
       "<div>\n",
       "<style scoped>\n",
       "    .dataframe tbody tr th:only-of-type {\n",
       "        vertical-align: middle;\n",
       "    }\n",
       "\n",
       "    .dataframe tbody tr th {\n",
       "        vertical-align: top;\n",
       "    }\n",
       "\n",
       "    .dataframe thead th {\n",
       "        text-align: right;\n",
       "    }\n",
       "</style>\n",
       "<table border=\"1\" class=\"dataframe\">\n",
       "  <thead>\n",
       "    <tr style=\"text-align: right;\">\n",
       "      <th></th>\n",
       "      <th>title</th>\n",
       "      <th>AllCritics</th>\n",
       "      <th>TopCritics</th>\n",
       "      <th>Audience</th>\n",
       "    </tr>\n",
       "    <tr>\n",
       "      <th>id</th>\n",
       "      <th></th>\n",
       "      <th></th>\n",
       "      <th></th>\n",
       "      <th></th>\n",
       "    </tr>\n",
       "  </thead>\n",
       "  <tbody>\n",
       "    <tr>\n",
       "      <th>1</th>\n",
       "      <td>Toy story</td>\n",
       "      <td>9.0</td>\n",
       "      <td>8.5</td>\n",
       "      <td>3.7</td>\n",
       "    </tr>\n",
       "    <tr>\n",
       "      <th>2</th>\n",
       "      <td>Jumanji</td>\n",
       "      <td>5.6</td>\n",
       "      <td>5.8</td>\n",
       "      <td>3.2</td>\n",
       "    </tr>\n",
       "    <tr>\n",
       "      <th>3</th>\n",
       "      <td>Grumpy Old Men</td>\n",
       "      <td>5.9</td>\n",
       "      <td>7.0</td>\n",
       "      <td>3.2</td>\n",
       "    </tr>\n",
       "    <tr>\n",
       "      <th>4</th>\n",
       "      <td>Waiting to Exhale</td>\n",
       "      <td>5.6</td>\n",
       "      <td>5.5</td>\n",
       "      <td>3.3</td>\n",
       "    </tr>\n",
       "    <tr>\n",
       "      <th>5</th>\n",
       "      <td>Father of the Bride Part II</td>\n",
       "      <td>5.3</td>\n",
       "      <td>5.4</td>\n",
       "      <td>3.0</td>\n",
       "    </tr>\n",
       "  </tbody>\n",
       "</table>\n",
       "</div>"
      ],
      "text/plain": [
       "                          title  AllCritics  TopCritics  Audience\n",
       "id                                                               \n",
       "1                     Toy story         9.0         8.5       3.7\n",
       "2                       Jumanji         5.6         5.8       3.2\n",
       "3                Grumpy Old Men         5.9         7.0       3.2\n",
       "4             Waiting to Exhale         5.6         5.5       3.3\n",
       "5   Father of the Bride Part II         5.3         5.4       3.0"
      ]
     },
     "execution_count": 9,
     "metadata": {},
     "output_type": "execute_result"
    }
   ],
   "source": [
    "movies = raw_movies[['title', 'rtAllCriticsRating', 'rtTopCriticsRating', 'rtAudienceRating']]\n",
    "movies = movies.copy()  # so changes don't change original data\n",
    "movies.rename(columns={\n",
    "    'rtAllCriticsRating': 'AllCritics',\n",
    "    'rtTopCriticsRating': 'TopCritics',\n",
    "    'rtAudienceRating': 'Audience'\n",
    "}, inplace=True)\n",
    "movies.head()"
   ]
  },
  {
   "cell_type": "markdown",
   "metadata": {},
   "source": [
    "And now we can clear zeros:"
   ]
  },
  {
   "cell_type": "code",
   "execution_count": 10,
   "metadata": {},
   "outputs": [],
   "source": [
    "movies.loc[movies['AllCritics'] == 0, 'AllCritics'] = np.nan\n",
    "movies.loc[movies['TopCritics'] == 0, 'TopCritics'] = np.nan\n",
    "movies.loc[movies['Audience'] == 0, 'Audience'] = np.nan"
   ]
  },
  {
   "cell_type": "code",
   "execution_count": 11,
   "metadata": {},
   "outputs": [
    {
     "data": {
      "text/html": [
       "<div>\n",
       "<style scoped>\n",
       "    .dataframe tbody tr th:only-of-type {\n",
       "        vertical-align: middle;\n",
       "    }\n",
       "\n",
       "    .dataframe tbody tr th {\n",
       "        vertical-align: top;\n",
       "    }\n",
       "\n",
       "    .dataframe thead th {\n",
       "        text-align: right;\n",
       "    }\n",
       "</style>\n",
       "<table border=\"1\" class=\"dataframe\">\n",
       "  <thead>\n",
       "    <tr style=\"text-align: right;\">\n",
       "      <th></th>\n",
       "      <th>AllCritics</th>\n",
       "      <th>TopCritics</th>\n",
       "      <th>Audience</th>\n",
       "    </tr>\n",
       "  </thead>\n",
       "  <tbody>\n",
       "    <tr>\n",
       "      <th>count</th>\n",
       "      <td>8441.000000</td>\n",
       "      <td>4662.000000</td>\n",
       "      <td>7345.000000</td>\n",
       "    </tr>\n",
       "    <tr>\n",
       "      <th>mean</th>\n",
       "      <td>6.068404</td>\n",
       "      <td>5.930330</td>\n",
       "      <td>3.389258</td>\n",
       "    </tr>\n",
       "    <tr>\n",
       "      <th>std</th>\n",
       "      <td>1.526898</td>\n",
       "      <td>1.534093</td>\n",
       "      <td>0.454034</td>\n",
       "    </tr>\n",
       "    <tr>\n",
       "      <th>min</th>\n",
       "      <td>1.200000</td>\n",
       "      <td>1.600000</td>\n",
       "      <td>1.500000</td>\n",
       "    </tr>\n",
       "    <tr>\n",
       "      <th>25%</th>\n",
       "      <td>5.000000</td>\n",
       "      <td>4.800000</td>\n",
       "      <td>3.100000</td>\n",
       "    </tr>\n",
       "    <tr>\n",
       "      <th>50%</th>\n",
       "      <td>6.200000</td>\n",
       "      <td>6.100000</td>\n",
       "      <td>3.400000</td>\n",
       "    </tr>\n",
       "    <tr>\n",
       "      <th>75%</th>\n",
       "      <td>7.200000</td>\n",
       "      <td>7.100000</td>\n",
       "      <td>3.700000</td>\n",
       "    </tr>\n",
       "    <tr>\n",
       "      <th>max</th>\n",
       "      <td>9.600000</td>\n",
       "      <td>10.000000</td>\n",
       "      <td>5.000000</td>\n",
       "    </tr>\n",
       "  </tbody>\n",
       "</table>\n",
       "</div>"
      ],
      "text/plain": [
       "        AllCritics   TopCritics     Audience\n",
       "count  8441.000000  4662.000000  7345.000000\n",
       "mean      6.068404     5.930330     3.389258\n",
       "std       1.526898     1.534093     0.454034\n",
       "min       1.200000     1.600000     1.500000\n",
       "25%       5.000000     4.800000     3.100000\n",
       "50%       6.200000     6.100000     3.400000\n",
       "75%       7.200000     7.100000     3.700000\n",
       "max       9.600000    10.000000     5.000000"
      ]
     },
     "execution_count": 11,
     "metadata": {},
     "output_type": "execute_result"
    }
   ],
   "source": [
    "movies.describe()"
   ]
  },
  {
   "cell_type": "code",
   "execution_count": 12,
   "metadata": {},
   "outputs": [
    {
     "name": "stdout",
     "output_type": "stream",
     "text": [
      "<class 'pandas.core.frame.DataFrame'>\n",
      "Int64Index: 10197 entries, 1 to 65133\n",
      "Data columns (total 4 columns):\n",
      " #   Column      Non-Null Count  Dtype  \n",
      "---  ------      --------------  -----  \n",
      " 0   title       10197 non-null  object \n",
      " 1   AllCritics  8441 non-null   float64\n",
      " 2   TopCritics  4662 non-null   float64\n",
      " 3   Audience    7345 non-null   float64\n",
      "dtypes: float64(3), object(1)\n",
      "memory usage: 398.3+ KB\n"
     ]
    }
   ],
   "source": [
    "movies.info()"
   ]
  },
  {
   "cell_type": "markdown",
   "metadata": {},
   "source": [
    "### Ratings\n",
    "\n",
    "We also need the MovieLens ratings for each movie:"
   ]
  },
  {
   "cell_type": "code",
   "execution_count": 13,
   "metadata": {},
   "outputs": [
    {
     "data": {
      "text/html": [
       "<div>\n",
       "<style scoped>\n",
       "    .dataframe tbody tr th:only-of-type {\n",
       "        vertical-align: middle;\n",
       "    }\n",
       "\n",
       "    .dataframe tbody tr th {\n",
       "        vertical-align: top;\n",
       "    }\n",
       "\n",
       "    .dataframe thead th {\n",
       "        text-align: right;\n",
       "    }\n",
       "</style>\n",
       "<table border=\"1\" class=\"dataframe\">\n",
       "  <thead>\n",
       "    <tr style=\"text-align: right;\">\n",
       "      <th></th>\n",
       "      <th>userID</th>\n",
       "      <th>movieID</th>\n",
       "      <th>rating</th>\n",
       "      <th>timestamp</th>\n",
       "    </tr>\n",
       "  </thead>\n",
       "  <tbody>\n",
       "    <tr>\n",
       "      <th>0</th>\n",
       "      <td>75</td>\n",
       "      <td>3</td>\n",
       "      <td>1.0</td>\n",
       "      <td>1162160236000</td>\n",
       "    </tr>\n",
       "    <tr>\n",
       "      <th>1</th>\n",
       "      <td>75</td>\n",
       "      <td>32</td>\n",
       "      <td>4.5</td>\n",
       "      <td>1162160624000</td>\n",
       "    </tr>\n",
       "    <tr>\n",
       "      <th>2</th>\n",
       "      <td>75</td>\n",
       "      <td>110</td>\n",
       "      <td>4.0</td>\n",
       "      <td>1162161008000</td>\n",
       "    </tr>\n",
       "    <tr>\n",
       "      <th>3</th>\n",
       "      <td>75</td>\n",
       "      <td>160</td>\n",
       "      <td>2.0</td>\n",
       "      <td>1162160212000</td>\n",
       "    </tr>\n",
       "    <tr>\n",
       "      <th>4</th>\n",
       "      <td>75</td>\n",
       "      <td>163</td>\n",
       "      <td>4.0</td>\n",
       "      <td>1162160970000</td>\n",
       "    </tr>\n",
       "  </tbody>\n",
       "</table>\n",
       "</div>"
      ],
      "text/plain": [
       "   userID  movieID  rating      timestamp\n",
       "0      75        3     1.0  1162160236000\n",
       "1      75       32     4.5  1162160624000\n",
       "2      75      110     4.0  1162161008000\n",
       "3      75      160     2.0  1162160212000\n",
       "4      75      163     4.0  1162160970000"
      ]
     },
     "execution_count": 13,
     "metadata": {},
     "output_type": "execute_result"
    }
   ],
   "source": [
    "ratings = pd.read_table('../data/hetrec2011-ml/user_ratedmovies-timestamps.dat', sep='\\t')\n",
    "ratings.head()"
   ]
  },
  {
   "cell_type": "code",
   "execution_count": 14,
   "metadata": {},
   "outputs": [
    {
     "name": "stdout",
     "output_type": "stream",
     "text": [
      "<class 'pandas.core.frame.DataFrame'>\n",
      "RangeIndex: 855598 entries, 0 to 855597\n",
      "Data columns (total 4 columns):\n",
      " #   Column     Non-Null Count   Dtype  \n",
      "---  ------     --------------   -----  \n",
      " 0   userID     855598 non-null  int64  \n",
      " 1   movieID    855598 non-null  int64  \n",
      " 2   rating     855598 non-null  float64\n",
      " 3   timestamp  855598 non-null  int64  \n",
      "dtypes: float64(1), int64(3)\n",
      "memory usage: 26.1 MB\n"
     ]
    }
   ],
   "source": [
    "ratings.info()"
   ]
  },
  {
   "cell_type": "code",
   "execution_count": 15,
   "metadata": {},
   "outputs": [
    {
     "data": {
      "text/plain": [
       "count    855598.000000\n",
       "mean          3.437945\n",
       "std           1.002561\n",
       "min           0.500000\n",
       "25%           3.000000\n",
       "50%           3.500000\n",
       "75%           4.000000\n",
       "max           5.000000\n",
       "Name: rating, dtype: float64"
      ]
     },
     "execution_count": 15,
     "metadata": {},
     "output_type": "execute_result"
    }
   ],
   "source": [
    "ratings['rating'].describe()"
   ]
  },
  {
   "cell_type": "markdown",
   "metadata": {},
   "source": [
    "856K ratings - ok!\n",
    "\n",
    "Later on, we are going to need movie statistics. Let's compute those now:"
   ]
  },
  {
   "cell_type": "code",
   "execution_count": 16,
   "metadata": {},
   "outputs": [
    {
     "data": {
      "text/html": [
       "<div>\n",
       "<style scoped>\n",
       "    .dataframe tbody tr th:only-of-type {\n",
       "        vertical-align: middle;\n",
       "    }\n",
       "\n",
       "    .dataframe tbody tr th {\n",
       "        vertical-align: top;\n",
       "    }\n",
       "\n",
       "    .dataframe thead th {\n",
       "        text-align: right;\n",
       "    }\n",
       "</style>\n",
       "<table border=\"1\" class=\"dataframe\">\n",
       "  <thead>\n",
       "    <tr style=\"text-align: right;\">\n",
       "      <th></th>\n",
       "      <th>count</th>\n",
       "      <th>mean</th>\n",
       "    </tr>\n",
       "    <tr>\n",
       "      <th>movieID</th>\n",
       "      <th></th>\n",
       "      <th></th>\n",
       "    </tr>\n",
       "  </thead>\n",
       "  <tbody>\n",
       "    <tr>\n",
       "      <th>1</th>\n",
       "      <td>1263</td>\n",
       "      <td>3.735154</td>\n",
       "    </tr>\n",
       "    <tr>\n",
       "      <th>2</th>\n",
       "      <td>765</td>\n",
       "      <td>2.976471</td>\n",
       "    </tr>\n",
       "    <tr>\n",
       "      <th>3</th>\n",
       "      <td>252</td>\n",
       "      <td>2.873016</td>\n",
       "    </tr>\n",
       "    <tr>\n",
       "      <th>4</th>\n",
       "      <td>45</td>\n",
       "      <td>2.577778</td>\n",
       "    </tr>\n",
       "    <tr>\n",
       "      <th>5</th>\n",
       "      <td>225</td>\n",
       "      <td>2.753333</td>\n",
       "    </tr>\n",
       "  </tbody>\n",
       "</table>\n",
       "</div>"
      ],
      "text/plain": [
       "         count      mean\n",
       "movieID                 \n",
       "1         1263  3.735154\n",
       "2          765  2.976471\n",
       "3          252  2.873016\n",
       "4           45  2.577778\n",
       "5          225  2.753333"
      ]
     },
     "execution_count": 16,
     "metadata": {},
     "output_type": "execute_result"
    }
   ],
   "source": [
    "movie_stats = ratings.groupby('movieID')['rating'].agg(['count', 'mean'])\n",
    "movie_stats.head()"
   ]
  },
  {
   "cell_type": "markdown",
   "metadata": {},
   "source": [
    "By way of description, let's look at the distribution of rating counts.  This will be heavily skewed, so it's going to be easeist to draw either with a log-log plot or with a *cumulative distribution chart* with a log-scaled X axis:"
   ]
  },
  {
   "cell_type": "code",
   "execution_count": 17,
   "metadata": {},
   "outputs": [
    {
     "data": {
      "image/png": "[encoded data removed]",
      "text/plain": [
       "<Figure size 432x288 with 1 Axes>"
      ]
     },
     "metadata": {
      "needs_background": "light"
     },
     "output_type": "display_data"
    }
   ],
   "source": [
    "movie_pops = movie_stats['count'].value_counts().sort_index()\n",
    "movie_cdf = movie_pops.cumsum() / movie_pops.sum()\n",
    "movie_cdf.plot()\n",
    "plt.xscale('log')\n",
    "plt.xlabel('Number of Ratings')\n",
    "plt.ylabel('Cumulative Fraction of Movies')\n",
    "plt.title('Distribution of Movie Popularity')\n",
    "plt.show()"
   ]
  },
  {
   "cell_type": "markdown",
   "metadata": {},
   "source": [
    "### Supplemental Movie Information\n",
    "\n",
    "We're going to need movie genres as well, so load those:"
   ]
  },
  {
   "cell_type": "code",
   "execution_count": 23,
   "metadata": {},
   "outputs": [
    {
     "data": {
      "text/html": [
       "<div>\n",
       "<style scoped>\n",
       "    .dataframe tbody tr th:only-of-type {\n",
       "        vertical-align: middle;\n",
       "    }\n",
       "\n",
       "    .dataframe tbody tr th {\n",
       "        vertical-align: top;\n",
       "    }\n",
       "\n",
       "    .dataframe thead th {\n",
       "        text-align: right;\n",
       "    }\n",
       "</style>\n",
       "<table border=\"1\" class=\"dataframe\">\n",
       "  <thead>\n",
       "    <tr style=\"text-align: right;\">\n",
       "      <th></th>\n",
       "      <th>movieID</th>\n",
       "      <th>genre</th>\n",
       "    </tr>\n",
       "  </thead>\n",
       "  <tbody>\n",
       "    <tr>\n",
       "      <th>0</th>\n",
       "      <td>1</td>\n",
       "      <td>Adventure</td>\n",
       "    </tr>\n",
       "    <tr>\n",
       "      <th>1</th>\n",
       "      <td>1</td>\n",
       "      <td>Animation</td>\n",
       "    </tr>\n",
       "    <tr>\n",
       "      <th>2</th>\n",
       "      <td>1</td>\n",
       "      <td>Children</td>\n",
       "    </tr>\n",
       "    <tr>\n",
       "      <th>3</th>\n",
       "      <td>1</td>\n",
       "      <td>Comedy</td>\n",
       "    </tr>\n",
       "    <tr>\n",
       "      <th>4</th>\n",
       "      <td>1</td>\n",
       "      <td>Fantasy</td>\n",
       "    </tr>\n",
       "  </tbody>\n",
       "</table>\n",
       "</div>"
      ],
      "text/plain": [
       "   movieID      genre\n",
       "0        1  Adventure\n",
       "1        1  Animation\n",
       "2        1   Children\n",
       "3        1     Comedy\n",
       "4        1    Fantasy"
      ]
     },
     "execution_count": 23,
     "metadata": {},
     "output_type": "execute_result"
    }
   ],
   "source": [
    "movie_genres = pd.read_table('../data/hetrec2011-ml/movie_genres.dat', sep='\\t')\n",
    "movie_genres.head()"
   ]
  },
  {
   "cell_type": "code",
   "execution_count": 24,
   "metadata": {},
   "outputs": [
    {
     "name": "stdout",
     "output_type": "stream",
     "text": [
      "<class 'pandas.core.frame.DataFrame'>\n",
      "RangeIndex: 20809 entries, 0 to 20808\n",
      "Data columns (total 2 columns):\n",
      " #   Column   Non-Null Count  Dtype \n",
      "---  ------   --------------  ----- \n",
      " 0   movieID  20809 non-null  int64 \n",
      " 1   genre    20809 non-null  object\n",
      "dtypes: int64(1), object(1)\n",
      "memory usage: 325.3+ KB\n"
     ]
    }
   ],
   "source": [
    "movie_genres.info()"
   ]
  },
  {
   "cell_type": "markdown",
   "metadata": {},
   "source": [
    "21K movie-genre records. By way of description, let's see how common different genres are:"
   ]
  },
  {
   "cell_type": "code",
   "execution_count": 25,
   "metadata": {},
   "outputs": [
    {
     "data": {
      "text/plain": [
       "<AxesSubplot:xlabel='count', ylabel='genre'>"
      ]
     },
     "execution_count": 25,
     "metadata": {},
     "output_type": "execute_result"
    },
    {
     "data": {
      "image/png": "[encoded data removed]",
      "text/plain": [
       "<Figure size 432x288 with 1 Axes>"
      ]
     },
     "metadata": {
      "needs_background": "light"
     },
     "output_type": "display_data"
    }
   ],
   "source": [
    "sns.countplot(y=movie_genres['genre'])"
   ]
  },
  {
   "cell_type": "markdown",
   "metadata": {},
   "source": [
    "## Comparing Ratings\n",
    "\n",
    "Now we're going to compare ratings:\n",
    "\n",
    "* All Critics and Top Critics\n",
    "* RottenTomatoes audience and MovieLens audience\n",
    "\n",
    "For this, we're going to need to augment our movies with an additional column - the mean rating from MovieLens.  Since we already computed MovieLens stats, we can do this with a join (left join, to keep ML as it is):"
   ]
  },
  {
   "cell_type": "code",
   "execution_count": 26,
   "metadata": {},
   "outputs": [
    {
     "data": {
      "text/html": [
       "<div>\n",
       "<style scoped>\n",
       "    .dataframe tbody tr th:only-of-type {\n",
       "        vertical-align: middle;\n",
       "    }\n",
       "\n",
       "    .dataframe tbody tr th {\n",
       "        vertical-align: top;\n",
       "    }\n",
       "\n",
       "    .dataframe thead th {\n",
       "        text-align: right;\n",
       "    }\n",
       "</style>\n",
       "<table border=\"1\" class=\"dataframe\">\n",
       "  <thead>\n",
       "    <tr style=\"text-align: right;\">\n",
       "      <th></th>\n",
       "      <th>title</th>\n",
       "      <th>AllCritics</th>\n",
       "      <th>TopCritics</th>\n",
       "      <th>Audience</th>\n",
       "      <th>MovieLens</th>\n",
       "    </tr>\n",
       "    <tr>\n",
       "      <th>id</th>\n",
       "      <th></th>\n",
       "      <th></th>\n",
       "      <th></th>\n",
       "      <th></th>\n",
       "      <th></th>\n",
       "    </tr>\n",
       "  </thead>\n",
       "  <tbody>\n",
       "    <tr>\n",
       "      <th>1</th>\n",
       "      <td>Toy story</td>\n",
       "      <td>9.0</td>\n",
       "      <td>8.5</td>\n",
       "      <td>3.7</td>\n",
       "      <td>3.735154</td>\n",
       "    </tr>\n",
       "    <tr>\n",
       "      <th>2</th>\n",
       "      <td>Jumanji</td>\n",
       "      <td>5.6</td>\n",
       "      <td>5.8</td>\n",
       "      <td>3.2</td>\n",
       "      <td>2.976471</td>\n",
       "    </tr>\n",
       "    <tr>\n",
       "      <th>3</th>\n",
       "      <td>Grumpy Old Men</td>\n",
       "      <td>5.9</td>\n",
       "      <td>7.0</td>\n",
       "      <td>3.2</td>\n",
       "      <td>2.873016</td>\n",
       "    </tr>\n",
       "    <tr>\n",
       "      <th>4</th>\n",
       "      <td>Waiting to Exhale</td>\n",
       "      <td>5.6</td>\n",
       "      <td>5.5</td>\n",
       "      <td>3.3</td>\n",
       "      <td>2.577778</td>\n",
       "    </tr>\n",
       "    <tr>\n",
       "      <th>5</th>\n",
       "      <td>Father of the Bride Part II</td>\n",
       "      <td>5.3</td>\n",
       "      <td>5.4</td>\n",
       "      <td>3.0</td>\n",
       "      <td>2.753333</td>\n",
       "    </tr>\n",
       "  </tbody>\n",
       "</table>\n",
       "</div>"
      ],
      "text/plain": [
       "                          title  AllCritics  TopCritics  Audience  MovieLens\n",
       "id                                                                          \n",
       "1                     Toy story         9.0         8.5       3.7   3.735154\n",
       "2                       Jumanji         5.6         5.8       3.2   2.976471\n",
       "3                Grumpy Old Men         5.9         7.0       3.2   2.873016\n",
       "4             Waiting to Exhale         5.6         5.5       3.3   2.577778\n",
       "5   Father of the Bride Part II         5.3         5.4       3.0   2.753333"
      ]
     },
     "execution_count": 26,
     "metadata": {},
     "output_type": "execute_result"
    }
   ],
   "source": [
    "movies = movies.join(movie_stats['mean'].to_frame('MovieLens'), how='left')\n",
    "movies.head()"
   ]
  },
  {
   "cell_type": "markdown",
   "metadata": {},
   "source": [
    "### Describing Distributions\n",
    "\n",
    "Our task is now to describre the distributions of the four movie rating columns.  I'm going to do this quickly with one set of columns and plots.  First the numeric description:"
   ]
  },
  {
   "cell_type": "code",
   "execution_count": 27,
   "metadata": {},
   "outputs": [
    {
     "data": {
      "text/html": [
       "<div>\n",
       "<style scoped>\n",
       "    .dataframe tbody tr th:only-of-type {\n",
       "        vertical-align: middle;\n",
       "    }\n",
       "\n",
       "    .dataframe tbody tr th {\n",
       "        vertical-align: top;\n",
       "    }\n",
       "\n",
       "    .dataframe thead th {\n",
       "        text-align: right;\n",
       "    }\n",
       "</style>\n",
       "<table border=\"1\" class=\"dataframe\">\n",
       "  <thead>\n",
       "    <tr style=\"text-align: right;\">\n",
       "      <th></th>\n",
       "      <th>AllCritics</th>\n",
       "      <th>TopCritics</th>\n",
       "      <th>Audience</th>\n",
       "      <th>MovieLens</th>\n",
       "    </tr>\n",
       "  </thead>\n",
       "  <tbody>\n",
       "    <tr>\n",
       "      <th>count</th>\n",
       "      <td>8441.000000</td>\n",
       "      <td>4662.000000</td>\n",
       "      <td>7345.000000</td>\n",
       "      <td>10109.000000</td>\n",
       "    </tr>\n",
       "    <tr>\n",
       "      <th>mean</th>\n",
       "      <td>6.068404</td>\n",
       "      <td>5.930330</td>\n",
       "      <td>3.389258</td>\n",
       "      <td>3.213406</td>\n",
       "    </tr>\n",
       "    <tr>\n",
       "      <th>std</th>\n",
       "      <td>1.526898</td>\n",
       "      <td>1.534093</td>\n",
       "      <td>0.454034</td>\n",
       "      <td>0.640538</td>\n",
       "    </tr>\n",
       "    <tr>\n",
       "      <th>min</th>\n",
       "      <td>1.200000</td>\n",
       "      <td>1.600000</td>\n",
       "      <td>1.500000</td>\n",
       "      <td>0.500000</td>\n",
       "    </tr>\n",
       "    <tr>\n",
       "      <th>25%</th>\n",
       "      <td>5.000000</td>\n",
       "      <td>4.800000</td>\n",
       "      <td>3.100000</td>\n",
       "      <td>2.851293</td>\n",
       "    </tr>\n",
       "    <tr>\n",
       "      <th>50%</th>\n",
       "      <td>6.200000</td>\n",
       "      <td>6.100000</td>\n",
       "      <td>3.400000</td>\n",
       "      <td>3.312415</td>\n",
       "    </tr>\n",
       "    <tr>\n",
       "      <th>75%</th>\n",
       "      <td>7.200000</td>\n",
       "      <td>7.100000</td>\n",
       "      <td>3.700000</td>\n",
       "      <td>3.681452</td>\n",
       "    </tr>\n",
       "    <tr>\n",
       "      <th>max</th>\n",
       "      <td>9.600000</td>\n",
       "      <td>10.000000</td>\n",
       "      <td>5.000000</td>\n",
       "      <td>5.000000</td>\n",
       "    </tr>\n",
       "  </tbody>\n",
       "</table>\n",
       "</div>"
      ],
      "text/plain": [
       "        AllCritics   TopCritics     Audience     MovieLens\n",
       "count  8441.000000  4662.000000  7345.000000  10109.000000\n",
       "mean      6.068404     5.930330     3.389258      3.213406\n",
       "std       1.526898     1.534093     0.454034      0.640538\n",
       "min       1.200000     1.600000     1.500000      0.500000\n",
       "25%       5.000000     4.800000     3.100000      2.851293\n",
       "50%       6.200000     6.100000     3.400000      3.312415\n",
       "75%       7.200000     7.100000     3.700000      3.681452\n",
       "max       9.600000    10.000000     5.000000      5.000000"
      ]
     },
     "execution_count": 27,
     "metadata": {},
     "output_type": "execute_result"
    }
   ],
   "source": [
    "movies.drop(columns=['title']).describe()"
   ]
  },
  {
   "cell_type": "markdown",
   "metadata": {},
   "source": [
    "All and top critics have comparable means, all is slightly higher.  All four ratings have slight left skew (median is higher than mean).\n",
    "\n",
    "Let's visualize them."
   ]
  },
  {
   "cell_type": "code",
   "execution_count": 28,
   "metadata": {},
   "outputs": [
    {
     "data": {
      "image/png": "[encoded data removed]",
      "text/plain": [
       "<Figure size 432x288 with 4 Axes>"
      ]
     },
     "metadata": {
      "needs_background": "light"
     },
     "output_type": "display_data"
    }
   ],
   "source": [
    "movies.hist(bins=20)\n",
    "plt.show()"
   ]
  },
  {
   "cell_type": "markdown",
   "metadata": {},
   "source": [
    "Let skew is showing up here too!  To really highlight what's going on, we would carefully align them so that Critics and Audience are in columns, and X axes are matched so we can directly compare All/Top and Audience/ML.  I'm not going to do that right now."
   ]
  },
  {
   "cell_type": "markdown",
   "metadata": {},
   "source": [
    "### Critic Rating Differences\n",
    "\n",
    "We now want to look at the *differnce* between top and all critics. We're going to do this with All - Top:"
   ]
  },
  {
   "cell_type": "code",
   "execution_count": 29,
   "metadata": {},
   "outputs": [
    {
     "data": {
      "text/plain": [
       "count    4662.000000\n",
       "mean        0.094123\n",
       "std         0.549673\n",
       "min        -2.200000\n",
       "25%        -0.200000\n",
       "50%         0.100000\n",
       "75%         0.400000\n",
       "max         3.200000\n",
       "Name: CritDiff, dtype: float64"
      ]
     },
     "execution_count": 29,
     "metadata": {},
     "output_type": "execute_result"
    }
   ],
   "source": [
    "movies['CritDiff'] = movies['AllCritics'] - movies['TopCritics']\n",
    "movies['CritDiff'].describe()"
   ]
  },
  {
   "cell_type": "markdown",
   "metadata": {},
   "source": [
    "A positive mean (and median) indicates that, on average, top critics probably underestimate all-critic ratings. We'll test that formally with the T-test, of course.\n",
    "\n",
    "But let's plot this distribution:"
   ]
  },
  {
   "cell_type": "code",
   "execution_count": 36,
   "metadata": {
    "scrolled": false
   },
   "outputs": [
    {
     "data": {
      "image/png": "[encoded data removed]",
      "text/plain": [
       "<Figure size 360x360 with 1 Axes>"
      ]
     },
     "metadata": {
      "needs_background": "light"
     },
     "output_type": "display_data"
    }
   ],
   "source": [
    "sns.displot(x=movies['CritDiff'], kde=True, bins=50)\n",
    "plt.xlabel('Critic Difference (All - Top)')\n",
    "plt.show()"
   ]
  },
  {
   "cell_type": "markdown",
   "metadata": {},
   "source": [
    "We've got an extra spike at approximately 0.5 stars.  Otherwise it's a pretty symmetric difference, centered close to zero (but as the numeric stats indicate, the center point is just above zero), and approximately normal.."
   ]
  },
  {
   "cell_type": "markdown",
   "metadata": {},
   "source": [
    "### Testing Differences\n",
    "\n",
    "Now we're going to use the **paired T-test** to test the difference in critic ratings: do top-critic ratings statistically significantly differ from all-critic ratings?"
   ]
  },
  {
   "cell_type": "code",
   "execution_count": 37,
   "metadata": {},
   "outputs": [
    {
     "data": {
      "text/plain": [
       "Ttest_relResult(statistic=11.691646881769836, pvalue=3.8130588929989856e-31)"
      ]
     },
     "execution_count": 37,
     "metadata": {},
     "output_type": "execute_result"
    }
   ],
   "source": [
    "sps.ttest_rel(movies['AllCritics'], movies['TopCritics'], nan_policy='omit')"
   ]
  },
  {
   "cell_type": "markdown",
   "metadata": {},
   "source": [
    "That is an extremely small $p$-value.  We're going to go with 'significant'.\n",
    "\n",
    "Now compare MovieLens to the RT audience:"
   ]
  },
  {
   "cell_type": "code",
   "execution_count": 38,
   "metadata": {},
   "outputs": [
    {
     "data": {
      "text/plain": [
       "Ttest_relResult(statistic=27.766895811705442, pvalue=2.038842597476695e-161)"
      ]
     },
     "execution_count": 38,
     "metadata": {},
     "output_type": "execute_result"
    }
   ],
   "source": [
    "sps.ttest_rel(movies['Audience'], movies['MovieLens'], nan_policy='omit')"
   ]
  },
  {
   "cell_type": "markdown",
   "metadata": {},
   "source": [
    "Even smaller.\n",
    "\n",
    "This is **not surprising**, because we very large sample sizes."
   ]
  },
  {
   "cell_type": "markdown",
   "metadata": {},
   "source": [
    "## Confidence Intervals\n",
    "\n",
    "Now we're going to move to the confidence interval portion of the assignment - look at average ratings between genres.\n",
    "\n",
    "Let's merge genres with movies:"
   ]
  },
  {
   "cell_type": "code",
   "execution_count": 39,
   "metadata": {},
   "outputs": [
    {
     "data": {
      "text/html": [
       "<div>\n",
       "<style scoped>\n",
       "    .dataframe tbody tr th:only-of-type {\n",
       "        vertical-align: middle;\n",
       "    }\n",
       "\n",
       "    .dataframe tbody tr th {\n",
       "        vertical-align: top;\n",
       "    }\n",
       "\n",
       "    .dataframe thead th {\n",
       "        text-align: right;\n",
       "    }\n",
       "</style>\n",
       "<table border=\"1\" class=\"dataframe\">\n",
       "  <thead>\n",
       "    <tr style=\"text-align: right;\">\n",
       "      <th></th>\n",
       "      <th>movieID</th>\n",
       "      <th>genre</th>\n",
       "      <th>title</th>\n",
       "      <th>AllCritics</th>\n",
       "      <th>TopCritics</th>\n",
       "      <th>Audience</th>\n",
       "      <th>MovieLens</th>\n",
       "      <th>CritDiff</th>\n",
       "    </tr>\n",
       "  </thead>\n",
       "  <tbody>\n",
       "    <tr>\n",
       "      <th>0</th>\n",
       "      <td>1</td>\n",
       "      <td>Adventure</td>\n",
       "      <td>Toy story</td>\n",
       "      <td>9.0</td>\n",
       "      <td>8.5</td>\n",
       "      <td>3.7</td>\n",
       "      <td>3.735154</td>\n",
       "      <td>0.5</td>\n",
       "    </tr>\n",
       "    <tr>\n",
       "      <th>1</th>\n",
       "      <td>1</td>\n",
       "      <td>Animation</td>\n",
       "      <td>Toy story</td>\n",
       "      <td>9.0</td>\n",
       "      <td>8.5</td>\n",
       "      <td>3.7</td>\n",
       "      <td>3.735154</td>\n",
       "      <td>0.5</td>\n",
       "    </tr>\n",
       "    <tr>\n",
       "      <th>2</th>\n",
       "      <td>1</td>\n",
       "      <td>Children</td>\n",
       "      <td>Toy story</td>\n",
       "      <td>9.0</td>\n",
       "      <td>8.5</td>\n",
       "      <td>3.7</td>\n",
       "      <td>3.735154</td>\n",
       "      <td>0.5</td>\n",
       "    </tr>\n",
       "    <tr>\n",
       "      <th>3</th>\n",
       "      <td>1</td>\n",
       "      <td>Comedy</td>\n",
       "      <td>Toy story</td>\n",
       "      <td>9.0</td>\n",
       "      <td>8.5</td>\n",
       "      <td>3.7</td>\n",
       "      <td>3.735154</td>\n",
       "      <td>0.5</td>\n",
       "    </tr>\n",
       "    <tr>\n",
       "      <th>4</th>\n",
       "      <td>1</td>\n",
       "      <td>Fantasy</td>\n",
       "      <td>Toy story</td>\n",
       "      <td>9.0</td>\n",
       "      <td>8.5</td>\n",
       "      <td>3.7</td>\n",
       "      <td>3.735154</td>\n",
       "      <td>0.5</td>\n",
       "    </tr>\n",
       "  </tbody>\n",
       "</table>\n",
       "</div>"
      ],
      "text/plain": [
       "   movieID      genre      title  AllCritics  TopCritics  Audience  MovieLens  \\\n",
       "0        1  Adventure  Toy story         9.0         8.5       3.7   3.735154   \n",
       "1        1  Animation  Toy story         9.0         8.5       3.7   3.735154   \n",
       "2        1   Children  Toy story         9.0         8.5       3.7   3.735154   \n",
       "3        1     Comedy  Toy story         9.0         8.5       3.7   3.735154   \n",
       "4        1    Fantasy  Toy story         9.0         8.5       3.7   3.735154   \n",
       "\n",
       "   CritDiff  \n",
       "0       0.5  \n",
       "1       0.5  \n",
       "2       0.5  \n",
       "3       0.5  \n",
       "4       0.5  "
      ]
     },
     "execution_count": 39,
     "metadata": {},
     "output_type": "execute_result"
    }
   ],
   "source": [
    "genre_movies = movie_genres.join(movies, on='movieID')\n",
    "genre_movies.head()"
   ]
  },
  {
   "cell_type": "markdown",
   "metadata": {},
   "source": [
    "Now we can group by genre to compute statistics of the all-critics score.  The `sem` aggregate computes the *standard error of the mean*, which we'll use for the confidence intervals:"
   ]
  },
  {
   "cell_type": "code",
   "execution_count": 40,
   "metadata": {},
   "outputs": [
    {
     "data": {
      "text/html": [
       "<div>\n",
       "<style scoped>\n",
       "    .dataframe tbody tr th:only-of-type {\n",
       "        vertical-align: middle;\n",
       "    }\n",
       "\n",
       "    .dataframe tbody tr th {\n",
       "        vertical-align: top;\n",
       "    }\n",
       "\n",
       "    .dataframe thead th {\n",
       "        text-align: right;\n",
       "    }\n",
       "</style>\n",
       "<table border=\"1\" class=\"dataframe\">\n",
       "  <thead>\n",
       "    <tr style=\"text-align: right;\">\n",
       "      <th></th>\n",
       "      <th>mean</th>\n",
       "      <th>count</th>\n",
       "      <th>std</th>\n",
       "      <th>sem</th>\n",
       "    </tr>\n",
       "    <tr>\n",
       "      <th>genre</th>\n",
       "      <th></th>\n",
       "      <th></th>\n",
       "      <th></th>\n",
       "      <th></th>\n",
       "    </tr>\n",
       "  </thead>\n",
       "  <tbody>\n",
       "    <tr>\n",
       "      <th>Action</th>\n",
       "      <td>5.574497</td>\n",
       "      <td>1192</td>\n",
       "      <td>1.560583</td>\n",
       "      <td>0.045201</td>\n",
       "    </tr>\n",
       "    <tr>\n",
       "      <th>Adventure</th>\n",
       "      <td>5.952876</td>\n",
       "      <td>817</td>\n",
       "      <td>1.519157</td>\n",
       "      <td>0.053149</td>\n",
       "    </tr>\n",
       "    <tr>\n",
       "      <th>Animation</th>\n",
       "      <td>6.343404</td>\n",
       "      <td>235</td>\n",
       "      <td>1.393417</td>\n",
       "      <td>0.090897</td>\n",
       "    </tr>\n",
       "    <tr>\n",
       "      <th>Children</th>\n",
       "      <td>5.779864</td>\n",
       "      <td>442</td>\n",
       "      <td>1.532010</td>\n",
       "      <td>0.072870</td>\n",
       "    </tr>\n",
       "    <tr>\n",
       "      <th>Comedy</th>\n",
       "      <td>5.732409</td>\n",
       "      <td>3030</td>\n",
       "      <td>1.546115</td>\n",
       "      <td>0.028088</td>\n",
       "    </tr>\n",
       "  </tbody>\n",
       "</table>\n",
       "</div>"
      ],
      "text/plain": [
       "               mean  count       std       sem\n",
       "genre                                         \n",
       "Action     5.574497   1192  1.560583  0.045201\n",
       "Adventure  5.952876    817  1.519157  0.053149\n",
       "Animation  6.343404    235  1.393417  0.090897\n",
       "Children   5.779864    442  1.532010  0.072870\n",
       "Comedy     5.732409   3030  1.546115  0.028088"
      ]
     },
     "execution_count": 40,
     "metadata": {},
     "output_type": "execute_result"
    }
   ],
   "source": [
    "genre_scores = genre_movies.groupby('genre')['AllCritics'].agg(['mean', 'count', 'std', 'sem'])\n",
    "genre_scores.head()"
   ]
  },
  {
   "cell_type": "markdown",
   "metadata": {},
   "source": [
    "Now we need to do two more things:\n",
    "\n",
    "1. Compute the 95% CS (± 1.96 SEM)\n",
    "2. Sort by decreasing mean"
   ]
  },
  {
   "cell_type": "code",
   "execution_count": 41,
   "metadata": {},
   "outputs": [
    {
     "data": {
      "text/html": [
       "<div>\n",
       "<style scoped>\n",
       "    .dataframe tbody tr th:only-of-type {\n",
       "        vertical-align: middle;\n",
       "    }\n",
       "\n",
       "    .dataframe tbody tr th {\n",
       "        vertical-align: top;\n",
       "    }\n",
       "\n",
       "    .dataframe thead th {\n",
       "        text-align: right;\n",
       "    }\n",
       "</style>\n",
       "<table border=\"1\" class=\"dataframe\">\n",
       "  <thead>\n",
       "    <tr style=\"text-align: right;\">\n",
       "      <th></th>\n",
       "      <th>mean</th>\n",
       "      <th>count</th>\n",
       "      <th>std</th>\n",
       "      <th>sem</th>\n",
       "      <th>ci_lo</th>\n",
       "      <th>ci_hi</th>\n",
       "    </tr>\n",
       "    <tr>\n",
       "      <th>genre</th>\n",
       "      <th></th>\n",
       "      <th></th>\n",
       "      <th></th>\n",
       "      <th></th>\n",
       "      <th></th>\n",
       "      <th></th>\n",
       "    </tr>\n",
       "  </thead>\n",
       "  <tbody>\n",
       "    <tr>\n",
       "      <th>Film-Noir</th>\n",
       "      <td>7.253543</td>\n",
       "      <td>127</td>\n",
       "      <td>1.273527</td>\n",
       "      <td>0.113007</td>\n",
       "      <td>7.032049</td>\n",
       "      <td>7.475038</td>\n",
       "    </tr>\n",
       "    <tr>\n",
       "      <th>Documentary</th>\n",
       "      <td>7.129641</td>\n",
       "      <td>334</td>\n",
       "      <td>0.979147</td>\n",
       "      <td>0.053577</td>\n",
       "      <td>7.024631</td>\n",
       "      <td>7.234651</td>\n",
       "    </tr>\n",
       "    <tr>\n",
       "      <th>IMAX</th>\n",
       "      <td>6.950000</td>\n",
       "      <td>16</td>\n",
       "      <td>0.747440</td>\n",
       "      <td>0.186860</td>\n",
       "      <td>6.583754</td>\n",
       "      <td>7.316246</td>\n",
       "    </tr>\n",
       "    <tr>\n",
       "      <th>War</th>\n",
       "      <td>6.753351</td>\n",
       "      <td>388</td>\n",
       "      <td>1.354775</td>\n",
       "      <td>0.068778</td>\n",
       "      <td>6.618545</td>\n",
       "      <td>6.888156</td>\n",
       "    </tr>\n",
       "    <tr>\n",
       "      <th>Western</th>\n",
       "      <td>6.613472</td>\n",
       "      <td>193</td>\n",
       "      <td>1.394007</td>\n",
       "      <td>0.100343</td>\n",
       "      <td>6.416800</td>\n",
       "      <td>6.810143</td>\n",
       "    </tr>\n",
       "    <tr>\n",
       "      <th>Musical</th>\n",
       "      <td>6.483573</td>\n",
       "      <td>347</td>\n",
       "      <td>1.319328</td>\n",
       "      <td>0.070825</td>\n",
       "      <td>6.344756</td>\n",
       "      <td>6.622391</td>\n",
       "    </tr>\n",
       "    <tr>\n",
       "      <th>Drama</th>\n",
       "      <td>6.462657</td>\n",
       "      <td>4306</td>\n",
       "      <td>1.337138</td>\n",
       "      <td>0.020377</td>\n",
       "      <td>6.422718</td>\n",
       "      <td>6.502596</td>\n",
       "    </tr>\n",
       "    <tr>\n",
       "      <th>Animation</th>\n",
       "      <td>6.343404</td>\n",
       "      <td>235</td>\n",
       "      <td>1.393417</td>\n",
       "      <td>0.090897</td>\n",
       "      <td>6.165247</td>\n",
       "      <td>6.521561</td>\n",
       "    </tr>\n",
       "    <tr>\n",
       "      <th>Mystery</th>\n",
       "      <td>6.228571</td>\n",
       "      <td>434</td>\n",
       "      <td>1.488513</td>\n",
       "      <td>0.071451</td>\n",
       "      <td>6.088528</td>\n",
       "      <td>6.368615</td>\n",
       "    </tr>\n",
       "    <tr>\n",
       "      <th>Romance</th>\n",
       "      <td>6.194744</td>\n",
       "      <td>1427</td>\n",
       "      <td>1.432974</td>\n",
       "      <td>0.037934</td>\n",
       "      <td>6.120394</td>\n",
       "      <td>6.269094</td>\n",
       "    </tr>\n",
       "    <tr>\n",
       "      <th>Crime</th>\n",
       "      <td>6.161612</td>\n",
       "      <td>943</td>\n",
       "      <td>1.494892</td>\n",
       "      <td>0.048680</td>\n",
       "      <td>6.066198</td>\n",
       "      <td>6.257025</td>\n",
       "    </tr>\n",
       "    <tr>\n",
       "      <th>Fantasy</th>\n",
       "      <td>6.023362</td>\n",
       "      <td>458</td>\n",
       "      <td>1.577800</td>\n",
       "      <td>0.073726</td>\n",
       "      <td>5.878860</td>\n",
       "      <td>6.167865</td>\n",
       "    </tr>\n",
       "    <tr>\n",
       "      <th>Adventure</th>\n",
       "      <td>5.952876</td>\n",
       "      <td>817</td>\n",
       "      <td>1.519157</td>\n",
       "      <td>0.053149</td>\n",
       "      <td>5.848705</td>\n",
       "      <td>6.057048</td>\n",
       "    </tr>\n",
       "    <tr>\n",
       "      <th>Thriller</th>\n",
       "      <td>5.856680</td>\n",
       "      <td>1452</td>\n",
       "      <td>1.503450</td>\n",
       "      <td>0.039455</td>\n",
       "      <td>5.779348</td>\n",
       "      <td>5.934013</td>\n",
       "    </tr>\n",
       "    <tr>\n",
       "      <th>Children</th>\n",
       "      <td>5.779864</td>\n",
       "      <td>442</td>\n",
       "      <td>1.532010</td>\n",
       "      <td>0.072870</td>\n",
       "      <td>5.637039</td>\n",
       "      <td>5.922690</td>\n",
       "    </tr>\n",
       "    <tr>\n",
       "      <th>Comedy</th>\n",
       "      <td>5.732409</td>\n",
       "      <td>3030</td>\n",
       "      <td>1.546115</td>\n",
       "      <td>0.028088</td>\n",
       "      <td>5.677357</td>\n",
       "      <td>5.787462</td>\n",
       "    </tr>\n",
       "    <tr>\n",
       "      <th>Action</th>\n",
       "      <td>5.574497</td>\n",
       "      <td>1192</td>\n",
       "      <td>1.560583</td>\n",
       "      <td>0.045201</td>\n",
       "      <td>5.485903</td>\n",
       "      <td>5.663091</td>\n",
       "    </tr>\n",
       "    <tr>\n",
       "      <th>Sci-Fi</th>\n",
       "      <td>5.567601</td>\n",
       "      <td>571</td>\n",
       "      <td>1.554942</td>\n",
       "      <td>0.065072</td>\n",
       "      <td>5.440059</td>\n",
       "      <td>5.695142</td>\n",
       "    </tr>\n",
       "    <tr>\n",
       "      <th>Horror</th>\n",
       "      <td>5.471046</td>\n",
       "      <td>784</td>\n",
       "      <td>1.601864</td>\n",
       "      <td>0.057209</td>\n",
       "      <td>5.358915</td>\n",
       "      <td>5.583176</td>\n",
       "    </tr>\n",
       "    <tr>\n",
       "      <th>Short</th>\n",
       "      <td>NaN</td>\n",
       "      <td>0</td>\n",
       "      <td>NaN</td>\n",
       "      <td>NaN</td>\n",
       "      <td>NaN</td>\n",
       "      <td>NaN</td>\n",
       "    </tr>\n",
       "  </tbody>\n",
       "</table>\n",
       "</div>"
      ],
      "text/plain": [
       "                 mean  count       std       sem     ci_lo     ci_hi\n",
       "genre                                                               \n",
       "Film-Noir    7.253543    127  1.273527  0.113007  7.032049  7.475038\n",
       "Documentary  7.129641    334  0.979147  0.053577  7.024631  7.234651\n",
       "IMAX         6.950000     16  0.747440  0.186860  6.583754  7.316246\n",
       "War          6.753351    388  1.354775  0.068778  6.618545  6.888156\n",
       "Western      6.613472    193  1.394007  0.100343  6.416800  6.810143\n",
       "Musical      6.483573    347  1.319328  0.070825  6.344756  6.622391\n",
       "Drama        6.462657   4306  1.337138  0.020377  6.422718  6.502596\n",
       "Animation    6.343404    235  1.393417  0.090897  6.165247  6.521561\n",
       "Mystery      6.228571    434  1.488513  0.071451  6.088528  6.368615\n",
       "Romance      6.194744   1427  1.432974  0.037934  6.120394  6.269094\n",
       "Crime        6.161612    943  1.494892  0.048680  6.066198  6.257025\n",
       "Fantasy      6.023362    458  1.577800  0.073726  5.878860  6.167865\n",
       "Adventure    5.952876    817  1.519157  0.053149  5.848705  6.057048\n",
       "Thriller     5.856680   1452  1.503450  0.039455  5.779348  5.934013\n",
       "Children     5.779864    442  1.532010  0.072870  5.637039  5.922690\n",
       "Comedy       5.732409   3030  1.546115  0.028088  5.677357  5.787462\n",
       "Action       5.574497   1192  1.560583  0.045201  5.485903  5.663091\n",
       "Sci-Fi       5.567601    571  1.554942  0.065072  5.440059  5.695142\n",
       "Horror       5.471046    784  1.601864  0.057209  5.358915  5.583176\n",
       "Short             NaN      0       NaN       NaN       NaN       NaN"
      ]
     },
     "execution_count": 41,
     "metadata": {},
     "output_type": "execute_result"
    }
   ],
   "source": [
    "genre_scores['ci_lo'] = genre_scores['mean'] - 1.96 * genre_scores['sem']\n",
    "genre_scores['ci_hi'] = genre_scores['mean'] + 1.96 * genre_scores['sem']\n",
    "genre_scores.sort_values('mean', ascending=False, inplace=True)\n",
    "genre_scores"
   ]
  },
  {
   "cell_type": "markdown",
   "metadata": {},
   "source": [
    "The top two scores are *Film-Noir* and *Documentary*, with mean critic scores of 7.25 and 7.13, respectively. Their CIs have **substantial overlap**, so we can't conclude that this score difference reflects a difference in general opinion.\n",
    "\n",
    "The top and bottom genres (*Film-Noir* and *Horror*, however, have a large gap between confidence intervals.  Likely a real difference - the data are consistent with the idea that critics view film-noir movies more highly than horror films.\n",
    "\n",
    "Now let's bootstrap it!  We'll write a bootstrap CI function, that also returns the mean for convenience:"
   ]
  },
  {
   "cell_type": "code",
   "execution_count": 42,
   "metadata": {},
   "outputs": [],
   "source": [
    "def boot_mean(scores, nboot=10000):\n",
    "    strim = scores.dropna()\n",
    "    n = len(strim)\n",
    "    if n == 0:\n",
    "        return None\n",
    "    mean = np.mean(strim)\n",
    "    boot_means = [np.mean(np.random.choice(strim, n, replace=True)) for i in range(nboot)]\n",
    "    ci_lo, ci_hi = np.quantile(boot_means, [0.025, 0.975])\n",
    "    return pd.Series({\n",
    "        'mean': mean,\n",
    "        'count': n,\n",
    "        'ci_lo': ci_lo,\n",
    "        'ci_high': ci_hi\n",
    "    })"
   ]
  },
  {
   "cell_type": "code",
   "execution_count": 43,
   "metadata": {},
   "outputs": [
    {
     "data": {
      "text/html": [
       "<div>\n",
       "<style scoped>\n",
       "    .dataframe tbody tr th:only-of-type {\n",
       "        vertical-align: middle;\n",
       "    }\n",
       "\n",
       "    .dataframe tbody tr th {\n",
       "        vertical-align: top;\n",
       "    }\n",
       "\n",
       "    .dataframe thead th {\n",
       "        text-align: right;\n",
       "    }\n",
       "</style>\n",
       "<table border=\"1\" class=\"dataframe\">\n",
       "  <thead>\n",
       "    <tr style=\"text-align: right;\">\n",
       "      <th></th>\n",
       "      <th>mean</th>\n",
       "      <th>count</th>\n",
       "      <th>ci_lo</th>\n",
       "      <th>ci_high</th>\n",
       "    </tr>\n",
       "    <tr>\n",
       "      <th>genre</th>\n",
       "      <th></th>\n",
       "      <th></th>\n",
       "      <th></th>\n",
       "      <th></th>\n",
       "    </tr>\n",
       "  </thead>\n",
       "  <tbody>\n",
       "    <tr>\n",
       "      <th>Film-Noir</th>\n",
       "      <td>7.253543</td>\n",
       "      <td>127.0</td>\n",
       "      <td>7.029134</td>\n",
       "      <td>7.468504</td>\n",
       "    </tr>\n",
       "    <tr>\n",
       "      <th>Documentary</th>\n",
       "      <td>7.129641</td>\n",
       "      <td>334.0</td>\n",
       "      <td>7.025142</td>\n",
       "      <td>7.234439</td>\n",
       "    </tr>\n",
       "    <tr>\n",
       "      <th>IMAX</th>\n",
       "      <td>6.950000</td>\n",
       "      <td>16.0</td>\n",
       "      <td>6.600000</td>\n",
       "      <td>7.306250</td>\n",
       "    </tr>\n",
       "    <tr>\n",
       "      <th>War</th>\n",
       "      <td>6.753351</td>\n",
       "      <td>388.0</td>\n",
       "      <td>6.618035</td>\n",
       "      <td>6.886598</td>\n",
       "    </tr>\n",
       "    <tr>\n",
       "      <th>Western</th>\n",
       "      <td>6.613472</td>\n",
       "      <td>193.0</td>\n",
       "      <td>6.416049</td>\n",
       "      <td>6.808808</td>\n",
       "    </tr>\n",
       "    <tr>\n",
       "      <th>Musical</th>\n",
       "      <td>6.483573</td>\n",
       "      <td>347.0</td>\n",
       "      <td>6.343213</td>\n",
       "      <td>6.617579</td>\n",
       "    </tr>\n",
       "    <tr>\n",
       "      <th>Drama</th>\n",
       "      <td>6.462657</td>\n",
       "      <td>4306.0</td>\n",
       "      <td>6.422689</td>\n",
       "      <td>6.502531</td>\n",
       "    </tr>\n",
       "    <tr>\n",
       "      <th>Animation</th>\n",
       "      <td>6.343404</td>\n",
       "      <td>235.0</td>\n",
       "      <td>6.165532</td>\n",
       "      <td>6.518309</td>\n",
       "    </tr>\n",
       "    <tr>\n",
       "      <th>Mystery</th>\n",
       "      <td>6.228571</td>\n",
       "      <td>434.0</td>\n",
       "      <td>6.086861</td>\n",
       "      <td>6.367972</td>\n",
       "    </tr>\n",
       "    <tr>\n",
       "      <th>Romance</th>\n",
       "      <td>6.194744</td>\n",
       "      <td>1427.0</td>\n",
       "      <td>6.120463</td>\n",
       "      <td>6.267554</td>\n",
       "    </tr>\n",
       "    <tr>\n",
       "      <th>Crime</th>\n",
       "      <td>6.161612</td>\n",
       "      <td>943.0</td>\n",
       "      <td>6.064578</td>\n",
       "      <td>6.257055</td>\n",
       "    </tr>\n",
       "    <tr>\n",
       "      <th>Fantasy</th>\n",
       "      <td>6.023362</td>\n",
       "      <td>458.0</td>\n",
       "      <td>5.876856</td>\n",
       "      <td>6.170098</td>\n",
       "    </tr>\n",
       "    <tr>\n",
       "      <th>Adventure</th>\n",
       "      <td>5.952876</td>\n",
       "      <td>817.0</td>\n",
       "      <td>5.847243</td>\n",
       "      <td>6.056426</td>\n",
       "    </tr>\n",
       "    <tr>\n",
       "      <th>Thriller</th>\n",
       "      <td>5.856680</td>\n",
       "      <td>1452.0</td>\n",
       "      <td>5.778580</td>\n",
       "      <td>5.935403</td>\n",
       "    </tr>\n",
       "    <tr>\n",
       "      <th>Children</th>\n",
       "      <td>5.779864</td>\n",
       "      <td>442.0</td>\n",
       "      <td>5.636878</td>\n",
       "      <td>5.921499</td>\n",
       "    </tr>\n",
       "    <tr>\n",
       "      <th>Comedy</th>\n",
       "      <td>5.732409</td>\n",
       "      <td>3030.0</td>\n",
       "      <td>5.676533</td>\n",
       "      <td>5.788321</td>\n",
       "    </tr>\n",
       "    <tr>\n",
       "      <th>Action</th>\n",
       "      <td>5.574497</td>\n",
       "      <td>1192.0</td>\n",
       "      <td>5.485904</td>\n",
       "      <td>5.663003</td>\n",
       "    </tr>\n",
       "    <tr>\n",
       "      <th>Sci-Fi</th>\n",
       "      <td>5.567601</td>\n",
       "      <td>571.0</td>\n",
       "      <td>5.440968</td>\n",
       "      <td>5.693875</td>\n",
       "    </tr>\n",
       "    <tr>\n",
       "      <th>Horror</th>\n",
       "      <td>5.471046</td>\n",
       "      <td>784.0</td>\n",
       "      <td>5.357905</td>\n",
       "      <td>5.581387</td>\n",
       "    </tr>\n",
       "  </tbody>\n",
       "</table>\n",
       "</div>"
      ],
      "text/plain": [
       "                 mean   count     ci_lo   ci_high\n",
       "genre                                            \n",
       "Film-Noir    7.253543   127.0  7.029134  7.468504\n",
       "Documentary  7.129641   334.0  7.025142  7.234439\n",
       "IMAX         6.950000    16.0  6.600000  7.306250\n",
       "War          6.753351   388.0  6.618035  6.886598\n",
       "Western      6.613472   193.0  6.416049  6.808808\n",
       "Musical      6.483573   347.0  6.343213  6.617579\n",
       "Drama        6.462657  4306.0  6.422689  6.502531\n",
       "Animation    6.343404   235.0  6.165532  6.518309\n",
       "Mystery      6.228571   434.0  6.086861  6.367972\n",
       "Romance      6.194744  1427.0  6.120463  6.267554\n",
       "Crime        6.161612   943.0  6.064578  6.257055\n",
       "Fantasy      6.023362   458.0  5.876856  6.170098\n",
       "Adventure    5.952876   817.0  5.847243  6.056426\n",
       "Thriller     5.856680  1452.0  5.778580  5.935403\n",
       "Children     5.779864   442.0  5.636878  5.921499\n",
       "Comedy       5.732409  3030.0  5.676533  5.788321\n",
       "Action       5.574497  1192.0  5.485904  5.663003\n",
       "Sci-Fi       5.567601   571.0  5.440968  5.693875\n",
       "Horror       5.471046   784.0  5.357905  5.581387"
      ]
     },
     "execution_count": 43,
     "metadata": {},
     "output_type": "execute_result"
    }
   ],
   "source": [
    "genre_boot_stats = genre_movies.groupby('genre')['AllCritics'].apply(boot_mean)\n",
    "genre_boot_stats = genre_boot_stats.unstack()\n",
    "genre_boot_stats.sort_values('mean', ascending=False)"
   ]
  },
  {
   "cell_type": "markdown",
   "metadata": {},
   "source": [
    "The menas are the same, obviously.  These CIs are also quite comparable to the standard error ones, and lead to the same conclusions (no significant difference between top two genres, wide difference between top and bottom).\n",
    "\n",
    "I noted in the instructions that these groups are *not independent*.  This is because a movie can appear in multiple genres.  This means that the different distributions **cannot** be treated as independent samples.  We can compute confidence intervals, and make some inferences, but we need to be conservative.  Wide gaps are wide enough that it's unlikely that the non-independence is a problem.  However, if we were to run paired T-tests, or an ANOVA, it would be invalid, because they assume an independence between samples that is clearly violated.  A bootstrap test won't help us either.  We can try to estimate the parameters, but clear hypothesis-testing outcomes require great care."
   ]
  },
  {
   "cell_type": "markdown",
   "metadata": {},
   "source": [
    "## Popularity and Bootstraps\n",
    "\n",
    "The last part of the assignment is to look at the difference in popularity and mean all critic ratings between two genres: action and documentary. Note the independence assumption in the previous paragraph - there are some validity problems here. I'm going to revisit this if I use this assignment in the future.\n",
    "\n",
    "However, let's see if we have any movies in both genres:"
   ]
  },
  {
   "cell_type": "code",
   "execution_count": 46,
   "metadata": {},
   "outputs": [],
   "source": [
    "acts = genre_movies[genre_movies['genre'] == 'Action']\n",
    "docs = genre_movies[genre_movies['genre'] == 'Documentary']"
   ]
  },
  {
   "cell_type": "code",
   "execution_count": 47,
   "metadata": {},
   "outputs": [
    {
     "data": {
      "text/plain": [
       "array([32593], dtype=int64)"
      ]
     },
     "execution_count": 47,
     "metadata": {},
     "output_type": "execute_result"
    }
   ],
   "source": [
    "np.intersect1d(acts['movieID'], docs['movieID'])"
   ]
  },
  {
   "cell_type": "markdown",
   "metadata": {},
   "source": [
    "There is one movie categorized as both movie types.  So the individual samples are pretty independent.\n",
    "\n",
    "I'm curious - what is that movie?"
   ]
  },
  {
   "cell_type": "code",
   "execution_count": 48,
   "metadata": {},
   "outputs": [
    {
     "data": {
      "text/html": [
       "<div>\n",
       "<style scoped>\n",
       "    .dataframe tbody tr th:only-of-type {\n",
       "        vertical-align: middle;\n",
       "    }\n",
       "\n",
       "    .dataframe tbody tr th {\n",
       "        vertical-align: top;\n",
       "    }\n",
       "\n",
       "    .dataframe thead th {\n",
       "        text-align: right;\n",
       "    }\n",
       "</style>\n",
       "<table border=\"1\" class=\"dataframe\">\n",
       "  <thead>\n",
       "    <tr style=\"text-align: right;\">\n",
       "      <th></th>\n",
       "      <th>title</th>\n",
       "      <th>AllCritics</th>\n",
       "      <th>TopCritics</th>\n",
       "      <th>Audience</th>\n",
       "      <th>MovieLens</th>\n",
       "      <th>CritDiff</th>\n",
       "    </tr>\n",
       "    <tr>\n",
       "      <th>id</th>\n",
       "      <th></th>\n",
       "      <th></th>\n",
       "      <th></th>\n",
       "      <th></th>\n",
       "      <th></th>\n",
       "      <th></th>\n",
       "    </tr>\n",
       "  </thead>\n",
       "  <tbody>\n",
       "    <tr>\n",
       "      <th>32593</th>\n",
       "      <td>Dust to Glory</td>\n",
       "      <td>6.2</td>\n",
       "      <td>6.0</td>\n",
       "      <td>4.2</td>\n",
       "      <td>3.4</td>\n",
       "      <td>0.2</td>\n",
       "    </tr>\n",
       "  </tbody>\n",
       "</table>\n",
       "</div>"
      ],
      "text/plain": [
       "               title  AllCritics  TopCritics  Audience  MovieLens  CritDiff\n",
       "id                                                                         \n",
       "32593  Dust to Glory         6.2         6.0       4.2        3.4       0.2"
      ]
     },
     "execution_count": 48,
     "metadata": {},
     "output_type": "execute_result"
    }
   ],
   "source": [
    "movies.loc[np.intersect1d(acts['movieID'], docs['movieID'])]"
   ]
  },
  {
   "cell_type": "markdown",
   "metadata": {},
   "source": [
    "### Popularity\n",
    "\n",
    "First thing we need is the popularity info.  We can get it from our movie stats:"
   ]
  },
  {
   "cell_type": "code",
   "execution_count": 49,
   "metadata": {},
   "outputs": [],
   "source": [
    "acts = acts.join(movie_stats['count'].to_frame('MLPop'), on='movieID', how='left')\n",
    "docs = docs.join(movie_stats['count'].to_frame('MLPop'), on='movieID', how='left')"
   ]
  },
  {
   "cell_type": "markdown",
   "metadata": {},
   "source": [
    "Now let's look at the medians:"
   ]
  },
  {
   "cell_type": "code",
   "execution_count": 50,
   "metadata": {},
   "outputs": [
    {
     "data": {
      "text/plain": [
       "count    1442.000000\n",
       "mean      167.540222\n",
       "std       261.808078\n",
       "min         1.000000\n",
       "25%        12.250000\n",
       "50%        56.000000\n",
       "75%       208.000000\n",
       "max      1670.000000\n",
       "Name: MLPop, dtype: float64"
      ]
     },
     "execution_count": 50,
     "metadata": {},
     "output_type": "execute_result"
    }
   ],
   "source": [
    "acts['MLPop'].describe()"
   ]
  },
  {
   "cell_type": "code",
   "execution_count": 51,
   "metadata": {},
   "outputs": [
    {
     "data": {
      "text/plain": [
       "count    418.000000\n",
       "mean      31.095694\n",
       "std       72.722530\n",
       "min        1.000000\n",
       "25%        4.000000\n",
       "50%       11.500000\n",
       "75%       28.000000\n",
       "max      823.000000\n",
       "Name: MLPop, dtype: float64"
      ]
     },
     "execution_count": 51,
     "metadata": {},
     "output_type": "execute_result"
    }
   ],
   "source": [
    "docs['MLPop'].describe()"
   ]
  },
  {
   "cell_type": "markdown",
   "metadata": {},
   "source": [
    "Action movies have a median rating count of 56, and documentaries 11.5.\n",
    "\n",
    "Let's bootstrap CIs for these.  We're going to reuse my independent bootstrap function from Penguin Inference, except we're going to replace the `mean` statistic with `median`:"
   ]
  },
  {
   "cell_type": "code",
   "execution_count": 52,
   "metadata": {},
   "outputs": [],
   "source": [
    "def boot_medians(s1, s2, nboot=10000):\n",
    "    ## we will ignore NAs here\n",
    "    obs1 = s1.dropna()\n",
    "    obs2 = s2.dropna()\n",
    "    n1 = len(obs1)\n",
    "    n2 = len(obs2)\n",
    "    \n",
    "    ## pool the observations together\n",
    "    pool = pd.concat([obs1, obs2])\n",
    "    ## grab the observed difference in medians\n",
    "    md = np.median(obs1) - np.median(obs2)\n",
    "    \n",
    "    ## compute our bootstrap samples of the median under H0\n",
    "    b1 = np.array([np.median(np.random.choice(pool, size=n1)) for i in range(nboot)])\n",
    "    b2 = np.array([np.median(np.random.choice(pool, size=n2)) for i in range(nboot)])\n",
    "    \n",
    "    ## the P-value is the probability that we observe a difference as large\n",
    "    ## as we did in the raw data, if the null hypothesis were true\n",
    "    return md, np.mean(np.abs(b1 - b2) >= np.abs(md))"
   ]
  },
  {
   "cell_type": "markdown",
   "metadata": {},
   "source": [
    "The **last** `mean` stays a mean, because it is not our statistic: it is computing our *p*-value as the proportion of bootstrap samples with a statistic as extreme as the observed statistic.\n",
    "\n",
    "Now let's use it:"
   ]
  },
  {
   "cell_type": "code",
   "execution_count": 53,
   "metadata": {},
   "outputs": [
    {
     "data": {
      "text/plain": [
       "(44.5, 0.0)"
      ]
     },
     "execution_count": 53,
     "metadata": {},
     "output_type": "execute_result"
    }
   ],
   "source": [
    "boot_medians(acts['MLPop'], docs['MLPop'])"
   ]
  },
  {
   "cell_type": "markdown",
   "metadata": {},
   "source": [
    "The difference in medians **is statistically significant**."
   ]
  },
  {
   "cell_type": "markdown",
   "metadata": {},
   "source": [
    "### Mean Rating\n",
    "\n",
    "Now let's test the All Critics rating:"
   ]
  },
  {
   "cell_type": "code",
   "execution_count": 54,
   "metadata": {},
   "outputs": [
    {
     "data": {
      "text/plain": [
       "Ttest_indResult(statistic=-17.28144197127851, pvalue=3.024636237600687e-61)"
      ]
     },
     "execution_count": 54,
     "metadata": {},
     "output_type": "execute_result"
    }
   ],
   "source": [
    "sps.ttest_ind(acts['AllCritics'], docs['AllCritics'], nan_policy='omit')"
   ]
  },
  {
   "cell_type": "markdown",
   "metadata": {},
   "source": [
    "That is a very low $p$-value - clear statistical significance.\n",
    "\n",
    "Want to see a cool trick? We can *parameterize* our bootstrap function over the statistic - functions are objects, and we can pass them as parameters and call them:"
   ]
  },
  {
   "cell_type": "code",
   "execution_count": 55,
   "metadata": {},
   "outputs": [],
   "source": [
    "def boot_ind(s1, s2, stat=np.mean, nboot=10000):\n",
    "    ## we will ignore NAs here\n",
    "    obs1 = s1.dropna()\n",
    "    obs2 = s2.dropna()\n",
    "    n1 = len(obs1)\n",
    "    n2 = len(obs2)\n",
    "    \n",
    "    ## pool the observations together\n",
    "    pool = pd.concat([obs1, obs2])\n",
    "    ## grab the observed difference in statistics\n",
    "    md = stat(obs1) - stat(obs2)\n",
    "    \n",
    "    ## compute our bootstrap samples of the median under H0\n",
    "    b1 = np.array([stat(np.random.choice(pool, size=n1)) for i in range(nboot)])\n",
    "    b2 = np.array([stat(np.random.choice(pool, size=n2)) for i in range(nboot)])\n",
    "    \n",
    "    ## the P-value is the probability that we observe a difference as large\n",
    "    ## as we did in the raw data, if the null hypothesis were true\n",
    "    return md, np.mean(np.abs(b1 - b2) >= np.abs(md))"
   ]
  },
  {
   "cell_type": "markdown",
   "metadata": {},
   "source": [
    "Now use it - we left the default as `mean`:"
   ]
  },
  {
   "cell_type": "code",
   "execution_count": 56,
   "metadata": {},
   "outputs": [
    {
     "data": {
      "text/plain": [
       "(-1.5551440742675675, 0.0)"
      ]
     },
     "execution_count": 56,
     "metadata": {},
     "output_type": "execute_result"
    }
   ],
   "source": [
    "boot_ind(acts['AllCritics'], docs['AllCritics'])"
   ]
  },
  {
   "cell_type": "markdown",
   "metadata": {},
   "source": [
    "Statistically significant difference.  The statistic is different, because we are not computing a *t*-statistic in our bootstrapped version.\n",
    "\n",
    "But we can reuse this version of the bootstrap function for the medians too:"
   ]
  },
  {
   "cell_type": "code",
   "execution_count": 57,
   "metadata": {},
   "outputs": [
    {
     "data": {
      "text/plain": [
       "(44.5, 0.0)"
      ]
     },
     "execution_count": 57,
     "metadata": {},
     "output_type": "execute_result"
    }
   ],
   "source": [
    "boot_ind(acts['MLPop'], docs['MLPop'], stat=np.median)"
   ]
  },
  {
   "cell_type": "markdown",
   "metadata": {},
   "source": [
    "Neat, huh?"
   ]
  }
 ],
 "metadata": {
  "kernelspec": {
   "display_name": "Python 3",
   "language": "python",
   "name": "python3"
  },
  "language_info": {
   "codemirror_mode": {
    "name": "ipython",
    "version": 3
   },
   "file_extension": ".py",
   "mimetype": "text/x-python",
   "name": "python",
   "nbconvert_exporter": "python",
   "pygments_lexer": "ipython3",
   "version": "3.8.8"
  }
 },
 "nbformat": 4,
 "nbformat_minor": 4
}
