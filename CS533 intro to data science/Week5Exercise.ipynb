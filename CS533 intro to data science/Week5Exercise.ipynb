{
 "cells": [
  {
   "cell_type": "markdown",
   "id": "5284cb88",
   "metadata": {},
   "source": [
    "# Week 5 Application Exercise\n",
    "\n",
    "This is the starting notebook for the Week 5 application exercise.  It is intended to demonstrate several things:\n",
    "\n",
    "- The use of simulation as a tool for understanding statistical methods\n",
    "- Performing hypothesis tests\n",
    "- The difference between paired and two-sample tests\n",
    "\n",
    "Save the notebook file and `.py` file into the same folder to start work on the assignment.\n",
    "\n",
    "Please treat the experiment as a black box and infer its behavior using the statistical techniques we have learned in class.  After class, I invite you to look at its source code and see how it works.\n",
    "\n",
    "The core idea of this is to identify whether “fabulators” under condition A have higher (or lower) nonsense production than under condition B.  The code will describe an experimental design, and allow you to “run” the experiment to draw samples."
   ]
  },
  {
   "cell_type": "markdown",
   "id": "80548e58",
   "metadata": {},
   "source": [
    "## Software Requirements\n",
    "\n",
    "This exercise requires an additional Python package that is not included in a default Anaconda install - the [seedbank](https://seedbank.lenskit.org) library.  You can install this with Pip:\n",
    "\n",
    "    pip install seedbank\n",
    "\n",
    "It's also available in Conda-Forge:\n",
    "\n",
    "    conda install -c conda-forge seedbank\n",
    "    \n",
    "Because it only has a few dependencies, and they are all included in almost all base Conda environments, the Pip installation works fine, and doesn't mix packages between Conda repositories."
   ]
  },
  {
   "cell_type": "markdown",
   "id": "8314057c",
   "metadata": {},
   "source": [
    "## Setup\n",
    "\n",
    "This project requires an additional \n",
    "\n",
    "We need to do our usual imports:"
   ]
  },
  {
   "cell_type": "code",
   "execution_count": 1,
   "id": "2a4945ac",
   "metadata": {},
   "outputs": [],
   "source": [
    "import pandas as pd\n",
    "import numpy as np\n",
    "import scipy.stats as stats\n",
    "import statsmodels.api as sm\n",
    "import seaborn as sns\n",
    "import matplotlib.pyplot as plt"
   ]
  },
  {
   "cell_type": "markdown",
   "id": "c4f888fa",
   "metadata": {},
   "source": [
    "Because we are using random number generation, we want to **seed** the random number generator.  If we initialize it with the a fixed seed, re-running the notebook repeatedly will produce the same results.  This is useful for debugging and reproducibility.  We'll often want to re-run with a *different* seed before submitting, just to make sure that our results aren't accidentally the result of a pathological choice of random seeds.\n",
    "\n",
    "The Seedbank library initializes and seeds a wide range of Python random number generators.  The basic usage is to directly seed with a call to `initialize` (for teaching notebooks, I often use the current date as my random seed):\n",
    "\n",
    "    import seedbank\n",
    "    seedbank.initialize(20210923)\n",
    "\n",
    "However, if we all ran that code, we would all get the same results, but for this exercise I would like different teams to get *different* results.  Therefore, we will take advantage of another Seedbank feature that allows us to specify additional string keys that get incorporated into the random seed.  In the following cell, edit it to use your team name:"
   ]
  },
  {
   "cell_type": "code",
   "execution_count": 3,
   "id": "fdb7e4c1",
   "metadata": {},
   "outputs": [
    {
     "data": {
      "text/plain": [
       "SeedSequence(\n",
       "    entropy=20210923,\n",
       "    spawn_key=(array([1652547376, 2490093471, 1609550347, 3146785967], dtype=uint32),),\n",
       ")"
      ]
     },
     "execution_count": 3,
     "metadata": {},
     "output_type": "execute_result"
    }
   ],
   "source": [
    "TEAM_NAME = 'network'\n",
    "import seedbank\n",
    "seedbank.initialize(20210923, TEAM_NAME)"
   ]
  },
  {
   "cell_type": "markdown",
   "id": "5ccbc2ad",
   "metadata": {},
   "source": [
    "The last piece is to import our custom module to get a 'world' from which we can sample:"
   ]
  },
  {
   "cell_type": "code",
   "execution_count": 4,
   "id": "932461e7",
   "metadata": {},
   "outputs": [],
   "source": [
    "from cs533_w5_world import Experiment"
   ]
  },
  {
   "cell_type": "markdown",
   "id": "6bfd8a84",
   "metadata": {},
   "source": [
    "And then create our experiment:"
   ]
  },
  {
   "cell_type": "code",
   "execution_count": 5,
   "id": "a3b7ebe1",
   "metadata": {},
   "outputs": [],
   "source": [
    "exp = Experiment()"
   ]
  },
  {
   "cell_type": "markdown",
   "id": "31e35aa4",
   "metadata": {},
   "source": [
    "## Getting Data\n",
    "\n",
    "We first need to know where our data is coming from.  The experiment describes itself:"
   ]
  },
  {
   "cell_type": "code",
   "execution_count": 6,
   "id": "172d17fa",
   "metadata": {},
   "outputs": [
    {
     "name": "stdout",
     "output_type": "stream",
     "text": [
      "This experiment measures the nonsense output of fabulators under different\n",
      "conditions.  It measures each fabulator twice, under two different conditions,\n",
      "to see how much nonsense they produce in each condition.\n",
      "\n",
      "Your goal is to measure whether condition A causes fabulators to produce more\n",
      "(or less) nonsense than condition B.\n"
     ]
    }
   ],
   "source": [
    "print(exp.describe())"
   ]
  },
  {
   "cell_type": "markdown",
   "id": "16010148",
   "metadata": {},
   "source": [
    "We can run an instance of this experiment with size 50:"
   ]
  },
  {
   "cell_type": "code",
   "execution_count": 15,
   "id": "7e15129f",
   "metadata": {},
   "outputs": [
    {
     "data": {
      "text/html": [
       "<div>\n",
       "<style scoped>\n",
       "    .dataframe tbody tr th:only-of-type {\n",
       "        vertical-align: middle;\n",
       "    }\n",
       "\n",
       "    .dataframe tbody tr th {\n",
       "        vertical-align: top;\n",
       "    }\n",
       "\n",
       "    .dataframe thead th {\n",
       "        text-align: right;\n",
       "    }\n",
       "</style>\n",
       "<table border=\"1\" class=\"dataframe\">\n",
       "  <thead>\n",
       "    <tr style=\"text-align: right;\">\n",
       "      <th></th>\n",
       "      <th>subject</th>\n",
       "      <th>CondA_Nonsense</th>\n",
       "      <th>CondB_Nonsense</th>\n",
       "    </tr>\n",
       "  </thead>\n",
       "  <tbody>\n",
       "    <tr>\n",
       "      <th>0</th>\n",
       "      <td>1</td>\n",
       "      <td>489.969978</td>\n",
       "      <td>478.483402</td>\n",
       "    </tr>\n",
       "    <tr>\n",
       "      <th>1</th>\n",
       "      <td>2</td>\n",
       "      <td>489.323604</td>\n",
       "      <td>503.474736</td>\n",
       "    </tr>\n",
       "    <tr>\n",
       "      <th>2</th>\n",
       "      <td>3</td>\n",
       "      <td>488.960187</td>\n",
       "      <td>473.028075</td>\n",
       "    </tr>\n",
       "    <tr>\n",
       "      <th>3</th>\n",
       "      <td>4</td>\n",
       "      <td>486.142559</td>\n",
       "      <td>504.917211</td>\n",
       "    </tr>\n",
       "    <tr>\n",
       "      <th>4</th>\n",
       "      <td>5</td>\n",
       "      <td>491.851569</td>\n",
       "      <td>556.334645</td>\n",
       "    </tr>\n",
       "    <tr>\n",
       "      <th>5</th>\n",
       "      <td>6</td>\n",
       "      <td>487.045764</td>\n",
       "      <td>518.808118</td>\n",
       "    </tr>\n",
       "    <tr>\n",
       "      <th>6</th>\n",
       "      <td>7</td>\n",
       "      <td>491.533228</td>\n",
       "      <td>567.194303</td>\n",
       "    </tr>\n",
       "    <tr>\n",
       "      <th>7</th>\n",
       "      <td>8</td>\n",
       "      <td>489.178857</td>\n",
       "      <td>584.006927</td>\n",
       "    </tr>\n",
       "    <tr>\n",
       "      <th>8</th>\n",
       "      <td>9</td>\n",
       "      <td>494.346422</td>\n",
       "      <td>502.283740</td>\n",
       "    </tr>\n",
       "    <tr>\n",
       "      <th>9</th>\n",
       "      <td>10</td>\n",
       "      <td>496.480821</td>\n",
       "      <td>511.376209</td>\n",
       "    </tr>\n",
       "    <tr>\n",
       "      <th>10</th>\n",
       "      <td>11</td>\n",
       "      <td>486.133876</td>\n",
       "      <td>483.696270</td>\n",
       "    </tr>\n",
       "    <tr>\n",
       "      <th>11</th>\n",
       "      <td>12</td>\n",
       "      <td>499.578106</td>\n",
       "      <td>503.386162</td>\n",
       "    </tr>\n",
       "    <tr>\n",
       "      <th>12</th>\n",
       "      <td>13</td>\n",
       "      <td>484.876916</td>\n",
       "      <td>518.725186</td>\n",
       "    </tr>\n",
       "    <tr>\n",
       "      <th>13</th>\n",
       "      <td>14</td>\n",
       "      <td>497.234843</td>\n",
       "      <td>525.181295</td>\n",
       "    </tr>\n",
       "    <tr>\n",
       "      <th>14</th>\n",
       "      <td>15</td>\n",
       "      <td>493.312307</td>\n",
       "      <td>513.894203</td>\n",
       "    </tr>\n",
       "    <tr>\n",
       "      <th>15</th>\n",
       "      <td>16</td>\n",
       "      <td>492.402038</td>\n",
       "      <td>517.894537</td>\n",
       "    </tr>\n",
       "    <tr>\n",
       "      <th>16</th>\n",
       "      <td>17</td>\n",
       "      <td>485.207374</td>\n",
       "      <td>485.853306</td>\n",
       "    </tr>\n",
       "    <tr>\n",
       "      <th>17</th>\n",
       "      <td>18</td>\n",
       "      <td>483.154829</td>\n",
       "      <td>514.597213</td>\n",
       "    </tr>\n",
       "    <tr>\n",
       "      <th>18</th>\n",
       "      <td>19</td>\n",
       "      <td>492.462203</td>\n",
       "      <td>470.137055</td>\n",
       "    </tr>\n",
       "    <tr>\n",
       "      <th>19</th>\n",
       "      <td>20</td>\n",
       "      <td>486.887407</td>\n",
       "      <td>501.700726</td>\n",
       "    </tr>\n",
       "    <tr>\n",
       "      <th>20</th>\n",
       "      <td>21</td>\n",
       "      <td>492.387264</td>\n",
       "      <td>463.806981</td>\n",
       "    </tr>\n",
       "    <tr>\n",
       "      <th>21</th>\n",
       "      <td>22</td>\n",
       "      <td>494.992922</td>\n",
       "      <td>505.172072</td>\n",
       "    </tr>\n",
       "    <tr>\n",
       "      <th>22</th>\n",
       "      <td>23</td>\n",
       "      <td>494.461702</td>\n",
       "      <td>505.698076</td>\n",
       "    </tr>\n",
       "    <tr>\n",
       "      <th>23</th>\n",
       "      <td>24</td>\n",
       "      <td>488.296589</td>\n",
       "      <td>508.657930</td>\n",
       "    </tr>\n",
       "    <tr>\n",
       "      <th>24</th>\n",
       "      <td>25</td>\n",
       "      <td>492.973092</td>\n",
       "      <td>511.800429</td>\n",
       "    </tr>\n",
       "    <tr>\n",
       "      <th>25</th>\n",
       "      <td>26</td>\n",
       "      <td>491.409941</td>\n",
       "      <td>510.543688</td>\n",
       "    </tr>\n",
       "    <tr>\n",
       "      <th>26</th>\n",
       "      <td>27</td>\n",
       "      <td>491.371746</td>\n",
       "      <td>514.479650</td>\n",
       "    </tr>\n",
       "    <tr>\n",
       "      <th>27</th>\n",
       "      <td>28</td>\n",
       "      <td>484.183168</td>\n",
       "      <td>474.266200</td>\n",
       "    </tr>\n",
       "    <tr>\n",
       "      <th>28</th>\n",
       "      <td>29</td>\n",
       "      <td>498.219517</td>\n",
       "      <td>483.575765</td>\n",
       "    </tr>\n",
       "    <tr>\n",
       "      <th>29</th>\n",
       "      <td>30</td>\n",
       "      <td>490.762334</td>\n",
       "      <td>476.157273</td>\n",
       "    </tr>\n",
       "    <tr>\n",
       "      <th>30</th>\n",
       "      <td>31</td>\n",
       "      <td>492.649384</td>\n",
       "      <td>531.722288</td>\n",
       "    </tr>\n",
       "    <tr>\n",
       "      <th>31</th>\n",
       "      <td>32</td>\n",
       "      <td>495.341332</td>\n",
       "      <td>529.992624</td>\n",
       "    </tr>\n",
       "    <tr>\n",
       "      <th>32</th>\n",
       "      <td>33</td>\n",
       "      <td>487.006247</td>\n",
       "      <td>505.878733</td>\n",
       "    </tr>\n",
       "    <tr>\n",
       "      <th>33</th>\n",
       "      <td>34</td>\n",
       "      <td>479.505170</td>\n",
       "      <td>468.336182</td>\n",
       "    </tr>\n",
       "    <tr>\n",
       "      <th>34</th>\n",
       "      <td>35</td>\n",
       "      <td>491.215128</td>\n",
       "      <td>504.811769</td>\n",
       "    </tr>\n",
       "    <tr>\n",
       "      <th>35</th>\n",
       "      <td>36</td>\n",
       "      <td>488.260739</td>\n",
       "      <td>497.052840</td>\n",
       "    </tr>\n",
       "    <tr>\n",
       "      <th>36</th>\n",
       "      <td>37</td>\n",
       "      <td>487.134102</td>\n",
       "      <td>489.943597</td>\n",
       "    </tr>\n",
       "    <tr>\n",
       "      <th>37</th>\n",
       "      <td>38</td>\n",
       "      <td>490.704251</td>\n",
       "      <td>521.960434</td>\n",
       "    </tr>\n",
       "    <tr>\n",
       "      <th>38</th>\n",
       "      <td>39</td>\n",
       "      <td>490.809951</td>\n",
       "      <td>493.854051</td>\n",
       "    </tr>\n",
       "    <tr>\n",
       "      <th>39</th>\n",
       "      <td>40</td>\n",
       "      <td>491.693458</td>\n",
       "      <td>502.566295</td>\n",
       "    </tr>\n",
       "    <tr>\n",
       "      <th>40</th>\n",
       "      <td>41</td>\n",
       "      <td>482.989166</td>\n",
       "      <td>494.323009</td>\n",
       "    </tr>\n",
       "    <tr>\n",
       "      <th>41</th>\n",
       "      <td>42</td>\n",
       "      <td>492.385554</td>\n",
       "      <td>530.241442</td>\n",
       "    </tr>\n",
       "    <tr>\n",
       "      <th>42</th>\n",
       "      <td>43</td>\n",
       "      <td>490.836990</td>\n",
       "      <td>522.110616</td>\n",
       "    </tr>\n",
       "    <tr>\n",
       "      <th>43</th>\n",
       "      <td>44</td>\n",
       "      <td>499.264567</td>\n",
       "      <td>530.880580</td>\n",
       "    </tr>\n",
       "    <tr>\n",
       "      <th>44</th>\n",
       "      <td>45</td>\n",
       "      <td>488.623017</td>\n",
       "      <td>484.507772</td>\n",
       "    </tr>\n",
       "    <tr>\n",
       "      <th>45</th>\n",
       "      <td>46</td>\n",
       "      <td>481.701523</td>\n",
       "      <td>453.888998</td>\n",
       "    </tr>\n",
       "    <tr>\n",
       "      <th>46</th>\n",
       "      <td>47</td>\n",
       "      <td>489.762338</td>\n",
       "      <td>515.350892</td>\n",
       "    </tr>\n",
       "    <tr>\n",
       "      <th>47</th>\n",
       "      <td>48</td>\n",
       "      <td>494.332973</td>\n",
       "      <td>531.429015</td>\n",
       "    </tr>\n",
       "    <tr>\n",
       "      <th>48</th>\n",
       "      <td>49</td>\n",
       "      <td>487.658075</td>\n",
       "      <td>450.358631</td>\n",
       "    </tr>\n",
       "    <tr>\n",
       "      <th>49</th>\n",
       "      <td>50</td>\n",
       "      <td>490.987815</td>\n",
       "      <td>502.111321</td>\n",
       "    </tr>\n",
       "  </tbody>\n",
       "</table>\n",
       "</div>"
      ],
      "text/plain": [
       "    subject  CondA_Nonsense  CondB_Nonsense\n",
       "0         1      489.969978      478.483402\n",
       "1         2      489.323604      503.474736\n",
       "2         3      488.960187      473.028075\n",
       "3         4      486.142559      504.917211\n",
       "4         5      491.851569      556.334645\n",
       "5         6      487.045764      518.808118\n",
       "6         7      491.533228      567.194303\n",
       "7         8      489.178857      584.006927\n",
       "8         9      494.346422      502.283740\n",
       "9        10      496.480821      511.376209\n",
       "10       11      486.133876      483.696270\n",
       "11       12      499.578106      503.386162\n",
       "12       13      484.876916      518.725186\n",
       "13       14      497.234843      525.181295\n",
       "14       15      493.312307      513.894203\n",
       "15       16      492.402038      517.894537\n",
       "16       17      485.207374      485.853306\n",
       "17       18      483.154829      514.597213\n",
       "18       19      492.462203      470.137055\n",
       "19       20      486.887407      501.700726\n",
       "20       21      492.387264      463.806981\n",
       "21       22      494.992922      505.172072\n",
       "22       23      494.461702      505.698076\n",
       "23       24      488.296589      508.657930\n",
       "24       25      492.973092      511.800429\n",
       "25       26      491.409941      510.543688\n",
       "26       27      491.371746      514.479650\n",
       "27       28      484.183168      474.266200\n",
       "28       29      498.219517      483.575765\n",
       "29       30      490.762334      476.157273\n",
       "30       31      492.649384      531.722288\n",
       "31       32      495.341332      529.992624\n",
       "32       33      487.006247      505.878733\n",
       "33       34      479.505170      468.336182\n",
       "34       35      491.215128      504.811769\n",
       "35       36      488.260739      497.052840\n",
       "36       37      487.134102      489.943597\n",
       "37       38      490.704251      521.960434\n",
       "38       39      490.809951      493.854051\n",
       "39       40      491.693458      502.566295\n",
       "40       41      482.989166      494.323009\n",
       "41       42      492.385554      530.241442\n",
       "42       43      490.836990      522.110616\n",
       "43       44      499.264567      530.880580\n",
       "44       45      488.623017      484.507772\n",
       "45       46      481.701523      453.888998\n",
       "46       47      489.762338      515.350892\n",
       "47       48      494.332973      531.429015\n",
       "48       49      487.658075      450.358631\n",
       "49       50      490.987815      502.111321"
      ]
     },
     "execution_count": 15,
     "metadata": {},
     "output_type": "execute_result"
    }
   ],
   "source": [
    "SAMPLE_SIZE = 50\n",
    "data = exp.run_experiment(SAMPLE_SIZE)\n",
    "data"
   ]
  },
  {
   "cell_type": "markdown",
   "id": "b56f2529",
   "metadata": {},
   "source": [
    "## Comparing Conditions/Groups\n",
    "\n",
    "Review the experiment description.  You need to compare A and B with a *t*-test, but the precise details will depend on your experiment structure.\n",
    "\n",
    "✅ Do you need to use a **paired** t-test or an **independent two-sample** t-test for this analysis?"
   ]
  },
  {
   "cell_type": "markdown",
   "id": "39f10091",
   "metadata": {},
   "source": []
  },
  {
   "cell_type": "markdown",
   "id": "259c6733",
   "metadata": {},
   "source": [
    "✅ What is the **null hypothesis** for the test with this data?"
   ]
  },
  {
   "cell_type": "markdown",
   "id": "ededc845",
   "metadata": {},
   "source": []
  },
  {
   "cell_type": "markdown",
   "id": "d84359a9",
   "metadata": {},
   "source": [
    "✅ Compute the means of both groups or conditions:"
   ]
  },
  {
   "cell_type": "code",
   "execution_count": 13,
   "id": "a219985b",
   "metadata": {},
   "outputs": [
    {
     "data": {
      "text/plain": [
       "CondA_Nonsense    489.953874\n",
       "CondB_Nonsense    500.392215\n",
       "dtype: float64"
      ]
     },
     "execution_count": 13,
     "metadata": {},
     "output_type": "execute_result"
    }
   ],
   "source": [
    "data.mean()[1:]"
   ]
  },
  {
   "cell_type": "markdown",
   "id": "92b33018",
   "metadata": {},
   "source": [
    "✅ Compute the *difference* in means. How much more nonsense is produced in A vs. B?\n",
    "\n",
    "This is also called the *effect size* (or specifically, the *unstandardized effect size*)."
   ]
  },
  {
   "cell_type": "code",
   "execution_count": null,
   "id": "c09c8c5d",
   "metadata": {},
   "outputs": [],
   "source": []
  },
  {
   "cell_type": "markdown",
   "id": "c1a84de4",
   "metadata": {},
   "source": [
    "✅ Run the appropriate *t*-test to test if this difference is statistically significant and obtain a *p*-value:"
   ]
  },
  {
   "cell_type": "code",
   "execution_count": null,
   "id": "b893ead6",
   "metadata": {},
   "outputs": [],
   "source": []
  },
  {
   "cell_type": "markdown",
   "id": "201b4092",
   "metadata": {},
   "source": [
    "✅ What does this result mean?"
   ]
  },
  {
   "cell_type": "markdown",
   "id": "14f0aa48",
   "metadata": {},
   "source": [
    "rng = np.random.default_rng(20200913)\n",
    "rng.choice(data()[1:2], size=5)"
   ]
  },
  {
   "cell_type": "markdown",
   "id": "82f93e02",
   "metadata": {},
   "source": [
    "## Bootstrap\n",
    "\n",
    "✅ Bootstrap a confidence interval for the effect size (note that the bootstrap procedure will differ between paired and unpaired analyses):"
   ]
  },
  {
   "cell_type": "code",
   "execution_count": null,
   "id": "33723656",
   "metadata": {},
   "outputs": [],
   "source": [
    "def boot_mean_estimate(vals, nboot=10000):\n",
    "    obs = vals.dropna()  # ignore missing values\n",
    "    mean = obs.mean()\n",
    "    n = obs.count()\n",
    "    \n",
    "    boot_means = [np.mean(rng.choice(obs, size=n)) for i in range(nboot)]"
   ]
  },
  {
   "cell_type": "markdown",
   "id": "4cd1e096",
   "metadata": {},
   "source": [
    "## Sampling Distribution\n",
    "\n",
    "✅ Compute the effect size of **100 runs** of your experiment.  Describe the distribution of these effect sizes numerically and graphically."
   ]
  },
  {
   "cell_type": "code",
   "execution_count": 16,
   "id": "409c89b9",
   "metadata": {},
   "outputs": [
    {
     "data": {
      "text/plain": [
       "array([[  2.        , 489.32360388, 503.47473588],\n",
       "       [  2.        , 489.32360388, 503.47473588],\n",
       "       [  2.        , 489.32360388, 503.47473588],\n",
       "       [  2.        , 489.32360388, 503.47473588],\n",
       "       [  2.        , 489.32360388, 503.47473588]])"
      ]
     },
     "execution_count": 16,
     "metadata": {},
     "output_type": "execute_result"
    }
   ],
   "source": [
    "rng = np.random.default_rng(20200913)\n",
    "rng.choice(data[1:2], size=5)"
   ]
  },
  {
   "cell_type": "markdown",
   "id": "717153c6",
   "metadata": {},
   "source": [
    "⚠ While the confidence interval above will likely be close percentiles of the effect size distribution, they are not the same thing.  **Why is that?**"
   ]
  },
  {
   "cell_type": "markdown",
   "id": "c122678d",
   "metadata": {},
   "source": [
    "## The Answers\n",
    "\n",
    "The experiment can tell you the answers (do **not** run this until you have completed the rest):"
   ]
  },
  {
   "cell_type": "code",
   "execution_count": null,
   "id": "c968cc90",
   "metadata": {},
   "outputs": [],
   "source": [
    "exp.answers()"
   ]
  },
  {
   "cell_type": "markdown",
   "id": "74886675",
   "metadata": {},
   "source": [
    "## Other Analysis\n",
    "\n",
    "If you have time, create a second experiment with the opposite configuration of your initial.  The experiment class takes a `paired` option that you can use to force a paired or unpaired design by passing `True` or `False`:\n",
    "\n",
    "    exp2 = Experiment(paired=True)\n",
    "\n",
    "If you needed a paired analysis above, create an unpaired experiment (`paired=False`); if you used an independent analysis above, create a paired analysis. Repeat as much of your analysis as you can with the new experimental design."
   ]
  },
  {
   "cell_type": "code",
   "execution_count": null,
   "id": "0c1a9a68",
   "metadata": {},
   "outputs": [],
   "source": []
  }
 ],
 "metadata": {
  "kernelspec": {
   "display_name": "Python 3",
   "language": "python",
   "name": "python3"
  },
  "language_info": {
   "codemirror_mode": {
    "name": "ipython",
    "version": 3
   },
   "file_extension": ".py",
   "mimetype": "text/x-python",
   "name": "python",
   "nbconvert_exporter": "python",
   "pygments_lexer": "ipython3",
   "version": "3.8.8"
  }
 },
 "nbformat": 4,
 "nbformat_minor": 5
}
