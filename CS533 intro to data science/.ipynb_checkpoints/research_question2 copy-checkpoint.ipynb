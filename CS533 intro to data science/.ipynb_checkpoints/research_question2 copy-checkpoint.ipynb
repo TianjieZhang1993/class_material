{
 "cells": [
  {
   "cell_type": "markdown",
   "id": "8e36703d",
   "metadata": {},
   "source": [
    "### The ratings in Movielens and in TMDB are Consistent？"
   ]
  },
  {
   "cell_type": "markdown",
   "id": "cf8a4cb7",
   "metadata": {},
   "source": [
    "this question includes two sub questions:\n",
    "\n",
    "1. The average ratings of each movie in Movielens and in TMDB are consistent?\n",
    "\n",
    "\n",
    "2. The number of ratings of each movie in Movielens and in TMDB are consistent?"
   ]
  },
  {
   "cell_type": "code",
   "execution_count": 1,
   "id": "95c911b1",
   "metadata": {},
   "outputs": [],
   "source": [
    "import pandas as pd\n",
    "import numpy as np\n",
    "import seaborn as sns\n",
    "from scipy import stats"
   ]
  },
  {
   "cell_type": "code",
   "execution_count": 2,
   "id": "7f009e64",
   "metadata": {},
   "outputs": [],
   "source": [
    "movie_data=pd.read_csv('movies_for_RQ2.csv')"
   ]
  },
  {
   "cell_type": "markdown",
   "id": "8684e2e4",
   "metadata": {},
   "source": [
    "### 1. The average ratings of each movie in Movielens and in TMDB are consistent?\n",
    "\n",
    "Because in TMDB, the total score is 10 but in Movielens, the total score is 5. Thus, the sccore in Movielens should be doubled."
   ]
  },
  {
   "cell_type": "code",
   "execution_count": 3,
   "id": "f73396e2",
   "metadata": {},
   "outputs": [],
   "source": [
    "movie_data['ave_Movielen_score_modified']=movie_data['ave_Movielen_score']*2"
   ]
  },
  {
   "cell_type": "code",
   "execution_count": 4,
   "id": "c259da9c",
   "metadata": {},
   "outputs": [],
   "source": [
    "movie_data['counts_frac_movielens']=movie_data['sum_Movielen_rating']/movie_data['sum_Movielen_rating'].sum()\n",
    "movie_data['counts_frac_TMDB']=movie_data['sum_TMDB_rating']/movie_data['sum_TMDB_rating'].sum()"
   ]
  },
  {
   "cell_type": "code",
   "execution_count": 5,
   "id": "9f6042ce",
   "metadata": {},
   "outputs": [
    {
     "data": {
      "text/html": [
       "<div>\n",
       "<style scoped>\n",
       "    .dataframe tbody tr th:only-of-type {\n",
       "        vertical-align: middle;\n",
       "    }\n",
       "\n",
       "    .dataframe tbody tr th {\n",
       "        vertical-align: top;\n",
       "    }\n",
       "\n",
       "    .dataframe thead th {\n",
       "        text-align: right;\n",
       "    }\n",
       "</style>\n",
       "<table border=\"1\" class=\"dataframe\">\n",
       "  <thead>\n",
       "    <tr style=\"text-align: right;\">\n",
       "      <th></th>\n",
       "      <th>count</th>\n",
       "      <th>mean</th>\n",
       "      <th>std</th>\n",
       "      <th>min</th>\n",
       "      <th>25%</th>\n",
       "      <th>50%</th>\n",
       "      <th>75%</th>\n",
       "      <th>max</th>\n",
       "    </tr>\n",
       "  </thead>\n",
       "  <tbody>\n",
       "    <tr>\n",
       "      <th>ave_Movielen_score_modified</th>\n",
       "      <td>58300.0</td>\n",
       "      <td>6.134775</td>\n",
       "      <td>1.477164</td>\n",
       "      <td>1.0</td>\n",
       "      <td>5.363636</td>\n",
       "      <td>6.285714</td>\n",
       "      <td>7.0</td>\n",
       "      <td>10.0</td>\n",
       "    </tr>\n",
       "    <tr>\n",
       "      <th>ave_TMDB_score</th>\n",
       "      <td>58300.0</td>\n",
       "      <td>6.001455</td>\n",
       "      <td>1.396218</td>\n",
       "      <td>0.0</td>\n",
       "      <td>5.500000</td>\n",
       "      <td>6.200000</td>\n",
       "      <td>6.9</td>\n",
       "      <td>10.0</td>\n",
       "    </tr>\n",
       "  </tbody>\n",
       "</table>\n",
       "</div>"
      ],
      "text/plain": [
       "                               count      mean       std  min       25%  \\\n",
       "ave_Movielen_score_modified  58300.0  6.134775  1.477164  1.0  5.363636   \n",
       "ave_TMDB_score               58300.0  6.001455  1.396218  0.0  5.500000   \n",
       "\n",
       "                                  50%  75%   max  \n",
       "ave_Movielen_score_modified  6.285714  7.0  10.0  \n",
       "ave_TMDB_score               6.200000  6.9  10.0  "
      ]
     },
     "execution_count": 5,
     "metadata": {},
     "output_type": "execute_result"
    }
   ],
   "source": [
    "movie_data[['ave_Movielen_score_modified', 'ave_TMDB_score']].describe().T"
   ]
  },
  {
   "cell_type": "code",
   "execution_count": 6,
   "id": "89120696",
   "metadata": {},
   "outputs": [
    {
     "data": {
      "text/plain": [
       "array([[<AxesSubplot:title={'center':'ave_Movielen_score_modified'}>,\n",
       "        <AxesSubplot:title={'center':'ave_TMDB_score'}>]], dtype=object)"
      ]
     },
     "execution_count": 6,
     "metadata": {},
     "output_type": "execute_result"
    },
    {
     "data": {
      "image/png": "[encoded data removed]",
      "text/plain": [
       "<Figure size 432x288 with 2 Axes>"
      ]
     },
     "metadata": {
      "needs_background": "light"
     },
     "output_type": "display_data"
    }
   ],
   "source": [
    "movie_data[['ave_Movielen_score_modified', 'ave_TMDB_score']].hist(bins=50)"
   ]
  },
  {
   "cell_type": "code",
   "execution_count": 7,
   "id": "0dbad580",
   "metadata": {},
   "outputs": [],
   "source": [
    "movie_data['diff_scores']=movie_data['ave_Movielen_score_modified']-movie_data['ave_TMDB_score']"
   ]
  },
  {
   "cell_type": "code",
   "execution_count": 8,
   "id": "489e4767",
   "metadata": {},
   "outputs": [
    {
     "name": "stderr",
     "output_type": "stream",
     "text": [
      "/Users/zhangtianjie/opt/anaconda3/lib/python3.8/site-packages/seaborn/distributions.py:2557: FutureWarning: `distplot` is a deprecated function and will be removed in a future version. Please adapt your code to use either `displot` (a figure-level function with similar flexibility) or `histplot` (an axes-level function for histograms).\n",
      "  warnings.warn(msg, FutureWarning)\n"
     ]
    },
    {
     "data": {
      "text/plain": [
       "<AxesSubplot:xlabel='diff_scores', ylabel='Density'>"
      ]
     },
     "execution_count": 8,
     "metadata": {},
     "output_type": "execute_result"
    },
    {
     "data": {
      "image/png": "[encoded data removed]",
      "text/plain": [
       "<Figure size 432x288 with 1 Axes>"
      ]
     },
     "metadata": {
      "needs_background": "light"
     },
     "output_type": "display_data"
    }
   ],
   "source": [
    "sns.distplot(movie_data['diff_scores'])"
   ]
  },
  {
   "cell_type": "markdown",
   "id": "b01303e0",
   "metadata": {},
   "source": [
    "let's do a null Hypothesis: \n",
    "\n",
    "- H0: There is no difference between the ratings given to movies from movielens and TMDB\n",
    "- H1: There is difference between the ratings given to movies from movielens and TMDB"
   ]
  },
  {
   "cell_type": "code",
   "execution_count": 9,
   "id": "cb65468b",
   "metadata": {},
   "outputs": [
    {
     "data": {
      "text/plain": [
       "Ttest_relResult(statistic=20.001241505852125, pvalue=1.0673377253889067e-88)"
      ]
     },
     "execution_count": 9,
     "metadata": {},
     "output_type": "execute_result"
    }
   ],
   "source": [
    "stats.ttest_rel(movie_data['ave_Movielen_score_modified'],\n",
    "                      movie_data['ave_TMDB_score'], axis=0, nan_policy='omit', alternative='two-sided')"
   ]
  },
  {
   "cell_type": "markdown",
   "id": "0670d8de",
   "metadata": {},
   "source": [
    "- Because pvalue<0.05, we refuse the null hypothesisthe, which means there is a difference between the ratings given to movies by movielens and TMDB."
   ]
  },
  {
   "cell_type": "markdown",
   "id": "3436706d",
   "metadata": {},
   "source": [
    "### 2. The number of ratings of each movie in Movielens and in TMDB are consistent?\n",
    "\n",
    "\n",
    "The total number of ratings in each movie by movielens and TMDB are different. Thus, as shown in the picture below, there is not very good linear relationship between number of ratings in each movie by movielens and TMDB."
   ]
  },
  {
   "cell_type": "code",
   "execution_count": 10,
   "id": "098637f9",
   "metadata": {},
   "outputs": [
    {
     "data": {
      "text/plain": [
       "<AxesSubplot:xlabel='sum_Movielen_rating', ylabel='sum_TMDB_rating'>"
      ]
     },
     "execution_count": 10,
     "metadata": {},
     "output_type": "execute_result"
    },
    {
     "data": {
      "image/png": "[encoded data removed]",
      "text/plain": [
       "<Figure size 432x288 with 1 Axes>"
      ]
     },
     "metadata": {
      "needs_background": "light"
     },
     "output_type": "display_data"
    }
   ],
   "source": [
    "sns.regplot(x='sum_Movielen_rating',y='sum_TMDB_rating',data=movie_data)"
   ]
  },
  {
   "cell_type": "markdown",
   "id": "79fba07e",
   "metadata": {},
   "source": [
    "Thus, we convert the **number of ratings of each movie** in movielens and TMDB to the **ratio of number of ratings of each movie in total ratings** in movielens and TMDB respectively."
   ]
  },
  {
   "cell_type": "code",
   "execution_count": 11,
   "id": "ee2e1a06",
   "metadata": {},
   "outputs": [
    {
     "data": {
      "text/html": [
       "<div>\n",
       "<style scoped>\n",
       "    .dataframe tbody tr th:only-of-type {\n",
       "        vertical-align: middle;\n",
       "    }\n",
       "\n",
       "    .dataframe tbody tr th {\n",
       "        vertical-align: top;\n",
       "    }\n",
       "\n",
       "    .dataframe thead th {\n",
       "        text-align: right;\n",
       "    }\n",
       "</style>\n",
       "<table border=\"1\" class=\"dataframe\">\n",
       "  <thead>\n",
       "    <tr style=\"text-align: right;\">\n",
       "      <th></th>\n",
       "      <th>count</th>\n",
       "      <th>mean</th>\n",
       "      <th>std</th>\n",
       "      <th>min</th>\n",
       "      <th>25%</th>\n",
       "      <th>50%</th>\n",
       "      <th>75%</th>\n",
       "      <th>max</th>\n",
       "    </tr>\n",
       "  </thead>\n",
       "  <tbody>\n",
       "    <tr>\n",
       "      <th>counts_frac_movielens</th>\n",
       "      <td>58300.0</td>\n",
       "      <td>0.000017</td>\n",
       "      <td>0.000100</td>\n",
       "      <td>4.007646e-08</td>\n",
       "      <td>8.015293e-08</td>\n",
       "      <td>2.404588e-07</td>\n",
       "      <td>0.000001</td>\n",
       "      <td>0.003266</td>\n",
       "    </tr>\n",
       "    <tr>\n",
       "      <th>counts_frac_TMDB</th>\n",
       "      <td>58300.0</td>\n",
       "      <td>0.000017</td>\n",
       "      <td>0.000076</td>\n",
       "      <td>0.000000e+00</td>\n",
       "      <td>5.268509e-07</td>\n",
       "      <td>1.448840e-06</td>\n",
       "      <td>0.000005</td>\n",
       "      <td>0.002003</td>\n",
       "    </tr>\n",
       "  </tbody>\n",
       "</table>\n",
       "</div>"
      ],
      "text/plain": [
       "                         count      mean       std           min  \\\n",
       "counts_frac_movielens  58300.0  0.000017  0.000100  4.007646e-08   \n",
       "counts_frac_TMDB       58300.0  0.000017  0.000076  0.000000e+00   \n",
       "\n",
       "                                25%           50%       75%       max  \n",
       "counts_frac_movielens  8.015293e-08  2.404588e-07  0.000001  0.003266  \n",
       "counts_frac_TMDB       5.268509e-07  1.448840e-06  0.000005  0.002003  "
      ]
     },
     "execution_count": 11,
     "metadata": {},
     "output_type": "execute_result"
    }
   ],
   "source": [
    "movie_data[['counts_frac_movielens','counts_frac_TMDB']].describe().T"
   ]
  },
  {
   "cell_type": "code",
   "execution_count": 12,
   "id": "72150924",
   "metadata": {},
   "outputs": [
    {
     "data": {
      "text/plain": [
       "array([[<AxesSubplot:title={'center':'counts_frac_movielens'}>,\n",
       "        <AxesSubplot:title={'center':'counts_frac_TMDB'}>]], dtype=object)"
      ]
     },
     "execution_count": 12,
     "metadata": {},
     "output_type": "execute_result"
    },
    {
     "data": {
      "image/png": "[encoded data removed]",
      "text/plain": [
       "<Figure size 432x288 with 2 Axes>"
      ]
     },
     "metadata": {
      "needs_background": "light"
     },
     "output_type": "display_data"
    }
   ],
   "source": [
    "movie_data[['counts_frac_movielens','counts_frac_TMDB']].hist()"
   ]
  },
  {
   "cell_type": "markdown",
   "id": "d67ebd1b",
   "metadata": {},
   "source": [
    "let's do a null Hypothesis: \n",
    "\n",
    "- H0: There is no difference between the ratio of number of ratings in total number given to movies from movielens and TMDB\n",
    "- H1: There is difference between the ratio of number of ratings in total number given to movies from movielens and TMDB"
   ]
  },
  {
   "cell_type": "code",
   "execution_count": 13,
   "id": "cb9dc3be",
   "metadata": {},
   "outputs": [
    {
     "data": {
      "text/plain": [
       "Ttest_relResult(statistic=-9.423453702813514e-16, pvalue=0.9999999999999992)"
      ]
     },
     "execution_count": 13,
     "metadata": {},
     "output_type": "execute_result"
    }
   ],
   "source": [
    "stats.ttest_rel(movie_data['counts_frac_movielens'],\n",
    "                      movie_data['counts_frac_TMDB'], axis=0, nan_policy='omit', alternative='two-sided')"
   ]
  },
  {
   "cell_type": "markdown",
   "id": "44e7f216",
   "metadata": {},
   "source": [
    "because the pvalue is larger than 0.05, we can not refuse the null hypothesis H0 that There is no difference between the ratio of number of ratings in total number given to movies from movielens and TMDB"
   ]
  },
  {
   "cell_type": "code",
   "execution_count": null,
   "id": "082bf376",
   "metadata": {},
   "outputs": [],
   "source": []
  }
 ],
 "metadata": {
  "kernelspec": {
   "display_name": "Python 3",
   "language": "python",
   "name": "python3"
  },
  "language_info": {
   "codemirror_mode": {
    "name": "ipython",
    "version": 3
   },
   "file_extension": ".py",
   "mimetype": "text/x-python",
   "name": "python",
   "nbconvert_exporter": "python",
   "pygments_lexer": "ipython3",
   "version": "3.8.8"
  }
 },
 "nbformat": 4,
 "nbformat_minor": 5
}
