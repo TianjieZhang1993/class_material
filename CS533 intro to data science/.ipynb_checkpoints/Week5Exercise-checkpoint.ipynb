{
 "cells": [
  {
   "cell_type": "markdown",
   "id": "5284cb88",
   "metadata": {},
   "source": [
    "# Week 5 Application Exercise\n",
    "\n",
    "This is the starting notebook for the Week 5 application exercise.  It is intended to demonstrate several things:\n",
    "\n",
    "- The use of simulation as a tool for understanding statistical methods\n",
    "- Performing hypothesis tests\n",
    "- The difference between paired and two-sample tests\n",
    "\n",
    "Save the notebook file and `.py` file into the same folder to start work on the assignment.\n",
    "\n",
    "Please treat the experiment as a black box and infer its behavior using the statistical techniques we have learned in class.  After class, I invite you to look at its source code and see how it works.\n",
    "\n",
    "The core idea of this is to identify whether “fabulators” under condition A have higher (or lower) nonsense production than under condition B.  The code will describe an experimental design, and allow you to “run” the experiment to draw samples."
   ]
  },
  {
   "cell_type": "markdown",
   "id": "80548e58",
   "metadata": {},
   "source": [
    "## Software Requirements\n",
    "\n",
    "This exercise requires an additional Python package that is not included in a default Anaconda install - the [seedbank](https://seedbank.lenskit.org) library.  You can install this with Pip:\n",
    "\n",
    "    pip install seedbank\n",
    "\n",
    "It's also available in Conda-Forge:\n",
    "\n",
    "    conda install -c conda-forge seedbank\n",
    "    \n",
    "Because it only has a few dependencies, and they are all included in almost all base Conda environments, the Pip installation works fine, and doesn't mix packages between Conda repositories."
   ]
  },
  {
   "cell_type": "markdown",
   "id": "8314057c",
   "metadata": {},
   "source": [
    "## Setup\n",
    "\n",
    "This project requires an additional \n",
    "\n",
    "We need to do our usual imports:"
   ]
  },
  {
   "cell_type": "code",
   "execution_count": null,
   "id": "2a4945ac",
   "metadata": {},
   "outputs": [],
   "source": [
    "import pandas as pd\n",
    "import numpy as np\n",
    "import scipy.stats as stats\n",
    "import statsmodels.api as sm\n",
    "import seaborn as sns\n",
    "import matplotlib.pyplot as plt"
   ]
  },
  {
   "cell_type": "markdown",
   "id": "c4f888fa",
   "metadata": {},
   "source": [
    "Because we are using random number generation, we want to **seed** the random number generator.  If we initialize it with the a fixed seed, re-running the notebook repeatedly will produce the same results.  This is useful for debugging and reproducibility.  We'll often want to re-run with a *different* seed before submitting, just to make sure that our results aren't accidentally the result of a pathological choice of random seeds.\n",
    "\n",
    "The Seedbank library initializes and seeds a wide range of Python random number generators.  The basic usage is to directly seed with a call to `initialize` (for teaching notebooks, I often use the current date as my random seed):\n",
    "\n",
    "    import seedbank\n",
    "    seedbank.initialize(20210923)\n",
    "\n",
    "However, if we all ran that code, we would all get the same results, but for this exercise I would like different teams to get *different* results.  Therefore, we will take advantage of another Seedbank feature that allows us to specify additional string keys that get incorporated into the random seed.  In the following cell, edit it to use your team name:"
   ]
  },
  {
   "cell_type": "code",
   "execution_count": null,
   "id": "fdb7e4c1",
   "metadata": {},
   "outputs": [],
   "source": [
    "TEAM_NAME = 'DemoTeam'\n",
    "import seedbank\n",
    "seedbank.initialize(20210923, TEAM_NAME)"
   ]
  },
  {
   "cell_type": "markdown",
   "id": "5ccbc2ad",
   "metadata": {},
   "source": [
    "The last piece is to import our custom module to get a 'world' from which we can sample:"
   ]
  },
  {
   "cell_type": "code",
   "execution_count": null,
   "id": "932461e7",
   "metadata": {},
   "outputs": [],
   "source": [
    "from cs533_w5_world import Experiment"
   ]
  },
  {
   "cell_type": "markdown",
   "id": "6bfd8a84",
   "metadata": {},
   "source": [
    "And then create our experiment:"
   ]
  },
  {
   "cell_type": "code",
   "execution_count": null,
   "id": "a3b7ebe1",
   "metadata": {},
   "outputs": [],
   "source": [
    "exp = Experiment()"
   ]
  },
  {
   "cell_type": "markdown",
   "id": "31e35aa4",
   "metadata": {},
   "source": [
    "## Getting Data\n",
    "\n",
    "We first need to know where our data is coming from.  The experiment describes itself:"
   ]
  },
  {
   "cell_type": "code",
   "execution_count": null,
   "id": "172d17fa",
   "metadata": {},
   "outputs": [],
   "source": [
    "print(exp.describe())"
   ]
  },
  {
   "cell_type": "markdown",
   "id": "16010148",
   "metadata": {},
   "source": [
    "We can run an instance of this experiment with size 50:"
   ]
  },
  {
   "cell_type": "code",
   "execution_count": null,
   "id": "7e15129f",
   "metadata": {},
   "outputs": [],
   "source": [
    "SAMPLE_SIZE = 50\n",
    "data = exp.run_experiment(SAMPLE_SIZE)\n",
    "data"
   ]
  },
  {
   "cell_type": "markdown",
   "id": "b56f2529",
   "metadata": {},
   "source": [
    "## Comparing Conditions/Groups\n",
    "\n",
    "Review the experiment description.  You need to compare A and B with a *t*-test, but the precise details will depend on your experiment structure.\n",
    "\n",
    "✅ Do you need to use a **paired** t-test or an **independent two-sample** t-test for this analysis?"
   ]
  },
  {
   "cell_type": "markdown",
   "id": "39f10091",
   "metadata": {},
   "source": []
  },
  {
   "cell_type": "markdown",
   "id": "259c6733",
   "metadata": {},
   "source": [
    "✅ What is the **null hypothesis** for the test with this data?"
   ]
  },
  {
   "cell_type": "markdown",
   "id": "ededc845",
   "metadata": {},
   "source": []
  },
  {
   "cell_type": "markdown",
   "id": "d84359a9",
   "metadata": {},
   "source": [
    "✅ Compute the means of both groups or conditions:"
   ]
  },
  {
   "cell_type": "code",
   "execution_count": null,
   "id": "a219985b",
   "metadata": {},
   "outputs": [],
   "source": []
  },
  {
   "cell_type": "markdown",
   "id": "92b33018",
   "metadata": {},
   "source": [
    "✅ Compute the *difference* in means. How much more nonsense is produced in A vs. B?\n",
    "\n",
    "This is also called the *effect size* (or specifically, the *unstandardized effect size*)."
   ]
  },
  {
   "cell_type": "code",
   "execution_count": null,
   "id": "c09c8c5d",
   "metadata": {},
   "outputs": [],
   "source": []
  },
  {
   "cell_type": "markdown",
   "id": "c1a84de4",
   "metadata": {},
   "source": [
    "✅ Run the appropriate *t*-test to test if this difference is statistically significant and obtain a *p*-value:"
   ]
  },
  {
   "cell_type": "code",
   "execution_count": null,
   "id": "b893ead6",
   "metadata": {},
   "outputs": [],
   "source": []
  },
  {
   "cell_type": "markdown",
   "id": "201b4092",
   "metadata": {},
   "source": [
    "✅ What does this result mean?"
   ]
  },
  {
   "cell_type": "markdown",
   "id": "14f0aa48",
   "metadata": {},
   "source": []
  },
  {
   "cell_type": "markdown",
   "id": "82f93e02",
   "metadata": {},
   "source": [
    "## Bootstrap\n",
    "\n",
    "✅ Bootstrap a confidence interval for the effect size (note that the bootstrap procedure will differ between paired and unpaired analyses):"
   ]
  },
  {
   "cell_type": "code",
   "execution_count": null,
   "id": "33723656",
   "metadata": {},
   "outputs": [],
   "source": []
  },
  {
   "cell_type": "markdown",
   "id": "4cd1e096",
   "metadata": {},
   "source": [
    "## Sampling Distribution\n",
    "\n",
    "✅ Compute the effect size of **100 runs** of your experiment.  Describe the distribution of these effect sizes numerically and graphically."
   ]
  },
  {
   "cell_type": "code",
   "execution_count": null,
   "id": "409c89b9",
   "metadata": {},
   "outputs": [],
   "source": []
  },
  {
   "cell_type": "markdown",
   "id": "717153c6",
   "metadata": {},
   "source": [
    "⚠ While the confidence interval above will likely be close percentiles of the effect size distribution, they are not the same thing.  **Why is that?**"
   ]
  },
  {
   "cell_type": "markdown",
   "id": "c122678d",
   "metadata": {},
   "source": [
    "## The Answers\n",
    "\n",
    "The experiment can tell you the answers (do **not** run this until you have completed the rest):"
   ]
  },
  {
   "cell_type": "code",
   "execution_count": null,
   "id": "c968cc90",
   "metadata": {},
   "outputs": [],
   "source": [
    "exp.answers()"
   ]
  },
  {
   "cell_type": "markdown",
   "id": "74886675",
   "metadata": {},
   "source": [
    "## Other Analysis\n",
    "\n",
    "If you have time, create a second experiment with the opposite configuration of your initial.  The experiment class takes a `paired` option that you can use to force a paired or unpaired design by passing `True` or `False`:\n",
    "\n",
    "    exp2 = Experiment(paired=True)\n",
    "\n",
    "If you needed a paired analysis above, create an unpaired experiment (`paired=False`); if you used an independent analysis above, create a paired analysis. Repeat as much of your analysis as you can with the new experimental design."
   ]
  },
  {
   "cell_type": "code",
   "execution_count": null,
   "id": "0c1a9a68",
   "metadata": {},
   "outputs": [],
   "source": []
  }
 ],
 "metadata": {
  "kernelspec": {
   "display_name": "Python 3",
   "language": "python",
   "name": "python3"
  },
  "language_info": {
   "codemirror_mode": {
    "name": "ipython",
    "version": 3
   },
   "file_extension": ".py",
   "mimetype": "text/x-python",
   "name": "python",
   "nbconvert_exporter": "python",
   "pygments_lexer": "ipython3",
   "version": "3.8.8"
  }
 },
 "nbformat": 4,
 "nbformat_minor": 5
}
