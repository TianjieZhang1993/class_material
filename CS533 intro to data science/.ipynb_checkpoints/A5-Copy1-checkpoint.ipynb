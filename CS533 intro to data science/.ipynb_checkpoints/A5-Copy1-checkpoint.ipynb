{
 "cells": [
  {
   "cell_type": "code",
   "execution_count": 347,
   "id": "95892113",
   "metadata": {},
   "outputs": [],
   "source": [
    "import pandas as pd\n",
    "import numpy as np\n",
    "import seaborn as sns\n",
    "import matplotlib.pyplot as plt\n",
    "from census import Census\n",
    "import statsmodels.formula.api as smf\n",
    "import statsmodels.api as sm\n",
    "import scipy.stats as sps\n",
    "from sklearn.preprocessing import FunctionTransformer, OneHotEncoder, StandardScaler, PolynomialFeatures\n",
    "from sklearn.compose import ColumnTransformer\n",
    "from sklearn.pipeline import Pipeline\n",
    "from sklearn.linear_model import LinearRegression, ElasticNetCV,LogisticRegression\n",
    "from sklearn.model_selection import train_test_split,GridSearchCV\n",
    "from sklearn.metrics import mean_squared_error,accuracy_score,precision_score,classification_report\n",
    "from sklearn.ensemble import RandomForestClassifier\n",
    "from sklearn.datasets import make_classification\n",
    "from sklearn.impute import SimpleImputer\n",
    "import sklearn\n",
    "import warnings\n",
    "warnings.filterwarnings(\"ignore\")"
   ]
  },
  {
   "cell_type": "code",
   "execution_count": 255,
   "id": "572e0c8e",
   "metadata": {},
   "outputs": [],
   "source": [
    "rng = np.random.RandomState(20211105)"
   ]
  },
  {
   "cell_type": "code",
   "execution_count": 256,
   "id": "29fa8a9f",
   "metadata": {},
   "outputs": [],
   "source": [
    "def metric_count(y,y_hat):\n",
    "    accuracy_score(y,y_hat)\n",
    "    fpr, tpr, thresh = sklearn.metrics.roc_curve(y, y_hat)\n",
    "    precision, recall, thresholds = sklearn.metrics.precision_recall_curve(y, y_hat)\n",
    "    f0=plt.figure()\n",
    "    f0.add_subplot(2,2,1)\n",
    "    plt.fill_between(fpr, tpr, 0, color='lightgrey')\n",
    "    plt.plot(np.linspace(0, 1), np.linspace(0, 1), color='red', linestyle=':')\n",
    "    plt.plot(fpr, tpr)\n",
    "    plt.xlabel('False Positive Rate')\n",
    "    plt.ylabel('True Positive Rate')\n",
    "    plt.title('ROC')\n",
    "    #plt.show()\n",
    "    f0.add_subplot(2,2,2)\n",
    "    #precision, recall, thresholds = sklearn.metrics.precision_recall_curve(y, y_hat)\n",
    "    plt.plot(recall, precision)\n",
    "    plt.xlabel('Recall')\n",
    "    plt.ylabel('Precision')\n",
    "    plt.title('P-R')\n",
    "    #plt.show()\n",
    "    f0.tight_layout()\n",
    "    return print(classification_report(y,y_hat))"
   ]
  },
  {
   "cell_type": "markdown",
   "id": "33eb7f84",
   "metadata": {},
   "source": [
    "## Data Prep and Exploration (30%)"
   ]
  },
  {
   "cell_type": "code",
   "execution_count": 257,
   "id": "af2ffc5c",
   "metadata": {},
   "outputs": [
    {
     "data": {
      "text/html": [
       "<div>\n",
       "<style scoped>\n",
       "    .dataframe tbody tr th:only-of-type {\n",
       "        vertical-align: middle;\n",
       "    }\n",
       "\n",
       "    .dataframe tbody tr th {\n",
       "        vertical-align: top;\n",
       "    }\n",
       "\n",
       "    .dataframe thead th {\n",
       "        text-align: right;\n",
       "    }\n",
       "</style>\n",
       "<table border=\"1\" class=\"dataframe\">\n",
       "  <thead>\n",
       "    <tr style=\"text-align: right;\">\n",
       "      <th></th>\n",
       "      <th>LoanNr_ChkDgt</th>\n",
       "      <th>Name</th>\n",
       "      <th>City</th>\n",
       "      <th>State</th>\n",
       "      <th>Zip</th>\n",
       "      <th>Bank</th>\n",
       "      <th>BankState</th>\n",
       "      <th>NAICS</th>\n",
       "      <th>ApprovalDate</th>\n",
       "      <th>ApprovalFY</th>\n",
       "      <th>...</th>\n",
       "      <th>RevLineCr</th>\n",
       "      <th>LowDoc</th>\n",
       "      <th>ChgOffDate</th>\n",
       "      <th>DisbursementDate</th>\n",
       "      <th>DisbursementGross</th>\n",
       "      <th>BalanceGross</th>\n",
       "      <th>MIS_Status</th>\n",
       "      <th>ChgOffPrinGr</th>\n",
       "      <th>GrAppv</th>\n",
       "      <th>SBA_Appv</th>\n",
       "    </tr>\n",
       "  </thead>\n",
       "  <tbody>\n",
       "    <tr>\n",
       "      <th>0</th>\n",
       "      <td>1000014003</td>\n",
       "      <td>ABC HOBBYCRAFT</td>\n",
       "      <td>EVANSVILLE</td>\n",
       "      <td>IN</td>\n",
       "      <td>47711</td>\n",
       "      <td>FIFTH THIRD BANK</td>\n",
       "      <td>OH</td>\n",
       "      <td>451120</td>\n",
       "      <td>28-Feb-97</td>\n",
       "      <td>1997</td>\n",
       "      <td>...</td>\n",
       "      <td>N</td>\n",
       "      <td>Y</td>\n",
       "      <td>NaN</td>\n",
       "      <td>28-Feb-99</td>\n",
       "      <td>$60,000.00</td>\n",
       "      <td>$0.00</td>\n",
       "      <td>P I F</td>\n",
       "      <td>$0.00</td>\n",
       "      <td>$60,000.00</td>\n",
       "      <td>$48,000.00</td>\n",
       "    </tr>\n",
       "    <tr>\n",
       "      <th>1</th>\n",
       "      <td>1000024006</td>\n",
       "      <td>LANDMARK BAR &amp; GRILLE (THE)</td>\n",
       "      <td>NEW PARIS</td>\n",
       "      <td>IN</td>\n",
       "      <td>46526</td>\n",
       "      <td>1ST SOURCE BANK</td>\n",
       "      <td>IN</td>\n",
       "      <td>722410</td>\n",
       "      <td>28-Feb-97</td>\n",
       "      <td>1997</td>\n",
       "      <td>...</td>\n",
       "      <td>N</td>\n",
       "      <td>Y</td>\n",
       "      <td>NaN</td>\n",
       "      <td>31-May-97</td>\n",
       "      <td>$40,000.00</td>\n",
       "      <td>$0.00</td>\n",
       "      <td>P I F</td>\n",
       "      <td>$0.00</td>\n",
       "      <td>$40,000.00</td>\n",
       "      <td>$32,000.00</td>\n",
       "    </tr>\n",
       "    <tr>\n",
       "      <th>2</th>\n",
       "      <td>1000034009</td>\n",
       "      <td>WHITLOCK DDS, TODD M.</td>\n",
       "      <td>BLOOMINGTON</td>\n",
       "      <td>IN</td>\n",
       "      <td>47401</td>\n",
       "      <td>GRANT COUNTY STATE BANK</td>\n",
       "      <td>IN</td>\n",
       "      <td>621210</td>\n",
       "      <td>28-Feb-97</td>\n",
       "      <td>1997</td>\n",
       "      <td>...</td>\n",
       "      <td>N</td>\n",
       "      <td>N</td>\n",
       "      <td>NaN</td>\n",
       "      <td>31-Dec-97</td>\n",
       "      <td>$287,000.00</td>\n",
       "      <td>$0.00</td>\n",
       "      <td>P I F</td>\n",
       "      <td>$0.00</td>\n",
       "      <td>$287,000.00</td>\n",
       "      <td>$215,250.00</td>\n",
       "    </tr>\n",
       "    <tr>\n",
       "      <th>3</th>\n",
       "      <td>1000044001</td>\n",
       "      <td>BIG BUCKS PAWN &amp; JEWELRY, LLC</td>\n",
       "      <td>BROKEN ARROW</td>\n",
       "      <td>OK</td>\n",
       "      <td>74012</td>\n",
       "      <td>1ST NATL BK &amp; TR CO OF BROKEN</td>\n",
       "      <td>OK</td>\n",
       "      <td>0</td>\n",
       "      <td>28-Feb-97</td>\n",
       "      <td>1997</td>\n",
       "      <td>...</td>\n",
       "      <td>N</td>\n",
       "      <td>Y</td>\n",
       "      <td>NaN</td>\n",
       "      <td>30-Jun-97</td>\n",
       "      <td>$35,000.00</td>\n",
       "      <td>$0.00</td>\n",
       "      <td>P I F</td>\n",
       "      <td>$0.00</td>\n",
       "      <td>$35,000.00</td>\n",
       "      <td>$28,000.00</td>\n",
       "    </tr>\n",
       "    <tr>\n",
       "      <th>4</th>\n",
       "      <td>1000054004</td>\n",
       "      <td>ANASTASIA CONFECTIONS, INC.</td>\n",
       "      <td>ORLANDO</td>\n",
       "      <td>FL</td>\n",
       "      <td>32801</td>\n",
       "      <td>FLORIDA BUS. DEVEL CORP</td>\n",
       "      <td>FL</td>\n",
       "      <td>0</td>\n",
       "      <td>28-Feb-97</td>\n",
       "      <td>1997</td>\n",
       "      <td>...</td>\n",
       "      <td>N</td>\n",
       "      <td>N</td>\n",
       "      <td>NaN</td>\n",
       "      <td>14-May-97</td>\n",
       "      <td>$229,000.00</td>\n",
       "      <td>$0.00</td>\n",
       "      <td>P I F</td>\n",
       "      <td>$0.00</td>\n",
       "      <td>$229,000.00</td>\n",
       "      <td>$229,000.00</td>\n",
       "    </tr>\n",
       "  </tbody>\n",
       "</table>\n",
       "<p>5 rows × 27 columns</p>\n",
       "</div>"
      ],
      "text/plain": [
       "   LoanNr_ChkDgt                           Name          City State    Zip  \\\n",
       "0     1000014003                 ABC HOBBYCRAFT    EVANSVILLE    IN  47711   \n",
       "1     1000024006    LANDMARK BAR & GRILLE (THE)     NEW PARIS    IN  46526   \n",
       "2     1000034009          WHITLOCK DDS, TODD M.   BLOOMINGTON    IN  47401   \n",
       "3     1000044001  BIG BUCKS PAWN & JEWELRY, LLC  BROKEN ARROW    OK  74012   \n",
       "4     1000054004    ANASTASIA CONFECTIONS, INC.       ORLANDO    FL  32801   \n",
       "\n",
       "                            Bank BankState   NAICS ApprovalDate ApprovalFY  \\\n",
       "0               FIFTH THIRD BANK        OH  451120    28-Feb-97       1997   \n",
       "1                1ST SOURCE BANK        IN  722410    28-Feb-97       1997   \n",
       "2        GRANT COUNTY STATE BANK        IN  621210    28-Feb-97       1997   \n",
       "3  1ST NATL BK & TR CO OF BROKEN        OK       0    28-Feb-97       1997   \n",
       "4        FLORIDA BUS. DEVEL CORP        FL       0    28-Feb-97       1997   \n",
       "\n",
       "   ...  RevLineCr  LowDoc  ChgOffDate  DisbursementDate  DisbursementGross  \\\n",
       "0  ...          N       Y         NaN         28-Feb-99        $60,000.00    \n",
       "1  ...          N       Y         NaN         31-May-97        $40,000.00    \n",
       "2  ...          N       N         NaN         31-Dec-97       $287,000.00    \n",
       "3  ...          N       Y         NaN         30-Jun-97        $35,000.00    \n",
       "4  ...          N       N         NaN         14-May-97       $229,000.00    \n",
       "\n",
       "   BalanceGross  MIS_Status ChgOffPrinGr        GrAppv      SBA_Appv  \n",
       "0        $0.00        P I F       $0.00    $60,000.00    $48,000.00   \n",
       "1        $0.00        P I F       $0.00    $40,000.00    $32,000.00   \n",
       "2        $0.00        P I F       $0.00   $287,000.00   $215,250.00   \n",
       "3        $0.00        P I F       $0.00    $35,000.00    $28,000.00   \n",
       "4        $0.00        P I F       $0.00   $229,000.00   $229,000.00   \n",
       "\n",
       "[5 rows x 27 columns]"
      ]
     },
     "execution_count": 257,
     "metadata": {},
     "output_type": "execute_result"
    }
   ],
   "source": [
    "SBAnational=pd.read_csv('SBAnational.CSV')\n",
    "SBAnational.head()"
   ]
  },
  {
   "cell_type": "code",
   "execution_count": 258,
   "id": "9507964d",
   "metadata": {},
   "outputs": [],
   "source": [
    "SBAnationalpredictable=SBAnational[SBAnational.MIS_Status.notnull()]\n",
    "SBAnationalpredictable.MIS_Status.replace(('CHGOFF',\"P I F\"),(0,1),inplace=True)"
   ]
  },
  {
   "cell_type": "code",
   "execution_count": 259,
   "id": "43107250",
   "metadata": {},
   "outputs": [],
   "source": [
    "train, test = train_test_split(SBAnationalpredictable, test_size=0.25, random_state=12345)\n",
    "train, tune = train_test_split(train, test_size=0.2, random_state=1234)"
   ]
  },
  {
   "cell_type": "code",
   "execution_count": 260,
   "id": "add12ea7",
   "metadata": {},
   "outputs": [
    {
     "data": {
      "text/plain": [
       "538300"
      ]
     },
     "execution_count": 260,
     "metadata": {},
     "output_type": "execute_result"
    }
   ],
   "source": [
    "train['MIS_Status'].count()"
   ]
  },
  {
   "cell_type": "code",
   "execution_count": 261,
   "id": "9eb76903",
   "metadata": {},
   "outputs": [
    {
     "data": {
      "text/plain": [
       "443900"
      ]
     },
     "execution_count": 261,
     "metadata": {},
     "output_type": "execute_result"
    }
   ],
   "source": [
    "train['MIS_Status'].sum()"
   ]
  },
  {
   "cell_type": "code",
   "execution_count": 262,
   "id": "cb0073da",
   "metadata": {},
   "outputs": [
    {
     "data": {
      "text/plain": [
       "0.8246331042169793"
      ]
     },
     "execution_count": 262,
     "metadata": {},
     "output_type": "execute_result"
    }
   ],
   "source": [
    "default_ratio=train['MIS_Status'].sum()/train['MIS_Status'].count()\n",
    "default_ratio"
   ]
  },
  {
   "cell_type": "code",
   "execution_count": 263,
   "id": "04246293",
   "metadata": {},
   "outputs": [
    {
     "name": "stdout",
     "output_type": "stream",
     "text": [
      "              precision    recall  f1-score   support\n",
      "\n",
      "           0       0.00      0.00      0.00     94400\n",
      "           1       0.82      1.00      0.90    443900\n",
      "\n",
      "    accuracy                           0.82    538300\n",
      "   macro avg       0.41      0.50      0.45    538300\n",
      "weighted avg       0.68      0.82      0.75    538300\n",
      "\n"
     ]
    },
    {
     "data": {
      "image/png": "[encoded data removed]",
      "text/plain": [
       "<Figure size 432x288 with 2 Axes>"
      ]
     },
     "metadata": {
      "needs_background": "light"
     },
     "output_type": "display_data"
    }
   ],
   "source": [
    "train['majority-class classifier']=1\n",
    "metric_count(train['MIS_Status'],train['majority-class classifier'])"
   ]
  },
  {
   "cell_type": "code",
   "execution_count": 264,
   "id": "a372780e",
   "metadata": {},
   "outputs": [
    {
     "data": {
      "text/plain": [
       "(0.8246331042169793, 0.8246331042169793, 1.0)"
      ]
     },
     "execution_count": 264,
     "metadata": {},
     "output_type": "execute_result"
    }
   ],
   "source": [
    "accuracy=train['MIS_Status'].sum()/train['MIS_Status'].count()\n",
    "precision=train['MIS_Status'].sum()/train['MIS_Status'].count()\n",
    "recall=train['MIS_Status'].sum()/train['MIS_Status'].sum()\n",
    "accuracy,precision,recall"
   ]
  },
  {
   "cell_type": "markdown",
   "id": "df4b9645",
   "metadata": {},
   "source": [
    "## Feature Engineering"
   ]
  },
  {
   "cell_type": "markdown",
   "id": "0645da4b",
   "metadata": {},
   "source": [
    "### 1. Urban or Rural?"
   ]
  },
  {
   "cell_type": "code",
   "execution_count": 265,
   "id": "457c63b4",
   "metadata": {},
   "outputs": [
    {
     "data": {
      "image/png": "[encoded data removed]",
      "text/plain": [
       "<Figure size 432x288 with 2 Axes>"
      ]
     },
     "metadata": {
      "needs_background": "light"
     },
     "output_type": "display_data"
    }
   ],
   "source": [
    "f0=plt.figure()\n",
    "f0.add_subplot(2,1,1)\n",
    "sns.countplot(train.loc[train['MIS_Status']==0,'UrbanRural'])\n",
    "plt.xlabel('charged off')\n",
    "f0.add_subplot(2,1,2)\n",
    "sns.countplot(train.loc[train['MIS_Status']==1,'UrbanRural'])\n",
    "plt.xlabel(\"Paid in Full\")\n",
    "f0.tight_layout()"
   ]
  },
  {
   "cell_type": "code",
   "execution_count": 266,
   "id": "05db3533",
   "metadata": {},
   "outputs": [
    {
     "data": {
      "text/plain": [
       "0.9290401460983688"
      ]
     },
     "execution_count": 266,
     "metadata": {},
     "output_type": "execute_result"
    }
   ],
   "source": [
    "train.loc[train['UrbanRural']==0,'MIS_Status'].sum()/train.loc[train['UrbanRural']==0,'MIS_Status'].count()"
   ]
  },
  {
   "cell_type": "code",
   "execution_count": 267,
   "id": "da51a0a7",
   "metadata": {},
   "outputs": [
    {
     "data": {
      "text/plain": [
       "0.7553054902532622"
      ]
     },
     "execution_count": 267,
     "metadata": {},
     "output_type": "execute_result"
    }
   ],
   "source": [
    "train.loc[train['UrbanRural']==1,'MIS_Status'].sum()/train.loc[train['UrbanRural']==1,'MIS_Status'].count()"
   ]
  },
  {
   "cell_type": "code",
   "execution_count": 268,
   "id": "90a10069",
   "metadata": {},
   "outputs": [
    {
     "data": {
      "text/plain": [
       "0.8128525605574605"
      ]
     },
     "execution_count": 268,
     "metadata": {},
     "output_type": "execute_result"
    }
   ],
   "source": [
    "train.loc[train['UrbanRural']==2,'MIS_Status'].sum()/train.loc[train['UrbanRural']==2,'MIS_Status'].count()"
   ]
  },
  {
   "cell_type": "markdown",
   "id": "aa31fcf5",
   "metadata": {},
   "source": [
    "|urban or rural?|   0=undefined    | 1=urban | 2=rural     |\n",
    "|:---    | :----:     |    :----:   |          ---: |\n",
    "| percentage of pay in full | 0.9290401460983688          | 0.7553054902532622     | 0.8128525605574605 |\n"
   ]
  },
  {
   "cell_type": "markdown",
   "id": "9cc7f211",
   "metadata": {},
   "source": [
    "### 2. Is industry in the same state with bank?"
   ]
  },
  {
   "cell_type": "code",
   "execution_count": 269,
   "id": "2c9a83a3",
   "metadata": {
    "scrolled": true
   },
   "outputs": [
    {
     "data": {
      "text/plain": [
       "<AxesSubplot:xlabel='MIS_Status', ylabel='count'>"
      ]
     },
     "execution_count": 269,
     "metadata": {},
     "output_type": "execute_result"
    },
    {
     "data": {
      "image/png": "[encoded data removed]",
      "text/plain": [
       "<Figure size 432x288 with 1 Axes>"
      ]
     },
     "metadata": {
      "needs_background": "light"
     },
     "output_type": "display_data"
    }
   ],
   "source": [
    "sns.countplot(train.loc[train['BankState']==train['State'],'MIS_Status'])"
   ]
  },
  {
   "cell_type": "code",
   "execution_count": 270,
   "id": "f65fd78f",
   "metadata": {},
   "outputs": [
    {
     "data": {
      "text/plain": [
       "0.8948582090865884"
      ]
     },
     "execution_count": 270,
     "metadata": {},
     "output_type": "execute_result"
    }
   ],
   "source": [
    "train.loc[train['BankState']==train['State'],'MIS_Status'].sum()/train.loc[train['BankState']==train['State'],'MIS_Status'].count()"
   ]
  },
  {
   "cell_type": "code",
   "execution_count": 271,
   "id": "c2f92a73",
   "metadata": {},
   "outputs": [
    {
     "data": {
      "text/plain": [
       "0.7461800161255433"
      ]
     },
     "execution_count": 271,
     "metadata": {},
     "output_type": "execute_result"
    }
   ],
   "source": [
    "train.loc[train['BankState']!=train['State'],'MIS_Status'].sum()/train.loc[train['BankState']!=train['State'],'MIS_Status'].count()"
   ]
  },
  {
   "cell_type": "markdown",
   "id": "cc4346b5",
   "metadata": {},
   "source": [
    "convert from int to 0/1"
   ]
  },
  {
   "cell_type": "code",
   "execution_count": 272,
   "id": "98bdd77a",
   "metadata": {},
   "outputs": [],
   "source": [
    "train['same_state']=0\n",
    "train.loc[train['BankState']==train['State'],'same_state']=1"
   ]
  },
  {
   "cell_type": "markdown",
   "id": "b912076f",
   "metadata": {},
   "source": [
    "### 3. CreateJob"
   ]
  },
  {
   "cell_type": "code",
   "execution_count": 273,
   "id": "5a287c10",
   "metadata": {},
   "outputs": [
    {
     "data": {
      "text/html": [
       "<div>\n",
       "<style scoped>\n",
       "    .dataframe tbody tr th:only-of-type {\n",
       "        vertical-align: middle;\n",
       "    }\n",
       "\n",
       "    .dataframe tbody tr th {\n",
       "        vertical-align: top;\n",
       "    }\n",
       "\n",
       "    .dataframe thead th {\n",
       "        text-align: right;\n",
       "    }\n",
       "</style>\n",
       "<table border=\"1\" class=\"dataframe\">\n",
       "  <thead>\n",
       "    <tr style=\"text-align: right;\">\n",
       "      <th></th>\n",
       "      <th>count</th>\n",
       "      <th>mean</th>\n",
       "      <th>std</th>\n",
       "      <th>min</th>\n",
       "      <th>25%</th>\n",
       "      <th>50%</th>\n",
       "      <th>75%</th>\n",
       "      <th>max</th>\n",
       "    </tr>\n",
       "    <tr>\n",
       "      <th>MIS_Status</th>\n",
       "      <th></th>\n",
       "      <th></th>\n",
       "      <th></th>\n",
       "      <th></th>\n",
       "      <th></th>\n",
       "      <th></th>\n",
       "      <th></th>\n",
       "      <th></th>\n",
       "    </tr>\n",
       "  </thead>\n",
       "  <tbody>\n",
       "    <tr>\n",
       "      <th>0</th>\n",
       "      <td>94400.0</td>\n",
       "      <td>14.060403</td>\n",
       "      <td>328.952250</td>\n",
       "      <td>0.0</td>\n",
       "      <td>0.0</td>\n",
       "      <td>0.0</td>\n",
       "      <td>2.0</td>\n",
       "      <td>8800.0</td>\n",
       "    </tr>\n",
       "    <tr>\n",
       "      <th>1</th>\n",
       "      <td>443900.0</td>\n",
       "      <td>7.333613</td>\n",
       "      <td>214.411292</td>\n",
       "      <td>0.0</td>\n",
       "      <td>0.0</td>\n",
       "      <td>0.0</td>\n",
       "      <td>1.0</td>\n",
       "      <td>8800.0</td>\n",
       "    </tr>\n",
       "  </tbody>\n",
       "</table>\n",
       "</div>"
      ],
      "text/plain": [
       "               count       mean         std  min  25%  50%  75%     max\n",
       "MIS_Status                                                             \n",
       "0            94400.0  14.060403  328.952250  0.0  0.0  0.0  2.0  8800.0\n",
       "1           443900.0   7.333613  214.411292  0.0  0.0  0.0  1.0  8800.0"
      ]
     },
     "execution_count": 273,
     "metadata": {},
     "output_type": "execute_result"
    }
   ],
   "source": [
    "train.groupby('MIS_Status')['CreateJob'].describe()"
   ]
  },
  {
   "cell_type": "code",
   "execution_count": 274,
   "id": "140af17d",
   "metadata": {},
   "outputs": [
    {
     "data": {
      "text/plain": [
       "<AxesSubplot:xlabel='MIS_Status', ylabel='CreateJob'>"
      ]
     },
     "execution_count": 274,
     "metadata": {},
     "output_type": "execute_result"
    },
    {
     "data": {
      "image/png": "[encoded data removed]",
      "text/plain": [
       "<Figure size 432x288 with 1 Axes>"
      ]
     },
     "metadata": {
      "needs_background": "light"
     },
     "output_type": "display_data"
    }
   ],
   "source": [
    "sns.boxplot(x='MIS_Status',y='CreateJob',data=train,color='white', showmeans=True)"
   ]
  },
  {
   "cell_type": "code",
   "execution_count": 275,
   "id": "aad1b8fe",
   "metadata": {},
   "outputs": [
    {
     "data": {
      "image/png": "[encoded data removed]",
      "text/plain": [
       "<Figure size 432x288 with 2 Axes>"
      ]
     },
     "metadata": {
      "needs_background": "light"
     },
     "output_type": "display_data"
    }
   ],
   "source": [
    "train.loc[train['CreateJob']==0,'whetherCreateJob']=0\n",
    "train.loc[train['CreateJob']>0,'whetherCreateJob']=1\n",
    "f0=plt.figure()\n",
    "f0.add_subplot(2,1,1)\n",
    "sns.countplot(train.loc[train['MIS_Status']==0,'whetherCreateJob'])\n",
    "plt.xlabel('charged off')\n",
    "f0.add_subplot(2,1,2)\n",
    "sns.countplot(train.loc[train['MIS_Status']==1,'whetherCreateJob'])\n",
    "plt.xlabel(\"Paid in Full\")\n",
    "f0.tight_layout()"
   ]
  },
  {
   "cell_type": "code",
   "execution_count": 276,
   "id": "a9fd1ac4",
   "metadata": {},
   "outputs": [
    {
     "data": {
      "text/plain": [
       "0.7810003656397766"
      ]
     },
     "execution_count": 276,
     "metadata": {},
     "output_type": "execute_result"
    }
   ],
   "source": [
    "train.loc[train['whetherCreateJob']==1,'MIS_Status'].sum()/train.loc[train['whetherCreateJob']==1,'MIS_Status'].count()"
   ]
  },
  {
   "cell_type": "markdown",
   "id": "16e2003a",
   "metadata": {},
   "source": [
    "### 4. retain job"
   ]
  },
  {
   "cell_type": "code",
   "execution_count": 277,
   "id": "23bfbfb6",
   "metadata": {},
   "outputs": [
    {
     "data": {
      "text/html": [
       "<div>\n",
       "<style scoped>\n",
       "    .dataframe tbody tr th:only-of-type {\n",
       "        vertical-align: middle;\n",
       "    }\n",
       "\n",
       "    .dataframe tbody tr th {\n",
       "        vertical-align: top;\n",
       "    }\n",
       "\n",
       "    .dataframe thead th {\n",
       "        text-align: right;\n",
       "    }\n",
       "</style>\n",
       "<table border=\"1\" class=\"dataframe\">\n",
       "  <thead>\n",
       "    <tr style=\"text-align: right;\">\n",
       "      <th></th>\n",
       "      <th>count</th>\n",
       "      <th>mean</th>\n",
       "      <th>std</th>\n",
       "      <th>min</th>\n",
       "      <th>25%</th>\n",
       "      <th>50%</th>\n",
       "      <th>75%</th>\n",
       "      <th>max</th>\n",
       "    </tr>\n",
       "    <tr>\n",
       "      <th>MIS_Status</th>\n",
       "      <th></th>\n",
       "      <th></th>\n",
       "      <th></th>\n",
       "      <th></th>\n",
       "      <th></th>\n",
       "      <th></th>\n",
       "      <th></th>\n",
       "      <th></th>\n",
       "    </tr>\n",
       "  </thead>\n",
       "  <tbody>\n",
       "    <tr>\n",
       "      <th>0</th>\n",
       "      <td>94400.0</td>\n",
       "      <td>16.734555</td>\n",
       "      <td>329.598724</td>\n",
       "      <td>0.0</td>\n",
       "      <td>0.0</td>\n",
       "      <td>2.0</td>\n",
       "      <td>5.0</td>\n",
       "      <td>8800.0</td>\n",
       "    </tr>\n",
       "    <tr>\n",
       "      <th>1</th>\n",
       "      <td>443900.0</td>\n",
       "      <td>9.654368</td>\n",
       "      <td>215.183879</td>\n",
       "      <td>0.0</td>\n",
       "      <td>0.0</td>\n",
       "      <td>0.0</td>\n",
       "      <td>4.0</td>\n",
       "      <td>9500.0</td>\n",
       "    </tr>\n",
       "  </tbody>\n",
       "</table>\n",
       "</div>"
      ],
      "text/plain": [
       "               count       mean         std  min  25%  50%  75%     max\n",
       "MIS_Status                                                             \n",
       "0            94400.0  16.734555  329.598724  0.0  0.0  2.0  5.0  8800.0\n",
       "1           443900.0   9.654368  215.183879  0.0  0.0  0.0  4.0  9500.0"
      ]
     },
     "execution_count": 277,
     "metadata": {},
     "output_type": "execute_result"
    }
   ],
   "source": [
    "train.groupby('MIS_Status')['RetainedJob'].describe()"
   ]
  },
  {
   "cell_type": "code",
   "execution_count": 278,
   "id": "6b2e939e",
   "metadata": {},
   "outputs": [
    {
     "data": {
      "text/plain": [
       "<AxesSubplot:xlabel='MIS_Status', ylabel='RetainedJob'>"
      ]
     },
     "execution_count": 278,
     "metadata": {},
     "output_type": "execute_result"
    },
    {
     "data": {
      "image/png": "[encoded data removed]",
      "text/plain": [
       "<Figure size 432x288 with 1 Axes>"
      ]
     },
     "metadata": {
      "needs_background": "light"
     },
     "output_type": "display_data"
    }
   ],
   "source": [
    "sns.boxplot(x='MIS_Status',y='RetainedJob',data=train,color='white', showmeans=True)"
   ]
  },
  {
   "cell_type": "code",
   "execution_count": 279,
   "id": "1e2a69ae",
   "metadata": {},
   "outputs": [
    {
     "data": {
      "image/png": "[encoded data removed]",
      "text/plain": [
       "<Figure size 432x288 with 2 Axes>"
      ]
     },
     "metadata": {
      "needs_background": "light"
     },
     "output_type": "display_data"
    }
   ],
   "source": [
    "train.loc[train['RetainedJob']==0,'whetherRetainedJob']=0\n",
    "train.loc[train['RetainedJob']>0,'whetherRetainedJob']=1\n",
    "f0=plt.figure()\n",
    "f0.add_subplot(2,1,1)\n",
    "sns.countplot(train.loc[train['MIS_Status']==0,'whetherRetainedJob'])\n",
    "plt.xlabel('charged off')\n",
    "f0.add_subplot(2,1,2)\n",
    "sns.countplot(train.loc[train['MIS_Status']==1,'whetherRetainedJob'])\n",
    "plt.xlabel(\"Paid in Full\")\n",
    "f0.tight_layout()"
   ]
  },
  {
   "cell_type": "markdown",
   "id": "5d677fba",
   "metadata": {},
   "source": [
    "### 5. The proportion guaranteed by SBA"
   ]
  },
  {
   "cell_type": "code",
   "execution_count": 280,
   "id": "8ccedb57",
   "metadata": {},
   "outputs": [],
   "source": [
    "def SBA_G_ratio(mat):\n",
    "    rows, cols = mat.shape\n",
    "    assert cols == 2\n",
    "    mat.iloc[:, 0]=mat.iloc[:, 0].str.replace('$','').str.replace(',','').astype(\"float64\")\n",
    "    mat.iloc[:, 1]=mat.iloc[:, 1].str.replace('$','').str.replace(',','').astype(\"float64\")\n",
    "    if hasattr(mat, 'iloc'):\n",
    "        # Pandas object, use iloc\n",
    "        res = mat.iloc[:, 0] / mat.iloc[:, 1]\n",
    "        return res.to_frame()\n",
    "    else:\n",
    "        # probably a numpy array\n",
    "        res = mat[:, 0] / mat[:, 1]\n",
    "        return res.reshape((rows, 1))"
   ]
  },
  {
   "cell_type": "code",
   "execution_count": 281,
   "id": "21141421",
   "metadata": {},
   "outputs": [],
   "source": [
    "#train['SBA_Appv']=train['SBA_Appv'].str.replace('$','').str.replace(',','').astype(\"float64\")\n",
    "#train['GrAppv']=train['GrAppv'].str.replace('$','').str.replace(',','').astype(\"float64\")\n",
    "train['SBA_G_ration']=SBA_G_ratio(train[['SBA_Appv','GrAppv']])"
   ]
  },
  {
   "cell_type": "code",
   "execution_count": 282,
   "id": "0338f28f",
   "metadata": {},
   "outputs": [
    {
     "data": {
      "text/plain": [
       "<AxesSubplot:xlabel='MIS_Status', ylabel='SBA_G_ration'>"
      ]
     },
     "execution_count": 282,
     "metadata": {},
     "output_type": "execute_result"
    },
    {
     "data": {
      "image/png": "[encoded data removed]",
      "text/plain": [
       "<Figure size 432x288 with 1 Axes>"
      ]
     },
     "metadata": {
      "needs_background": "light"
     },
     "output_type": "display_data"
    }
   ],
   "source": [
    "sns.boxplot(x='MIS_Status',y='SBA_G_ration',data=train,color='white', showmeans=True)"
   ]
  },
  {
   "cell_type": "markdown",
   "id": "ee5e2efc",
   "metadata": {},
   "source": [
    "### 6. DisbursementGross"
   ]
  },
  {
   "cell_type": "code",
   "execution_count": 283,
   "id": "93728c63",
   "metadata": {},
   "outputs": [],
   "source": [
    "def remove_symbol(dataframe):\n",
    "    dataframe=dataframe.copy()\n",
    "    dataframe['DisbursementGross']=dataframe['DisbursementGross'].str.replace('$','').str.replace(',','').astype(\"float64\")\n",
    "    return dataframe"
   ]
  },
  {
   "cell_type": "code",
   "execution_count": 284,
   "id": "00563aea",
   "metadata": {},
   "outputs": [],
   "source": [
    "train['DisbursementGross1']=train['DisbursementGross'].str.replace('$','').str.replace(',','').astype(\"float64\")"
   ]
  },
  {
   "cell_type": "code",
   "execution_count": 285,
   "id": "c3f70949",
   "metadata": {},
   "outputs": [
    {
     "data": {
      "text/plain": [
       "<AxesSubplot:xlabel='MIS_Status', ylabel='DisbursementGross1'>"
      ]
     },
     "execution_count": 285,
     "metadata": {},
     "output_type": "execute_result"
    },
    {
     "data": {
      "image/png": "[encoded data removed]",
      "text/plain": [
       "<Figure size 432x288 with 1 Axes>"
      ]
     },
     "metadata": {
      "needs_background": "light"
     },
     "output_type": "display_data"
    }
   ],
   "source": [
    "sns.boxplot(x='MIS_Status',y='DisbursementGross1',data=train,color='white', showmeans=True)"
   ]
  },
  {
   "cell_type": "code",
   "execution_count": 286,
   "id": "7cee443f",
   "metadata": {},
   "outputs": [
    {
     "data": {
      "text/plain": [
       "<AxesSubplot:xlabel='MIS_Status', ylabel='DisbursementGross2'>"
      ]
     },
     "execution_count": 286,
     "metadata": {},
     "output_type": "execute_result"
    },
    {
     "data": {
      "image/png": "[encoded data removed]",
      "text/plain": [
       "<Figure size 432x288 with 1 Axes>"
      ]
     },
     "metadata": {
      "needs_background": "light"
     },
     "output_type": "display_data"
    }
   ],
   "source": [
    "train['DisbursementGross2']=np.log(train['DisbursementGross1'])\n",
    "sns.boxplot(x='MIS_Status',y='DisbursementGross2',data=train,color='white', showmeans=True)"
   ]
  },
  {
   "cell_type": "code",
   "execution_count": 287,
   "id": "d4a66f65",
   "metadata": {},
   "outputs": [],
   "source": [
    "def log_transformer(dataframe):\n",
    "    return np.log(dataframe)"
   ]
  },
  {
   "cell_type": "markdown",
   "id": "f7a739ec",
   "metadata": {},
   "source": [
    "### 7. Industry"
   ]
  },
  {
   "cell_type": "code",
   "execution_count": 288,
   "id": "90af371d",
   "metadata": {},
   "outputs": [],
   "source": [
    "train['NAICS']=train['NAICS'].astype(str)"
   ]
  },
  {
   "cell_type": "code",
   "execution_count": 289,
   "id": "5132d18f",
   "metadata": {},
   "outputs": [],
   "source": [
    "def industry_type(num):\n",
    "    string=num[0:2]\n",
    "    if string=='21'or string=='11'or string=='55'or string=='62':\n",
    "        return \"low\"\n",
    "    elif string=='52' or string=='53':\n",
    "        return \"high\"\n",
    "    else:\n",
    "        return \"median\""
   ]
  },
  {
   "cell_type": "code",
   "execution_count": 290,
   "id": "d2d1d2cc",
   "metadata": {},
   "outputs": [],
   "source": [
    "train['industry_type']=train['NAICS'].apply(industry_type)"
   ]
  },
  {
   "cell_type": "code",
   "execution_count": 291,
   "id": "92f629b3",
   "metadata": {},
   "outputs": [
    {
     "data": {
      "image/png": "[encoded data removed]",
      "text/plain": [
       "<Figure size 432x288 with 3 Axes>"
      ]
     },
     "metadata": {
      "needs_background": "light"
     },
     "output_type": "display_data"
    }
   ],
   "source": [
    "f0=plt.figure()\n",
    "f0.add_subplot(2,2,1)\n",
    "sns.countplot(train['industry_type'])\n",
    "plt.xlabel(\"all condition\")\n",
    "f0.add_subplot(2,2,2)\n",
    "sns.countplot(train['industry_type'].loc[train['MIS_Status']==1])\n",
    "plt.xlabel(\"Paid in Full\")\n",
    "f0.add_subplot(2,2,3)\n",
    "sns.countplot(train['industry_type'].loc[train['MIS_Status']==0])\n",
    "plt.xlabel('charged off')\n",
    "f0.tight_layout()"
   ]
  },
  {
   "cell_type": "code",
   "execution_count": 292,
   "id": "d3ed873d",
   "metadata": {},
   "outputs": [
    {
     "data": {
      "text/plain": [
       "0.8988865257099963"
      ]
     },
     "execution_count": 292,
     "metadata": {},
     "output_type": "execute_result"
    }
   ],
   "source": [
    "train.loc[train['industry_type']=='low','MIS_Status'].sum()/train.loc[train['industry_type']=='low','MIS_Status'].count()"
   ]
  },
  {
   "cell_type": "code",
   "execution_count": 293,
   "id": "ed9ea6f3",
   "metadata": {},
   "outputs": [
    {
     "data": {
      "text/plain": [
       "0.821647358086582"
      ]
     },
     "execution_count": 293,
     "metadata": {},
     "output_type": "execute_result"
    }
   ],
   "source": [
    "train.loc[train['industry_type']=='median','MIS_Status'].sum()/train.loc[train['industry_type']=='median','MIS_Status'].count()"
   ]
  },
  {
   "cell_type": "code",
   "execution_count": 294,
   "id": "66b43977",
   "metadata": {},
   "outputs": [
    {
     "data": {
      "text/plain": [
       "0.7160194174757282"
      ]
     },
     "execution_count": 294,
     "metadata": {},
     "output_type": "execute_result"
    }
   ],
   "source": [
    "train.loc[train['industry_type']=='high','MIS_Status'].sum()/train.loc[train['industry_type']=='high','MIS_Status'].count()"
   ]
  },
  {
   "cell_type": "markdown",
   "id": "25b17343",
   "metadata": {},
   "source": [
    "### 8. Term"
   ]
  },
  {
   "cell_type": "code",
   "execution_count": 295,
   "id": "effbb618",
   "metadata": {},
   "outputs": [
    {
     "data": {
      "text/plain": [
       "<AxesSubplot:xlabel='Term1', ylabel='count'>"
      ]
     },
     "execution_count": 295,
     "metadata": {},
     "output_type": "execute_result"
    },
    {
     "data": {
      "image/png": "[encoded data removed]",
      "text/plain": [
       "<Figure size 432x288 with 1 Axes>"
      ]
     },
     "metadata": {
      "needs_background": "light"
     },
     "output_type": "display_data"
    }
   ],
   "source": [
    "train.loc[train['Term']>=240,'Term1']=1\n",
    "train.loc[train['Term']<240,'Term1']=0\n",
    "sns.countplot(train['Term1'])"
   ]
  },
  {
   "cell_type": "code",
   "execution_count": 296,
   "id": "6fe39588",
   "metadata": {},
   "outputs": [],
   "source": [
    "def term_transform(dataframe):\n",
    "    dataframe=dataframe.copy()\n",
    "    dataframe.loc[dataframe<240]=0\n",
    "    dataframe.loc[dataframe>=240]=1\n",
    "    return dataframe"
   ]
  },
  {
   "cell_type": "code",
   "execution_count": 308,
   "id": "f2345e6d",
   "metadata": {},
   "outputs": [
    {
     "data": {
      "text/plain": [
       "180471     84\n",
       "831515     23\n",
       "820462    246\n",
       "568393     36\n",
       "667814     84\n",
       "         ... \n",
       "413260     60\n",
       "568439    180\n",
       "449887    120\n",
       "86022     104\n",
       "896298     84\n",
       "Name: Term, Length: 538300, dtype: int64"
      ]
     },
     "execution_count": 308,
     "metadata": {},
     "output_type": "execute_result"
    }
   ],
   "source": [
    "train['Term']"
   ]
  },
  {
   "cell_type": "code",
   "execution_count": 309,
   "id": "2e6b7a45",
   "metadata": {},
   "outputs": [
    {
     "data": {
      "text/plain": [
       "180471    0\n",
       "831515    0\n",
       "820462    1\n",
       "568393    0\n",
       "667814    0\n",
       "         ..\n",
       "413260    0\n",
       "568439    0\n",
       "449887    0\n",
       "86022     0\n",
       "896298    0\n",
       "Name: Term, Length: 538300, dtype: int64"
      ]
     },
     "execution_count": 309,
     "metadata": {},
     "output_type": "execute_result"
    }
   ],
   "source": [
    "term_transform(train['Term'])"
   ]
  },
  {
   "cell_type": "markdown",
   "id": "dfa6aa69",
   "metadata": {},
   "source": [
    "### 9. Recession"
   ]
  },
  {
   "cell_type": "code",
   "execution_count": 299,
   "id": "0afd20e7",
   "metadata": {},
   "outputs": [],
   "source": [
    "train['DisbursementDate']=pd.to_datetime(train['DisbursementDate'])\n",
    "train['Recession']=0\n",
    "train.loc[train[(train['DisbursementDate']+pd.Timedelta('30 days')>='2007-12-1')&(train['DisbursementDate']+pd.Timedelta('30 days')<='2009-6-30')].index,['Recession']]=1"
   ]
  },
  {
   "cell_type": "code",
   "execution_count": 300,
   "id": "aa9265ab",
   "metadata": {},
   "outputs": [
    {
     "data": {
      "image/png": "[encoded data removed]",
      "text/plain": [
       "<Figure size 432x288 with 3 Axes>"
      ]
     },
     "metadata": {
      "needs_background": "light"
     },
     "output_type": "display_data"
    }
   ],
   "source": [
    "f0=plt.figure()\n",
    "f0.add_subplot(2,2,1)\n",
    "sns.countplot(train['Recession'])\n",
    "plt.xlabel(\"all condition\")\n",
    "f0.add_subplot(2,2,2)\n",
    "sns.countplot(train['Recession'].loc[train['MIS_Status']==1])\n",
    "plt.xlabel(\"Paid in Full\")\n",
    "f0.add_subplot(2,2,3)\n",
    "sns.countplot(train['Recession'].loc[train['MIS_Status']==0])\n",
    "plt.xlabel('charged off')\n",
    "f0.tight_layout()"
   ]
  },
  {
   "cell_type": "markdown",
   "id": "dcd438e3",
   "metadata": {},
   "source": [
    "### 10. State"
   ]
  },
  {
   "cell_type": "code",
   "execution_count": 301,
   "id": "8f1d0c48",
   "metadata": {},
   "outputs": [
    {
     "data": {
      "text/plain": [
       "<AxesSubplot:xlabel='MIS_Status', ylabel='State'>"
      ]
     },
     "execution_count": 301,
     "metadata": {},
     "output_type": "execute_result"
    },
    {
     "data": {
      "image/png": "[encoded data removed]",
      "text/plain": [
       "<Figure size 360x720 with 1 Axes>"
      ]
     },
     "metadata": {
      "needs_background": "light"
     },
     "output_type": "display_data"
    }
   ],
   "source": [
    "state=(1-train.groupby('State')['MIS_Status'].sum()/train.groupby('State')['MIS_Status'].count()).reset_index()\n",
    "plt.figure(figsize=(5, 10))\n",
    "sns.barplot(x='MIS_Status',y='State',data=state,color='gray')"
   ]
  },
  {
   "cell_type": "markdown",
   "id": "6ec3934c",
   "metadata": {},
   "source": [
    "### 11.NewExist?"
   ]
  },
  {
   "cell_type": "code",
   "execution_count": 302,
   "id": "c527a945",
   "metadata": {},
   "outputs": [
    {
     "data": {
      "text/plain": [
       "<AxesSubplot:>"
      ]
     },
     "execution_count": 302,
     "metadata": {},
     "output_type": "execute_result"
    },
    {
     "data": {
      "image/png": "[encoded data removed]",
      "text/plain": [
       "<Figure size 432x288 with 1 Axes>"
      ]
     },
     "metadata": {
      "needs_background": "light"
     },
     "output_type": "display_data"
    }
   ],
   "source": [
    "train['NewExist'].hist()"
   ]
  },
  {
   "cell_type": "code",
   "execution_count": 303,
   "id": "7bf3fca0",
   "metadata": {},
   "outputs": [
    {
     "data": {
      "image/png": "[encoded data removed]",
      "text/plain": [
       "<Figure size 432x288 with 2 Axes>"
      ]
     },
     "metadata": {
      "needs_background": "light"
     },
     "output_type": "display_data"
    }
   ],
   "source": [
    "f0=plt.figure()\n",
    "f0.add_subplot(2,1,1)\n",
    "sns.countplot(train['NewExist'].loc[train['MIS_Status']==1])\n",
    "plt.xlabel(\"Paid in Full\")\n",
    "f0.add_subplot(2,1,2)\n",
    "sns.countplot(train['NewExist'].loc[train['MIS_Status']==0])\n",
    "plt.xlabel('charged off')\n",
    "f0.tight_layout()"
   ]
  },
  {
   "cell_type": "code",
   "execution_count": null,
   "id": "a87499e4",
   "metadata": {},
   "outputs": [],
   "source": []
  },
  {
   "cell_type": "markdown",
   "id": "67a4f754",
   "metadata": {},
   "source": [
    "### Train set"
   ]
  },
  {
   "cell_type": "code",
   "execution_count": 304,
   "id": "47561ad7",
   "metadata": {},
   "outputs": [
    {
     "data": {
      "text/html": [
       "<div>\n",
       "<style scoped>\n",
       "    .dataframe tbody tr th:only-of-type {\n",
       "        vertical-align: middle;\n",
       "    }\n",
       "\n",
       "    .dataframe tbody tr th {\n",
       "        vertical-align: top;\n",
       "    }\n",
       "\n",
       "    .dataframe thead th {\n",
       "        text-align: right;\n",
       "    }\n",
       "</style>\n",
       "<table border=\"1\" class=\"dataframe\">\n",
       "  <thead>\n",
       "    <tr style=\"text-align: right;\">\n",
       "      <th></th>\n",
       "      <th>180471</th>\n",
       "      <th>831515</th>\n",
       "      <th>820462</th>\n",
       "      <th>568393</th>\n",
       "      <th>667814</th>\n",
       "      <th>563362</th>\n",
       "      <th>24791</th>\n",
       "      <th>830452</th>\n",
       "      <th>466480</th>\n",
       "      <th>713632</th>\n",
       "      <th>...</th>\n",
       "      <th>720062</th>\n",
       "      <th>400334</th>\n",
       "      <th>703659</th>\n",
       "      <th>630143</th>\n",
       "      <th>775213</th>\n",
       "      <th>413260</th>\n",
       "      <th>568439</th>\n",
       "      <th>449887</th>\n",
       "      <th>86022</th>\n",
       "      <th>896298</th>\n",
       "    </tr>\n",
       "  </thead>\n",
       "  <tbody>\n",
       "    <tr>\n",
       "      <th>LoanNr_ChkDgt</th>\n",
       "      <td>2285514008</td>\n",
       "      <td>8927613007</td>\n",
       "      <td>8800724004</td>\n",
       "      <td>5603434008</td>\n",
       "      <td>6781394006</td>\n",
       "      <td>5545253007</td>\n",
       "      <td>1186165006</td>\n",
       "      <td>8918474007</td>\n",
       "      <td>4507553008</td>\n",
       "      <td>7425734010</td>\n",
       "      <td>...</td>\n",
       "      <td>7495564002</td>\n",
       "      <td>3859324004</td>\n",
       "      <td>7314854008</td>\n",
       "      <td>6258594002</td>\n",
       "      <td>8195114010</td>\n",
       "      <td>3994505009</td>\n",
       "      <td>5604063010</td>\n",
       "      <td>4363904002</td>\n",
       "      <td>1640755007</td>\n",
       "      <td>9932193000</td>\n",
       "    </tr>\n",
       "    <tr>\n",
       "      <th>Name</th>\n",
       "      <td>CHEM-DRY</td>\n",
       "      <td>ALL IMPORT AUTO PARTS</td>\n",
       "      <td>ARNAV INTERNATIONAL, INC.</td>\n",
       "      <td>MEMORY BAY</td>\n",
       "      <td>EVELYN D FISHER</td>\n",
       "      <td>FALMOUTH FISH MARKET INC</td>\n",
       "      <td>LEE'S ACCUPUNCTURE &amp; HERB</td>\n",
       "      <td>GRIZZLY'S GRILL, INC</td>\n",
       "      <td>REHMANN CONSTRUCTION, INC.</td>\n",
       "      <td>DAVID H MAURIER  ELECTRIC</td>\n",
       "      <td>...</td>\n",
       "      <td>WILLOWCREEK AMOCO</td>\n",
       "      <td>HEARTBREAK HELPER</td>\n",
       "      <td>JUSTRIGHT AWNINGS &amp; SIGNS INC</td>\n",
       "      <td>HAIRTIME</td>\n",
       "      <td>Jennifer?s Flea Market Shop, I</td>\n",
       "      <td>James R Gay Poultry Farm</td>\n",
       "      <td>REFLECTIONS AUTO BODY INCORPOR</td>\n",
       "      <td>KIM'S CLEANER</td>\n",
       "      <td>Lahti G. Samples</td>\n",
       "      <td>THE SPORTS GROUP, INC.</td>\n",
       "    </tr>\n",
       "    <tr>\n",
       "      <th>City</th>\n",
       "      <td>RAYTOWN</td>\n",
       "      <td>RIVERSIDE</td>\n",
       "      <td>ARLINGTON HEIGHTS</td>\n",
       "      <td>SANTA CLARA</td>\n",
       "      <td>UPPER MARLBORO (MARLBORO)</td>\n",
       "      <td>EAST FALMOUTH</td>\n",
       "      <td>LOS ANGELES</td>\n",
       "      <td>MANHATTAN</td>\n",
       "      <td>GARDEN GROVE</td>\n",
       "      <td>MANCHESTER</td>\n",
       "      <td>...</td>\n",
       "      <td>GERMANTOWN</td>\n",
       "      <td>LOS ANGELES</td>\n",
       "      <td>DOVER</td>\n",
       "      <td>LOS BANOS</td>\n",
       "      <td>PENSACOLA</td>\n",
       "      <td>Gilmer</td>\n",
       "      <td>WIND LAKE</td>\n",
       "      <td>AURORA</td>\n",
       "      <td>Troy</td>\n",
       "      <td>CONCORD</td>\n",
       "    </tr>\n",
       "    <tr>\n",
       "      <th>State</th>\n",
       "      <td>MO</td>\n",
       "      <td>CA</td>\n",
       "      <td>IL</td>\n",
       "      <td>CA</td>\n",
       "      <td>MD</td>\n",
       "      <td>MA</td>\n",
       "      <td>CA</td>\n",
       "      <td>KS</td>\n",
       "      <td>CA</td>\n",
       "      <td>NH</td>\n",
       "      <td>...</td>\n",
       "      <td>WI</td>\n",
       "      <td>CA</td>\n",
       "      <td>NH</td>\n",
       "      <td>CA</td>\n",
       "      <td>FL</td>\n",
       "      <td>TX</td>\n",
       "      <td>WI</td>\n",
       "      <td>CO</td>\n",
       "      <td>OH</td>\n",
       "      <td>MA</td>\n",
       "    </tr>\n",
       "    <tr>\n",
       "      <th>Zip</th>\n",
       "      <td>64138</td>\n",
       "      <td>0</td>\n",
       "      <td>60005</td>\n",
       "      <td>95054</td>\n",
       "      <td>20072</td>\n",
       "      <td>2536</td>\n",
       "      <td>90019</td>\n",
       "      <td>66503</td>\n",
       "      <td>92644</td>\n",
       "      <td>3104</td>\n",
       "      <td>...</td>\n",
       "      <td>53022</td>\n",
       "      <td>90036</td>\n",
       "      <td>3820</td>\n",
       "      <td>93635</td>\n",
       "      <td>32507</td>\n",
       "      <td>75644</td>\n",
       "      <td>53185</td>\n",
       "      <td>80010</td>\n",
       "      <td>45373</td>\n",
       "      <td>1742</td>\n",
       "    </tr>\n",
       "    <tr>\n",
       "      <th>Bank</th>\n",
       "      <td>COUNTRY CLUB BANK</td>\n",
       "      <td>WELLS FARGO BANK NATL ASSOC</td>\n",
       "      <td>BANCO POPULAR NORTH AMERICA</td>\n",
       "      <td>CALIFORNIA BANK &amp; TRUST</td>\n",
       "      <td>INNOVATIVE BANK</td>\n",
       "      <td>TD BANK, NATIONAL ASSOCIATION</td>\n",
       "      <td>BANK OF AMERICA NATL ASSOC</td>\n",
       "      <td>COMMUNITY FIRST NATIONAL BANK</td>\n",
       "      <td>WELLS FARGO BANK NATL ASSOC</td>\n",
       "      <td>CITIZENS BANK NATL ASSOC</td>\n",
       "      <td>...</td>\n",
       "      <td>U.S. BANK NATIONAL ASSOCIATION</td>\n",
       "      <td>COMMUNITY BANK</td>\n",
       "      <td>CITIZENS BANK NATL ASSOC</td>\n",
       "      <td>WELLS FARGO BANK NATL ASSOC</td>\n",
       "      <td>FLORIDA 1ST CAP. FINAN CORPORA</td>\n",
       "      <td>FIRST FINANCIAL BANK</td>\n",
       "      <td>ASSOCIATED BANK NATL ASSOC</td>\n",
       "      <td>PREMIER BANK</td>\n",
       "      <td>PNC BANK, NATIONAL ASSOCIATION</td>\n",
       "      <td>WELLS FARGO BANK NATL ASSOC</td>\n",
       "    </tr>\n",
       "    <tr>\n",
       "      <th>BankState</th>\n",
       "      <td>KS</td>\n",
       "      <td>SD</td>\n",
       "      <td>NY</td>\n",
       "      <td>CA</td>\n",
       "      <td>CA</td>\n",
       "      <td>MA</td>\n",
       "      <td>NC</td>\n",
       "      <td>KS</td>\n",
       "      <td>SD</td>\n",
       "      <td>RI</td>\n",
       "      <td>...</td>\n",
       "      <td>CA</td>\n",
       "      <td>CA</td>\n",
       "      <td>RI</td>\n",
       "      <td>SD</td>\n",
       "      <td>FL</td>\n",
       "      <td>AR</td>\n",
       "      <td>WI</td>\n",
       "      <td>CO</td>\n",
       "      <td>DE</td>\n",
       "      <td>SD</td>\n",
       "    </tr>\n",
       "    <tr>\n",
       "      <th>NAICS</th>\n",
       "      <td>561740</td>\n",
       "      <td>0</td>\n",
       "      <td>722110</td>\n",
       "      <td>421690</td>\n",
       "      <td>514199</td>\n",
       "      <td>0</td>\n",
       "      <td>621399</td>\n",
       "      <td>722110</td>\n",
       "      <td>235310</td>\n",
       "      <td>238210</td>\n",
       "      <td>...</td>\n",
       "      <td>447110</td>\n",
       "      <td>422210</td>\n",
       "      <td>238990</td>\n",
       "      <td>812112</td>\n",
       "      <td>454390</td>\n",
       "      <td>112320</td>\n",
       "      <td>811121</td>\n",
       "      <td>812320</td>\n",
       "      <td>441310</td>\n",
       "      <td>0</td>\n",
       "    </tr>\n",
       "    <tr>\n",
       "      <th>ApprovalDate</th>\n",
       "      <td>27-Aug-98</td>\n",
       "      <td>12-Jan-96</td>\n",
       "      <td>19-Apr-05</td>\n",
       "      <td>9-Aug-02</td>\n",
       "      <td>10-Oct-03</td>\n",
       "      <td>23-Feb-93</td>\n",
       "      <td>9-Feb-05</td>\n",
       "      <td>10-Jun-05</td>\n",
       "      <td>3-Jul-91</td>\n",
       "      <td>11-May-04</td>\n",
       "      <td>...</td>\n",
       "      <td>4-Jun-04</td>\n",
       "      <td>27-Jul-00</td>\n",
       "      <td>31-Mar-04</td>\n",
       "      <td>18-Apr-03</td>\n",
       "      <td>29-Nov-04</td>\n",
       "      <td>25-Mar-10</td>\n",
       "      <td>25-Mar-93</td>\n",
       "      <td>9-Mar-01</td>\n",
       "      <td>1-Feb-06</td>\n",
       "      <td>30-Jan-97</td>\n",
       "    </tr>\n",
       "    <tr>\n",
       "      <th>ApprovalFY</th>\n",
       "      <td>1998</td>\n",
       "      <td>1996</td>\n",
       "      <td>2005</td>\n",
       "      <td>2002</td>\n",
       "      <td>2004</td>\n",
       "      <td>1993</td>\n",
       "      <td>2005</td>\n",
       "      <td>2005</td>\n",
       "      <td>1991</td>\n",
       "      <td>2004</td>\n",
       "      <td>...</td>\n",
       "      <td>2004</td>\n",
       "      <td>2000</td>\n",
       "      <td>2004</td>\n",
       "      <td>2003</td>\n",
       "      <td>2005</td>\n",
       "      <td>2010</td>\n",
       "      <td>1993</td>\n",
       "      <td>2001</td>\n",
       "      <td>2006</td>\n",
       "      <td>1997</td>\n",
       "    </tr>\n",
       "    <tr>\n",
       "      <th>Term</th>\n",
       "      <td>84</td>\n",
       "      <td>23</td>\n",
       "      <td>246</td>\n",
       "      <td>36</td>\n",
       "      <td>84</td>\n",
       "      <td>60</td>\n",
       "      <td>63</td>\n",
       "      <td>9</td>\n",
       "      <td>300</td>\n",
       "      <td>84</td>\n",
       "      <td>...</td>\n",
       "      <td>300</td>\n",
       "      <td>53</td>\n",
       "      <td>84</td>\n",
       "      <td>83</td>\n",
       "      <td>240</td>\n",
       "      <td>60</td>\n",
       "      <td>180</td>\n",
       "      <td>120</td>\n",
       "      <td>104</td>\n",
       "      <td>84</td>\n",
       "    </tr>\n",
       "    <tr>\n",
       "      <th>NoEmp</th>\n",
       "      <td>2</td>\n",
       "      <td>1</td>\n",
       "      <td>1</td>\n",
       "      <td>7</td>\n",
       "      <td>1</td>\n",
       "      <td>8</td>\n",
       "      <td>2</td>\n",
       "      <td>10</td>\n",
       "      <td>11</td>\n",
       "      <td>1</td>\n",
       "      <td>...</td>\n",
       "      <td>2</td>\n",
       "      <td>1</td>\n",
       "      <td>6</td>\n",
       "      <td>4</td>\n",
       "      <td>2</td>\n",
       "      <td>1</td>\n",
       "      <td>13</td>\n",
       "      <td>1</td>\n",
       "      <td>2</td>\n",
       "      <td>3</td>\n",
       "    </tr>\n",
       "    <tr>\n",
       "      <th>NewExist</th>\n",
       "      <td>1.0</td>\n",
       "      <td>1.0</td>\n",
       "      <td>2.0</td>\n",
       "      <td>1.0</td>\n",
       "      <td>1.0</td>\n",
       "      <td>1.0</td>\n",
       "      <td>1.0</td>\n",
       "      <td>1.0</td>\n",
       "      <td>1.0</td>\n",
       "      <td>1.0</td>\n",
       "      <td>...</td>\n",
       "      <td>1.0</td>\n",
       "      <td>2.0</td>\n",
       "      <td>1.0</td>\n",
       "      <td>1.0</td>\n",
       "      <td>1.0</td>\n",
       "      <td>1.0</td>\n",
       "      <td>1.0</td>\n",
       "      <td>1.0</td>\n",
       "      <td>2.0</td>\n",
       "      <td>1.0</td>\n",
       "    </tr>\n",
       "    <tr>\n",
       "      <th>CreateJob</th>\n",
       "      <td>0</td>\n",
       "      <td>0</td>\n",
       "      <td>10</td>\n",
       "      <td>2</td>\n",
       "      <td>1</td>\n",
       "      <td>0</td>\n",
       "      <td>0</td>\n",
       "      <td>0</td>\n",
       "      <td>0</td>\n",
       "      <td>0</td>\n",
       "      <td>...</td>\n",
       "      <td>0</td>\n",
       "      <td>0</td>\n",
       "      <td>0</td>\n",
       "      <td>0</td>\n",
       "      <td>3</td>\n",
       "      <td>0</td>\n",
       "      <td>0</td>\n",
       "      <td>2</td>\n",
       "      <td>2</td>\n",
       "      <td>0</td>\n",
       "    </tr>\n",
       "    <tr>\n",
       "      <th>RetainedJob</th>\n",
       "      <td>0</td>\n",
       "      <td>0</td>\n",
       "      <td>1</td>\n",
       "      <td>7</td>\n",
       "      <td>1</td>\n",
       "      <td>0</td>\n",
       "      <td>2</td>\n",
       "      <td>0</td>\n",
       "      <td>0</td>\n",
       "      <td>1</td>\n",
       "      <td>...</td>\n",
       "      <td>0</td>\n",
       "      <td>0</td>\n",
       "      <td>6</td>\n",
       "      <td>4</td>\n",
       "      <td>0</td>\n",
       "      <td>1</td>\n",
       "      <td>0</td>\n",
       "      <td>0</td>\n",
       "      <td>2</td>\n",
       "      <td>0</td>\n",
       "    </tr>\n",
       "    <tr>\n",
       "      <th>FranchiseCode</th>\n",
       "      <td>16033</td>\n",
       "      <td>1</td>\n",
       "      <td>25650</td>\n",
       "      <td>1</td>\n",
       "      <td>1</td>\n",
       "      <td>1</td>\n",
       "      <td>1</td>\n",
       "      <td>1</td>\n",
       "      <td>1</td>\n",
       "      <td>1</td>\n",
       "      <td>...</td>\n",
       "      <td>1</td>\n",
       "      <td>1</td>\n",
       "      <td>1</td>\n",
       "      <td>1</td>\n",
       "      <td>1</td>\n",
       "      <td>0</td>\n",
       "      <td>1</td>\n",
       "      <td>1</td>\n",
       "      <td>0</td>\n",
       "      <td>1</td>\n",
       "    </tr>\n",
       "    <tr>\n",
       "      <th>UrbanRural</th>\n",
       "      <td>0</td>\n",
       "      <td>0</td>\n",
       "      <td>1</td>\n",
       "      <td>1</td>\n",
       "      <td>0</td>\n",
       "      <td>0</td>\n",
       "      <td>1</td>\n",
       "      <td>2</td>\n",
       "      <td>0</td>\n",
       "      <td>1</td>\n",
       "      <td>...</td>\n",
       "      <td>2</td>\n",
       "      <td>1</td>\n",
       "      <td>1</td>\n",
       "      <td>1</td>\n",
       "      <td>1</td>\n",
       "      <td>2</td>\n",
       "      <td>0</td>\n",
       "      <td>1</td>\n",
       "      <td>2</td>\n",
       "      <td>0</td>\n",
       "    </tr>\n",
       "    <tr>\n",
       "      <th>RevLineCr</th>\n",
       "      <td>N</td>\n",
       "      <td>0</td>\n",
       "      <td>0</td>\n",
       "      <td>Y</td>\n",
       "      <td>0</td>\n",
       "      <td>N</td>\n",
       "      <td>T</td>\n",
       "      <td>0</td>\n",
       "      <td>N</td>\n",
       "      <td>Y</td>\n",
       "      <td>...</td>\n",
       "      <td>N</td>\n",
       "      <td>N</td>\n",
       "      <td>Y</td>\n",
       "      <td>Y</td>\n",
       "      <td>0</td>\n",
       "      <td>N</td>\n",
       "      <td>N</td>\n",
       "      <td>0</td>\n",
       "      <td>N</td>\n",
       "      <td>T</td>\n",
       "    </tr>\n",
       "    <tr>\n",
       "      <th>LowDoc</th>\n",
       "      <td>N</td>\n",
       "      <td>N</td>\n",
       "      <td>N</td>\n",
       "      <td>N</td>\n",
       "      <td>N</td>\n",
       "      <td>N</td>\n",
       "      <td>N</td>\n",
       "      <td>Y</td>\n",
       "      <td>N</td>\n",
       "      <td>N</td>\n",
       "      <td>...</td>\n",
       "      <td>N</td>\n",
       "      <td>N</td>\n",
       "      <td>N</td>\n",
       "      <td>N</td>\n",
       "      <td>N</td>\n",
       "      <td>N</td>\n",
       "      <td>N</td>\n",
       "      <td>N</td>\n",
       "      <td>N</td>\n",
       "      <td>N</td>\n",
       "    </tr>\n",
       "    <tr>\n",
       "      <th>ChgOffDate</th>\n",
       "      <td>NaN</td>\n",
       "      <td>1-Apr-01</td>\n",
       "      <td>NaN</td>\n",
       "      <td>NaN</td>\n",
       "      <td>NaN</td>\n",
       "      <td>NaN</td>\n",
       "      <td>27-Dec-06</td>\n",
       "      <td>25-Jan-11</td>\n",
       "      <td>NaN</td>\n",
       "      <td>NaN</td>\n",
       "      <td>...</td>\n",
       "      <td>NaN</td>\n",
       "      <td>1-Mar-04</td>\n",
       "      <td>NaN</td>\n",
       "      <td>NaN</td>\n",
       "      <td>NaN</td>\n",
       "      <td>NaN</td>\n",
       "      <td>NaN</td>\n",
       "      <td>NaN</td>\n",
       "      <td>NaN</td>\n",
       "      <td>NaN</td>\n",
       "    </tr>\n",
       "    <tr>\n",
       "      <th>DisbursementDate</th>\n",
       "      <td>1999-02-28 00:00:00</td>\n",
       "      <td>1996-01-31 00:00:00</td>\n",
       "      <td>2005-09-30 00:00:00</td>\n",
       "      <td>2002-08-31 00:00:00</td>\n",
       "      <td>2003-10-31 00:00:00</td>\n",
       "      <td>1993-04-30 00:00:00</td>\n",
       "      <td>2005-02-28 00:00:00</td>\n",
       "      <td>2005-08-31 00:00:00</td>\n",
       "      <td>1991-07-31 00:00:00</td>\n",
       "      <td>2004-07-31 00:00:00</td>\n",
       "      <td>...</td>\n",
       "      <td>2004-06-30 00:00:00</td>\n",
       "      <td>2000-09-30 00:00:00</td>\n",
       "      <td>2004-04-30 00:00:00</td>\n",
       "      <td>2003-05-31 00:00:00</td>\n",
       "      <td>2006-02-15 00:00:00</td>\n",
       "      <td>2010-06-01 00:00:00</td>\n",
       "      <td>1993-04-30 00:00:00</td>\n",
       "      <td>2001-03-31 00:00:00</td>\n",
       "      <td>2006-03-31 00:00:00</td>\n",
       "      <td>1997-09-30 00:00:00</td>\n",
       "    </tr>\n",
       "    <tr>\n",
       "      <th>DisbursementGross</th>\n",
       "      <td>$100,000.00</td>\n",
       "      <td>$20,000.00</td>\n",
       "      <td>$1,476,853.00</td>\n",
       "      <td>$75,000.00</td>\n",
       "      <td>$10,000.00</td>\n",
       "      <td>$30,000.00</td>\n",
       "      <td>$19,612.00</td>\n",
       "      <td>$100,000.00</td>\n",
       "      <td>$774,000.00</td>\n",
       "      <td>$38,553.00</td>\n",
       "      <td>...</td>\n",
       "      <td>$550,000.00</td>\n",
       "      <td>$50,000.00</td>\n",
       "      <td>$197,582.00</td>\n",
       "      <td>$23,030.00</td>\n",
       "      <td>$135,000.00</td>\n",
       "      <td>$24,000.00</td>\n",
       "      <td>$740,000.00</td>\n",
       "      <td>$192,000.00</td>\n",
       "      <td>$75,100.00</td>\n",
       "      <td>$49,999.00</td>\n",
       "    </tr>\n",
       "    <tr>\n",
       "      <th>BalanceGross</th>\n",
       "      <td>$0.00</td>\n",
       "      <td>$0.00</td>\n",
       "      <td>$0.00</td>\n",
       "      <td>$0.00</td>\n",
       "      <td>$0.00</td>\n",
       "      <td>$0.00</td>\n",
       "      <td>$0.00</td>\n",
       "      <td>$0.00</td>\n",
       "      <td>$0.00</td>\n",
       "      <td>$0.00</td>\n",
       "      <td>...</td>\n",
       "      <td>$0.00</td>\n",
       "      <td>$0.00</td>\n",
       "      <td>$0.00</td>\n",
       "      <td>$0.00</td>\n",
       "      <td>$0.00</td>\n",
       "      <td>$0.00</td>\n",
       "      <td>$0.00</td>\n",
       "      <td>$0.00</td>\n",
       "      <td>$0.00</td>\n",
       "      <td>$0.00</td>\n",
       "    </tr>\n",
       "    <tr>\n",
       "      <th>MIS_Status</th>\n",
       "      <td>1</td>\n",
       "      <td>0</td>\n",
       "      <td>1</td>\n",
       "      <td>1</td>\n",
       "      <td>1</td>\n",
       "      <td>1</td>\n",
       "      <td>0</td>\n",
       "      <td>0</td>\n",
       "      <td>1</td>\n",
       "      <td>1</td>\n",
       "      <td>...</td>\n",
       "      <td>1</td>\n",
       "      <td>0</td>\n",
       "      <td>1</td>\n",
       "      <td>1</td>\n",
       "      <td>1</td>\n",
       "      <td>1</td>\n",
       "      <td>1</td>\n",
       "      <td>1</td>\n",
       "      <td>1</td>\n",
       "      <td>1</td>\n",
       "    </tr>\n",
       "    <tr>\n",
       "      <th>ChgOffPrinGr</th>\n",
       "      <td>$0.00</td>\n",
       "      <td>$16,185.00</td>\n",
       "      <td>$0.00</td>\n",
       "      <td>$0.00</td>\n",
       "      <td>$0.00</td>\n",
       "      <td>$0.00</td>\n",
       "      <td>$19,612.00</td>\n",
       "      <td>$8,807.00</td>\n",
       "      <td>$0.00</td>\n",
       "      <td>$0.00</td>\n",
       "      <td>...</td>\n",
       "      <td>$0.00</td>\n",
       "      <td>$37,160.00</td>\n",
       "      <td>$0.00</td>\n",
       "      <td>$0.00</td>\n",
       "      <td>$0.00</td>\n",
       "      <td>$0.00</td>\n",
       "      <td>$0.00</td>\n",
       "      <td>$0.00</td>\n",
       "      <td>$0.00</td>\n",
       "      <td>$0.00</td>\n",
       "    </tr>\n",
       "    <tr>\n",
       "      <th>GrAppv</th>\n",
       "      <td>$100,000.00</td>\n",
       "      <td>$20,000.00</td>\n",
       "      <td>$1,500,000.00</td>\n",
       "      <td>$50,000.00</td>\n",
       "      <td>$10,000.00</td>\n",
       "      <td>$30,000.00</td>\n",
       "      <td>$20,000.00</td>\n",
       "      <td>$100,000.00</td>\n",
       "      <td>$774,000.00</td>\n",
       "      <td>$25,000.00</td>\n",
       "      <td>...</td>\n",
       "      <td>$550,000.00</td>\n",
       "      <td>$50,000.00</td>\n",
       "      <td>$75,000.00</td>\n",
       "      <td>$15,000.00</td>\n",
       "      <td>$135,000.00</td>\n",
       "      <td>$24,000.00</td>\n",
       "      <td>$740,000.00</td>\n",
       "      <td>$224,000.00</td>\n",
       "      <td>$75,100.00</td>\n",
       "      <td>$25,000.00</td>\n",
       "    </tr>\n",
       "    <tr>\n",
       "      <th>SBA_Appv</th>\n",
       "      <td>$80,000.00</td>\n",
       "      <td>$10,000.00</td>\n",
       "      <td>$1,125,000.00</td>\n",
       "      <td>$25,000.00</td>\n",
       "      <td>$8,500.00</td>\n",
       "      <td>$24,000.00</td>\n",
       "      <td>$10,000.00</td>\n",
       "      <td>$85,000.00</td>\n",
       "      <td>$657,900.00</td>\n",
       "      <td>$12,500.00</td>\n",
       "      <td>...</td>\n",
       "      <td>$412,500.00</td>\n",
       "      <td>$40,000.00</td>\n",
       "      <td>$37,500.00</td>\n",
       "      <td>$7,500.00</td>\n",
       "      <td>$135,000.00</td>\n",
       "      <td>$12,000.00</td>\n",
       "      <td>$596,440.00</td>\n",
       "      <td>$168,000.00</td>\n",
       "      <td>$37,550.00</td>\n",
       "      <td>$12,500.00</td>\n",
       "    </tr>\n",
       "    <tr>\n",
       "      <th>majority-class classifier</th>\n",
       "      <td>1</td>\n",
       "      <td>1</td>\n",
       "      <td>1</td>\n",
       "      <td>1</td>\n",
       "      <td>1</td>\n",
       "      <td>1</td>\n",
       "      <td>1</td>\n",
       "      <td>1</td>\n",
       "      <td>1</td>\n",
       "      <td>1</td>\n",
       "      <td>...</td>\n",
       "      <td>1</td>\n",
       "      <td>1</td>\n",
       "      <td>1</td>\n",
       "      <td>1</td>\n",
       "      <td>1</td>\n",
       "      <td>1</td>\n",
       "      <td>1</td>\n",
       "      <td>1</td>\n",
       "      <td>1</td>\n",
       "      <td>1</td>\n",
       "    </tr>\n",
       "    <tr>\n",
       "      <th>same_state</th>\n",
       "      <td>0</td>\n",
       "      <td>0</td>\n",
       "      <td>0</td>\n",
       "      <td>1</td>\n",
       "      <td>0</td>\n",
       "      <td>1</td>\n",
       "      <td>0</td>\n",
       "      <td>1</td>\n",
       "      <td>0</td>\n",
       "      <td>0</td>\n",
       "      <td>...</td>\n",
       "      <td>0</td>\n",
       "      <td>1</td>\n",
       "      <td>0</td>\n",
       "      <td>0</td>\n",
       "      <td>1</td>\n",
       "      <td>0</td>\n",
       "      <td>1</td>\n",
       "      <td>1</td>\n",
       "      <td>0</td>\n",
       "      <td>0</td>\n",
       "    </tr>\n",
       "    <tr>\n",
       "      <th>whetherCreateJob</th>\n",
       "      <td>0.0</td>\n",
       "      <td>0.0</td>\n",
       "      <td>1.0</td>\n",
       "      <td>1.0</td>\n",
       "      <td>1.0</td>\n",
       "      <td>0.0</td>\n",
       "      <td>0.0</td>\n",
       "      <td>0.0</td>\n",
       "      <td>0.0</td>\n",
       "      <td>0.0</td>\n",
       "      <td>...</td>\n",
       "      <td>0.0</td>\n",
       "      <td>0.0</td>\n",
       "      <td>0.0</td>\n",
       "      <td>0.0</td>\n",
       "      <td>1.0</td>\n",
       "      <td>0.0</td>\n",
       "      <td>0.0</td>\n",
       "      <td>1.0</td>\n",
       "      <td>1.0</td>\n",
       "      <td>0.0</td>\n",
       "    </tr>\n",
       "    <tr>\n",
       "      <th>whetherRetainedJob</th>\n",
       "      <td>0.0</td>\n",
       "      <td>0.0</td>\n",
       "      <td>1.0</td>\n",
       "      <td>1.0</td>\n",
       "      <td>1.0</td>\n",
       "      <td>0.0</td>\n",
       "      <td>1.0</td>\n",
       "      <td>0.0</td>\n",
       "      <td>0.0</td>\n",
       "      <td>1.0</td>\n",
       "      <td>...</td>\n",
       "      <td>0.0</td>\n",
       "      <td>0.0</td>\n",
       "      <td>1.0</td>\n",
       "      <td>1.0</td>\n",
       "      <td>0.0</td>\n",
       "      <td>1.0</td>\n",
       "      <td>0.0</td>\n",
       "      <td>0.0</td>\n",
       "      <td>1.0</td>\n",
       "      <td>0.0</td>\n",
       "    </tr>\n",
       "    <tr>\n",
       "      <th>SBA_G_ration</th>\n",
       "      <td>0.8</td>\n",
       "      <td>0.5</td>\n",
       "      <td>0.75</td>\n",
       "      <td>0.5</td>\n",
       "      <td>0.85</td>\n",
       "      <td>0.8</td>\n",
       "      <td>0.5</td>\n",
       "      <td>0.85</td>\n",
       "      <td>0.85</td>\n",
       "      <td>0.5</td>\n",
       "      <td>...</td>\n",
       "      <td>0.75</td>\n",
       "      <td>0.8</td>\n",
       "      <td>0.5</td>\n",
       "      <td>0.5</td>\n",
       "      <td>1.0</td>\n",
       "      <td>0.5</td>\n",
       "      <td>0.806</td>\n",
       "      <td>0.75</td>\n",
       "      <td>0.5</td>\n",
       "      <td>0.5</td>\n",
       "    </tr>\n",
       "    <tr>\n",
       "      <th>DisbursementGross1</th>\n",
       "      <td>100000.0</td>\n",
       "      <td>20000.0</td>\n",
       "      <td>1476853.0</td>\n",
       "      <td>75000.0</td>\n",
       "      <td>10000.0</td>\n",
       "      <td>30000.0</td>\n",
       "      <td>19612.0</td>\n",
       "      <td>100000.0</td>\n",
       "      <td>774000.0</td>\n",
       "      <td>38553.0</td>\n",
       "      <td>...</td>\n",
       "      <td>550000.0</td>\n",
       "      <td>50000.0</td>\n",
       "      <td>197582.0</td>\n",
       "      <td>23030.0</td>\n",
       "      <td>135000.0</td>\n",
       "      <td>24000.0</td>\n",
       "      <td>740000.0</td>\n",
       "      <td>192000.0</td>\n",
       "      <td>75100.0</td>\n",
       "      <td>49999.0</td>\n",
       "    </tr>\n",
       "    <tr>\n",
       "      <th>DisbursementGross2</th>\n",
       "      <td>11.512925</td>\n",
       "      <td>9.903488</td>\n",
       "      <td>14.205424</td>\n",
       "      <td>11.225243</td>\n",
       "      <td>9.21034</td>\n",
       "      <td>10.308953</td>\n",
       "      <td>9.883897</td>\n",
       "      <td>11.512925</td>\n",
       "      <td>13.559327</td>\n",
       "      <td>10.559789</td>\n",
       "      <td>...</td>\n",
       "      <td>13.217674</td>\n",
       "      <td>10.819778</td>\n",
       "      <td>12.193909</td>\n",
       "      <td>10.044553</td>\n",
       "      <td>11.81303</td>\n",
       "      <td>10.085809</td>\n",
       "      <td>13.514405</td>\n",
       "      <td>12.165251</td>\n",
       "      <td>11.226576</td>\n",
       "      <td>10.819758</td>\n",
       "    </tr>\n",
       "    <tr>\n",
       "      <th>industry_type</th>\n",
       "      <td>median</td>\n",
       "      <td>median</td>\n",
       "      <td>median</td>\n",
       "      <td>median</td>\n",
       "      <td>median</td>\n",
       "      <td>median</td>\n",
       "      <td>low</td>\n",
       "      <td>median</td>\n",
       "      <td>median</td>\n",
       "      <td>median</td>\n",
       "      <td>...</td>\n",
       "      <td>median</td>\n",
       "      <td>median</td>\n",
       "      <td>median</td>\n",
       "      <td>median</td>\n",
       "      <td>median</td>\n",
       "      <td>low</td>\n",
       "      <td>median</td>\n",
       "      <td>median</td>\n",
       "      <td>median</td>\n",
       "      <td>median</td>\n",
       "    </tr>\n",
       "    <tr>\n",
       "      <th>Term1</th>\n",
       "      <td>0.0</td>\n",
       "      <td>0.0</td>\n",
       "      <td>1.0</td>\n",
       "      <td>0.0</td>\n",
       "      <td>0.0</td>\n",
       "      <td>0.0</td>\n",
       "      <td>0.0</td>\n",
       "      <td>0.0</td>\n",
       "      <td>1.0</td>\n",
       "      <td>0.0</td>\n",
       "      <td>...</td>\n",
       "      <td>1.0</td>\n",
       "      <td>0.0</td>\n",
       "      <td>0.0</td>\n",
       "      <td>0.0</td>\n",
       "      <td>1.0</td>\n",
       "      <td>0.0</td>\n",
       "      <td>0.0</td>\n",
       "      <td>0.0</td>\n",
       "      <td>0.0</td>\n",
       "      <td>0.0</td>\n",
       "    </tr>\n",
       "    <tr>\n",
       "      <th>Recession</th>\n",
       "      <td>0</td>\n",
       "      <td>0</td>\n",
       "      <td>0</td>\n",
       "      <td>0</td>\n",
       "      <td>0</td>\n",
       "      <td>0</td>\n",
       "      <td>0</td>\n",
       "      <td>0</td>\n",
       "      <td>0</td>\n",
       "      <td>0</td>\n",
       "      <td>...</td>\n",
       "      <td>0</td>\n",
       "      <td>0</td>\n",
       "      <td>0</td>\n",
       "      <td>0</td>\n",
       "      <td>0</td>\n",
       "      <td>0</td>\n",
       "      <td>0</td>\n",
       "      <td>0</td>\n",
       "      <td>0</td>\n",
       "      <td>0</td>\n",
       "    </tr>\n",
       "  </tbody>\n",
       "</table>\n",
       "<p>37 rows × 538300 columns</p>\n",
       "</div>"
      ],
      "text/plain": [
       "                                        180471                       831515  \\\n",
       "LoanNr_ChkDgt                       2285514008                   8927613007   \n",
       "Name                                  CHEM-DRY        ALL IMPORT AUTO PARTS   \n",
       "City                                   RAYTOWN                    RIVERSIDE   \n",
       "State                                       MO                           CA   \n",
       "Zip                                      64138                            0   \n",
       "Bank                         COUNTRY CLUB BANK  WELLS FARGO BANK NATL ASSOC   \n",
       "BankState                                   KS                           SD   \n",
       "NAICS                                   561740                            0   \n",
       "ApprovalDate                         27-Aug-98                    12-Jan-96   \n",
       "ApprovalFY                                1998                         1996   \n",
       "Term                                        84                           23   \n",
       "NoEmp                                        2                            1   \n",
       "NewExist                                   1.0                          1.0   \n",
       "CreateJob                                    0                            0   \n",
       "RetainedJob                                  0                            0   \n",
       "FranchiseCode                            16033                            1   \n",
       "UrbanRural                                   0                            0   \n",
       "RevLineCr                                    N                            0   \n",
       "LowDoc                                       N                            N   \n",
       "ChgOffDate                                 NaN                     1-Apr-01   \n",
       "DisbursementDate           1999-02-28 00:00:00          1996-01-31 00:00:00   \n",
       "DisbursementGross                 $100,000.00                   $20,000.00    \n",
       "BalanceGross                            $0.00                        $0.00    \n",
       "MIS_Status                                   1                            0   \n",
       "ChgOffPrinGr                            $0.00                   $16,185.00    \n",
       "GrAppv                            $100,000.00                   $20,000.00    \n",
       "SBA_Appv                           $80,000.00                   $10,000.00    \n",
       "majority-class classifier                    1                            1   \n",
       "same_state                                   0                            0   \n",
       "whetherCreateJob                           0.0                          0.0   \n",
       "whetherRetainedJob                         0.0                          0.0   \n",
       "SBA_G_ration                               0.8                          0.5   \n",
       "DisbursementGross1                    100000.0                      20000.0   \n",
       "DisbursementGross2                   11.512925                     9.903488   \n",
       "industry_type                           median                       median   \n",
       "Term1                                      0.0                          0.0   \n",
       "Recession                                    0                            0   \n",
       "\n",
       "                                                820462  \\\n",
       "LoanNr_ChkDgt                               8800724004   \n",
       "Name                         ARNAV INTERNATIONAL, INC.   \n",
       "City                                 ARLINGTON HEIGHTS   \n",
       "State                                               IL   \n",
       "Zip                                              60005   \n",
       "Bank                       BANCO POPULAR NORTH AMERICA   \n",
       "BankState                                           NY   \n",
       "NAICS                                           722110   \n",
       "ApprovalDate                                 19-Apr-05   \n",
       "ApprovalFY                                        2005   \n",
       "Term                                               246   \n",
       "NoEmp                                                1   \n",
       "NewExist                                           2.0   \n",
       "CreateJob                                           10   \n",
       "RetainedJob                                          1   \n",
       "FranchiseCode                                    25650   \n",
       "UrbanRural                                           1   \n",
       "RevLineCr                                            0   \n",
       "LowDoc                                               N   \n",
       "ChgOffDate                                         NaN   \n",
       "DisbursementDate                   2005-09-30 00:00:00   \n",
       "DisbursementGross                       $1,476,853.00    \n",
       "BalanceGross                                    $0.00    \n",
       "MIS_Status                                           1   \n",
       "ChgOffPrinGr                                    $0.00    \n",
       "GrAppv                                  $1,500,000.00    \n",
       "SBA_Appv                                $1,125,000.00    \n",
       "majority-class classifier                            1   \n",
       "same_state                                           0   \n",
       "whetherCreateJob                                   1.0   \n",
       "whetherRetainedJob                                 1.0   \n",
       "SBA_G_ration                                      0.75   \n",
       "DisbursementGross1                           1476853.0   \n",
       "DisbursementGross2                           14.205424   \n",
       "industry_type                                   median   \n",
       "Term1                                              1.0   \n",
       "Recession                                            0   \n",
       "\n",
       "                                            568393                     667814  \\\n",
       "LoanNr_ChkDgt                           5603434008                 6781394006   \n",
       "Name                                    MEMORY BAY            EVELYN D FISHER   \n",
       "City                                   SANTA CLARA  UPPER MARLBORO (MARLBORO)   \n",
       "State                                           CA                         MD   \n",
       "Zip                                          95054                      20072   \n",
       "Bank                       CALIFORNIA BANK & TRUST            INNOVATIVE BANK   \n",
       "BankState                                       CA                         CA   \n",
       "NAICS                                       421690                     514199   \n",
       "ApprovalDate                              9-Aug-02                  10-Oct-03   \n",
       "ApprovalFY                                    2002                       2004   \n",
       "Term                                            36                         84   \n",
       "NoEmp                                            7                          1   \n",
       "NewExist                                       1.0                        1.0   \n",
       "CreateJob                                        2                          1   \n",
       "RetainedJob                                      7                          1   \n",
       "FranchiseCode                                    1                          1   \n",
       "UrbanRural                                       1                          0   \n",
       "RevLineCr                                        Y                          0   \n",
       "LowDoc                                           N                          N   \n",
       "ChgOffDate                                     NaN                        NaN   \n",
       "DisbursementDate               2002-08-31 00:00:00        2003-10-31 00:00:00   \n",
       "DisbursementGross                      $75,000.00                 $10,000.00    \n",
       "BalanceGross                                $0.00                      $0.00    \n",
       "MIS_Status                                       1                          1   \n",
       "ChgOffPrinGr                                $0.00                      $0.00    \n",
       "GrAppv                                 $50,000.00                 $10,000.00    \n",
       "SBA_Appv                               $25,000.00                  $8,500.00    \n",
       "majority-class classifier                        1                          1   \n",
       "same_state                                       1                          0   \n",
       "whetherCreateJob                               1.0                        1.0   \n",
       "whetherRetainedJob                             1.0                        1.0   \n",
       "SBA_G_ration                                   0.5                       0.85   \n",
       "DisbursementGross1                         75000.0                    10000.0   \n",
       "DisbursementGross2                       11.225243                    9.21034   \n",
       "industry_type                               median                     median   \n",
       "Term1                                          0.0                        0.0   \n",
       "Recession                                        0                          0   \n",
       "\n",
       "                                                  563362  \\\n",
       "LoanNr_ChkDgt                                 5545253007   \n",
       "Name                            FALMOUTH FISH MARKET INC   \n",
       "City                                       EAST FALMOUTH   \n",
       "State                                                 MA   \n",
       "Zip                                                 2536   \n",
       "Bank                       TD BANK, NATIONAL ASSOCIATION   \n",
       "BankState                                             MA   \n",
       "NAICS                                                  0   \n",
       "ApprovalDate                                   23-Feb-93   \n",
       "ApprovalFY                                          1993   \n",
       "Term                                                  60   \n",
       "NoEmp                                                  8   \n",
       "NewExist                                             1.0   \n",
       "CreateJob                                              0   \n",
       "RetainedJob                                            0   \n",
       "FranchiseCode                                          1   \n",
       "UrbanRural                                             0   \n",
       "RevLineCr                                              N   \n",
       "LowDoc                                                 N   \n",
       "ChgOffDate                                           NaN   \n",
       "DisbursementDate                     1993-04-30 00:00:00   \n",
       "DisbursementGross                            $30,000.00    \n",
       "BalanceGross                                      $0.00    \n",
       "MIS_Status                                             1   \n",
       "ChgOffPrinGr                                      $0.00    \n",
       "GrAppv                                       $30,000.00    \n",
       "SBA_Appv                                     $24,000.00    \n",
       "majority-class classifier                              1   \n",
       "same_state                                             1   \n",
       "whetherCreateJob                                     0.0   \n",
       "whetherRetainedJob                                   0.0   \n",
       "SBA_G_ration                                         0.8   \n",
       "DisbursementGross1                               30000.0   \n",
       "DisbursementGross2                             10.308953   \n",
       "industry_type                                     median   \n",
       "Term1                                                0.0   \n",
       "Recession                                              0   \n",
       "\n",
       "                                               24791   \\\n",
       "LoanNr_ChkDgt                              1186165006   \n",
       "Name                        LEE'S ACCUPUNCTURE & HERB   \n",
       "City                                      LOS ANGELES   \n",
       "State                                              CA   \n",
       "Zip                                             90019   \n",
       "Bank                       BANK OF AMERICA NATL ASSOC   \n",
       "BankState                                          NC   \n",
       "NAICS                                          621399   \n",
       "ApprovalDate                                 9-Feb-05   \n",
       "ApprovalFY                                       2005   \n",
       "Term                                               63   \n",
       "NoEmp                                               2   \n",
       "NewExist                                          1.0   \n",
       "CreateJob                                           0   \n",
       "RetainedJob                                         2   \n",
       "FranchiseCode                                       1   \n",
       "UrbanRural                                          1   \n",
       "RevLineCr                                           T   \n",
       "LowDoc                                              N   \n",
       "ChgOffDate                                  27-Dec-06   \n",
       "DisbursementDate                  2005-02-28 00:00:00   \n",
       "DisbursementGross                         $19,612.00    \n",
       "BalanceGross                                   $0.00    \n",
       "MIS_Status                                          0   \n",
       "ChgOffPrinGr                              $19,612.00    \n",
       "GrAppv                                    $20,000.00    \n",
       "SBA_Appv                                  $10,000.00    \n",
       "majority-class classifier                           1   \n",
       "same_state                                          0   \n",
       "whetherCreateJob                                  0.0   \n",
       "whetherRetainedJob                                1.0   \n",
       "SBA_G_ration                                      0.5   \n",
       "DisbursementGross1                            19612.0   \n",
       "DisbursementGross2                           9.883897   \n",
       "industry_type                                     low   \n",
       "Term1                                             0.0   \n",
       "Recession                                           0   \n",
       "\n",
       "                                                  830452  \\\n",
       "LoanNr_ChkDgt                                 8918474007   \n",
       "Name                                GRIZZLY'S GRILL, INC   \n",
       "City                                           MANHATTAN   \n",
       "State                                                 KS   \n",
       "Zip                                                66503   \n",
       "Bank                       COMMUNITY FIRST NATIONAL BANK   \n",
       "BankState                                             KS   \n",
       "NAICS                                             722110   \n",
       "ApprovalDate                                   10-Jun-05   \n",
       "ApprovalFY                                          2005   \n",
       "Term                                                   9   \n",
       "NoEmp                                                 10   \n",
       "NewExist                                             1.0   \n",
       "CreateJob                                              0   \n",
       "RetainedJob                                            0   \n",
       "FranchiseCode                                          1   \n",
       "UrbanRural                                             2   \n",
       "RevLineCr                                              0   \n",
       "LowDoc                                                 Y   \n",
       "ChgOffDate                                     25-Jan-11   \n",
       "DisbursementDate                     2005-08-31 00:00:00   \n",
       "DisbursementGross                           $100,000.00    \n",
       "BalanceGross                                      $0.00    \n",
       "MIS_Status                                             0   \n",
       "ChgOffPrinGr                                  $8,807.00    \n",
       "GrAppv                                      $100,000.00    \n",
       "SBA_Appv                                     $85,000.00    \n",
       "majority-class classifier                              1   \n",
       "same_state                                             1   \n",
       "whetherCreateJob                                     0.0   \n",
       "whetherRetainedJob                                   0.0   \n",
       "SBA_G_ration                                        0.85   \n",
       "DisbursementGross1                              100000.0   \n",
       "DisbursementGross2                             11.512925   \n",
       "industry_type                                     median   \n",
       "Term1                                                0.0   \n",
       "Recession                                              0   \n",
       "\n",
       "                                                466480  \\\n",
       "LoanNr_ChkDgt                               4507553008   \n",
       "Name                        REHMANN CONSTRUCTION, INC.   \n",
       "City                                      GARDEN GROVE   \n",
       "State                                               CA   \n",
       "Zip                                              92644   \n",
       "Bank                       WELLS FARGO BANK NATL ASSOC   \n",
       "BankState                                           SD   \n",
       "NAICS                                           235310   \n",
       "ApprovalDate                                  3-Jul-91   \n",
       "ApprovalFY                                        1991   \n",
       "Term                                               300   \n",
       "NoEmp                                               11   \n",
       "NewExist                                           1.0   \n",
       "CreateJob                                            0   \n",
       "RetainedJob                                          0   \n",
       "FranchiseCode                                        1   \n",
       "UrbanRural                                           0   \n",
       "RevLineCr                                            N   \n",
       "LowDoc                                               N   \n",
       "ChgOffDate                                         NaN   \n",
       "DisbursementDate                   1991-07-31 00:00:00   \n",
       "DisbursementGross                         $774,000.00    \n",
       "BalanceGross                                    $0.00    \n",
       "MIS_Status                                           1   \n",
       "ChgOffPrinGr                                    $0.00    \n",
       "GrAppv                                    $774,000.00    \n",
       "SBA_Appv                                  $657,900.00    \n",
       "majority-class classifier                            1   \n",
       "same_state                                           0   \n",
       "whetherCreateJob                                   0.0   \n",
       "whetherRetainedJob                                 0.0   \n",
       "SBA_G_ration                                      0.85   \n",
       "DisbursementGross1                            774000.0   \n",
       "DisbursementGross2                           13.559327   \n",
       "industry_type                                   median   \n",
       "Term1                                              1.0   \n",
       "Recession                                            0   \n",
       "\n",
       "                                              713632  ...  \\\n",
       "LoanNr_ChkDgt                             7425734010  ...   \n",
       "Name                       DAVID H MAURIER  ELECTRIC  ...   \n",
       "City                                      MANCHESTER  ...   \n",
       "State                                             NH  ...   \n",
       "Zip                                             3104  ...   \n",
       "Bank                        CITIZENS BANK NATL ASSOC  ...   \n",
       "BankState                                         RI  ...   \n",
       "NAICS                                         238210  ...   \n",
       "ApprovalDate                               11-May-04  ...   \n",
       "ApprovalFY                                      2004  ...   \n",
       "Term                                              84  ...   \n",
       "NoEmp                                              1  ...   \n",
       "NewExist                                         1.0  ...   \n",
       "CreateJob                                          0  ...   \n",
       "RetainedJob                                        1  ...   \n",
       "FranchiseCode                                      1  ...   \n",
       "UrbanRural                                         1  ...   \n",
       "RevLineCr                                          Y  ...   \n",
       "LowDoc                                             N  ...   \n",
       "ChgOffDate                                       NaN  ...   \n",
       "DisbursementDate                 2004-07-31 00:00:00  ...   \n",
       "DisbursementGross                        $38,553.00   ...   \n",
       "BalanceGross                                  $0.00   ...   \n",
       "MIS_Status                                         1  ...   \n",
       "ChgOffPrinGr                                  $0.00   ...   \n",
       "GrAppv                                   $25,000.00   ...   \n",
       "SBA_Appv                                 $12,500.00   ...   \n",
       "majority-class classifier                          1  ...   \n",
       "same_state                                         0  ...   \n",
       "whetherCreateJob                                 0.0  ...   \n",
       "whetherRetainedJob                               1.0  ...   \n",
       "SBA_G_ration                                     0.5  ...   \n",
       "DisbursementGross1                           38553.0  ...   \n",
       "DisbursementGross2                         10.559789  ...   \n",
       "industry_type                                 median  ...   \n",
       "Term1                                            0.0  ...   \n",
       "Recession                                          0  ...   \n",
       "\n",
       "                                                   720062  \\\n",
       "LoanNr_ChkDgt                                  7495564002   \n",
       "Name                                    WILLOWCREEK AMOCO   \n",
       "City                                           GERMANTOWN   \n",
       "State                                                  WI   \n",
       "Zip                                                 53022   \n",
       "Bank                       U.S. BANK NATIONAL ASSOCIATION   \n",
       "BankState                                              CA   \n",
       "NAICS                                              447110   \n",
       "ApprovalDate                                     4-Jun-04   \n",
       "ApprovalFY                                           2004   \n",
       "Term                                                  300   \n",
       "NoEmp                                                   2   \n",
       "NewExist                                              1.0   \n",
       "CreateJob                                               0   \n",
       "RetainedJob                                             0   \n",
       "FranchiseCode                                           1   \n",
       "UrbanRural                                              2   \n",
       "RevLineCr                                               N   \n",
       "LowDoc                                                  N   \n",
       "ChgOffDate                                            NaN   \n",
       "DisbursementDate                      2004-06-30 00:00:00   \n",
       "DisbursementGross                            $550,000.00    \n",
       "BalanceGross                                       $0.00    \n",
       "MIS_Status                                              1   \n",
       "ChgOffPrinGr                                       $0.00    \n",
       "GrAppv                                       $550,000.00    \n",
       "SBA_Appv                                     $412,500.00    \n",
       "majority-class classifier                               1   \n",
       "same_state                                              0   \n",
       "whetherCreateJob                                      0.0   \n",
       "whetherRetainedJob                                    0.0   \n",
       "SBA_G_ration                                         0.75   \n",
       "DisbursementGross1                               550000.0   \n",
       "DisbursementGross2                              13.217674   \n",
       "industry_type                                      median   \n",
       "Term1                                                 1.0   \n",
       "Recession                                               0   \n",
       "\n",
       "                                        400334                         703659  \\\n",
       "LoanNr_ChkDgt                       3859324004                     7314854008   \n",
       "Name                         HEARTBREAK HELPER  JUSTRIGHT AWNINGS & SIGNS INC   \n",
       "City                               LOS ANGELES                          DOVER   \n",
       "State                                       CA                             NH   \n",
       "Zip                                      90036                           3820   \n",
       "Bank                            COMMUNITY BANK       CITIZENS BANK NATL ASSOC   \n",
       "BankState                                   CA                             RI   \n",
       "NAICS                                   422210                         238990   \n",
       "ApprovalDate                         27-Jul-00                      31-Mar-04   \n",
       "ApprovalFY                                2000                           2004   \n",
       "Term                                        53                             84   \n",
       "NoEmp                                        1                              6   \n",
       "NewExist                                   2.0                            1.0   \n",
       "CreateJob                                    0                              0   \n",
       "RetainedJob                                  0                              6   \n",
       "FranchiseCode                                1                              1   \n",
       "UrbanRural                                   1                              1   \n",
       "RevLineCr                                    N                              Y   \n",
       "LowDoc                                       N                              N   \n",
       "ChgOffDate                            1-Mar-04                            NaN   \n",
       "DisbursementDate           2000-09-30 00:00:00            2004-04-30 00:00:00   \n",
       "DisbursementGross                  $50,000.00                    $197,582.00    \n",
       "BalanceGross                            $0.00                          $0.00    \n",
       "MIS_Status                                   0                              1   \n",
       "ChgOffPrinGr                       $37,160.00                          $0.00    \n",
       "GrAppv                             $50,000.00                     $75,000.00    \n",
       "SBA_Appv                           $40,000.00                     $37,500.00    \n",
       "majority-class classifier                    1                              1   \n",
       "same_state                                   1                              0   \n",
       "whetherCreateJob                           0.0                            0.0   \n",
       "whetherRetainedJob                         0.0                            1.0   \n",
       "SBA_G_ration                               0.8                            0.5   \n",
       "DisbursementGross1                     50000.0                       197582.0   \n",
       "DisbursementGross2                   10.819778                      12.193909   \n",
       "industry_type                           median                         median   \n",
       "Term1                                      0.0                            0.0   \n",
       "Recession                                    0                              0   \n",
       "\n",
       "                                                630143  \\\n",
       "LoanNr_ChkDgt                               6258594002   \n",
       "Name                                          HAIRTIME   \n",
       "City                                         LOS BANOS   \n",
       "State                                               CA   \n",
       "Zip                                              93635   \n",
       "Bank                       WELLS FARGO BANK NATL ASSOC   \n",
       "BankState                                           SD   \n",
       "NAICS                                           812112   \n",
       "ApprovalDate                                 18-Apr-03   \n",
       "ApprovalFY                                        2003   \n",
       "Term                                                83   \n",
       "NoEmp                                                4   \n",
       "NewExist                                           1.0   \n",
       "CreateJob                                            0   \n",
       "RetainedJob                                          4   \n",
       "FranchiseCode                                        1   \n",
       "UrbanRural                                           1   \n",
       "RevLineCr                                            Y   \n",
       "LowDoc                                               N   \n",
       "ChgOffDate                                         NaN   \n",
       "DisbursementDate                   2003-05-31 00:00:00   \n",
       "DisbursementGross                          $23,030.00    \n",
       "BalanceGross                                    $0.00    \n",
       "MIS_Status                                           1   \n",
       "ChgOffPrinGr                                    $0.00    \n",
       "GrAppv                                     $15,000.00    \n",
       "SBA_Appv                                    $7,500.00    \n",
       "majority-class classifier                            1   \n",
       "same_state                                           0   \n",
       "whetherCreateJob                                   0.0   \n",
       "whetherRetainedJob                                 1.0   \n",
       "SBA_G_ration                                       0.5   \n",
       "DisbursementGross1                             23030.0   \n",
       "DisbursementGross2                           10.044553   \n",
       "industry_type                                   median   \n",
       "Term1                                              0.0   \n",
       "Recession                                            0   \n",
       "\n",
       "                                                   775213  \\\n",
       "LoanNr_ChkDgt                                  8195114010   \n",
       "Name                       Jennifer?s Flea Market Shop, I   \n",
       "City                                            PENSACOLA   \n",
       "State                                                  FL   \n",
       "Zip                                                 32507   \n",
       "Bank                       FLORIDA 1ST CAP. FINAN CORPORA   \n",
       "BankState                                              FL   \n",
       "NAICS                                              454390   \n",
       "ApprovalDate                                    29-Nov-04   \n",
       "ApprovalFY                                           2005   \n",
       "Term                                                  240   \n",
       "NoEmp                                                   2   \n",
       "NewExist                                              1.0   \n",
       "CreateJob                                               3   \n",
       "RetainedJob                                             0   \n",
       "FranchiseCode                                           1   \n",
       "UrbanRural                                              1   \n",
       "RevLineCr                                               0   \n",
       "LowDoc                                                  N   \n",
       "ChgOffDate                                            NaN   \n",
       "DisbursementDate                      2006-02-15 00:00:00   \n",
       "DisbursementGross                            $135,000.00    \n",
       "BalanceGross                                       $0.00    \n",
       "MIS_Status                                              1   \n",
       "ChgOffPrinGr                                       $0.00    \n",
       "GrAppv                                       $135,000.00    \n",
       "SBA_Appv                                     $135,000.00    \n",
       "majority-class classifier                               1   \n",
       "same_state                                              1   \n",
       "whetherCreateJob                                      1.0   \n",
       "whetherRetainedJob                                    0.0   \n",
       "SBA_G_ration                                          1.0   \n",
       "DisbursementGross1                               135000.0   \n",
       "DisbursementGross2                               11.81303   \n",
       "industry_type                                      median   \n",
       "Term1                                                 1.0   \n",
       "Recession                                               0   \n",
       "\n",
       "                                             413260  \\\n",
       "LoanNr_ChkDgt                            3994505009   \n",
       "Name                       James R Gay Poultry Farm   \n",
       "City                                         Gilmer   \n",
       "State                                            TX   \n",
       "Zip                                           75644   \n",
       "Bank                           FIRST FINANCIAL BANK   \n",
       "BankState                                        AR   \n",
       "NAICS                                        112320   \n",
       "ApprovalDate                              25-Mar-10   \n",
       "ApprovalFY                                     2010   \n",
       "Term                                             60   \n",
       "NoEmp                                             1   \n",
       "NewExist                                        1.0   \n",
       "CreateJob                                         0   \n",
       "RetainedJob                                       1   \n",
       "FranchiseCode                                     0   \n",
       "UrbanRural                                        2   \n",
       "RevLineCr                                         N   \n",
       "LowDoc                                            N   \n",
       "ChgOffDate                                      NaN   \n",
       "DisbursementDate                2010-06-01 00:00:00   \n",
       "DisbursementGross                       $24,000.00    \n",
       "BalanceGross                                 $0.00    \n",
       "MIS_Status                                        1   \n",
       "ChgOffPrinGr                                 $0.00    \n",
       "GrAppv                                  $24,000.00    \n",
       "SBA_Appv                                $12,000.00    \n",
       "majority-class classifier                         1   \n",
       "same_state                                        0   \n",
       "whetherCreateJob                                0.0   \n",
       "whetherRetainedJob                              1.0   \n",
       "SBA_G_ration                                    0.5   \n",
       "DisbursementGross1                          24000.0   \n",
       "DisbursementGross2                        10.085809   \n",
       "industry_type                                   low   \n",
       "Term1                                           0.0   \n",
       "Recession                                         0   \n",
       "\n",
       "                                                   568439  \\\n",
       "LoanNr_ChkDgt                                  5604063010   \n",
       "Name                       REFLECTIONS AUTO BODY INCORPOR   \n",
       "City                                            WIND LAKE   \n",
       "State                                                  WI   \n",
       "Zip                                                 53185   \n",
       "Bank                           ASSOCIATED BANK NATL ASSOC   \n",
       "BankState                                              WI   \n",
       "NAICS                                              811121   \n",
       "ApprovalDate                                    25-Mar-93   \n",
       "ApprovalFY                                           1993   \n",
       "Term                                                  180   \n",
       "NoEmp                                                  13   \n",
       "NewExist                                              1.0   \n",
       "CreateJob                                               0   \n",
       "RetainedJob                                             0   \n",
       "FranchiseCode                                           1   \n",
       "UrbanRural                                              0   \n",
       "RevLineCr                                               N   \n",
       "LowDoc                                                  N   \n",
       "ChgOffDate                                            NaN   \n",
       "DisbursementDate                      1993-04-30 00:00:00   \n",
       "DisbursementGross                            $740,000.00    \n",
       "BalanceGross                                       $0.00    \n",
       "MIS_Status                                              1   \n",
       "ChgOffPrinGr                                       $0.00    \n",
       "GrAppv                                       $740,000.00    \n",
       "SBA_Appv                                     $596,440.00    \n",
       "majority-class classifier                               1   \n",
       "same_state                                              1   \n",
       "whetherCreateJob                                      0.0   \n",
       "whetherRetainedJob                                    0.0   \n",
       "SBA_G_ration                                        0.806   \n",
       "DisbursementGross1                               740000.0   \n",
       "DisbursementGross2                              13.514405   \n",
       "industry_type                                      median   \n",
       "Term1                                                 0.0   \n",
       "Recession                                               0   \n",
       "\n",
       "                                        449887  \\\n",
       "LoanNr_ChkDgt                       4363904002   \n",
       "Name                             KIM'S CLEANER   \n",
       "City                                    AURORA   \n",
       "State                                       CO   \n",
       "Zip                                      80010   \n",
       "Bank                              PREMIER BANK   \n",
       "BankState                                   CO   \n",
       "NAICS                                   812320   \n",
       "ApprovalDate                          9-Mar-01   \n",
       "ApprovalFY                                2001   \n",
       "Term                                       120   \n",
       "NoEmp                                        1   \n",
       "NewExist                                   1.0   \n",
       "CreateJob                                    2   \n",
       "RetainedJob                                  0   \n",
       "FranchiseCode                                1   \n",
       "UrbanRural                                   1   \n",
       "RevLineCr                                    0   \n",
       "LowDoc                                       N   \n",
       "ChgOffDate                                 NaN   \n",
       "DisbursementDate           2001-03-31 00:00:00   \n",
       "DisbursementGross                 $192,000.00    \n",
       "BalanceGross                            $0.00    \n",
       "MIS_Status                                   1   \n",
       "ChgOffPrinGr                            $0.00    \n",
       "GrAppv                            $224,000.00    \n",
       "SBA_Appv                          $168,000.00    \n",
       "majority-class classifier                    1   \n",
       "same_state                                   1   \n",
       "whetherCreateJob                           1.0   \n",
       "whetherRetainedJob                         0.0   \n",
       "SBA_G_ration                              0.75   \n",
       "DisbursementGross1                    192000.0   \n",
       "DisbursementGross2                   12.165251   \n",
       "industry_type                           median   \n",
       "Term1                                      0.0   \n",
       "Recession                                    0   \n",
       "\n",
       "                                                   86022   \\\n",
       "LoanNr_ChkDgt                                  1640755007   \n",
       "Name                                     Lahti G. Samples   \n",
       "City                                                 Troy   \n",
       "State                                                  OH   \n",
       "Zip                                                 45373   \n",
       "Bank                       PNC BANK, NATIONAL ASSOCIATION   \n",
       "BankState                                              DE   \n",
       "NAICS                                              441310   \n",
       "ApprovalDate                                     1-Feb-06   \n",
       "ApprovalFY                                           2006   \n",
       "Term                                                  104   \n",
       "NoEmp                                                   2   \n",
       "NewExist                                              2.0   \n",
       "CreateJob                                               2   \n",
       "RetainedJob                                             2   \n",
       "FranchiseCode                                           0   \n",
       "UrbanRural                                              2   \n",
       "RevLineCr                                               N   \n",
       "LowDoc                                                  N   \n",
       "ChgOffDate                                            NaN   \n",
       "DisbursementDate                      2006-03-31 00:00:00   \n",
       "DisbursementGross                             $75,100.00    \n",
       "BalanceGross                                       $0.00    \n",
       "MIS_Status                                              1   \n",
       "ChgOffPrinGr                                       $0.00    \n",
       "GrAppv                                        $75,100.00    \n",
       "SBA_Appv                                      $37,550.00    \n",
       "majority-class classifier                               1   \n",
       "same_state                                              0   \n",
       "whetherCreateJob                                      1.0   \n",
       "whetherRetainedJob                                    1.0   \n",
       "SBA_G_ration                                          0.5   \n",
       "DisbursementGross1                                75100.0   \n",
       "DisbursementGross2                              11.226576   \n",
       "industry_type                                      median   \n",
       "Term1                                                 0.0   \n",
       "Recession                                               0   \n",
       "\n",
       "                                                896298  \n",
       "LoanNr_ChkDgt                               9932193000  \n",
       "Name                            THE SPORTS GROUP, INC.  \n",
       "City                                           CONCORD  \n",
       "State                                               MA  \n",
       "Zip                                               1742  \n",
       "Bank                       WELLS FARGO BANK NATL ASSOC  \n",
       "BankState                                           SD  \n",
       "NAICS                                                0  \n",
       "ApprovalDate                                 30-Jan-97  \n",
       "ApprovalFY                                        1997  \n",
       "Term                                                84  \n",
       "NoEmp                                                3  \n",
       "NewExist                                           1.0  \n",
       "CreateJob                                            0  \n",
       "RetainedJob                                          0  \n",
       "FranchiseCode                                        1  \n",
       "UrbanRural                                           0  \n",
       "RevLineCr                                            T  \n",
       "LowDoc                                               N  \n",
       "ChgOffDate                                         NaN  \n",
       "DisbursementDate                   1997-09-30 00:00:00  \n",
       "DisbursementGross                          $49,999.00   \n",
       "BalanceGross                                    $0.00   \n",
       "MIS_Status                                           1  \n",
       "ChgOffPrinGr                                    $0.00   \n",
       "GrAppv                                     $25,000.00   \n",
       "SBA_Appv                                   $12,500.00   \n",
       "majority-class classifier                            1  \n",
       "same_state                                           0  \n",
       "whetherCreateJob                                   0.0  \n",
       "whetherRetainedJob                                 0.0  \n",
       "SBA_G_ration                                       0.5  \n",
       "DisbursementGross1                             49999.0  \n",
       "DisbursementGross2                           10.819758  \n",
       "industry_type                                   median  \n",
       "Term1                                              0.0  \n",
       "Recession                                            0  \n",
       "\n",
       "[37 rows x 538300 columns]"
      ]
     },
     "execution_count": 304,
     "metadata": {},
     "output_type": "execute_result"
    }
   ],
   "source": [
    "train.T"
   ]
  },
  {
   "cell_type": "code",
   "execution_count": 325,
   "id": "a776452b",
   "metadata": {},
   "outputs": [],
   "source": [
    "feat_cols = ['State','UrbanRural','Term1', 'industry_type','Recession','SBA_Appv', 'GrAppv','DisbursementGross','same_state',\n",
    "            'whetherCreateJob','whetherRetainedJob','NewExist']\n",
    "out_col = 'MIS_Status'\n",
    "train_x = train[feat_cols]\n",
    "train_y = train[out_col]"
   ]
  },
  {
   "cell_type": "markdown",
   "id": "e7c4333e",
   "metadata": {},
   "source": [
    "## Initial Logistic Model (25%)"
   ]
  },
  {
   "cell_type": "code",
   "execution_count": null,
   "id": "0f5998e2",
   "metadata": {},
   "outputs": [],
   "source": [
    "feat_cols = ['State','Term1', 'industry_type','Recession','SBA_Appv', 'GrAppv','DisbursementGross','same_state',\n",
    "           'NewExist']\n",
    "out_col = 'MIS_Status'\n",
    "train_x = train[feat_cols]\n",
    "train_y = train[out_col]"
   ]
  },
  {
   "cell_type": "code",
   "execution_count": null,
   "id": "e8e91a97",
   "metadata": {},
   "outputs": [],
   "source": [
    "lm_pipe = Pipeline([\n",
    "    ('columns', ColumnTransformer([\n",
    "        ('ratio_SBA_G', FunctionTransformer(SBA_G_ratio), ['SBA_Appv', 'GrAppv']),\n",
    "        #('GrossDisbursement', FunctionTransformer(log_transformer), ['DisbursementGross1']),\n",
    "        #('industry_type', FunctionTransformer(industry_type1), ['NAICS']),\n",
    "        #('DisbursementGross', FunctionTransformer(Gross), ['DisbursementGross','SBA_Appv']),\n",
    "        ('feature', OneHotEncoder(drop='first'), ['State','Recession','Term1','industry_type',\n",
    "                                                  'same_state',\n",
    "                                                 'NewExist']),\n",
    "        #('u', RandomUnderSampler(sampling_strategy=0.5))\n",
    "        ('grossofdisbursement', Pipeline([\n",
    "        \n",
    "        ('trans1',FunctionTransformer(remove_symbol)),\n",
    "        ('log', FunctionTransformer(np.log1p)),\n",
    "        ('std', StandardScaler()),\n",
    "        ('fill', SimpleImputer(strategy='constant', fill_value=0))]),\n",
    "         ['DisbursementGross'])  \n",
    "    ])),\n",
    "    ('model', LogisticRegression(class_weight='balanced',penalty='none'))\n",
    "])\n",
    "lm_pipe.fit(train_x,train_y)\n",
    "accuracy_score(train_y,lm_pipe.predict(train_x))"
   ]
  },
  {
   "cell_type": "code",
   "execution_count": 329,
   "id": "39e6a934",
   "metadata": {},
   "outputs": [
    {
     "name": "stdout",
     "output_type": "stream",
     "text": [
      "              precision    recall  f1-score   support\n",
      "\n",
      "           0       0.30      0.76      0.43     94400\n",
      "           1       0.92      0.63      0.75    443900\n",
      "\n",
      "    accuracy                           0.65    538300\n",
      "   macro avg       0.61      0.69      0.59    538300\n",
      "weighted avg       0.82      0.65      0.69    538300\n",
      "\n"
     ]
    },
    {
     "data": {
      "image/png": "[encoded data removed]",
      "text/plain": [
       "<Figure size 432x288 with 2 Axes>"
      ]
     },
     "metadata": {
      "needs_background": "light"
     },
     "output_type": "display_data"
    }
   ],
   "source": [
    "metric_count(train_y,lm_pipe.predict(train_x))"
   ]
  },
  {
   "cell_type": "markdown",
   "id": "af6eb9df",
   "metadata": {},
   "source": [
    "## tune data"
   ]
  },
  {
   "cell_type": "code",
   "execution_count": 330,
   "id": "dfaf4417",
   "metadata": {},
   "outputs": [],
   "source": [
    "def data_unitransform(dataframe):\n",
    "    #1. urban or rural?\n",
    "    #2. same state?\n",
    "    dataframe['same_state']=0\n",
    "    dataframe.loc[dataframe['BankState']==dataframe['State'],'same_state']=1\n",
    "    #3.create job?\n",
    "    dataframe.loc[dataframe['CreateJob']==0,'whetherCreateJob']=0\n",
    "    dataframe.loc[dataframe['CreateJob']>0,'whetherCreateJob']=1\n",
    "    #4.retain job?\n",
    "    dataframe.loc[dataframe['RetainedJob']==0,'whetherRetainedJob']=0\n",
    "    dataframe.loc[dataframe['RetainedJob']>0,'whetherRetainedJob']=1\n",
    "    #5. The proportion guaranteed by SBA\n",
    "    #6. DisbursementGross\n",
    "    #dataframe['DisbursementGross1']=dataframe['DisbursementGross'].str.replace('$','').str.replace(',','').astype(\"float64\")\n",
    "    #7. Industry\n",
    "    dataframe['NAICS']=dataframe['NAICS'].astype(str)\n",
    "    dataframe['industry_type']=dataframe['NAICS'].apply(industry_type)\n",
    "    #8.term\n",
    "    dataframe.loc[dataframe['Term']>=240,'Term1']=1\n",
    "    dataframe.loc[dataframe['Term']<240,'Term1']=0\n",
    "    #9.Recession\n",
    "    dataframe['DisbursementDate']=pd.to_datetime(dataframe['DisbursementDate'])\n",
    "    dataframe['Recession']=0\n",
    "    dataframe.loc[dataframe[(dataframe['DisbursementDate']+pd.Timedelta('30 days')>='2007-12-1')&(dataframe['DisbursementDate']+pd.Timedelta('30 days')<='2009-6-30')].index,['Recession']]=1\n",
    "    #10.state\n",
    "    #11.newExist\n",
    "    #return dataframe"
   ]
  },
  {
   "cell_type": "code",
   "execution_count": 331,
   "id": "b6f093ce",
   "metadata": {},
   "outputs": [],
   "source": [
    "data_unitransform(tune)"
   ]
  },
  {
   "cell_type": "code",
   "execution_count": 332,
   "id": "7fbf6ed2",
   "metadata": {},
   "outputs": [],
   "source": [
    "tune_x=tune[feat_cols]\n",
    "tune_y=tune[out_col]"
   ]
  },
  {
   "cell_type": "code",
   "execution_count": 333,
   "id": "8098b445",
   "metadata": {},
   "outputs": [],
   "source": [
    "pure_y = lm_pipe.predict(tune_x)"
   ]
  },
  {
   "cell_type": "code",
   "execution_count": 334,
   "id": "4e2d3962",
   "metadata": {},
   "outputs": [
    {
     "data": {
      "text/plain": [
       "0.6462195801597622"
      ]
     },
     "execution_count": 334,
     "metadata": {},
     "output_type": "execute_result"
    }
   ],
   "source": [
    "accuracy_score(tune_y, pure_y)"
   ]
  },
  {
   "cell_type": "code",
   "execution_count": 335,
   "id": "98fae015",
   "metadata": {},
   "outputs": [
    {
     "name": "stdout",
     "output_type": "stream",
     "text": [
      "              precision    recall  f1-score   support\n",
      "\n",
      "           0       0.30      0.76      0.43     23649\n",
      "           1       0.92      0.62      0.74    110926\n",
      "\n",
      "    accuracy                           0.65    134575\n",
      "   macro avg       0.61      0.69      0.59    134575\n",
      "weighted avg       0.81      0.65      0.69    134575\n",
      "\n"
     ]
    },
    {
     "data": {
      "image/png": "[encoded data removed]",
      "text/plain": [
       "<Figure size 432x288 with 2 Axes>"
      ]
     },
     "metadata": {
      "needs_background": "light"
     },
     "output_type": "display_data"
    }
   ],
   "source": [
    "metric_count(tune_y,pure_y)"
   ]
  },
  {
   "cell_type": "markdown",
   "id": "b9ebea64",
   "metadata": {},
   "source": [
    "## Test data"
   ]
  },
  {
   "cell_type": "code",
   "execution_count": null,
   "id": "d0a3baec",
   "metadata": {},
   "outputs": [],
   "source": [
    "data_unitransform(test)"
   ]
  },
  {
   "cell_type": "code",
   "execution_count": null,
   "id": "c112e81f",
   "metadata": {},
   "outputs": [],
   "source": [
    "test_x=test[feat_cols]\n",
    "test_y=test[out_col]\n",
    "pre_y = lm_pipe.predict(test_x)\n",
    "metric_count(test_y,pre_y)\n"
   ]
  },
  {
   "cell_type": "markdown",
   "id": "f7003cb3",
   "metadata": {},
   "source": [
    "## Lasso Regression (15%)"
   ]
  },
  {
   "cell_type": "code",
   "execution_count": 340,
   "id": "90b14786",
   "metadata": {},
   "outputs": [],
   "source": [
    "lr_pipe = Pipeline([\n",
    "    ('columns', ColumnTransformer([\n",
    "        ('ratio_SBA_G', FunctionTransformer(SBA_G_ratio), ['SBA_Appv', 'GrAppv']),\n",
    "        #('GrossDisbursement', FunctionTransformer(log_transformer), ['DisbursementGross1']),\n",
    "        #('industry_type', FunctionTransformer(industry_type1), ['NAICS']),\n",
    "        #('DisbursementGross', FunctionTransformer(Gross), ['DisbursementGross','SBA_Appv']),\n",
    "        ('feature', OneHotEncoder(drop='first'), ['State','UrbanRural','Recession','Term1','industry_type','same_state',\n",
    "                                                 'whetherCreateJob','whetherRetainedJob','NewExist']),\n",
    "        #('u', RandomUnderSampler(sampling_strategy=0.5))\n",
    "        ('grossofdisbursement', Pipeline([\n",
    "        \n",
    "        ('trans1',FunctionTransformer(remove_symbol)),\n",
    "        ('log', FunctionTransformer(np.log1p)),\n",
    "        ('std', StandardScaler()),\n",
    "        ('fill', SimpleImputer(strategy='constant', fill_value=0))]),\n",
    "         ['DisbursementGross'])\n",
    "\n",
    "        \n",
    "        \n",
    "        \n",
    "    ])),\n",
    "    #('o',SMOTE(sampling_strategy=0.4)),\n",
    "    \n",
    "    \n",
    "    \n",
    "    #('model', LogisticRegression(class_weight='balanced',penalty='none'))\n",
    "    ('model', LogisticRegression(class_weight='balanced',penalty='l1',solver='liblinear'))\n",
    "])"
   ]
  },
  {
   "cell_type": "code",
   "execution_count": 341,
   "id": "8a5207a4",
   "metadata": {},
   "outputs": [
    {
     "data": {
      "text/plain": [
       "Pipeline(steps=[('columns',\n",
       "                 ColumnTransformer(transformers=[('ratio_SBA_G',\n",
       "                                                  FunctionTransformer(func=<function SBA_G_ratio at 0x7fdadedb3d30>),\n",
       "                                                  ['SBA_Appv', 'GrAppv']),\n",
       "                                                 ('feature',\n",
       "                                                  OneHotEncoder(drop='first'),\n",
       "                                                  ['State', 'UrbanRural',\n",
       "                                                   'Recession', 'Term1',\n",
       "                                                   'industry_type',\n",
       "                                                   'same_state',\n",
       "                                                   'whetherCreateJob',\n",
       "                                                   'whetherRetainedJob',\n",
       "                                                   'NewExist']),\n",
       "                                                 ('grossofdisbursement',\n",
       "                                                  Pipeline(steps=[('trans1',\n",
       "                                                                   FunctionTransformer(func=<function remove_symbol at 0x7fda71d50ee0>)),\n",
       "                                                                  ('log',\n",
       "                                                                   FunctionTransformer(func=<ufunc 'log1p'>)),\n",
       "                                                                  ('std',\n",
       "                                                                   StandardScaler()),\n",
       "                                                                  ('fill',\n",
       "                                                                   SimpleImputer(fill_value=0,\n",
       "                                                                                 strategy='constant'))]),\n",
       "                                                  ['DisbursementGross'])])),\n",
       "                ('model',\n",
       "                 LogisticRegression(class_weight='balanced', penalty='l1',\n",
       "                                    solver='liblinear'))])"
      ]
     },
     "execution_count": 341,
     "metadata": {},
     "output_type": "execute_result"
    }
   ],
   "source": [
    "lr_pipe.fit(train_x,train_y)"
   ]
  },
  {
   "cell_type": "code",
   "execution_count": 342,
   "id": "39313c14",
   "metadata": {},
   "outputs": [
    {
     "data": {
      "text/plain": [
       "0.6487126137841353"
      ]
     },
     "execution_count": 342,
     "metadata": {},
     "output_type": "execute_result"
    }
   ],
   "source": [
    "accuracy_score(train_y,lr_pipe.predict(train_x))"
   ]
  },
  {
   "cell_type": "code",
   "execution_count": 343,
   "id": "5ae77b2a",
   "metadata": {},
   "outputs": [
    {
     "name": "stdout",
     "output_type": "stream",
     "text": [
      "              precision    recall  f1-score   support\n",
      "\n",
      "           0       0.30      0.76      0.43     94400\n",
      "           1       0.92      0.63      0.75    443900\n",
      "\n",
      "    accuracy                           0.65    538300\n",
      "   macro avg       0.61      0.69      0.59    538300\n",
      "weighted avg       0.82      0.65      0.69    538300\n",
      "\n"
     ]
    },
    {
     "data": {
      "image/png": "[encoded data removed]",
      "text/plain": [
       "<Figure size 432x288 with 2 Axes>"
      ]
     },
     "metadata": {
      "needs_background": "light"
     },
     "output_type": "display_data"
    }
   ],
   "source": [
    "metric_count(train_y,lr_pipe.predict(train_x))"
   ]
  },
  {
   "cell_type": "markdown",
   "id": "30ec6799",
   "metadata": {},
   "source": [
    "#### feature select"
   ]
  },
  {
   "cell_type": "code",
   "execution_count": 359,
   "id": "cf672b5f",
   "metadata": {},
   "outputs": [],
   "source": [
    "tune_lr_pipe = Pipeline([\n",
    "    ('columns', ColumnTransformer([\n",
    "        ('ratio_SBA_G', FunctionTransformer(SBA_G_ratio), ['SBA_Appv', 'GrAppv']),\n",
    "        #('GrossDisbursement', FunctionTransformer(log_transformer), ['DisbursementGross1']),\n",
    "        #('industry_type', FunctionTransformer(industry_type1), ['NAICS']),\n",
    "        #('DisbursementGross', FunctionTransformer(Gross), ['DisbursementGross','SBA_Appv']),\n",
    "        ('feature', OneHotEncoder(drop='first'), ['State','UrbanRural','Recession','Term1','industry_type','same_state',\n",
    "                                                 'whetherCreateJob','whetherRetainedJob','NewExist']),\n",
    "        #('u', RandomUnderSampler(sampling_strategy=0.5))\n",
    "        ('grossofdisbursement', Pipeline([\n",
    "        \n",
    "        ('trans1',FunctionTransformer(remove_symbol)),\n",
    "        ('log', FunctionTransformer(np.log1p)),\n",
    "        ('std', StandardScaler()),\n",
    "        ('fill', SimpleImputer(strategy='constant', fill_value=0))]),\n",
    "         ['DisbursementGross'])     \n",
    "    ])),\n",
    "    ('model', GridSearchCV(LogisticRegression(class_weight='balanced',penalty='l1',solver='liblinear'),\n",
    "                           {\"C\":np.logspace(-3,3,7)},cv=10))\n",
    "     ])\n",
    "    \n",
    "    \n",
    "    \n",
    "    "
   ]
  },
  {
   "cell_type": "code",
   "execution_count": null,
   "id": "44a66550",
   "metadata": {},
   "outputs": [],
   "source": [
    "tune_lr_pipe.fit(train_x,train_y)"
   ]
  },
  {
   "cell_type": "code",
   "execution_count": null,
   "id": "143424e8",
   "metadata": {},
   "outputs": [],
   "source": [
    "tune_lr_pipe.best_params_"
   ]
  },
  {
   "cell_type": "markdown",
   "id": "5acff292",
   "metadata": {},
   "source": [
    "### ElasticNet (10%)"
   ]
  },
  {
   "cell_type": "code",
   "execution_count": null,
   "id": "ae89f845",
   "metadata": {},
   "outputs": [],
   "source": [
    "en_pipe = Pipeline([\n",
    "    ('columns', ColumnTransformer([\n",
    "        ('ratio_SBA_G', FunctionTransformer(SBA_G_ratio), ['SBA_Appv', 'GrAppv']),\n",
    "        #('GrossDisbursement', FunctionTransformer(log_transformer), ['DisbursementGross1']),\n",
    "        #('industry_type', FunctionTransformer(industry_type1), ['NAICS']),\n",
    "        #('DisbursementGross', FunctionTransformer(Gross), ['DisbursementGross','SBA_Appv']),\n",
    "        ('feature', OneHotEncoder(drop='first'), ['State','UrbanRural','Recession','Term1','industry_type','same_state',\n",
    "                                                 'whetherCreateJob','whetherRetainedJob','NewExist']),\n",
    "        #('u', RandomUnderSampler(sampling_strategy=0.5))\n",
    "        ('grossofdisbursement', Pipeline([\n",
    "        \n",
    "        ('trans1',FunctionTransformer(remove_symbol)),\n",
    "        ('log', FunctionTransformer(np.log1p)),\n",
    "        ('std', StandardScaler()),\n",
    "        ('fill', SimpleImputer(strategy='constant', fill_value=0))]),\n",
    "         ['DisbursementGross'])   \n",
    "    ])),\n",
    "\n",
    "    ('model', LogisticRegression(class_weight='balanced',penalty='l2',solver='saga'))\n",
    "])\n",
    "en_pipe.fit(train_x,train_y)\n",
    "accuracy_score(train_y,en_pipe.predict(train_x))\n",
    "metric_count(train_y,lr_pipe.predict(train_x))"
   ]
  },
  {
   "cell_type": "markdown",
   "id": "1c7a21b9",
   "metadata": {},
   "source": [
    "### Random Forest (10%)"
   ]
  },
  {
   "cell_type": "code",
   "execution_count": 77,
   "id": "fd13c36c",
   "metadata": {},
   "outputs": [],
   "source": [
    "rf_pipe = Pipeline([\n",
    "    ('columns', ColumnTransformer([\n",
    "        ('ratio_SBA_G', FunctionTransformer(SBA_G_ratio), ['SBA_Appv', 'GrAppv']),\n",
    "        #('GrossDisbursement', FunctionTransformer(log_transformer), ['DisbursementGross1']),\n",
    "        #('industry_type', FunctionTransformer(industry_type1), ['NAICS']),\n",
    "        #('DisbursementGross', FunctionTransformer(Gross), ['DisbursementGross','SBA_Appv']),\n",
    "        ('feature', OneHotEncoder(drop='first'), ['State','UrbanRural','Recession','Term1','industry_type','same_state',\n",
    "                                                 'whetherCreateJob','whetherRetainedJob','NewExist']),\n",
    "        #('u', RandomUnderSampler(sampling_strategy=0.5))\n",
    "        ('grossofdisbursement', Pipeline([\n",
    "        \n",
    "        ('trans1',FunctionTransformer(remove_symbol)),\n",
    "        ('log', FunctionTransformer(np.log1p)),\n",
    "        ('std', StandardScaler()),\n",
    "        ('fill', SimpleImputer(strategy='constant', fill_value=0))]),\n",
    "         ['DisbursementGross'])   \n",
    "    ])),\n",
    "    ('model', RandomForestClassifier(class_weight='balanced'))\n",
    "])\n",
    "rf_pipe.fit(train_x,train_y)\n",
    "accuracy_score(train_y,rf_pipe.predict(train_x))"
   ]
  },
  {
   "cell_type": "code",
   "execution_count": null,
   "id": "b05d4935",
   "metadata": {},
   "outputs": [],
   "source": []
  },
  {
   "cell_type": "markdown",
   "id": "aea4d572",
   "metadata": {},
   "source": [
    "### Final Summary and Reflection (10%)"
   ]
  },
  {
   "cell_type": "code",
   "execution_count": null,
   "id": "72e4d1b9",
   "metadata": {},
   "outputs": [],
   "source": []
  },
  {
   "cell_type": "code",
   "execution_count": null,
   "id": "fc9b491a",
   "metadata": {},
   "outputs": [],
   "source": []
  },
  {
   "cell_type": "code",
   "execution_count": null,
   "id": "19d3cb8c",
   "metadata": {},
   "outputs": [],
   "source": []
  },
  {
   "cell_type": "code",
   "execution_count": null,
   "id": "e90168c0",
   "metadata": {},
   "outputs": [],
   "source": []
  },
  {
   "cell_type": "code",
   "execution_count": null,
   "id": "fa15e1c6",
   "metadata": {},
   "outputs": [],
   "source": []
  },
  {
   "cell_type": "code",
   "execution_count": null,
   "id": "899483a3",
   "metadata": {},
   "outputs": [],
   "source": []
  }
 ],
 "metadata": {
  "kernelspec": {
   "display_name": "Python 3",
   "language": "python",
   "name": "python3"
  },
  "language_info": {
   "codemirror_mode": {
    "name": "ipython",
    "version": 3
   },
   "file_extension": ".py",
   "mimetype": "text/x-python",
   "name": "python",
   "nbconvert_exporter": "python",
   "pygments_lexer": "ipython3",
   "version": "3.8.8"
  }
 },
 "nbformat": 4,
 "nbformat_minor": 5
}
