{
 "cells": [
  {
   "cell_type": "markdown",
   "id": "31e5dd6d",
   "metadata": {},
   "source": [
    "# Class 2B — By Your Powers Combined\n",
    "\n",
    "This is the team activity for **Class 2B** (Thursday, Sep. 2, 2021).\n",
    "\n",
    "When you have completed the activity, upload the notebook and a PDF export to the *Weeek 2 Assignment* in Canvas, and make sure all team members have a copy of the final notebook.\n",
    "\n",
    "This notebook is intended for you to fill out. The instructions are written inline, with empty cells for you to work. Feel free to add additional code and/or markdown cells as needed, to present the results and to provide appropriate interpretive commentary."
   ]
  },
  {
   "cell_type": "markdown",
   "id": "060c20e7",
   "metadata": {},
   "source": [
    "## 🗄 Data\n",
    "\n",
    "This assignment uses Version 1.3.0 of the [Global Power Plant Database](https://datasets.wri.org/dataset/globalpowerplantdatabase).  Download and unpack those files.\n",
    "\n",
    "One of the files, `A_Global_Database_of_Power_Plants.pdf`, contains documentation about the data."
   ]
  },
  {
   "cell_type": "markdown",
   "id": "2ed1c40e",
   "metadata": {},
   "source": [
    "## 🛠 Setup\n",
    "\n",
    "As usual, we need to start by setting up our Python environment."
   ]
  },
  {
   "cell_type": "code",
   "execution_count": 1,
   "id": "32a09bfb",
   "metadata": {},
   "outputs": [],
   "source": [
    "import pandas as pd\n",
    "import numpy as np\n",
    "import seaborn as sns\n",
    "import matplotlib.pyplot as plt"
   ]
  },
  {
   "cell_type": "markdown",
   "id": "72080279",
   "metadata": {},
   "source": [
    "Turn on Matplotlib rendering:"
   ]
  },
  {
   "cell_type": "code",
   "execution_count": 2,
   "id": "850fe012",
   "metadata": {},
   "outputs": [],
   "source": [
    "%matplotlib inline"
   ]
  },
  {
   "cell_type": "markdown",
   "id": "e1021cc3",
   "metadata": {},
   "source": [
    "And read the data, using `pandas.read_csv`:"
   ]
  },
  {
   "cell_type": "code",
   "execution_count": 3,
   "id": "9aadb57a",
   "metadata": {},
   "outputs": [
    {
     "data": {
      "text/html": [
       "<div>\n",
       "<style scoped>\n",
       "    .dataframe tbody tr th:only-of-type {\n",
       "        vertical-align: middle;\n",
       "    }\n",
       "\n",
       "    .dataframe tbody tr th {\n",
       "        vertical-align: top;\n",
       "    }\n",
       "\n",
       "    .dataframe thead th {\n",
       "        text-align: right;\n",
       "    }\n",
       "</style>\n",
       "<table border=\"1\" class=\"dataframe\">\n",
       "  <thead>\n",
       "    <tr style=\"text-align: right;\">\n",
       "      <th></th>\n",
       "      <th>country</th>\n",
       "      <th>country_long</th>\n",
       "      <th>name</th>\n",
       "      <th>gppd_idnr</th>\n",
       "      <th>capacity_mw</th>\n",
       "      <th>latitude</th>\n",
       "      <th>longitude</th>\n",
       "      <th>primary_fuel</th>\n",
       "      <th>other_fuel1</th>\n",
       "      <th>other_fuel2</th>\n",
       "      <th>...</th>\n",
       "      <th>estimated_generation_gwh_2013</th>\n",
       "      <th>estimated_generation_gwh_2014</th>\n",
       "      <th>estimated_generation_gwh_2015</th>\n",
       "      <th>estimated_generation_gwh_2016</th>\n",
       "      <th>estimated_generation_gwh_2017</th>\n",
       "      <th>estimated_generation_note_2013</th>\n",
       "      <th>estimated_generation_note_2014</th>\n",
       "      <th>estimated_generation_note_2015</th>\n",
       "      <th>estimated_generation_note_2016</th>\n",
       "      <th>estimated_generation_note_2017</th>\n",
       "    </tr>\n",
       "  </thead>\n",
       "  <tbody>\n",
       "    <tr>\n",
       "      <th>0</th>\n",
       "      <td>AFG</td>\n",
       "      <td>Afghanistan</td>\n",
       "      <td>Kajaki Hydroelectric Power Plant Afghanistan</td>\n",
       "      <td>GEODB0040538</td>\n",
       "      <td>33.0</td>\n",
       "      <td>32.3220</td>\n",
       "      <td>65.1190</td>\n",
       "      <td>Hydro</td>\n",
       "      <td>NaN</td>\n",
       "      <td>NaN</td>\n",
       "      <td>...</td>\n",
       "      <td>123.77</td>\n",
       "      <td>162.90</td>\n",
       "      <td>97.39</td>\n",
       "      <td>137.76</td>\n",
       "      <td>119.50</td>\n",
       "      <td>HYDRO-V1</td>\n",
       "      <td>HYDRO-V1</td>\n",
       "      <td>HYDRO-V1</td>\n",
       "      <td>HYDRO-V1</td>\n",
       "      <td>HYDRO-V1</td>\n",
       "    </tr>\n",
       "    <tr>\n",
       "      <th>1</th>\n",
       "      <td>AFG</td>\n",
       "      <td>Afghanistan</td>\n",
       "      <td>Kandahar DOG</td>\n",
       "      <td>WKS0070144</td>\n",
       "      <td>10.0</td>\n",
       "      <td>31.6700</td>\n",
       "      <td>65.7950</td>\n",
       "      <td>Solar</td>\n",
       "      <td>NaN</td>\n",
       "      <td>NaN</td>\n",
       "      <td>...</td>\n",
       "      <td>18.43</td>\n",
       "      <td>17.48</td>\n",
       "      <td>18.25</td>\n",
       "      <td>17.70</td>\n",
       "      <td>18.29</td>\n",
       "      <td>SOLAR-V1-NO-AGE</td>\n",
       "      <td>SOLAR-V1-NO-AGE</td>\n",
       "      <td>SOLAR-V1-NO-AGE</td>\n",
       "      <td>SOLAR-V1-NO-AGE</td>\n",
       "      <td>SOLAR-V1-NO-AGE</td>\n",
       "    </tr>\n",
       "    <tr>\n",
       "      <th>2</th>\n",
       "      <td>AFG</td>\n",
       "      <td>Afghanistan</td>\n",
       "      <td>Kandahar JOL</td>\n",
       "      <td>WKS0071196</td>\n",
       "      <td>10.0</td>\n",
       "      <td>31.6230</td>\n",
       "      <td>65.7920</td>\n",
       "      <td>Solar</td>\n",
       "      <td>NaN</td>\n",
       "      <td>NaN</td>\n",
       "      <td>...</td>\n",
       "      <td>18.64</td>\n",
       "      <td>17.58</td>\n",
       "      <td>19.10</td>\n",
       "      <td>17.62</td>\n",
       "      <td>18.72</td>\n",
       "      <td>SOLAR-V1-NO-AGE</td>\n",
       "      <td>SOLAR-V1-NO-AGE</td>\n",
       "      <td>SOLAR-V1-NO-AGE</td>\n",
       "      <td>SOLAR-V1-NO-AGE</td>\n",
       "      <td>SOLAR-V1-NO-AGE</td>\n",
       "    </tr>\n",
       "    <tr>\n",
       "      <th>3</th>\n",
       "      <td>AFG</td>\n",
       "      <td>Afghanistan</td>\n",
       "      <td>Mahipar Hydroelectric Power Plant Afghanistan</td>\n",
       "      <td>GEODB0040541</td>\n",
       "      <td>66.0</td>\n",
       "      <td>34.5560</td>\n",
       "      <td>69.4787</td>\n",
       "      <td>Hydro</td>\n",
       "      <td>NaN</td>\n",
       "      <td>NaN</td>\n",
       "      <td>...</td>\n",
       "      <td>225.06</td>\n",
       "      <td>203.55</td>\n",
       "      <td>146.90</td>\n",
       "      <td>230.18</td>\n",
       "      <td>174.91</td>\n",
       "      <td>HYDRO-V1</td>\n",
       "      <td>HYDRO-V1</td>\n",
       "      <td>HYDRO-V1</td>\n",
       "      <td>HYDRO-V1</td>\n",
       "      <td>HYDRO-V1</td>\n",
       "    </tr>\n",
       "    <tr>\n",
       "      <th>4</th>\n",
       "      <td>AFG</td>\n",
       "      <td>Afghanistan</td>\n",
       "      <td>Naghlu Dam Hydroelectric Power Plant Afghanistan</td>\n",
       "      <td>GEODB0040534</td>\n",
       "      <td>100.0</td>\n",
       "      <td>34.6410</td>\n",
       "      <td>69.7170</td>\n",
       "      <td>Hydro</td>\n",
       "      <td>NaN</td>\n",
       "      <td>NaN</td>\n",
       "      <td>...</td>\n",
       "      <td>406.16</td>\n",
       "      <td>357.22</td>\n",
       "      <td>270.99</td>\n",
       "      <td>395.38</td>\n",
       "      <td>350.80</td>\n",
       "      <td>HYDRO-V1</td>\n",
       "      <td>HYDRO-V1</td>\n",
       "      <td>HYDRO-V1</td>\n",
       "      <td>HYDRO-V1</td>\n",
       "      <td>HYDRO-V1</td>\n",
       "    </tr>\n",
       "    <tr>\n",
       "      <th>...</th>\n",
       "      <td>...</td>\n",
       "      <td>...</td>\n",
       "      <td>...</td>\n",
       "      <td>...</td>\n",
       "      <td>...</td>\n",
       "      <td>...</td>\n",
       "      <td>...</td>\n",
       "      <td>...</td>\n",
       "      <td>...</td>\n",
       "      <td>...</td>\n",
       "      <td>...</td>\n",
       "      <td>...</td>\n",
       "      <td>...</td>\n",
       "      <td>...</td>\n",
       "      <td>...</td>\n",
       "      <td>...</td>\n",
       "      <td>...</td>\n",
       "      <td>...</td>\n",
       "      <td>...</td>\n",
       "      <td>...</td>\n",
       "      <td>...</td>\n",
       "    </tr>\n",
       "    <tr>\n",
       "      <th>34931</th>\n",
       "      <td>ZMB</td>\n",
       "      <td>Zambia</td>\n",
       "      <td>Ndola</td>\n",
       "      <td>WRI1022386</td>\n",
       "      <td>50.0</td>\n",
       "      <td>-12.9667</td>\n",
       "      <td>28.6333</td>\n",
       "      <td>Oil</td>\n",
       "      <td>NaN</td>\n",
       "      <td>NaN</td>\n",
       "      <td>...</td>\n",
       "      <td>NaN</td>\n",
       "      <td>NaN</td>\n",
       "      <td>NaN</td>\n",
       "      <td>NaN</td>\n",
       "      <td>183.79</td>\n",
       "      <td>NO-ESTIMATION</td>\n",
       "      <td>NO-ESTIMATION</td>\n",
       "      <td>NO-ESTIMATION</td>\n",
       "      <td>NO-ESTIMATION</td>\n",
       "      <td>CAPACITY-FACTOR-V1</td>\n",
       "    </tr>\n",
       "    <tr>\n",
       "      <th>34932</th>\n",
       "      <td>ZMB</td>\n",
       "      <td>Zambia</td>\n",
       "      <td>Nkana</td>\n",
       "      <td>WRI1022384</td>\n",
       "      <td>20.0</td>\n",
       "      <td>-12.8167</td>\n",
       "      <td>28.2000</td>\n",
       "      <td>Oil</td>\n",
       "      <td>NaN</td>\n",
       "      <td>NaN</td>\n",
       "      <td>...</td>\n",
       "      <td>NaN</td>\n",
       "      <td>NaN</td>\n",
       "      <td>NaN</td>\n",
       "      <td>NaN</td>\n",
       "      <td>73.51</td>\n",
       "      <td>NO-ESTIMATION</td>\n",
       "      <td>NO-ESTIMATION</td>\n",
       "      <td>NO-ESTIMATION</td>\n",
       "      <td>NO-ESTIMATION</td>\n",
       "      <td>CAPACITY-FACTOR-V1</td>\n",
       "    </tr>\n",
       "    <tr>\n",
       "      <th>34933</th>\n",
       "      <td>ZMB</td>\n",
       "      <td>Zambia</td>\n",
       "      <td>Victoria Falls</td>\n",
       "      <td>WRI1022380</td>\n",
       "      <td>108.0</td>\n",
       "      <td>-17.9167</td>\n",
       "      <td>25.8500</td>\n",
       "      <td>Hydro</td>\n",
       "      <td>NaN</td>\n",
       "      <td>NaN</td>\n",
       "      <td>...</td>\n",
       "      <td>575.78</td>\n",
       "      <td>575.78</td>\n",
       "      <td>548.94</td>\n",
       "      <td>579.90</td>\n",
       "      <td>578.32</td>\n",
       "      <td>HYDRO-V1</td>\n",
       "      <td>HYDRO-V1</td>\n",
       "      <td>HYDRO-V1</td>\n",
       "      <td>HYDRO-V1</td>\n",
       "      <td>HYDRO-V1</td>\n",
       "    </tr>\n",
       "    <tr>\n",
       "      <th>34934</th>\n",
       "      <td>ZWE</td>\n",
       "      <td>Zimbabwe</td>\n",
       "      <td>Hwange Coal Power Plant Zimbabwe</td>\n",
       "      <td>GEODB0040404</td>\n",
       "      <td>920.0</td>\n",
       "      <td>-18.3835</td>\n",
       "      <td>26.4700</td>\n",
       "      <td>Coal</td>\n",
       "      <td>NaN</td>\n",
       "      <td>NaN</td>\n",
       "      <td>...</td>\n",
       "      <td>NaN</td>\n",
       "      <td>NaN</td>\n",
       "      <td>NaN</td>\n",
       "      <td>NaN</td>\n",
       "      <td>2785.10</td>\n",
       "      <td>NO-ESTIMATION</td>\n",
       "      <td>NO-ESTIMATION</td>\n",
       "      <td>NO-ESTIMATION</td>\n",
       "      <td>NO-ESTIMATION</td>\n",
       "      <td>CAPACITY-FACTOR-V1</td>\n",
       "    </tr>\n",
       "    <tr>\n",
       "      <th>34935</th>\n",
       "      <td>ZWE</td>\n",
       "      <td>Zimbabwe</td>\n",
       "      <td>Kariba Dam South Hydroelectric Power Station Z...</td>\n",
       "      <td>GEODB0003803</td>\n",
       "      <td>750.0</td>\n",
       "      <td>-16.5222</td>\n",
       "      <td>28.7619</td>\n",
       "      <td>Hydro</td>\n",
       "      <td>NaN</td>\n",
       "      <td>NaN</td>\n",
       "      <td>...</td>\n",
       "      <td>3999.75</td>\n",
       "      <td>3999.75</td>\n",
       "      <td>3745.02</td>\n",
       "      <td>3428.65</td>\n",
       "      <td>3960.24</td>\n",
       "      <td>HYDRO-V1</td>\n",
       "      <td>HYDRO-V1</td>\n",
       "      <td>HYDRO-V1</td>\n",
       "      <td>HYDRO-V1</td>\n",
       "      <td>HYDRO-V1</td>\n",
       "    </tr>\n",
       "  </tbody>\n",
       "</table>\n",
       "<p>34936 rows × 36 columns</p>\n",
       "</div>"
      ],
      "text/plain": [
       "      country country_long                                               name  \\\n",
       "0         AFG  Afghanistan       Kajaki Hydroelectric Power Plant Afghanistan   \n",
       "1         AFG  Afghanistan                                       Kandahar DOG   \n",
       "2         AFG  Afghanistan                                       Kandahar JOL   \n",
       "3         AFG  Afghanistan      Mahipar Hydroelectric Power Plant Afghanistan   \n",
       "4         AFG  Afghanistan   Naghlu Dam Hydroelectric Power Plant Afghanistan   \n",
       "...       ...          ...                                                ...   \n",
       "34931     ZMB       Zambia                                              Ndola   \n",
       "34932     ZMB       Zambia                                              Nkana   \n",
       "34933     ZMB       Zambia                                     Victoria Falls   \n",
       "34934     ZWE     Zimbabwe                   Hwange Coal Power Plant Zimbabwe   \n",
       "34935     ZWE     Zimbabwe  Kariba Dam South Hydroelectric Power Station Z...   \n",
       "\n",
       "          gppd_idnr  capacity_mw  latitude  longitude primary_fuel  \\\n",
       "0      GEODB0040538         33.0   32.3220    65.1190        Hydro   \n",
       "1        WKS0070144         10.0   31.6700    65.7950        Solar   \n",
       "2        WKS0071196         10.0   31.6230    65.7920        Solar   \n",
       "3      GEODB0040541         66.0   34.5560    69.4787        Hydro   \n",
       "4      GEODB0040534        100.0   34.6410    69.7170        Hydro   \n",
       "...             ...          ...       ...        ...          ...   \n",
       "34931    WRI1022386         50.0  -12.9667    28.6333          Oil   \n",
       "34932    WRI1022384         20.0  -12.8167    28.2000          Oil   \n",
       "34933    WRI1022380        108.0  -17.9167    25.8500        Hydro   \n",
       "34934  GEODB0040404        920.0  -18.3835    26.4700         Coal   \n",
       "34935  GEODB0003803        750.0  -16.5222    28.7619        Hydro   \n",
       "\n",
       "      other_fuel1 other_fuel2  ... estimated_generation_gwh_2013  \\\n",
       "0             NaN         NaN  ...                        123.77   \n",
       "1             NaN         NaN  ...                         18.43   \n",
       "2             NaN         NaN  ...                         18.64   \n",
       "3             NaN         NaN  ...                        225.06   \n",
       "4             NaN         NaN  ...                        406.16   \n",
       "...           ...         ...  ...                           ...   \n",
       "34931         NaN         NaN  ...                           NaN   \n",
       "34932         NaN         NaN  ...                           NaN   \n",
       "34933         NaN         NaN  ...                        575.78   \n",
       "34934         NaN         NaN  ...                           NaN   \n",
       "34935         NaN         NaN  ...                       3999.75   \n",
       "\n",
       "       estimated_generation_gwh_2014 estimated_generation_gwh_2015  \\\n",
       "0                             162.90                         97.39   \n",
       "1                              17.48                         18.25   \n",
       "2                              17.58                         19.10   \n",
       "3                             203.55                        146.90   \n",
       "4                             357.22                        270.99   \n",
       "...                              ...                           ...   \n",
       "34931                            NaN                           NaN   \n",
       "34932                            NaN                           NaN   \n",
       "34933                         575.78                        548.94   \n",
       "34934                            NaN                           NaN   \n",
       "34935                        3999.75                       3745.02   \n",
       "\n",
       "      estimated_generation_gwh_2016 estimated_generation_gwh_2017  \\\n",
       "0                            137.76                        119.50   \n",
       "1                             17.70                         18.29   \n",
       "2                             17.62                         18.72   \n",
       "3                            230.18                        174.91   \n",
       "4                            395.38                        350.80   \n",
       "...                             ...                           ...   \n",
       "34931                           NaN                        183.79   \n",
       "34932                           NaN                         73.51   \n",
       "34933                        579.90                        578.32   \n",
       "34934                           NaN                       2785.10   \n",
       "34935                       3428.65                       3960.24   \n",
       "\n",
       "      estimated_generation_note_2013 estimated_generation_note_2014  \\\n",
       "0                           HYDRO-V1                       HYDRO-V1   \n",
       "1                    SOLAR-V1-NO-AGE                SOLAR-V1-NO-AGE   \n",
       "2                    SOLAR-V1-NO-AGE                SOLAR-V1-NO-AGE   \n",
       "3                           HYDRO-V1                       HYDRO-V1   \n",
       "4                           HYDRO-V1                       HYDRO-V1   \n",
       "...                              ...                            ...   \n",
       "34931                  NO-ESTIMATION                  NO-ESTIMATION   \n",
       "34932                  NO-ESTIMATION                  NO-ESTIMATION   \n",
       "34933                       HYDRO-V1                       HYDRO-V1   \n",
       "34934                  NO-ESTIMATION                  NO-ESTIMATION   \n",
       "34935                       HYDRO-V1                       HYDRO-V1   \n",
       "\n",
       "       estimated_generation_note_2015  estimated_generation_note_2016  \\\n",
       "0                            HYDRO-V1                        HYDRO-V1   \n",
       "1                     SOLAR-V1-NO-AGE                 SOLAR-V1-NO-AGE   \n",
       "2                     SOLAR-V1-NO-AGE                 SOLAR-V1-NO-AGE   \n",
       "3                            HYDRO-V1                        HYDRO-V1   \n",
       "4                            HYDRO-V1                        HYDRO-V1   \n",
       "...                               ...                             ...   \n",
       "34931                   NO-ESTIMATION                   NO-ESTIMATION   \n",
       "34932                   NO-ESTIMATION                   NO-ESTIMATION   \n",
       "34933                        HYDRO-V1                        HYDRO-V1   \n",
       "34934                   NO-ESTIMATION                   NO-ESTIMATION   \n",
       "34935                        HYDRO-V1                        HYDRO-V1   \n",
       "\n",
       "       estimated_generation_note_2017  \n",
       "0                            HYDRO-V1  \n",
       "1                     SOLAR-V1-NO-AGE  \n",
       "2                     SOLAR-V1-NO-AGE  \n",
       "3                            HYDRO-V1  \n",
       "4                            HYDRO-V1  \n",
       "...                               ...  \n",
       "34931              CAPACITY-FACTOR-V1  \n",
       "34932              CAPACITY-FACTOR-V1  \n",
       "34933                        HYDRO-V1  \n",
       "34934              CAPACITY-FACTOR-V1  \n",
       "34935                        HYDRO-V1  \n",
       "\n",
       "[34936 rows x 36 columns]"
      ]
     },
     "execution_count": 3,
     "metadata": {},
     "output_type": "execute_result"
    }
   ],
   "source": [
    "pp_data=pd.read_csv('global_power_plant_database_v_1_3/global_power_plant_database.csv',low_memory=False)\n",
    "pp_data"
   ]
  },
  {
   "cell_type": "markdown",
   "id": "2723674b",
   "metadata": {},
   "source": [
    "## 🏡 Structural Description\n",
    "\n",
    "How many **observations** are in this data?"
   ]
  },
  {
   "cell_type": "code",
   "execution_count": 4,
   "id": "e3f6c2c7",
   "metadata": {},
   "outputs": [
    {
     "data": {
      "text/plain": [
       "34936"
      ]
     },
     "execution_count": 4,
     "metadata": {},
     "output_type": "execute_result"
    }
   ],
   "source": [
    "len(pp_data)"
   ]
  },
  {
   "cell_type": "markdown",
   "id": "a87ff719",
   "metadata": {},
   "source": [
    "How many **variables** are in this data?"
   ]
  },
  {
   "cell_type": "code",
   "execution_count": 5,
   "id": "04220e35",
   "metadata": {},
   "outputs": [
    {
     "data": {
      "text/plain": [
       "36"
      ]
     },
     "execution_count": 5,
     "metadata": {},
     "output_type": "execute_result"
    }
   ],
   "source": [
    "len(pp_data.columns)"
   ]
  },
  {
   "cell_type": "markdown",
   "id": "19f1f820",
   "metadata": {},
   "source": [
    "What are some of the variables in this data? Look at both the column names, and the documentation (particularly Table 3), to identify some of the variables we have here."
   ]
  },
  {
   "cell_type": "code",
   "execution_count": 6,
   "id": "ab4af4d9",
   "metadata": {},
   "outputs": [
    {
     "name": "stdout",
     "output_type": "stream",
     "text": [
      "<class 'pandas.core.frame.DataFrame'>\n",
      "RangeIndex: 34936 entries, 0 to 34935\n",
      "Data columns (total 36 columns):\n",
      " #   Column                          Non-Null Count  Dtype  \n",
      "---  ------                          --------------  -----  \n",
      " 0   country                         34936 non-null  object \n",
      " 1   country_long                    34936 non-null  object \n",
      " 2   name                            34936 non-null  object \n",
      " 3   gppd_idnr                       34936 non-null  object \n",
      " 4   capacity_mw                     34936 non-null  float64\n",
      " 5   latitude                        34936 non-null  float64\n",
      " 6   longitude                       34936 non-null  float64\n",
      " 7   primary_fuel                    34936 non-null  object \n",
      " 8   other_fuel1                     1944 non-null   object \n",
      " 9   other_fuel2                     276 non-null    object \n",
      " 10  other_fuel3                     92 non-null     object \n",
      " 11  commissioning_year              17447 non-null  float64\n",
      " 12  owner                           20868 non-null  object \n",
      " 13  source                          34921 non-null  object \n",
      " 14  url                             34918 non-null  object \n",
      " 15  geolocation_source              34517 non-null  object \n",
      " 16  wepp_id                         16234 non-null  object \n",
      " 17  year_of_capacity_data           14887 non-null  float64\n",
      " 18  generation_gwh_2013             6417 non-null   float64\n",
      " 19  generation_gwh_2014             7226 non-null   float64\n",
      " 20  generation_gwh_2015             8203 non-null   float64\n",
      " 21  generation_gwh_2016             9144 non-null   float64\n",
      " 22  generation_gwh_2017             9500 non-null   float64\n",
      " 23  generation_gwh_2018             9637 non-null   float64\n",
      " 24  generation_gwh_2019             9659 non-null   float64\n",
      " 25  generation_data_source          11400 non-null  object \n",
      " 26  estimated_generation_gwh_2013   16120 non-null  float64\n",
      " 27  estimated_generation_gwh_2014   16503 non-null  float64\n",
      " 28  estimated_generation_gwh_2015   17050 non-null  float64\n",
      " 29  estimated_generation_gwh_2016   17570 non-null  float64\n",
      " 30  estimated_generation_gwh_2017   33138 non-null  float64\n",
      " 31  estimated_generation_note_2013  34936 non-null  object \n",
      " 32  estimated_generation_note_2014  34936 non-null  object \n",
      " 33  estimated_generation_note_2015  34936 non-null  object \n",
      " 34  estimated_generation_note_2016  34936 non-null  object \n",
      " 35  estimated_generation_note_2017  34936 non-null  object \n",
      "dtypes: float64(17), object(19)\n",
      "memory usage: 9.6+ MB\n"
     ]
    }
   ],
   "source": [
    "pp_data.info()"
   ]
  },
  {
   "cell_type": "markdown",
   "id": "4e5d1d3d",
   "metadata": {},
   "source": [
    "Do the Pandas types match what you would expect from the expected data type? Are there any surprises?"
   ]
  },
  {
   "cell_type": "code",
   "execution_count": null,
   "id": "653195f0",
   "metadata": {},
   "outputs": [],
   "source": []
  },
  {
   "cell_type": "markdown",
   "id": "c8093a24",
   "metadata": {},
   "source": [
    "## ❓ Questions\n",
    "\n",
    "Identify **2 questions** that you could try to answer with this data, and write them in the Markdown cell below."
   ]
  },
  {
   "cell_type": "markdown",
   "id": "ea3e135a",
   "metadata": {},
   "source": [
    "What is the biggst power producing souces?\n"
   ]
  },
  {
   "cell_type": "markdown",
   "id": "17c4042d",
   "metadata": {},
   "source": [
    "## 🙋‍♀️ Check-In Breakpoint 🙋‍♂️\n",
    "\n",
    "This is where we're going to do an initial check-in and cross-team discussion."
   ]
  },
  {
   "cell_type": "markdown",
   "id": "034a87eb",
   "metadata": {},
   "source": [
    "## Distributions\n",
    "\n",
    "What is the distribution of power production capacity **per plant**? Describe graphically and numerically."
   ]
  },
  {
   "cell_type": "code",
   "execution_count": 11,
   "id": "f27b46a5",
   "metadata": {},
   "outputs": [
    {
     "data": {
      "text/plain": [
       "<AxesSubplot:ylabel='Frequency'>"
      ]
     },
     "execution_count": 11,
     "metadata": {},
     "output_type": "execute_result"
    },
    {
     "data": {
      "image/png": "[encoded data removed]",
      "text/plain": [
       "<Figure size 432x288 with 1 Axes>"
      ]
     },
     "metadata": {
      "needs_background": "light"
     },
     "output_type": "display_data"
    }
   ],
   "source": [
    "cap=pp_data.groupby(\"name\")[\"capacity_mw\"].sum()\n",
    "cap.describe()\n",
    "cap.plot.hist(bins=50)\n"
   ]
  },
  {
   "cell_type": "markdown",
   "id": "d8a3c6da",
   "metadata": {},
   "source": [
    "What is the distribution of power production capacity **per country**? Describe graphically and numerically."
   ]
  },
  {
   "cell_type": "code",
   "execution_count": 8,
   "id": "4598aa80",
   "metadata": {},
   "outputs": [
    {
     "data": {
      "text/plain": [
       "<AxesSubplot:ylabel='Frequency'>"
      ]
     },
     "execution_count": 8,
     "metadata": {},
     "output_type": "execute_result"
    },
    {
     "data": {
      "image/png": "[encoded data removed]",
      "text/plain": [
       "<Figure size 432x288 with 1 Axes>"
      ]
     },
     "metadata": {
      "needs_background": "light"
     },
     "output_type": "display_data"
    }
   ],
   "source": [
    "cap=pp_data.groupby(\"country\")[\"capacity_mw\"].sum()\n",
    "cap.describe()\n",
    "cap.plot.hist(bins=50)"
   ]
  },
  {
   "cell_type": "markdown",
   "id": "8fbf573b",
   "metadata": {},
   "source": [
    "## Exploration\n",
    "\n",
    "How many power plants are there of each fuel type?\n",
    "\n",
    "> **Hint:** This is easiest to view with a **horizontal bar plot**.  You can do this by using Pandas group-by, and calling `.plot.barh()` on the resulting series; or by using Seaborn's `countplot`, with `y='primary_fuel'` instead of `x='primary_fuel'`."
   ]
  },
  {
   "cell_type": "code",
   "execution_count": 17,
   "id": "8dd9f98a",
   "metadata": {},
   "outputs": [
    {
     "data": {
      "text/plain": [
       "<AxesSubplot:ylabel='primary_fuel'>"
      ]
     },
     "execution_count": 17,
     "metadata": {},
     "output_type": "execute_result"
    },
    {
     "data": {
      "image/png": "[encoded data removed]",
      "text/plain": [
       "<Figure size 432x288 with 1 Axes>"
      ]
     },
     "metadata": {
      "needs_background": "light"
     },
     "output_type": "display_data"
    }
   ],
   "source": [
    "ftp=pp_data.groupby('primary_fuel')['name'].count()\n",
    "ftp.plot.barh()"
   ]
  },
  {
   "cell_type": "markdown",
   "id": "9d893dbf",
   "metadata": {},
   "source": [
    "How much **total production capacity** is there of each fuel type?"
   ]
  },
  {
   "cell_type": "code",
   "execution_count": 20,
   "id": "c3b98e90",
   "metadata": {},
   "outputs": [
    {
     "data": {
      "text/plain": [
       "<AxesSubplot:ylabel='primary_fuel'>"
      ]
     },
     "execution_count": 20,
     "metadata": {},
     "output_type": "execute_result"
    },
    {
     "data": {
      "image/png": "[encoded data removed]",
      "text/plain": [
       "<Figure size 432x288 with 1 Axes>"
      ]
     },
     "metadata": {
      "needs_background": "light"
     },
     "output_type": "display_data"
    }
   ],
   "source": [
    "ftp=pp_data.groupby('primary_fuel')['capacity_mw'].sum()\n",
    "ftp.plot.barh()"
   ]
  },
  {
   "cell_type": "markdown",
   "id": "bd4c5dd1",
   "metadata": {},
   "source": [
    "## ❔ Question\n",
    "\n",
    "Pick one of the questions (either one of yours, or one of the other teams'). I recommend picking a simple one! State the question:"
   ]
  },
  {
   "cell_type": "markdown",
   "id": "d3ed73e7",
   "metadata": {},
   "source": []
  },
  {
   "cell_type": "markdown",
   "id": "a322b926",
   "metadata": {},
   "source": [
    "Describe, in English, a precise mechanism by which you will compute this measurement (including the variable(s), grouping, aggregates, etc. involved):"
   ]
  },
  {
   "cell_type": "code",
   "execution_count": null,
   "id": "82686cbb",
   "metadata": {},
   "outputs": [],
   "source": []
  },
  {
   "cell_type": "markdown",
   "id": "00d1943c",
   "metadata": {},
   "source": [
    "Attempt to answer it with the tools we have seen so far:"
   ]
  },
  {
   "cell_type": "code",
   "execution_count": null,
   "id": "2942f4ff",
   "metadata": {},
   "outputs": [],
   "source": []
  },
  {
   "cell_type": "markdown",
   "id": "bf993d27",
   "metadata": {},
   "source": [
    "## 🏁 We're Done!\n",
    "\n",
    "Submit to Canvas"
   ]
  }
 ],
 "metadata": {
  "kernelspec": {
   "display_name": "Python 3",
   "language": "python",
   "name": "python3"
  },
  "language_info": {
   "codemirror_mode": {
    "name": "ipython",
    "version": 3
   },
   "file_extension": ".py",
   "mimetype": "text/x-python",
   "name": "python",
   "nbconvert_exporter": "python",
   "pygments_lexer": "ipython3",
   "version": "3.8.8"
  }
 },
 "nbformat": 4,
 "nbformat_minor": 5
}
