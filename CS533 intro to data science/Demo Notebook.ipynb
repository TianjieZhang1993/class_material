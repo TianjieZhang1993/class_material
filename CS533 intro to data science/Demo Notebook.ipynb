{
 "cells": [
  {
   "cell_type": "markdown",
   "id": "1b113e11",
   "metadata": {},
   "source": [
    "# Demo Notebook\n",
    "This is the demo to show you how to run.\n",
    "- bulleted\n",
    "- list\n",
    "and \n",
    "\n",
    "1 numbered\n",
    "\n",
    "2 lists"
   ]
  },
  {
   "cell_type": "markdown",
   "id": "3b644ccc",
   "metadata": {},
   "source": [
    "expression $y = mx + b$."
   ]
  },
  {
   "cell_type": "code",
   "execution_count": null,
   "id": "aea02f9b",
   "metadata": {},
   "outputs": [],
   "source": [
    "\"Hello,world\""
   ]
  },
  {
   "cell_type": "code",
   "execution_count": 2,
   "id": "420d6547",
   "metadata": {},
   "outputs": [
    {
     "data": {
      "text/plain": [
       "5"
      ]
     },
     "execution_count": 2,
     "metadata": {},
     "output_type": "execute_result"
    }
   ],
   "source": [
    "5"
   ]
  },
  {
   "cell_type": "code",
   "execution_count": 3,
   "id": "83ae6ade",
   "metadata": {},
   "outputs": [
    {
     "name": "stdout",
     "output_type": "stream",
     "text": [
      "Hello,world\n"
     ]
    }
   ],
   "source": [
    "print(\"Hello,world\")"
   ]
  },
  {
   "cell_type": "code",
   "execution_count": null,
   "id": "68437d8c",
   "metadata": {},
   "outputs": [],
   "source": []
  }
 ],
 "metadata": {
  "kernelspec": {
   "display_name": "Python 3",
   "language": "python",
   "name": "python3"
  },
  "language_info": {
   "codemirror_mode": {
    "name": "ipython",
    "version": 3
   },
   "file_extension": ".py",
   "mimetype": "text/x-python",
   "name": "python",
   "nbconvert_exporter": "python",
   "pygments_lexer": "ipython3",
   "version": "3.8.10"
  }
 },
 "nbformat": 4,
 "nbformat_minor": 5
}
