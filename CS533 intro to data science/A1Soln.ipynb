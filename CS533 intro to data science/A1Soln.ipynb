{
 "cells": [
  {
   "cell_type": "markdown",
   "metadata": {},
   "source": [
    "# Assignment 1 Solution\n",
    "\n",
    "This is my solution to the technical components of Assignment 1 (parts 1–4).\n",
    "\n",
    "**Pay attention to details.** How did I use section headings? How did I lay out my code?"
   ]
  },
  {
   "cell_type": "markdown",
   "metadata": {},
   "source": [
    "## Setup\n",
    "\n",
    "Let's load our usual Python libraries:"
   ]
  },
  {
   "cell_type": "code",
   "execution_count": 1,
   "metadata": {},
   "outputs": [],
   "source": [
    "import pandas as pd\n",
    "import numpy as np\n",
    "import scipy.stats as sps\n",
    "import statsmodels.api as sm\n",
    "import matplotlib.pyplot as plt\n",
    "import seaborn as sns"
   ]
  },
  {
   "cell_type": "markdown",
   "metadata": {},
   "source": [
    "And the regex library, for us to do things with column names:"
   ]
  },
  {
   "cell_type": "code",
   "execution_count": 2,
   "metadata": {},
   "outputs": [],
   "source": [
    "import re"
   ]
  },
  {
   "cell_type": "markdown",
   "metadata": {},
   "source": [
    "And now we're going to load the main data file:"
   ]
  },
  {
   "cell_type": "code",
   "execution_count": 3,
   "metadata": {
    "scrolled": true
   },
   "outputs": [
    {
     "name": "stdout",
     "output_type": "stream",
     "text": [
      "<class 'pandas.core.frame.DataFrame'>\n",
      "RangeIndex: 6694 entries, 0 to 6693\n",
      "Columns: 2392 entries, UNITID to DOLPROVIDER\n",
      "dtypes: float64(639), int64(15), object(1738)\n",
      "memory usage: 780.7 MB\n"
     ]
    }
   ],
   "source": [
    "scorecard = pd.read_csv('Most-Recent-Cohorts-All-Data-Elements.csv', low_memory=False)\n",
    "scorecard.info(memory_usage='deep')"
   ]
  },
  {
   "cell_type": "markdown",
   "metadata": {},
   "source": [
    "We don't have to index this frame, but I'm going to index by UNITID just to align all our series with a meaningful identifier:"
   ]
  },
  {
   "cell_type": "code",
   "execution_count": 4,
   "metadata": {},
   "outputs": [],
   "source": [
    "scorecard = scorecard.set_index('UNITID')"
   ]
  },
  {
   "cell_type": "markdown",
   "metadata": {},
   "source": [
    "This will allow us to later use `join` to connect working frames.\n",
    "\n",
    "I am *not* going to do anything with missing data now — we will deal with it as a part of individual analyses.  I'm also going to recode data and rename columns when I need them."
   ]
  },
  {
   "cell_type": "markdown",
   "metadata": {},
   "source": [
    "## Data Structure\n",
    "\n",
    "We have 6806 entries with 1986 columns, from the `.info()` output above.\n",
    "\n",
    "Let's look at schools-per-state - first we need to count the schools in each state, then we'll `.describe()` it to find mean schools per state:"
   ]
  },
  {
   "cell_type": "code",
   "execution_count": 5,
   "metadata": {
    "scrolled": true
   },
   "outputs": [
    {
     "data": {
      "text/plain": [
       "count     59.000000\n",
       "mean     113.457627\n",
       "std      129.991156\n",
       "min        1.000000\n",
       "25%       27.000000\n",
       "50%       80.000000\n",
       "75%      149.500000\n",
       "max      693.000000\n",
       "Name: STABBR, dtype: float64"
      ]
     },
     "execution_count": 5,
     "metadata": {},
     "output_type": "execute_result"
    }
   ],
   "source": [
    "state_counts = scorecard['STABBR'].value_counts()\n",
    "state_counts.describe()"
   ]
  },
  {
   "cell_type": "markdown",
   "metadata": {},
   "source": [
    "Mean of 115, median of 86 - definitely a skew here. What does the distribution of these values look like?"
   ]
  },
  {
   "cell_type": "code",
   "execution_count": 6,
   "metadata": {},
   "outputs": [
    {
     "name": "stderr",
     "output_type": "stream",
     "text": [
      "/home/MICHAELEKSTRAND/anaconda3/lib/python3.7/site-packages/seaborn/distributions.py:2619: FutureWarning: `distplot` is a deprecated function and will be removed in a future version. Please adapt your code to use either `displot` (a figure-level function with similar flexibility) or `histplot` (an axes-level function for histograms).\n",
      "  warnings.warn(msg, FutureWarning)\n"
     ]
    },
    {
     "data": {
      "text/plain": [
       "<AxesSubplot:xlabel='STABBR'>"
      ]
     },
     "execution_count": 6,
     "metadata": {},
     "output_type": "execute_result"
    },
    {
     "data": {
      "image/png": "[encoded data removed]",
      "text/plain": [
       "<Figure size 432x288 with 1 Axes>"
      ]
     },
     "metadata": {
      "needs_background": "light"
     },
     "output_type": "display_data"
    }
   ],
   "source": [
    "sns.distplot(state_counts, kde=False)"
   ]
  },
  {
   "cell_type": "markdown",
   "metadata": {},
   "source": [
    "Heavy right skew, with outlier out above 650. Several of you also did a bar chart showing each state's # of schools - let's do that too:"
   ]
  },
  {
   "cell_type": "code",
   "execution_count": 7,
   "metadata": {},
   "outputs": [
    {
     "data": {
      "text/plain": [
       "<AxesSubplot:xlabel='STABBR'>"
      ]
     },
     "execution_count": 7,
     "metadata": {},
     "output_type": "execute_result"
    },
    {
     "data": {
      "image/png": "[encoded data removed]",
      "text/plain": [
       "<Figure size 360x720 with 1 Axes>"
      ]
     },
     "metadata": {
      "needs_background": "light"
     },
     "output_type": "display_data"
    }
   ],
   "source": [
    "plt.figure(figsize=(5, 10))\n",
    "sns.barplot(x=state_counts, y=state_counts.index, color='grey')"
   ]
  },
  {
   "cell_type": "markdown",
   "metadata": {},
   "source": [
    "Heavy drop-off in the number of schools in different states.  For this specific problem, this gives us some insight into the distribution, but it is *not* the distribution of per-state school counts (it is the distribution of states)."
   ]
  },
  {
   "cell_type": "markdown",
   "metadata": {},
   "source": [
    "## Completion Rate\n",
    "\n",
    "There are several completion rate variables in this data set:"
   ]
  },
  {
   "cell_type": "code",
   "execution_count": 8,
   "metadata": {},
   "outputs": [
    {
     "data": {
      "text/plain": [
       "['C150_4',\n",
       " 'C150_L4',\n",
       " 'C150_4_POOLED',\n",
       " 'C150_L4_POOLED',\n",
       " 'C150_4_WHITE',\n",
       " 'C150_4_BLACK',\n",
       " 'C150_4_HISP',\n",
       " 'C150_4_ASIAN',\n",
       " 'C150_4_AIAN',\n",
       " 'C150_4_NHPI',\n",
       " 'C150_4_2MOR',\n",
       " 'C150_4_NRA',\n",
       " 'C150_4_UNKN',\n",
       " 'C150_4_WHITENH',\n",
       " 'C150_4_BLACKNH',\n",
       " 'C150_4_API',\n",
       " 'C150_4_AIANOLD',\n",
       " 'C150_4_HISPOLD',\n",
       " 'C150_L4_WHITE',\n",
       " 'C150_L4_BLACK',\n",
       " 'C150_L4_HISP',\n",
       " 'C150_L4_ASIAN',\n",
       " 'C150_L4_AIAN',\n",
       " 'C150_L4_NHPI',\n",
       " 'C150_L4_2MOR',\n",
       " 'C150_L4_NRA',\n",
       " 'C150_L4_UNKN',\n",
       " 'C150_L4_WHITENH',\n",
       " 'C150_L4_BLACKNH',\n",
       " 'C150_L4_API',\n",
       " 'C150_L4_AIANOLD',\n",
       " 'C150_L4_HISPOLD',\n",
       " 'C200_4',\n",
       " 'C200_L4',\n",
       " 'C200_4_POOLED',\n",
       " 'C200_L4_POOLED',\n",
       " 'C150_L4_POOLED_SUPP',\n",
       " 'C150_4_POOLED_SUPP',\n",
       " 'C200_L4_POOLED_SUPP',\n",
       " 'C200_4_POOLED_SUPP',\n",
       " 'C100_4',\n",
       " 'C100_L4',\n",
       " 'C100_4_POOLED',\n",
       " 'C100_L4_POOLED',\n",
       " 'C100_4_POOLED_SUPP',\n",
       " 'C100_L4_POOLED_SUPP',\n",
       " 'C150_4_PELL',\n",
       " 'C150_L4_PELL',\n",
       " 'C150_4_LOANNOPELL',\n",
       " 'C150_L4_LOANNOPELL',\n",
       " 'C150_4_NOLOANNOPELL',\n",
       " 'C150_L4_NOLOANNOPELL']"
      ]
     },
     "execution_count": 8,
     "metadata": {},
     "output_type": "execute_result"
    }
   ],
   "source": [
    "[c for c in scorecard.columns if re.match(r'C\\d+_', c)]"
   ]
  },
  {
   "cell_type": "markdown",
   "metadata": {},
   "source": [
    "I am going to use the **unpooled 150%** completion rates, because they are the only ones disaggregated by race and this will enable consistent analysis throughout.\n",
    "\n",
    "This leaves us with 2: `C150_4` and `C150_L4`. Do any schools have both?"
   ]
  },
  {
   "cell_type": "code",
   "execution_count": 9,
   "metadata": {},
   "outputs": [
    {
     "data": {
      "text/plain": [
       "0"
      ]
     },
     "execution_count": 9,
     "metadata": {},
     "output_type": "execute_result"
    }
   ],
   "source": [
    "mask = scorecard['C150_4'].notnull()\n",
    "mask = mask & scorecard['C150_L4'].notnull()\n",
    "mask.sum()"
   ]
  },
  {
   "cell_type": "markdown",
   "metadata": {},
   "source": [
    "No — there are zero record with both a 4-year and an L4-year completion rate. Therfore we will combine them.  I'm going to make a new frame with these completion rates:"
   ]
  },
  {
   "cell_type": "code",
   "execution_count": 10,
   "metadata": {},
   "outputs": [
    {
     "data": {
      "text/html": [
       "<div>\n",
       "<style scoped>\n",
       "    .dataframe tbody tr th:only-of-type {\n",
       "        vertical-align: middle;\n",
       "    }\n",
       "\n",
       "    .dataframe tbody tr th {\n",
       "        vertical-align: top;\n",
       "    }\n",
       "\n",
       "    .dataframe thead th {\n",
       "        text-align: right;\n",
       "    }\n",
       "</style>\n",
       "<table border=\"1\" class=\"dataframe\">\n",
       "  <thead>\n",
       "    <tr style=\"text-align: right;\">\n",
       "      <th></th>\n",
       "      <th>Overall</th>\n",
       "    </tr>\n",
       "    <tr>\n",
       "      <th>UNITID</th>\n",
       "      <th></th>\n",
       "    </tr>\n",
       "  </thead>\n",
       "  <tbody>\n",
       "    <tr>\n",
       "      <th>100654</th>\n",
       "      <td>0.2974</td>\n",
       "    </tr>\n",
       "    <tr>\n",
       "      <th>100663</th>\n",
       "      <td>0.6340</td>\n",
       "    </tr>\n",
       "    <tr>\n",
       "      <th>100690</th>\n",
       "      <td>0.3333</td>\n",
       "    </tr>\n",
       "    <tr>\n",
       "      <th>100706</th>\n",
       "      <td>0.5768</td>\n",
       "    </tr>\n",
       "    <tr>\n",
       "      <th>100724</th>\n",
       "      <td>0.3276</td>\n",
       "    </tr>\n",
       "  </tbody>\n",
       "</table>\n",
       "</div>"
      ],
      "text/plain": [
       "        Overall\n",
       "UNITID         \n",
       "100654   0.2974\n",
       "100663   0.6340\n",
       "100690   0.3333\n",
       "100706   0.5768\n",
       "100724   0.3276"
      ]
     },
     "execution_count": 10,
     "metadata": {},
     "output_type": "execute_result"
    }
   ],
   "source": [
    "completion = scorecard['C150_4'].combine_first(scorecard['C150_L4']).to_frame('Overall')\n",
    "completion.head()"
   ]
  },
  {
   "cell_type": "markdown",
   "metadata": {},
   "source": [
    "Now we'll combine the per-race completion rates while we are at it:"
   ]
  },
  {
   "cell_type": "code",
   "execution_count": 11,
   "metadata": {},
   "outputs": [],
   "source": [
    "completion['White'] = scorecard['C150_4_WHITE'].combine_first(scorecard['C150_L4_WHITE'])\n",
    "completion['Black'] = scorecard['C150_4_BLACK'].combine_first(scorecard['C150_L4_BLACK'])\n",
    "completion['Asian'] = scorecard['C150_4_ASIAN'].combine_first(scorecard['C150_L4_ASIAN'])\n",
    "completion['AIAN'] = scorecard['C150_4_AIAN'].combine_first(scorecard['C150_L4_AIAN'])\n",
    "completion['NHPI'] = scorecard['C150_4_NHPI'].combine_first(scorecard['C150_L4_NHPI'])\n",
    "completion['Multi'] = scorecard['C150_4_2MOR'].combine_first(scorecard['C150_L4_2MOR'])\n",
    "completion['NRA'] = scorecard['C150_4_NRA'].combine_first(scorecard['C150_L4_NRA'])\n",
    "completion['Unknown'] = scorecard['C150_4_UNKN'].combine_first(scorecard['C150_L4_UNKN'])"
   ]
  },
  {
   "cell_type": "markdown",
   "metadata": {},
   "source": [
    "Now we will describe the distribution of *overall* completion rate:"
   ]
  },
  {
   "cell_type": "code",
   "execution_count": 12,
   "metadata": {
    "scrolled": false
   },
   "outputs": [
    {
     "data": {
      "text/plain": [
       "count    5499.000000\n",
       "mean        0.553665\n",
       "std         0.236376\n",
       "min         0.000000\n",
       "25%         0.363800\n",
       "50%         0.568100\n",
       "75%         0.735800\n",
       "max         1.000000\n",
       "Name: Overall, dtype: float64"
      ]
     },
     "execution_count": 12,
     "metadata": {},
     "output_type": "execute_result"
    }
   ],
   "source": [
    "completion['Overall'].describe()"
   ]
  },
  {
   "cell_type": "code",
   "execution_count": 13,
   "metadata": {
    "scrolled": false
   },
   "outputs": [
    {
     "name": "stderr",
     "output_type": "stream",
     "text": [
      "/home/MICHAELEKSTRAND/anaconda3/lib/python3.7/site-packages/seaborn/distributions.py:2619: FutureWarning: `distplot` is a deprecated function and will be removed in a future version. Please adapt your code to use either `displot` (a figure-level function with similar flexibility) or `histplot` (an axes-level function for histograms).\n",
      "  warnings.warn(msg, FutureWarning)\n"
     ]
    },
    {
     "data": {
      "text/plain": [
       "<AxesSubplot:xlabel='Overall'>"
      ]
     },
     "execution_count": 13,
     "metadata": {},
     "output_type": "execute_result"
    },
    {
     "data": {
      "image/png": "[encoded data removed]",
      "text/plain": [
       "<Figure size 432x288 with 1 Axes>"
      ]
     },
     "metadata": {
      "needs_background": "light"
     },
     "output_type": "display_data"
    }
   ],
   "source": [
    "sns.distplot(completion['Overall'], kde=False)"
   ]
  },
  {
   "cell_type": "markdown",
   "metadata": {},
   "source": [
    "The mean completion rate is 54.7%, and it has a slight left skew. Median is 56.8%."
   ]
  },
  {
   "cell_type": "markdown",
   "metadata": {},
   "source": [
    "## Admission Rate\n",
    "\n",
    "Now we will look at the admission rate and its distribution.\n",
    "\n",
    "There are two admission rates: `ADM_RATE` is a school's admission rate, and `ADM_RATE_ALL` is the overall rate for a *system* (a school and its branches). Since educational outcomes likely vary between schools, we will use `ADM_RATE`.\n",
    "\n",
    "Numeric distribution info:"
   ]
  },
  {
   "cell_type": "code",
   "execution_count": 14,
   "metadata": {},
   "outputs": [
    {
     "data": {
      "text/plain": [
       "count    1988.000000\n",
       "mean        0.689655\n",
       "std         0.220990\n",
       "min         0.000000\n",
       "25%         0.562725\n",
       "50%         0.726700\n",
       "75%         0.852550\n",
       "max         1.000000\n",
       "Name: ADM_RATE, dtype: float64"
      ]
     },
     "execution_count": 14,
     "metadata": {},
     "output_type": "execute_result"
    }
   ],
   "source": [
    "scorecard['ADM_RATE'].describe()"
   ]
  },
  {
   "cell_type": "markdown",
   "metadata": {},
   "source": [
    "And visualize it:"
   ]
  },
  {
   "cell_type": "code",
   "execution_count": 15,
   "metadata": {},
   "outputs": [
    {
     "data": {
      "text/plain": [
       "<AxesSubplot:xlabel='ADM_RATE', ylabel='Density'>"
      ]
     },
     "execution_count": 15,
     "metadata": {},
     "output_type": "execute_result"
    },
    {
     "data": {
      "image/png": "[encoded data removed]",
      "text/plain": [
       "<Figure size 432x288 with 1 Axes>"
      ]
     },
     "metadata": {
      "needs_background": "light"
     },
     "output_type": "display_data"
    }
   ],
   "source": [
    "sns.distplot(scorecard['ADM_RATE'])"
   ]
  },
  {
   "cell_type": "markdown",
   "metadata": {},
   "source": [
    "Holy left skew, Batman. A lot of schools are accepting 70% or more of their applicants.\n",
    "\n",
    "Now we need to compute the school's *admissions posture*.  This is:\n",
    "\n",
    "- open\n",
    "- low\n",
    "- high\n",
    "\n",
    "We'll start by initializing a series to 'unknown', and build up to the others."
   ]
  },
  {
   "cell_type": "code",
   "execution_count": 16,
   "metadata": {
    "scrolled": true
   },
   "outputs": [
    {
     "data": {
      "text/plain": [
       "UNITID\n",
       "100654      2.0\n",
       "100663      2.0\n",
       "100690      1.0\n",
       "100706      2.0\n",
       "100724      2.0\n",
       "           ... \n",
       "48511113    NaN\n",
       "48616901    NaN\n",
       "49005401    NaN\n",
       "49146401    NaN\n",
       "49175601    NaN\n",
       "Name: OPENADMP, Length: 6694, dtype: float64"
      ]
     },
     "execution_count": 16,
     "metadata": {},
     "output_type": "execute_result"
    }
   ],
   "source": [
    "scorecard['OPENADMP']"
   ]
  },
  {
   "cell_type": "code",
   "execution_count": 17,
   "metadata": {},
   "outputs": [],
   "source": [
    "adm_med = scorecard['ADM_RATE'].median()\n",
    "adm_rate = pd.Series('unknown', index=scorecard.index, name='AdmissionPolicy')\n",
    "# open-admit schools\n",
    "adm_rate[scorecard['OPENADMP'] == 1] = 'open'\n",
    "# set all non-open to low\n",
    "adm_rate[scorecard['OPENADMP'] == 2] = 'low'\n",
    "# override selective schools\n",
    "adm_rate[scorecard['ADM_RATE'] < adm_med] = 'high'"
   ]
  },
  {
   "cell_type": "markdown",
   "metadata": {},
   "source": [
    "What does this distribution look like?"
   ]
  },
  {
   "cell_type": "code",
   "execution_count": 18,
   "metadata": {},
   "outputs": [
    {
     "data": {
      "text/plain": [
       "<AxesSubplot:xlabel='AdmissionPolicy', ylabel='count'>"
      ]
     },
     "execution_count": 18,
     "metadata": {},
     "output_type": "execute_result"
    },
    {
     "data": {
      "image/png": "[encoded data removed]",
      "text/plain": [
       "<Figure size 432x288 with 1 Axes>"
      ]
     },
     "metadata": {
      "needs_background": "light"
     },
     "output_type": "display_data"
    }
   ],
   "source": [
    "sns.countplot(x=adm_rate, color='midnightblue')"
   ]
  },
  {
   "cell_type": "markdown",
   "metadata": {},
   "source": [
    "The bulk of schools are open-admission. Because we split on median, we have equal numbers of low- and high-admission schools."
   ]
  },
  {
   "cell_type": "markdown",
   "metadata": {},
   "source": [
    "## Breakdowns\n",
    "\n",
    "Now we get to the heart of the assignment: Part 4, breaking down completion rate by different characteristics."
   ]
  },
  {
   "cell_type": "markdown",
   "metadata": {},
   "source": [
    "### Race\n",
    "\n",
    "First, we're going to look at completion rate by race.\n",
    "\n",
    "This is already disaggregated, and we've set it up nicely:"
   ]
  },
  {
   "cell_type": "code",
   "execution_count": 19,
   "metadata": {},
   "outputs": [
    {
     "data": {
      "text/html": [
       "<div>\n",
       "<style scoped>\n",
       "    .dataframe tbody tr th:only-of-type {\n",
       "        vertical-align: middle;\n",
       "    }\n",
       "\n",
       "    .dataframe tbody tr th {\n",
       "        vertical-align: top;\n",
       "    }\n",
       "\n",
       "    .dataframe thead th {\n",
       "        text-align: right;\n",
       "    }\n",
       "</style>\n",
       "<table border=\"1\" class=\"dataframe\">\n",
       "  <thead>\n",
       "    <tr style=\"text-align: right;\">\n",
       "      <th></th>\n",
       "      <th>Overall</th>\n",
       "      <th>White</th>\n",
       "      <th>Black</th>\n",
       "      <th>Asian</th>\n",
       "      <th>AIAN</th>\n",
       "      <th>NHPI</th>\n",
       "      <th>Multi</th>\n",
       "      <th>NRA</th>\n",
       "      <th>Unknown</th>\n",
       "    </tr>\n",
       "    <tr>\n",
       "      <th>UNITID</th>\n",
       "      <th></th>\n",
       "      <th></th>\n",
       "      <th></th>\n",
       "      <th></th>\n",
       "      <th></th>\n",
       "      <th></th>\n",
       "      <th></th>\n",
       "      <th></th>\n",
       "      <th></th>\n",
       "    </tr>\n",
       "  </thead>\n",
       "  <tbody>\n",
       "    <tr>\n",
       "      <th>100654</th>\n",
       "      <td>0.2974</td>\n",
       "      <td>0.3333</td>\n",
       "      <td>0.3010</td>\n",
       "      <td>1.0000</td>\n",
       "      <td>1.0</td>\n",
       "      <td>0.5</td>\n",
       "      <td>0.0000</td>\n",
       "      <td>0.1053</td>\n",
       "      <td>1.0000</td>\n",
       "    </tr>\n",
       "    <tr>\n",
       "      <th>100663</th>\n",
       "      <td>0.6340</td>\n",
       "      <td>0.6320</td>\n",
       "      <td>0.5573</td>\n",
       "      <td>0.8451</td>\n",
       "      <td>0.0</td>\n",
       "      <td>NaN</td>\n",
       "      <td>0.5867</td>\n",
       "      <td>0.8333</td>\n",
       "      <td>0.7500</td>\n",
       "    </tr>\n",
       "    <tr>\n",
       "      <th>100690</th>\n",
       "      <td>0.3333</td>\n",
       "      <td>0.5000</td>\n",
       "      <td>0.0000</td>\n",
       "      <td>NaN</td>\n",
       "      <td>NaN</td>\n",
       "      <td>NaN</td>\n",
       "      <td>NaN</td>\n",
       "      <td>NaN</td>\n",
       "      <td>NaN</td>\n",
       "    </tr>\n",
       "    <tr>\n",
       "      <th>100706</th>\n",
       "      <td>0.5768</td>\n",
       "      <td>0.6051</td>\n",
       "      <td>0.4286</td>\n",
       "      <td>0.6522</td>\n",
       "      <td>0.5</td>\n",
       "      <td>NaN</td>\n",
       "      <td>0.3077</td>\n",
       "      <td>0.6000</td>\n",
       "      <td>0.8182</td>\n",
       "    </tr>\n",
       "    <tr>\n",
       "      <th>100724</th>\n",
       "      <td>0.3276</td>\n",
       "      <td>0.4706</td>\n",
       "      <td>0.3080</td>\n",
       "      <td>0.2500</td>\n",
       "      <td>0.5</td>\n",
       "      <td>0.0</td>\n",
       "      <td>0.4091</td>\n",
       "      <td>0.6324</td>\n",
       "      <td>0.2500</td>\n",
       "    </tr>\n",
       "  </tbody>\n",
       "</table>\n",
       "</div>"
      ],
      "text/plain": [
       "        Overall   White   Black   Asian  AIAN  NHPI   Multi     NRA  Unknown\n",
       "UNITID                                                                      \n",
       "100654   0.2974  0.3333  0.3010  1.0000   1.0   0.5  0.0000  0.1053   1.0000\n",
       "100663   0.6340  0.6320  0.5573  0.8451   0.0   NaN  0.5867  0.8333   0.7500\n",
       "100690   0.3333  0.5000  0.0000     NaN   NaN   NaN     NaN     NaN      NaN\n",
       "100706   0.5768  0.6051  0.4286  0.6522   0.5   NaN  0.3077  0.6000   0.8182\n",
       "100724   0.3276  0.4706  0.3080  0.2500   0.5   0.0  0.4091  0.6324   0.2500"
      ]
     },
     "execution_count": 19,
     "metadata": {},
     "output_type": "execute_result"
    }
   ],
   "source": [
    "completion.head()"
   ]
  },
  {
   "cell_type": "markdown",
   "metadata": {},
   "source": [
    "We can melt the `completion` frame (except for `Overall`), and plot:"
   ]
  },
  {
   "cell_type": "code",
   "execution_count": 20,
   "metadata": {},
   "outputs": [
    {
     "data": {
      "text/html": [
       "<div>\n",
       "<style scoped>\n",
       "    .dataframe tbody tr th:only-of-type {\n",
       "        vertical-align: middle;\n",
       "    }\n",
       "\n",
       "    .dataframe tbody tr th {\n",
       "        vertical-align: top;\n",
       "    }\n",
       "\n",
       "    .dataframe thead th {\n",
       "        text-align: right;\n",
       "    }\n",
       "</style>\n",
       "<table border=\"1\" class=\"dataframe\">\n",
       "  <thead>\n",
       "    <tr style=\"text-align: right;\">\n",
       "      <th></th>\n",
       "      <th>UNITID</th>\n",
       "      <th>White</th>\n",
       "      <th>Black</th>\n",
       "      <th>Asian</th>\n",
       "      <th>AIAN</th>\n",
       "      <th>NHPI</th>\n",
       "      <th>Multi</th>\n",
       "      <th>NRA</th>\n",
       "      <th>Unknown</th>\n",
       "    </tr>\n",
       "  </thead>\n",
       "  <tbody>\n",
       "    <tr>\n",
       "      <th>0</th>\n",
       "      <td>100654</td>\n",
       "      <td>0.3333</td>\n",
       "      <td>0.3010</td>\n",
       "      <td>1.0000</td>\n",
       "      <td>1.0</td>\n",
       "      <td>0.5</td>\n",
       "      <td>0.0000</td>\n",
       "      <td>0.1053</td>\n",
       "      <td>1.0000</td>\n",
       "    </tr>\n",
       "    <tr>\n",
       "      <th>1</th>\n",
       "      <td>100663</td>\n",
       "      <td>0.6320</td>\n",
       "      <td>0.5573</td>\n",
       "      <td>0.8451</td>\n",
       "      <td>0.0</td>\n",
       "      <td>NaN</td>\n",
       "      <td>0.5867</td>\n",
       "      <td>0.8333</td>\n",
       "      <td>0.7500</td>\n",
       "    </tr>\n",
       "    <tr>\n",
       "      <th>2</th>\n",
       "      <td>100690</td>\n",
       "      <td>0.5000</td>\n",
       "      <td>0.0000</td>\n",
       "      <td>NaN</td>\n",
       "      <td>NaN</td>\n",
       "      <td>NaN</td>\n",
       "      <td>NaN</td>\n",
       "      <td>NaN</td>\n",
       "      <td>NaN</td>\n",
       "    </tr>\n",
       "    <tr>\n",
       "      <th>3</th>\n",
       "      <td>100706</td>\n",
       "      <td>0.6051</td>\n",
       "      <td>0.4286</td>\n",
       "      <td>0.6522</td>\n",
       "      <td>0.5</td>\n",
       "      <td>NaN</td>\n",
       "      <td>0.3077</td>\n",
       "      <td>0.6000</td>\n",
       "      <td>0.8182</td>\n",
       "    </tr>\n",
       "    <tr>\n",
       "      <th>4</th>\n",
       "      <td>100724</td>\n",
       "      <td>0.4706</td>\n",
       "      <td>0.3080</td>\n",
       "      <td>0.2500</td>\n",
       "      <td>0.5</td>\n",
       "      <td>0.0</td>\n",
       "      <td>0.4091</td>\n",
       "      <td>0.6324</td>\n",
       "      <td>0.2500</td>\n",
       "    </tr>\n",
       "  </tbody>\n",
       "</table>\n",
       "</div>"
      ],
      "text/plain": [
       "   UNITID   White   Black   Asian  AIAN  NHPI   Multi     NRA  Unknown\n",
       "0  100654  0.3333  0.3010  1.0000   1.0   0.5  0.0000  0.1053   1.0000\n",
       "1  100663  0.6320  0.5573  0.8451   0.0   NaN  0.5867  0.8333   0.7500\n",
       "2  100690  0.5000  0.0000     NaN   NaN   NaN     NaN     NaN      NaN\n",
       "3  100706  0.6051  0.4286  0.6522   0.5   NaN  0.3077  0.6000   0.8182\n",
       "4  100724  0.4706  0.3080  0.2500   0.5   0.0  0.4091  0.6324   0.2500"
      ]
     },
     "execution_count": 20,
     "metadata": {},
     "output_type": "execute_result"
    }
   ],
   "source": [
    "race_completion = completion.drop(columns=['Overall']).reset_index()\n",
    "race_completion.head()"
   ]
  },
  {
   "cell_type": "code",
   "execution_count": 21,
   "metadata": {},
   "outputs": [
    {
     "data": {
      "text/html": [
       "<div>\n",
       "<style scoped>\n",
       "    .dataframe tbody tr th:only-of-type {\n",
       "        vertical-align: middle;\n",
       "    }\n",
       "\n",
       "    .dataframe tbody tr th {\n",
       "        vertical-align: top;\n",
       "    }\n",
       "\n",
       "    .dataframe thead th {\n",
       "        text-align: right;\n",
       "    }\n",
       "</style>\n",
       "<table border=\"1\" class=\"dataframe\">\n",
       "  <thead>\n",
       "    <tr style=\"text-align: right;\">\n",
       "      <th></th>\n",
       "      <th>UNITID</th>\n",
       "      <th>Race</th>\n",
       "      <th>ComplRate</th>\n",
       "    </tr>\n",
       "  </thead>\n",
       "  <tbody>\n",
       "    <tr>\n",
       "      <th>0</th>\n",
       "      <td>100654</td>\n",
       "      <td>White</td>\n",
       "      <td>0.3333</td>\n",
       "    </tr>\n",
       "    <tr>\n",
       "      <th>13388</th>\n",
       "      <td>100654</td>\n",
       "      <td>Asian</td>\n",
       "      <td>1.0000</td>\n",
       "    </tr>\n",
       "    <tr>\n",
       "      <th>26776</th>\n",
       "      <td>100654</td>\n",
       "      <td>NHPI</td>\n",
       "      <td>0.5000</td>\n",
       "    </tr>\n",
       "    <tr>\n",
       "      <th>33470</th>\n",
       "      <td>100654</td>\n",
       "      <td>Multi</td>\n",
       "      <td>0.0000</td>\n",
       "    </tr>\n",
       "    <tr>\n",
       "      <th>6694</th>\n",
       "      <td>100654</td>\n",
       "      <td>Black</td>\n",
       "      <td>0.3010</td>\n",
       "    </tr>\n",
       "  </tbody>\n",
       "</table>\n",
       "</div>"
      ],
      "text/plain": [
       "       UNITID   Race  ComplRate\n",
       "0      100654  White     0.3333\n",
       "13388  100654  Asian     1.0000\n",
       "26776  100654   NHPI     0.5000\n",
       "33470  100654  Multi     0.0000\n",
       "6694   100654  Black     0.3010"
      ]
     },
     "execution_count": 21,
     "metadata": {},
     "output_type": "execute_result"
    }
   ],
   "source": [
    "compl_tall = race_completion.melt(id_vars=['UNITID'], var_name='Race', value_name='ComplRate')\n",
    "compl_tall.sort_values('UNITID').head()"
   ]
  },
  {
   "cell_type": "code",
   "execution_count": 22,
   "metadata": {},
   "outputs": [
    {
     "name": "stdout",
     "output_type": "stream",
     "text": [
      "<class 'pandas.core.frame.DataFrame'>\n",
      "RangeIndex: 53552 entries, 0 to 53551\n",
      "Data columns (total 3 columns):\n",
      " #   Column     Non-Null Count  Dtype  \n",
      "---  ------     --------------  -----  \n",
      " 0   UNITID     53552 non-null  int64  \n",
      " 1   Race       53552 non-null  object \n",
      " 2   ComplRate  21536 non-null  float64\n",
      "dtypes: float64(1), int64(1), object(1)\n",
      "memory usage: 1.2+ MB\n"
     ]
    }
   ],
   "source": [
    "compl_tall.info()"
   ]
  },
  {
   "cell_type": "markdown",
   "metadata": {},
   "source": [
    "And then we can use a box plot (setting color to 'white' to turn off Seaborn's annoying auto-coloration):"
   ]
  },
  {
   "cell_type": "code",
   "execution_count": 23,
   "metadata": {},
   "outputs": [
    {
     "data": {
      "image/png": "[encoded data removed]",
      "text/plain": [
       "<Figure size 432x288 with 1 Axes>"
      ]
     },
     "metadata": {
      "needs_background": "light"
     },
     "output_type": "display_data"
    }
   ],
   "source": [
    "sns.boxplot(x='Race', y='ComplRate', data=compl_tall, color='white', showmeans=True)\n",
    "plt.ylabel('Completion Rate')\n",
    "plt.show()"
   ]
  },
  {
   "cell_type": "markdown",
   "metadata": {},
   "source": [
    "It looks like White, Asian, and non-resident alien students have the highest median completion rates. Completion is lower for other racial groups, including 2-or-more races."
   ]
  },
  {
   "cell_type": "markdown",
   "metadata": {},
   "source": [
    "### Selectivity\n",
    "\n",
    "Now let's look at completion rate by the selectivity statistic we computed.\n",
    "\n",
    "`join` lets us add a series (with a name) to a frame - the name comes from where we created the series above:"
   ]
  },
  {
   "cell_type": "code",
   "execution_count": 24,
   "metadata": {},
   "outputs": [
    {
     "data": {
      "text/html": [
       "<div>\n",
       "<style scoped>\n",
       "    .dataframe tbody tr th:only-of-type {\n",
       "        vertical-align: middle;\n",
       "    }\n",
       "\n",
       "    .dataframe tbody tr th {\n",
       "        vertical-align: top;\n",
       "    }\n",
       "\n",
       "    .dataframe thead th {\n",
       "        text-align: right;\n",
       "    }\n",
       "</style>\n",
       "<table border=\"1\" class=\"dataframe\">\n",
       "  <thead>\n",
       "    <tr style=\"text-align: right;\">\n",
       "      <th></th>\n",
       "      <th>Overall</th>\n",
       "      <th>White</th>\n",
       "      <th>Black</th>\n",
       "      <th>Asian</th>\n",
       "      <th>AIAN</th>\n",
       "      <th>NHPI</th>\n",
       "      <th>Multi</th>\n",
       "      <th>NRA</th>\n",
       "      <th>Unknown</th>\n",
       "      <th>AdmissionPolicy</th>\n",
       "    </tr>\n",
       "    <tr>\n",
       "      <th>UNITID</th>\n",
       "      <th></th>\n",
       "      <th></th>\n",
       "      <th></th>\n",
       "      <th></th>\n",
       "      <th></th>\n",
       "      <th></th>\n",
       "      <th></th>\n",
       "      <th></th>\n",
       "      <th></th>\n",
       "      <th></th>\n",
       "    </tr>\n",
       "  </thead>\n",
       "  <tbody>\n",
       "    <tr>\n",
       "      <th>100654</th>\n",
       "      <td>0.2974</td>\n",
       "      <td>0.3333</td>\n",
       "      <td>0.3010</td>\n",
       "      <td>1.0000</td>\n",
       "      <td>1.0</td>\n",
       "      <td>0.5</td>\n",
       "      <td>0.0000</td>\n",
       "      <td>0.1053</td>\n",
       "      <td>1.0000</td>\n",
       "      <td>low</td>\n",
       "    </tr>\n",
       "    <tr>\n",
       "      <th>100663</th>\n",
       "      <td>0.6340</td>\n",
       "      <td>0.6320</td>\n",
       "      <td>0.5573</td>\n",
       "      <td>0.8451</td>\n",
       "      <td>0.0</td>\n",
       "      <td>NaN</td>\n",
       "      <td>0.5867</td>\n",
       "      <td>0.8333</td>\n",
       "      <td>0.7500</td>\n",
       "      <td>low</td>\n",
       "    </tr>\n",
       "    <tr>\n",
       "      <th>100690</th>\n",
       "      <td>0.3333</td>\n",
       "      <td>0.5000</td>\n",
       "      <td>0.0000</td>\n",
       "      <td>NaN</td>\n",
       "      <td>NaN</td>\n",
       "      <td>NaN</td>\n",
       "      <td>NaN</td>\n",
       "      <td>NaN</td>\n",
       "      <td>NaN</td>\n",
       "      <td>open</td>\n",
       "    </tr>\n",
       "    <tr>\n",
       "      <th>100706</th>\n",
       "      <td>0.5768</td>\n",
       "      <td>0.6051</td>\n",
       "      <td>0.4286</td>\n",
       "      <td>0.6522</td>\n",
       "      <td>0.5</td>\n",
       "      <td>NaN</td>\n",
       "      <td>0.3077</td>\n",
       "      <td>0.6000</td>\n",
       "      <td>0.8182</td>\n",
       "      <td>low</td>\n",
       "    </tr>\n",
       "    <tr>\n",
       "      <th>100724</th>\n",
       "      <td>0.3276</td>\n",
       "      <td>0.4706</td>\n",
       "      <td>0.3080</td>\n",
       "      <td>0.2500</td>\n",
       "      <td>0.5</td>\n",
       "      <td>0.0</td>\n",
       "      <td>0.4091</td>\n",
       "      <td>0.6324</td>\n",
       "      <td>0.2500</td>\n",
       "      <td>low</td>\n",
       "    </tr>\n",
       "  </tbody>\n",
       "</table>\n",
       "</div>"
      ],
      "text/plain": [
       "        Overall   White   Black   Asian  AIAN  NHPI   Multi     NRA  Unknown  \\\n",
       "UNITID                                                                         \n",
       "100654   0.2974  0.3333  0.3010  1.0000   1.0   0.5  0.0000  0.1053   1.0000   \n",
       "100663   0.6340  0.6320  0.5573  0.8451   0.0   NaN  0.5867  0.8333   0.7500   \n",
       "100690   0.3333  0.5000  0.0000     NaN   NaN   NaN     NaN     NaN      NaN   \n",
       "100706   0.5768  0.6051  0.4286  0.6522   0.5   NaN  0.3077  0.6000   0.8182   \n",
       "100724   0.3276  0.4706  0.3080  0.2500   0.5   0.0  0.4091  0.6324   0.2500   \n",
       "\n",
       "       AdmissionPolicy  \n",
       "UNITID                  \n",
       "100654             low  \n",
       "100663             low  \n",
       "100690            open  \n",
       "100706             low  \n",
       "100724             low  "
      ]
     },
     "execution_count": 24,
     "metadata": {},
     "output_type": "execute_result"
    }
   ],
   "source": [
    "adm_compl = completion.join(adm_rate)\n",
    "adm_compl.head()"
   ]
  },
  {
   "cell_type": "markdown",
   "metadata": {},
   "source": [
    "Now let's look at completion rate by admission policy:"
   ]
  },
  {
   "cell_type": "code",
   "execution_count": 25,
   "metadata": {},
   "outputs": [
    {
     "data": {
      "image/png": "[encoded data removed]",
      "text/plain": [
       "<Figure size 432x288 with 1 Axes>"
      ]
     },
     "metadata": {
      "needs_background": "light"
     },
     "output_type": "display_data"
    }
   ],
   "source": [
    "sns.boxplot(x='AdmissionPolicy', y='Overall', data=adm_compl, color='white', showmeans=True)\n",
    "plt.xlabel('Admission Policy')\n",
    "plt.ylabel('Completion Rate')\n",
    "plt.show()"
   ]
  },
  {
   "cell_type": "markdown",
   "metadata": {},
   "source": [
    "High-selective schools have *slightly* higher completion rates."
   ]
  },
  {
   "cell_type": "markdown",
   "metadata": {},
   "source": [
    "### Public/Private Status (Control)\n",
    "\n",
    "The public/private status variable (`CONTROL`) lets us see what kind of school this is in terms of its ownership structure.  We'll use the same strategy to encode it:"
   ]
  },
  {
   "cell_type": "code",
   "execution_count": 26,
   "metadata": {},
   "outputs": [
    {
     "data": {
      "text/plain": [
       "UNITID\n",
       "100654          Public\n",
       "100663          Public\n",
       "100690      Non-profit\n",
       "100706          Public\n",
       "100724          Public\n",
       "               ...    \n",
       "48511113        Public\n",
       "48616901    For-profit\n",
       "49005401    For-profit\n",
       "49146401        Public\n",
       "49175601    For-profit\n",
       "Name: Control, Length: 6694, dtype: category\n",
       "Categories (3, object): ['Public', 'Non-profit', 'For-profit']"
      ]
     },
     "execution_count": 26,
     "metadata": {},
     "output_type": "execute_result"
    }
   ],
   "source": [
    "control = scorecard['CONTROL']\n",
    "control = control - 1  # make it 0-based\n",
    "control = control.fillna(-1).astype('int')  # set up for Pandas\n",
    "control = pd.Categorical.from_codes(control, [\n",
    "    'Public',\n",
    "    'Non-profit',\n",
    "    'For-profit'\n",
    "])\n",
    "control = pd.Series(control, index=scorecard.index, name='Control')\n",
    "control"
   ]
  },
  {
   "cell_type": "markdown",
   "metadata": {},
   "source": [
    "And let's look at the completion rate:"
   ]
  },
  {
   "cell_type": "code",
   "execution_count": 27,
   "metadata": {},
   "outputs": [
    {
     "data": {
      "image/png": "[encoded data removed]",
      "text/plain": [
       "<Figure size 432x288 with 1 Axes>"
      ]
     },
     "metadata": {
      "needs_background": "light"
     },
     "output_type": "display_data"
    }
   ],
   "source": [
    "control_comp = completion.join(control)\n",
    "sns.boxplot(x='Control', y='Overall', data=control_comp, color='white')\n",
    "plt.ylabel('Completion Rate')\n",
    "plt.show()"
   ]
  },
  {
   "cell_type": "markdown",
   "metadata": {},
   "source": [
    "For-profit has the highest completion rate, followed by non-profit and finally public schools."
   ]
  },
  {
   "cell_type": "markdown",
   "metadata": {},
   "source": [
    "### Carnegie Classification\n",
    "\n",
    "We are now going to look at Carnegie classification, my chosen characteristic.  There are three we can choose from:\n",
    "\n",
    "1. Basic classification\n",
    "2. Undergraduate profile\n",
    "3. Size and Setting\n",
    "\n",
    "I am going to look at Undergraduate Profile, because we are focusing primarily on undergraduate outcomes.  All three are interesting.\n",
    "\n",
    "The codes are numeric. The data dictionary contains the definitions of them. There are a few ways we could handle this; I am going to use the Pandas [`from_codes`](https://pandas.pydata.org/pandas-docs/stable/reference/api/pandas.Categorical.from_codes.html#pandas.Categorical.from_codes) methods because, with the exception of Not Applicable, the codes are contiguous starting from zero:"
   ]
  },
  {
   "cell_type": "code",
   "execution_count": 28,
   "metadata": {},
   "outputs": [
    {
     "data": {
      "text/plain": [
       "UNITID\n",
       "100654      Four-year, full-time, inclusive, lower transfe...\n",
       "100663      Four-year, medium full-time , selective, highe...\n",
       "100690                            Four-year, higher part-time\n",
       "100706      Four-year, full-time, more selective, higher t...\n",
       "100724      Four-year, full-time, inclusive, lower transfe...\n",
       "                                  ...                        \n",
       "48511113                                                  NaN\n",
       "48616901                                                  NaN\n",
       "49005401                                                  NaN\n",
       "49146401                                                  NaN\n",
       "49175601                                                  NaN\n",
       "Name: CCUgrad, Length: 6694, dtype: category\n",
       "Categories (16, object): ['Not classified (Exclusively Graduate)' < 'Two-year, higher part-time' < 'Two-year, mixed part/full-time' < 'Two-year, medium full-time' ... 'Four-year, full-time, selective, lower transf... < 'Four-year, full-time, selective, higher trans... < 'Four-year, full-time, more selective, lower t... < 'Four-year, full-time, more selective, higher ...]"
      ]
     },
     "execution_count": 28,
     "metadata": {},
     "output_type": "execute_result"
    }
   ],
   "source": [
    "c_class = scorecard['CCUGPROF'].fillna(-1).astype('int32')\n",
    "c_class[c_class == -2] = -1\n",
    "c_class = pd.Categorical.from_codes(c_class, [\n",
    "    'Not classified (Exclusively Graduate)',\n",
    "    'Two-year, higher part-time',\n",
    "    'Two-year, mixed part/full-time',\n",
    "    'Two-year, medium full-time',\n",
    "    'Two-year, higher full-time',\n",
    "    'Four-year, higher part-time',\n",
    "    'Four-year, medium full-time, inclusive, lower transfer-in',\n",
    "    'Four-year, medium full-time, inclusive, higher transfer-in',\n",
    "    'Four-year, medium full-time, selective, lower transfer-in',\n",
    "    'Four-year, medium full-time , selective, higher transfer-in',\n",
    "    'Four-year, full-time, inclusive, lower transfer-in',\n",
    "    'Four-year, full-time, inclusive, higher transfer-in',\n",
    "    'Four-year, full-time, selective, lower transfer-in',\n",
    "    'Four-year, full-time, selective, higher transfer-in',\n",
    "    'Four-year, full-time, more selective, lower transfer-in',\n",
    "    'Four-year, full-time, more selective, higher transfer-in'\n",
    "], ordered=True)\n",
    "# convert back to a series\n",
    "c_class = pd.Series(c_class, index=scorecard.index, name='CCUgrad')\n",
    "c_class"
   ]
  },
  {
   "cell_type": "markdown",
   "metadata": {},
   "source": [
    "Now we can merge and plot, with horizontal bars to make it readable:"
   ]
  },
  {
   "cell_type": "code",
   "execution_count": 29,
   "metadata": {},
   "outputs": [
    {
     "data": {
      "image/png": "[encoded data removed]",
      "text/plain": [
       "<Figure size 432x288 with 1 Axes>"
      ]
     },
     "metadata": {
      "needs_background": "light"
     },
     "output_type": "display_data"
    }
   ],
   "source": [
    "cls_comp = completion.join(c_class)\n",
    "sns.boxplot(x='Overall', y='CCUgrad', data=cls_comp, color='white')\n",
    "plt.ylabel('Completion Rate')\n",
    "plt.show()"
   ]
  },
  {
   "cell_type": "markdown",
   "metadata": {},
   "source": [
    "Not *super* readable, but not bad. More Selective with low transfer-in has the highest median completion rate."
   ]
  },
  {
   "cell_type": "markdown",
   "metadata": {},
   "source": [
    "## Conclusion\n",
    "\n",
    "I'm also not going to answer 5 or 6 in this document - those are for you.\n",
    "\n",
    "I've used one or two small tricks in here that I ahven't shown you elsewhere, but they aren't necessary for correctness or even simplicity - they are just the way I approach these problems."
   ]
  },
  {
   "cell_type": "code",
   "execution_count": null,
   "metadata": {},
   "outputs": [],
   "source": []
  }
 ],
 "metadata": {
  "kernelspec": {
   "display_name": "Python 3",
   "language": "python",
   "name": "python3"
  },
  "language_info": {
   "codemirror_mode": {
    "name": "ipython",
    "version": 3
   },
   "file_extension": ".py",
   "mimetype": "text/x-python",
   "name": "python",
   "nbconvert_exporter": "python",
   "pygments_lexer": "ipython3",
   "version": "3.8.8"
  }
 },
 "nbformat": 4,
 "nbformat_minor": 4
}
