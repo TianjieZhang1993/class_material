{
 "cells": [
  {
   "cell_type": "markdown",
   "metadata": {
    "id": "0nxrObr5C3su"
   },
   "source": [
    "# Question 1\n",
    "\n",
    "(20 points) Design and implement an iterative Power Method approach to\n",
    "determine the first principal component of the PCA transformation."
   ]
  },
  {
   "cell_type": "markdown",
   "metadata": {
    "id": "Eh7wi_GODN6c"
   },
   "source": [
    "# Question 2\n",
    "\n",
    "(20 points) Design and implement an iterative Power Method\n",
    "approach to determine the second principal component of the PCA\n",
    "transformation."
   ]
  },
  {
   "cell_type": "markdown",
   "metadata": {
    "id": "agqZlERPDUyE"
   },
   "source": [
    "# Problem Number 3\n",
    "\n",
    " (10 points) Describe the benefit of a gradient approach w.r.t.\n",
    "the SVD approach for the PCA transformation"
   ]
  },
  {
   "cell_type": "markdown",
   "metadata": {
    "id": "q-_Ep_p4Dw2x"
   },
   "source": [
    "# Question 4\n",
    "\n",
    "(20 points) Using a binary classifier (logistic regression or\n",
    "SVM) please implement in python both of the 2 different approaches\n",
    "(one vs. one, one vs. all) to handle the problem of more\n",
    "than two different classes (use the iris dataset). For\n",
    "reference use the following link\n",
    "https://en.wikipedia.org/wiki/Multiclass_classification\n"
   ]
  },
  {
   "cell_type": "markdown",
   "metadata": {
    "id": "fZe4oSzXFfAh"
   },
   "source": [
    "# Question 5\n",
    "\n",
    "(20 points) Extensively describe the overfitting and\n",
    "underfitting problem. Use execution examples with a decision\n",
    "tree and SVM (with or without kernel). Use the scikit\n",
    "implementations. Show underfitting, good behavior, and overfitting examples."
   ]
  },
  {
   "cell_type": "markdown",
   "metadata": {
    "id": "Wri4R6v6F52n"
   },
   "source": [
    "# Question 6\n",
    "(10 points) Show examples when the use of\n",
    "kernel procedure is more efficient in terms of training and\n",
    "prediction computational time w.r.t. polynomial features\n",
    "transformation"
   ]
  },
  {
   "cell_type": "markdown",
   "metadata": {
    "id": "2OtA1JWGGL9C"
   },
   "source": [
    "# Question 7\n",
    "\n",
    "(10 points) Write a procedure to estimate in the SVC\n",
    "classifier (in Scikit) the best kernel (RBF, Polynomial,\n",
    "sigmoid), the best gamma & degree, and the best C. Use the\n",
    "grid search without implement it. Use the following\n",
    "reference:\n",
    "\n",
    "    a. https://scikit-learn.org/stable/modules/generated/sklearn.model_selection.GridSearchCV.html#sklearn.model_selection.GridSearchCV\n",
    "    \n",
    "    b. https://scikit-learn.org/stable/modules/grid_search.html"
   ]
  },
  {
   "cell_type": "markdown",
   "metadata": {
    "id": "WLFt2gbhGXqD"
   },
   "source": [
    " # Question 8\n",
    " (20 points) Create examples to explain the property and the\n",
    "importance of the following kernels:\n",
    "    \n",
    "    a. https://en.wikipedia.org/wiki/Graph_kernel\n",
    "    \n",
    "    b. https://en.wikipedia.org/wiki/String_kernel\n",
    "\n",
    "    c. https://scikit-learn.org/stable/modules/generated/sklearn.metrics.pairwise.sigmoid_kernel.html"
   ]
  }
 ],
 "metadata": {
  "colab": {
   "collapsed_sections": [],
   "name": "MidtermExam.ipynb",
   "provenance": []
  },
  "kernelspec": {
   "display_name": "Python 3 (ipykernel)",
   "language": "python",
   "name": "python3"
  },
  "language_info": {
   "codemirror_mode": {
    "name": "ipython",
    "version": 3
   },
   "file_extension": ".py",
   "mimetype": "text/x-python",
   "name": "python",
   "nbconvert_exporter": "python",
   "pygments_lexer": "ipython3",
   "version": "3.7.7"
  }
 },
 "nbformat": 4,
 "nbformat_minor": 1
}
