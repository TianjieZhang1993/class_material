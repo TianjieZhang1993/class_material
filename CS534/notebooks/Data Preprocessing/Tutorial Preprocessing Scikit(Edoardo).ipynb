{
 "cells": [
  {
   "cell_type": "markdown",
   "metadata": {
    "id": "D-MDTD4tZAzF"
   },
   "source": [
    "\n",
    "From http://scikit-learn.org/stable/modules/preprocessing.html#preprocessing\n",
    "\n",
    "\n",
    "First load Iris Data"
   ]
  },
  {
   "cell_type": "code",
   "execution_count": 40,
   "metadata": {
    "colab": {
     "base_uri": "https://localhost:8080/",
     "height": 173
    },
    "executionInfo": {
     "elapsed": 150,
     "status": "ok",
     "timestamp": 1643226881991,
     "user": {
      "displayName": "Henry Johnson",
      "photoUrl": "https://lh3.googleusercontent.com/a/default-user=s64",
      "userId": "05369281528634778046"
     },
     "user_tz": 420
    },
    "id": "Fb_FlZKnZAzH",
    "outputId": "5cdf17ec-b211-4ccb-df5b-e242ef1a228f"
   },
   "outputs": [
    {
     "data": {
      "text/html": [
       "<div>\n",
       "<style scoped>\n",
       "    .dataframe tbody tr th:only-of-type {\n",
       "        vertical-align: middle;\n",
       "    }\n",
       "\n",
       "    .dataframe tbody tr th {\n",
       "        vertical-align: top;\n",
       "    }\n",
       "\n",
       "    .dataframe thead th {\n",
       "        text-align: right;\n",
       "    }\n",
       "</style>\n",
       "<table border=\"1\" class=\"dataframe\">\n",
       "  <thead>\n",
       "    <tr style=\"text-align: right;\">\n",
       "      <th></th>\n",
       "      <th>sepal length</th>\n",
       "      <th>sepal width</th>\n",
       "      <th>petal length</th>\n",
       "      <th>petal width</th>\n",
       "    </tr>\n",
       "  </thead>\n",
       "  <tbody>\n",
       "    <tr>\n",
       "      <th>0</th>\n",
       "      <td>5.1</td>\n",
       "      <td>3.5</td>\n",
       "      <td>1.4</td>\n",
       "      <td>0.2</td>\n",
       "    </tr>\n",
       "    <tr>\n",
       "      <th>1</th>\n",
       "      <td>4.9</td>\n",
       "      <td>3.0</td>\n",
       "      <td>1.4</td>\n",
       "      <td>0.2</td>\n",
       "    </tr>\n",
       "    <tr>\n",
       "      <th>2</th>\n",
       "      <td>4.7</td>\n",
       "      <td>3.2</td>\n",
       "      <td>1.3</td>\n",
       "      <td>0.2</td>\n",
       "    </tr>\n",
       "    <tr>\n",
       "      <th>3</th>\n",
       "      <td>4.6</td>\n",
       "      <td>3.1</td>\n",
       "      <td>1.5</td>\n",
       "      <td>0.2</td>\n",
       "    </tr>\n",
       "    <tr>\n",
       "      <th>4</th>\n",
       "      <td>5.0</td>\n",
       "      <td>3.6</td>\n",
       "      <td>1.4</td>\n",
       "      <td>0.2</td>\n",
       "    </tr>\n",
       "  </tbody>\n",
       "</table>\n",
       "</div>"
      ],
      "text/plain": [
       "   sepal length  sepal width  petal length  petal width\n",
       "0           5.1          3.5           1.4          0.2\n",
       "1           4.9          3.0           1.4          0.2\n",
       "2           4.7          3.2           1.3          0.2\n",
       "3           4.6          3.1           1.5          0.2\n",
       "4           5.0          3.6           1.4          0.2"
      ]
     },
     "execution_count": 40,
     "metadata": {},
     "output_type": "execute_result"
    }
   ],
   "source": [
    "import pandas as pd\n",
    "data = pd.read_csv('iris.csv',header=0)\n",
    "data.columns = ['sepal length', 'sepal width', 'petal length', 'petal width', 'class']\n",
    "data=data.drop(columns=['class'])\n",
    "\n",
    "data.head()\n",
    "#data.describe(include='all')\n"
   ]
  },
  {
   "cell_type": "markdown",
   "metadata": {
    "id": "of4cKoRsZAzP"
   },
   "source": [
    "Scaling procedure\n",
    "\n",
    "scaling yi=m2+(xi−m1)×s2/s1 {s1 and m2 original one}\n",
    "\n",
    "standard deviation √(\\sum_{i=1}^n(x_i-m)^2/(n-1))"
   ]
  },
  {
   "cell_type": "code",
   "execution_count": 42,
   "metadata": {
    "colab": {
     "base_uri": "https://localhost:8080/",
     "height": 375
    },
    "executionInfo": {
     "elapsed": 156,
     "status": "error",
     "timestamp": 1643226868270,
     "user": {
      "displayName": "Henry Johnson",
      "photoUrl": "https://lh3.googleusercontent.com/a/default-user=s64",
      "userId": "05369281528634778046"
     },
     "user_tz": 420
    },
    "id": "8UeQAPgzZAzR",
    "outputId": "42e48e94-5410-4dca-fde4-c71c5e2ef3e4"
   },
   "outputs": [
    {
     "data": {
      "text/html": [
       "<div>\n",
       "<style scoped>\n",
       "    .dataframe tbody tr th:only-of-type {\n",
       "        vertical-align: middle;\n",
       "    }\n",
       "\n",
       "    .dataframe tbody tr th {\n",
       "        vertical-align: top;\n",
       "    }\n",
       "\n",
       "    .dataframe thead th {\n",
       "        text-align: right;\n",
       "    }\n",
       "</style>\n",
       "<table border=\"1\" class=\"dataframe\">\n",
       "  <thead>\n",
       "    <tr style=\"text-align: right;\">\n",
       "      <th></th>\n",
       "      <th>sepal length</th>\n",
       "      <th>sepal width</th>\n",
       "      <th>petal length</th>\n",
       "      <th>petal width</th>\n",
       "    </tr>\n",
       "  </thead>\n",
       "  <tbody>\n",
       "    <tr>\n",
       "      <th>0</th>\n",
       "      <td>-0.900681</td>\n",
       "      <td>1.032057</td>\n",
       "      <td>-1.341272</td>\n",
       "      <td>-1.312977</td>\n",
       "    </tr>\n",
       "    <tr>\n",
       "      <th>1</th>\n",
       "      <td>-1.143017</td>\n",
       "      <td>-0.124958</td>\n",
       "      <td>-1.341272</td>\n",
       "      <td>-1.312977</td>\n",
       "    </tr>\n",
       "    <tr>\n",
       "      <th>2</th>\n",
       "      <td>-1.385353</td>\n",
       "      <td>0.337848</td>\n",
       "      <td>-1.398138</td>\n",
       "      <td>-1.312977</td>\n",
       "    </tr>\n",
       "    <tr>\n",
       "      <th>3</th>\n",
       "      <td>-1.506521</td>\n",
       "      <td>0.106445</td>\n",
       "      <td>-1.284407</td>\n",
       "      <td>-1.312977</td>\n",
       "    </tr>\n",
       "    <tr>\n",
       "      <th>4</th>\n",
       "      <td>-1.021849</td>\n",
       "      <td>1.263460</td>\n",
       "      <td>-1.341272</td>\n",
       "      <td>-1.312977</td>\n",
       "    </tr>\n",
       "    <tr>\n",
       "      <th>5</th>\n",
       "      <td>-0.537178</td>\n",
       "      <td>1.957669</td>\n",
       "      <td>-1.170675</td>\n",
       "      <td>-1.050031</td>\n",
       "    </tr>\n",
       "    <tr>\n",
       "      <th>6</th>\n",
       "      <td>-1.506521</td>\n",
       "      <td>0.800654</td>\n",
       "      <td>-1.341272</td>\n",
       "      <td>-1.181504</td>\n",
       "    </tr>\n",
       "    <tr>\n",
       "      <th>7</th>\n",
       "      <td>-1.021849</td>\n",
       "      <td>0.800654</td>\n",
       "      <td>-1.284407</td>\n",
       "      <td>-1.312977</td>\n",
       "    </tr>\n",
       "    <tr>\n",
       "      <th>8</th>\n",
       "      <td>-1.748856</td>\n",
       "      <td>-0.356361</td>\n",
       "      <td>-1.341272</td>\n",
       "      <td>-1.312977</td>\n",
       "    </tr>\n",
       "    <tr>\n",
       "      <th>9</th>\n",
       "      <td>-1.143017</td>\n",
       "      <td>0.106445</td>\n",
       "      <td>-1.284407</td>\n",
       "      <td>-1.444450</td>\n",
       "    </tr>\n",
       "  </tbody>\n",
       "</table>\n",
       "</div>"
      ],
      "text/plain": [
       "   sepal length  sepal width  petal length  petal width\n",
       "0     -0.900681     1.032057     -1.341272    -1.312977\n",
       "1     -1.143017    -0.124958     -1.341272    -1.312977\n",
       "2     -1.385353     0.337848     -1.398138    -1.312977\n",
       "3     -1.506521     0.106445     -1.284407    -1.312977\n",
       "4     -1.021849     1.263460     -1.341272    -1.312977\n",
       "5     -0.537178     1.957669     -1.170675    -1.050031\n",
       "6     -1.506521     0.800654     -1.341272    -1.181504\n",
       "7     -1.021849     0.800654     -1.284407    -1.312977\n",
       "8     -1.748856    -0.356361     -1.341272    -1.312977\n",
       "9     -1.143017     0.106445     -1.284407    -1.444450"
      ]
     },
     "execution_count": 42,
     "metadata": {},
     "output_type": "execute_result"
    }
   ],
   "source": [
    "from sklearn import preprocessing\n",
    "data_scaled = preprocessing.scale(data)\n",
    "data_scaled = pd.DataFrame(data_scaled,columns=['sepal length', 'sepal width', 'petal length', 'petal width'])\n",
    "data_scaled.head(10)\n",
    "#data_scaled.describe(include='all')"
   ]
  },
  {
   "cell_type": "markdown",
   "metadata": {
    "id": "64G1Q80VZAzW"
   },
   "source": [
    "Split (Train and Test)"
   ]
  },
  {
   "cell_type": "code",
   "execution_count": 43,
   "metadata": {
    "id": "_W30LBjyZAzY",
    "outputId": "66a63fdf-4ef0-432d-b69e-7ca8fe33c878"
   },
   "outputs": [
    {
     "name": "stdout",
     "output_type": "stream",
     "text": [
      "       sepal length  sepal width  petal length  petal width\n",
      "count    120.000000   120.000000    120.000000   120.000000\n",
      "mean       5.809167     3.057500      3.727500     1.182500\n",
      "std        0.823805     0.446398      1.751252     0.753442\n",
      "min        4.300000     2.000000      1.000000     0.100000\n",
      "25%        5.100000     2.800000      1.500000     0.300000\n",
      "50%        5.750000     3.000000      4.250000     1.300000\n",
      "75%        6.400000     3.325000      5.100000     1.800000\n",
      "max        7.700000     4.400000      6.700000     2.500000\n",
      "\n",
      "       sepal length  sepal width  petal length  petal width\n",
      "count     30.000000    30.000000     30.000000    30.000000\n",
      "mean       5.980000     3.040000      3.883333     1.263333\n",
      "std        0.845026     0.384708      1.841305     0.810910\n",
      "min        4.700000     2.200000      1.300000     0.100000\n",
      "25%        5.425000     2.800000      1.600000     0.325000\n",
      "50%        6.050000     3.000000      4.500000     1.350000\n",
      "75%        6.500000     3.200000      5.175000     2.000000\n",
      "max        7.900000     3.800000      6.900000     2.300000\n"
     ]
    }
   ],
   "source": [
    "from sklearn.model_selection import train_test_split \n",
    "X_train, X_test = train_test_split(data, test_size=0.2, random_state=42)\n",
    "X_train= pd.DataFrame(X_train,columns=['sepal length', 'sepal width', 'petal length', 'petal width'])\n",
    "X_test= pd.DataFrame(X_test,columns=['sepal length', 'sepal width', 'petal length', 'petal width'])\n",
    "print(X_train.describe(include='all'))\n",
    "print('')\n",
    "print(X_test.describe(include='all'))"
   ]
  },
  {
   "cell_type": "markdown",
   "metadata": {
    "id": "O4BYdv4_ZAzd"
   },
   "source": [
    "Fit-Transform Schema and Again Scaling"
   ]
  },
  {
   "cell_type": "code",
   "execution_count": 44,
   "metadata": {
    "id": "T2hZNjLhZAze",
    "outputId": "e5ac56e6-473b-4c5e-baa2-aa76cfc58468"
   },
   "outputs": [
    {
     "data": {
      "text/html": [
       "<div>\n",
       "<style scoped>\n",
       "    .dataframe tbody tr th:only-of-type {\n",
       "        vertical-align: middle;\n",
       "    }\n",
       "\n",
       "    .dataframe tbody tr th {\n",
       "        vertical-align: top;\n",
       "    }\n",
       "\n",
       "    .dataframe thead th {\n",
       "        text-align: right;\n",
       "    }\n",
       "</style>\n",
       "<table border=\"1\" class=\"dataframe\">\n",
       "  <thead>\n",
       "    <tr style=\"text-align: right;\">\n",
       "      <th></th>\n",
       "      <th>sepal length</th>\n",
       "      <th>sepal width</th>\n",
       "      <th>petal length</th>\n",
       "      <th>petal width</th>\n",
       "    </tr>\n",
       "  </thead>\n",
       "  <tbody>\n",
       "    <tr>\n",
       "      <th>count</th>\n",
       "      <td>1.200000e+02</td>\n",
       "      <td>1.200000e+02</td>\n",
       "      <td>1.200000e+02</td>\n",
       "      <td>1.200000e+02</td>\n",
       "    </tr>\n",
       "    <tr>\n",
       "      <th>mean</th>\n",
       "      <td>6.624331e-16</td>\n",
       "      <td>7.570333e-16</td>\n",
       "      <td>1.480297e-16</td>\n",
       "      <td>1.091719e-16</td>\n",
       "    </tr>\n",
       "    <tr>\n",
       "      <th>std</th>\n",
       "      <td>1.004193e+00</td>\n",
       "      <td>1.004193e+00</td>\n",
       "      <td>1.004193e+00</td>\n",
       "      <td>1.004193e+00</td>\n",
       "    </tr>\n",
       "    <tr>\n",
       "      <th>min</th>\n",
       "      <td>-1.839628e+00</td>\n",
       "      <td>-2.378896e+00</td>\n",
       "      <td>-1.563987e+00</td>\n",
       "      <td>-1.442764e+00</td>\n",
       "    </tr>\n",
       "    <tr>\n",
       "      <th>25%</th>\n",
       "      <td>-8.644522e-01</td>\n",
       "      <td>-5.792584e-01</td>\n",
       "      <td>-1.277280e+00</td>\n",
       "      <td>-1.176203e+00</td>\n",
       "    </tr>\n",
       "    <tr>\n",
       "      <th>50%</th>\n",
       "      <td>-7.212234e-02</td>\n",
       "      <td>-1.293490e-01</td>\n",
       "      <td>2.996089e-01</td>\n",
       "      <td>1.566049e-01</td>\n",
       "    </tr>\n",
       "    <tr>\n",
       "      <th>75%</th>\n",
       "      <td>7.202076e-01</td>\n",
       "      <td>6.017538e-01</td>\n",
       "      <td>7.870110e-01</td>\n",
       "      <td>8.230088e-01</td>\n",
       "    </tr>\n",
       "    <tr>\n",
       "      <th>max</th>\n",
       "      <td>2.304867e+00</td>\n",
       "      <td>3.020017e+00</td>\n",
       "      <td>1.704474e+00</td>\n",
       "      <td>1.755974e+00</td>\n",
       "    </tr>\n",
       "  </tbody>\n",
       "</table>\n",
       "</div>"
      ],
      "text/plain": [
       "       sepal length   sepal width  petal length   petal width\n",
       "count  1.200000e+02  1.200000e+02  1.200000e+02  1.200000e+02\n",
       "mean   6.624331e-16  7.570333e-16  1.480297e-16  1.091719e-16\n",
       "std    1.004193e+00  1.004193e+00  1.004193e+00  1.004193e+00\n",
       "min   -1.839628e+00 -2.378896e+00 -1.563987e+00 -1.442764e+00\n",
       "25%   -8.644522e-01 -5.792584e-01 -1.277280e+00 -1.176203e+00\n",
       "50%   -7.212234e-02 -1.293490e-01  2.996089e-01  1.566049e-01\n",
       "75%    7.202076e-01  6.017538e-01  7.870110e-01  8.230088e-01\n",
       "max    2.304867e+00  3.020017e+00  1.704474e+00  1.755974e+00"
      ]
     },
     "execution_count": 44,
     "metadata": {},
     "output_type": "execute_result"
    }
   ],
   "source": [
    "p = preprocessing.StandardScaler()\n",
    "p.fit(X_train)\n",
    "X_train_scaled=p.transform(X_train)\n",
    "X_train_scaled= pd.DataFrame(X_train_scaled,columns=['sepal length', 'sepal width', 'petal length', 'petal width'])\n",
    "X_train_scaled.describe(include='all')"
   ]
  },
  {
   "cell_type": "markdown",
   "metadata": {
    "id": "1ew1hNBtZAzk"
   },
   "source": [
    "This is equivalent to "
   ]
  },
  {
   "cell_type": "code",
   "execution_count": 45,
   "metadata": {
    "id": "gwnfBOSrZAzl",
    "outputId": "d552d070-80b5-4077-c0d0-722ef35ea232"
   },
   "outputs": [
    {
     "data": {
      "text/html": [
       "<div>\n",
       "<style scoped>\n",
       "    .dataframe tbody tr th:only-of-type {\n",
       "        vertical-align: middle;\n",
       "    }\n",
       "\n",
       "    .dataframe tbody tr th {\n",
       "        vertical-align: top;\n",
       "    }\n",
       "\n",
       "    .dataframe thead th {\n",
       "        text-align: right;\n",
       "    }\n",
       "</style>\n",
       "<table border=\"1\" class=\"dataframe\">\n",
       "  <thead>\n",
       "    <tr style=\"text-align: right;\">\n",
       "      <th></th>\n",
       "      <th>sepal length</th>\n",
       "      <th>sepal width</th>\n",
       "      <th>petal length</th>\n",
       "      <th>petal width</th>\n",
       "    </tr>\n",
       "  </thead>\n",
       "  <tbody>\n",
       "    <tr>\n",
       "      <th>count</th>\n",
       "      <td>1.200000e+02</td>\n",
       "      <td>1.200000e+02</td>\n",
       "      <td>1.200000e+02</td>\n",
       "      <td>1.200000e+02</td>\n",
       "    </tr>\n",
       "    <tr>\n",
       "      <th>mean</th>\n",
       "      <td>6.624331e-16</td>\n",
       "      <td>7.570333e-16</td>\n",
       "      <td>1.480297e-16</td>\n",
       "      <td>1.091719e-16</td>\n",
       "    </tr>\n",
       "    <tr>\n",
       "      <th>std</th>\n",
       "      <td>1.004193e+00</td>\n",
       "      <td>1.004193e+00</td>\n",
       "      <td>1.004193e+00</td>\n",
       "      <td>1.004193e+00</td>\n",
       "    </tr>\n",
       "    <tr>\n",
       "      <th>min</th>\n",
       "      <td>-1.839628e+00</td>\n",
       "      <td>-2.378896e+00</td>\n",
       "      <td>-1.563987e+00</td>\n",
       "      <td>-1.442764e+00</td>\n",
       "    </tr>\n",
       "    <tr>\n",
       "      <th>25%</th>\n",
       "      <td>-8.644522e-01</td>\n",
       "      <td>-5.792584e-01</td>\n",
       "      <td>-1.277280e+00</td>\n",
       "      <td>-1.176203e+00</td>\n",
       "    </tr>\n",
       "    <tr>\n",
       "      <th>50%</th>\n",
       "      <td>-7.212234e-02</td>\n",
       "      <td>-1.293490e-01</td>\n",
       "      <td>2.996089e-01</td>\n",
       "      <td>1.566049e-01</td>\n",
       "    </tr>\n",
       "    <tr>\n",
       "      <th>75%</th>\n",
       "      <td>7.202076e-01</td>\n",
       "      <td>6.017538e-01</td>\n",
       "      <td>7.870110e-01</td>\n",
       "      <td>8.230088e-01</td>\n",
       "    </tr>\n",
       "    <tr>\n",
       "      <th>max</th>\n",
       "      <td>2.304867e+00</td>\n",
       "      <td>3.020017e+00</td>\n",
       "      <td>1.704474e+00</td>\n",
       "      <td>1.755974e+00</td>\n",
       "    </tr>\n",
       "  </tbody>\n",
       "</table>\n",
       "</div>"
      ],
      "text/plain": [
       "       sepal length   sepal width  petal length   petal width\n",
       "count  1.200000e+02  1.200000e+02  1.200000e+02  1.200000e+02\n",
       "mean   6.624331e-16  7.570333e-16  1.480297e-16  1.091719e-16\n",
       "std    1.004193e+00  1.004193e+00  1.004193e+00  1.004193e+00\n",
       "min   -1.839628e+00 -2.378896e+00 -1.563987e+00 -1.442764e+00\n",
       "25%   -8.644522e-01 -5.792584e-01 -1.277280e+00 -1.176203e+00\n",
       "50%   -7.212234e-02 -1.293490e-01  2.996089e-01  1.566049e-01\n",
       "75%    7.202076e-01  6.017538e-01  7.870110e-01  8.230088e-01\n",
       "max    2.304867e+00  3.020017e+00  1.704474e+00  1.755974e+00"
      ]
     },
     "execution_count": 45,
     "metadata": {},
     "output_type": "execute_result"
    }
   ],
   "source": [
    "X_train_scaled=p.fit_transform(X_train)\n",
    "X_train_scaled= pd.DataFrame(X_train_scaled,columns=['sepal length', 'sepal width', 'petal length', 'petal width'])\n",
    "X_train_scaled.describe(include='all')"
   ]
  },
  {
   "cell_type": "markdown",
   "metadata": {
    "id": "yxP0Bpl4ZAzq"
   },
   "source": [
    "Only transform with test"
   ]
  },
  {
   "cell_type": "code",
   "execution_count": 46,
   "metadata": {
    "id": "Y0ZqQkydZAzs",
    "outputId": "989b6a20-a8f1-4f5c-fede-b86289dc3a84"
   },
   "outputs": [
    {
     "data": {
      "text/html": [
       "<div>\n",
       "<style scoped>\n",
       "    .dataframe tbody tr th:only-of-type {\n",
       "        vertical-align: middle;\n",
       "    }\n",
       "\n",
       "    .dataframe tbody tr th {\n",
       "        vertical-align: top;\n",
       "    }\n",
       "\n",
       "    .dataframe thead th {\n",
       "        text-align: right;\n",
       "    }\n",
       "</style>\n",
       "<table border=\"1\" class=\"dataframe\">\n",
       "  <thead>\n",
       "    <tr style=\"text-align: right;\">\n",
       "      <th></th>\n",
       "      <th>sepal length</th>\n",
       "      <th>sepal width</th>\n",
       "      <th>petal length</th>\n",
       "      <th>petal width</th>\n",
       "    </tr>\n",
       "  </thead>\n",
       "  <tbody>\n",
       "    <tr>\n",
       "      <th>count</th>\n",
       "      <td>30.000000</td>\n",
       "      <td>30.000000</td>\n",
       "      <td>30.000000</td>\n",
       "      <td>30.000000</td>\n",
       "    </tr>\n",
       "    <tr>\n",
       "      <th>mean</th>\n",
       "      <td>0.208241</td>\n",
       "      <td>-0.039367</td>\n",
       "      <td>0.089357</td>\n",
       "      <td>0.107735</td>\n",
       "    </tr>\n",
       "    <tr>\n",
       "      <th>std</th>\n",
       "      <td>1.030061</td>\n",
       "      <td>0.865418</td>\n",
       "      <td>1.055830</td>\n",
       "      <td>1.080787</td>\n",
       "    </tr>\n",
       "    <tr>\n",
       "      <th>min</th>\n",
       "      <td>-1.352040</td>\n",
       "      <td>-1.928987</td>\n",
       "      <td>-1.391963</td>\n",
       "      <td>-1.442764</td>\n",
       "    </tr>\n",
       "    <tr>\n",
       "      <th>25%</th>\n",
       "      <td>-0.468287</td>\n",
       "      <td>-0.579258</td>\n",
       "      <td>-1.219939</td>\n",
       "      <td>-1.142883</td>\n",
       "    </tr>\n",
       "    <tr>\n",
       "      <th>50%</th>\n",
       "      <td>0.293568</td>\n",
       "      <td>-0.129349</td>\n",
       "      <td>0.442962</td>\n",
       "      <td>0.223245</td>\n",
       "    </tr>\n",
       "    <tr>\n",
       "      <th>75%</th>\n",
       "      <td>0.842104</td>\n",
       "      <td>0.320560</td>\n",
       "      <td>0.830017</td>\n",
       "      <td>1.089570</td>\n",
       "    </tr>\n",
       "    <tr>\n",
       "      <th>max</th>\n",
       "      <td>2.548661</td>\n",
       "      <td>1.670289</td>\n",
       "      <td>1.819157</td>\n",
       "      <td>1.489413</td>\n",
       "    </tr>\n",
       "  </tbody>\n",
       "</table>\n",
       "</div>"
      ],
      "text/plain": [
       "       sepal length  sepal width  petal length  petal width\n",
       "count     30.000000    30.000000     30.000000    30.000000\n",
       "mean       0.208241    -0.039367      0.089357     0.107735\n",
       "std        1.030061     0.865418      1.055830     1.080787\n",
       "min       -1.352040    -1.928987     -1.391963    -1.442764\n",
       "25%       -0.468287    -0.579258     -1.219939    -1.142883\n",
       "50%        0.293568    -0.129349      0.442962     0.223245\n",
       "75%        0.842104     0.320560      0.830017     1.089570\n",
       "max        2.548661     1.670289      1.819157     1.489413"
      ]
     },
     "execution_count": 46,
     "metadata": {},
     "output_type": "execute_result"
    }
   ],
   "source": [
    "X_test_scaled=p.transform(X_test)\n",
    "X_test_scaled= pd.DataFrame(X_test_scaled,columns=['sepal length', 'sepal width', 'petal length', 'petal width'])\n",
    "X_test_scaled.describe(include='all')"
   ]
  },
  {
   "cell_type": "markdown",
   "metadata": {
    "id": "POl1pVjJZAzy"
   },
   "source": [
    "The same with  test_size=0.3"
   ]
  },
  {
   "cell_type": "code",
   "execution_count": 47,
   "metadata": {
    "id": "EJQYg_bvZAz0",
    "outputId": "1b613219-a8e3-4c9b-b641-6bd4eec5f977"
   },
   "outputs": [
    {
     "name": "stdout",
     "output_type": "stream",
     "text": [
      "       sepal length  sepal width  petal length  petal width\n",
      "count    105.000000   105.000000    105.000000   105.000000\n",
      "mean       5.842857     3.004762      3.871429     1.238095\n",
      "std        0.833304     0.414956      1.720002     0.744128\n",
      "min        4.300000     2.000000      1.100000     0.100000\n",
      "25%        5.100000     2.800000      1.700000     0.400000\n",
      "50%        5.800000     3.000000      4.300000     1.300000\n",
      "75%        6.400000     3.200000      5.100000     1.800000\n",
      "max        7.700000     4.200000      6.700000     2.500000\n",
      "\n",
      "       sepal length  sepal width  petal length  petal width\n",
      "count     45.000000    45.000000     45.000000    45.000000\n",
      "mean       5.844444     3.168889      3.495556     1.106667\n",
      "std        0.825050     0.458665      1.857045     0.806902\n",
      "min        4.400000     2.200000      1.000000     0.100000\n",
      "25%        5.200000     2.800000      1.500000     0.200000\n",
      "50%        5.800000     3.100000      4.400000     1.300000\n",
      "75%        6.400000     3.400000      5.000000     1.800000\n",
      "max        7.900000     4.400000      6.900000     2.300000\n"
     ]
    }
   ],
   "source": [
    "from sklearn.model_selection import train_test_split \n",
    "X_train, X_test = train_test_split(data, test_size=0.3, random_state=42)\n",
    "X_train= pd.DataFrame(X_train,columns=['sepal length', 'sepal width', 'petal length', 'petal width'])\n",
    "X_test= pd.DataFrame(X_test,columns=['sepal length', 'sepal width', 'petal length', 'petal width'])\n",
    "print(X_train.describe(include='all'))\n",
    "print('')\n",
    "print(X_test.describe(include='all'))"
   ]
  },
  {
   "cell_type": "code",
   "execution_count": 48,
   "metadata": {
    "id": "Dyq87YZIZAz6",
    "outputId": "074cd125-caba-4894-c234-4379b4139cd3"
   },
   "outputs": [
    {
     "data": {
      "text/html": [
       "<div>\n",
       "<style scoped>\n",
       "    .dataframe tbody tr th:only-of-type {\n",
       "        vertical-align: middle;\n",
       "    }\n",
       "\n",
       "    .dataframe tbody tr th {\n",
       "        vertical-align: top;\n",
       "    }\n",
       "\n",
       "    .dataframe thead th {\n",
       "        text-align: right;\n",
       "    }\n",
       "</style>\n",
       "<table border=\"1\" class=\"dataframe\">\n",
       "  <thead>\n",
       "    <tr style=\"text-align: right;\">\n",
       "      <th></th>\n",
       "      <th>sepal length</th>\n",
       "      <th>sepal width</th>\n",
       "      <th>petal length</th>\n",
       "      <th>petal width</th>\n",
       "    </tr>\n",
       "  </thead>\n",
       "  <tbody>\n",
       "    <tr>\n",
       "      <th>count</th>\n",
       "      <td>1.050000e+02</td>\n",
       "      <td>1.050000e+02</td>\n",
       "      <td>1.050000e+02</td>\n",
       "      <td>1.050000e+02</td>\n",
       "    </tr>\n",
       "    <tr>\n",
       "      <th>mean</th>\n",
       "      <td>3.468125e-16</td>\n",
       "      <td>1.865241e-17</td>\n",
       "      <td>6.344132e-18</td>\n",
       "      <td>-4.229421e-18</td>\n",
       "    </tr>\n",
       "    <tr>\n",
       "      <th>std</th>\n",
       "      <td>1.004796e+00</td>\n",
       "      <td>1.004796e+00</td>\n",
       "      <td>1.004796e+00</td>\n",
       "      <td>1.004796e+00</td>\n",
       "    </tr>\n",
       "    <tr>\n",
       "      <th>min</th>\n",
       "      <td>-1.860374e+00</td>\n",
       "      <td>-2.432982e+00</td>\n",
       "      <td>-1.619022e+00</td>\n",
       "      <td>-1.536769e+00</td>\n",
       "    </tr>\n",
       "    <tr>\n",
       "      <th>25%</th>\n",
       "      <td>-8.957355e-01</td>\n",
       "      <td>-4.958210e-01</td>\n",
       "      <td>-1.268512e+00</td>\n",
       "      <td>-1.131680e+00</td>\n",
       "    </tr>\n",
       "    <tr>\n",
       "      <th>50%</th>\n",
       "      <td>-5.167705e-02</td>\n",
       "      <td>-1.153072e-02</td>\n",
       "      <td>2.503642e-01</td>\n",
       "      <td>8.358997e-02</td>\n",
       "    </tr>\n",
       "    <tr>\n",
       "      <th>75%</th>\n",
       "      <td>6.718016e-01</td>\n",
       "      <td>4.727595e-01</td>\n",
       "      <td>7.177108e-01</td>\n",
       "      <td>7.587397e-01</td>\n",
       "    </tr>\n",
       "    <tr>\n",
       "      <th>max</th>\n",
       "      <td>2.239339e+00</td>\n",
       "      <td>2.894211e+00</td>\n",
       "      <td>1.652404e+00</td>\n",
       "      <td>1.703949e+00</td>\n",
       "    </tr>\n",
       "  </tbody>\n",
       "</table>\n",
       "</div>"
      ],
      "text/plain": [
       "       sepal length   sepal width  petal length   petal width\n",
       "count  1.050000e+02  1.050000e+02  1.050000e+02  1.050000e+02\n",
       "mean   3.468125e-16  1.865241e-17  6.344132e-18 -4.229421e-18\n",
       "std    1.004796e+00  1.004796e+00  1.004796e+00  1.004796e+00\n",
       "min   -1.860374e+00 -2.432982e+00 -1.619022e+00 -1.536769e+00\n",
       "25%   -8.957355e-01 -4.958210e-01 -1.268512e+00 -1.131680e+00\n",
       "50%   -5.167705e-02 -1.153072e-02  2.503642e-01  8.358997e-02\n",
       "75%    6.718016e-01  4.727595e-01  7.177108e-01  7.587397e-01\n",
       "max    2.239339e+00  2.894211e+00  1.652404e+00  1.703949e+00"
      ]
     },
     "execution_count": 48,
     "metadata": {},
     "output_type": "execute_result"
    }
   ],
   "source": [
    "X_train_scaled=p.fit_transform(X_train)\n",
    "X_train_scaled= pd.DataFrame(X_train_scaled,columns=['sepal length', 'sepal width', 'petal length', 'petal width'])\n",
    "X_train_scaled.describe(include='all')"
   ]
  },
  {
   "cell_type": "code",
   "execution_count": 49,
   "metadata": {
    "id": "E_Y8OhVNZA0A",
    "outputId": "b64e2114-56df-44b6-da43-6fe74fb8e79d"
   },
   "outputs": [
    {
     "data": {
      "text/html": [
       "<div>\n",
       "<style scoped>\n",
       "    .dataframe tbody tr th:only-of-type {\n",
       "        vertical-align: middle;\n",
       "    }\n",
       "\n",
       "    .dataframe tbody tr th {\n",
       "        vertical-align: top;\n",
       "    }\n",
       "\n",
       "    .dataframe thead th {\n",
       "        text-align: right;\n",
       "    }\n",
       "</style>\n",
       "<table border=\"1\" class=\"dataframe\">\n",
       "  <thead>\n",
       "    <tr style=\"text-align: right;\">\n",
       "      <th></th>\n",
       "      <th>sepal length</th>\n",
       "      <th>sepal width</th>\n",
       "      <th>petal length</th>\n",
       "      <th>petal width</th>\n",
       "    </tr>\n",
       "  </thead>\n",
       "  <tbody>\n",
       "    <tr>\n",
       "      <th>count</th>\n",
       "      <td>45.000000</td>\n",
       "      <td>45.000000</td>\n",
       "      <td>45.000000</td>\n",
       "      <td>45.000000</td>\n",
       "    </tr>\n",
       "    <tr>\n",
       "      <th>mean</th>\n",
       "      <td>0.001914</td>\n",
       "      <td>0.397425</td>\n",
       "      <td>-0.219579</td>\n",
       "      <td>-0.177468</td>\n",
       "    </tr>\n",
       "    <tr>\n",
       "      <th>std</th>\n",
       "      <td>0.994843</td>\n",
       "      <td>1.110635</td>\n",
       "      <td>1.084854</td>\n",
       "      <td>1.089559</td>\n",
       "    </tr>\n",
       "    <tr>\n",
       "      <th>min</th>\n",
       "      <td>-1.739794</td>\n",
       "      <td>-1.948692</td>\n",
       "      <td>-1.677440</td>\n",
       "      <td>-1.536769</td>\n",
       "    </tr>\n",
       "    <tr>\n",
       "      <th>25%</th>\n",
       "      <td>-0.775156</td>\n",
       "      <td>-0.495821</td>\n",
       "      <td>-1.385349</td>\n",
       "      <td>-1.401739</td>\n",
       "    </tr>\n",
       "    <tr>\n",
       "      <th>50%</th>\n",
       "      <td>-0.051677</td>\n",
       "      <td>0.230614</td>\n",
       "      <td>0.308783</td>\n",
       "      <td>0.083590</td>\n",
       "    </tr>\n",
       "    <tr>\n",
       "      <th>75%</th>\n",
       "      <td>0.671802</td>\n",
       "      <td>0.957050</td>\n",
       "      <td>0.659292</td>\n",
       "      <td>0.758740</td>\n",
       "    </tr>\n",
       "    <tr>\n",
       "      <th>max</th>\n",
       "      <td>2.480498</td>\n",
       "      <td>3.378501</td>\n",
       "      <td>1.769240</td>\n",
       "      <td>1.433889</td>\n",
       "    </tr>\n",
       "  </tbody>\n",
       "</table>\n",
       "</div>"
      ],
      "text/plain": [
       "       sepal length  sepal width  petal length  petal width\n",
       "count     45.000000    45.000000     45.000000    45.000000\n",
       "mean       0.001914     0.397425     -0.219579    -0.177468\n",
       "std        0.994843     1.110635      1.084854     1.089559\n",
       "min       -1.739794    -1.948692     -1.677440    -1.536769\n",
       "25%       -0.775156    -0.495821     -1.385349    -1.401739\n",
       "50%       -0.051677     0.230614      0.308783     0.083590\n",
       "75%        0.671802     0.957050      0.659292     0.758740\n",
       "max        2.480498     3.378501      1.769240     1.433889"
      ]
     },
     "execution_count": 49,
     "metadata": {},
     "output_type": "execute_result"
    }
   ],
   "source": [
    "X_test_scaled=p.transform(X_test)\n",
    "X_test_scaled= pd.DataFrame(X_test_scaled,columns=['sepal length', 'sepal width', 'petal length', 'petal width'])\n",
    "X_test_scaled.describe(include='all')"
   ]
  },
  {
   "cell_type": "markdown",
   "metadata": {
    "id": "tI-Inf2jZA0H"
   },
   "source": [
    "Min-Max Scaler\n",
    "#formulas\n",
    "\n",
    "X_std = (X - X.min(axis=0)) / (X.max(axis=0) - X.min(axis=0))\n",
    "\n",
    "X_scaled = X_std * (max - min) + min"
   ]
  },
  {
   "cell_type": "code",
   "execution_count": 50,
   "metadata": {
    "id": "9mANM-a3ZA0J",
    "outputId": "7816392c-96d7-42c7-916c-a7cf98b12d3e"
   },
   "outputs": [
    {
     "data": {
      "text/html": [
       "<div>\n",
       "<style scoped>\n",
       "    .dataframe tbody tr th:only-of-type {\n",
       "        vertical-align: middle;\n",
       "    }\n",
       "\n",
       "    .dataframe tbody tr th {\n",
       "        vertical-align: top;\n",
       "    }\n",
       "\n",
       "    .dataframe thead th {\n",
       "        text-align: right;\n",
       "    }\n",
       "</style>\n",
       "<table border=\"1\" class=\"dataframe\">\n",
       "  <thead>\n",
       "    <tr style=\"text-align: right;\">\n",
       "      <th></th>\n",
       "      <th>sepal length</th>\n",
       "      <th>sepal width</th>\n",
       "      <th>petal length</th>\n",
       "      <th>petal width</th>\n",
       "    </tr>\n",
       "  </thead>\n",
       "  <tbody>\n",
       "    <tr>\n",
       "      <th>count</th>\n",
       "      <td>105.000000</td>\n",
       "      <td>105.000000</td>\n",
       "      <td>105.000000</td>\n",
       "      <td>105.000000</td>\n",
       "    </tr>\n",
       "    <tr>\n",
       "      <th>mean</th>\n",
       "      <td>0.453782</td>\n",
       "      <td>0.456710</td>\n",
       "      <td>0.494898</td>\n",
       "      <td>0.474206</td>\n",
       "    </tr>\n",
       "    <tr>\n",
       "      <th>std</th>\n",
       "      <td>0.245089</td>\n",
       "      <td>0.188616</td>\n",
       "      <td>0.307143</td>\n",
       "      <td>0.310054</td>\n",
       "    </tr>\n",
       "    <tr>\n",
       "      <th>min</th>\n",
       "      <td>0.000000</td>\n",
       "      <td>0.000000</td>\n",
       "      <td>0.000000</td>\n",
       "      <td>0.000000</td>\n",
       "    </tr>\n",
       "    <tr>\n",
       "      <th>25%</th>\n",
       "      <td>0.235294</td>\n",
       "      <td>0.363636</td>\n",
       "      <td>0.107143</td>\n",
       "      <td>0.125000</td>\n",
       "    </tr>\n",
       "    <tr>\n",
       "      <th>50%</th>\n",
       "      <td>0.441176</td>\n",
       "      <td>0.454545</td>\n",
       "      <td>0.571429</td>\n",
       "      <td>0.500000</td>\n",
       "    </tr>\n",
       "    <tr>\n",
       "      <th>75%</th>\n",
       "      <td>0.617647</td>\n",
       "      <td>0.545455</td>\n",
       "      <td>0.714286</td>\n",
       "      <td>0.708333</td>\n",
       "    </tr>\n",
       "    <tr>\n",
       "      <th>max</th>\n",
       "      <td>1.000000</td>\n",
       "      <td>1.000000</td>\n",
       "      <td>1.000000</td>\n",
       "      <td>1.000000</td>\n",
       "    </tr>\n",
       "  </tbody>\n",
       "</table>\n",
       "</div>"
      ],
      "text/plain": [
       "       sepal length  sepal width  petal length  petal width\n",
       "count    105.000000   105.000000    105.000000   105.000000\n",
       "mean       0.453782     0.456710      0.494898     0.474206\n",
       "std        0.245089     0.188616      0.307143     0.310054\n",
       "min        0.000000     0.000000      0.000000     0.000000\n",
       "25%        0.235294     0.363636      0.107143     0.125000\n",
       "50%        0.441176     0.454545      0.571429     0.500000\n",
       "75%        0.617647     0.545455      0.714286     0.708333\n",
       "max        1.000000     1.000000      1.000000     1.000000"
      ]
     },
     "execution_count": 50,
     "metadata": {},
     "output_type": "execute_result"
    }
   ],
   "source": [
    "#max_abs Scaler\n",
    "scaler = preprocessing.MinMaxScaler()\n",
    "X_train_scaled = scaler.fit_transform(X_train)\n",
    "X_train_scaled= pd.DataFrame(X_train_scaled,columns=['sepal length', 'sepal width', 'petal length', 'petal width'])\n",
    "X_train_scaled.describe(include='all')"
   ]
  },
  {
   "cell_type": "code",
   "execution_count": 51,
   "metadata": {
    "id": "mwwOAJ9tZA0Q",
    "outputId": "e21937e5-d6c2-4e94-bb07-e1453cb67765"
   },
   "outputs": [
    {
     "data": {
      "text/html": [
       "<div>\n",
       "<style scoped>\n",
       "    .dataframe tbody tr th:only-of-type {\n",
       "        vertical-align: middle;\n",
       "    }\n",
       "\n",
       "    .dataframe tbody tr th {\n",
       "        vertical-align: top;\n",
       "    }\n",
       "\n",
       "    .dataframe thead th {\n",
       "        text-align: right;\n",
       "    }\n",
       "</style>\n",
       "<table border=\"1\" class=\"dataframe\">\n",
       "  <thead>\n",
       "    <tr style=\"text-align: right;\">\n",
       "      <th></th>\n",
       "      <th>sepal length</th>\n",
       "      <th>sepal width</th>\n",
       "      <th>petal length</th>\n",
       "      <th>petal width</th>\n",
       "    </tr>\n",
       "  </thead>\n",
       "  <tbody>\n",
       "    <tr>\n",
       "      <th>count</th>\n",
       "      <td>45.000000</td>\n",
       "      <td>45.000000</td>\n",
       "      <td>45.000000</td>\n",
       "      <td>45.000000</td>\n",
       "    </tr>\n",
       "    <tr>\n",
       "      <th>mean</th>\n",
       "      <td>0.454248</td>\n",
       "      <td>0.531313</td>\n",
       "      <td>0.427778</td>\n",
       "      <td>0.419444</td>\n",
       "    </tr>\n",
       "    <tr>\n",
       "      <th>std</th>\n",
       "      <td>0.242662</td>\n",
       "      <td>0.208484</td>\n",
       "      <td>0.331615</td>\n",
       "      <td>0.336209</td>\n",
       "    </tr>\n",
       "    <tr>\n",
       "      <th>min</th>\n",
       "      <td>0.029412</td>\n",
       "      <td>0.090909</td>\n",
       "      <td>-0.017857</td>\n",
       "      <td>0.000000</td>\n",
       "    </tr>\n",
       "    <tr>\n",
       "      <th>25%</th>\n",
       "      <td>0.264706</td>\n",
       "      <td>0.363636</td>\n",
       "      <td>0.071429</td>\n",
       "      <td>0.041667</td>\n",
       "    </tr>\n",
       "    <tr>\n",
       "      <th>50%</th>\n",
       "      <td>0.441176</td>\n",
       "      <td>0.500000</td>\n",
       "      <td>0.589286</td>\n",
       "      <td>0.500000</td>\n",
       "    </tr>\n",
       "    <tr>\n",
       "      <th>75%</th>\n",
       "      <td>0.617647</td>\n",
       "      <td>0.636364</td>\n",
       "      <td>0.696429</td>\n",
       "      <td>0.708333</td>\n",
       "    </tr>\n",
       "    <tr>\n",
       "      <th>max</th>\n",
       "      <td>1.058824</td>\n",
       "      <td>1.090909</td>\n",
       "      <td>1.035714</td>\n",
       "      <td>0.916667</td>\n",
       "    </tr>\n",
       "  </tbody>\n",
       "</table>\n",
       "</div>"
      ],
      "text/plain": [
       "       sepal length  sepal width  petal length  petal width\n",
       "count     45.000000    45.000000     45.000000    45.000000\n",
       "mean       0.454248     0.531313      0.427778     0.419444\n",
       "std        0.242662     0.208484      0.331615     0.336209\n",
       "min        0.029412     0.090909     -0.017857     0.000000\n",
       "25%        0.264706     0.363636      0.071429     0.041667\n",
       "50%        0.441176     0.500000      0.589286     0.500000\n",
       "75%        0.617647     0.636364      0.696429     0.708333\n",
       "max        1.058824     1.090909      1.035714     0.916667"
      ]
     },
     "execution_count": 51,
     "metadata": {},
     "output_type": "execute_result"
    }
   ],
   "source": [
    "X_test_scaled=scaler.transform(X_test)\n",
    "X_test_scaled= pd.DataFrame(X_test_scaled,columns=['sepal length', 'sepal width', 'petal length', 'petal width'])\n",
    "X_test_scaled.describe(include='all')"
   ]
  },
  {
   "cell_type": "markdown",
   "metadata": {
    "id": "sHu0b6CvZA0Y"
   },
   "source": [
    "Scaling the data is really important in ML, many tecniques need it\n",
    "https://scikit-learn.org/stable/modules/generated/sklearn.preprocessing.MinMaxScaler.html"
   ]
  },
  {
   "cell_type": "code",
   "execution_count": 52,
   "metadata": {
    "id": "yhYmeCSYZA0a",
    "outputId": "15212612-74a6-46c9-f3ca-84908f542198"
   },
   "outputs": [
    {
     "name": "stdout",
     "output_type": "stream",
     "text": [
      "       sepal length  sepal width  petal length  petal width\n",
      "count    105.000000   105.000000    105.000000   105.000000\n",
      "mean      -0.924370    -0.865801     -0.102041    -0.515873\n",
      "std        4.901788     3.772329      6.142864     6.201070\n",
      "min      -10.000000   -10.000000    -10.000000   -10.000000\n",
      "25%       -5.294118    -2.727273     -7.857143    -7.500000\n",
      "50%       -1.176471    -0.909091      1.428571     0.000000\n",
      "75%        2.352941     0.909091      4.285714     4.166667\n",
      "max       10.000000    10.000000     10.000000    10.000000\n",
      "       sepal length  sepal width  petal length  petal width\n",
      "count     45.000000    45.000000     45.000000    45.000000\n",
      "mean      -0.915033     0.626263     -1.444444    -1.611111\n",
      "std        4.853234     4.169683      6.632304     6.724184\n",
      "min       -9.411765    -8.181818    -10.357143   -10.000000\n",
      "25%       -4.705882    -2.727273     -8.571429    -9.166667\n",
      "50%       -1.176471     0.000000      1.785714     0.000000\n",
      "75%        2.352941     2.727273      3.928571     4.166667\n",
      "max       11.176471    11.818182     10.714286     8.333333\n"
     ]
    }
   ],
   "source": [
    "scaler = preprocessing.MinMaxScaler(feature_range=(-10, 10))\n",
    "X_train_scaled = scaler.fit_transform(X_train)\n",
    "X_train_scaled= pd.DataFrame(X_train_scaled,columns=['sepal length', 'sepal width', 'petal length', 'petal width'])\n",
    "print(X_train_scaled.describe(include='all'))\n",
    "X_test_scaled=scaler.transform(X_test)\n",
    "X_test_scaled= pd.DataFrame(X_test_scaled,columns=['sepal length', 'sepal width', 'petal length', 'petal width'])\n",
    "print(X_test_scaled.describe(include='all'))"
   ]
  },
  {
   "cell_type": "markdown",
   "metadata": {
    "id": "WAtx7F-8ZA0w"
   },
   "source": [
    "How to reshape a distribution:\n",
    "    \n",
    "quantile transformation (reshape the distribution)"
   ]
  },
  {
   "cell_type": "code",
   "execution_count": 53,
   "metadata": {
    "id": "vQFDPsoLZA0y"
   },
   "outputs": [
    {
     "name": "stderr",
     "output_type": "stream",
     "text": [
      "/Users/zhangtianjie/opt/anaconda3/envs/tf/lib/python3.7/site-packages/sklearn/preprocessing/_data.py:2593: UserWarning: n_quantiles (1000) is greater than the total number of samples (105). n_quantiles is set to n_samples.\n",
      "  \"n_samples.\" % (self.n_quantiles, n_samples)\n"
     ]
    }
   ],
   "source": [
    "quantile_transformer = preprocessing.QuantileTransformer(random_state=0)\n",
    "X_train_quantile = quantile_transformer.fit_transform(X_train)\n",
    "X_train_quantile = pd.DataFrame(X_train_quantile,columns=['sepal length', 'sepal width', 'petal length', 'petal width'])\n"
   ]
  },
  {
   "cell_type": "code",
   "execution_count": 54,
   "metadata": {
    "id": "oC2jrjRWZA01",
    "outputId": "cfc80e47-5d0d-4b37-80af-a3432434581c"
   },
   "outputs": [
    {
     "data": {
      "text/plain": [
       "array([[<AxesSubplot:title={'center':'sepal length'}>,\n",
       "        <AxesSubplot:title={'center':'sepal width'}>],\n",
       "       [<AxesSubplot:title={'center':'petal length'}>,\n",
       "        <AxesSubplot:title={'center':'petal width'}>]], dtype=object)"
      ]
     },
     "execution_count": 54,
     "metadata": {},
     "output_type": "execute_result"
    },
    {
     "data": {
      "image/png": "[encoded data removed]",
      "text/plain": [
       "<Figure size 432x288 with 4 Axes>"
      ]
     },
     "metadata": {
      "needs_background": "light"
     },
     "output_type": "display_data"
    }
   ],
   "source": [
    "X_train.hist(bins=8)\n"
   ]
  },
  {
   "cell_type": "code",
   "execution_count": 55,
   "metadata": {
    "id": "PYrdQGXpZA05",
    "outputId": "206b9bdc-c6e9-48b5-c544-b3f7abf3161f"
   },
   "outputs": [
    {
     "data": {
      "text/plain": [
       "array([[<AxesSubplot:title={'center':'sepal length'}>,\n",
       "        <AxesSubplot:title={'center':'sepal width'}>],\n",
       "       [<AxesSubplot:title={'center':'petal length'}>,\n",
       "        <AxesSubplot:title={'center':'petal width'}>]], dtype=object)"
      ]
     },
     "execution_count": 55,
     "metadata": {},
     "output_type": "execute_result"
    },
    {
     "data": {
      "image/png": "[encoded data removed]",
      "text/plain": [
       "<Figure size 432x288 with 4 Axes>"
      ]
     },
     "metadata": {
      "needs_background": "light"
     },
     "output_type": "display_data"
    }
   ],
   "source": [
    "X_train_quantile.hist(bins=8)"
   ]
  },
  {
   "cell_type": "code",
   "execution_count": 60,
   "metadata": {
    "id": "M8NtKB4FZA0-"
   },
   "outputs": [
    {
     "name": "stderr",
     "output_type": "stream",
     "text": [
      "/Users/zhangtianjie/opt/anaconda3/envs/tf/lib/python3.7/site-packages/sklearn/preprocessing/_data.py:2593: UserWarning: n_quantiles (1000) is greater than the total number of samples (105). n_quantiles is set to n_samples.\n",
      "  \"n_samples.\" % (self.n_quantiles, n_samples)\n"
     ]
    }
   ],
   "source": [
    "quantile_transformer = preprocessing.QuantileTransformer(output_distribution='normal',random_state=0)\n",
    "X_train_quantile = quantile_transformer.fit_transform(X_train)\n",
    "X_train_quantile = pd.DataFrame(X_train_quantile,columns=['sepal length', 'sepal width', 'petal length', 'petal width'])\n"
   ]
  },
  {
   "cell_type": "code",
   "execution_count": 61,
   "metadata": {
    "id": "5M2xGEkWZA1B",
    "outputId": "90f1ce77-f787-4ccf-d7a7-e0fa10672504"
   },
   "outputs": [
    {
     "data": {
      "text/plain": [
       "array([[<AxesSubplot:title={'center':'sepal length'}>,\n",
       "        <AxesSubplot:title={'center':'sepal width'}>],\n",
       "       [<AxesSubplot:title={'center':'petal length'}>,\n",
       "        <AxesSubplot:title={'center':'petal width'}>]], dtype=object)"
      ]
     },
     "execution_count": 61,
     "metadata": {},
     "output_type": "execute_result"
    },
    {
     "data": {
      "image/png": "[encoded data removed]",
      "text/plain": [
       "<Figure size 432x288 with 4 Axes>"
      ]
     },
     "metadata": {
      "needs_background": "light"
     },
     "output_type": "display_data"
    }
   ],
   "source": [
    "X_train_quantile.hist(bins=8)"
   ]
  },
  {
   "cell_type": "code",
   "execution_count": 62,
   "metadata": {
    "id": "pikl_BzeZA1F",
    "outputId": "bae573e1-b9c3-44be-b186-2a8362f4d5a1"
   },
   "outputs": [
    {
     "data": {
      "text/plain": [
       "array([[<AxesSubplot:title={'center':'sepal length'}>,\n",
       "        <AxesSubplot:title={'center':'sepal width'}>],\n",
       "       [<AxesSubplot:title={'center':'petal length'}>,\n",
       "        <AxesSubplot:title={'center':'petal width'}>]], dtype=object)"
      ]
     },
     "execution_count": 62,
     "metadata": {},
     "output_type": "execute_result"
    },
    {
     "data": {
      "image/png": "[encoded data removed]",
      "text/plain": [
       "<Figure size 432x288 with 4 Axes>"
      ]
     },
     "metadata": {
      "needs_background": "light"
     },
     "output_type": "display_data"
    }
   ],
   "source": [
    "#test case\n",
    "X_test.hist(bins=8)\n"
   ]
  },
  {
   "cell_type": "code",
   "execution_count": 65,
   "metadata": {
    "id": "-EAQ_JHeZA1J",
    "outputId": "f6417364-4322-4228-c717-3b177b714ae8"
   },
   "outputs": [
    {
     "data": {
      "text/plain": [
       "array([[<AxesSubplot:title={'center':'sepal length'}>,\n",
       "        <AxesSubplot:title={'center':'sepal width'}>],\n",
       "       [<AxesSubplot:title={'center':'petal length'}>,\n",
       "        <AxesSubplot:title={'center':'petal width'}>]], dtype=object)"
      ]
     },
     "execution_count": 65,
     "metadata": {},
     "output_type": "execute_result"
    },
    {
     "data": {
      "image/png": "[encoded data removed]",
      "text/plain": [
       "<Figure size 432x288 with 4 Axes>"
      ]
     },
     "metadata": {
      "needs_background": "light"
     },
     "output_type": "display_data"
    }
   ],
   "source": [
    "X_test_quantile = quantile_transformer.transform(X_test)\n",
    "X_test_quantile = pd.DataFrame(X_test_quantile,columns=['sepal length', 'sepal width', 'petal length', 'petal width'])\n",
    "X_test_quantile.hist(bins=8)"
   ]
  },
  {
   "cell_type": "markdown",
   "metadata": {
    "id": "TChL9rteZA1O"
   },
   "source": [
    "Normalization example by example like normalized vectors\n"
   ]
  },
  {
   "cell_type": "code",
   "execution_count": 66,
   "metadata": {
    "id": "I-8K7jX8ZA1S",
    "outputId": "9087bd61-1489-4911-f9c5-dd34f61d595f"
   },
   "outputs": [
    {
     "name": "stdout",
     "output_type": "stream",
     "text": [
      "[[1.]\n",
      " [1.]\n",
      " [1.]\n",
      " [1.]]\n",
      "[[0.4472136  0.89442719]\n",
      " [0.37139068 0.92847669]\n",
      " [0.3939193  0.91914503]\n",
      " [0.40613847 0.91381155]]\n",
      "[[0.33333333 0.66666667]\n",
      " [0.28571429 0.71428571]\n",
      " [0.3        0.7       ]\n",
      " [0.30769231 0.69230769]]\n",
      "[[ 0.33333333 -0.66666667]\n",
      " [ 0.28571429 -0.71428571]\n",
      " [ 0.3         0.7       ]\n",
      " [ 0.30769231  0.69230769]]\n"
     ]
    }
   ],
   "source": [
    "#l2 norm\n",
    "normalizer = preprocessing.Normalizer()\n",
    "x = normalizer.fit_transform([[1],[2],[3],[4]])\n",
    "print(x)\n",
    "x = normalizer.fit_transform([[1,2],[2,5],[3,7],[4,9]])\n",
    "print(x)\n",
    "normalizer = preprocessing.Normalizer(norm='l1')\n",
    "x = normalizer.fit_transform([[1,2],[2,5],[3,7],[4,9]])\n",
    "print(x)\n",
    "x = normalizer.fit_transform([[1,-2],[2,-5],[3,7],[4,9]])\n",
    "print(x)\n"
   ]
  },
  {
   "cell_type": "markdown",
   "metadata": {
    "id": "wIiY-GN8ZA1X"
   },
   "source": [
    "Binarization (it uses a threshold 0)"
   ]
  },
  {
   "cell_type": "code",
   "execution_count": null,
   "metadata": {
    "id": "prWt0cs5ZA1Z",
    "outputId": "3404b80a-c4c8-4975-9bce-5411255e516c"
   },
   "outputs": [
    {
     "name": "stdout",
     "output_type": "stream",
     "text": [
      "[[1. 0. 1.]\n",
      " [1. 0. 0.]\n",
      " [0. 1. 0.]]\n"
     ]
    }
   ],
   "source": [
    "X = [[ 1., -1.,  2.],\n",
    "...      [ 2.,  0.,  0.],\n",
    "...      [ 0.,  1., -1.]]\n",
    "\n",
    "binarizer=preprocessing.Binarizer().fit(X)\n",
    "X=binarizer.transform(X)\n",
    "print(X)"
   ]
  },
  {
   "cell_type": "code",
   "execution_count": null,
   "metadata": {
    "id": "GDWCoqXkZA1i",
    "outputId": "b3f2c938-9e73-4781-ba7a-49d98fdf99b6"
   },
   "outputs": [
    {
     "name": "stdout",
     "output_type": "stream",
     "text": [
      "  (0, 8)\t1.0\n",
      "  (0, 2)\t1.0\n",
      "  (0, 0)\t1.0\n",
      "  (1, 5)\t1.0\n",
      "  (1, 3)\t1.0\n",
      "  (1, 1)\t1.0\n",
      "  (2, 6)\t1.0\n",
      "  (2, 4)\t1.0\n",
      "  (2, 0)\t1.0\n",
      "  (3, 7)\t1.0\n",
      "  (3, 2)\t1.0\n",
      "  (3, 1)\t1.0\n",
      "(4, 9)\n",
      "  (0, 8)\t1.0\n",
      "  (0, 2)\t1.0\n",
      "  (0, 0)\t1.0\n",
      "  (1, 5)\t1.0\n",
      "  (1, 3)\t1.0\n",
      "  (1, 1)\t1.0\n",
      "  (2, 6)\t1.0\n",
      "  (2, 4)\t1.0\n",
      "  (2, 0)\t1.0\n",
      "  (3, 7)\t1.0\n",
      "  (3, 2)\t1.0\n",
      "  (3, 1)\t1.0\n",
      "(4, 9)\n"
     ]
    },
    {
     "name": "stderr",
     "output_type": "stream",
     "text": [
      "/Library/Frameworks/Python.framework/Versions/3.6/lib/python3.6/site-packages/sklearn/preprocessing/_encoders.py:368: FutureWarning: The handling of integer data will change in version 0.22. Currently, the categories are determined based on the range [0, max(values)], while in the future they will be determined based on the unique values.\n",
      "If you want the future behaviour and silence this warning, you can specify \"categories='auto'\".\n",
      "In case you used a LabelEncoder before this OneHotEncoder to convert the categories to integers, then you can now use the OneHotEncoder directly.\n",
      "  warnings.warn(msg, FutureWarning)\n",
      "/Library/Frameworks/Python.framework/Versions/3.6/lib/python3.6/site-packages/sklearn/preprocessing/_encoders.py:368: FutureWarning: The handling of integer data will change in version 0.22. Currently, the categories are determined based on the range [0, max(values)], while in the future they will be determined based on the unique values.\n",
      "If you want the future behaviour and silence this warning, you can specify \"categories='auto'\".\n",
      "In case you used a LabelEncoder before this OneHotEncoder to convert the categories to integers, then you can now use the OneHotEncoder directly.\n",
      "  warnings.warn(msg, FutureWarning)\n"
     ]
    }
   ],
   "source": [
    "#Encoding categorical features\n",
    "enc = preprocessing.OneHotEncoder()\n",
    "x=enc.fit_transform([['0', '0', '3'], ['1', '1', '0'], ['0', '2', '1'], ['1', '0', '2']])\n",
    "print(x)\n",
    "print(x.shape)\n",
    "x=enc.fit_transform([['0', '0', '3'], ['1', '1', '0'], ['0', '2', '1'], ['1', '0', '2']])\n",
    "print(x)\n",
    "print(x.shape)"
   ]
  },
  {
   "cell_type": "code",
   "execution_count": null,
   "metadata": {
    "id": "3jusJ89RZA1n",
    "outputId": "8d14ae22-064c-498c-8075-1d402a9229da"
   },
   "outputs": [
    {
     "name": "stdout",
     "output_type": "stream",
     "text": [
      "['amsterdam', 'paris', 'tokyo']\n",
      "['tokyo', 'tokyo', 'paris']\n"
     ]
    }
   ],
   "source": [
    "le = preprocessing.LabelEncoder()\n",
    "le.fit([\"paris\", \"paris\", \"tokyo\", \"amsterdam\"])\n",
    "\n",
    "print(list(le.classes_))\n",
    "le.transform([\"tokyo\", \"tokyo\", \"paris\"]) \n",
    "\n",
    "print(list(le.inverse_transform([2, 2, 1])))"
   ]
  },
  {
   "cell_type": "code",
   "execution_count": null,
   "metadata": {
    "id": "G66TFgXSZA1r",
    "outputId": "75949fe4-639f-4b38-f8d0-424be13f84b5"
   },
   "outputs": [
    {
     "name": "stdout",
     "output_type": "stream",
     "text": [
      "[[4.         2.        ]\n",
      " [6.         3.66666667]\n",
      " [7.         6.        ]]\n"
     ]
    },
    {
     "name": "stderr",
     "output_type": "stream",
     "text": [
      "/Library/Frameworks/Python.framework/Versions/3.6/lib/python3.6/site-packages/sklearn/utils/deprecation.py:58: DeprecationWarning: Class Imputer is deprecated; Imputer was deprecated in version 0.20 and will be removed in 0.22. Import impute.SimpleImputer from sklearn instead.\n",
      "  warnings.warn(msg, category=DeprecationWarning)\n"
     ]
    }
   ],
   "source": [
    "#missing values\n",
    "\n",
    "import numpy as np\n",
    "from sklearn.preprocessing import Imputer\n",
    "imp = Imputer(missing_values='NaN', strategy='mean', axis=0)\n",
    "imp.fit([[1, 2], [np.nan, 3], [7, 6]])\n",
    "X = [[np.nan, 2], [6, np.nan], [7, 6]]\n",
    "print(imp.transform(X))\n"
   ]
  },
  {
   "cell_type": "code",
   "execution_count": null,
   "metadata": {
    "id": "DD9T4Lq6ZA1w",
    "outputId": "13c20f2a-fe51-48dd-f0d8-85ca6c830266"
   },
   "outputs": [
    {
     "name": "stdout",
     "output_type": "stream",
     "text": [
      "[[0 1]\n",
      " [2 3]\n",
      " [4 5]]\n",
      "[[ 1.  0.  1.  0.  0.  1.]\n",
      " [ 1.  2.  3.  4.  6.  9.]\n",
      " [ 1.  4.  5. 16. 20. 25.]]\n"
     ]
    }
   ],
   "source": [
    "#genersating polynomial features\n",
    "#https://scikit-learn.org/stable/modules/generated/sklearn.preprocessing.PolynomialFeatures.html\n",
    "\n",
    "import numpy as np\n",
    "from sklearn.preprocessing import PolynomialFeatures\n",
    "X = np.arange(6).reshape(3, 2)\n",
    "print(X)\n",
    "poly = PolynomialFeatures(2)\n",
    "print(poly.fit_transform(X))"
   ]
  },
  {
   "cell_type": "code",
   "execution_count": null,
   "metadata": {
    "id": "H0BwiuDWZA11"
   },
   "outputs": [],
   "source": []
  },
  {
   "cell_type": "code",
   "execution_count": null,
   "metadata": {
    "id": "JrqY-gBoqpQ3"
   },
   "outputs": [],
   "source": []
  }
 ],
 "metadata": {
  "colab": {
   "name": "Tutorial Preprocessing Scikit(Edoardo).ipynb",
   "provenance": []
  },
  "kernelspec": {
   "display_name": "Python 3 (ipykernel)",
   "language": "python",
   "name": "python3"
  },
  "language_info": {
   "codemirror_mode": {
    "name": "ipython",
    "version": 3
   },
   "file_extension": ".py",
   "mimetype": "text/x-python",
   "name": "python",
   "nbconvert_exporter": "python",
   "pygments_lexer": "ipython3",
   "version": "3.7.7"
  }
 },
 "nbformat": 4,
 "nbformat_minor": 1
}
