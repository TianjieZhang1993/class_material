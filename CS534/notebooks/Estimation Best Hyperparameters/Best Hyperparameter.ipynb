{
 "cells": [
  {
   "cell_type": "code",
   "execution_count": null,
   "metadata": {
    "id": "pGLFHiI726bY"
   },
   "outputs": [],
   "source": [
    "import numpy as np\n",
    "import pandas as pd\n",
    "from sklearn.model_selection import StratifiedKFold,KFold\n",
    "from sklearn.linear_model import LogisticRegression\n",
    "data = pd.read_csv('iris.csv',sep=',').values\n",
    "from sklearn.metrics import f1_score\n",
    "from sklearn.metrics import classification_report\n",
    "from sklearn.preprocessing import StandardScaler"
   ]
  },
  {
   "cell_type": "code",
   "execution_count": null,
   "metadata": {
    "id": "OnflFNEb26be"
   },
   "outputs": [],
   "source": [
    "X=data[:,0:4]\n",
    "y=data[:,4]\n",
    "def val(s):\n",
    "    if s=='Iris-virginica':\n",
    "        return 1\n",
    "    return 0\n",
    "y=np.array([val(x) for x in y])\n"
   ]
  },
  {
   "cell_type": "code",
   "execution_count": null,
   "metadata": {
    "id": "t0kLPceW26bg"
   },
   "outputs": [],
   "source": [
    "from sklearn.model_selection import train_test_split\n",
    "X_train, X_test, y_train, y_test = train_test_split(X, y, test_size=0.33, random_state=42)"
   ]
  },
  {
   "cell_type": "code",
   "execution_count": null,
   "metadata": {
    "id": "8kERU5Wt26bi"
   },
   "outputs": [],
   "source": [
    "#scaler\n",
    "scaler = StandardScaler()\n",
    "X_train=scaler.fit_transform(X_train)\n",
    "X_test=scaler.transform(X_test)"
   ]
  },
  {
   "cell_type": "code",
   "execution_count": null,
   "metadata": {
    "id": "kR3RK8Y126bj",
    "outputId": "b1209a30-ab91-4fbc-f9b5-aff13fd840d5"
   },
   "outputs": [
    {
     "name": "stdout",
     "output_type": "stream",
     "text": [
      "best C:  5\n",
      "best F1:  0.978909978909979\n",
      "              precision    recall  f1-score   support\n",
      "\n",
      "           0       1.00      0.91      0.95        34\n",
      "           1       0.84      1.00      0.91        16\n",
      "\n",
      "    accuracy                           0.94        50\n",
      "   macro avg       0.92      0.96      0.93        50\n",
      "weighted avg       0.95      0.94      0.94        50\n",
      "\n"
     ]
    }
   ],
   "source": [
    "C=[0.001,0.005,0.01,0.05,0.1,0.5,1,5,10,50,100,500,1000,1000,10000000]\n",
    "bestclassifier=LogisticRegression(random_state=0, class_weight='balanced',penalty='l2')\n",
    "bestC=0\n",
    "bestValue=-1\n",
    "cv=10\n",
    "for c in C:\n",
    "    avgF1=0\n",
    "    skf = StratifiedKFold(n_splits=cv,random_state=10,shuffle=True )\n",
    "    for train_index, val_index in skf.split(X_train, y_train):\n",
    "        X_train1=X_train[train_index]\n",
    "        X_val=X_train[val_index]\n",
    "        y_train1=y_train[train_index]\n",
    "        y_val=y_train[val_index]\n",
    "        clf=LogisticRegression(random_state=0, class_weight='balanced',C=c,penalty='l2')\n",
    "        clf.fit(X_train1,y_train1)\n",
    "        y_pred_val=clf.predict(X_val)\n",
    "        avgF1+=f1_score(y_val, y_pred_val, average='macro')\n",
    "    avgF1=avgF1/cv\n",
    "    if bestValue<avgF1:\n",
    "        bestValue=avgF1\n",
    "        bestC=c\n",
    "        bestclassifier=clf\n",
    "print('best C: ',bestC)\n",
    "print('best F1: ',bestValue)\n",
    "#testing\n",
    "y_pred=bestclassifier.predict(X_test)\n",
    "print(classification_report(y_test, y_pred))\n",
    "        \n",
    "        \n",
    "        \n",
    "    "
   ]
  },
  {
   "cell_type": "code",
   "execution_count": null,
   "metadata": {
    "id": "QC9yFi-X26bl"
   },
   "outputs": [],
   "source": []
  }
 ],
 "metadata": {
  "colab": {
   "name": "Best Hyperparameter.ipynb",
   "provenance": []
  },
  "kernelspec": {
   "display_name": "Python 3",
   "language": "python",
   "name": "python3"
  },
  "language_info": {
   "codemirror_mode": {
    "name": "ipython",
    "version": 3
   },
   "file_extension": ".py",
   "mimetype": "text/x-python",
   "name": "python",
   "nbconvert_exporter": "python",
   "pygments_lexer": "ipython3",
   "version": "3.8.8"
  }
 },
 "nbformat": 4,
 "nbformat_minor": 1
}
