{
 "cells": [
  {
   "cell_type": "code",
   "execution_count": 1,
   "metadata": {},
   "outputs": [],
   "source": [
    "import pandas as pd\n",
    "import numpy as np\n",
    "import matplotlib.pyplot as plt"
   ]
  },
  {
   "cell_type": "code",
   "execution_count": 4,
   "metadata": {},
   "outputs": [],
   "source": [
    "df_probe = pd.read_csv(\"module_level_aggregations_data.csv\")"
   ]
  },
  {
   "cell_type": "code",
   "execution_count": 5,
   "metadata": {},
   "outputs": [],
   "source": [
    "del data"
   ]
  },
  {
   "cell_type": "code",
   "execution_count": 209,
   "metadata": {},
   "outputs": [],
   "source": [
    "#Remove all columns with None\n",
    "df_probe[df_probe == 'None'] = np.nan\n",
    "df_probe = df_probe.dropna(axis = 1, how ='any')\n"
   ]
  },
  {
   "cell_type": "code",
   "execution_count": 212,
   "metadata": {},
   "outputs": [
    {
     "name": "stdout",
     "output_type": "stream",
     "text": [
      "(979957, 6)\n",
      "(979688, 6)\n"
     ]
    }
   ],
   "source": [
    "#Load Dell Data\n",
    "df_dell = pd.read_csv(\"dell.csv\")\n",
    "\n",
    "\n",
    "#df_dell.to_csv(\"dell.csv\", index=False)\n",
    "\n",
    "# Keep only PASS or VID\n",
    "print(df_dell.shape)\n",
    "df_dell = df_dell[(df_dell.response == 'PASS') | (df_dell.response == 'VID') ]\n",
    "df_dell.head(3)\n",
    "print(df_dell.shape)\n",
    "\n",
    "# Drop FA Dispo and FAE Verification columns\n",
    "\n",
    "df_dell = df_dell.drop(columns = [ 'FA.Disposition', 'FAE.Verification'] )\n"
   ]
  },
  {
   "cell_type": "code",
   "execution_count": 16,
   "metadata": {},
   "outputs": [
    {
     "name": "stdout",
     "output_type": "stream",
     "text": [
      "(1069872, 44)\n"
     ]
    },
    {
     "name": "stderr",
     "output_type": "stream",
     "text": [
      "C:\\Users\\sayyapureddi\\AppData\\Local\\Continuum\\anaconda3\\lib\\site-packages\\pandas\\core\\generic.py:4619: SettingWithCopyWarning: \n",
      "A value is trying to be set on a copy of a slice from a DataFrame\n",
      "\n",
      "See the caveats in the documentation: http://pandas.pydata.org/pandas-docs/stable/indexing.html#indexing-view-versus-copy\n",
      "  self._update_inplace(new_data)\n"
     ]
    }
   ],
   "source": [
    "# Join both pandas on key=MSN .\n",
    "df_join_prb_dell = pd.merge(df_probe, df_dell, how='inner', on=['MSN'])\n",
    "print(df_join_prb_dell.shape)\n",
    "df_join_prb_dell.head(2)\n",
    "\n",
    "#Rename Column names in dell df.\n",
    "df_join_prb_dell.rename(columns={'Fiscal.Month..MM.': 'MM', 'Fiscal.Year..YYYY.': 'YYYY'}, inplace=True)\n",
    "df_join_prb_dell.columns\n",
    "\n",
    "# Grab data only for Months 4,5,6\n",
    "df_month456 = df_join_prb_dell.query('MM ==4 | MM ==5 | MM ==6')\n",
    "\n",
    "#Change response to numerical\n",
    "df_month456.response.replace(to_replace=dict(PASS=1, VID=0), inplace=True)\n",
    "\n",
    "# drop Nan columns\n",
    "df_month456 = df_month456.dropna(axis=0, how='all')\n",
    "\n"
   ]
  },
  {
   "cell_type": "code",
   "execution_count": 122,
   "metadata": {},
   "outputs": [],
   "source": [
    "from sklearn.model_selection import train_test_split\n",
    "from sklearn.preprocessing import StandardScaler\n",
    "\n",
    "#X_train, X_test, y_train, y_test = train_test_split(X, y, test_size=0.2, stratify=y)\n",
    "df_month456 = df_month456.drop(columns=['MM','YYYY'])\n",
    "df_train, df_test = train_test_split(df_month456, test_size=0.2, stratify=df_month456['response'])"
   ]
  },
  {
   "cell_type": "markdown",
   "metadata": {},
   "source": [
    "## Data description:  This data set has 40 features and has a binary classification. This data is highly imbalanced. The majority class is 98%.\n",
    "\n",
    "The data was scaled initially. Dimentionality reduction included looking at PCA. 95% of the variance was captured by 19 features. The data was scaled accordingly.\n",
    "\n",
    "Given the imbalanced nature of the data, the first attempt at classification fared poorly. I then decided to balance out the data using the GMM algorithm. I filled in additional data using the GMM algorithm. The algorithm identified 4 distributions. \n",
    "\n",
    "The data almost double on account of the balancing of the class. At ths point the data shot up to 240K rows of data. \n",
    "\n",
    "Based on the large data set and also the large amount of features, I decided that some of the algorithms had to be ruled out. SVM with kernels as predicted would not finsih even after 15 mins, at which time I retarted the Jupyter kernel.\n",
    "\n",
    "I also ran feature importance algo`s in the hope of finding something useful. All the features more or less had the same features. I also tried using DBSCAN to see if it would result in some sort of insight. DBSCAN had difficulty carrying out clustering. \n",
    "\n",
    "As a last resort , I tried using Adaboost with decision trees to see if it would be successful. This gave a 50% mean accuracy. The results are tabulated in the rest of the notebook."
   ]
  },
  {
   "cell_type": "code",
   "execution_count": 123,
   "metadata": {},
   "outputs": [],
   "source": [
    "X_train = df_train.iloc[:,1:41]\n",
    "y_train = df_train.iloc[:,41]\n",
    "\n",
    "X_test = df_test.iloc[:,1:41]\n",
    "y_test = df_test.iloc[:,41]\n",
    "\n",
    "scaler = StandardScaler()\n",
    "XS_train=scaler.fit_transform(X_train) \n",
    "XS_test=scaler.transform(X_test)"
   ]
  },
  {
   "cell_type": "code",
   "execution_count": null,
   "metadata": {},
   "outputs": [],
   "source": []
  },
  {
   "cell_type": "markdown",
   "metadata": {},
   "source": [
    "### Dimensionality Reduction using PCA"
   ]
  },
  {
   "cell_type": "code",
   "execution_count": 92,
   "metadata": {},
   "outputs": [
    {
     "name": "stdout",
     "output_type": "stream",
     "text": [
      "[ 0.21931869  0.38952332  0.47826782  0.55081303  0.60524108  0.65612963\n",
      "  0.70437282  0.74240625  0.7775609   0.80784088  0.83690682  0.86491177\n",
      "  0.8874353   0.90314211  0.91669936  0.92929292  0.94145628  0.94928191\n",
      "  0.95643024  0.9626873   0.96831925  0.97263399  0.97649719  0.9793418\n",
      "  0.98203934  0.98460186  0.98695689  0.98908492  0.99104673  0.99280784\n",
      "  0.99414857  0.9954071   0.99662193  0.99763109  0.99844157  0.99913165\n",
      "  0.99970347  1.          1.          1.        ]\n"
     ]
    }
   ],
   "source": [
    "from sklearn.decomposition import PCA \n",
    "\n",
    "\n",
    "pca_sub = PCA(n_components=XS_train.shape[1]) #2-dimensional PCA\n",
    "pca_sub.fit_transform(XS_train)\n",
    "cum_array = pca_sub.explained_variance_ratio_.cumsum()\n",
    "print(cum_array)"
   ]
  },
  {
   "cell_type": "code",
   "execution_count": 93,
   "metadata": {},
   "outputs": [
    {
     "data": {
      "text/plain": [
       "<matplotlib.text.Text at 0x20019f92550>"
      ]
     },
     "execution_count": 93,
     "metadata": {},
     "output_type": "execute_result"
    },
    {
     "data": {
      "image/png": "[encoded data removed]",
      "text/plain": [
       "<matplotlib.figure.Figure at 0x20016712978>"
      ]
     },
     "metadata": {},
     "output_type": "display_data"
    }
   ],
   "source": [
    "plt.scatter(range(XS_train.shape[1]), cum_array, color='red')\n",
    "plt.title(\"Cumulative variance with components\")"
   ]
  },
  {
   "cell_type": "markdown",
   "metadata": {},
   "source": [
    "### 18 components capture 95% of the variance."
   ]
  },
  {
   "cell_type": "code",
   "execution_count": 94,
   "metadata": {},
   "outputs": [],
   "source": [
    "pca_sub = PCA(n_components=18) # 15-dimensional PCA\n",
    "XPCA_train = pd.DataFrame(pca_sub.fit_transform(XS_train))\n",
    "XPCA_test = pd.DataFrame(pca_sub.fit_transform(XS_test))"
   ]
  },
  {
   "cell_type": "code",
   "execution_count": 120,
   "metadata": {},
   "outputs": [],
   "source": [
    "from sklearn import tree\n",
    "\n",
    "clf = tree.DecisionTreeClassifier(max_depth=20)\n",
    "clf.fit(XPCA_train, y_train)\n",
    "\n",
    "y_pred = clf.predict(XPCA_test)\n",
    "ytr_pred = clf.predict(XPCA_train)"
   ]
  },
  {
   "cell_type": "code",
   "execution_count": 121,
   "metadata": {},
   "outputs": [
    {
     "name": "stdout",
     "output_type": "stream",
     "text": [
      "Accuracy train 1.0\n",
      "confusion matrix train [[    54      0]\n",
      " [     0 124506]]\n",
      "fscore  1.0\n",
      "Accuracy 0.999068721901\n",
      "confusion matrix [[    0    13]\n",
      " [   16 31111]]\n",
      "fscore  0.99953414403\n"
     ]
    }
   ],
   "source": [
    "from sklearn.metrics import confusion_matrix,precision_recall_fscore_support,accuracy_score\n",
    "from sklearn.metrics import f1_score\n",
    "\n",
    "print('Accuracy train', accuracy_score(y_train, ytr_pred))\n",
    "print('confusion matrix train',confusion_matrix(y_train, ytr_pred))\n",
    "print('fscore ',f1_score(y_train, ytr_pred))\n",
    "print('Accuracy', accuracy_score(y_test, y_pred))\n",
    "print('confusion matrix',confusion_matrix(y_test, y_pred))\n",
    "print('fscore ',f1_score(y_test, y_pred))"
   ]
  },
  {
   "cell_type": "markdown",
   "metadata": {},
   "source": [
    "### As this is a very imbalanced data set, I will attempt to balance it by using GMM.\n",
    "\n",
    "One question which comes to my mind is wether it makes a difference to balance out the test set too. My understanding si that the test step only involves inference and hence it does not make a diference to balance out the test data."
   ]
  },
  {
   "cell_type": "code",
   "execution_count": 128,
   "metadata": {},
   "outputs": [],
   "source": [
    "df_fails = df_train[df_train['response'] == 0]\n",
    "X_set =df_fails.iloc[:,1:41].values"
   ]
  },
  {
   "cell_type": "code",
   "execution_count": 131,
   "metadata": {},
   "outputs": [
    {
     "data": {
      "image/png": "[encoded data removed]",
      "text/plain": [
       "<matplotlib.figure.Figure at 0x20012feb6d8>"
      ]
     },
     "metadata": {},
     "output_type": "display_data"
    }
   ],
   "source": [
    "from sklearn.mixture import GaussianMixture\n",
    "\n",
    "n_components =range(1,10)\n",
    "clfs = [GaussianMixture(n, covariance_type='full', random_state=0).fit(X_set)\n",
    "          for n in range(1,10)]\n",
    "\n",
    "plt.plot(n_components, [m.bic(X_set) for m in clfs], label='BIC')\n",
    "plt.plot(n_components, [m.aic(X_set) for m in clfs], label='AIC')\n",
    "\n",
    "plt.legend(loc='best')\n",
    "plt.xlabel('n_components');"
   ]
  },
  {
   "cell_type": "markdown",
   "metadata": {},
   "source": [
    "### The above plot indicates that there are 4 distributions in the data space."
   ]
  },
  {
   "cell_type": "code",
   "execution_count": 132,
   "metadata": {},
   "outputs": [
    {
     "name": "stdout",
     "output_type": "stream",
     "text": [
      "True\n"
     ]
    }
   ],
   "source": [
    "gmm = GaussianMixture(n_components=4, covariance_type='full', random_state=0)\n",
    "gmm.fit(X_set)\n",
    "#Check for gmm convergence\n",
    "print(gmm.converged_) "
   ]
  },
  {
   "cell_type": "code",
   "execution_count": 133,
   "metadata": {},
   "outputs": [],
   "source": [
    "# Generate samples\n",
    "new_set = gmm.sample(124452)"
   ]
  },
  {
   "cell_type": "code",
   "execution_count": 134,
   "metadata": {},
   "outputs": [
    {
     "data": {
      "text/plain": [
       "<function tuple.count>"
      ]
     },
     "execution_count": 134,
     "metadata": {},
     "output_type": "execute_result"
    }
   ],
   "source": [
    "new_set.count"
   ]
  },
  {
   "cell_type": "code",
   "execution_count": 140,
   "metadata": {},
   "outputs": [],
   "source": [
    "df_gen_minority =pd.DataFrame(new_set[0])"
   ]
  },
  {
   "cell_type": "code",
   "execution_count": 161,
   "metadata": {},
   "outputs": [],
   "source": [
    "X_train_new = np.vstack((X_train,new_set[0]))\n",
    "y_gen_min = np.zeros(new_set[0].shape[0]).reshape(124452,1)\n",
    "y_train_new = np.append(y_train,y_gen_min)"
   ]
  },
  {
   "cell_type": "code",
   "execution_count": 163,
   "metadata": {},
   "outputs": [],
   "source": [
    "scaler = StandardScaler()\n",
    "XS_train=scaler.fit_transform(X_train_new) \n",
    "XS_test=scaler.transform(X_test)"
   ]
  },
  {
   "cell_type": "code",
   "execution_count": 164,
   "metadata": {},
   "outputs": [
    {
     "name": "stdout",
     "output_type": "stream",
     "text": [
      "[ 0.22726557  0.37297123  0.46454959  0.53131506  0.58823788  0.63459986\n",
      "  0.67974828  0.71413653  0.74661955  0.776475    0.80332617  0.82840721\n",
      "  0.85337963  0.87833388  0.90029795  0.91615113  0.92834087  0.93899725\n",
      "  0.94742045  0.95526121  0.960733    0.96570568  0.97033002  0.97446078\n",
      "  0.97798671  0.9808698   0.98332674  0.9856526   0.98767183  0.98964054\n",
      "  0.99155243  0.99309494  0.99443083  0.9957333   0.99688945  0.99789984\n",
      "  0.99864884  0.99930141  0.99975637  1.        ]\n"
     ]
    }
   ],
   "source": [
    "from sklearn.decomposition import PCA \n",
    "\n",
    "\n",
    "pca_sub = PCA(n_components=XS_train.shape[1]) #2-dimensional PCA\n",
    "pca_sub.fit_transform(XS_train)\n",
    "cum_array = pca_sub.explained_variance_ratio_.cumsum()\n",
    "print(cum_array)"
   ]
  },
  {
   "cell_type": "code",
   "execution_count": 165,
   "metadata": {},
   "outputs": [
    {
     "data": {
      "text/plain": [
       "<matplotlib.text.Text at 0x20011bdb748>"
      ]
     },
     "execution_count": 165,
     "metadata": {},
     "output_type": "execute_result"
    },
    {
     "data": {
      "image/png": "[encoded data removed]",
      "text/plain": [
       "<matplotlib.figure.Figure at 0x200115fef98>"
      ]
     },
     "metadata": {},
     "output_type": "display_data"
    }
   ],
   "source": [
    "plt.scatter(range(XS_train.shape[1]), cum_array, color='red')\n",
    "plt.title(\"Cumulative variance with components\")"
   ]
  },
  {
   "cell_type": "markdown",
   "metadata": {},
   "source": [
    "### 19 components capture 95% of the variance."
   ]
  },
  {
   "cell_type": "code",
   "execution_count": 173,
   "metadata": {},
   "outputs": [],
   "source": [
    "pca_sub = PCA(n_components=19) # 19-dimensional PCA\n",
    "XPCA_train = pd.DataFrame(pca_sub.fit_transform(XS_train))\n",
    "XPCA_test = pd.DataFrame(pca_sub.fit_transform(XS_test))"
   ]
  },
  {
   "cell_type": "code",
   "execution_count": 176,
   "metadata": {},
   "outputs": [],
   "source": [
    "from sklearn import tree\n",
    "\n",
    "clf = tree.DecisionTreeClassifier(max_depth=15)\n",
    "clf.fit(XPCA_train, y_train_new)\n",
    "\n",
    "y_pred = clf.predict(XPCA_test)\n",
    "ytr_pred = clf.predict(XPCA_train)"
   ]
  },
  {
   "cell_type": "code",
   "execution_count": 177,
   "metadata": {},
   "outputs": [
    {
     "name": "stdout",
     "output_type": "stream",
     "text": [
      "Accuracy train 0.95349621705\n",
      "confusion matrix train [[113348  11158]\n",
      " [   422 124084]]\n",
      "fscore  0.955418328534\n",
      "Accuracy 0.340687219011\n",
      "confusion matrix [[    7     6]\n",
      " [20525 10602]]\n",
      "fscore  0.508062777046\n"
     ]
    }
   ],
   "source": [
    "from sklearn.metrics import confusion_matrix,precision_recall_fscore_support,accuracy_score\n",
    "from sklearn.metrics import f1_score\n",
    "\n",
    "print('Accuracy train', accuracy_score(y_train_new, ytr_pred))\n",
    "print('confusion matrix train',confusion_matrix(y_train_new, ytr_pred))\n",
    "print('fscore ',f1_score(y_train_new, ytr_pred))\n",
    "print('Accuracy', accuracy_score(y_test, y_pred))\n",
    "print('confusion matrix',confusion_matrix(y_test, y_pred))\n",
    "print('fscore ',f1_score(y_test, y_pred))"
   ]
  },
  {
   "cell_type": "code",
   "execution_count": 183,
   "metadata": {},
   "outputs": [
    {
     "name": "stdout",
     "output_type": "stream",
     "text": [
      "Feature ranking:\n",
      "1. feature 12 (0.173780)\n",
      "2. feature 13 (0.155264)\n",
      "3. feature 11 (0.148119)\n",
      "4. feature 1 (0.057121)\n",
      "5. feature 0 (0.056038)\n",
      "6. feature 18 (0.041434)\n",
      "7. feature 2 (0.040694)\n",
      "8. feature 16 (0.036406)\n",
      "9. feature 3 (0.030719)\n",
      "10. feature 10 (0.030471)\n",
      "11. feature 14 (0.029930)\n",
      "12. feature 17 (0.029819)\n",
      "13. feature 5 (0.029549)\n",
      "14. feature 4 (0.027409)\n",
      "15. feature 9 (0.026790)\n",
      "16. feature 15 (0.024020)\n",
      "17. feature 6 (0.023171)\n",
      "18. feature 8 (0.020528)\n",
      "19. feature 7 (0.018736)\n"
     ]
    },
    {
     "data": {
      "image/png": "[encoded data removed]",
      "text/plain": [
       "<matplotlib.figure.Figure at 0x20012c37b38>"
      ]
     },
     "metadata": {},
     "output_type": "display_data"
    }
   ],
   "source": [
    "from sklearn.datasets import make_classification\n",
    "from sklearn.ensemble import ExtraTreesClassifier\n",
    "\n",
    "\n",
    "\n",
    "\n",
    "# Build a forest and compute the feature importances\n",
    "forest = ExtraTreesClassifier(n_estimators=250,\n",
    "                              random_state=0)\n",
    "\n",
    "forest.fit(XPCA_train, y_train_new)\n",
    "importances = forest.feature_importances_\n",
    "std = np.std([tree.feature_importances_ for tree in forest.estimators_],\n",
    "             axis=0)\n",
    "indices = np.argsort(importances)[::-1]\n",
    "\n",
    "# Print the feature ranking\n",
    "print(\"Feature ranking:\")\n",
    "\n",
    "for f in range(XPCA_train.shape[1]):\n",
    "    print(\"%d. feature %d (%f)\" % (f + 1, indices[f], importances[indices[f]]))\n",
    "\n",
    "# Plot the feature importances of the forest\n",
    "plt.figure()\n",
    "plt.title(\"Feature importances\")\n",
    "plt.bar(range(XPCA_train.shape[1]), importances[indices],\n",
    "       color=\"r\", yerr=std[indices], align=\"center\")\n",
    "plt.xticks(range(XPCA_train.shape[1]), indices)\n",
    "plt.xlim([-1, XPCA_train.shape[1]])\n",
    "plt.show()"
   ]
  },
  {
   "cell_type": "markdown",
   "metadata": {},
   "source": [
    "### Using DBSCAN"
   ]
  },
  {
   "cell_type": "code",
   "execution_count": 196,
   "metadata": {},
   "outputs": [],
   "source": [
    "from sklearn.cluster import DBSCAN\n",
    "\n",
    "db = DBSCAN(eps=0.1, min_samples=10).fit(XPCA_train)\n",
    "core_samples_mask = np.zeros_like(db.labels_, dtype=bool)\n",
    "core_samples_mask[db.core_sample_indices_] = True\n",
    "labels = db.labels_\n",
    "\n",
    "# Number of clusters in labels, ignoring noise if present.\n",
    "n_clusters = len(set(labels)) - (1 if -1 in labels else 0)\n",
    "n_noise_ = list(labels).count(-1)\n",
    "#dict_eps[ep] = n_clusters"
   ]
  },
  {
   "cell_type": "code",
   "execution_count": 197,
   "metadata": {},
   "outputs": [
    {
     "data": {
      "text/plain": [
       "769"
      ]
     },
     "execution_count": 197,
     "metadata": {},
     "output_type": "execute_result"
    }
   ],
   "source": [
    "n_clusters"
   ]
  },
  {
   "cell_type": "code",
   "execution_count": 201,
   "metadata": {},
   "outputs": [
    {
     "ename": "KeyboardInterrupt",
     "evalue": "",
     "output_type": "error",
     "traceback": [
      "\u001b[1;31m---------------------------------------------------------------------------\u001b[0m",
      "\u001b[1;31mKeyboardInterrupt\u001b[0m                         Traceback (most recent call last)",
      "\u001b[1;32m<ipython-input-201-999fdf857c94>\u001b[0m in \u001b[0;36m<module>\u001b[1;34m()\u001b[0m\n\u001b[0;32m      7\u001b[0m \u001b[1;32mfor\u001b[0m \u001b[0mparam\u001b[0m \u001b[1;32min\u001b[0m \u001b[0mgamma_rbf\u001b[0m\u001b[1;33m:\u001b[0m\u001b[1;33m\u001b[0m\u001b[0m\n\u001b[0;32m      8\u001b[0m     \u001b[0mclf\u001b[0m \u001b[1;33m=\u001b[0m \u001b[0mSVC\u001b[0m\u001b[1;33m(\u001b[0m\u001b[0mC\u001b[0m\u001b[1;33m=\u001b[0m\u001b[0mparam\u001b[0m\u001b[1;33m,\u001b[0m\u001b[0mkernel\u001b[0m\u001b[1;33m=\u001b[0m\u001b[1;34m'rbf'\u001b[0m\u001b[1;33m,\u001b[0m\u001b[0mgamma\u001b[0m\u001b[1;33m=\u001b[0m\u001b[1;34m'auto'\u001b[0m\u001b[1;33m)\u001b[0m\u001b[1;33m\u001b[0m\u001b[0m\n\u001b[1;32m----> 9\u001b[1;33m     \u001b[0mclf\u001b[0m\u001b[1;33m.\u001b[0m\u001b[0mfit\u001b[0m\u001b[1;33m(\u001b[0m\u001b[0mXPCA_train\u001b[0m\u001b[1;33m,\u001b[0m \u001b[0my_train_new\u001b[0m\u001b[1;33m)\u001b[0m\u001b[1;33m\u001b[0m\u001b[0m\n\u001b[0m\u001b[0;32m     10\u001b[0m     \u001b[0mY_predTrain\u001b[0m \u001b[1;33m=\u001b[0m \u001b[0mclf\u001b[0m\u001b[1;33m.\u001b[0m\u001b[0mpredict\u001b[0m\u001b[1;33m(\u001b[0m\u001b[0mXPCA_train\u001b[0m\u001b[1;33m)\u001b[0m\u001b[1;33m\u001b[0m\u001b[0m\n\u001b[0;32m     11\u001b[0m     \u001b[0mY_predTest\u001b[0m \u001b[1;33m=\u001b[0m \u001b[0mclf\u001b[0m\u001b[1;33m.\u001b[0m\u001b[0mpredict\u001b[0m\u001b[1;33m(\u001b[0m\u001b[0mXPCA_test\u001b[0m\u001b[1;33m)\u001b[0m\u001b[1;33m\u001b[0m\u001b[0m\n",
      "\u001b[1;32m~\\AppData\\Local\\Continuum\\anaconda3\\lib\\site-packages\\sklearn\\svm\\base.py\u001b[0m in \u001b[0;36mfit\u001b[1;34m(self, X, y, sample_weight)\u001b[0m\n\u001b[0;32m    185\u001b[0m \u001b[1;33m\u001b[0m\u001b[0m\n\u001b[0;32m    186\u001b[0m         \u001b[0mseed\u001b[0m \u001b[1;33m=\u001b[0m \u001b[0mrnd\u001b[0m\u001b[1;33m.\u001b[0m\u001b[0mrandint\u001b[0m\u001b[1;33m(\u001b[0m\u001b[0mnp\u001b[0m\u001b[1;33m.\u001b[0m\u001b[0miinfo\u001b[0m\u001b[1;33m(\u001b[0m\u001b[1;34m'i'\u001b[0m\u001b[1;33m)\u001b[0m\u001b[1;33m.\u001b[0m\u001b[0mmax\u001b[0m\u001b[1;33m)\u001b[0m\u001b[1;33m\u001b[0m\u001b[0m\n\u001b[1;32m--> 187\u001b[1;33m         \u001b[0mfit\u001b[0m\u001b[1;33m(\u001b[0m\u001b[0mX\u001b[0m\u001b[1;33m,\u001b[0m \u001b[0my\u001b[0m\u001b[1;33m,\u001b[0m \u001b[0msample_weight\u001b[0m\u001b[1;33m,\u001b[0m \u001b[0msolver_type\u001b[0m\u001b[1;33m,\u001b[0m \u001b[0mkernel\u001b[0m\u001b[1;33m,\u001b[0m \u001b[0mrandom_seed\u001b[0m\u001b[1;33m=\u001b[0m\u001b[0mseed\u001b[0m\u001b[1;33m)\u001b[0m\u001b[1;33m\u001b[0m\u001b[0m\n\u001b[0m\u001b[0;32m    188\u001b[0m         \u001b[1;31m# see comment on the other call to np.iinfo in this file\u001b[0m\u001b[1;33m\u001b[0m\u001b[1;33m\u001b[0m\u001b[0m\n\u001b[0;32m    189\u001b[0m \u001b[1;33m\u001b[0m\u001b[0m\n",
      "\u001b[1;32m~\\AppData\\Local\\Continuum\\anaconda3\\lib\\site-packages\\sklearn\\svm\\base.py\u001b[0m in \u001b[0;36m_dense_fit\u001b[1;34m(self, X, y, sample_weight, solver_type, kernel, random_seed)\u001b[0m\n\u001b[0;32m    252\u001b[0m                 \u001b[0mcache_size\u001b[0m\u001b[1;33m=\u001b[0m\u001b[0mself\u001b[0m\u001b[1;33m.\u001b[0m\u001b[0mcache_size\u001b[0m\u001b[1;33m,\u001b[0m \u001b[0mcoef0\u001b[0m\u001b[1;33m=\u001b[0m\u001b[0mself\u001b[0m\u001b[1;33m.\u001b[0m\u001b[0mcoef0\u001b[0m\u001b[1;33m,\u001b[0m\u001b[1;33m\u001b[0m\u001b[0m\n\u001b[0;32m    253\u001b[0m                 \u001b[0mgamma\u001b[0m\u001b[1;33m=\u001b[0m\u001b[0mself\u001b[0m\u001b[1;33m.\u001b[0m\u001b[0m_gamma\u001b[0m\u001b[1;33m,\u001b[0m \u001b[0mepsilon\u001b[0m\u001b[1;33m=\u001b[0m\u001b[0mself\u001b[0m\u001b[1;33m.\u001b[0m\u001b[0mepsilon\u001b[0m\u001b[1;33m,\u001b[0m\u001b[1;33m\u001b[0m\u001b[0m\n\u001b[1;32m--> 254\u001b[1;33m                 max_iter=self.max_iter, random_seed=random_seed)\n\u001b[0m\u001b[0;32m    255\u001b[0m \u001b[1;33m\u001b[0m\u001b[0m\n\u001b[0;32m    256\u001b[0m         \u001b[0mself\u001b[0m\u001b[1;33m.\u001b[0m\u001b[0m_warn_from_fit_status\u001b[0m\u001b[1;33m(\u001b[0m\u001b[1;33m)\u001b[0m\u001b[1;33m\u001b[0m\u001b[0m\n",
      "\u001b[1;31mKeyboardInterrupt\u001b[0m: "
     ]
    }
   ],
   "source": [
    "from sklearn.svm import SVC\n",
    "\n",
    "gamma_rbf = [0.1]\n",
    "SVMtrainAcc = []\n",
    "SVMtestAcc = []\n",
    "\n",
    "for param in gamma_rbf:\n",
    "    clf = SVC(C=param,kernel='rbf',gamma='auto')\n",
    "    clf.fit(XPCA_train, y_train_new)\n",
    "    Y_predTrain = clf.predict(XPCA_train)\n",
    "    Y_predTest = clf.predict(XPCA_test)\n",
    "    SVMtrainAcc.append(accuracy_score(y_train_new, Y_predTrain))\n",
    "    SVMtestAcc.append(accuracy_score(y_test, Y_predTest))\n",
    "\n",
    "plt.plot(gamma_rbf, SVMtrainAcc, 'ro-', gamma_rbf, SVMtestAcc,'bv--')\n",
    "plt.legend(['Training Accuracy','Test Accuracy'])\n",
    "plt.xlabel('C')\n",
    "plt.xscale('log')\n",
    "plt.ylabel('Accuracy')"
   ]
  },
  {
   "cell_type": "code",
   "execution_count": 202,
   "metadata": {},
   "outputs": [
    {
     "data": {
      "text/plain": [
       "0.52228644829800897"
      ]
     },
     "execution_count": 202,
     "metadata": {},
     "output_type": "execute_result"
    }
   ],
   "source": [
    "from sklearn.ensemble import AdaBoostClassifier\n",
    "from sklearn.datasets import make_classification\n",
    "\n",
    "clf = AdaBoostClassifier(n_estimators=100, random_state=0)\n",
    "clf.fit(XPCA_train, y_train_new) \n",
    "\n",
    "y_pred = clf.predict(XPCA_test)\n",
    "\n",
    "\n",
    "\n",
    "clf.feature_importances_ \n",
    "\n",
    "\n",
    "clf.score(XPCA_test, y_test)"
   ]
  },
  {
   "cell_type": "code",
   "execution_count": 200,
   "metadata": {},
   "outputs": [
    {
     "data": {
      "text/plain": [
       "array([ 0.07,  0.1 ,  0.05,  0.02,  0.05,  0.08,  0.02,  0.02,  0.02,\n",
       "        0.04,  0.05,  0.07,  0.1 ,  0.08,  0.04,  0.04,  0.08,  0.03,  0.04])"
      ]
     },
     "execution_count": 200,
     "metadata": {},
     "output_type": "execute_result"
    }
   ],
   "source": [
    "clf.feature_importances_ "
   ]
  },
  {
   "cell_type": "code",
   "execution_count": 203,
   "metadata": {},
   "outputs": [
    {
     "data": {
      "text/plain": [
       "array([ 1.,  0.,  0., ...,  0.,  1.,  0.])"
      ]
     },
     "execution_count": 203,
     "metadata": {},
     "output_type": "execute_result"
    }
   ],
   "source": []
  },
  {
   "cell_type": "code",
   "execution_count": null,
   "metadata": {},
   "outputs": [],
   "source": []
  }
 ],
 "metadata": {
  "kernelspec": {
   "display_name": "Python 3",
   "language": "python",
   "name": "python3"
  },
  "language_info": {
   "codemirror_mode": {
    "name": "ipython",
    "version": 3
   },
   "file_extension": ".py",
   "mimetype": "text/x-python",
   "name": "python",
   "nbconvert_exporter": "python",
   "pygments_lexer": "ipython3",
   "version": "3.6.4"
  }
 },
 "nbformat": 4,
 "nbformat_minor": 2
}
