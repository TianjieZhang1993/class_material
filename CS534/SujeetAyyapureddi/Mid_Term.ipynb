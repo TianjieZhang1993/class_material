{
 "cells": [
  {
   "cell_type": "code",
   "execution_count": null,
   "metadata": {},
   "outputs": [],
   "source": [
    "import pandas as pd\n",
    "import numpy as np\n",
    "import matplotlib.pyplot as pt"
   ]
  },
  {
   "cell_type": "code",
   "execution_count": 2,
   "metadata": {},
   "outputs": [],
   "source": [
    "#Loading Iris data\n",
    "data = pd.read_csv(\"iris.csv\",header=None)\n",
    "data.columns=['sepal_length', 'sepal_width', 'petal_length', 'petal_width', 'class']\n",
    "data_val=data.values\n",
    "\n",
    "def classify_One_One(s):\n",
    "    if s=='Iris-versicolor':\n",
    "        return 1\n",
    "    elif  s=='Iris-setosa':\n",
    "        return 0\n",
    "    elif s=='Iris-virginica' :\n",
    "        return 2\n",
    "\n",
    "data['num_class'] = data['class'].apply(lambda x: classify_One_One(x))\n",
    "data =data.drop(columns=['class'])\n"
   ]
  },
  {
   "cell_type": "markdown",
   "metadata": {},
   "source": [
    "## 1.\t(20 points) Design and implement a gradient approach to determine the first dimension of the PCA transformation (compute derivatives). Suggestion minimize the Lagrange function."
   ]
  },
  {
   "cell_type": "code",
   "execution_count": 162,
   "metadata": {},
   "outputs": [
    {
     "name": "stdout",
     "output_type": "stream",
     "text": [
      "[ 0.40824782  0.40824378  0.81649907] 2.99993823872\n"
     ]
    }
   ],
   "source": [
    "def gen_eigen_power(A, num_simulations):\n",
    "    #A_def=A_def.reshape((A.shape[0], 1))\n",
    "    est_eigen = np.random.rand(A.shape[1])\n",
    "    lambd=0\n",
    "    for iter in range(num_simulations):\n",
    "        est_eigen_n = np.dot(A, est_eigen)\n",
    "        est_eigen_n_norm = np.linalg.norm(est_eigen_n)\n",
    "        est_eigen = est_eigen_n / est_eigen_n_norm\n",
    "        lambd=est_eigen_n_norm\n",
    "    return est_eigen,lambd\n",
    "\n",
    "eig_vec,lambd = gen_eigen_power(np.array([[1.0, 2, 0], [-2, 1, 2], [1, 3, 1]]), 10)\n",
    "print(eig_vec,lambd)"
   ]
  },
  {
   "cell_type": "markdown",
   "metadata": {},
   "source": [
    "### Using Gradient descent-- Theory"
   ]
  },
  {
   "cell_type": "markdown",
   "metadata": {},
   "source": [
    "$ Variance= V\\Sigma V^T $\n",
    "\n",
    "The goal is to maximize variance with the constraint that the new vector be a unit vector.\n",
    "$ VV^T =1 $\n",
    "\n",
    "Using Lagrange multipliers to maximize with constraints\n",
    "\n",
    "$ L= V\\Sigma V^T  -\\lambda(VV^T - 1) $\n",
    "\n",
    "Maximizing the Lagrange function.\n",
    "\n",
    "$ \\displaystyle \\frac{\\partial}{\\partial{\\lambda}} = -1* (VV^T - 1) $\n",
    "\n",
    "$ \\displaystyle \\frac{\\partial}{\\partial{V}} = 2* (\\Sigma V - \\lambda V) $\n",
    "\n",
    "Maximizing , implies gradient ascent\n",
    "\n",
    "$\\displaystyle V= V + \\frac{\\partial}{\\partial{V}} \\eta $\n",
    "\n",
    "$\\displaystyle \\lambda= \\lambda + \\frac{\\partial}{\\partial{\\lambda}} \\eta $\n",
    "\n",
    "The above equations are implemented in the code below\n",
    "\n",
    "Iterate till \n",
    "\n",
    "$ \\displaystyle \\frac{\\partial}{\\partial{V}} = 0 $\n",
    "\n"
   ]
  },
  {
   "cell_type": "code",
   "execution_count": 367,
   "metadata": {},
   "outputs": [],
   "source": [
    "A=np.array([[1.0, 2, 3], [3, 4, 5], [2, 6, -2]])\n",
    "A=A - np.mean(A, axis=0) # center the mean\n",
    "A\n",
    "\n",
    "# Gen covariance\n",
    "Cov = np.cov(A)\n",
    "Cov\n",
    "\n",
    "# seed vector is 3X1 in this case\n",
    "#seed_vec_trans = np.matrix(np.random.random(A.shape[1]))\n",
    "seed_vec_trans = np.matrix([0.8,0.8,0.8])\n",
    "seed_vec = np.transpose(seed_vec_trans)\n",
    "\n",
    "seed_lambda = 10\n",
    "\n",
    "eta =0.001 # learning rate\n",
    "\n",
    "\n"
   ]
  },
  {
   "cell_type": "code",
   "execution_count": 368,
   "metadata": {},
   "outputs": [
    {
     "name": "stdout",
     "output_type": "stream",
     "text": [
      "[[ 0.784]\n",
      " [ 0.784]\n",
      " [ 0.784]] 9.99908 -0.9200000000000004 [[-16.]\n",
      " [-16.]\n",
      " [-16.]]\n"
     ]
    }
   ],
   "source": [
    "del_L_lambda = -1*(np.asscalar(seed_vec_trans* seed_vec -1))\n",
    "del_L_vec = 2*(Cov*seed_vec - seed_lambda * seed_vec)\n",
    "\n",
    "seed_vec = seed_vec + eta *del_L_vec\n",
    "seed_lambda = seed_lambda + del_L_lambda*eta\n",
    "\n",
    "print(seed_vec, seed_lambda,del_L_lambda, del_L_vec )"
   ]
  },
  {
   "cell_type": "markdown",
   "metadata": {},
   "source": [
    "## 2. (20 points) Design and implement Design a gradient approach to determine the second dimension of the PCA transformation (compute derivatives). Suggestion minimize the Lagrange function"
   ]
  },
  {
   "cell_type": "markdown",
   "metadata": {},
   "source": [
    "## Calculation of the second eigen value/vector involves deflation where the first eigen value is reduced to 0."
   ]
  },
  {
   "cell_type": "code",
   "execution_count": 370,
   "metadata": {},
   "outputs": [
    {
     "name": "stdout",
     "output_type": "stream",
     "text": [
      "Eigen Vector1 =[ 0.40824829  0.40824829  0.81649658], lambda1=3.0\n",
      "Deflated Matrix = [[-0.22474487  0.77525513 -2.44948974]\n",
      " [-3.22474487 -0.22474487 -0.44948974]\n",
      " [-0.22474487  1.77525513 -1.44948974]]\n",
      "Eigen Vector2 =[ 0.37147564  0.92795256 -0.03016444], lambda2=2.65979665742\n"
     ]
    }
   ],
   "source": [
    "import numpy.linalg as la\n",
    "#eig_vec,lambd = gen_eigen_power(np.array([[1.0, 2, 0], [-2, 1, 2], [1, 3, 1]]), 10)\n",
    "eig_vec,lambd = gen_eigen_power(np.array([[1.0, 2, 0], [-2, 1, 2], [1, 3, 1]]), 100)\n",
    "print(\"Eigen Vector1 =%s, lambda1=%s\" %(eig_vec,lambd))\n",
    "\n",
    "\n",
    "def deflate(A,eig_vec,lambd):\n",
    "    vec=eig_vec/la.norm(eig_vec)\n",
    "    sub=vec*np.transpose(vec)\n",
    "    sub=lambd*vec\n",
    "    A= A - sub\n",
    "    return A\n",
    "\n",
    "A_def = deflate(np.array([[1.0, 2, 0], [-2, 1, 2], [1, 3, 1]]),eig_vec,lambd)\n",
    "print(\"Deflated Matrix = %s\" %(A_def))\n",
    "\n",
    "\n",
    "# Calculate second Eigen-vector \n",
    "eig_vec2,lambd2 = gen_eigen_power(A_def, 100)\n",
    "print(\"Eigen Vector2 =%s, lambda2=%s\" %(eig_vec2,lambd2))\n"
   ]
  },
  {
   "cell_type": "code",
   "execution_count": 326,
   "metadata": {},
   "outputs": [
    {
     "data": {
      "text/plain": [
       "(array([ 8.77899701, -0.51981411, -5.2591829 ]),\n",
       " array([[ 0.39181166,  0.90738715, -0.29996185],\n",
       "        [ 0.77108192, -0.35713048, -0.37620055],\n",
       "        [ 0.50191264, -0.22159961,  0.87663906]]))"
      ]
     },
     "execution_count": 326,
     "metadata": {},
     "output_type": "execute_result"
    }
   ],
   "source": [
    "w, v = la.eig(np.array([[1.0, 2, 3], [3, 4, 5], [2, 6, -2]]))\n",
    "w,v"
   ]
  },
  {
   "cell_type": "markdown",
   "metadata": {},
   "source": [
    "### Using Gradient descent for calculating the second principal component-- Theory"
   ]
  },
  {
   "cell_type": "markdown",
   "metadata": {},
   "source": [
    "$ Variance= V\\Sigma V^T $\n",
    "\n",
    "The first eigen vector is already claculated and is\n",
    "\n",
    "$ V_1 $\n",
    "\n",
    "The goal is to maximize variance with the constraint that the new vector be a unit vector.\n",
    "\n",
    "An additional constraint is imposed which is that the second PC is orthogonal to the first \n",
    "$ VV^T =1 $\n",
    "\n",
    "Using Lagrange multipliers to maximize with constraints\n",
    "\n",
    "$ L= V\\Sigma V^T  -\\lambda(VV^T - 1) - \\mu (VV_1) $\n",
    "\n",
    "\n"
   ]
  },
  {
   "cell_type": "markdown",
   "metadata": {},
   "source": [
    "## 3.\t(10 points) Describe the benefit of a gradient approach w.r.t. the SVD approach for the PCA transformation. "
   ]
  },
  {
   "cell_type": "markdown",
   "metadata": {},
   "source": [
    "$ A= U\\Sigma V^T $\n",
    "\n",
    "The SVD decomposition is shown above. The algorithm calls for calculation of three matrices which is very expensive. Furthermore the SVD approach generates all the eigen values as opposed to generation of required eigen values for the power method or the gradient approach. In the power method, the calculations are based off on matrix multiplication and not matrix generation. This makes the iterative methods cheaper computationally.\n",
    "\n",
    "The gradient descent is an iterative method and only involves incremental calculations as opposed to decomposition."
   ]
  },
  {
   "cell_type": "markdown",
   "metadata": {},
   "source": [
    "## 4.\t(20 points) By using a binary classifier (logistic regression or SVM) please implement in python the 2 different procedure (one vs. one, one vs. other) to handle the problem of more than two different classes (use the iris dataset). For reference use the following link .\n",
    "https://en.wikipedia.org/wiki/Multiclass_classification"
   ]
  },
  {
   "cell_type": "code",
   "execution_count": 84,
   "metadata": {},
   "outputs": [],
   "source": [
    "from sklearn.metrics import confusion_matrix,precision_recall_fscore_support,accuracy_score\n",
    "from sklearn.linear_model import LogisticRegression\n",
    "\n",
    "from sklearn.model_selection import train_test_split\n",
    "from sklearn.preprocessing import StandardScaler\n",
    "\n",
    "#X_train, X_test, y_train, y_test = train_test_split(X, y, test_size=0.2, stratify=y)\n",
    "X_train, X_test = train_test_split(data, test_size=0.2, stratify=data['num_class'])\n",
    "t=pd.DataFrame(X_train['num_class'])\n",
    "t=t.reset_index(drop=True)\n",
    "\n",
    "tst=pd.DataFrame(X_test['num_class'])\n",
    "tst=tst.reset_index(drop=True)\n",
    "\n",
    "#Scale data\n",
    "scaler = StandardScaler()\n",
    "XS_train=pd.DataFrame(scaler.fit_transform(X_train.iloc[:,0:4])) \n",
    "XS_train=XS_train.assign(num_class= t)\n",
    "\n",
    "#Split train data into 3 groups. 1-0n-1\n",
    "XS_01=(XS_train.loc[(XS_train['num_class']==0) | (XS_train['num_class']==1)]).values\n",
    "XS_12=(XS_train.loc[(XS_train['num_class']==1) | (XS_train['num_class']==2)]).values\n",
    "XS_02=(XS_train.loc[(XS_train['num_class']==0) | (XS_train['num_class']==2)]).values\n",
    "\n",
    "\n",
    "\n",
    "#Scale Test data and divide into 3 groups\n",
    "XS_test=pd.DataFrame(scaler.transform(X_test.iloc[:,0:4]))\n",
    "XS_test=XS_test.assign(num_class= tst)\n",
    "\n",
    "# Gen 3 train groups\n",
    "XS_train_01=XS_01[:,0:4]\n",
    "yS_train_01=XS_01[:,4]\n",
    "XS_train_12=XS_12[:,0:4]\n",
    "yS_train_12=XS_12[:,4]\n",
    "XS_train_02=XS_02[:,0:4]\n",
    "yS_train_02=XS_02[:,4]\n",
    "\n",
    "# Gen  test groups\n",
    "XS_test_val =XS_test.values\n",
    "XS_test_data=XS_test_val[:,0:4]\n",
    "yS_test_data=XS_test_val[:,4]\n",
    "\n",
    "\n"
   ]
  },
  {
   "cell_type": "code",
   "execution_count": 53,
   "metadata": {},
   "outputs": [
    {
     "name": "stdout",
     "output_type": "stream",
     "text": [
      "Accuracy of 1-on-1= 0.966666666667\n"
     ]
    }
   ],
   "source": [
    "# one vs one\n",
    "# K=3 for Iris dataset, implying 3 classifiers need to be created.\n",
    "\n",
    "clf_01 = LogisticRegression(random_state=0, solver='lbfgs').fit(XS_train_01,yS_train_01)\n",
    "clf_12 = LogisticRegression(random_state=0, solver='lbfgs').fit(XS_train_12,yS_train_12)\n",
    "clf_02 = LogisticRegression(random_state=0, solver='lbfgs').fit(XS_train_02,yS_train_02)\n",
    "\n",
    "\n",
    "y_pred_01=clf_01.predict(XS_test_data) \n",
    "y_pred_12=clf_12.predict(XS_test_data)\n",
    "y_pred_02=clf_02.predict(XS_test_data)\n",
    "\n",
    "#pd.DataFrame(y_pred_01,y_pred_12,y_pred_02)\n",
    "df = pd.DataFrame({'y_pred_01':y_pred_01, 'y_pred_12':y_pred_12, 'y_pred_02':y_pred_02})\n",
    "df['pred']=df.mode(axis=1)\n",
    "y_pred = df['pred'].values\n",
    "\n",
    "\n",
    "#acc=accuracy_score(yS_test, y_pred)\n",
    "print(\"Accuracy of 1-on-1=\", accuracy_score(yS_test_data, y_pred) )"
   ]
  },
  {
   "cell_type": "code",
   "execution_count": 87,
   "metadata": {},
   "outputs": [],
   "source": [
    "# one vs rest data preparation\n",
    "\n",
    "# Data for One-on-many\n",
    "XS_train_setosa=XS_train.copy()\n",
    "XS_train_versicolor=XS_train.copy()\n",
    "XS_train_virginica=XS_train.copy()\n",
    "\n",
    "def classify_One_Rest(c1,c2): # c1=Target Class, c2=Actual Class\n",
    "    if c1==c2:\n",
    "        return 1\n",
    "    else:\n",
    "        return 0\n",
    "    \n",
    "# setosa=0,versicolor=1,virginica=2\n",
    "\n",
    "XS_train_setosa['class'] = XS_train_setosa['num_class'].apply(lambda x:classify_One_Rest(x,0))\n",
    "XS_train_versicolor['class'] = XS_train_versicolor['num_class'].apply(lambda x:classify_One_Rest1(x,1))\n",
    "XS_train_virginica['class'] = XS_train_virginica['num_class'].apply(lambda x:classify_One_Rest2(x,2))"
   ]
  },
  {
   "cell_type": "code",
   "execution_count": 116,
   "metadata": {},
   "outputs": [
    {
     "name": "stdout",
     "output_type": "stream",
     "text": [
      "Accuracy of 1-on-rest= 0.933333333333\n"
     ]
    }
   ],
   "source": [
    "# one vs rest\n",
    "# K=3 for Iris dataset, implying 3 classifiers need to be created.\n",
    "\n",
    "clf_setosa = LogisticRegression(random_state=0, solver='lbfgs').fit(XS_train_setosa.iloc[:,0:4].values,XS_train_setosa.iloc[:,5].values)\n",
    "clf_versicolor = LogisticRegression(random_state=0, solver='lbfgs').fit(XS_train_versicolor.iloc[:,0:4].values,XS_train_versicolor.iloc[:,5].values)\n",
    "clf_virginica = LogisticRegression(random_state=0, solver='lbfgs').fit(XS_train_virginica.iloc[:,0:4].values,XS_train_virginica.iloc[:,5].values)\n",
    "\n",
    "#Predict values\n",
    "y_pred_setosa=clf_setosa.predict_proba(XS_test_data) \n",
    "y_pred_versicolor=clf_versicolor.predict_proba(XS_test_data) \n",
    "y_pred_virginica=clf_virginica.predict_proba(XS_test_data) \n",
    "\n",
    "df_one_rest = pd.DataFrame({'0':y_pred_setosa[:,1], '1':y_pred_versicolor[:,1], '2':y_pred_virginica[:,1]})\n",
    "y_argmax=df_one_rest.idxmax(axis=1).values\n",
    "print(\"Accuracy of 1-on-rest=\", accuracy_score(yS_test_data.astype(int), y_argmax.astype(int)) )"
   ]
  },
  {
   "cell_type": "markdown",
   "metadata": {},
   "source": [
    "### Accuracy using 1-on-1 is 0.966 while accuracy using 1-on-rest is 0.933"
   ]
  },
  {
   "cell_type": "markdown",
   "metadata": {},
   "source": [
    "## 5.\t(20 points) Extensively describe the overfitting and underfitting problem. Use execution examples with decision tree and SVM (with or without kernel). Use the scikit implementations."
   ]
  },
  {
   "cell_type": "markdown",
   "metadata": {},
   "source": [
    " Overfitting refers to the phenemon where the model learns the data very well, resulting in also learning noise. When the model is exposed to newer data, where the noise is not present, the model fails to perform adequately. This is known as overfitting. In other words the model is memorizing the data, as opposed to learning from it.\n",
    "\n",
    " Underfitting refers to the inability of the model to learn from the data. The parameters of the model are not suited to learn from the provided data.\n",
    "\n"
   ]
  },
  {
   "cell_type": "code",
   "execution_count": 200,
   "metadata": {},
   "outputs": [
    {
     "data": {
      "text/html": [
       "<div>\n",
       "<style scoped>\n",
       "    .dataframe tbody tr th:only-of-type {\n",
       "        vertical-align: middle;\n",
       "    }\n",
       "\n",
       "    .dataframe tbody tr th {\n",
       "        vertical-align: top;\n",
       "    }\n",
       "\n",
       "    .dataframe thead th {\n",
       "        text-align: right;\n",
       "    }\n",
       "</style>\n",
       "<table border=\"1\" class=\"dataframe\">\n",
       "  <thead>\n",
       "    <tr style=\"text-align: right;\">\n",
       "      <th></th>\n",
       "      <th>0</th>\n",
       "      <th>1</th>\n",
       "      <th>2</th>\n",
       "      <th>3</th>\n",
       "      <th>4</th>\n",
       "      <th>5</th>\n",
       "      <th>6</th>\n",
       "      <th>7</th>\n",
       "      <th>8</th>\n",
       "      <th>9</th>\n",
       "      <th>...</th>\n",
       "      <th>51</th>\n",
       "      <th>52</th>\n",
       "      <th>53</th>\n",
       "      <th>54</th>\n",
       "      <th>55</th>\n",
       "      <th>56</th>\n",
       "      <th>57</th>\n",
       "      <th>58</th>\n",
       "      <th>59</th>\n",
       "      <th>Class1</th>\n",
       "    </tr>\n",
       "  </thead>\n",
       "  <tbody>\n",
       "    <tr>\n",
       "      <th>0</th>\n",
       "      <td>0.0200</td>\n",
       "      <td>0.0371</td>\n",
       "      <td>0.0428</td>\n",
       "      <td>0.0207</td>\n",
       "      <td>0.0954</td>\n",
       "      <td>0.0986</td>\n",
       "      <td>0.1539</td>\n",
       "      <td>0.1601</td>\n",
       "      <td>0.3109</td>\n",
       "      <td>0.2111</td>\n",
       "      <td>...</td>\n",
       "      <td>0.0027</td>\n",
       "      <td>0.0065</td>\n",
       "      <td>0.0159</td>\n",
       "      <td>0.0072</td>\n",
       "      <td>0.0167</td>\n",
       "      <td>0.0180</td>\n",
       "      <td>0.0084</td>\n",
       "      <td>0.0090</td>\n",
       "      <td>0.0032</td>\n",
       "      <td>R</td>\n",
       "    </tr>\n",
       "    <tr>\n",
       "      <th>1</th>\n",
       "      <td>0.0453</td>\n",
       "      <td>0.0523</td>\n",
       "      <td>0.0843</td>\n",
       "      <td>0.0689</td>\n",
       "      <td>0.1183</td>\n",
       "      <td>0.2583</td>\n",
       "      <td>0.2156</td>\n",
       "      <td>0.3481</td>\n",
       "      <td>0.3337</td>\n",
       "      <td>0.2872</td>\n",
       "      <td>...</td>\n",
       "      <td>0.0084</td>\n",
       "      <td>0.0089</td>\n",
       "      <td>0.0048</td>\n",
       "      <td>0.0094</td>\n",
       "      <td>0.0191</td>\n",
       "      <td>0.0140</td>\n",
       "      <td>0.0049</td>\n",
       "      <td>0.0052</td>\n",
       "      <td>0.0044</td>\n",
       "      <td>R</td>\n",
       "    </tr>\n",
       "    <tr>\n",
       "      <th>2</th>\n",
       "      <td>0.0262</td>\n",
       "      <td>0.0582</td>\n",
       "      <td>0.1099</td>\n",
       "      <td>0.1083</td>\n",
       "      <td>0.0974</td>\n",
       "      <td>0.2280</td>\n",
       "      <td>0.2431</td>\n",
       "      <td>0.3771</td>\n",
       "      <td>0.5598</td>\n",
       "      <td>0.6194</td>\n",
       "      <td>...</td>\n",
       "      <td>0.0232</td>\n",
       "      <td>0.0166</td>\n",
       "      <td>0.0095</td>\n",
       "      <td>0.0180</td>\n",
       "      <td>0.0244</td>\n",
       "      <td>0.0316</td>\n",
       "      <td>0.0164</td>\n",
       "      <td>0.0095</td>\n",
       "      <td>0.0078</td>\n",
       "      <td>R</td>\n",
       "    </tr>\n",
       "  </tbody>\n",
       "</table>\n",
       "<p>3 rows × 61 columns</p>\n",
       "</div>"
      ],
      "text/plain": [
       "        0       1       2       3       4       5       6       7       8  \\\n",
       "0  0.0200  0.0371  0.0428  0.0207  0.0954  0.0986  0.1539  0.1601  0.3109   \n",
       "1  0.0453  0.0523  0.0843  0.0689  0.1183  0.2583  0.2156  0.3481  0.3337   \n",
       "2  0.0262  0.0582  0.1099  0.1083  0.0974  0.2280  0.2431  0.3771  0.5598   \n",
       "\n",
       "        9   ...        51      52      53      54      55      56      57  \\\n",
       "0  0.2111   ...    0.0027  0.0065  0.0159  0.0072  0.0167  0.0180  0.0084   \n",
       "1  0.2872   ...    0.0084  0.0089  0.0048  0.0094  0.0191  0.0140  0.0049   \n",
       "2  0.6194   ...    0.0232  0.0166  0.0095  0.0180  0.0244  0.0316  0.0164   \n",
       "\n",
       "       58      59  Class1  \n",
       "0  0.0090  0.0032       R  \n",
       "1  0.0052  0.0044       R  \n",
       "2  0.0095  0.0078       R  \n",
       "\n",
       "[3 rows x 61 columns]"
      ]
     },
     "execution_count": 200,
     "metadata": {},
     "output_type": "execute_result"
    }
   ],
   "source": [
    "data = pd.read_csv('sonar.csv',header=None)\n",
    "data.columns=[ 0,  1,  2,  3,  4,  5,  6,  7,  8,  9, 10, 11, 12, 13, 14, 15, 16,\n",
    "            17, 18, 19, 20, 21, 22, 23, 24, 25, 26, 27, 28, 29, 30, 31, 32, 33,\n",
    "            34, 35, 36, 37, 38, 39, 40, 41, 42, 43, 44, 45, 46, 47, 48, 49, 50,\n",
    "            51, 52, 53, 54, 55, 56, 57, 58, 59, 'Class1']\n",
    "data.head(3)"
   ]
  },
  {
   "cell_type": "code",
   "execution_count": 1,
   "metadata": {
    "scrolled": true
   },
   "outputs": [
    {
     "ename": "NameError",
     "evalue": "name 'pd' is not defined",
     "output_type": "error",
     "traceback": [
      "\u001b[0;31m---------------------------------------------------------------------------\u001b[0m",
      "\u001b[0;31mNameError\u001b[0m                                 Traceback (most recent call last)",
      "\u001b[0;32m<ipython-input-1-4cd7cb9628ce>\u001b[0m in \u001b[0;36m<module>\u001b[0;34m\u001b[0m\n\u001b[1;32m      2\u001b[0m \u001b[0;32mimport\u001b[0m \u001b[0mmatplotlib\u001b[0m\u001b[0;34m.\u001b[0m\u001b[0mpyplot\u001b[0m \u001b[0;32mas\u001b[0m \u001b[0mplt\u001b[0m\u001b[0;34m\u001b[0m\u001b[0;34m\u001b[0m\u001b[0m\n\u001b[1;32m      3\u001b[0m \u001b[0;34m\u001b[0m\u001b[0m\n\u001b[0;32m----> 4\u001b[0;31m \u001b[0mdata\u001b[0m \u001b[0;34m=\u001b[0m \u001b[0mpd\u001b[0m\u001b[0;34m.\u001b[0m\u001b[0mread_csv\u001b[0m\u001b[0;34m(\u001b[0m\u001b[0;34m'sonar.csv'\u001b[0m\u001b[0;34m,\u001b[0m\u001b[0mheader\u001b[0m\u001b[0;34m=\u001b[0m\u001b[0;32mNone\u001b[0m\u001b[0;34m)\u001b[0m\u001b[0;34m\u001b[0m\u001b[0;34m\u001b[0m\u001b[0m\n\u001b[0m\u001b[1;32m      5\u001b[0m data.columns=[ 0,  1,  2,  3,  4,  5,  6,  7,  8,  9, 10, 11, 12, 13, 14, 15, 16,\n\u001b[1;32m      6\u001b[0m             \u001b[0;36m17\u001b[0m\u001b[0;34m,\u001b[0m \u001b[0;36m18\u001b[0m\u001b[0;34m,\u001b[0m \u001b[0;36m19\u001b[0m\u001b[0;34m,\u001b[0m \u001b[0;36m20\u001b[0m\u001b[0;34m,\u001b[0m \u001b[0;36m21\u001b[0m\u001b[0;34m,\u001b[0m \u001b[0;36m22\u001b[0m\u001b[0;34m,\u001b[0m \u001b[0;36m23\u001b[0m\u001b[0;34m,\u001b[0m \u001b[0;36m24\u001b[0m\u001b[0;34m,\u001b[0m \u001b[0;36m25\u001b[0m\u001b[0;34m,\u001b[0m \u001b[0;36m26\u001b[0m\u001b[0;34m,\u001b[0m \u001b[0;36m27\u001b[0m\u001b[0;34m,\u001b[0m \u001b[0;36m28\u001b[0m\u001b[0;34m,\u001b[0m \u001b[0;36m29\u001b[0m\u001b[0;34m,\u001b[0m \u001b[0;36m30\u001b[0m\u001b[0;34m,\u001b[0m \u001b[0;36m31\u001b[0m\u001b[0;34m,\u001b[0m \u001b[0;36m32\u001b[0m\u001b[0;34m,\u001b[0m \u001b[0;36m33\u001b[0m\u001b[0;34m,\u001b[0m\u001b[0;34m\u001b[0m\u001b[0;34m\u001b[0m\u001b[0m\n",
      "\u001b[0;31mNameError\u001b[0m: name 'pd' is not defined"
     ]
    }
   ],
   "source": [
    "import numpy as np\n",
    "import matplotlib.pyplot as plt\n",
    "\n",
    "data = pd.read_csv('sonar.csv',header=None)\n",
    "data.columns=[ 0,  1,  2,  3,  4,  5,  6,  7,  8,  9, 10, 11, 12, 13, 14, 15, 16,\n",
    "            17, 18, 19, 20, 21, 22, 23, 24, 25, 26, 27, 28, 29, 30, 31, 32, 33,\n",
    "            34, 35, 36, 37, 38, 39, 40, 41, 42, 43, 44, 45, 46, 47, 48, 49, 50,\n",
    "            51, 52, 53, 54, 55, 56, 57, 58, 59, 'Class1']\n",
    "data.sample(4)\n",
    "\n",
    "def classify(x):\n",
    "    if x=='R':\n",
    "        return 1\n",
    "    else:\n",
    "        return 0\n",
    "\n",
    "data['Class']=data['Class1'].apply(classify)\n",
    "data = data.drop(columns=['Class1'])\n",
    "\n",
    "\n",
    "from sklearn import tree\n",
    "\n",
    "Y = data['Class']\n",
    "X = data.drop(['Class'],axis=1)\n",
    "\n",
    "\n",
    "\n",
    "#########################################\n",
    "# Training and Test set creation\n",
    "#########################################\n",
    "\n",
    "from sklearn.model_selection import train_test_split\n",
    "X_train, X_test, Y_train, Y_test = train_test_split(X, Y, test_size=0.1, random_state=1)\n",
    "\n",
    "from sklearn import tree\n",
    "from sklearn.metrics import accuracy_score\n",
    "\n",
    "#########################################\n",
    "# Model fitting and evaluation\n",
    "#########################################\n",
    "\n",
    "maxdepths = [2,3,4,5,6,7,8,9,10,15,20,25,30,35,40,45,50]\n",
    "\n",
    "trainAcc = np.zeros(len(maxdepths))\n",
    "testAcc = np.zeros(len(maxdepths))\n",
    "\n",
    "index = 0\n",
    "for depth in maxdepths:\n",
    "    clf = tree.DecisionTreeClassifier(max_depth=depth)\n",
    "    clf = clf.fit(X_train, Y_train)\n",
    "    Y_predTrain = clf.predict(X_train)\n",
    "    Y_predTest = clf.predict(X_test)\n",
    "    trainAcc[index] = accuracy_score(Y_train, Y_predTrain)\n",
    "    testAcc[index] = accuracy_score(Y_test, Y_predTest)\n",
    "    index += 1\n",
    "    \n",
    "#########################################\n",
    "# Plot of training and test accuracies\n",
    "#########################################\n",
    "    \n",
    "plt.plot(maxdepths,trainAcc,'ro-',maxdepths,testAcc,'bv--')\n",
    "plt.legend(['Training Accuracy','Test Accuracy'])\n",
    "plt.xlabel('Max depth')\n",
    "plt.ylabel('Accuracy')\n",
    "\n",
    "\n"
   ]
  },
  {
   "cell_type": "code",
   "execution_count": null,
   "metadata": {},
   "outputs": [],
   "source": [
    "# Usnig SVM with RBF kernel\n",
    "\n",
    "from sklearn import svm\n",
    "from sklearn.metrics import confusion_matrix,precision_recall_fscore_support,accuracy_score\n",
    "from sklearn.model_selection import StratifiedKFold,KFold\n",
    "from sklearn.metrics.pairwise import rbf_kernel\n",
    "from sklearn.linear_model import LogisticRegression\n",
    "from sklearn.metrics.pairwise import polynomial_kernel\n",
    "from sklearn.preprocessing import PolynomialFeatures\n",
    "from sklearn.metrics import f1_score\n",
    "\n",
    "gamma_rbf = [0.1,0.2,0.3,0.4,0.5,0.6,0.7,0.8,0.9,1.0,1.1,1.2,1.3,1.4,1.5,1.6,1.7,1.8,1.9,2.0,\n",
    "             2.1,2.2,2.3,2.4,2.5,2.6,2.7,2.8,2.9,3.0,4,5,6,7,8,9,10]"
   ]
  },
  {
   "cell_type": "code",
   "execution_count": 206,
   "metadata": {},
   "outputs": [
    {
     "data": {
      "text/plain": [
       "<matplotlib.text.Text at 0x173da709550>"
      ]
     },
     "execution_count": 206,
     "metadata": {},
     "output_type": "execute_result"
    },
    {
     "data": {
      "image/png": "[encoded data removed]",
      "text/plain": [
       "<matplotlib.figure.Figure at 0x173da7b9e80>"
      ]
     },
     "metadata": {},
     "output_type": "display_data"
    }
   ],
   "source": [
    "from sklearn.svm import SVC\n",
    "\n",
    "gamma_rbf = [0.1,0.2,0.3,0.4,0.5,0.6,0.7,0.8,0.9,1.0]\n",
    "SVMtrainAcc = []\n",
    "SVMtestAcc = []\n",
    "\n",
    "for param in gamma_rbf:\n",
    "    clf = SVC(C=param,kernel='rbf',gamma='auto')\n",
    "    clf.fit(X_train, Y_train)\n",
    "    Y_predTrain = clf.predict(X_train)\n",
    "    Y_predTest = clf.predict(X_test)\n",
    "    SVMtrainAcc.append(accuracy_score(Y_train, Y_predTrain))\n",
    "    SVMtestAcc.append(accuracy_score(Y_test, Y_predTest))\n",
    "\n",
    "plt.plot(gamma_rbf, SVMtrainAcc, 'ro-', gamma_rbf, SVMtestAcc,'bv--')\n",
    "plt.legend(['Training Accuracy','Test Accuracy'])\n",
    "plt.xlabel('C')\n",
    "plt.xscale('log')\n",
    "plt.ylabel('Accuracy')"
   ]
  },
  {
   "cell_type": "markdown",
   "metadata": {},
   "source": [
    "### The plot above illustrates underfitting, where the model is not complicated enough to be expressive. Both the train and test accuracy are very low. The baseline accuracy of the above data set is 53%."
   ]
  },
  {
   "cell_type": "code",
   "execution_count": 208,
   "metadata": {},
   "outputs": [
    {
     "data": {
      "text/plain": [
       "<matplotlib.text.Text at 0x173da9c7240>"
      ]
     },
     "execution_count": 208,
     "metadata": {},
     "output_type": "execute_result"
    },
    {
     "data": {
      "image/png": "[encoded data removed]",
      "text/plain": [
       "<matplotlib.figure.Figure at 0x173da8f4dd8>"
      ]
     },
     "metadata": {},
     "output_type": "display_data"
    }
   ],
   "source": [
    "from sklearn.svm import SVC\n",
    "\n",
    "gamma_rbf = [4,5,6,7,8,9,10]\n",
    "SVMtrainAcc = []\n",
    "SVMtestAcc = []\n",
    "\n",
    "for param in gamma_rbf:\n",
    "    clf = SVC(C=param,kernel='rbf',gamma='auto')\n",
    "    clf.fit(X_train, Y_train)\n",
    "    Y_predTrain = clf.predict(X_train)\n",
    "    Y_predTest = clf.predict(X_test)\n",
    "    SVMtrainAcc.append(accuracy_score(Y_train, Y_predTrain))\n",
    "    SVMtestAcc.append(accuracy_score(Y_test, Y_predTest))\n",
    "\n",
    "plt.plot(gamma_rbf, SVMtrainAcc, 'ro-', gamma_rbf, SVMtestAcc,'bv--')\n",
    "plt.legend(['Training Accuracy','Test Accuracy'])\n",
    "plt.xlabel('C')\n",
    "plt.xscale('log')\n",
    "plt.ylabel('Accuracy')"
   ]
  },
  {
   "cell_type": "markdown",
   "metadata": {},
   "source": [
    "### The above model illustrates a case of overfit where the hyperparametrs are too large for the model resulting in the models learning not being genralised enough and causing the test accuracy to plunge."
   ]
  },
  {
   "cell_type": "markdown",
   "metadata": {},
   "source": [
    "## 6.\t(10 points) Show examples or situations when the using kernel procedure is more efficient in terms of training and prediction computational time w.r.t. polynomial features transformation.  "
   ]
  },
  {
   "cell_type": "markdown",
   "metadata": {},
   "source": [
    "For training, the computational complexity of a kernel proceedure is given by O(N^3), as the space transformation takes about N^2 nd the inner dot product uses N (or number of features), resulting in N^3.\n",
    "\n",
    " On the other hand , use of polynomial features results in the enumeration of the all possible combinations of the features upto the desired degree. For example, if we have degree =3, and two features X,Y, then the combinations are  X,Y,XY,X^2Y,Y^2X,X^3 and Y^3. \n",
    "\n",
    "Once we exceed degree =4, the number of combinations quicky multiply resulting in greatr time complexity than a Kernel proceedure."
   ]
  },
  {
   "cell_type": "markdown",
   "metadata": {},
   "source": [
    "## 7.\t(10 points) Write a procedure to estimate in the SVC classifier (in Scikit) the best kernel (RBF, Polynomial, sigmoid), the best gamma & degree, and the best C. Use the grid search without implement it. Use the following reference: \n",
    "a.\thttps://scikit-learn.org/stable/modules/generated/sklearn.model_selection.GridSearchCV.html#sklearn.model_selection.GridSearchCV\n",
    "\n",
    "b.\thttps://scikit-learn.org/stable/modules/grid_search.html\n"
   ]
  },
  {
   "cell_type": "code",
   "execution_count": 236,
   "metadata": {},
   "outputs": [
    {
     "name": "stdout",
     "output_type": "stream",
     "text": [
      "fold # 1\n",
      "best _params {'degree': 1, 'gamma': 0.001, 'kernel': 'poly'}\n",
      "             precision    recall  f1-score   support\n",
      "\n",
      "        0.0       0.57      1.00      0.73        12\n",
      "        1.0       0.00      0.00      0.00         9\n",
      "\n",
      "avg / total       0.33      0.57      0.42        21\n",
      "\n",
      "\n"
     ]
    },
    {
     "name": "stderr",
     "output_type": "stream",
     "text": [
      "C:\\Users\\sayyapureddi\\AppData\\Local\\Continuum\\anaconda3\\lib\\site-packages\\sklearn\\metrics\\classification.py:1135: UndefinedMetricWarning: Precision and F-score are ill-defined and being set to 0.0 in labels with no predicted samples.\n",
      "  'precision', 'predicted', average, warn_for)\n"
     ]
    },
    {
     "name": "stdout",
     "output_type": "stream",
     "text": [
      "fold # 2\n",
      "best _params {'degree': 1, 'gamma': 0.001, 'kernel': 'poly'}\n",
      "             precision    recall  f1-score   support\n",
      "\n",
      "        0.0       0.67      1.00      0.80        14\n",
      "        1.0       0.00      0.00      0.00         7\n",
      "\n",
      "avg / total       0.44      0.67      0.53        21\n",
      "\n",
      "\n"
     ]
    },
    {
     "name": "stderr",
     "output_type": "stream",
     "text": [
      "C:\\Users\\sayyapureddi\\AppData\\Local\\Continuum\\anaconda3\\lib\\site-packages\\sklearn\\metrics\\classification.py:1135: UndefinedMetricWarning: Precision and F-score are ill-defined and being set to 0.0 in labels with no predicted samples.\n",
      "  'precision', 'predicted', average, warn_for)\n"
     ]
    },
    {
     "name": "stdout",
     "output_type": "stream",
     "text": [
      "fold # 3\n",
      "best _params {'C': 10, 'gamma': 0.001, 'kernel': 'sigmoid'}\n",
      "             precision    recall  f1-score   support\n",
      "\n",
      "        0.0       0.43      1.00      0.60         9\n",
      "        1.0       0.00      0.00      0.00        12\n",
      "\n",
      "avg / total       0.18      0.43      0.26        21\n",
      "\n",
      "\n"
     ]
    },
    {
     "name": "stderr",
     "output_type": "stream",
     "text": [
      "C:\\Users\\sayyapureddi\\AppData\\Local\\Continuum\\anaconda3\\lib\\site-packages\\sklearn\\metrics\\classification.py:1135: UndefinedMetricWarning: Precision and F-score are ill-defined and being set to 0.0 in labels with no predicted samples.\n",
      "  'precision', 'predicted', average, warn_for)\n"
     ]
    },
    {
     "name": "stdout",
     "output_type": "stream",
     "text": [
      "fold # 4\n",
      "best _params {'C': 100, 'gamma': 0.001, 'kernel': 'sigmoid'}\n",
      "             precision    recall  f1-score   support\n",
      "\n",
      "        0.0       0.57      1.00      0.73        12\n",
      "        1.0       0.00      0.00      0.00         9\n",
      "\n",
      "avg / total       0.33      0.57      0.42        21\n",
      "\n",
      "\n"
     ]
    },
    {
     "name": "stderr",
     "output_type": "stream",
     "text": [
      "C:\\Users\\sayyapureddi\\AppData\\Local\\Continuum\\anaconda3\\lib\\site-packages\\sklearn\\metrics\\classification.py:1135: UndefinedMetricWarning: Precision and F-score are ill-defined and being set to 0.0 in labels with no predicted samples.\n",
      "  'precision', 'predicted', average, warn_for)\n"
     ]
    },
    {
     "name": "stdout",
     "output_type": "stream",
     "text": [
      "fold # 5\n",
      "best _params {'C': 10, 'gamma': 0.001, 'kernel': 'sigmoid'}\n",
      "             precision    recall  f1-score   support\n",
      "\n",
      "        0.0       0.48      1.00      0.65        10\n",
      "        1.0       0.00      0.00      0.00        11\n",
      "\n",
      "avg / total       0.23      0.48      0.31        21\n",
      "\n",
      "\n"
     ]
    },
    {
     "name": "stderr",
     "output_type": "stream",
     "text": [
      "C:\\Users\\sayyapureddi\\AppData\\Local\\Continuum\\anaconda3\\lib\\site-packages\\sklearn\\metrics\\classification.py:1135: UndefinedMetricWarning: Precision and F-score are ill-defined and being set to 0.0 in labels with no predicted samples.\n",
      "  'precision', 'predicted', average, warn_for)\n"
     ]
    },
    {
     "name": "stdout",
     "output_type": "stream",
     "text": [
      "fold # 6\n",
      "best _params {'degree': 1, 'gamma': 0.001, 'kernel': 'poly'}\n",
      "             precision    recall  f1-score   support\n",
      "\n",
      "        0.0       0.48      1.00      0.65        10\n",
      "        1.0       0.00      0.00      0.00        11\n",
      "\n",
      "avg / total       0.23      0.48      0.31        21\n",
      "\n",
      "\n"
     ]
    },
    {
     "name": "stderr",
     "output_type": "stream",
     "text": [
      "C:\\Users\\sayyapureddi\\AppData\\Local\\Continuum\\anaconda3\\lib\\site-packages\\sklearn\\metrics\\classification.py:1135: UndefinedMetricWarning: Precision and F-score are ill-defined and being set to 0.0 in labels with no predicted samples.\n",
      "  'precision', 'predicted', average, warn_for)\n"
     ]
    },
    {
     "name": "stdout",
     "output_type": "stream",
     "text": [
      "fold # 7\n",
      "best _params {'C': 10, 'gamma': 0.001, 'kernel': 'sigmoid'}\n",
      "             precision    recall  f1-score   support\n",
      "\n",
      "        0.0       0.57      1.00      0.73        12\n",
      "        1.0       0.00      0.00      0.00         9\n",
      "\n",
      "avg / total       0.33      0.57      0.42        21\n",
      "\n",
      "\n"
     ]
    },
    {
     "name": "stderr",
     "output_type": "stream",
     "text": [
      "C:\\Users\\sayyapureddi\\AppData\\Local\\Continuum\\anaconda3\\lib\\site-packages\\sklearn\\metrics\\classification.py:1135: UndefinedMetricWarning: Precision and F-score are ill-defined and being set to 0.0 in labels with no predicted samples.\n",
      "  'precision', 'predicted', average, warn_for)\n"
     ]
    },
    {
     "name": "stdout",
     "output_type": "stream",
     "text": [
      "fold # 8\n",
      "best _params {'C': 1000, 'gamma': 0.0001, 'kernel': 'sigmoid'}\n",
      "             precision    recall  f1-score   support\n",
      "\n",
      "        0.0       0.29      1.00      0.44         6\n",
      "        1.0       0.00      0.00      0.00        15\n",
      "\n",
      "avg / total       0.08      0.29      0.13        21\n",
      "\n",
      "\n"
     ]
    },
    {
     "name": "stderr",
     "output_type": "stream",
     "text": [
      "C:\\Users\\sayyapureddi\\AppData\\Local\\Continuum\\anaconda3\\lib\\site-packages\\sklearn\\metrics\\classification.py:1135: UndefinedMetricWarning: Precision and F-score are ill-defined and being set to 0.0 in labels with no predicted samples.\n",
      "  'precision', 'predicted', average, warn_for)\n"
     ]
    },
    {
     "name": "stdout",
     "output_type": "stream",
     "text": [
      "fold # 9\n",
      "best _params {'C': 10, 'gamma': 0.001, 'kernel': 'sigmoid'}\n",
      "             precision    recall  f1-score   support\n",
      "\n",
      "        0.0       0.70      1.00      0.82        14\n",
      "        1.0       0.00      0.00      0.00         6\n",
      "\n",
      "avg / total       0.49      0.70      0.58        20\n",
      "\n",
      "\n"
     ]
    },
    {
     "name": "stderr",
     "output_type": "stream",
     "text": [
      "C:\\Users\\sayyapureddi\\AppData\\Local\\Continuum\\anaconda3\\lib\\site-packages\\sklearn\\metrics\\classification.py:1135: UndefinedMetricWarning: Precision and F-score are ill-defined and being set to 0.0 in labels with no predicted samples.\n",
      "  'precision', 'predicted', average, warn_for)\n"
     ]
    },
    {
     "name": "stdout",
     "output_type": "stream",
     "text": [
      "fold # 10\n",
      "best _params {'C': 100, 'gamma': 0.001, 'kernel': 'sigmoid'}\n",
      "             precision    recall  f1-score   support\n",
      "\n",
      "        0.0       0.60      1.00      0.75        12\n",
      "        1.0       0.00      0.00      0.00         8\n",
      "\n",
      "avg / total       0.36      0.60      0.45        20\n",
      "\n",
      "\n"
     ]
    },
    {
     "name": "stderr",
     "output_type": "stream",
     "text": [
      "C:\\Users\\sayyapureddi\\AppData\\Local\\Continuum\\anaconda3\\lib\\site-packages\\sklearn\\metrics\\classification.py:1135: UndefinedMetricWarning: Precision and F-score are ill-defined and being set to 0.0 in labels with no predicted samples.\n",
      "  'precision', 'predicted', average, warn_for)\n"
     ]
    }
   ],
   "source": [
    "from sklearn.model_selection import train_test_split\n",
    "from sklearn.preprocessing import StandardScaler\n",
    "from sklearn.model_selection import StratifiedKFold,KFold\n",
    "from sklearn.model_selection import GridSearchCV\n",
    "from sklearn.metrics import classification_report\n",
    "from sklearn import svm\n",
    "\n",
    "X=data.values[:,0:60]\n",
    "y=data.values[:,60]\n",
    "\n",
    "#X_train, X_test, y_train, y_test = train_test_split(X, y, test_size=0.2, stratify=y)\n",
    "\n",
    "n_splits=10\n",
    "skf = KFold(n_splits=n_splits,shuffle=True)\n",
    "\n",
    "parameter_candidates = [\n",
    "  {'gamma': [0.1,0.2,0.3,0.4,0.5,0.6,0.7,0.8,0.9,1.0,1.1,1.2,1.3,1.4,1.5,1.6,1.7,1.8,1.9,2.0,2.1,2.2,2.3,2.4,2.5,2.6,2.7,2.8,2.9,3.0,4,5,6,7,8,9,10], 'kernel': ['rbf']},\n",
    "  {'degree': [1,2,3,4,5,6,7,8, 10, 100, 1000], 'gamma': [0.001, 0.0001], 'kernel': ['poly']},\n",
    "  {'C': [0.1, 10, 100, 1000], 'gamma': [0.001, 0.0001], 'kernel': ['sigmoid']}\n",
    "]\n",
    "\n",
    "#gamma_rbf = [0.1,0.2,0.3,0.4,0.5,0.6,0.7,0.8,0.9,1.0,1.1,1.2,1.3,1.4,1.5,1.6,1.7,1.8,1.9,2.0,2.1,2.2,2.3,2.4,2.5,2.6,2.7,2.8,2.9,3.0,4,5,6,7,8,9,10]\n",
    "clf = GridSearchCV(estimator=svm.SVC(), param_grid=parameter_candidates, n_jobs=-1)\n",
    "fold=0\n",
    "for train_index, test_index in skf.split(X, y):\n",
    "    fold+=1\n",
    "    X_train1=X[train_index]\n",
    "    X_test=X[test_index]\n",
    "    y_train=y[train_index]\n",
    "    y_test=y[test_index]\n",
    "    scaler = StandardScaler()\n",
    "    XS_train=scaler.fit_transform(X_train1) \n",
    "    XS_test=scaler.transform(X_test)\n",
    "    \n",
    "    clf = GridSearchCV(estimator=svm.SVC(), param_grid=parameter_candidates, cv=5,scoring='accuracy')\n",
    "    clf.fit(XS_train, y_train)\n",
    "    print(\"fold #\", fold)\n",
    "    print(\"best _params\", clf.best_params_)\n",
    "    \n",
    "    y_true, y_pred = y_test, clf.predict(X_test)\n",
    "    print(classification_report(y_true, y_pred))\n",
    "    print()"
   ]
  },
  {
   "cell_type": "code",
   "execution_count": null,
   "metadata": {},
   "outputs": [],
   "source": []
  },
  {
   "cell_type": "markdown",
   "metadata": {},
   "source": [
    "## 8.\t(20 points) Create examples to explain the property and the importance of the following kernels:\n",
    "a.\thttps://en.wikipedia.org/wiki/Graph_kernel\n",
    "\n",
    "b.\thttps://en.wikipedia.org/wiki/String_kernel\n",
    "\n",
    "c.\thttps://scikit-learn.org/stable/modules/generated/sklearn.metrics.pairwise.sigmoid_kernel.html\n"
   ]
  },
  {
   "cell_type": "markdown",
   "metadata": {},
   "source": [
    "### Graph Kernel\n",
    "\n",
    "An example of a Graph Kernel is the Shortest Path kernel. This kernel finds the similarity of two graphs based on the similarity of the shortest paths in the two graphs.\n",
    "\n",
    "As an example given G and G`, the kernel can be defined as \n",
    "\n",
    "$$ K(G,G^`) =  \\sum_{v_i,v_j \\in G} \\sum_{v_k,v_l \\in G^`} k_length(d(v_i,v_j),d(v^`_k,v^`_l)) $$\n",
    "\n",
    "where $$ k_length = \\displaystyle 1 $$ if shortest path distances are equal, else $$ \\displaystyle 0 $$\n",
    "\n",
    "This is useful when comparing protein structures."
   ]
  },
  {
   "cell_type": "markdown",
   "metadata": {},
   "source": [
    "### String Kernel\n",
    "\n",
    "Any Kernel is a function which measures the similarity of two vectors or data points. When a Kernel measures the similarity of two strings, it is said to be a string Kernel. \n",
    "\n",
    "As an example consider two strings s and t. s= \"strawberry\", t= \"rawstberry\".\n",
    "\n",
    "$$ S=\\{\"st\", \"tr\", \"ra\", \"aw\", \"wb\", \"be\", \"er\", \"rr\", \"ry\"\\} $$\n",
    "$$ T=\\{\"ra\", \"aw\", \"ws\", \"st\", \"tb\", \"be\", \"er\", \"rr\", \"ry\"\\} $$\n",
    "\n",
    "A string kernel which looks for the similar 2-grams in both the strings can generate a similarity coefficient or number.\n",
    "\n",
    "$$ k_{2} (s, t) = \\sum_{v \\in \\sum^2} num_v(s).num_v(t) $$\n",
    "\n",
    "where $$ \\sum^2 = S \\cup T $$\n",
    "\n",
    "In such a case, $$ k_2(S,T)=7 $$\n",
    "\n",
    "The attractiveness of string kernels is that they enable you to do string operations without having to do feature extraction to compare similarity. As an example string kernels can be used to detect plaigirism by detecting similarities in writing or sentence construction.\n",
    "\n",
    "Is also useful to compare genomic sequences."
   ]
  },
  {
   "cell_type": "markdown",
   "metadata": {},
   "source": [
    "### Sigmoid Kernel"
   ]
  },
  {
   "cell_type": "markdown",
   "metadata": {},
   "source": [
    "Sigmoid kernel is another name for the Hyperbolic tangent kernel. This function is also an activation function used in Neural networks. Under certain conditions this function approximates the performance of the RBH kernel. A kernel function essentially calculates the similarity of two vectors in space. This helps in making non-linear data linear.\n",
    "\n",
    "In the sigmoid kernel, the tanh(xy + C) does not normalize the transformation. \n",
    "\n",
    "I am not sure why this kernel even exists as this seems like a subset of the RBF. The RBF does normalize with the \n",
    "$ \\sigma $ whic is not present in the sigmoid.\n",
    "\n",
    "Mathematically I am not sure how this is more advantageous than the RBF or if there is a subset of data which makes the sigmoid kernel more useful."
   ]
  },
  {
   "cell_type": "code",
   "execution_count": null,
   "metadata": {},
   "outputs": [],
   "source": []
  }
 ],
 "metadata": {
  "kernelspec": {
   "display_name": "Python 3",
   "language": "python",
   "name": "python3"
  },
  "language_info": {
   "codemirror_mode": {
    "name": "ipython",
    "version": 3
   },
   "file_extension": ".py",
   "mimetype": "text/x-python",
   "name": "python",
   "nbconvert_exporter": "python",
   "pygments_lexer": "ipython3",
   "version": "3.8.8"
  }
 },
 "nbformat": 4,
 "nbformat_minor": 2
}
