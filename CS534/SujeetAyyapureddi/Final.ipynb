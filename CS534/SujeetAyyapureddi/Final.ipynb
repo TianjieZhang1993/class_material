{
 "cells": [
  {
   "cell_type": "code",
   "execution_count": 96,
   "metadata": {},
   "outputs": [
    {
     "name": "stdout",
     "output_type": "stream",
     "text": [
      "The watermark extension is already loaded. To reload it, use:\n",
      "  %reload_ext watermark\n"
     ]
    }
   ],
   "source": [
    "%load_ext watermark\n",
    "import numpy as np\n",
    "import pandas as pd\n",
    "import matplotlib.pyplot as plt"
   ]
  },
  {
   "cell_type": "code",
   "execution_count": 2,
   "metadata": {},
   "outputs": [
    {
     "name": "stdout",
     "output_type": "stream",
     "text": [
      "pandas 0.22.0\n",
      "numpy 1.12.1\n",
      "scipy 1.0.0\n",
      "sklearn 0.19.1\n"
     ]
    }
   ],
   "source": [
    "%watermark -p pandas,numpy,scipy,sklearn"
   ]
  },
  {
   "cell_type": "markdown",
   "metadata": {},
   "source": [
    "## 1.\t(20 points) Implement the Expectation Maximization (EM) algorithm for the  Gaussian Mixture Model in python  "
   ]
  },
  {
   "cell_type": "code",
   "execution_count": null,
   "metadata": {},
   "outputs": [],
   "source": [
    "def em_gmm(xs, pis, mus, sigmas, tol=0.01, max_iter=100):\n",
    "    \n",
    "#     def initialize():\n",
    "#         n, p = xs.shape\n",
    "#         k = len(pis)\n",
    "#         return n,p,k\n",
    "    \n",
    "    def estep(mus,sigmas,xs,pis):\n",
    "        n, p = xs.shape\n",
    "        k = len(pis)\n",
    "        ws = np.zeros((k, n))\n",
    "        for j in range(len(mus)):\n",
    "            for i in range(n):\n",
    "                ws[j, i] = pis[j] * mvn(mus[j], sigmas[j]).pdf(xs[i])\n",
    "        ws /= ws.sum(0)\n",
    "        return ws\n",
    "    \n",
    "    def mstep(mus,sigmas,xs,pis,ws):\n",
    "        k = len(pis)\n",
    "        n, p = xs.shape\n",
    "        # recalc  mixing coefficients\n",
    "        pis = np.zeros(k)\n",
    "        for j in range(len(mus)):\n",
    "            for i in range(n):\n",
    "                pis[j] += ws[j, i]\n",
    "        pis /= n\n",
    "\n",
    "        # recalc mean\n",
    "        mus = np.zeros((k, p))\n",
    "        for j in range(k):\n",
    "            for i in range(n):\n",
    "                mus[j] += ws[j, i] * xs[i]\n",
    "            mus[j] /= ws[j, :].sum()\n",
    "            \n",
    "        # recalc sigma\n",
    "        sigmas = np.zeros((k, p, p))\n",
    "        for j in range(k):\n",
    "            for i in range(n):\n",
    "                ys = np.reshape(xs[i]- mus[j], (2,1))\n",
    "                sigmas[j] += ws[j, i] * np.dot(ys, ys.T)\n",
    "            sigmas[j] /= ws[j,:].sum()\n",
    "              \n",
    "        return mus,sigmas,xs,pis,ws\n",
    "      \n",
    "    def update_ll(mus,sigmas,xs,pis):\n",
    "        ll_new = 0.0\n",
    "        n, p = xs.shape\n",
    "        k = len(pis)\n",
    "        for i in range(n):\n",
    "            s = 0\n",
    "            for j in range(k):\n",
    "                s += pis[j] * mvn(mus[j], sigmas[j]).pdf(xs[i])\n",
    "            ll_new += np.log(s)\n",
    "        return ll_new\n",
    "              \n",
    "              \n",
    "\n",
    "    ll_old = 0\n",
    "    for i in range(max_iter):\n",
    "        \n",
    "        ll_new = 0\n",
    "\n",
    "        # E-step\n",
    "        ws = estep(mus,sigmas,xs,pis)\n",
    "        # M-step\n",
    "        mus,sigmas,xs,pis,ws = mstep(mus,sigmas,xs,pis,ws)\n",
    "\n",
    "        # update complete log likelihoood\n",
    "        ll_new = update_ll(mus,sigmas,xs,pis)\n",
    "\n",
    "        if np.abs(ll_new - ll_old) < tol:\n",
    "            break\n",
    "        ll_old = ll_new\n",
    "\n",
    "    return ll_new, pis, mus, sigmas"
   ]
  },
  {
   "cell_type": "code",
   "execution_count": null,
   "metadata": {},
   "outputs": [],
   "source": [
    "np.random.seed(123)\n",
    "\n",
    "# create data set\n",
    "n = 1000\n",
    "mus = np.array([[0,4], [-2,0]])  # Mean -2 numbers for two diemnsional data\n",
    "sigmas = np.array([[[3, 0], [0, 0.5]], [[1,0],[0,2]]]) # SD\n",
    "pis = np.array([0.6, 0.4]) # Mixing Coeffiecients\n",
    "xs = np.concatenate([np.random.multivariate_normal(mu, sigma, int(pi*n))\n",
    "                    for pi, mu, sigma in zip(pis, mus, sigmas)])\n",
    "\n",
    "# initial guesses for parameters\n",
    "pis_seed = np.random.random(2)\n",
    "pis_seed /= pis_seed.sum()  # Scaling guesses to equal to a sum of 1\n",
    "mus_seed = np.random.random((2,2))\n",
    "sigmas_seed = np.array([np.eye(2)] * 2) # generate 2 Identity matrix\n"
   ]
  },
  {
   "cell_type": "code",
   "execution_count": null,
   "metadata": {},
   "outputs": [],
   "source": [
    "ll1, pis1, mus1, sigmas1 = em_gmm(xs, pis, mus, sigmas)\n",
    "print(\"Starting Parameter Values\")\n",
    "print(pis_seed, mus_seed, sigmas_seed)\n",
    "print()\n",
    "print()\n",
    "print(\"Updated Parameter Values\")\n",
    "print(pis1, mus1, sigmas1)"
   ]
  },
  {
   "cell_type": "markdown",
   "metadata": {},
   "source": [
    "## 2. (20 points) Show why the maximization step of the Expectation Maximization in the Gaussian Mixture Model has that particular unique solution (use derivatives to prove that)."
   ]
  },
  {
   "cell_type": "markdown",
   "metadata": {},
   "source": [
    "# The derivation is in the submission folder as a PDF of the scanned hand written sheets.\n",
    "\n"
   ]
  },
  {
   "cell_type": "markdown",
   "metadata": {},
   "source": [
    "## 3.\t(20 points) Use with a dataset different from IRIS the following techniques:https://scikit-learn.org/stable/auto_examples/ensemble/plot_forest_importances.html"
   ]
  },
  {
   "cell_type": "code",
   "execution_count": 68,
   "metadata": {},
   "outputs": [],
   "source": [
    "df=pd.read_csv('data_banknote_authentication.txt', header=None)\n",
    "df.columns=['variance','skewness','kurtosis','entropy','class']"
   ]
  },
  {
   "cell_type": "code",
   "execution_count": 69,
   "metadata": {},
   "outputs": [],
   "source": [
    "from sklearn import preprocessing\n",
    "from sklearn.preprocessing import StandardScaler\n",
    "X=df.iloc[:,0:4].values\n",
    "y=df.iloc[:,4].values\n",
    "\n",
    "X_scaled =preprocessing.scale(X)\n",
    "X_SS = preprocessing.StandardScaler().fit_transform(X)\n",
    "X_normalized = preprocessing.normalize(X, norm='l2')"
   ]
  },
  {
   "cell_type": "code",
   "execution_count": 70,
   "metadata": {},
   "outputs": [
    {
     "name": "stdout",
     "output_type": "stream",
     "text": [
      "Feature ranking:\n",
      "1. feature 0 (0.499674)\n",
      "2. feature 1 (0.241733)\n",
      "3. feature 2 (0.189820)\n",
      "4. feature 3 (0.068773)\n"
     ]
    },
    {
     "data": {
      "image/png": "[encoded data removed]",
      "text/plain": [
       "<matplotlib.figure.Figure at 0x237cc3e0c18>"
      ]
     },
     "metadata": {},
     "output_type": "display_data"
    }
   ],
   "source": [
    "import numpy as np\n",
    "import matplotlib.pyplot as plt\n",
    "\n",
    "from sklearn.datasets import make_classification\n",
    "from sklearn.ensemble import ExtraTreesClassifier\n",
    "\n",
    "\n",
    "\n",
    "\n",
    "# Build a forest and compute the feature importances\n",
    "forest = ExtraTreesClassifier(n_estimators=250,\n",
    "                              random_state=0)\n",
    "\n",
    "forest.fit(X_normalized, y)\n",
    "importances = forest.feature_importances_\n",
    "std = np.std([tree.feature_importances_ for tree in forest.estimators_],\n",
    "             axis=0)\n",
    "indices = np.argsort(importances)[::-1]\n",
    "\n",
    "# Print the feature ranking\n",
    "print(\"Feature ranking:\")\n",
    "\n",
    "for f in range(X.shape[1]):\n",
    "    print(\"%d. feature %d (%f)\" % (f + 1, indices[f], importances[indices[f]]))\n",
    "\n",
    "# Plot the feature importances of the forest\n",
    "plt.figure()\n",
    "plt.title(\"Feature importances\")\n",
    "plt.bar(range(X.shape[1]), importances[indices],\n",
    "       color=\"r\", yerr=std[indices], align=\"center\")\n",
    "plt.xticks(range(X.shape[1]), indices)\n",
    "plt.xlim([-1, X.shape[1]])\n",
    "plt.show()"
   ]
  },
  {
   "cell_type": "markdown",
   "metadata": {},
   "source": [
    "## 4.\t(10 points) Compare by discussing results the technique in 3 with the coefficients (W) of the logistic regression. "
   ]
  },
  {
   "cell_type": "markdown",
   "metadata": {},
   "source": [
    "### The data set from Q3 has 4 features. The algorithm in Q3 gives a feature importance. \n",
    "\n",
    "In a logistic regression, the algorithm also spits out weights. The logistic regression equation can be reprsented as \n",
    "\n",
    "$ Z = W_{0} + W_{1}.X_{1} +W_{2}.X_{2}+W_{3}.X_{3}+W_{4}.X_{4} $\n",
    "\n",
    "where X stands for features and W stands for weights generated by the algorithm.\n",
    "\n",
    "Differentiating the output with respect to the feature would give the corresponding feature importance \n",
    "\n",
    "$ \\displaystyle \\frac{\\partial{Z}}{\\partial{X_{1}}} = W_{1} , \\displaystyle \\frac{\\partial{Z}}{\\partial{X_{2}}} = W_{2}, \\displaystyle \\frac{\\partial{Z}}{\\partial{X_{3}}} = W_{3}, \\displaystyle \\frac{\\partial{Z}}{\\partial{X_{4}}} = W_{4}$\n",
    "\n",
    "Given this, the value of the weight is an indication of its feature importance. We obviously ignore the sign of the weight.\n",
    "\n",
    "To prove this out, I have looked at the feature importance of a logistic regression using the RFE function. The feature importance is indicated by the value of the coefficients and kinda matches with feature importance given by Q3. The logistic regression feature importance is given below."
   ]
  },
  {
   "cell_type": "code",
   "execution_count": 75,
   "metadata": {},
   "outputs": [
    {
     "data": {
      "text/plain": [
       "array([[-3.36496558, -1.88765064, -2.30699401, -0.08893876]])"
      ]
     },
     "execution_count": 75,
     "metadata": {},
     "output_type": "execute_result"
    }
   ],
   "source": [
    "from sklearn.linear_model import LogisticRegression\n",
    "clf = LogisticRegression(random_state=0, solver='lbfgs').fit(X, y)\n",
    "clf.coef_\n",
    "\n",
    "#print(np.std(X, 0)*clf.coef_)"
   ]
  },
  {
   "cell_type": "code",
   "execution_count": 72,
   "metadata": {},
   "outputs": [
    {
     "name": "stdout",
     "output_type": "stream",
     "text": [
      "Num Features: 1\n",
      "Selected Features: [ True False False False]\n",
      "Feature Ranking: [1 3 2 4]\n"
     ]
    }
   ],
   "source": [
    "from sklearn.feature_selection import SelectKBest\n",
    "from sklearn.feature_selection import RFE\n",
    "\n",
    "# feature extraction\n",
    "model = LogisticRegression()\n",
    "rfe = RFE(model, 1)\n",
    "fit = rfe.fit(X, y)\n",
    "print(\"Num Features: %d\" % fit.n_features_ )\n",
    "print(\"Selected Features: %s\" % fit.support_ )\n",
    "print(\"Feature Ranking: %s\" % fit.ranking_ )"
   ]
  },
  {
   "cell_type": "code",
   "execution_count": 73,
   "metadata": {},
   "outputs": [
    {
     "name": "stdout",
     "output_type": "stream",
     "text": [
      "Optimization terminated successfully.\n",
      "         Current function value: 0.097611\n",
      "         Iterations 11\n"
     ]
    }
   ],
   "source": [
    "import statsmodels.formula.api as sm\n",
    "model = sm.Logit(y, X).fit()"
   ]
  },
  {
   "cell_type": "code",
   "execution_count": 74,
   "metadata": {},
   "outputs": [
    {
     "data": {
      "text/html": [
       "<table class=\"simpletable\">\n",
       "<tr>\n",
       "        <td>Model:</td>              <td>Logit</td>       <td>No. Iterations:</td>   <td>11.0000</td>\n",
       "</tr>\n",
       "<tr>\n",
       "  <td>Dependent Variable:</td>         <td>y</td>        <td>Pseudo R-squared:</td>   <td>0.858</td> \n",
       "</tr>\n",
       "<tr>\n",
       "         <td>Date:</td>        <td>2019-05-08 09:47</td>       <td>AIC:</td>        <td>275.8434</td>\n",
       "</tr>\n",
       "<tr>\n",
       "   <td>No. Observations:</td>        <td>1372</td>             <td>BIC:</td>        <td>296.7395</td>\n",
       "</tr>\n",
       "<tr>\n",
       "       <td>Df Model:</td>              <td>3</td>         <td>Log-Likelihood:</td>   <td>-133.92</td>\n",
       "</tr>\n",
       "<tr>\n",
       "     <td>Df Residuals:</td>          <td>1368</td>           <td>LL-Null:</td>       <td>-942.56</td>\n",
       "</tr>\n",
       "<tr>\n",
       "      <td>Converged:</td>           <td>1.0000</td>           <td>Scale:</td>        <td>1.0000</td> \n",
       "</tr>\n",
       "</table>\n",
       "<table class=\"simpletable\">\n",
       "<tr>\n",
       "   <td></td>   <th>Coef.</th>  <th>Std.Err.</th>     <th>z</th>     <th>P>|z|</th> <th>[0.025</th>  <th>0.975]</th> \n",
       "</tr>\n",
       "<tr>\n",
       "  <th>x1</th> <td>-2.7285</td>  <td>0.2445</td>  <td>-11.1589</td> <td>0.0000</td> <td>-3.2078</td> <td>-2.2493</td>\n",
       "</tr>\n",
       "<tr>\n",
       "  <th>x2</th> <td>-1.6781</td>  <td>0.1837</td>   <td>-9.1344</td> <td>0.0000</td> <td>-2.0381</td> <td>-1.3180</td>\n",
       "</tr>\n",
       "<tr>\n",
       "  <th>x3</th> <td>-1.7833</td>  <td>0.1868</td>   <td>-9.5473</td> <td>0.0000</td> <td>-2.1495</td> <td>-1.4172</td>\n",
       "</tr>\n",
       "<tr>\n",
       "  <th>x4</th> <td>-0.8361</td>  <td>0.1322</td>   <td>-6.3269</td> <td>0.0000</td> <td>-1.0952</td> <td>-0.5771</td>\n",
       "</tr>\n",
       "</table>"
      ],
      "text/plain": [
       "<class 'statsmodels.iolib.summary2.Summary'>\n",
       "\"\"\"\n",
       "                        Results: Logit\n",
       "===============================================================\n",
       "Model:              Logit            No. Iterations:   11.0000 \n",
       "Dependent Variable: y                Pseudo R-squared: 0.858   \n",
       "Date:               2019-05-08 09:47 AIC:              275.8434\n",
       "No. Observations:   1372             BIC:              296.7395\n",
       "Df Model:           3                Log-Likelihood:   -133.92 \n",
       "Df Residuals:       1368             LL-Null:          -942.56 \n",
       "Converged:          1.0000           Scale:            1.0000  \n",
       "-----------------------------------------------------------------\n",
       "        Coef.    Std.Err.      z       P>|z|     [0.025    0.975]\n",
       "-----------------------------------------------------------------\n",
       "x1     -2.7285     0.2445   -11.1589   0.0000   -3.2078   -2.2493\n",
       "x2     -1.6781     0.1837    -9.1344   0.0000   -2.0381   -1.3180\n",
       "x3     -1.7833     0.1868    -9.5473   0.0000   -2.1495   -1.4172\n",
       "x4     -0.8361     0.1322    -6.3269   0.0000   -1.0952   -0.5771\n",
       "===============================================================\n",
       "\n",
       "\"\"\""
      ]
     },
     "execution_count": 74,
     "metadata": {},
     "output_type": "execute_result"
    }
   ],
   "source": [
    "model.summary2()"
   ]
  },
  {
   "cell_type": "markdown",
   "metadata": {},
   "source": [
    "## 5.\t(20 points) Use the IRIS dataset and the binary classification (iris-setosa versus others). This dataset is imbalanced please provide a technique to oversampling that will produce a balanced dataset."
   ]
  },
  {
   "cell_type": "markdown",
   "metadata": {},
   "source": [
    "### Oversampling refers to populating the minority class with points from the same distribution as that of the minority class. This can be acheived by calcualting the parameters of the distribution. The distribution can be ascertained by assuming the data to be a mixture of the gaussian distributions and running the GMM with EM algorithm to figure out the parameters of the distributions. This method is illustrated in the following cells"
   ]
  },
  {
   "cell_type": "code",
   "execution_count": 79,
   "metadata": {},
   "outputs": [],
   "source": [
    "df=pd.read_csv(\"iris.csv\", header=None)"
   ]
  },
  {
   "cell_type": "code",
   "execution_count": 84,
   "metadata": {},
   "outputs": [],
   "source": [
    "df.columns=[\"Feat1\",\"Feat2\",\"Feat3\",\"Feat4\",\"Class\"]"
   ]
  },
  {
   "cell_type": "code",
   "execution_count": 87,
   "metadata": {},
   "outputs": [
    {
     "data": {
      "text/html": [
       "<div>\n",
       "<style scoped>\n",
       "    .dataframe tbody tr th:only-of-type {\n",
       "        vertical-align: middle;\n",
       "    }\n",
       "\n",
       "    .dataframe tbody tr th {\n",
       "        vertical-align: top;\n",
       "    }\n",
       "\n",
       "    .dataframe thead th {\n",
       "        text-align: right;\n",
       "    }\n",
       "</style>\n",
       "<table border=\"1\" class=\"dataframe\">\n",
       "  <thead>\n",
       "    <tr style=\"text-align: right;\">\n",
       "      <th></th>\n",
       "      <th>Feat1</th>\n",
       "      <th>Feat2</th>\n",
       "      <th>Feat3</th>\n",
       "      <th>Feat4</th>\n",
       "      <th>Class</th>\n",
       "    </tr>\n",
       "  </thead>\n",
       "  <tbody>\n",
       "    <tr>\n",
       "      <th>0</th>\n",
       "      <td>5.1</td>\n",
       "      <td>3.5</td>\n",
       "      <td>1.4</td>\n",
       "      <td>0.2</td>\n",
       "      <td>Iris-setosa</td>\n",
       "    </tr>\n",
       "    <tr>\n",
       "      <th>1</th>\n",
       "      <td>4.9</td>\n",
       "      <td>3.0</td>\n",
       "      <td>1.4</td>\n",
       "      <td>0.2</td>\n",
       "      <td>Iris-setosa</td>\n",
       "    </tr>\n",
       "  </tbody>\n",
       "</table>\n",
       "</div>"
      ],
      "text/plain": [
       "   Feat1  Feat2  Feat3  Feat4        Class\n",
       "0    5.1    3.5    1.4    0.2  Iris-setosa\n",
       "1    4.9    3.0    1.4    0.2  Iris-setosa"
      ]
     },
     "execution_count": 87,
     "metadata": {},
     "output_type": "execute_result"
    }
   ],
   "source": [
    "df_setosa = df[df.Class==\"Iris-setosa\"]\n",
    "df_setosa.head(2)"
   ]
  },
  {
   "cell_type": "code",
   "execution_count": 92,
   "metadata": {},
   "outputs": [],
   "source": [
    "X_set=df_setosa.iloc[:,0:4].values"
   ]
  },
  {
   "cell_type": "markdown",
   "metadata": {},
   "source": [
    "### Sweep n to figure out the best number of distributions"
   ]
  },
  {
   "cell_type": "code",
   "execution_count": 162,
   "metadata": {
    "scrolled": true
   },
   "outputs": [
    {
     "data": {
      "image/png": "[encoded data removed]",
      "text/plain": [
       "<matplotlib.figure.Figure at 0x237cdf325c0>"
      ]
     },
     "metadata": {},
     "output_type": "display_data"
    }
   ],
   "source": [
    "\n",
    "from sklearn.mixture import GaussianMixture\n",
    "from sklearn.mixture import BayesianGaussianMixture\n",
    "\n",
    "n_components =range(1,10)\n",
    "\n",
    "models = [GaussianMixture(n, covariance_type='full', random_state=0).fit(X_set)\n",
    "          for n in range(1,10)]\n",
    "\n",
    "plt.plot(n_components, [m.bic(X_set) for m in models], label='BIC')\n",
    "\n",
    "plt.legend(loc='best')\n",
    "plt.xlabel('n_components');"
   ]
  },
  {
   "cell_type": "code",
   "execution_count": 118,
   "metadata": {},
   "outputs": [
    {
     "name": "stdout",
     "output_type": "stream",
     "text": [
      "True\n"
     ]
    }
   ],
   "source": [
    "# Pick n=1 for taking the smallest \n",
    "gmm = GaussianMixture(1, covariance_type='full', random_state=0)\n",
    "gmm.fit(X_set)\n",
    "#Check for gmm convergence\n",
    "print(gmm.converged_) "
   ]
  },
  {
   "cell_type": "code",
   "execution_count": 120,
   "metadata": {},
   "outputs": [],
   "source": [
    "# Generate samples\n",
    "new_set = gmm.sample(50)\n"
   ]
  },
  {
   "cell_type": "markdown",
   "metadata": {},
   "source": [
    "### This way the data can be oversampled."
   ]
  },
  {
   "cell_type": "markdown",
   "metadata": {},
   "source": [
    "## 6.\t(10 points)  Describe the main differences between K-means and DB-Scan, use examples."
   ]
  },
  {
   "cell_type": "markdown",
   "metadata": {},
   "source": [
    "### K-means is a partition based algorithm, where the entire space is divided into K spaces. K-means works by minimizing the SSE. K-means starts off based on a local minima. K-means work on the assumption of spehirical clusters of data. K-means algo requires the K(number of clusters) to be provided.\n",
    "\n",
    "\n",
    "### DBSCAN is a density based algorithm. This clustering is based on the assumption that areas connected by density belong to a certain cluster. DBSCAN \n",
    "\n",
    "The differences in the way the two algorithms works can be explained with a few examples."
   ]
  },
  {
   "cell_type": "code",
   "execution_count": 140,
   "metadata": {},
   "outputs": [
    {
     "data": {
      "text/plain": [
       "<matplotlib.text.Text at 0x237cc12cef0>"
      ]
     },
     "execution_count": 140,
     "metadata": {},
     "output_type": "execute_result"
    },
    {
     "data": {
      "image/png": "[encoded data removed]",
      "text/plain": [
       "<matplotlib.figure.Figure at 0x237c74c18d0>"
      ]
     },
     "metadata": {},
     "output_type": "display_data"
    }
   ],
   "source": [
    "import numpy as np\n",
    "import matplotlib.pyplot as plt\n",
    "\n",
    "from sklearn.cluster import KMeans\n",
    "from sklearn.datasets import make_blobs\n",
    "\n",
    "plt.figure(figsize=(12, 12))\n",
    "\n",
    "n_samples = 1500\n",
    "random_state = 170\n",
    "X, y = make_blobs(n_samples=n_samples, random_state=random_state)\n",
    "\n",
    "# Incorrect number of clusters\n",
    "y_pred = KMeans(n_clusters=3, random_state=random_state).fit_predict(X)\n",
    "\n",
    "plt.subplot(221)\n",
    "plt.scatter(X[:, 0], X[:, 1], c=y_pred)\n",
    "plt.title(\"Incorrect Number of Blobs\")"
   ]
  },
  {
   "cell_type": "code",
   "execution_count": 145,
   "metadata": {},
   "outputs": [
    {
     "data": {
      "text/plain": [
       "<matplotlib.text.Text at 0x237cd7c79b0>"
      ]
     },
     "execution_count": 145,
     "metadata": {},
     "output_type": "execute_result"
    },
    {
     "data": {
      "image/png": "[encoded data removed]",
      "text/plain": [
       "<matplotlib.figure.Figure at 0x237cc28b358>"
      ]
     },
     "metadata": {},
     "output_type": "display_data"
    }
   ],
   "source": [
    "from sklearn.cluster import DBSCAN\n",
    "clustering = DBSCAN(eps=1, min_samples=20).fit(X)\n",
    "y_pred=clustering.labels_\n",
    "\n",
    "plt.subplot(221)\n",
    "plt.scatter(X[:, 0], X[:, 1], c=y_pred)\n",
    "plt.title(\"Blobs with DBSCAN\")"
   ]
  },
  {
   "cell_type": "code",
   "execution_count": 148,
   "metadata": {},
   "outputs": [
    {
     "data": {
      "text/plain": [
       "<matplotlib.text.Text at 0x237cdaca320>"
      ]
     },
     "execution_count": 148,
     "metadata": {},
     "output_type": "execute_result"
    },
    {
     "data": {
      "image/png": "[encoded data removed]",
      "text/plain": [
       "<matplotlib.figure.Figure at 0x237ccebfba8>"
      ]
     },
     "metadata": {},
     "output_type": "display_data"
    }
   ],
   "source": [
    "# Anisotropicly distributed data\n",
    "transformation = [[0.60834549, -0.63667341], [-0.40887718, 0.85253229]]\n",
    "X_aniso = np.dot(X, transformation)\n",
    "y_pred = KMeans(n_clusters=3, random_state=random_state).fit_predict(X_aniso)\n",
    "\n",
    "\n",
    "\n",
    "plt.subplot(221)\n",
    "plt.scatter(X_aniso[:, 0], X_aniso[:, 1], c=y_pred)\n",
    "plt.title(\"Anisotropicly Distributed Blobs\")"
   ]
  },
  {
   "cell_type": "code",
   "execution_count": 156,
   "metadata": {},
   "outputs": [
    {
     "data": {
      "text/plain": [
       "<matplotlib.text.Text at 0x237cdf11470>"
      ]
     },
     "execution_count": 156,
     "metadata": {},
     "output_type": "execute_result"
    },
    {
     "data": {
      "image/png": "[encoded data removed]",
      "text/plain": [
       "<matplotlib.figure.Figure at 0x237cded5780>"
      ]
     },
     "metadata": {},
     "output_type": "display_data"
    }
   ],
   "source": [
    "clustering = DBSCAN(eps=0.0001, min_samples=10).fit(X_aniso)\n",
    "y_pred=clustering.labels_\n",
    "\n",
    "plt.subplot(221)\n",
    "plt.scatter(X_aniso[:, 0], X_aniso[:, 1], c=y_pred)\n",
    "plt.title(\"Anisotropicly Distributed Blobs with DBSCAN\")"
   ]
  },
  {
   "cell_type": "code",
   "execution_count": 157,
   "metadata": {},
   "outputs": [
    {
     "data": {
      "text/plain": [
       "<matplotlib.text.Text at 0x237cdf9ecc0>"
      ]
     },
     "execution_count": 157,
     "metadata": {},
     "output_type": "execute_result"
    },
    {
     "data": {
      "image/png": "[encoded data removed]",
      "text/plain": [
       "<matplotlib.figure.Figure at 0x237cdf32cf8>"
      ]
     },
     "metadata": {},
     "output_type": "display_data"
    }
   ],
   "source": [
    "# Different variance\n",
    "X_varied, y_varied = make_blobs(n_samples=n_samples,\n",
    "                                cluster_std=[1.0, 2.5, 0.5],\n",
    "                                random_state=random_state)\n",
    "y_pred = KMeans(n_clusters=3, random_state=random_state).fit_predict(X_varied)\n",
    "\n",
    "plt.subplot(223)\n",
    "plt.scatter(X_varied[:, 0], X_varied[:, 1], c=y_pred)\n",
    "plt.title(\"Unequal Variance\")"
   ]
  },
  {
   "cell_type": "code",
   "execution_count": 159,
   "metadata": {},
   "outputs": [
    {
     "data": {
      "text/plain": [
       "<matplotlib.text.Text at 0x237ced70be0>"
      ]
     },
     "execution_count": 159,
     "metadata": {},
     "output_type": "execute_result"
    },
    {
     "data": {
      "image/png": "[encoded data removed]",
      "text/plain": [
       "<matplotlib.figure.Figure at 0x237cd51d048>"
      ]
     },
     "metadata": {},
     "output_type": "display_data"
    }
   ],
   "source": [
    "clustering = DBSCAN(eps=1, min_samples=10).fit(X_varied)\n",
    "y_pred=clustering.labels_\n",
    "\n",
    "plt.subplot(223)\n",
    "plt.scatter(X_varied[:, 0], X_varied[:, 1], c=y_pred)\n",
    "plt.title(\"Unequal Variance with DBSCAN\")"
   ]
  },
  {
   "cell_type": "markdown",
   "metadata": {},
   "source": [
    "### The above plots illustrate the differences between K-means and DBSCAN"
   ]
  },
  {
   "cell_type": "markdown",
   "metadata": {},
   "source": [
    "## 7.\t(10 points) Provide a procedure to estimate the optimal number of clusters in the k-Means and Gaussian mixture model (try to differentiate the two procedure)."
   ]
  },
  {
   "cell_type": "code",
   "execution_count": null,
   "metadata": {},
   "outputs": [],
   "source": [
    "from sklearn.datasets import make_blobs\n",
    "from sklearn.cluster import KMeans\n",
    "from sklearn.metrics import silhouette_samples, silhouette_score"
   ]
  },
  {
   "cell_type": "code",
   "execution_count": 130,
   "metadata": {},
   "outputs": [
    {
     "name": "stdout",
     "output_type": "stream",
     "text": [
      "For n_clusters = 2 The average silhouette_score is : 0.704978749608\n",
      "For n_clusters = 3 The average silhouette_score is : 0.588200401213\n",
      "For n_clusters = 4 The average silhouette_score is : 0.650518663273\n",
      "For n_clusters = 5 The average silhouette_score is : 0.563764690262\n",
      "For n_clusters = 6 The average silhouette_score is : 0.450466629437\n"
     ]
    }
   ],
   "source": [
    "X, y = make_blobs(n_samples=500,\n",
    "                  n_features=2,\n",
    "                  centers=4,\n",
    "                  cluster_std=1,\n",
    "                  center_box=(-10.0, 10.0),\n",
    "                  shuffle=True,\n",
    "                  random_state=1)  # For reproducibility\n",
    "\n",
    "range_n_clusters = [2, 3, 4, 5, 6]\n",
    "\n",
    "for n_clusters in range_n_clusters:\n",
    "    \n",
    "    clusterer = KMeans(n_clusters=n_clusters, random_state=10)\n",
    "    cluster_labels = clusterer.fit_predict(X)\n",
    "    silhouette_avg = silhouette_score(X, cluster_labels)\n",
    "    print(\"For n_clusters =\", n_clusters,\n",
    "      \"The average silhouette_score is :\", silhouette_avg)\n"
   ]
  },
  {
   "cell_type": "markdown",
   "metadata": {},
   "source": [
    "### The above is a toy example where the Silhouette_score is calculated for different K values , and the K with the highest score is selected."
   ]
  },
  {
   "cell_type": "markdown",
   "metadata": {},
   "source": [
    "### As for GMM, Information theory approaches BIC can be used to make a selection of K."
   ]
  },
  {
   "cell_type": "code",
   "execution_count": 133,
   "metadata": {},
   "outputs": [
    {
     "data": {
      "image/png": "[encoded data removed]",
      "text/plain": [
       "<matplotlib.figure.Figure at 0x237cd006ac8>"
      ]
     },
     "metadata": {},
     "output_type": "display_data"
    }
   ],
   "source": [
    "models = [GaussianMixture(n, covariance_type='full', random_state=0).fit(X_set)\n",
    "          for n in range(1,10)]\n",
    "\n",
    "plt.plot(n_components, [m.bic(X_set) for m in models], label='BIC')\n",
    "\n",
    "plt.legend(loc='best')\n",
    "plt.xlabel('n_components');"
   ]
  },
  {
   "cell_type": "code",
   "execution_count": null,
   "metadata": {},
   "outputs": [],
   "source": [
    "models = [GaussianMixture(n, covariance_type='full', random_state=0).fit(X_set)\n",
    "          for n in range(1,10)]\n",
    "\n",
    "plt.plot(n_components, [m.bic(X_set) for m in models], label='BIC')\n",
    "plt.plot(n_components, [m.aic(X_set) for m in models], label='AIC')\n",
    "plt.legend(loc='best')\n",
    "plt.xlabel('n_components');"
   ]
  },
  {
   "cell_type": "markdown",
   "metadata": {},
   "source": [
    "## 8.\t(20 points) Implement the algorithm of hierarchical clustering with maximum or complete linkage ( this can help www.econ.upf.edu/~michael/stanford/maeb7.pdf )"
   ]
  },
  {
   "cell_type": "code",
   "execution_count": 164,
   "metadata": {},
   "outputs": [
    {
     "name": "stderr",
     "output_type": "stream",
     "text": [
      "C:\\Users\\sayyapureddi\\AppData\\Local\\Continuum\\anaconda3\\lib\\site-packages\\matplotlib\\figure.py:403: UserWarning: matplotlib is currently using a non-GUI backend, so cannot show the figure\n",
      "  \"matplotlib is currently using a non-GUI backend, \"\n"
     ]
    },
    {
     "data": {
      "image/png": "[encoded data removed]",
      "text/plain": [
       "<matplotlib.figure.Figure at 0x237cee22d68>"
      ]
     },
     "metadata": {},
     "output_type": "display_data"
    }
   ],
   "source": [
    "import pandas as pd\n",
    "import numpy as np\n",
    "import random\n",
    "import matplotlib.pyplot as plt\n",
    "\n",
    "from sklearn.datasets.samples_generator import make_blobs\n",
    "\n",
    "k = 1\n",
    "\n",
    "class cluster_node:\n",
    "    \n",
    "    def __init__(self, vec, id, left=None, right=None, distance=0.0, node_vector = None):\n",
    "        \n",
    "        #left and right for generating dendrograms \n",
    "        \n",
    "        self.leftnode = left\n",
    "        self.rightnode = right\n",
    "        self.vec = vec\n",
    "        self.id = id\n",
    "        self.distance = distance\n",
    "        if node_vector is None: \n",
    "            self.node_vector = [self.id]\n",
    "        else:\n",
    "            self.node_vector = node_vector[:]\n",
    "\n",
    "def euclidean_distance(vec1, vec2):\n",
    "    return np.sqrt(sum((vec1 - vec2) ** 2))\n",
    "\n",
    "def create_distance_matrix(distances, nodes):\n",
    "    # Loop to ensure that only upper diagonal matrix is filled\n",
    "    for i in range(len(nodes)):\n",
    "        for j in range(i+1,len(nodes)):\n",
    "            distances[(nodes[i].id,nodes[j].id)] = euclidean_distance(nodes[i].vec,nodes[j].vec)\n",
    "    return distances\n",
    "\n",
    "def find_clusters_to_be_merged(distances,nodes):\n",
    "    closest = max(distances.values())\n",
    "\n",
    "    for i in range(len(nodes)):\n",
    "        for j in range(i+1,len(nodes)):\n",
    "            d = distances[(i,j)]\n",
    "            if (d > 0) & (d <= closest):\n",
    "                closest = d\n",
    "                lowestpair = (i,j)\n",
    "    return lowestpair\n",
    "\n",
    "def merge_nodes(lowestpair, num_nodes,nodes,deletenodeid):\n",
    "    maximum = max(lowestpair)\n",
    "    minimum = min(lowestpair)\n",
    "    #print(\"lowestpair vals=\", lowestpair)\n",
    "    # aggregate vectors across both the merged nodes\n",
    "    vec_list=[]\n",
    "    vec_list.append(nodes[minimum].vec)\n",
    "    vec_list.append(nodes[maximum].vec)\n",
    "\n",
    "    nodes[minimum].vec=vec_list\n",
    "    nodes[minimum].node_vector = nodes[minimum].node_vector + nodes[maximum].node_vector\n",
    "    nodes[minimum].left = nodes[minimum]\n",
    "    nodes[minimum].right = nodes[maximum]\n",
    "    # deprecated nodes are given negative id`s.\n",
    "    nodes[maximum].id = deletenodeid\n",
    "    # decrease num of nodes\n",
    "    num_nodes -=1\n",
    "    deletenodeid -=1\n",
    "    #print(\"deletenodeid\",deletenodeid)\n",
    "    return lowestpair, num_nodes, nodes, deletenodeid\n",
    "\n",
    "def update_distance_matrix(lowestpair, distances,nodes):\n",
    "    maximum = max(lowestpair)\n",
    "    minimum = min(lowestpair)\n",
    "    for i in range(len(nodes)):\n",
    "        for j in range(i+1,len(nodes)):\n",
    "            if(j==min(lowestpair)):\n",
    "                distances[i,j]=max(distances[i,minimum],distances[i,maximum])\n",
    "            if(j==max(lowestpair)):\n",
    "                distances[i,j]=-1\n",
    "    return distances\n",
    "\n",
    "def delete_merged_nodes(nodes):\n",
    "    print(\"len of nodes\", len(nodes))\n",
    "    for i in range(len(nodes)):\n",
    "        if (nodes[i].id < 0):\n",
    "            del nodes[i]\n",
    "    return nodes\n",
    "\n",
    "def seperate_out_wanted_nodes(nodes,list_keep_nodes):\n",
    "    #print(\"len of nodes\", len(nodes))\n",
    "    for i in range(len(nodes)):\n",
    "        if (nodes[i].id > 0):\n",
    "            list_keep_nodes.append(nodes[i])\n",
    "            \n",
    "    return list_keep_nodes\n",
    "\n",
    "# def nodes_debug(nodes):\n",
    "#     print(\"len of nodes\", len(nodes))\n",
    "#     for i in range(len(nodes)):\n",
    "#         #print(\"Node id =\", nodes[i].id )\n",
    "    \n",
    "\n",
    "def agglomerative_clustering(data):\n",
    "        distances = {}\n",
    "        deletenodeid = -1\n",
    "        list_keep_nodes=[]\n",
    "\n",
    "        # cluster nodes are initially just the individual rows\n",
    "        nodes = [cluster_node(np.array(data[i]), id=i) for i in range(len(data))]\n",
    "        #print(len(nodes))\n",
    "        distances = create_distance_matrix(distances, nodes)\n",
    "        #print(min(distances.values()))\n",
    "        #print(nodes)\n",
    "        num_nodes = len(nodes)\n",
    "        while num_nodes > k:\n",
    "            #lowestpair = (0,1)\n",
    "\n",
    "\n",
    "            lowestpair = find_clusters_to_be_merged(distances,nodes)\n",
    "            #print(\"lowestpair vals in main=\", lowestpair)\n",
    "            lowestpair, num_nodes,nodes,deletenodeid = merge_nodes(lowestpair, num_nodes,nodes,deletenodeid)\n",
    "            distances = update_distance_matrix(lowestpair, distances, nodes)\n",
    "\n",
    "        #print(min(distances))\n",
    "        #nodes_debug(nodes)\n",
    "        #nodes = delete_merged_nodes(nodes)\n",
    "        list_keep_nodes = seperate_out_wanted_nodes(nodes,list_keep_nodes)\n",
    "\n",
    "\n",
    "        return list_keep_nodes\n",
    "\n",
    "def main():\n",
    "    # Generate data\n",
    "    # df = pd.read_csv('./segmentation.data.modified')\n",
    "    centers = [[1, 1], [-1, -1], [1, -1]]\n",
    "    X, _ = make_blobs(n_samples = 15, centers = centers, cluster_std = 0.5)\n",
    "    df = pd.DataFrame(X) ## convert to DF\n",
    "\n",
    "    # Visualize the data\n",
    "    f = plt.figure(1)\n",
    "    plt.scatter(df[0],df[1])\n",
    "    f.show()\n",
    "    colorset = ['red', 'green', 'blue', 'yellow', 'brown', 'orange', 'black']\n",
    "\n",
    "    data = np.array(df)\n",
    "\n",
    "    # Average criterion agglomerative clustering\n",
    "    cluster = agglomerative_clustering(data)\n",
    "    #print(\"number of clusters\", len(cluster))\n",
    "    #print(cluster[1].node_vector)\n",
    "#     j = 0\n",
    "#     m = plt.figure(2)\n",
    "#     for i in cluster:\n",
    "#         plt.scatter(data[i.node_vector].T[0], data[i.node_vector].T[1], color = colorset[j])\n",
    "#         j += 1\n",
    "#     m.show()\n",
    "    \n",
    "\n",
    "\n",
    "if __name__ == '__main__':\n",
    "    main()\n",
    "\n",
    "        \n",
    "       \n",
    "\n"
   ]
  },
  {
   "cell_type": "code",
   "execution_count": null,
   "metadata": {},
   "outputs": [],
   "source": []
  }
 ],
 "metadata": {
  "kernelspec": {
   "display_name": "Python 3",
   "language": "python",
   "name": "python3"
  },
  "language_info": {
   "codemirror_mode": {
    "name": "ipython",
    "version": 3
   },
   "file_extension": ".py",
   "mimetype": "text/x-python",
   "name": "python",
   "nbconvert_exporter": "python",
   "pygments_lexer": "ipython3",
   "version": "3.8.8"
  }
 },
 "nbformat": 4,
 "nbformat_minor": 2
}
