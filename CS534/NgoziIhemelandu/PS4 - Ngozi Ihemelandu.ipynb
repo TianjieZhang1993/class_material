{
 "cells": [
  {
   "cell_type": "markdown",
   "metadata": {},
   "source": [
    "### Ngozi Ihemelandu"
   ]
  },
  {
   "cell_type": "markdown",
   "metadata": {
    "colab_type": "text",
    "id": "VuWANcq7m1KQ"
   },
   "source": [
    "# CS534 Homework 4\n",
    "\n",
    "Put your homework in the directory with your name. Please mentionin this file the names of any students with whom you collaborated. If you didn't collaborate with anyone, mark your collaborators as \"None.\" Remember, your goal is to communicate. Full credit will be given only to correct solutions which are described clearly. Convoluted and obtuse descriptions will receive low marks. To complete your homework, you may ONLY consult the following material:\n",
    "\n",
    "lecture slides course notes you or others took during lecture. the required text (CLRS) websites that may clarify the concepts covered in the material but do not in any way provide complete solutions to the problems. Deadline 04/22/2019\n",
    "\n",
    "Please provide an answer to the following question:"
   ]
  },
  {
   "cell_type": "markdown",
   "metadata": {
    "colab_type": "text",
    "id": "D9_7-Wkkm1KR"
   },
   "source": [
    "# Question 1 (15 pts)\n",
    "\n",
    "Implement the ADABoost algorithm by using the scikit implementation of the logistic regression. Evaluate the result on a real dataset between a single logistic regression and AdaBoost (use K-Fold cross validation).\n",
    "\n",
    "This links can be helpful: http://rob.schapire.net/papers/explaining-adaboost.pdf and https://en.wikipedia.org/wiki/AdaBoost\n"
   ]
  },
  {
   "cell_type": "code",
   "execution_count": 1,
   "metadata": {},
   "outputs": [
    {
     "name": "stdout",
     "output_type": "stream",
     "text": [
      "base_estimator MUST be logistic Regression model\n"
     ]
    }
   ],
   "source": [
    "import numpy as np\n",
    "import pandas as pd\n",
    "from sklearn.linear_model import LogisticRegression\n",
    "from sklearn.model_selection import train_test_split, StratifiedKFold\n",
    "from sklearn.metrics import accuracy_score\n",
    "import matplotlib.pyplot as plt\n",
    "\n",
    "class AdaBoostClassifier():\n",
    "    print(\"base_estimator MUST be logistic Regression model\")\n",
    "    def __init__(self, base_estimator, n_estimators=10, random_state=None ):\n",
    "        self.base_estimator = base_estimator\n",
    "        self.n_estimators = n_estimators\n",
    "        self.random_state = random_state\n",
    "        self.estimators_list = []          # holds the m estimators fitted on weighted samples\n",
    "        self.sample_weight_list = []       # list of sample weight vectors used to weight the sample at each estimator fit\n",
    "        self.estimators_error_list = []    # list of errors made by each weak estimators\n",
    "        self.estimators_weight_list = []   # list of weights for each weak estimators\n",
    "        self.y_pred_list = []\n",
    "        \n",
    "    def fit(self, X_train, y_train, sample_weight=None):\n",
    "        \"\"\"\n",
    "        Build a boosted classifier\n",
    "        \"\"\"\n",
    "        n_obs = len(y_train)          # sample size\n",
    "        \n",
    "        # Initialize the observation weights\n",
    "        sample_weight =  sample_weight\n",
    "        if sample_weight==None:\n",
    "            sample_weight = np.ones(n_obs)/n_obs\n",
    "        \n",
    "        # Fit m estimators with weighted samples\n",
    "        for m in range(self.n_estimators):\n",
    "            \n",
    "            self.sample_weight_list.append(sample_weight)  # append vector of sample weight to the list\n",
    "            \n",
    "            # Fit a classifier Gm(x) to the training data using weights (sample_weight_i)\n",
    "            log_reg = self.base_estimator.fit(X_train, y_train, sample_weight=sample_weight)\n",
    "            y_pred = log_reg.predict(X_train)\n",
    "\n",
    "            # Estimator error\n",
    "            err_m = np.sum(sample_weight*(y_pred != y_train))/np.sum(sample_weight)\n",
    "            \n",
    "            # Estimator weight/Coefficient\n",
    "            alpha_m = np.log((1-err_m)/err_m)\n",
    "\n",
    "            # Compute Boost sample weights\n",
    "            sample_weight = sample_weight * np.exp(alpha_m * (y_pred != y_train))\n",
    "\n",
    "            #Update list for each weak estimator\n",
    "            self.estimators_list.append(log_reg)\n",
    "            self.estimators_weight_list.append(alpha_m)\n",
    "            self.y_pred_list.append(y_pred)\n",
    "            self.estimators_error_list.append(err_m)\n",
    "        \n",
    "        return self\n",
    "    \n",
    "    def predict(self, X_t):\n",
    "        n_obs = X_t.shape[0]\n",
    "        pred_list = [clf.predict(X_t) for clf in self.estimators_list]\n",
    "        y_predict = np.array([ np.sign((np.asarray(pred_list)[:,idx] * np.asarray(self.estimators_weight_list)).sum()) \n",
    "                              for idx in range(n_obs)])\n",
    "        \n",
    "        return(y_predict)  "
   ]
  },
  {
   "cell_type": "code",
   "execution_count": 2,
   "metadata": {},
   "outputs": [
    {
     "data": {
      "text/html": [
       "<div>\n",
       "<style scoped>\n",
       "    .dataframe tbody tr th:only-of-type {\n",
       "        vertical-align: middle;\n",
       "    }\n",
       "\n",
       "    .dataframe tbody tr th {\n",
       "        vertical-align: top;\n",
       "    }\n",
       "\n",
       "    .dataframe thead th {\n",
       "        text-align: right;\n",
       "    }\n",
       "</style>\n",
       "<table border=\"1\" class=\"dataframe\">\n",
       "  <thead>\n",
       "    <tr style=\"text-align: right;\">\n",
       "      <th></th>\n",
       "      <th>sepal-length</th>\n",
       "      <th>sepal-width</th>\n",
       "      <th>petal-length</th>\n",
       "      <th>petal-width</th>\n",
       "      <th>class</th>\n",
       "    </tr>\n",
       "  </thead>\n",
       "  <tbody>\n",
       "    <tr>\n",
       "      <th>0</th>\n",
       "      <td>5.1</td>\n",
       "      <td>3.5</td>\n",
       "      <td>1.4</td>\n",
       "      <td>0.2</td>\n",
       "      <td>Iris-setosa</td>\n",
       "    </tr>\n",
       "    <tr>\n",
       "      <th>1</th>\n",
       "      <td>4.9</td>\n",
       "      <td>3.0</td>\n",
       "      <td>1.4</td>\n",
       "      <td>0.2</td>\n",
       "      <td>Iris-setosa</td>\n",
       "    </tr>\n",
       "    <tr>\n",
       "      <th>2</th>\n",
       "      <td>4.7</td>\n",
       "      <td>3.2</td>\n",
       "      <td>1.3</td>\n",
       "      <td>0.2</td>\n",
       "      <td>Iris-setosa</td>\n",
       "    </tr>\n",
       "    <tr>\n",
       "      <th>3</th>\n",
       "      <td>4.6</td>\n",
       "      <td>3.1</td>\n",
       "      <td>1.5</td>\n",
       "      <td>0.2</td>\n",
       "      <td>Iris-setosa</td>\n",
       "    </tr>\n",
       "    <tr>\n",
       "      <th>4</th>\n",
       "      <td>5.0</td>\n",
       "      <td>3.6</td>\n",
       "      <td>1.4</td>\n",
       "      <td>0.2</td>\n",
       "      <td>Iris-setosa</td>\n",
       "    </tr>\n",
       "  </tbody>\n",
       "</table>\n",
       "</div>"
      ],
      "text/plain": [
       "   sepal-length  sepal-width  petal-length  petal-width        class\n",
       "0           5.1          3.5           1.4          0.2  Iris-setosa\n",
       "1           4.9          3.0           1.4          0.2  Iris-setosa\n",
       "2           4.7          3.2           1.3          0.2  Iris-setosa\n",
       "3           4.6          3.1           1.5          0.2  Iris-setosa\n",
       "4           5.0          3.6           1.4          0.2  Iris-setosa"
      ]
     },
     "execution_count": 2,
     "metadata": {},
     "output_type": "execute_result"
    }
   ],
   "source": [
    "#load the iris data\n",
    "filename = \"iris.csv\"\n",
    "names = ['sepal-length', 'sepal-width', 'petal-length', 'petal-width', 'class']\n",
    "data_iris = pd.read_csv(filename, names=names)\n",
    "data_iris.head()"
   ]
  },
  {
   "cell_type": "code",
   "execution_count": 4,
   "metadata": {},
   "outputs": [
    {
     "name": "stdout",
     "output_type": "stream",
     "text": [
      "fold- 0 :  0.5833333333333334\n",
      "fold- 1 :  0.25\n",
      "fold- 2 :  0.6363636363636364\n",
      "fold- 3 :  0.5\n",
      "fold- 4 :  0.7\n",
      "fold- 5 :  0.4\n",
      "fold- 6 :  0.6\n",
      "fold- 7 :  0.6\n",
      "fold- 8 :  0.6\n",
      "fold- 9 :  0.8\n",
      "Mean - model performance estimation:  0.5669696969696969\n",
      "Standard deviation - model performance estimation:  0.14601030191210077\n"
     ]
    }
   ],
   "source": [
    "# classify iris dataset (Iris-Versicolor vs. others)\n",
    "X = data_iris[['sepal-length', 'sepal-width', 'petal-length', 'petal-width']].values\n",
    "y = data_iris[\"class\"]=='Iris-versicolor'\n",
    "y = y.values.astype(int)\n",
    "\n",
    "#Split data into train and test(This test set held out for final evaluation)\n",
    "X_train, X_test, y_train, y_test = train_test_split(X, y, test_size=0.3, random_state=0)\n",
    "\n",
    "# Use the Stratified Cross Validation for model assessment - to obtain 10 accuracy measurements (distributions), \n",
    "# which allows us to estimate a central tendency(mean) and a spread(standard deviation). \n",
    "n_splits=10\n",
    "skf = StratifiedKFold(n_splits=n_splits, random_state=123, shuffle=True)\n",
    "cvFolds = list(skf.split(X_train, y_train))\n",
    "ave = 0\n",
    "folds_performance = []\n",
    "\n",
    "for i, fold in enumerate(cvFolds):\n",
    "    \n",
    "    train_index = fold[0]\n",
    "    test_index = fold[1]\n",
    "    cvX_train, cvX_test = X_train[train_index], X_train[test_index]\n",
    "    cvy_train, cvy_test = y_train[train_index], y_train[test_index]\n",
    "    \n",
    "    # Fit Ada Boost with a logistic regression base estimator\n",
    "    Ada_clf = AdaBoostClassifier(base_estimator = LogisticRegression(solver='lbfgs'), n_estimators = 5)\n",
    "    Ada_clf.fit(cvX_train, cvy_train)\n",
    "   \n",
    "    # Test on k_i fold\n",
    "    pred = Ada_clf.predict(cvX_test)\n",
    "    accuracy_rate = np.mean(pred == cvy_test)\n",
    "    folds_performance.append(accuracy_rate)\n",
    "    ave = ave + accuracy_rate\n",
    "    # Print the accuracy measurements (distribution)\n",
    "    print(\"fold-\",i,\": \", accuracy_rate)\n",
    "    \n",
    "# Print the mean and standard deviation for the model estimation performance\n",
    "print(\"Mean - model performance estimation: \", ave/n_splits)\n",
    "se = np.array(folds_performance)\n",
    "print(\"Standard deviation - model performance estimation: \", np.std(se))"
   ]
  },
  {
   "cell_type": "code",
   "execution_count": 243,
   "metadata": {},
   "outputs": [
    {
     "name": "stdout",
     "output_type": "stream",
     "text": [
      "fold- 0 :  0.75\n",
      "fold- 1 :  0.75\n",
      "fold- 2 :  0.6363636363636364\n",
      "fold- 3 :  0.9\n",
      "fold- 4 :  0.6\n",
      "fold- 5 :  0.8\n",
      "fold- 6 :  0.9\n",
      "fold- 7 :  0.7\n",
      "fold- 8 :  0.4\n",
      "fold- 9 :  0.9\n",
      "Mean - model performance estimation:  0.7336363636363638\n",
      "Standard deviation - model performance estimation:  0.1509090909090909\n"
     ]
    }
   ],
   "source": [
    "# Logistic Regression Model Fitting\n",
    "ave = 0\n",
    "folds_performance = []\n",
    "\n",
    "# Use the Stratified Cross Validation for model assessment\n",
    "# Estimate the mean and standard deviation of the obtained distribution\n",
    "for i, fold in enumerate(cvFolds):\n",
    "    \n",
    "    train_index = fold[0]\n",
    "    test_index = fold[1]\n",
    "    cvX_train, cvX_test = X_train[train_index], X_train[test_index]\n",
    "    cvy_train, cvy_test = y_train[train_index], y_train[test_index]\n",
    "    \n",
    "    # fit the standard Logistic Regression Model\n",
    "    clf_logit = LogisticRegression(solver='lbfgs')\n",
    "    clf_logit.fit(cvX_train, cvy_train)\n",
    "    \n",
    "    # Test on k_i fold\n",
    "    pred = clf_logit.predict(cvX_test)\n",
    "    accuracy_rate = np.mean(pred == cvy_test)\n",
    "    folds_performance.append(accuracy_rate)\n",
    "    ave = ave + accuracy_rate\n",
    "    # Print the accuracy measurements (distribution)\n",
    "    print(\"fold-\",i,\": \", accuracy_rate)\n",
    "\n",
    "# Print the mean and standard deviation for the model estimation performance\n",
    "print(\"Mean - model performance estimation: \", ave/n_splits)\n",
    "se = np.array(folds_performance)\n",
    "print(\"Standard deviation - model performance estimation: \", np.std(se))"
   ]
  },
  {
   "cell_type": "markdown",
   "metadata": {},
   "source": [
    "##### From the above statistics, it appears that adding multiple linear models together will still be a linear model hence the power of the boosting algorithm is not improved."
   ]
  },
  {
   "cell_type": "markdown",
   "metadata": {
    "colab_type": "text",
    "id": "cBCQhHD-m1KS"
   },
   "source": [
    "## Question 2 (10 pts)\n",
    "Use DBscan (try with different parameters) and K-means (K=3) on IRIS Dataset and discuss/compare the results with the iris ground truth.\n",
    "Please provide an explanation of why K-fold cross validation is not required for the comparison among these different algorithms."
   ]
  },
  {
   "cell_type": "code",
   "execution_count": 6,
   "metadata": {},
   "outputs": [],
   "source": [
    "# Import all dependencies\n",
    "from sklearn.cluster import DBSCAN, KMeans\n",
    "import matplotlib.pyplot as plt\n",
    "import scipy.spatial"
   ]
  },
  {
   "cell_type": "code",
   "execution_count": 7,
   "metadata": {},
   "outputs": [
    {
     "data": {
      "text/plain": [
       "Iris-setosa        50\n",
       "Iris-versicolor    50\n",
       "Iris-virginica     50\n",
       "Name: class, dtype: int64"
      ]
     },
     "execution_count": 7,
     "metadata": {},
     "output_type": "execute_result"
    }
   ],
   "source": [
    "data_iris[\"class\"].value_counts()"
   ]
  },
  {
   "cell_type": "code",
   "execution_count": 8,
   "metadata": {},
   "outputs": [
    {
     "data": {
      "text/plain": [
       "2    50\n",
       "1    50\n",
       "0    50\n",
       "dtype: int64"
      ]
     },
     "execution_count": 8,
     "metadata": {},
     "output_type": "execute_result"
    }
   ],
   "source": [
    "# We will use the Iris dataset already imported in question 1\n",
    "X_data_DBSCAN = data_iris.iloc[: , 0:4]\n",
    "X_data_Kmeans = data_iris.iloc[: , 0:4]\n",
    "y_data = np.where(data_iris[\"class\"]=='Iris-versicolor', 0, np.where(data_iris[\"class\"]=='Iris-virginica', 1, 2))\n",
    "pd.Series(y_data).value_counts()"
   ]
  },
  {
   "cell_type": "markdown",
   "metadata": {},
   "source": [
    "#### K-MEANS"
   ]
  },
  {
   "cell_type": "code",
   "execution_count": 12,
   "metadata": {},
   "outputs": [
    {
     "name": "stdout",
     "output_type": "stream",
     "text": [
      "2    62\n",
      "1    50\n",
      "0    38\n",
      "dtype: int64\n"
     ]
    },
    {
     "data": {
      "text/plain": [
       "Text(0.5, 1.0, 'Predicted Clusters by K-Means')"
      ]
     },
     "execution_count": 12,
     "metadata": {},
     "output_type": "execute_result"
    },
    {
     "data": {
      "image/png": "[encoded data removed]",
      "text/plain": [
       "<Figure size 432x288 with 1 Axes>"
      ]
     },
     "metadata": {
      "needs_background": "light"
     },
     "output_type": "display_data"
    }
   ],
   "source": [
    "# Using K-means, cluster the data into three clusters\n",
    "kmeans = KMeans(n_clusters=3)\n",
    "kmeans.fit(X)\n",
    "kmeans.predict(X)\n",
    "pred_labels = pd.Series(kmeans.labels_)\n",
    "print(pred_labels.value_counts())\n",
    "(pred_labels.value_counts()).plot.bar()\n",
    "plt.xlabel('Clusters')\n",
    "plt.ylabel('number of data points')\n",
    "plt.title('Predicted Clusters by K-Means')"
   ]
  },
  {
   "cell_type": "markdown",
   "metadata": {},
   "source": [
    "#####  Compare the result of K-means with ground truth"
   ]
  },
  {
   "cell_type": "code",
   "execution_count": 20,
   "metadata": {},
   "outputs": [
    {
     "name": "stdout",
     "output_type": "stream",
     "text": [
      "Ground Truth Cluster -  0\n",
      "2    0.96\n",
      "0    0.04\n",
      "Name: pred_y, dtype: float64\n",
      "Ground Truth Cluster -  1\n",
      "0    0.72\n",
      "2    0.28\n",
      "Name: pred_y, dtype: float64\n",
      "Ground Truth Cluster -  2\n",
      "1    1.0\n",
      "Name: pred_y, dtype: float64\n"
     ]
    },
    {
     "data": {
      "image/png": "[encoded data removed]",
      "text/plain": [
       "<Figure size 432x288 with 1 Axes>"
      ]
     },
     "metadata": {
      "needs_background": "light"
     },
     "output_type": "display_data"
    },
    {
     "data": {
      "image/png": "[encoded data removed]",
      "text/plain": [
       "<Figure size 432x288 with 1 Axes>"
      ]
     },
     "metadata": {
      "needs_background": "light"
     },
     "output_type": "display_data"
    },
    {
     "data": {
      "image/png": "[encoded data removed]",
      "text/plain": [
       "<Figure size 432x288 with 1 Axes>"
      ]
     },
     "metadata": {
      "needs_background": "light"
     },
     "output_type": "display_data"
    }
   ],
   "source": [
    "X_data_Kmeans[\"true_y\"] = y_data\n",
    "X_data_Kmeans[\"pred_y\"] = kmeans.labels_\n",
    "grouped = X_data_Kmeans.groupby('true_y')\n",
    "\n",
    "for name,group in grouped:\n",
    "    print(\"Ground Truth Cluster - \", name)\n",
    "    print(group[\"pred_y\"].value_counts()/50)\n",
    "    \n",
    "    fig, ax = plt.subplots()\n",
    "    merged_clusts = pd.concat([X_data_Kmeans[X_data_Kmeans[\"true_y\"]==name][\"true_y\"].value_counts(), group[\"pred_y\"].value_counts()])\n",
    "    merged_clusts.plot(kind='bar', legend = True)\n",
    "    plt.title('Ground Truth Cluster - Predicted clusters')\n",
    "    ax.legend([\"Ground Truth\"])"
   ]
  },
  {
   "cell_type": "markdown",
   "metadata": {},
   "source": [
    "From the bar plots above, we see that the K-means algorithm does a good job of classifying data points in groups that align with the ground truth:\n",
    "* 96% of data points from original group 0 clustered together and labeled 2\n",
    "* 72% of data points from original group 1 clustered together and labeled 0\n",
    "* 100% of data points from original group 2 clustered together and labeled 1"
   ]
  },
  {
   "cell_type": "markdown",
   "metadata": {},
   "source": [
    "#### DBSCAN\n",
    "##### Note - Predicted Cluster with label -1 indicates noise"
   ]
  },
  {
   "cell_type": "markdown",
   "metadata": {},
   "source": [
    "##### DBSCAN core point that requires a minimum of 5 data points in a neighborhood of radius 0.15 "
   ]
  },
  {
   "cell_type": "code",
   "execution_count": 21,
   "metadata": {},
   "outputs": [
    {
     "data": {
      "text/plain": [
       "Text(0.5, 1.0, 'Predicted Clusters by DSCAN')"
      ]
     },
     "execution_count": 21,
     "metadata": {},
     "output_type": "execute_result"
    },
    {
     "data": {
      "image/png": "[encoded data removed]",
      "text/plain": [
       "<Figure size 432x288 with 1 Axes>"
      ]
     },
     "metadata": {
      "needs_background": "light"
     },
     "output_type": "display_data"
    }
   ],
   "source": [
    "dbsc = DBSCAN(eps = .15, min_samples = 5).fit(X)\n",
    "\n",
    "# Extract cluster labels\n",
    "labels = dbsc.labels_\n",
    "\n",
    "# Plot predicted custers\n",
    "(pd.Series(labels).value_counts()).plot.bar()\n",
    "plt.xlabel('Clusters')\n",
    "plt.ylabel('number of data points')\n",
    "plt.title('Predicted Clusters by DSCAN - (0.15,5)')"
   ]
  },
  {
   "cell_type": "markdown",
   "metadata": {},
   "source": [
    "##### Compare the result with the ground truth"
   ]
  },
  {
   "cell_type": "code",
   "execution_count": 25,
   "metadata": {},
   "outputs": [
    {
     "name": "stdout",
     "output_type": "stream",
     "text": [
      "Ground Truth Cluster -  0\n",
      "-1    50\n",
      "Name: pred_y, dtype: int64\n",
      "Ground Truth Cluster -  1\n",
      "-1    50\n",
      "Name: pred_y, dtype: int64\n",
      "Ground Truth Cluster -  2\n",
      "-1    43\n",
      " 0     7\n",
      "Name: pred_y, dtype: int64\n"
     ]
    },
    {
     "data": {
      "image/png": "[encoded data removed]",
      "text/plain": [
       "<Figure size 432x288 with 1 Axes>"
      ]
     },
     "metadata": {
      "needs_background": "light"
     },
     "output_type": "display_data"
    },
    {
     "data": {
      "image/png": "[encoded data removed]",
      "text/plain": [
       "<Figure size 432x288 with 1 Axes>"
      ]
     },
     "metadata": {
      "needs_background": "light"
     },
     "output_type": "display_data"
    },
    {
     "data": {
      "image/png": "[encoded data removed]",
      "text/plain": [
       "<Figure size 432x288 with 1 Axes>"
      ]
     },
     "metadata": {
      "needs_background": "light"
     },
     "output_type": "display_data"
    }
   ],
   "source": [
    "X_data_DBSCAN[\"true_y\"] = y_data\n",
    "X_data_DBSCAN[\"pred_y\"] = labels\n",
    "\n",
    "grouped = X_data_DBSCAN.groupby('true_y')\n",
    "for name,group in grouped:\n",
    "    fig, ax = plt.subplots()\n",
    "\n",
    "    print(\"Ground Truth Cluster - \", name)\n",
    "    groundTruth = X_data_DBSCAN[X_data_DBSCAN[\"true_y\"]==name][\"true_y\"].value_counts()\n",
    "    pred_clusters = group[\"pred_y\"].value_counts()\n",
    "    print(pred_clusters)\n",
    "    merged_clusts = pd.concat([groundTruth, pred_clusters])\n",
    "    merged_clusts.plot(kind='bar', legend = True)\n",
    "    plt.title('Ground Truth Cluster - Predicted clusters')\n",
    "    ax.legend([\"Ground Truth\"])\n",
    "    plt.xlabel('Clusters')\n",
    "    plt.ylabel('number of data points')"
   ]
  },
  {
   "cell_type": "markdown",
   "metadata": {},
   "source": [
    "##### When the radius of the neighbourhood is quite small, as in our case, 0.15 DSCAN classifies most of the data points as outliers/noise"
   ]
  },
  {
   "cell_type": "markdown",
   "metadata": {},
   "source": [
    "#### DBSCAN core point that requires a minimum of 5 data points in a neighborhood of radius 0.5 "
   ]
  },
  {
   "cell_type": "code",
   "execution_count": 26,
   "metadata": {},
   "outputs": [
    {
     "data": {
      "text/plain": [
       "Text(0.5, 1.0, 'Predicted Clusters by DSCAN - (0.5,5)')"
      ]
     },
     "execution_count": 26,
     "metadata": {},
     "output_type": "execute_result"
    },
    {
     "data": {
      "image/png": "[encoded data removed]",
      "text/plain": [
       "<Figure size 432x288 with 1 Axes>"
      ]
     },
     "metadata": {
      "needs_background": "light"
     },
     "output_type": "display_data"
    }
   ],
   "source": [
    "dbsc = DBSCAN(eps = .5, min_samples = 5).fit(X)\n",
    "# Plot predicted custers\n",
    "(pd.Series(dbsc.labels_).value_counts()).plot.bar()\n",
    "plt.xlabel('Clusters')\n",
    "plt.ylabel('number of data points')\n",
    "plt.title('Predicted Clusters by DSCAN - (0.5,5)')"
   ]
  },
  {
   "cell_type": "markdown",
   "metadata": {},
   "source": [
    "###### Compare the result with the ground truth"
   ]
  },
  {
   "cell_type": "code",
   "execution_count": 32,
   "metadata": {},
   "outputs": [
    {
     "name": "stdout",
     "output_type": "stream",
     "text": [
      "Cluster -  0\n",
      " 1    0.88\n",
      "-1    0.12\n",
      "Name: pred_y, dtype: float64\n",
      "Cluster -  1\n",
      " 1    0.8\n",
      "-1    0.2\n",
      "Name: pred_y, dtype: float64\n",
      "Cluster -  2\n",
      " 0    0.98\n",
      "-1    0.02\n",
      "Name: pred_y, dtype: float64\n"
     ]
    },
    {
     "data": {
      "image/png": "[encoded data removed]",
      "text/plain": [
       "<Figure size 432x288 with 1 Axes>"
      ]
     },
     "metadata": {
      "needs_background": "light"
     },
     "output_type": "display_data"
    },
    {
     "data": {
      "image/png": "[encoded data removed]",
      "text/plain": [
       "<Figure size 432x288 with 1 Axes>"
      ]
     },
     "metadata": {
      "needs_background": "light"
     },
     "output_type": "display_data"
    },
    {
     "data": {
      "image/png": "[encoded data removed]",
      "text/plain": [
       "<Figure size 432x288 with 1 Axes>"
      ]
     },
     "metadata": {
      "needs_background": "light"
     },
     "output_type": "display_data"
    }
   ],
   "source": [
    "X_data_DBSCAN[\"true_y\"] = y_data\n",
    "X_data_DBSCAN[\"pred_y\"] = dbsc.labels_\n",
    "grouped = X_data_DBSCAN.groupby('true_y')\n",
    "for name,group in grouped:\n",
    "    fig, ax = plt.subplots()\n",
    "    print(\"Cluster - \", name)\n",
    "    print(group[\"pred_y\"].value_counts()/50)\n",
    "    \n",
    "    merged_clusts = pd.concat([X_data_DBSCAN[X_data_DBSCAN[\"true_y\"]==name][\"true_y\"].value_counts(), \n",
    "                               group[\"pred_y\"].value_counts()])\n",
    "    merged_clusts.plot(kind='bar', legend = True)\n",
    "    plt.title('Ground Truth Cluster - Predicted clusters')\n",
    "    plt.legend([\"Ground Truth\"])\n",
    "    plt.xlabel('Clusters')\n",
    "    plt.ylabel('number of data points')"
   ]
  },
  {
   "cell_type": "markdown",
   "metadata": {},
   "source": [
    "#### The performance of the DSCAN algorithmn significantly improves with an increased radius of 0.5 and minumum points in a neighbourhood still set at 5\n",
    "* 88% of data points from original group 0 and 80% of data points from original group 1 are clustered together and labeled 1\n",
    "* 98% of data points from original group 2 are clustered together and labeled 0"
   ]
  },
  {
   "cell_type": "markdown",
   "metadata": {},
   "source": [
    "##### DBSCAN core point that requires a minimum of 10 data points in a neighborhood of radius 0.5"
   ]
  },
  {
   "cell_type": "code",
   "execution_count": 37,
   "metadata": {},
   "outputs": [
    {
     "name": "stdout",
     "output_type": "stream",
     "text": [
      "Cluster -  0\n",
      " 1    0.88\n",
      "-1    0.12\n",
      "Name: pred_y, dtype: float64\n",
      "Cluster -  1\n",
      " 1    0.56\n",
      "-1    0.44\n",
      "Name: pred_y, dtype: float64\n",
      "Cluster -  2\n",
      " 0    0.96\n",
      "-1    0.04\n",
      "Name: pred_y, dtype: float64\n"
     ]
    },
    {
     "data": {
      "image/png": "[encoded data removed]",
      "text/plain": [
       "<Figure size 432x288 with 1 Axes>"
      ]
     },
     "metadata": {
      "needs_background": "light"
     },
     "output_type": "display_data"
    },
    {
     "data": {
      "image/png": "[encoded data removed]",
      "text/plain": [
       "<Figure size 432x288 with 1 Axes>"
      ]
     },
     "metadata": {
      "needs_background": "light"
     },
     "output_type": "display_data"
    },
    {
     "data": {
      "image/png": "[encoded data removed]",
      "text/plain": [
       "<Figure size 432x288 with 1 Axes>"
      ]
     },
     "metadata": {
      "needs_background": "light"
     },
     "output_type": "display_data"
    }
   ],
   "source": [
    "dbsc = DBSCAN(eps = .5, min_samples = 10).fit(X)\n",
    "\n",
    "# Extract cluster labels\n",
    "labels = dbsc.labels_\n",
    "\n",
    "# Compare the result of DBSCAN with the ground truth\n",
    "X_data_DBSCAN[\"true_y\"] = y_data\n",
    "X_data_DBSCAN[\"pred_y\"] = labels\n",
    "grouped = X_data_DBSCAN.groupby('true_y')\n",
    "for name,group in grouped:\n",
    "    fig, ax = plt.subplots()\n",
    "    print(\"Cluster - \", name)\n",
    "    print(group[\"pred_y\"].value_counts()/50)\n",
    "    merged_clusts = pd.concat([X_data_DBSCAN[X_data_DBSCAN[\"true_y\"]==name][\"true_y\"].value_counts(), \n",
    "                               group[\"pred_y\"].value_counts()])\n",
    "    merged_clusts.plot(kind='bar', legend = True)\n",
    "    plt.title('Ground Truth Cluster - Predicted clusters')\n",
    "    plt.legend([\"Ground Truth\"])\n",
    "    plt.xlabel('Clusters')\n",
    "    plt.ylabel('number of data points')"
   ]
  },
  {
   "cell_type": "markdown",
   "metadata": {},
   "source": [
    "#### The performance of the DSCAN algorithmn significantly improves with radius at 0.5 and minumum points in a neighbourhood still set at 10\n",
    "* 88% of data points from original group 0 and 56% of data points from original group 1 are clustered together and labeled 1\n",
    "* 96% of data points from original group 2 are clustered together and labeled 0"
   ]
  },
  {
   "cell_type": "markdown",
   "metadata": {},
   "source": [
    "#### Explanation of why K-fold cross validation is not required for the comparison of Clustering algorithms."
   ]
  },
  {
   "cell_type": "markdown",
   "metadata": {},
   "source": [
    "K-fold cross validation is a technique used for model validation/assessment to evaluate a model's preformance as well as model selection. In order to perform these tasks, there must exists some ground truths. In other words, K-folds are used for classification/supervised problems where a label variable exists. On the other hand, clustering algorithms are used to solve unsupervised problems where the ground truth does not exist. That is the dataset doesn't have a label variable. "
   ]
  },
  {
   "cell_type": "markdown",
   "metadata": {
    "colab_type": "text",
    "id": "_mHkf54Sm1KT"
   },
   "source": [
    "# Extra Points ( 5pts)\n",
    "Implement DBScan by using the KD-tree (you can use for the  KD-tree the implementation in scikit or Numpy). Note that the KD-tree is used for  K-nearest neighbor. "
   ]
  },
  {
   "cell_type": "code",
   "execution_count": 39,
   "metadata": {},
   "outputs": [],
   "source": [
    "spec = data_iris[\"class\"].unique().tolist()\n",
    "n,q = data_iris.shape\n",
    "c = list(data_iris.columns.values)\n",
    "p = q-1\n",
    "\n",
    "spec = data_iris[\"class\"].unique().tolist()\n",
    "n,q = data_iris.shape\n",
    "c = list(data_iris.columns.values)\n",
    "p = q-1\n",
    "X = data_iris[c[0:p]].values\n",
    "y = data_iris[c[p]].values"
   ]
  },
  {
   "cell_type": "code",
   "execution_count": 40,
   "metadata": {},
   "outputs": [],
   "source": [
    "def dbscan(X,min_size_cluster,dist_neighbor):\n",
    "    n,_ = X.shape\n",
    "    kdtree = scipy.spatial.KDTree(X)\n",
    "    X_visit = np.zeros((n,1),dtype=bool)\n",
    "    clusters = np.zeros((n,1))\n",
    "    c = 0\n",
    "    for k in range(0,n):\n",
    "        if X_visit[k]==0: # if k has not been visited\n",
    "            X_visit[k] = 1 # k is flagged\n",
    "            # Find all points within distance \"dist_neighbor\" of point(s) 'X[k,:]'.\n",
    "            Neighbors = kdtree.query_ball_point(X[k,:],dist_neighbor) \n",
    "            if len(Neighbors) < min_size_cluster:\n",
    "                clusters[k] = -1 # Not a core point, mark as outlier\n",
    "            else: # if the point has a enough neighbours, this makes it a core point\n",
    "                c = c + 1 # Update cluster\n",
    "                clusters[k] = c # we create a cluster and k belong to it\n",
    "                while len(Neighbors) > 0: # Then we study all of its neighbors\n",
    "                    i = Neighbors.pop()\n",
    "                    if X_visit[i]==0:   # if i has not been visited, we flag it\n",
    "                        X_visit[i] = 1\n",
    "                        # Get the neighbours of X[i,:] within a radius of dist_neighbor\n",
    "                        Vi = kdtree.query_ball_point(X[i,:],dist_neighbor)\n",
    "                        if len(Vi)>=min_size_cluster: #This is a core point\n",
    "                            Neighbors.extend(Vi) # add its neighbours\n",
    "                        if clusters[i]<=0: # If marked as outlier(-1), change to C cause it is density reachable \n",
    "                                            # and a member of cluster c\n",
    "                            clusters[i] = c\n",
    "        return clusters"
   ]
  },
  {
   "cell_type": "code",
   "execution_count": 51,
   "metadata": {},
   "outputs": [],
   "source": [
    "min_size_cluster = 5\n",
    "dist_neighbor = 0.5\n",
    "db_clusters = dbscan(X,min_size_cluster,dist_neighbor)\n",
    "db_clusters = db_clusters.reshape(db_clusters.shape[0],)\n"
   ]
  },
  {
   "cell_type": "code",
   "execution_count": 52,
   "metadata": {},
   "outputs": [
    {
     "data": {
      "text/plain": [
       "Text(0.5, 1.0, 'Predicted Clusters by DSCAN - (0.5,5)')"
      ]
     },
     "execution_count": 52,
     "metadata": {},
     "output_type": "execute_result"
    },
    {
     "data": {
      "image/png": "[encoded data removed]",
      "text/plain": [
       "<Figure size 432x288 with 1 Axes>"
      ]
     },
     "metadata": {
      "needs_background": "light"
     },
     "output_type": "display_data"
    }
   ],
   "source": [
    "(pd.Series(db_clusters).value_counts()).plot.bar()\n",
    "plt.xlabel('Clusters')\n",
    "plt.ylabel('number of data points')\n",
    "plt.title('Predicted Clusters by DSCAN - (0.5,5)')"
   ]
  },
  {
   "cell_type": "markdown",
   "metadata": {
    "colab_type": "text",
    "id": "AqC9w6tkm1KU"
   },
   "source": []
  }
 ],
 "metadata": {
  "colab": {
   "name": "PS3.ipynb",
   "provenance": [],
   "version": "0.3.2"
  },
  "kernelspec": {
   "display_name": "Python 3",
   "language": "python",
   "name": "python3"
  },
  "language_info": {
   "codemirror_mode": {
    "name": "ipython",
    "version": 3
   },
   "file_extension": ".py",
   "mimetype": "text/x-python",
   "name": "python",
   "nbconvert_exporter": "python",
   "pygments_lexer": "ipython3",
   "version": "3.7.1"
  }
 },
 "nbformat": 4,
 "nbformat_minor": 1
}
