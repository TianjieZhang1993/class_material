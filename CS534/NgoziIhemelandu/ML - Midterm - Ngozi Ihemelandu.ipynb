{
 "cells": [
  {
   "cell_type": "markdown",
   "metadata": {},
   "source": [
    "### Ngozi Ihemelandu"
   ]
  },
  {
   "cell_type": "code",
   "execution_count": 1,
   "metadata": {},
   "outputs": [],
   "source": [
    "import numpy as np\n",
    "import pandas as pd\n",
    "import scipy.linalg\n",
    "from sklearn import svm, datasets, preprocessing\n",
    "from sklearn.model_selection import GridSearchCV, cross_val_score, KFold, train_test_split\n",
    "from scipy.stats import mode"
   ]
  },
  {
   "cell_type": "code",
   "execution_count": 2,
   "metadata": {},
   "outputs": [
    {
     "data": {
      "text/plain": [
       "array([[-1.14301691, -0.13197948, -1.34022653, -1.3154443 ],\n",
       "       [-1.38535265,  0.32841405, -1.39706395, -1.3154443 ],\n",
       "       [-1.50652052,  0.09821729, -1.2833891 , -1.3154443 ],\n",
       "       [-1.02184904,  1.24920112, -1.34022653, -1.3154443 ],\n",
       "       [-0.53717756,  1.93979142, -1.16971425, -1.05217993]])"
      ]
     },
     "execution_count": 2,
     "metadata": {},
     "output_type": "execute_result"
    }
   ],
   "source": [
    "# Get the iris dataset - (we will be using this dataset at several of the questions)\n",
    "iris = datasets.load_iris()\n",
    "\n",
    "y = iris.target\n",
    "X = iris.data\n",
    "X_scaled = preprocessing.scale(X)\n",
    "X_cov = np.cov(X_scaled.T)\n",
    "X_scaled[1:6,:]"
   ]
  },
  {
   "cell_type": "markdown",
   "metadata": {},
   "source": [
    "### Question 1\n",
    "\n",
    "##### Design and implement a gradient approach to determine the first dimension of the PCA transformation"
   ]
  },
  {
   "cell_type": "code",
   "execution_count": 3,
   "metadata": {},
   "outputs": [],
   "source": [
    "# We would implement the algorithm called Power Iteration to determine the first dimension of the PCA transformation\n",
    "\n",
    "# The input Matrix(A) has to be a symmetric matrix. Hence the covariance of a dataset should be used.\n",
    "# For sufficiently large [num_simulations], np.dot(A, b_k) converges to the eigenvector corresponding\n",
    "# to the largest eigenvalue of A - \"top eigenvector\"\n",
    "def power_iteration(A, max_iter):\n",
    "    # Ideally choose a random vector\n",
    "    # To decrease the chance that our vector\n",
    "    # Is orthogonal to the eigenvector\n",
    "    b_k = np.random.rand(A.shape[1])\n",
    "\n",
    "    for _ in range(max_iter):\n",
    "        # calculate the matrix-by-vector product Ab\n",
    "        b_k1 = np.dot(A, b_k)\n",
    "\n",
    "        # calculate the norm\n",
    "        b_k1_norm = np.linalg.norm(b_k1)\n",
    "\n",
    "        # re normalize the vector\n",
    "        b_k = b_k1 / b_k1_norm\n",
    "\n",
    "    return b_k"
   ]
  },
  {
   "cell_type": "code",
   "execution_count": 4,
   "metadata": {},
   "outputs": [
    {
     "name": "stdout",
     "output_type": "stream",
     "text": [
      "Eigenvalue 2.9380850501999958\n",
      "Eigenvector [ 0.52106591 -0.26934744  0.5804131   0.56485654]\n"
     ]
    }
   ],
   "source": [
    "eigenVec1 = power_iteration(X_cov, 100)\n",
    "eigenVal1 = (np.dot(X_cov, eigenVec1)/eigenVec1)[0]\n",
    "print(\"Eigenvalue\", eigenVal1) \n",
    "print(\"Eigenvector\", eigenVec1)"
   ]
  },
  {
   "cell_type": "code",
   "execution_count": 5,
   "metadata": {},
   "outputs": [
    {
     "name": "stdout",
     "output_type": "stream",
     "text": [
      "Shape of the first dimension of the PCA transformation:  (1, 150)\n"
     ]
    },
    {
     "data": {
      "text/plain": [
       "array([[-2.26470281, -2.08096115, -2.36422905, -2.29938422, -2.38984217,\n",
       "        -2.07563095, -2.44402884, -2.23284716, -2.33464048, -2.18432817,\n",
       "        -2.1663101 , -2.32613087, -2.2184509 , -2.6331007 , -2.1987406 ,\n",
       "        -2.26221453, -2.2075877 , -2.19034951, -1.898572  , -2.34336905,\n",
       "        -1.914323  , -2.20701284, -2.7743447 , -1.81866953, -2.22716331,\n",
       "        -1.95184633, -2.05115137, -2.16857717, -2.13956345, -2.26526149,\n",
       "        -2.14012214, -1.83159477, -2.61494794, -2.44617739, -2.10997488,\n",
       "        -2.2078089 , -2.04514621, -2.52733191, -2.42963258, -2.16971071,\n",
       "        -2.28647514, -1.85812246, -2.5536384 , -1.96444768, -2.13705901,\n",
       "        -2.0697443 , -2.38473317, -2.39437631, -2.22944655, -2.20383344,\n",
       "         1.10178118,  0.73133743,  1.24097932,  0.40748306,  1.0754747 ,\n",
       "         0.38868734,  0.74652974, -0.48732274,  0.92790164,  0.01142619,\n",
       "        -0.11019628,  0.44069345,  0.56210831,  0.71956189, -0.0333547 ,\n",
       "         0.87540719,  0.35025167,  0.15881005,  1.22509363,  0.1649179 ,\n",
       "         0.73768265,  0.47628719,  1.2341781 ,  0.6328582 ,  0.70266118,\n",
       "         0.87427365,  1.25650912,  1.35840512,  0.66480037, -0.04025861,\n",
       "         0.13079518,  0.02345269,  0.24153827,  1.06109461,  0.22397877,\n",
       "         0.42913912,  1.04872805,  1.04453138,  0.06958832,  0.28347724,\n",
       "         0.27907778,  0.62456979,  0.33653037, -0.36218338,  0.28858624,\n",
       "         0.09136066,  0.22771687,  0.57638829, -0.44766702,  0.25673059,\n",
       "         1.84456887,  1.15788161,  2.20526679,  1.44015066,  1.86781222,\n",
       "         2.75187334,  0.36701769,  2.30243944,  2.00668647,  2.25977735,\n",
       "         1.36417549,  1.60267867,  1.8839007 ,  1.2601151 ,  1.4676452 ,\n",
       "         1.59007732,  1.47143146,  2.42632899,  3.31069558,  1.26376667,\n",
       "         2.0377163 ,  0.97798073,  2.89765149,  1.33323218,  1.7007339 ,\n",
       "         1.95432671,  1.17510363,  1.02095055,  1.78834992,  1.86364755,\n",
       "         2.43595373,  2.30492772,  1.86270322,  1.11414774,  1.2024733 ,\n",
       "         2.79877045,  1.57625591,  1.3462921 ,  0.92482492,  1.85204505,\n",
       "         2.01481043,  1.90178409,  1.15788161,  2.04055823,  1.9981471 ,\n",
       "         1.87050329,  1.56458048,  1.5211705 ,  1.37278779,  0.96065603]])"
      ]
     },
     "execution_count": 5,
     "metadata": {},
     "output_type": "execute_result"
    }
   ],
   "source": [
    "# Get an estimate of the top eigenvector using the Power Iteration function\n",
    "eigenVec1 = power_iteration(X_cov, 100)\n",
    "\n",
    "# Compute the first dimension of the PCA transformation\n",
    "eigenVec1.shape = (1,eigenVec1.shape[0])\n",
    "print(\"Shape of the first dimension of the PCA transformation: \", np.dot(eigenVec1, iris.data.T).shape)\n",
    "np.dot(eigenVec1, X_scaled.T)"
   ]
  },
  {
   "cell_type": "markdown",
   "metadata": {},
   "source": [
    "### Question 2\n",
    "\n",
    "##### Design and implement a gradient approach to determine the second dimension of the PCA transformation "
   ]
  },
  {
   "cell_type": "markdown",
   "metadata": {},
   "source": [
    "To obtain the second dimension of the PCA transformation we would implement the inverse power method which is a method that is conceptually similar to the power method. Instead of multiplying by $A^{-1}$ at each iteration, we multiply by $(\\mu I_{n} - A)^{-1}$ where $I_{n}$ is the identity matrix."
   ]
  },
  {
   "cell_type": "code",
   "execution_count": 6,
   "metadata": {},
   "outputs": [],
   "source": [
    "def ShiftedInverseIteration(A, mu, max_iter):\n",
    "  I = np.identity(A.shape[0])\n",
    "  v = np.random.randn(A.shape[0])\n",
    "  v /= np.linalg.norm(v) #generate a uniformly random unit vector\n",
    "  lu, piv = scipy.linalg.lu_factor(mu*I - A) # compute LU factorization of (mu*I - A) in other words the eigenvalue\n",
    "    \n",
    "  for t in range(max_iter):\n",
    "    v = scipy.linalg.lu_solve((lu, piv), v) #compute (mu*I - A)^(-1)v\n",
    "    v /= np.linalg.norm(v)\n",
    "  return v"
   ]
  },
  {
   "cell_type": "code",
   "execution_count": 7,
   "metadata": {},
   "outputs": [
    {
     "name": "stdout",
     "output_type": "stream",
     "text": [
      "Shape of the second dimension of the PCA transformation:  (1, 150)\n"
     ]
    },
    {
     "data": {
      "text/plain": [
       "array([[-0.4800266 ,  0.67413356,  0.34190802,  0.59739451, -0.64683538,\n",
       "        -1.48917752, -0.0476442 , -0.22314807,  1.11532768,  0.46901356,\n",
       "        -1.04369065, -0.13307834,  0.72867617,  0.96150673, -1.86005711,\n",
       "        -2.68628449, -1.48360936, -0.48883832, -1.40501879, -1.12784938,\n",
       "        -0.40885571, -0.92412143, -0.45834367, -0.08555853, -0.13725446,\n",
       "         0.62561859, -0.24216355, -0.52714953, -0.31321781,  0.3377319 ,\n",
       "         0.50454069, -0.42369507, -1.79357586, -2.15072788,  0.46020184,\n",
       "         0.2061074 , -0.66155811, -0.59229277,  0.90418004, -0.26887896,\n",
       "        -0.44171539,  2.33741516,  0.47910069, -0.47232667, -1.14222926,\n",
       "         0.71105273, -1.1204297 ,  0.38624687, -0.99795976, -0.00921636,\n",
       "        -0.86297242, -0.59461473, -0.61629765,  1.75440399,  0.20842105,\n",
       "         0.59328364, -0.77301931,  1.85242909, -0.03222608,  1.03401828,\n",
       "         2.65407282,  0.06329519,  1.76472438,  0.18622461,  0.43900321,\n",
       "        -0.50906396,  0.19631173,  0.79209574,  1.6222438 ,  1.30260923,\n",
       "        -0.39657156,  0.41732028,  0.93332573,  0.41638772,  0.06341182,\n",
       "        -0.25079339,  0.07725602, -0.33131168,  0.22592785,  1.05871855,\n",
       "         1.56227183,  1.57247559,  0.77725638,  0.63384324,  0.28777351,\n",
       "        -0.84558224, -0.5220518 ,  1.38298872,  0.21950333,  1.32932464,\n",
       "         1.12002852, -0.02492303,  0.98840402,  2.01923787,  0.85573032,\n",
       "         0.18119213,  0.38492008,  0.1548736 ,  1.54379203,  0.5988518 ,\n",
       "        -0.87042131,  0.69886986, -0.56201048,  0.04698759, -0.29504482,\n",
       "        -0.8004092 ,  1.56150289, -0.42006558,  0.71143865, -1.92101038,\n",
       "        -0.69275645,  0.42170045, -0.41924965,  1.16226042,  0.44227159,\n",
       "        -0.67624481, -0.25562182, -2.55666125, -0.01778095,  1.70674538,\n",
       "        -0.91046741,  0.57176432, -0.41364106,  0.48181122, -1.01392187,\n",
       "        -1.0077776 ,  0.31639447, -0.06434603,  0.18736121, -0.56229073,\n",
       "        -0.25928443, -2.62632347,  0.17854949,  0.29292262,  0.81131527,\n",
       "        -0.85680333, -1.06858111, -0.42243061, -0.0172231 , -0.67612817,\n",
       "        -0.61388564, -0.68957549,  0.69886986, -0.8675206 , -1.04916875,\n",
       "        -0.38696608,  0.89668681, -0.26906914, -1.01125442,  0.02433167]])"
      ]
     },
     "execution_count": 7,
     "metadata": {},
     "output_type": "execute_result"
    }
   ],
   "source": [
    "mu = 1  #initial estimate μ of an eigenvalue.\n",
    "\n",
    "# Get an estimate of the second eigenvector using the Shifted Inverse Iteration function\n",
    "eigenVec2 = ShiftedInverseIteration(X_cov, mu, 100)\n",
    "eigenVal2 = (np.dot(X_cov, eigenVec2)/eigenVec2)[0]\n",
    "\n",
    "# Compute the second dimension of the PCA transformation\n",
    "eigenVec2.shape = (1,eigenVec2.shape[0])\n",
    "print(\"Shape of the second dimension of the PCA transformation: \", np.dot(eigenVec2, X_scaled.T).shape)\n",
    "np.dot(eigenVec2, X_scaled.T)"
   ]
  },
  {
   "cell_type": "markdown",
   "metadata": {},
   "source": [
    "### Question 3\n",
    "\n",
    "Describe the benefit of a gradient approach w.r.t. the SVD approach for the PCA transformation."
   ]
  },
  {
   "cell_type": "markdown",
   "metadata": {},
   "source": [
    "There exist several techniques for finding the eigenvalues and eigenvectors of a matrix, one of which is the iterative/gradient approach. The gradient/iterative method works by repeatedly refining approximations to the eigenvectors or eigenvalues, and is terminated whenever the approximations reaches a suitable degree of accuracy\n",
    "\n",
    "Some benefits of the gradient approach w.r.t. the SVD approach includes:\n",
    "* It is simple and easy to implement.\n",
    "* The gradient approach for the PCA transformation is an excellent choice when only the top few eigenvectors are required. In such a case, it is faster and more memory efficient than the SVD.\n",
    "However, in the case of of obtaining all the eigenvalues of a large order matrix, the iterative/gradient approach is not efficient. The SVD will be a better choice since it gives all of the eigenvectors, whether desired or not in the running time of O(n2d) or O(d2n).\n"
   ]
  },
  {
   "cell_type": "markdown",
   "metadata": {},
   "source": [
    "### Question 4\n",
    "##### By using a binary classifier (logistic regression or SVM) please implement in python the 2 different procedure (one vs. one, one vs. other) to handle the problem of more than two different classes (use the iris dataset)."
   ]
  },
  {
   "cell_type": "markdown",
   "metadata": {},
   "source": [
    " Reducing the problem of multiclass classification to multiple binary classification problems using the following techniques:"
   ]
  },
  {
   "cell_type": "markdown",
   "metadata": {},
   "source": [
    "* One vs other "
   ]
  },
  {
   "cell_type": "code",
   "execution_count": 8,
   "metadata": {},
   "outputs": [],
   "source": [
    "# To classify K classes, we construct K different binary classifiers.\n",
    "# For a given class, the positive examples are all the points in the class, \n",
    "# and the negative examples are all the points not in the class \n",
    "\n",
    "# Using the iris dataset, transform the 3 classes problem to 3 binary classes problems.\n",
    "y_1 = np.where(y == 0, 1, -1)\n",
    "y_2 = np.where(y == 1, 1, -1)\n",
    "y_3 = np.where(y == 2, 1, -1)\n",
    "\n",
    "# We train one binary classifier on each problem, as a result, we obtain one decision boundary per classifier \n",
    "y_list = [y_1, y_2, y_3]\n",
    "classifiers = []\n",
    "\n",
    "for y_i in y_list:\n",
    "    clf_i = svm.SVC(kernel='linear', C=1000)\n",
    "    clf_i.fit(X, y_i)\n",
    "    classifiers.append(clf_i)\n",
    "\n",
    "# To make a new prediction, we will use the class of the classifier for which the value of the decision function is the maximum\n",
    "# The decision_function method will return a real value that will be positive if the example is on the correct side of the \n",
    "# classifier, and negative if it is on the other side. \n",
    "def predict_class(X, classifiers):\n",
    "    predictions = np.zeros((X.shape[0], len(classifiers)))\n",
    "    for idx, clf in enumerate(classifiers):\n",
    "        predictions[:, idx] = clf.decision_function(X)\n",
    "    \n",
    "    # return the argmax of the decision function \n",
    "    return np.argmax(predictions, axis=1)"
   ]
  },
  {
   "cell_type": "code",
   "execution_count": 9,
   "metadata": {},
   "outputs": [
    {
     "data": {
      "text/plain": [
       "array([0, 0, 0, 0, 0, 0, 0, 0, 0, 0, 0, 0, 0, 0, 0, 0, 0, 0, 0, 0, 0, 0,\n",
       "       0, 0, 0, 0, 0, 0, 0, 0, 0, 0, 0, 0, 0, 0, 0, 0, 0, 0, 0, 0, 0, 0,\n",
       "       0, 0, 0, 0, 0, 0, 1, 1, 1, 1, 1, 1, 1, 1, 1, 1, 1, 1, 1, 1, 1, 1,\n",
       "       1, 1, 1, 1, 2, 1, 1, 1, 1, 1, 1, 1, 1, 1, 1, 1, 1, 2, 1, 1, 1, 1,\n",
       "       1, 1, 1, 1, 1, 1, 1, 1, 1, 1, 1, 1, 2, 2, 2, 2, 2, 2, 2, 2, 2, 2,\n",
       "       2, 2, 2, 2, 2, 2, 2, 2, 2, 2, 2, 2, 2, 2, 2, 2, 2, 2, 2, 2, 2, 2,\n",
       "       2, 1, 1, 2, 2, 2, 2, 2, 2, 2, 2, 2, 2, 2, 2, 2, 2, 2], dtype=int64)"
      ]
     },
     "execution_count": 9,
     "metadata": {},
     "output_type": "execute_result"
    }
   ],
   "source": [
    "predict_class(X, classifiers)"
   ]
  },
  {
   "cell_type": "markdown",
   "metadata": {},
   "source": [
    "* One vs One\n",
    "\n",
    "In this technique, we train one classifier per pair of classes, which leads to K(K-1)/2 classifiers for K classes\n",
    "Each classifier is trained on a subset of the data and produces its own decision boundary\n",
    "Predictions are made using a simple voting strategy"
   ]
  },
  {
   "cell_type": "code",
   "execution_count": 10,
   "metadata": {},
   "outputs": [],
   "source": [
    "\n",
    "# Predict the class having the max number of votes\n",
    "def predict_class(X, classifiers, class_pairs):\n",
    "    predictions = np.zeros((X.shape[0], len(classifiers)))\n",
    "    for idx, clf in enumerate(classifiers):\n",
    "        class_pair = class_pairs[idx] \n",
    "        prediction = clf.predict(X)\n",
    "        predictions[:, idx] = np.where(prediction == 1, class_pair[0], class_pair[1])\n",
    "        \n",
    "    return mode(predictions, axis=1)[0].ravel().astype(int)\n"
   ]
  },
  {
   "cell_type": "code",
   "execution_count": 11,
   "metadata": {},
   "outputs": [
    {
     "ename": "NameError",
     "evalue": "name 'combinations' is not defined",
     "output_type": "error",
     "traceback": [
      "\u001b[1;31m---------------------------------------------------------------------------\u001b[0m",
      "\u001b[1;31mNameError\u001b[0m                                 Traceback (most recent call last)",
      "\u001b[1;32m<ipython-input-11-499fdf1007e6>\u001b[0m in \u001b[0;36m<module>\u001b[1;34m\u001b[0m\n\u001b[0;32m      1\u001b[0m \u001b[1;31m# datasets\u001b[0m\u001b[1;33m\u001b[0m\u001b[1;33m\u001b[0m\u001b[1;33m\u001b[0m\u001b[0m\n\u001b[0;32m      2\u001b[0m \u001b[0mtraining_data\u001b[0m \u001b[1;33m=\u001b[0m \u001b[1;33m[\u001b[0m\u001b[1;33m]\u001b[0m\u001b[1;33m\u001b[0m\u001b[1;33m\u001b[0m\u001b[0m\n\u001b[1;32m----> 3\u001b[1;33m \u001b[0mclass_pairs\u001b[0m \u001b[1;33m=\u001b[0m \u001b[0mlist\u001b[0m\u001b[1;33m(\u001b[0m\u001b[0mcombinations\u001b[0m\u001b[1;33m(\u001b[0m\u001b[0mset\u001b[0m\u001b[1;33m(\u001b[0m\u001b[0my\u001b[0m\u001b[1;33m)\u001b[0m\u001b[1;33m,\u001b[0m \u001b[1;36m2\u001b[0m\u001b[1;33m)\u001b[0m\u001b[1;33m)\u001b[0m\u001b[1;33m\u001b[0m\u001b[1;33m\u001b[0m\u001b[0m\n\u001b[0m\u001b[0;32m      4\u001b[0m \u001b[1;33m\u001b[0m\u001b[0m\n\u001b[0;32m      5\u001b[0m \u001b[1;32mfor\u001b[0m \u001b[0mclass_pair\u001b[0m \u001b[1;32min\u001b[0m \u001b[0mclass_pairs\u001b[0m\u001b[1;33m:\u001b[0m\u001b[1;33m\u001b[0m\u001b[1;33m\u001b[0m\u001b[0m\n",
      "\u001b[1;31mNameError\u001b[0m: name 'combinations' is not defined"
     ]
    }
   ],
   "source": [
    "# datasets\n",
    "training_data = []\n",
    "class_pairs = list(combinations(set(y), 2))\n",
    "\n",
    "for class_pair in class_pairs:\n",
    "    class_mask = np.where((y == class_pair[0]) | (y == class_pair[1]))\n",
    "    y_i = np.where(y[class_mask] == class_pair[0], 1, -1)\n",
    "    training_data.append((X[class_mask], y_i))\n",
    "    \n",
    "# Train one classifier per class.\n",
    "classifiers = []\n",
    "for data in training_data:\n",
    "    clf = svm.SVC(kernel='linear', C=1000)\n",
    "    clf.fit(data[0], data[1])\n",
    "    classifiers.append(clf)\n",
    "    \n",
    "# Make prediction of X\n",
    "predict_class(X, classifiers, class_pairs)"
   ]
  },
  {
   "cell_type": "markdown",
   "metadata": {},
   "source": [
    "### Question 5\n",
    "##### Extensively describe the overfitting and underfitting problem. Use execution examples with decision tree and SVM (with or without kernel). Use the scikit implementations."
   ]
  },
  {
   "cell_type": "markdown",
   "metadata": {},
   "source": [
    "* Over-Fitting problem"
   ]
  },
  {
   "cell_type": "markdown",
   "metadata": {},
   "source": [
    "Classification and regression models that are highly adaptable or flexible are capable of modeling complex relationships, however, they can very easily overemphasize patterns that are not reproducible.\n",
    "\n",
    "It is worth noting that all model building efforts are constrained by the existing data. If the data have a limited number of samples it may not be representative of future samples. For this discussion, we will assume that data quality is sufficient and that it is representative of the entire sample population. Working under these assumptions, we would discuss the concept of overfitting. Almost all predictive modeling techniques have tuning parameters(hyper-parameters) that enable the model to flex to find the structure in the data\n",
    "\n",
    "Overfitting occurs when a model learns the structure of a set of data so well that when the model is applied to the data on which the model was built, it correctly predicts every sample. Hence, the model learns the general patterns in the data as well as the characteristics of each sample's unique noise. This type of model is said to over-fit and will usually have poor accuracy when predicting a new sample. In other words, the model does not generalize well to new data.\n",
    "\n",
    "\n",
    "###### Over-fitting in Decision Trees\n",
    "Overfitting is more likely with nonparametric and nonlinear models that have more flexibility or expressive power when learning a target function.  Decision trees are a nonparametric machine learning algorithm that is very flexible and is subject to overfitting training data. To illustrate the problem of model overfitting in decision tree, we consider a two-dimensional dataset containing 1500 labeled instances, each of which is assigned to one of two classes, 0 or 1. Instances from each class are generated as follows:\n",
    "1. Instances from class 1 are generated from a mixture of 3 Gaussian distributions, centered at [6,14], [10,6], and [14 14], respectively. \n",
    "2. Instances from class 0 are generated from a uniform distribution in a square region, whose sides have a length equals to 20.\n",
    "We would observe from this illustration of overfitting using decision tree model that when the decision tree is fully grown, it may lose some generalization capability."
   ]
  },
  {
   "cell_type": "markdown",
   "metadata": {},
   "source": [
    "###### Under-fitting in Decision Trees"
   ]
  },
  {
   "cell_type": "markdown",
   "metadata": {},
   "source": [
    "Underfitting refers to a model that can neither model the training data nor generalize to new data. Under-fitted models have poor performance both on the training data and new sample data. Hence, it is easy to detect given a good performance metric,  as we can easily detect from the plot and table below. We can easily observe that when the tree depth = 2, the model performs poorly both on the train and test dataset."
   ]
  },
  {
   "cell_type": "code",
   "execution_count": 12,
   "metadata": {},
   "outputs": [],
   "source": [
    "from sklearn.model_selection import train_test_split\n",
    "\n",
    "from sklearn import tree\n",
    "from sklearn.metrics import accuracy_score\n",
    "import matplotlib.pyplot as plt"
   ]
  },
  {
   "cell_type": "code",
   "execution_count": 13,
   "metadata": {},
   "outputs": [],
   "source": [
    "\n",
    "N = 1500\n",
    "\n",
    "mean1 = [6, 14]\n",
    "mean2 = [10, 6]\n",
    "mean3 = [14, 14]\n",
    "cov = [[3.5, 0], [0, 3.5]]  # diagonal covariance\n",
    "\n",
    "np.random.seed(50)\n",
    "X = np.random.multivariate_normal(mean1, cov, int(N/6))\n",
    "X = np.concatenate((X, np.random.multivariate_normal(mean2, cov, int(N/6))))\n",
    "X = np.concatenate((X, np.random.multivariate_normal(mean3, cov, int(N/6))))\n",
    "X = np.concatenate((X, 20*np.random.rand(int(N/2),2)))\n",
    "Y = np.concatenate((np.ones(int(N/2)),np.zeros(int(N/2))))\n",
    "\n",
    "X_train, X_test, Y_train, Y_test = train_test_split(X, Y, test_size=0.8, random_state=1)\n",
    "\n",
    "maxdepths = [2,3,4,5,6,7,8,9,10,15,20,25,30,35,40,45,50]\n",
    "\n",
    "trainAcc = np.zeros(len(maxdepths))\n",
    "testAcc = np.zeros(len(maxdepths))\n",
    "\n",
    "index = 0\n",
    "for depth in maxdepths:\n",
    "    clf = tree.DecisionTreeClassifier(max_depth=depth)\n",
    "    clf = clf.fit(X_train, Y_train)\n",
    "    Y_predTrain = clf.predict(X_train)\n",
    "    Y_predTest = clf.predict(X_test)\n",
    "    trainAcc[index] = accuracy_score(Y_train, Y_predTrain)\n",
    "    testAcc[index] = accuracy_score(Y_test, Y_predTest)\n",
    "    index += 1"
   ]
  },
  {
   "cell_type": "code",
   "execution_count": 14,
   "metadata": {},
   "outputs": [
    {
     "data": {
      "text/html": [
       "<div>\n",
       "<style scoped>\n",
       "    .dataframe tbody tr th:only-of-type {\n",
       "        vertical-align: middle;\n",
       "    }\n",
       "\n",
       "    .dataframe tbody tr th {\n",
       "        vertical-align: top;\n",
       "    }\n",
       "\n",
       "    .dataframe thead th {\n",
       "        text-align: right;\n",
       "    }\n",
       "</style>\n",
       "<table border=\"1\" class=\"dataframe\">\n",
       "  <thead>\n",
       "    <tr style=\"text-align: right;\">\n",
       "      <th></th>\n",
       "      <th>2</th>\n",
       "      <th>3</th>\n",
       "      <th>4</th>\n",
       "      <th>5</th>\n",
       "      <th>6</th>\n",
       "      <th>7</th>\n",
       "      <th>8</th>\n",
       "      <th>9</th>\n",
       "      <th>10</th>\n",
       "      <th>15</th>\n",
       "      <th>20</th>\n",
       "      <th>25</th>\n",
       "      <th>30</th>\n",
       "      <th>35</th>\n",
       "      <th>40</th>\n",
       "      <th>45</th>\n",
       "      <th>50</th>\n",
       "    </tr>\n",
       "  </thead>\n",
       "  <tbody>\n",
       "    <tr>\n",
       "      <th>train Accuracy</th>\n",
       "      <td>0.673333</td>\n",
       "      <td>0.720000</td>\n",
       "      <td>0.760000</td>\n",
       "      <td>0.776667</td>\n",
       "      <td>0.793333</td>\n",
       "      <td>0.820000</td>\n",
       "      <td>0.846667</td>\n",
       "      <td>0.873333</td>\n",
       "      <td>0.913333</td>\n",
       "      <td>0.996667</td>\n",
       "      <td>1.000000</td>\n",
       "      <td>1.000000</td>\n",
       "      <td>1.0000</td>\n",
       "      <td>1.0000</td>\n",
       "      <td>1.000000</td>\n",
       "      <td>1.000000</td>\n",
       "      <td>1.000000</td>\n",
       "    </tr>\n",
       "    <tr>\n",
       "      <th>test Accuracy</th>\n",
       "      <td>0.612500</td>\n",
       "      <td>0.648333</td>\n",
       "      <td>0.693333</td>\n",
       "      <td>0.705000</td>\n",
       "      <td>0.661667</td>\n",
       "      <td>0.688333</td>\n",
       "      <td>0.670833</td>\n",
       "      <td>0.676667</td>\n",
       "      <td>0.670833</td>\n",
       "      <td>0.650000</td>\n",
       "      <td>0.653333</td>\n",
       "      <td>0.674167</td>\n",
       "      <td>0.6475</td>\n",
       "      <td>0.6475</td>\n",
       "      <td>0.659167</td>\n",
       "      <td>0.649167</td>\n",
       "      <td>0.655833</td>\n",
       "    </tr>\n",
       "  </tbody>\n",
       "</table>\n",
       "</div>"
      ],
      "text/plain": [
       "                      2         3         4         5         6         7   \\\n",
       "train Accuracy  0.673333  0.720000  0.760000  0.776667  0.793333  0.820000   \n",
       "test Accuracy   0.612500  0.648333  0.693333  0.705000  0.661667  0.688333   \n",
       "\n",
       "                      8         9         10        15        20        25  \\\n",
       "train Accuracy  0.846667  0.873333  0.913333  0.996667  1.000000  1.000000   \n",
       "test Accuracy   0.670833  0.676667  0.670833  0.650000  0.653333  0.674167   \n",
       "\n",
       "                    30      35        40        45        50  \n",
       "train Accuracy  1.0000  1.0000  1.000000  1.000000  1.000000  \n",
       "test Accuracy   0.6475  0.6475  0.659167  0.649167  0.655833  "
      ]
     },
     "execution_count": 14,
     "metadata": {},
     "output_type": "execute_result"
    }
   ],
   "source": [
    "# We show the train and test accuracies against the tree depths\n",
    "pd.DataFrame(data=np.array([trainAcc,testAcc]),index=[\"train Accuracy\", \"test Accuracy\"], columns=maxdepths)"
   ]
  },
  {
   "cell_type": "markdown",
   "metadata": {},
   "source": [
    "From the plot below, we show that training accuracy will continue to improve as the maximum depth of the tree increases (i.e., as the model becomes more complex). However, the test accuracy initially improves up to a maximum depth of 5, before it gradually decreases due to model overfitting.\n"
   ]
  },
  {
   "cell_type": "code",
   "execution_count": 15,
   "metadata": {},
   "outputs": [
    {
     "data": {
      "text/plain": [
       "Text(0, 0.5, 'Accuracy')"
      ]
     },
     "execution_count": 15,
     "metadata": {},
     "output_type": "execute_result"
    },
    {
     "data": {
      "image/png": "[encoded data removed]",
      "text/plain": [
       "<Figure size 432x288 with 1 Axes>"
      ]
     },
     "metadata": {
      "needs_background": "light"
     },
     "output_type": "display_data"
    }
   ],
   "source": [
    "# Plot of training and test accuracies\n",
    "plt.plot(maxdepths,trainAcc,'ro-',maxdepths,testAcc,'bv--')\n",
    "plt.legend(['Training Accuracy','Test Accuracy'])\n",
    "plt.xlabel('Max depth')\n",
    "plt.ylabel('Accuracy')"
   ]
  },
  {
   "cell_type": "markdown",
   "metadata": {},
   "source": [
    "###### Over-fitting in SVM"
   ]
  },
  {
   "cell_type": "markdown",
   "metadata": {},
   "source": [
    "Support vector machine produces nonlinear boundaries by constructing a linear boundary in a large, transformed version of the feature space. In essence, the SVM classifier is solving a function-fitting problem using a particular criterion and form of regularization. Hence overfitting in SVM depends on the choice of the regularization parameter C as well as the kernel parameters in the case of non-linear SVMs.<br><br>\n",
    "The C parameter trades off correct classification of training examples against maximization of the decision function’s margin.  Larger values of C, encourages smaller margins and more complex decision functions , while a lower value of C will encourage a larger margin and in essence a simpler decision function.<br><br>\n",
    "The behavior of the model is very sensitive to the gamma parameter. If gamma is too large, the radius of the area of influence of the support vectors only includes the support vector itself and no amount of regularization with C will be able to prevent overfitting."
   ]
  },
  {
   "cell_type": "markdown",
   "metadata": {},
   "source": [
    "###### Under-fitting in SVM"
   ]
  },
  {
   "cell_type": "markdown",
   "metadata": {},
   "source": [
    "When gamma is very small, the model is too constrained and cannot capture the complexity or “shape” of the data. The region of influence of any selected support vector would include the whole training set. The resulting model will behave similarly to a linear model with a set of hyperplanes that separate the centers of high density of any pair of two classes."
   ]
  },
  {
   "cell_type": "markdown",
   "metadata": {},
   "source": [
    "We would adopt the dataset used in the Decision Tree discussion to illustrate the problem of overfitting/underfitting in the SVM model."
   ]
  },
  {
   "cell_type": "code",
   "execution_count": 16,
   "metadata": {},
   "outputs": [],
   "source": [
    "C = [0.01, 0.1, 0.2, 0.5, 0.8, 1, 5, 10, 20, 50]\n",
    "SVMtrainAcc = []\n",
    "SVMtestAcc = []\n",
    "\n",
    "for param in C:\n",
    "    clf = svm.SVC(C=param,kernel='rbf',gamma='auto')\n",
    "    clf.fit(X_train, Y_train)\n",
    "    Y_predTrain = clf.predict(X_train)\n",
    "    Y_predTest = clf.predict(X_test)\n",
    "    SVMtrainAcc.append(accuracy_score(Y_train, Y_predTrain))\n",
    "    SVMtestAcc.append(accuracy_score(Y_test, Y_predTest))"
   ]
  },
  {
   "cell_type": "code",
   "execution_count": 17,
   "metadata": {},
   "outputs": [
    {
     "data": {
      "text/html": [
       "<div>\n",
       "<style scoped>\n",
       "    .dataframe tbody tr th:only-of-type {\n",
       "        vertical-align: middle;\n",
       "    }\n",
       "\n",
       "    .dataframe tbody tr th {\n",
       "        vertical-align: top;\n",
       "    }\n",
       "\n",
       "    .dataframe thead th {\n",
       "        text-align: right;\n",
       "    }\n",
       "</style>\n",
       "<table border=\"1\" class=\"dataframe\">\n",
       "  <thead>\n",
       "    <tr style=\"text-align: right;\">\n",
       "      <th></th>\n",
       "      <th>0.01</th>\n",
       "      <th>0.1</th>\n",
       "      <th>0.2</th>\n",
       "      <th>0.5</th>\n",
       "      <th>0.8</th>\n",
       "      <th>1.0</th>\n",
       "      <th>5.0</th>\n",
       "      <th>10.0</th>\n",
       "      <th>20.0</th>\n",
       "      <th>50.0</th>\n",
       "    </tr>\n",
       "  </thead>\n",
       "  <tbody>\n",
       "    <tr>\n",
       "      <th>train Accuracy</th>\n",
       "      <td>0.513333</td>\n",
       "      <td>0.606667</td>\n",
       "      <td>0.766667</td>\n",
       "      <td>0.816667</td>\n",
       "      <td>0.823333</td>\n",
       "      <td>0.8500</td>\n",
       "      <td>0.896667</td>\n",
       "      <td>0.896667</td>\n",
       "      <td>0.913333</td>\n",
       "      <td>0.940000</td>\n",
       "    </tr>\n",
       "    <tr>\n",
       "      <th>test Accuracy</th>\n",
       "      <td>0.496667</td>\n",
       "      <td>0.549167</td>\n",
       "      <td>0.678333</td>\n",
       "      <td>0.714167</td>\n",
       "      <td>0.715000</td>\n",
       "      <td>0.7125</td>\n",
       "      <td>0.647500</td>\n",
       "      <td>0.649167</td>\n",
       "      <td>0.636667</td>\n",
       "      <td>0.621667</td>\n",
       "    </tr>\n",
       "  </tbody>\n",
       "</table>\n",
       "</div>"
      ],
      "text/plain": [
       "                   0.01      0.10      0.20      0.50      0.80    1.00   \\\n",
       "train Accuracy  0.513333  0.606667  0.766667  0.816667  0.823333  0.8500   \n",
       "test Accuracy   0.496667  0.549167  0.678333  0.714167  0.715000  0.7125   \n",
       "\n",
       "                   5.00      10.00     20.00     50.00  \n",
       "train Accuracy  0.896667  0.896667  0.913333  0.940000  \n",
       "test Accuracy   0.647500  0.649167  0.636667  0.621667  "
      ]
     },
     "execution_count": 17,
     "metadata": {},
     "output_type": "execute_result"
    }
   ],
   "source": [
    "# We show the train and test accuracies against the C parameter values\n",
    "pd.DataFrame(data=np.array([SVMtrainAcc,SVMtestAcc]),index=[\"train Accuracy\", \"test Accuracy\"], columns=C)"
   ]
  },
  {
   "cell_type": "code",
   "execution_count": 18,
   "metadata": {},
   "outputs": [
    {
     "data": {
      "text/plain": [
       "Text(0, 0.5, 'Accuracy')"
      ]
     },
     "execution_count": 18,
     "metadata": {},
     "output_type": "execute_result"
    },
    {
     "data": {
      "image/png": "[encoded data removed]",
      "text/plain": [
       "<Figure size 432x288 with 1 Axes>"
      ]
     },
     "metadata": {
      "needs_background": "light"
     },
     "output_type": "display_data"
    }
   ],
   "source": [
    "# Plot of training and test accuracies\n",
    "plt.plot(C,SVMtrainAcc,'ro-',C,SVMtestAcc,'bv--')\n",
    "plt.legend(['Training Accuracy','Test Accuracy'])\n",
    "plt.xlabel('C')\n",
    "plt.ylabel('Accuracy')"
   ]
  },
  {
   "cell_type": "markdown",
   "metadata": {},
   "source": [
    "###### We would now illustrate how sensitive the gamma parameter is to the SVM model with C fixed at 1. When gamma is very small, the model is too constrained and fails to model or capture the structure/pattern of the data.  When gamma is too large, overfitting becomes inevitable."
   ]
  },
  {
   "cell_type": "code",
   "execution_count": 19,
   "metadata": {},
   "outputs": [],
   "source": [
    "gamma = [0.0001,0.001,0.01, 0.1, 0.2, 0.5, 0.8, 1, 5, 10, 20, 50]\n",
    "SVMtrainAcc = []\n",
    "SVMtestAcc = []\n",
    "\n",
    "for param in gamma:\n",
    "    clf = svm.SVC(C=1,kernel='rbf',gamma=param)\n",
    "    clf.fit(X_train, Y_train)\n",
    "    Y_predTrain = clf.predict(X_train)\n",
    "    Y_predTest = clf.predict(X_test)\n",
    "    SVMtrainAcc.append(accuracy_score(Y_train, Y_predTrain))\n",
    "    SVMtestAcc.append(accuracy_score(Y_test, Y_predTest))"
   ]
  },
  {
   "cell_type": "code",
   "execution_count": 20,
   "metadata": {},
   "outputs": [
    {
     "data": {
      "text/html": [
       "<div>\n",
       "<style scoped>\n",
       "    .dataframe tbody tr th:only-of-type {\n",
       "        vertical-align: middle;\n",
       "    }\n",
       "\n",
       "    .dataframe tbody tr th {\n",
       "        vertical-align: top;\n",
       "    }\n",
       "\n",
       "    .dataframe thead th {\n",
       "        text-align: right;\n",
       "    }\n",
       "</style>\n",
       "<table border=\"1\" class=\"dataframe\">\n",
       "  <thead>\n",
       "    <tr style=\"text-align: right;\">\n",
       "      <th></th>\n",
       "      <th>0.0001</th>\n",
       "      <th>0.001</th>\n",
       "      <th>0.01</th>\n",
       "      <th>0.1</th>\n",
       "      <th>0.2</th>\n",
       "      <th>0.5</th>\n",
       "      <th>0.8</th>\n",
       "      <th>1.0</th>\n",
       "      <th>5.0</th>\n",
       "      <th>10.0</th>\n",
       "      <th>20.0</th>\n",
       "      <th>50.0</th>\n",
       "    </tr>\n",
       "  </thead>\n",
       "  <tbody>\n",
       "    <tr>\n",
       "      <th>train Accuracy</th>\n",
       "      <td>0.513333</td>\n",
       "      <td>0.6200</td>\n",
       "      <td>0.763333</td>\n",
       "      <td>0.766667</td>\n",
       "      <td>0.793333</td>\n",
       "      <td>0.8500</td>\n",
       "      <td>0.876667</td>\n",
       "      <td>0.890000</td>\n",
       "      <td>0.966667</td>\n",
       "      <td>0.993333</td>\n",
       "      <td>0.996667</td>\n",
       "      <td>1.000000</td>\n",
       "    </tr>\n",
       "    <tr>\n",
       "      <th>test Accuracy</th>\n",
       "      <td>0.496667</td>\n",
       "      <td>0.5925</td>\n",
       "      <td>0.725833</td>\n",
       "      <td>0.739167</td>\n",
       "      <td>0.725000</td>\n",
       "      <td>0.7125</td>\n",
       "      <td>0.682500</td>\n",
       "      <td>0.668333</td>\n",
       "      <td>0.623333</td>\n",
       "      <td>0.609167</td>\n",
       "      <td>0.592500</td>\n",
       "      <td>0.555833</td>\n",
       "    </tr>\n",
       "  </tbody>\n",
       "</table>\n",
       "</div>"
      ],
      "text/plain": [
       "                 0.0001   0.0010    0.0100    0.1000    0.2000   0.5000   \\\n",
       "train Accuracy  0.513333   0.6200  0.763333  0.766667  0.793333   0.8500   \n",
       "test Accuracy   0.496667   0.5925  0.725833  0.739167  0.725000   0.7125   \n",
       "\n",
       "                 0.8000    1.0000    5.0000    10.0000   20.0000   50.0000  \n",
       "train Accuracy  0.876667  0.890000  0.966667  0.993333  0.996667  1.000000  \n",
       "test Accuracy   0.682500  0.668333  0.623333  0.609167  0.592500  0.555833  "
      ]
     },
     "execution_count": 20,
     "metadata": {},
     "output_type": "execute_result"
    }
   ],
   "source": [
    "# We show the train and test accuracies against the gamma parameter values\n",
    "pd.DataFrame(data=np.array([SVMtrainAcc,SVMtestAcc]),index=[\"train Accuracy\", \"test Accuracy\"], columns=gamma)"
   ]
  },
  {
   "cell_type": "code",
   "execution_count": 21,
   "metadata": {},
   "outputs": [
    {
     "data": {
      "text/plain": [
       "Text(0, 0.5, 'Accuracy')"
      ]
     },
     "execution_count": 21,
     "metadata": {},
     "output_type": "execute_result"
    },
    {
     "data": {
      "image/png": "[encoded data removed]",
      "text/plain": [
       "<Figure size 432x288 with 1 Axes>"
      ]
     },
     "metadata": {
      "needs_background": "light"
     },
     "output_type": "display_data"
    }
   ],
   "source": [
    "# Plot of training and test accuracies\n",
    "plt.plot(gamma,SVMtrainAcc,'ro-',gamma,SVMtestAcc,'bv--')\n",
    "plt.legend(['Training Accuracy','Test Accuracy'])\n",
    "plt.xlabel('gamma')\n",
    "plt.ylabel('Accuracy')"
   ]
  },
  {
   "cell_type": "markdown",
   "metadata": {},
   "source": [
    "###### We would now illustrate that when the gamma value is very high, overfitting is inevitable and and no amount of regularization with C will be able to prevent overfitting."
   ]
  },
  {
   "cell_type": "code",
   "execution_count": 22,
   "metadata": {},
   "outputs": [],
   "source": [
    "import itertools\n",
    "C_gamma = [(0.01,180), (0.1,180), (0.2,180), (0.5,180), (0.8,180), (1,180), (5,180), (10,180), (20,180), (50,180)]\n",
    "\n",
    "SVMtrainAcc = []\n",
    "SVMtestAcc = []\n",
    "\n",
    "for param in C_gamma:\n",
    "    clf = svm.SVC(C=param[0],kernel='rbf',gamma=param[1])\n",
    "    clf.fit(X_train, Y_train)\n",
    "    Y_predTrain = clf.predict(X_train)\n",
    "    Y_predTest = clf.predict(X_test)\n",
    "    SVMtrainAcc.append(accuracy_score(Y_train, Y_predTrain))\n",
    "    SVMtestAcc.append(accuracy_score(Y_test, Y_predTest))"
   ]
  },
  {
   "cell_type": "code",
   "execution_count": 23,
   "metadata": {},
   "outputs": [
    {
     "data": {
      "text/html": [
       "<div>\n",
       "<style scoped>\n",
       "    .dataframe tbody tr th:only-of-type {\n",
       "        vertical-align: middle;\n",
       "    }\n",
       "\n",
       "    .dataframe tbody tr th {\n",
       "        vertical-align: top;\n",
       "    }\n",
       "\n",
       "    .dataframe thead th {\n",
       "        text-align: right;\n",
       "    }\n",
       "</style>\n",
       "<table border=\"1\" class=\"dataframe\">\n",
       "  <thead>\n",
       "    <tr style=\"text-align: right;\">\n",
       "      <th></th>\n",
       "      <th>(0.01, 180)</th>\n",
       "      <th>(0.1, 180)</th>\n",
       "      <th>(0.2, 180)</th>\n",
       "      <th>(0.5, 180)</th>\n",
       "      <th>(0.8, 180)</th>\n",
       "      <th>(1, 180)</th>\n",
       "      <th>(5, 180)</th>\n",
       "      <th>(10, 180)</th>\n",
       "      <th>(20, 180)</th>\n",
       "      <th>(50, 180)</th>\n",
       "    </tr>\n",
       "  </thead>\n",
       "  <tbody>\n",
       "    <tr>\n",
       "      <th>train Accuracy</th>\n",
       "      <td>0.513333</td>\n",
       "      <td>0.513333</td>\n",
       "      <td>0.513333</td>\n",
       "      <td>0.536667</td>\n",
       "      <td>1.0000</td>\n",
       "      <td>1.000000</td>\n",
       "      <td>1.000000</td>\n",
       "      <td>1.000000</td>\n",
       "      <td>1.000000</td>\n",
       "      <td>1.000000</td>\n",
       "    </tr>\n",
       "    <tr>\n",
       "      <th>test Accuracy</th>\n",
       "      <td>0.496667</td>\n",
       "      <td>0.496667</td>\n",
       "      <td>0.496667</td>\n",
       "      <td>0.496667</td>\n",
       "      <td>0.5075</td>\n",
       "      <td>0.516667</td>\n",
       "      <td>0.521667</td>\n",
       "      <td>0.521667</td>\n",
       "      <td>0.521667</td>\n",
       "      <td>0.521667</td>\n",
       "    </tr>\n",
       "  </tbody>\n",
       "</table>\n",
       "</div>"
      ],
      "text/plain": [
       "                (0.01, 180)  (0.1, 180)  (0.2, 180)  (0.5, 180)  (0.8, 180)  \\\n",
       "train Accuracy     0.513333    0.513333    0.513333    0.536667      1.0000   \n",
       "test Accuracy      0.496667    0.496667    0.496667    0.496667      0.5075   \n",
       "\n",
       "                (1, 180)  (5, 180)  (10, 180)  (20, 180)  (50, 180)  \n",
       "train Accuracy  1.000000  1.000000   1.000000   1.000000   1.000000  \n",
       "test Accuracy   0.516667  0.521667   0.521667   0.521667   0.521667  "
      ]
     },
     "execution_count": 23,
     "metadata": {},
     "output_type": "execute_result"
    }
   ],
   "source": [
    "# We show the train and test accuracies against the gamma parameter values\n",
    "pd.DataFrame(data=np.array([SVMtrainAcc,SVMtestAcc]),index=[\"train Accuracy\", \"test Accuracy\"], columns=C_gamma)"
   ]
  },
  {
   "cell_type": "code",
   "execution_count": 24,
   "metadata": {},
   "outputs": [
    {
     "data": {
      "text/plain": [
       "Text(0, 0.5, 'Accuracy')"
      ]
     },
     "execution_count": 24,
     "metadata": {},
     "output_type": "execute_result"
    },
    {
     "data": {
      "image/png": "[encoded data removed]",
      "text/plain": [
       "<Figure size 432x288 with 1 Axes>"
      ]
     },
     "metadata": {
      "needs_background": "light"
     },
     "output_type": "display_data"
    }
   ],
   "source": [
    "# Plot of training and test accuracies\n",
    "plt.plot(C,SVMtrainAcc,'ro-',C,SVMtestAcc,'bv--')\n",
    "plt.legend(['Training Accuracy','Test Accuracy'])\n",
    "plt.xlabel('C')\n",
    "plt.ylabel('Accuracy')"
   ]
  },
  {
   "cell_type": "markdown",
   "metadata": {},
   "source": [
    "### Question 6\n",
    "##### Show examples or situations when the using kernel procedure is more efficient in terms of training and prediction computational time w.r.t. polynomial features transformation.  "
   ]
  },
  {
   "cell_type": "markdown",
   "metadata": {},
   "source": [
    "Given a boundary such as ($x_{1} + ... + x_{n}^d + C = 0$) where n is the number of samples and d is the degree of the polynomial, we establish that the boundary is non-linear in the input space: $x = (x_{1}, x_{2}, ..., x_{n})$ but linear in a higher dimensional space. Hence we can apply a linear classifier to this non-linear boundary problem by mapping the regular features X to the enhanced data vectors $\\phi(X) = (X_{1}, ... ,X_{n},..., X_{n}^d)$. We then compute the dot product $\\phi(X).\\phi(Z)$ where X, Z are sample instances within the sample space.<br>\n",
    "The total number of polynomial transformed features is computed by iterating over all suitably sized combinations of input features. The number of features in the transformed feature space scales polynomially with respect to the number of features of the input space, and exponentially in the degree.<br><br>\n",
    "However, with the kernel procedure, the non-linear problem in the input space is implemented without ever writing down a vector in the higher-dimensional space. In other words, the dot product of the polynomial transformed feature is computed using the kernel function directly. Hence the output of the kernel procedure is always an (N x N) kernel or gram matrix\n",
    "\n",
    "Complexity of the algorithms<br>\n",
    "For an N x M  dataset, computational time to generate:<br>\n",
    "* polynomial features transformation:<br>\n",
    "    ** total number of polynomial transformed features = $O(m^{d})$ where d is the polynomial degree. This is exponential in the degree<br>\n",
    "* Kernel procedure<br>\n",
    "    ** Kernel/Gram matrix = $O(n^{2})$ which is quadratic"
   ]
  },
  {
   "cell_type": "markdown",
   "metadata": {},
   "source": [
    "### Question 7\n",
    "\n",
    "##### Write a procedure to estimate in the SVC classifier (in Scikit) the best kernel (RBF, Polynomial, sigmoid), the best gamma & degree, and the best C. "
   ]
  },
  {
   "cell_type": "code",
   "execution_count": 25,
   "metadata": {},
   "outputs": [],
   "source": [
    "# Load the dataset\n",
    "filename = \"iris.csv\"\n",
    "names = ['sepal-length', 'sepal-width', 'petal-length', 'petal-width', 'class']\n",
    "data_iris = pd.read_csv(filename, names=names)\n",
    "indp_var = ['sepal-length', 'sepal-width', 'petal-length', 'petal-width']\n",
    "X = data_iris[indp_var].values\n",
    "y = (data_iris[\"class\"]==\"Iris-setosa\").astype(int)"
   ]
  },
  {
   "cell_type": "code",
   "execution_count": 26,
   "metadata": {},
   "outputs": [
    {
     "name": "stdout",
     "output_type": "stream",
     "text": [
      "       precision recall\n",
      "C              1      1\n",
      "degree         1      1\n",
      "kernel      poly   poly\n",
      "\n",
      "              precision    recall  f1-score   support\n",
      "\n",
      "           0       1.00      1.00      1.00        29\n",
      "           1       1.00      1.00      1.00        16\n",
      "\n",
      "   micro avg       1.00      1.00      1.00        45\n",
      "   macro avg       1.00      1.00      1.00        45\n",
      "weighted avg       1.00      1.00      1.00        45\n",
      "\n"
     ]
    }
   ],
   "source": [
    "from sklearn.metrics import classification_report\n",
    "import warnings\n",
    "\n",
    "warnings.filterwarnings(\"ignore\")\n",
    "\n",
    "# Set up possible values of parameters to optimize over\n",
    "parameters = [\n",
    "  {'C': [1, 10, 100, 1000], 'degree': [1, 2, 3], 'kernel': ['poly']},\n",
    "  {'C': [1, 10, 100, 1000], 'gamma': [0.0001, 0.001, 0.01, 0.1, 1], 'kernel': ['rbf']},\n",
    "  {'C': [1, 10, 100, 1000], 'gamma': [0.0001, 0.001, 0.01, 0.1, 1], 'kernel': ['sigmoid']}\n",
    " ]\n",
    "\n",
    "# Split the dataset in two equal parts\n",
    "X_train, X_test, y_train, y_test = train_test_split(\n",
    "    X, y, test_size=0.3, random_state=0)\n",
    "\n",
    "# Instantiate the Support Vector Classifier\n",
    "svc = svm.SVC(gamma=\"scale\")\n",
    "\n",
    "scores = ['precision', 'recall']\n",
    "scores_results = {}\n",
    "for score in scores:\n",
    "    \n",
    "    clf = GridSearchCV(svc, parameters, cv=5, scoring='%s_macro' % score)\n",
    "    clf.fit(X_train, y_train)\n",
    "    scores_results[score] = clf.best_params_\n",
    "\n",
    "print(pd.DataFrame.from_dict(data=scores_results))\n",
    "print()\n",
    "y_true, y_pred = y_test, clf.predict(X_test)\n",
    "print(classification_report(y_true, y_pred))\n"
   ]
  },
  {
   "cell_type": "markdown",
   "metadata": {},
   "source": [
    "### Question 8\n",
    "#### Create examples to explain the property and the importance of the following kernels:<br>\n",
    "* Graph kernel<br>"
   ]
  },
  {
   "cell_type": "markdown",
   "metadata": {},
   "source": [
    "Graphs are ideal to model  Molecules, Protein-protein interaction networks, Metabolic networks. Graph similarity is the central problem for all learning tasks such as clustering and classification on graphs. Graph kernels offers a solution to measure similarity between pairs of graph. It compares substructures of graphs that are computable in polynomial time. Examples - Walks, Paths, Cyclic patterns, Trees<br><br>\n",
    "Criteria for a good graph kernel<br>\n",
    "* Expressive\n",
    "* Efficient to compute\n",
    "* Positive definite\n",
    "* Applicable to wide range of graphs\n",
    "\n",
    "The principle here is to compare walks in two input graphs. Walks are sequences of nodes that allow repetitions of nodes. To find common walks in two graphs, we use the Product Graph of $G_{1}$ and $G_{2}$. Product graph consists of pairs of identically labeled nodes and edges from $G_{1}$ and $G_{2}$. Common walks can now be computed by taking the adjacency\n",
    "matrix A to the power of k, where k is the length of walk and A is the adjacency matrix of G"
   ]
  },
  {
   "cell_type": "markdown",
   "metadata": {},
   "source": [
    "* Sigmoid Kernel <br><br>\n",
    "\n",
    "$K(x_{i},x_{j}) = tanh(\\alpha x_{i}^{T} x_{j} +r)$ is similar to the sigmoid function in logistic regression (in a sense, it is a rescaling of the logistic sigmoid function).The tanh function (hyperbolic tangent function), is a rescaling of the logistic sigmoid, such that its outputs range from -1 to 1. It owes its popularity to neural networks, which traditionally used the sigmoid activation function<br>\n",
    "\n",
    "The sigmoid function takes two parameters: $\\alpha$ and r<br>\n",
    "For $\\alpha$ > 0, we can view $\\alpha$ as a scaling parameter of the input data, and r as a shifting parameter that controls the threshold of mapping (r shifts where the sign changes away from 0). For $\\alpha$ < 0, the dot-product of the input data is not only scaled but reversed. Hence, $\\alpha$ > 0 and r < 0, is more suitable for the sigmoid kernel."
   ]
  },
  {
   "cell_type": "markdown",
   "metadata": {},
   "source": [
    "* String kernels\n",
    "\n",
    "String kernels are used for Sequence data such as text documents, speech signals, protein sequences. Each data point is a sequence of arbitrary length which yields input spaces like: <br>$\\chi$ = {A, C, G, T}*<br>$\\chi$ = {English words}$^*$<br>\n",
    "It is difficult to have an embedding or transformation $\\phi(x)$ that is suitable for variable-length sequences X. String kernels are used for such problems as this. It measures the similarity of pairs of strings thereby allowing Kernelized learning algorithms such as support vector machines to work with strings, without having to translate them first to fixed-length, real-valued feature vectors<br><br>\n",
    "For each substring s, we define a feature: $\\phi_{s}(X)$ = # of times substring s appaers in X<br>\n",
    "Hence, $\\phi(X)$ will represent a vector with one coordinate for each substring: $\\phi(X)$ = ($\\phi_{s}(X)$: for all substring s)<br>\n",
    "We then define a function K(x,z) = $\\phi(X)$ . $\\phi(Z)$: for each substring s of x: count how often s appears in z\n",
    "\n"
   ]
  },
  {
   "cell_type": "code",
   "execution_count": null,
   "metadata": {},
   "outputs": [],
   "source": []
  },
  {
   "cell_type": "code",
   "execution_count": null,
   "metadata": {},
   "outputs": [],
   "source": []
  }
 ],
 "metadata": {
  "kernelspec": {
   "display_name": "Python 3",
   "language": "python",
   "name": "python3"
  },
  "language_info": {
   "codemirror_mode": {
    "name": "ipython",
    "version": 3
   },
   "file_extension": ".py",
   "mimetype": "text/x-python",
   "name": "python",
   "nbconvert_exporter": "python",
   "pygments_lexer": "ipython3",
   "version": "3.6.8"
  }
 },
 "nbformat": 4,
 "nbformat_minor": 2
}
