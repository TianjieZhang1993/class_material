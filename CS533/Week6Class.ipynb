{
 "cells": [
  {
   "cell_type": "markdown",
   "metadata": {},
   "source": [
    "# Week 6 Exercise - Census Data\n",
    "\n",
    "This exercise has you apply two things:\n",
    "\n",
    "- Obtaining data from the census (see the [tutorial notebook](https://cs533.ekstrandom.net/f21/resources/tutorials/UsingTheCensus/)\n",
    "- Plotting two related numeric variables\n",
    "\n",
    "The guiding question for this notebook is “is a higher level of college education in the population correlated with income?”\n",
    "\n",
    "Let's go!"
   ]
  },
  {
   "cell_type": "markdown",
   "metadata": {},
   "source": [
    "## Setup\n",
    "\n",
    "We first need to make sure we have the `census` and `US` packages:"
   ]
  },
  {
   "cell_type": "code",
   "execution_count": null,
   "metadata": {},
   "outputs": [],
   "source": [
    "%pip install census us"
   ]
  },
  {
   "cell_type": "markdown",
   "metadata": {},
   "source": [
    "And then we can import:"
   ]
  },
  {
   "cell_type": "code",
   "execution_count": 1,
   "metadata": {},
   "outputs": [],
   "source": [
    "import pandas as pd\n",
    "import numpy as np\n",
    "import seaborn as sns\n",
    "import matplotlib.pyplot as plt\n",
    "from census import Census\n",
    "from us import states"
   ]
  },
  {
   "cell_type": "markdown",
   "metadata": {},
   "source": [
    "And set up a census object (replace API KEY with your API key):"
   ]
  },
  {
   "cell_type": "code",
   "execution_count": 2,
   "metadata": {},
   "outputs": [],
   "source": [
    "c = Census('279e38280cd89b39289e78c8b5696150b6d67ba0')"
   ]
  },
  {
   "cell_type": "markdown",
   "metadata": {},
   "source": [
    "## Census Data\n",
    "\n",
    "The census data comes in a variety of *files*. These files include:\n",
    "\n",
    "- `sf1` — Summary File 1, containing complete count information on the *decennial* census.\n",
    "- `acs1` — American Community Survey, a supplementary annual survey of a sample of the population carried out by the census bureau every year.\n",
    "\n",
    "Both of these files are accessed in the same way, via the Census object, but they contain different variables.  Each contains thousands of variables.\n",
    "\n",
    "This notebook focuses on the ACS.  The [variable list](https://api.census.gov/data/2014/acs/acs5/variables.html) describes these variables, and the ones of interest are all reported as **estimated population counts**.  That means variable `B06009_003E` is an estimate, based on the sample, of the number of people in a geographic region whose highest educational attainment is a high school degree.\n",
    "\n",
    "To fetch data, we need to know three things:\n",
    "\n",
    "- The *geographic level* we want: county or state?\n",
    "- *Which* geographic area(s)?\n",
    "- The variables to retrieve.\n",
    "- The year. We're going to use 2014.\n",
    "\n",
    "Variables in turn are nested. Many variables are estimated population counts; for these, one variable is the total population, and others are counts within subgroups.  Look at the variable list to see how these are described:\n",
    "\n",
    "- `B01001_001E` is the estimated total population\n",
    "- `B01001_002E` is the estimated male population\n",
    "- `B01001_026E` is the estimated female population\n",
    "\n",
    "There are variables for a *lot* of different breakdowns.\n",
    "\n",
    "The API returns a list of dictionaries containing the variables.  Let's get the gender population estimate for Idaho:"
   ]
  },
  {
   "cell_type": "code",
   "execution_count": 3,
   "metadata": {},
   "outputs": [
    {
     "data": {
      "text/plain": [
       "[{'NAME': 'Idaho',\n",
       "  'B01001_001E': 1634464.0,\n",
       "  'B01001_002E': 817050.0,\n",
       "  'B01001_026E': 817414.0,\n",
       "  'state': '16'}]"
      ]
     },
     "execution_count": 3,
     "metadata": {},
     "output_type": "execute_result"
    }
   ],
   "source": [
    "c.acs1.state(('NAME', 'B01001_001E', 'B01001_002E', 'B01001_026E'), states.ID.fips, year=2014)"
   ]
  },
  {
   "cell_type": "markdown",
   "metadata": {},
   "source": [
    "Regions are identified by **FIPS codes**: numeric codes that identify states and counties.  Each state has a 2-digit FIPS code, and the `us.states` module lets us look up a state's FIPS code.  (We can also get a [table of them](https://www.census.gov/library/reference/code-lists/ansi/ansi-codes-for-states.html).)\n",
    "\n",
    "Each county's code is a 5-digit number: its state code, followed by 3 digits to identify the county.\n",
    "\n",
    "When calling `state`, we can provide `'*'` instead of a FIPS code to request all states, and use Pandas `from_records` to make a data frame:"
   ]
  },
  {
   "cell_type": "code",
   "execution_count": 4,
   "metadata": {},
   "outputs": [
    {
     "data": {
      "text/html": [
       "<div>\n",
       "<style scoped>\n",
       "    .dataframe tbody tr th:only-of-type {\n",
       "        vertical-align: middle;\n",
       "    }\n",
       "\n",
       "    .dataframe tbody tr th {\n",
       "        vertical-align: top;\n",
       "    }\n",
       "\n",
       "    .dataframe thead th {\n",
       "        text-align: right;\n",
       "    }\n",
       "</style>\n",
       "<table border=\"1\" class=\"dataframe\">\n",
       "  <thead>\n",
       "    <tr style=\"text-align: right;\">\n",
       "      <th></th>\n",
       "      <th>NAME</th>\n",
       "      <th>B01001_001E</th>\n",
       "      <th>B01001_002E</th>\n",
       "      <th>B01001_026E</th>\n",
       "      <th>state</th>\n",
       "    </tr>\n",
       "  </thead>\n",
       "  <tbody>\n",
       "    <tr>\n",
       "      <th>0</th>\n",
       "      <td>Alabama</td>\n",
       "      <td>4849377.0</td>\n",
       "      <td>2347969.0</td>\n",
       "      <td>2501408.0</td>\n",
       "      <td>01</td>\n",
       "    </tr>\n",
       "    <tr>\n",
       "      <th>1</th>\n",
       "      <td>Alaska</td>\n",
       "      <td>736732.0</td>\n",
       "      <td>385582.0</td>\n",
       "      <td>351150.0</td>\n",
       "      <td>02</td>\n",
       "    </tr>\n",
       "    <tr>\n",
       "      <th>2</th>\n",
       "      <td>Arizona</td>\n",
       "      <td>6731484.0</td>\n",
       "      <td>3342946.0</td>\n",
       "      <td>3388538.0</td>\n",
       "      <td>04</td>\n",
       "    </tr>\n",
       "    <tr>\n",
       "      <th>3</th>\n",
       "      <td>Arkansas</td>\n",
       "      <td>2966369.0</td>\n",
       "      <td>1456778.0</td>\n",
       "      <td>1509591.0</td>\n",
       "      <td>05</td>\n",
       "    </tr>\n",
       "    <tr>\n",
       "      <th>4</th>\n",
       "      <td>California</td>\n",
       "      <td>38802500.0</td>\n",
       "      <td>19264457.0</td>\n",
       "      <td>19538043.0</td>\n",
       "      <td>06</td>\n",
       "    </tr>\n",
       "  </tbody>\n",
       "</table>\n",
       "</div>"
      ],
      "text/plain": [
       "         NAME  B01001_001E  B01001_002E  B01001_026E state\n",
       "0     Alabama    4849377.0    2347969.0    2501408.0    01\n",
       "1      Alaska     736732.0     385582.0     351150.0    02\n",
       "2     Arizona    6731484.0    3342946.0    3388538.0    04\n",
       "3    Arkansas    2966369.0    1456778.0    1509591.0    05\n",
       "4  California   38802500.0   19264457.0   19538043.0    06"
      ]
     },
     "execution_count": 4,
     "metadata": {},
     "output_type": "execute_result"
    }
   ],
   "source": [
    "gender_pop = pd.DataFrame.from_records(\n",
    "    c.acs1.state(('NAME', 'B01001_001E', 'B01001_002E', 'B01001_026E'), '*', year=2014)\n",
    ")\n",
    "gender_pop.head()"
   ]
  },
  {
   "cell_type": "code",
   "execution_count": 5,
   "metadata": {},
   "outputs": [
    {
     "name": "stdout",
     "output_type": "stream",
     "text": [
      "<class 'pandas.core.frame.DataFrame'>\n",
      "RangeIndex: 52 entries, 0 to 51\n",
      "Data columns (total 5 columns):\n",
      " #   Column       Non-Null Count  Dtype  \n",
      "---  ------       --------------  -----  \n",
      " 0   NAME         52 non-null     object \n",
      " 1   B01001_001E  52 non-null     float64\n",
      " 2   B01001_002E  52 non-null     float64\n",
      " 3   B01001_026E  52 non-null     float64\n",
      " 4   state        52 non-null     object \n",
      "dtypes: float64(3), object(2)\n",
      "memory usage: 2.2+ KB\n"
     ]
    }
   ],
   "source": [
    "gender_pop.info()"
   ]
  },
  {
   "cell_type": "markdown",
   "metadata": {},
   "source": [
    "Why is total a string?  Let's make it an int:"
   ]
  },
  {
   "cell_type": "code",
   "execution_count": 6,
   "metadata": {},
   "outputs": [
    {
     "name": "stdout",
     "output_type": "stream",
     "text": [
      "<class 'pandas.core.frame.DataFrame'>\n",
      "RangeIndex: 52 entries, 0 to 51\n",
      "Data columns (total 5 columns):\n",
      " #   Column       Non-Null Count  Dtype  \n",
      "---  ------       --------------  -----  \n",
      " 0   NAME         52 non-null     object \n",
      " 1   B01001_001E  52 non-null     int32  \n",
      " 2   B01001_002E  52 non-null     float64\n",
      " 3   B01001_026E  52 non-null     float64\n",
      " 4   state        52 non-null     object \n",
      "dtypes: float64(2), int32(1), object(2)\n",
      "memory usage: 2.0+ KB\n"
     ]
    }
   ],
   "source": [
    "gender_pop['B01001_001E'] = gender_pop['B01001_001E'].astype('i4')\n",
    "gender_pop.info()"
   ]
  },
  {
   "cell_type": "markdown",
   "metadata": {},
   "source": [
    "✅ **Todo:** do the following:\n",
    "\n",
    "- Rename the columns to have meaningful names\n",
    "- Compute the fraction of the population that is female in each state\n",
    "- Plot the distribution of '% female'"
   ]
  },
  {
   "cell_type": "code",
   "execution_count": null,
   "metadata": {},
   "outputs": [],
   "source": []
  },
  {
   "cell_type": "code",
   "execution_count": null,
   "metadata": {},
   "outputs": [],
   "source": []
  },
  {
   "cell_type": "markdown",
   "metadata": {},
   "source": [
    "## Educational Attainment and Income\n",
    "\n",
    "The [06009](https://www.socialexplorer.com/data/ACS2014_5yr/metadata/?ds=ACS14_5yr&table=B06009) variables (`B06009_001E` and subcounts) report the number of people whose highest education is at at different levels. `B06009_002E` is people who have not completed high school, etc.  The [07011](https://www.socialexplorer.com/data/ACS2014_5yr/metadata/?ds=ACS14_5yr&table=B07011) variable reports the median income (`B07011_001E` is an estimate of median income - it is one of the variables that is *not* reported as a population count).\n",
    "\n",
    "1. Fetch these variables for all states.\n",
    "2. Compute the **fraction** of the population that has at least completed college.  Look at the variable list to see which variables you will need.\n",
    "3. Show the distribution of this variable."
   ]
  },
  {
   "cell_type": "code",
   "execution_count": null,
   "metadata": {
    "scrolled": true
   },
   "outputs": [],
   "source": []
  },
  {
   "cell_type": "markdown",
   "metadata": {},
   "source": [
    "Not all variables are counts! `B07011_001E` is the **median income** for a region.\n",
    "\n",
    "Fetch it too, and show *its* distribution!"
   ]
  },
  {
   "cell_type": "code",
   "execution_count": null,
   "metadata": {},
   "outputs": [],
   "source": []
  },
  {
   "cell_type": "markdown",
   "metadata": {},
   "source": [
    "\n",
    "Now, look at the question: do states with a higher fraction of their education college-educated have higher median incomes?  Show with a scatterplot and compute a correlation coefficient (Pandas `.corr` method)."
   ]
  },
  {
   "cell_type": "code",
   "execution_count": null,
   "metadata": {},
   "outputs": [],
   "source": []
  },
  {
   "cell_type": "code",
   "execution_count": null,
   "metadata": {},
   "outputs": [],
   "source": []
  },
  {
   "cell_type": "code",
   "execution_count": null,
   "metadata": {},
   "outputs": [],
   "source": []
  },
  {
   "cell_type": "code",
   "execution_count": null,
   "metadata": {},
   "outputs": [],
   "source": []
  },
  {
   "cell_type": "markdown",
   "metadata": {},
   "source": [
    "## County Level\n",
    "\n",
    "(if you have time)\n",
    "\n",
    "The `c.acs1.state_county` method fetches county-level data.  For example, to fetch data from counties in Idaho:"
   ]
  },
  {
   "cell_type": "markdown",
   "metadata": {},
   "source": [
    "A lot of counties are missing, because there is not enough sample data from them.\n",
    "\n",
    "You can provide `'*'` for both state and county, to get all counties in the US (for which data is available).\n",
    "\n",
    "Look at education and income at the county level!"
   ]
  },
  {
   "cell_type": "code",
   "execution_count": null,
   "metadata": {},
   "outputs": [],
   "source": []
  }
 ],
 "metadata": {
  "kernelspec": {
   "display_name": "Python 3",
   "language": "python",
   "name": "python3"
  },
  "language_info": {
   "codemirror_mode": {
    "name": "ipython",
    "version": 3
   },
   "file_extension": ".py",
   "mimetype": "text/x-python",
   "name": "python",
   "nbconvert_exporter": "python",
   "pygments_lexer": "ipython3",
   "version": "3.8.8"
  }
 },
 "nbformat": 4,
 "nbformat_minor": 4
}
