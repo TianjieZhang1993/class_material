{
 "cells": [
  {
   "cell_type": "markdown",
   "id": "e3da9375",
   "metadata": {},
   "source": [
    "### DATA Shapes\n",
    "- Rows\n",
    "\n",
    "- Columns"
   ]
  },
  {
   "cell_type": "code",
   "execution_count": null,
   "id": "2b802ae8",
   "metadata": {},
   "outputs": [],
   "source": [
    "frame['column']\n",
    "frame[['c1','c2']]\n",
    "frame.drop[columns=['c1']]"
   ]
  },
  {
   "cell_type": "markdown",
   "id": "dab0f4ca",
   "metadata": {},
   "source": [
    "- Wide to Tall: melt\n",
    "- Tall to Wide: pivot, pivot_table"
   ]
  },
  {
   "cell_type": "code",
   "execution_count": null,
   "id": "6dbaa9f4",
   "metadata": {},
   "outputs": [],
   "source": []
  }
 ],
 "metadata": {
  "kernelspec": {
   "display_name": "Python 3",
   "language": "python",
   "name": "python3"
  },
  "language_info": {
   "codemirror_mode": {
    "name": "ipython",
    "version": 3
   },
   "file_extension": ".py",
   "mimetype": "text/x-python",
   "name": "python",
   "nbconvert_exporter": "python",
   "pygments_lexer": "ipython3",
   "version": "3.8.8"
  }
 },
 "nbformat": 4,
 "nbformat_minor": 5
}
