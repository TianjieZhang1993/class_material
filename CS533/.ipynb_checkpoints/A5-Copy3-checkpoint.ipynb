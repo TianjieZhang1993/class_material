{
 "cells": [
  {
   "cell_type": "code",
   "execution_count": 119,
   "id": "95892113",
   "metadata": {},
   "outputs": [],
   "source": [
    "import pandas as pd\n",
    "import numpy as np\n",
    "import seaborn as sns\n",
    "import matplotlib.pyplot as plt\n",
    "from census import Census\n",
    "import statsmodels.formula.api as smf\n",
    "import statsmodels.api as sm\n",
    "import scipy.stats as sps\n",
    "from sklearn.preprocessing import FunctionTransformer, OneHotEncoder, StandardScaler, PolynomialFeatures\n",
    "from sklearn.compose import ColumnTransformer\n",
    "from sklearn.pipeline import Pipeline\n",
    "from sklearn.linear_model import LinearRegression, ElasticNetCV,LogisticRegression\n",
    "from sklearn.model_selection import train_test_split,GridSearchCV\n",
    "from sklearn.metrics import mean_squared_error,accuracy_score,precision_score,classification_report,confusion_matrix\n",
    "from sklearn.ensemble import RandomForestClassifier\n",
    "from sklearn.datasets import make_classification\n",
    "from sklearn.impute import SimpleImputer\n",
    "import sklearn\n",
    "import warnings\n",
    "warnings.filterwarnings(\"ignore\")"
   ]
  },
  {
   "cell_type": "code",
   "execution_count": 6,
   "id": "572e0c8e",
   "metadata": {},
   "outputs": [],
   "source": [
    "rng = np.random.RandomState(20211105)"
   ]
  },
  {
   "cell_type": "code",
   "execution_count": 7,
   "id": "29fa8a9f",
   "metadata": {},
   "outputs": [],
   "source": [
    "def metric_count(y,y_hat):\n",
    "    accuracy_score(y,y_hat)\n",
    "    fpr, tpr, thresh = sklearn.metrics.roc_curve(y, y_hat)\n",
    "    precision, recall, thresholds = sklearn.metrics.precision_recall_curve(y, y_hat)\n",
    "    f0=plt.figure()\n",
    "    f0.add_subplot(2,2,1)\n",
    "    plt.fill_between(fpr, tpr, 0, color='lightgrey')\n",
    "    plt.plot(np.linspace(0, 1), np.linspace(0, 1), color='red', linestyle=':')\n",
    "    plt.plot(fpr, tpr)\n",
    "    plt.xlabel('False Positive Rate')\n",
    "    plt.ylabel('True Positive Rate')\n",
    "    plt.title('ROC')\n",
    "    #plt.show()\n",
    "    f0.add_subplot(2,2,2)\n",
    "    #precision, recall, thresholds = sklearn.metrics.precision_recall_curve(y, y_hat)\n",
    "    plt.plot(recall, precision)\n",
    "    plt.xlabel('Recall')\n",
    "    plt.ylabel('Precision')\n",
    "    plt.title('P-R')\n",
    "    #plt.show()\n",
    "    f0.tight_layout()\n",
    "    return print(classification_report(y,y_hat))"
   ]
  },
  {
   "cell_type": "markdown",
   "id": "33eb7f84",
   "metadata": {},
   "source": [
    "## Data Prep and Exploration (30%)"
   ]
  },
  {
   "cell_type": "code",
   "execution_count": 68,
   "id": "af2ffc5c",
   "metadata": {},
   "outputs": [
    {
     "data": {
      "text/html": [
       "<div>\n",
       "<style scoped>\n",
       "    .dataframe tbody tr th:only-of-type {\n",
       "        vertical-align: middle;\n",
       "    }\n",
       "\n",
       "    .dataframe tbody tr th {\n",
       "        vertical-align: top;\n",
       "    }\n",
       "\n",
       "    .dataframe thead th {\n",
       "        text-align: right;\n",
       "    }\n",
       "</style>\n",
       "<table border=\"1\" class=\"dataframe\">\n",
       "  <thead>\n",
       "    <tr style=\"text-align: right;\">\n",
       "      <th></th>\n",
       "      <th>LoanNr_ChkDgt</th>\n",
       "      <th>Name</th>\n",
       "      <th>City</th>\n",
       "      <th>State</th>\n",
       "      <th>Zip</th>\n",
       "      <th>Bank</th>\n",
       "      <th>BankState</th>\n",
       "      <th>NAICS</th>\n",
       "      <th>ApprovalDate</th>\n",
       "      <th>ApprovalFY</th>\n",
       "      <th>...</th>\n",
       "      <th>RevLineCr</th>\n",
       "      <th>LowDoc</th>\n",
       "      <th>ChgOffDate</th>\n",
       "      <th>DisbursementDate</th>\n",
       "      <th>DisbursementGross</th>\n",
       "      <th>BalanceGross</th>\n",
       "      <th>MIS_Status</th>\n",
       "      <th>ChgOffPrinGr</th>\n",
       "      <th>GrAppv</th>\n",
       "      <th>SBA_Appv</th>\n",
       "    </tr>\n",
       "  </thead>\n",
       "  <tbody>\n",
       "    <tr>\n",
       "      <th>0</th>\n",
       "      <td>1000014003</td>\n",
       "      <td>ABC HOBBYCRAFT</td>\n",
       "      <td>EVANSVILLE</td>\n",
       "      <td>IN</td>\n",
       "      <td>47711</td>\n",
       "      <td>FIFTH THIRD BANK</td>\n",
       "      <td>OH</td>\n",
       "      <td>451120</td>\n",
       "      <td>28-Feb-97</td>\n",
       "      <td>1997</td>\n",
       "      <td>...</td>\n",
       "      <td>N</td>\n",
       "      <td>Y</td>\n",
       "      <td>NaN</td>\n",
       "      <td>28-Feb-99</td>\n",
       "      <td>$60,000.00</td>\n",
       "      <td>$0.00</td>\n",
       "      <td>P I F</td>\n",
       "      <td>$0.00</td>\n",
       "      <td>$60,000.00</td>\n",
       "      <td>$48,000.00</td>\n",
       "    </tr>\n",
       "    <tr>\n",
       "      <th>1</th>\n",
       "      <td>1000024006</td>\n",
       "      <td>LANDMARK BAR &amp; GRILLE (THE)</td>\n",
       "      <td>NEW PARIS</td>\n",
       "      <td>IN</td>\n",
       "      <td>46526</td>\n",
       "      <td>1ST SOURCE BANK</td>\n",
       "      <td>IN</td>\n",
       "      <td>722410</td>\n",
       "      <td>28-Feb-97</td>\n",
       "      <td>1997</td>\n",
       "      <td>...</td>\n",
       "      <td>N</td>\n",
       "      <td>Y</td>\n",
       "      <td>NaN</td>\n",
       "      <td>31-May-97</td>\n",
       "      <td>$40,000.00</td>\n",
       "      <td>$0.00</td>\n",
       "      <td>P I F</td>\n",
       "      <td>$0.00</td>\n",
       "      <td>$40,000.00</td>\n",
       "      <td>$32,000.00</td>\n",
       "    </tr>\n",
       "  </tbody>\n",
       "</table>\n",
       "<p>2 rows × 27 columns</p>\n",
       "</div>"
      ],
      "text/plain": [
       "   LoanNr_ChkDgt                         Name        City State    Zip  \\\n",
       "0     1000014003               ABC HOBBYCRAFT  EVANSVILLE    IN  47711   \n",
       "1     1000024006  LANDMARK BAR & GRILLE (THE)   NEW PARIS    IN  46526   \n",
       "\n",
       "               Bank BankState   NAICS ApprovalDate ApprovalFY  ...  RevLineCr  \\\n",
       "0  FIFTH THIRD BANK        OH  451120    28-Feb-97       1997  ...          N   \n",
       "1   1ST SOURCE BANK        IN  722410    28-Feb-97       1997  ...          N   \n",
       "\n",
       "   LowDoc  ChgOffDate  DisbursementDate  DisbursementGross  BalanceGross  \\\n",
       "0       Y         NaN         28-Feb-99        $60,000.00         $0.00    \n",
       "1       Y         NaN         31-May-97        $40,000.00         $0.00    \n",
       "\n",
       "   MIS_Status ChgOffPrinGr       GrAppv     SBA_Appv  \n",
       "0       P I F       $0.00   $60,000.00   $48,000.00   \n",
       "1       P I F       $0.00   $40,000.00   $32,000.00   \n",
       "\n",
       "[2 rows x 27 columns]"
      ]
     },
     "execution_count": 68,
     "metadata": {},
     "output_type": "execute_result"
    }
   ],
   "source": [
    "SBAnational=pd.read_csv('SBAnational.CSV')\n",
    "SBAnational.head(2)"
   ]
  },
  {
   "cell_type": "markdown",
   "id": "e5c9d3f9",
   "metadata": {},
   "source": [
    "#### Remove the unpredictable values"
   ]
  },
  {
   "cell_type": "code",
   "execution_count": 9,
   "id": "9507964d",
   "metadata": {},
   "outputs": [],
   "source": [
    "SBAnationalpredictable=SBAnational[SBAnational.MIS_Status.notnull()]\n",
    "SBAnationalpredictable.MIS_Status.replace(('CHGOFF',\"P I F\"),(0,1),inplace=True)"
   ]
  },
  {
   "cell_type": "markdown",
   "id": "4e0828ce",
   "metadata": {},
   "source": [
    "#### Select a 25% sample of the data for use in testing, 20% sample of the train data as Tune data"
   ]
  },
  {
   "cell_type": "code",
   "execution_count": 10,
   "id": "43107250",
   "metadata": {},
   "outputs": [],
   "source": [
    "train, test = train_test_split(SBAnationalpredictable, test_size=0.25, random_state=12345)\n",
    "train, tune = train_test_split(train, test_size=0.2, random_state=1234)"
   ]
  },
  {
   "cell_type": "code",
   "execution_count": 95,
   "id": "1c45ece5",
   "metadata": {},
   "outputs": [
    {
     "data": {
      "text/plain": [
       "<AxesSubplot:>"
      ]
     },
     "execution_count": 95,
     "metadata": {},
     "output_type": "execute_result"
    },
    {
     "data": {
      "image/png": "[encoded data removed]",
      "text/plain": [
       "<Figure size 432x288 with 1 Axes>"
      ]
     },
     "metadata": {
      "needs_background": "light"
     },
     "output_type": "display_data"
    }
   ],
   "source": [
    "train['MIS_Status'].hist()"
   ]
  },
  {
   "cell_type": "code",
   "execution_count": 96,
   "id": "abcddf1a",
   "metadata": {},
   "outputs": [
    {
     "data": {
      "text/plain": [
       "count    538300.000000\n",
       "mean          0.824633\n",
       "std           0.380281\n",
       "min           0.000000\n",
       "25%           1.000000\n",
       "50%           1.000000\n",
       "75%           1.000000\n",
       "max           1.000000\n",
       "Name: MIS_Status, dtype: float64"
      ]
     },
     "execution_count": 96,
     "metadata": {},
     "output_type": "execute_result"
    }
   ],
   "source": [
    "train['MIS_Status'].describe()"
   ]
  },
  {
   "cell_type": "code",
   "execution_count": 13,
   "id": "cb0073da",
   "metadata": {},
   "outputs": [
    {
     "data": {
      "text/plain": [
       "0.8246331042169793"
      ]
     },
     "execution_count": 13,
     "metadata": {},
     "output_type": "execute_result"
    }
   ],
   "source": [
    "default_ratio=train['MIS_Status'].sum()/train['MIS_Status'].count()\n",
    "default_ratio"
   ]
  },
  {
   "cell_type": "markdown",
   "id": "fca36061",
   "metadata": {},
   "source": [
    "#### Thus, the majority is \"Paid In Full\" which is 1."
   ]
  },
  {
   "cell_type": "code",
   "execution_count": 143,
   "id": "04246293",
   "metadata": {},
   "outputs": [
    {
     "name": "stdout",
     "output_type": "stream",
     "text": [
      "              precision    recall  f1-score   support\n",
      "\n",
      "           0       0.00      0.00      0.00     94400\n",
      "           1       0.82      1.00      0.90    443900\n",
      "\n",
      "    accuracy                           0.82    538300\n",
      "   macro avg       0.41      0.50      0.45    538300\n",
      "weighted avg       0.68      0.82      0.75    538300\n",
      "\n"
     ]
    },
    {
     "data": {
      "image/png": "[encoded data removed]",
      "text/plain": [
       "<Figure size 432x288 with 2 Axes>"
      ]
     },
     "metadata": {
      "needs_background": "light"
     },
     "output_type": "display_data"
    }
   ],
   "source": [
    "train['majority-class classifier']=1\n",
    "metric_count(train['MIS_Status'],train['majority-class classifier'])"
   ]
  },
  {
   "cell_type": "code",
   "execution_count": 144,
   "id": "cdad93ea",
   "metadata": {},
   "outputs": [
    {
     "data": {
      "text/plain": [
       "array([[     0,  94400],\n",
       "       [     0, 443900]])"
      ]
     },
     "execution_count": 144,
     "metadata": {},
     "output_type": "execute_result"
    }
   ],
   "source": [
    "confusion_matrix(train['MIS_Status'],train['majority-class classifier'])"
   ]
  },
  {
   "cell_type": "markdown",
   "id": "65f392f0",
   "metadata": {},
   "source": [
    "#### Because this data is heavily skewed, although the accuracy is 0.82, the macro precision is only 0.41, macro recall is 0.50 and macro f1-score is 0.45. "
   ]
  },
  {
   "cell_type": "markdown",
   "id": "df4b9645",
   "metadata": {},
   "source": [
    "## Feature Engineering"
   ]
  },
  {
   "cell_type": "markdown",
   "id": "0645da4b",
   "metadata": {},
   "source": [
    "### 1. Urban or Rural?"
   ]
  },
  {
   "cell_type": "markdown",
   "id": "059b9a7f",
   "metadata": {},
   "source": [
    "#### Whether the company is in Urban or Rural makes sense, a company which is in Urban  or in Rural area, the cost in transportation, in building, in rent, in people's salary are totally different. As you know, a company earn more money means can pay the loan in time."
   ]
  },
  {
   "cell_type": "code",
   "execution_count": 16,
   "id": "457c63b4",
   "metadata": {},
   "outputs": [
    {
     "data": {
      "image/png": "[encoded data removed]",
      "text/plain": [
       "<Figure size 432x288 with 2 Axes>"
      ]
     },
     "metadata": {
      "needs_background": "light"
     },
     "output_type": "display_data"
    }
   ],
   "source": [
    "f0=plt.figure()\n",
    "f0.add_subplot(2,1,1)\n",
    "sns.countplot(train.loc[train['MIS_Status']==0,'UrbanRural'])\n",
    "plt.xlabel('charged off')\n",
    "f0.add_subplot(2,1,2)\n",
    "sns.countplot(train.loc[train['MIS_Status']==1,'UrbanRural'])\n",
    "plt.xlabel(\"Paid in Full\")\n",
    "f0.tight_layout()"
   ]
  },
  {
   "cell_type": "code",
   "execution_count": 17,
   "id": "05db3533",
   "metadata": {},
   "outputs": [
    {
     "data": {
      "text/plain": [
       "0.9290401460983688"
      ]
     },
     "execution_count": 17,
     "metadata": {},
     "output_type": "execute_result"
    }
   ],
   "source": [
    "train.loc[train['UrbanRural']==0,'MIS_Status'].sum()/train.loc[train['UrbanRural']==0,'MIS_Status'].count()"
   ]
  },
  {
   "cell_type": "code",
   "execution_count": 18,
   "id": "da51a0a7",
   "metadata": {},
   "outputs": [
    {
     "data": {
      "text/plain": [
       "0.7553054902532622"
      ]
     },
     "execution_count": 18,
     "metadata": {},
     "output_type": "execute_result"
    }
   ],
   "source": [
    "train.loc[train['UrbanRural']==1,'MIS_Status'].sum()/train.loc[train['UrbanRural']==1,'MIS_Status'].count()"
   ]
  },
  {
   "cell_type": "code",
   "execution_count": 19,
   "id": "90a10069",
   "metadata": {},
   "outputs": [
    {
     "data": {
      "text/plain": [
       "0.8128525605574605"
      ]
     },
     "execution_count": 19,
     "metadata": {},
     "output_type": "execute_result"
    }
   ],
   "source": [
    "train.loc[train['UrbanRural']==2,'MIS_Status'].sum()/train.loc[train['UrbanRural']==2,'MIS_Status'].count()"
   ]
  },
  {
   "cell_type": "markdown",
   "id": "aa31fcf5",
   "metadata": {},
   "source": [
    "|urban or rural?|   0=undefined    | 1=urban | 2=rural     |\n",
    "|:---    | :----:     |    :----:   |          ---: |\n",
    "| percentage of pay in full | 0.9290401460983688          | 0.7553054902532622     | 0.8128525605574605 |\n"
   ]
  },
  {
   "cell_type": "markdown",
   "id": "121335e9",
   "metadata": {},
   "source": [
    "#### As we can see from the Table, company in Urban has lower percentage of pay in full than in rural."
   ]
  },
  {
   "cell_type": "markdown",
   "id": "9cc7f211",
   "metadata": {},
   "source": [
    "### 2. Is industry in the same state with bank?"
   ]
  },
  {
   "cell_type": "markdown",
   "id": "bb5056b7",
   "metadata": {},
   "source": [
    "#### If the company in the same state with bank, the bank are more likely to rent money to this company rather than rent money to companys out of state even though the company out of state has better credibility, thus whether the company in the same state with bank should make difference."
   ]
  },
  {
   "cell_type": "code",
   "execution_count": 20,
   "id": "2c9a83a3",
   "metadata": {
    "scrolled": true
   },
   "outputs": [
    {
     "data": {
      "text/plain": [
       "<AxesSubplot:xlabel='MIS_Status', ylabel='count'>"
      ]
     },
     "execution_count": 20,
     "metadata": {},
     "output_type": "execute_result"
    },
    {
     "data": {
      "image/png": "[encoded data removed]",
      "text/plain": [
       "<Figure size 432x288 with 1 Axes>"
      ]
     },
     "metadata": {
      "needs_background": "light"
     },
     "output_type": "display_data"
    }
   ],
   "source": [
    "sns.countplot(train.loc[train['BankState']==train['State'],'MIS_Status'])"
   ]
  },
  {
   "cell_type": "code",
   "execution_count": 97,
   "id": "6e7cc475",
   "metadata": {},
   "outputs": [
    {
     "data": {
      "text/plain": [
       "<AxesSubplot:xlabel='MIS_Status', ylabel='count'>"
      ]
     },
     "execution_count": 97,
     "metadata": {},
     "output_type": "execute_result"
    },
    {
     "data": {
      "image/png": "[encoded data removed]",
      "text/plain": [
       "<Figure size 432x288 with 1 Axes>"
      ]
     },
     "metadata": {
      "needs_background": "light"
     },
     "output_type": "display_data"
    }
   ],
   "source": [
    "sns.countplot(train.loc[train['BankState']!=train['State'],'MIS_Status'])"
   ]
  },
  {
   "cell_type": "markdown",
   "id": "c5d71e34",
   "metadata": {},
   "source": [
    "#### As we can see, the percentage of paid in full is different between in same states or in different states"
   ]
  },
  {
   "cell_type": "code",
   "execution_count": 21,
   "id": "f65fd78f",
   "metadata": {},
   "outputs": [
    {
     "data": {
      "text/plain": [
       "0.8948582090865884"
      ]
     },
     "execution_count": 21,
     "metadata": {},
     "output_type": "execute_result"
    }
   ],
   "source": [
    "train.loc[train['BankState']==train['State'],'MIS_Status'].sum()/train.loc[train['BankState']==train['State'],'MIS_Status'].count()"
   ]
  },
  {
   "cell_type": "code",
   "execution_count": 22,
   "id": "c2f92a73",
   "metadata": {},
   "outputs": [
    {
     "data": {
      "text/plain": [
       "0.7461800161255433"
      ]
     },
     "execution_count": 22,
     "metadata": {},
     "output_type": "execute_result"
    }
   ],
   "source": [
    "train.loc[train['BankState']!=train['State'],'MIS_Status'].sum()/train.loc[train['BankState']!=train['State'],'MIS_Status'].count()"
   ]
  },
  {
   "cell_type": "markdown",
   "id": "cc4346b5",
   "metadata": {},
   "source": [
    "convert from int to 0/1, then put it in the pipeline using onehotencoder."
   ]
  },
  {
   "cell_type": "code",
   "execution_count": 23,
   "id": "98bdd77a",
   "metadata": {},
   "outputs": [],
   "source": [
    "train['same_state']=0\n",
    "train.loc[train['BankState']==train['State'],'same_state']=1"
   ]
  },
  {
   "cell_type": "markdown",
   "id": "b912076f",
   "metadata": {},
   "source": [
    "### 3. CreateJob"
   ]
  },
  {
   "cell_type": "markdown",
   "id": "1b238028",
   "metadata": {},
   "source": [
    "#### if a company creats jobs, that means it expores its business. it may be more likely to earn money or waste resources"
   ]
  },
  {
   "cell_type": "code",
   "execution_count": 24,
   "id": "5a287c10",
   "metadata": {},
   "outputs": [
    {
     "data": {
      "text/html": [
       "<div>\n",
       "<style scoped>\n",
       "    .dataframe tbody tr th:only-of-type {\n",
       "        vertical-align: middle;\n",
       "    }\n",
       "\n",
       "    .dataframe tbody tr th {\n",
       "        vertical-align: top;\n",
       "    }\n",
       "\n",
       "    .dataframe thead th {\n",
       "        text-align: right;\n",
       "    }\n",
       "</style>\n",
       "<table border=\"1\" class=\"dataframe\">\n",
       "  <thead>\n",
       "    <tr style=\"text-align: right;\">\n",
       "      <th></th>\n",
       "      <th>count</th>\n",
       "      <th>mean</th>\n",
       "      <th>std</th>\n",
       "      <th>min</th>\n",
       "      <th>25%</th>\n",
       "      <th>50%</th>\n",
       "      <th>75%</th>\n",
       "      <th>max</th>\n",
       "    </tr>\n",
       "    <tr>\n",
       "      <th>MIS_Status</th>\n",
       "      <th></th>\n",
       "      <th></th>\n",
       "      <th></th>\n",
       "      <th></th>\n",
       "      <th></th>\n",
       "      <th></th>\n",
       "      <th></th>\n",
       "      <th></th>\n",
       "    </tr>\n",
       "  </thead>\n",
       "  <tbody>\n",
       "    <tr>\n",
       "      <th>0</th>\n",
       "      <td>94400.0</td>\n",
       "      <td>14.060403</td>\n",
       "      <td>328.952250</td>\n",
       "      <td>0.0</td>\n",
       "      <td>0.0</td>\n",
       "      <td>0.0</td>\n",
       "      <td>2.0</td>\n",
       "      <td>8800.0</td>\n",
       "    </tr>\n",
       "    <tr>\n",
       "      <th>1</th>\n",
       "      <td>443900.0</td>\n",
       "      <td>7.333613</td>\n",
       "      <td>214.411292</td>\n",
       "      <td>0.0</td>\n",
       "      <td>0.0</td>\n",
       "      <td>0.0</td>\n",
       "      <td>1.0</td>\n",
       "      <td>8800.0</td>\n",
       "    </tr>\n",
       "  </tbody>\n",
       "</table>\n",
       "</div>"
      ],
      "text/plain": [
       "               count       mean         std  min  25%  50%  75%     max\n",
       "MIS_Status                                                             \n",
       "0            94400.0  14.060403  328.952250  0.0  0.0  0.0  2.0  8800.0\n",
       "1           443900.0   7.333613  214.411292  0.0  0.0  0.0  1.0  8800.0"
      ]
     },
     "execution_count": 24,
     "metadata": {},
     "output_type": "execute_result"
    }
   ],
   "source": [
    "train.groupby('MIS_Status')['CreateJob'].describe()"
   ]
  },
  {
   "cell_type": "markdown",
   "id": "c3422b7a",
   "metadata": {},
   "source": [
    "#### it is heavily skewed and majority of these are 0! thus, use log_transformer is not a good idea. I prefer to divide companies in two parts: 0-did not create jobs vs 1-create jobs(no matter how much jobs created)"
   ]
  },
  {
   "cell_type": "code",
   "execution_count": 25,
   "id": "140af17d",
   "metadata": {},
   "outputs": [
    {
     "data": {
      "text/plain": [
       "<AxesSubplot:xlabel='MIS_Status', ylabel='CreateJob'>"
      ]
     },
     "execution_count": 25,
     "metadata": {},
     "output_type": "execute_result"
    },
    {
     "data": {
      "image/png": "[encoded data removed]",
      "text/plain": [
       "<Figure size 432x288 with 1 Axes>"
      ]
     },
     "metadata": {
      "needs_background": "light"
     },
     "output_type": "display_data"
    }
   ],
   "source": [
    "sns.boxplot(x='MIS_Status',y='CreateJob',data=train,color='white', showmeans=True)"
   ]
  },
  {
   "cell_type": "code",
   "execution_count": 26,
   "id": "aad1b8fe",
   "metadata": {},
   "outputs": [
    {
     "data": {
      "image/png": "[encoded data removed]",
      "text/plain": [
       "<Figure size 432x288 with 2 Axes>"
      ]
     },
     "metadata": {
      "needs_background": "light"
     },
     "output_type": "display_data"
    }
   ],
   "source": [
    "train.loc[train['CreateJob']==0,'whetherCreateJob']=0\n",
    "train.loc[train['CreateJob']>0,'whetherCreateJob']=1\n",
    "f0=plt.figure()\n",
    "f0.add_subplot(2,1,1)\n",
    "sns.countplot(train.loc[train['MIS_Status']==0,'whetherCreateJob'])\n",
    "plt.xlabel('charged off')\n",
    "f0.add_subplot(2,1,2)\n",
    "sns.countplot(train.loc[train['MIS_Status']==1,'whetherCreateJob'])\n",
    "plt.xlabel(\"Paid in Full\")\n",
    "f0.tight_layout()"
   ]
  },
  {
   "cell_type": "markdown",
   "id": "c4b80bec",
   "metadata": {},
   "source": [
    "#### As we can see, the percentage of paid in full is different between whether a company create jobs."
   ]
  },
  {
   "cell_type": "code",
   "execution_count": 98,
   "id": "e417e8e1",
   "metadata": {},
   "outputs": [
    {
     "data": {
      "text/plain": [
       "1.9699741573242604"
      ]
     },
     "execution_count": 98,
     "metadata": {},
     "output_type": "execute_result"
    }
   ],
   "source": [
    "train.loc[train['whetherCreateJob']==0,'MIS_Status'].sum()/train.loc[train['whetherCreateJob']==1,'MIS_Status'].count()"
   ]
  },
  {
   "cell_type": "code",
   "execution_count": 27,
   "id": "a9fd1ac4",
   "metadata": {},
   "outputs": [
    {
     "data": {
      "text/plain": [
       "0.7810003656397766"
      ]
     },
     "execution_count": 27,
     "metadata": {},
     "output_type": "execute_result"
    }
   ],
   "source": [
    "train.loc[train['whetherCreateJob']==1,'MIS_Status'].sum()/train.loc[train['whetherCreateJob']==1,'MIS_Status'].count()"
   ]
  },
  {
   "cell_type": "markdown",
   "id": "16e2003a",
   "metadata": {},
   "source": [
    "### 4. retain job"
   ]
  },
  {
   "cell_type": "markdown",
   "id": "8c3e087a",
   "metadata": {},
   "source": [
    "#### if a company retained jobs, that means it keeps its business. it may be more likely to earn money or waste resources"
   ]
  },
  {
   "cell_type": "code",
   "execution_count": 28,
   "id": "23bfbfb6",
   "metadata": {},
   "outputs": [
    {
     "data": {
      "text/html": [
       "<div>\n",
       "<style scoped>\n",
       "    .dataframe tbody tr th:only-of-type {\n",
       "        vertical-align: middle;\n",
       "    }\n",
       "\n",
       "    .dataframe tbody tr th {\n",
       "        vertical-align: top;\n",
       "    }\n",
       "\n",
       "    .dataframe thead th {\n",
       "        text-align: right;\n",
       "    }\n",
       "</style>\n",
       "<table border=\"1\" class=\"dataframe\">\n",
       "  <thead>\n",
       "    <tr style=\"text-align: right;\">\n",
       "      <th></th>\n",
       "      <th>count</th>\n",
       "      <th>mean</th>\n",
       "      <th>std</th>\n",
       "      <th>min</th>\n",
       "      <th>25%</th>\n",
       "      <th>50%</th>\n",
       "      <th>75%</th>\n",
       "      <th>max</th>\n",
       "    </tr>\n",
       "    <tr>\n",
       "      <th>MIS_Status</th>\n",
       "      <th></th>\n",
       "      <th></th>\n",
       "      <th></th>\n",
       "      <th></th>\n",
       "      <th></th>\n",
       "      <th></th>\n",
       "      <th></th>\n",
       "      <th></th>\n",
       "    </tr>\n",
       "  </thead>\n",
       "  <tbody>\n",
       "    <tr>\n",
       "      <th>0</th>\n",
       "      <td>94400.0</td>\n",
       "      <td>16.734555</td>\n",
       "      <td>329.598724</td>\n",
       "      <td>0.0</td>\n",
       "      <td>0.0</td>\n",
       "      <td>2.0</td>\n",
       "      <td>5.0</td>\n",
       "      <td>8800.0</td>\n",
       "    </tr>\n",
       "    <tr>\n",
       "      <th>1</th>\n",
       "      <td>443900.0</td>\n",
       "      <td>9.654368</td>\n",
       "      <td>215.183879</td>\n",
       "      <td>0.0</td>\n",
       "      <td>0.0</td>\n",
       "      <td>0.0</td>\n",
       "      <td>4.0</td>\n",
       "      <td>9500.0</td>\n",
       "    </tr>\n",
       "  </tbody>\n",
       "</table>\n",
       "</div>"
      ],
      "text/plain": [
       "               count       mean         std  min  25%  50%  75%     max\n",
       "MIS_Status                                                             \n",
       "0            94400.0  16.734555  329.598724  0.0  0.0  2.0  5.0  8800.0\n",
       "1           443900.0   9.654368  215.183879  0.0  0.0  0.0  4.0  9500.0"
      ]
     },
     "execution_count": 28,
     "metadata": {},
     "output_type": "execute_result"
    }
   ],
   "source": [
    "train.groupby('MIS_Status')['RetainedJob'].describe()"
   ]
  },
  {
   "cell_type": "markdown",
   "id": "4200a7e1",
   "metadata": {},
   "source": [
    "#### it is heavily skewed and majority of these are 0! thus, use log_transformer is not a good idea. I prefer to divide companies in two parts: 0-did not retain jobs vs 1-retain jobs(no matter how much jobs retained)"
   ]
  },
  {
   "cell_type": "code",
   "execution_count": 29,
   "id": "6b2e939e",
   "metadata": {},
   "outputs": [
    {
     "data": {
      "text/plain": [
       "<AxesSubplot:xlabel='MIS_Status', ylabel='RetainedJob'>"
      ]
     },
     "execution_count": 29,
     "metadata": {},
     "output_type": "execute_result"
    },
    {
     "data": {
      "image/png": "[encoded data removed]",
      "text/plain": [
       "<Figure size 432x288 with 1 Axes>"
      ]
     },
     "metadata": {
      "needs_background": "light"
     },
     "output_type": "display_data"
    }
   ],
   "source": [
    "sns.boxplot(x='MIS_Status',y='RetainedJob',data=train,color='white', showmeans=True)"
   ]
  },
  {
   "cell_type": "code",
   "execution_count": 30,
   "id": "1e2a69ae",
   "metadata": {},
   "outputs": [
    {
     "data": {
      "image/png": "[encoded data removed]",
      "text/plain": [
       "<Figure size 432x288 with 2 Axes>"
      ]
     },
     "metadata": {
      "needs_background": "light"
     },
     "output_type": "display_data"
    }
   ],
   "source": [
    "train.loc[train['RetainedJob']==0,'whetherRetainedJob']=0\n",
    "train.loc[train['RetainedJob']>0,'whetherRetainedJob']=1\n",
    "f0=plt.figure()\n",
    "f0.add_subplot(2,1,1)\n",
    "sns.countplot(train.loc[train['MIS_Status']==0,'whetherRetainedJob'])\n",
    "plt.xlabel('charged off')\n",
    "f0.add_subplot(2,1,2)\n",
    "sns.countplot(train.loc[train['MIS_Status']==1,'whetherRetainedJob'])\n",
    "plt.xlabel(\"Paid in Full\")\n",
    "f0.tight_layout()"
   ]
  },
  {
   "cell_type": "markdown",
   "id": "6b83c4b3",
   "metadata": {},
   "source": [
    "#### As we can see, the percentage of paid in full is different between whether a company retained jobs."
   ]
  },
  {
   "cell_type": "markdown",
   "id": "894eabdb",
   "metadata": {},
   "source": [
    "- retained jobs"
   ]
  },
  {
   "cell_type": "code",
   "execution_count": 100,
   "id": "b7407b7d",
   "metadata": {},
   "outputs": [
    {
     "data": {
      "text/plain": [
       "0.8735230414662386"
      ]
     },
     "execution_count": 100,
     "metadata": {},
     "output_type": "execute_result"
    }
   ],
   "source": [
    "train.loc[train['whetherRetainedJob']==0,'MIS_Status'\n",
    "         ].sum()/train.loc[train['whetherRetainedJob']==1,'MIS_Status'].count()"
   ]
  },
  {
   "cell_type": "markdown",
   "id": "94ed843f",
   "metadata": {},
   "source": [
    "- retained no jobs"
   ]
  },
  {
   "cell_type": "code",
   "execution_count": 101,
   "id": "3faa7b17",
   "metadata": {},
   "outputs": [
    {
     "data": {
      "text/plain": [
       "0.7477984871561677"
      ]
     },
     "execution_count": 101,
     "metadata": {},
     "output_type": "execute_result"
    }
   ],
   "source": [
    "train.loc[train['whetherRetainedJob']==1,'MIS_Status'\n",
    "         ].sum()/train.loc[train['whetherRetainedJob']==1,'MIS_Status'].count()"
   ]
  },
  {
   "cell_type": "markdown",
   "id": "5d677fba",
   "metadata": {},
   "source": [
    "### 5. The proportion guaranteed by SBA"
   ]
  },
  {
   "cell_type": "markdown",
   "id": "c03b583d",
   "metadata": {},
   "source": [
    "#### a higher proportion may mean this company has higher credits."
   ]
  },
  {
   "cell_type": "code",
   "execution_count": 31,
   "id": "8ccedb57",
   "metadata": {},
   "outputs": [],
   "source": [
    "def SBA_G_ratio(mat):\n",
    "    rows, cols = mat.shape\n",
    "    assert cols == 2\n",
    "    mat.iloc[:, 0]=mat.iloc[:, 0].str.replace('$','').str.replace(',','').astype(\"float64\")\n",
    "    mat.iloc[:, 1]=mat.iloc[:, 1].str.replace('$','').str.replace(',','').astype(\"float64\")\n",
    "    if hasattr(mat, 'iloc'):\n",
    "        # Pandas object, use iloc\n",
    "        res = mat.iloc[:, 0] / mat.iloc[:, 1]\n",
    "        return res.to_frame()\n",
    "    else:\n",
    "        # probably a numpy array\n",
    "        res = mat[:, 0] / mat[:, 1]\n",
    "        return res.reshape((rows, 1))"
   ]
  },
  {
   "cell_type": "code",
   "execution_count": 32,
   "id": "21141421",
   "metadata": {},
   "outputs": [],
   "source": [
    "#train['SBA_Appv']=train['SBA_Appv'].str.replace('$','').str.replace(',','').astype(\"float64\")\n",
    "#train['GrAppv']=train['GrAppv'].str.replace('$','').str.replace(',','').astype(\"float64\")\n",
    "train['SBA_G_ration']=SBA_G_ratio(train[['SBA_Appv','GrAppv']])"
   ]
  },
  {
   "cell_type": "code",
   "execution_count": 103,
   "id": "caef8205",
   "metadata": {},
   "outputs": [
    {
     "data": {
      "text/plain": [
       "<AxesSubplot:>"
      ]
     },
     "execution_count": 103,
     "metadata": {},
     "output_type": "execute_result"
    },
    {
     "data": {
      "image/png": "[encoded data removed]",
      "text/plain": [
       "<Figure size 432x288 with 1 Axes>"
      ]
     },
     "metadata": {
      "needs_background": "light"
     },
     "output_type": "display_data"
    }
   ],
   "source": [
    "train['SBA_G_ration'].hist()"
   ]
  },
  {
   "cell_type": "code",
   "execution_count": 33,
   "id": "0338f28f",
   "metadata": {},
   "outputs": [
    {
     "data": {
      "text/plain": [
       "<AxesSubplot:xlabel='MIS_Status', ylabel='SBA_G_ration'>"
      ]
     },
     "execution_count": 33,
     "metadata": {},
     "output_type": "execute_result"
    },
    {
     "data": {
      "image/png": "[encoded data removed]",
      "text/plain": [
       "<Figure size 432x288 with 1 Axes>"
      ]
     },
     "metadata": {
      "needs_background": "light"
     },
     "output_type": "display_data"
    }
   ],
   "source": [
    "sns.boxplot(x='MIS_Status',y='SBA_G_ration',data=train,color='white', showmeans=True)"
   ]
  },
  {
   "cell_type": "markdown",
   "id": "cbbcccf2",
   "metadata": {},
   "source": [
    "#### The boxplot shows the distribution is different between MIS-Status=0 and 1."
   ]
  },
  {
   "cell_type": "markdown",
   "id": "ee5e2efc",
   "metadata": {},
   "source": [
    "### 6. DisbursementGross"
   ]
  },
  {
   "cell_type": "markdown",
   "id": "20ccbf2e",
   "metadata": {},
   "source": [
    "#### the Gross of the disbursement means how large business the company earns"
   ]
  },
  {
   "cell_type": "code",
   "execution_count": 104,
   "id": "93728c63",
   "metadata": {},
   "outputs": [],
   "source": [
    "def remove_symbol(dataframe):\n",
    "    dataframe=dataframe.copy()\n",
    "    dataframe['DisbursementGross']=dataframe['DisbursementGross'\n",
    "                                            ].str.replace('$','').str.replace(',','').astype(\"float64\")\n",
    "    return dataframe"
   ]
  },
  {
   "cell_type": "code",
   "execution_count": 35,
   "id": "00563aea",
   "metadata": {},
   "outputs": [],
   "source": [
    "train['DisbursementGross1']=train['DisbursementGross'].str.replace('$','').str.replace(',','').astype(\"float64\")"
   ]
  },
  {
   "cell_type": "code",
   "execution_count": 36,
   "id": "c3f70949",
   "metadata": {},
   "outputs": [
    {
     "data": {
      "text/plain": [
       "<AxesSubplot:xlabel='MIS_Status', ylabel='DisbursementGross1'>"
      ]
     },
     "execution_count": 36,
     "metadata": {},
     "output_type": "execute_result"
    },
    {
     "data": {
      "image/png": "[encoded data removed]",
      "text/plain": [
       "<Figure size 432x288 with 1 Axes>"
      ]
     },
     "metadata": {
      "needs_background": "light"
     },
     "output_type": "display_data"
    }
   ],
   "source": [
    "sns.boxplot(x='MIS_Status',y='DisbursementGross1',data=train,color='white', showmeans=True)"
   ]
  },
  {
   "cell_type": "markdown",
   "id": "14329f80",
   "metadata": {},
   "source": [
    "#### it is heavily skewed. so we use log transformation"
   ]
  },
  {
   "cell_type": "code",
   "execution_count": 37,
   "id": "7cee443f",
   "metadata": {},
   "outputs": [
    {
     "data": {
      "text/plain": [
       "<AxesSubplot:xlabel='MIS_Status', ylabel='DisbursementGross2'>"
      ]
     },
     "execution_count": 37,
     "metadata": {},
     "output_type": "execute_result"
    },
    {
     "data": {
      "image/png": "[encoded data removed]",
      "text/plain": [
       "<Figure size 432x288 with 1 Axes>"
      ]
     },
     "metadata": {
      "needs_background": "light"
     },
     "output_type": "display_data"
    }
   ],
   "source": [
    "train['DisbursementGross2']=np.log(train['DisbursementGross1'])\n",
    "sns.boxplot(x='MIS_Status',y='DisbursementGross2',data=train,color='white', showmeans=True)"
   ]
  },
  {
   "cell_type": "markdown",
   "id": "f0fb022d",
   "metadata": {},
   "source": [
    "#### much better now"
   ]
  },
  {
   "cell_type": "code",
   "execution_count": 38,
   "id": "d4a66f65",
   "metadata": {},
   "outputs": [],
   "source": [
    "def log_transformer(dataframe):\n",
    "    return np.log(dataframe)"
   ]
  },
  {
   "cell_type": "markdown",
   "id": "f7a739ec",
   "metadata": {},
   "source": [
    "### 7. Industry"
   ]
  },
  {
   "cell_type": "markdown",
   "id": "4c908ea4",
   "metadata": {},
   "source": [
    "#### the company in different industries may refer to different posibility of pay in full. I follow the direction in paper. cut the companies in three catogories: low, median and high"
   ]
  },
  {
   "cell_type": "code",
   "execution_count": 39,
   "id": "90af371d",
   "metadata": {},
   "outputs": [],
   "source": [
    "train['NAICS']=train['NAICS'].astype(str)"
   ]
  },
  {
   "cell_type": "code",
   "execution_count": 40,
   "id": "5132d18f",
   "metadata": {},
   "outputs": [],
   "source": [
    "def industry_type(num):\n",
    "    string=num[0:2]\n",
    "    if string=='21'or string=='11'or string=='55'or string=='62':\n",
    "        return \"low\"\n",
    "    elif string=='52' or string=='53':\n",
    "        return \"high\"\n",
    "    else:\n",
    "        return \"median\""
   ]
  },
  {
   "cell_type": "code",
   "execution_count": 41,
   "id": "d2d1d2cc",
   "metadata": {},
   "outputs": [],
   "source": [
    "train['industry_type']=train['NAICS'].apply(industry_type)"
   ]
  },
  {
   "cell_type": "code",
   "execution_count": 42,
   "id": "92f629b3",
   "metadata": {},
   "outputs": [
    {
     "data": {
      "image/png": "[encoded data removed]",
      "text/plain": [
       "<Figure size 432x288 with 3 Axes>"
      ]
     },
     "metadata": {
      "needs_background": "light"
     },
     "output_type": "display_data"
    }
   ],
   "source": [
    "f0=plt.figure()\n",
    "f0.add_subplot(2,2,1)\n",
    "sns.countplot(train['industry_type'])\n",
    "plt.xlabel(\"all condition\")\n",
    "f0.add_subplot(2,2,2)\n",
    "sns.countplot(train['industry_type'].loc[train['MIS_Status']==1])\n",
    "plt.xlabel(\"Paid in Full\")\n",
    "f0.add_subplot(2,2,3)\n",
    "sns.countplot(train['industry_type'].loc[train['MIS_Status']==0])\n",
    "plt.xlabel('charged off')\n",
    "f0.tight_layout()"
   ]
  },
  {
   "cell_type": "markdown",
   "id": "467b321b",
   "metadata": {},
   "source": [
    "#### As we can see, the percentage of paid in full is different in different industries: low, median, high"
   ]
  },
  {
   "cell_type": "code",
   "execution_count": 43,
   "id": "d3ed873d",
   "metadata": {},
   "outputs": [
    {
     "data": {
      "text/plain": [
       "0.8988865257099963"
      ]
     },
     "execution_count": 43,
     "metadata": {},
     "output_type": "execute_result"
    }
   ],
   "source": [
    "train.loc[train['industry_type']=='low','MIS_Status'\n",
    "         ].sum()/train.loc[train['industry_type']=='low','MIS_Status'].count()"
   ]
  },
  {
   "cell_type": "code",
   "execution_count": 44,
   "id": "ed9ea6f3",
   "metadata": {},
   "outputs": [
    {
     "data": {
      "text/plain": [
       "0.821647358086582"
      ]
     },
     "execution_count": 44,
     "metadata": {},
     "output_type": "execute_result"
    }
   ],
   "source": [
    "train.loc[train['industry_type']=='median','MIS_Status'\n",
    "         ].sum()/train.loc[train['industry_type']=='median','MIS_Status'].count()"
   ]
  },
  {
   "cell_type": "code",
   "execution_count": 45,
   "id": "66b43977",
   "metadata": {},
   "outputs": [
    {
     "data": {
      "text/plain": [
       "0.7160194174757282"
      ]
     },
     "execution_count": 45,
     "metadata": {},
     "output_type": "execute_result"
    }
   ],
   "source": [
    "train.loc[train['industry_type']=='high','MIS_Status'\n",
    "         ].sum()/train.loc[train['industry_type']=='high','MIS_Status'].count()"
   ]
  },
  {
   "cell_type": "markdown",
   "id": "25b17343",
   "metadata": {},
   "source": [
    "### 8. Term"
   ]
  },
  {
   "cell_type": "markdown",
   "id": "fceb44e2",
   "metadata": {},
   "source": [
    "#### How long the term means how good credit of the company"
   ]
  },
  {
   "cell_type": "code",
   "execution_count": 46,
   "id": "effbb618",
   "metadata": {},
   "outputs": [
    {
     "data": {
      "text/plain": [
       "<AxesSubplot:xlabel='Term1', ylabel='count'>"
      ]
     },
     "execution_count": 46,
     "metadata": {},
     "output_type": "execute_result"
    },
    {
     "data": {
      "image/png": "[encoded data removed]",
      "text/plain": [
       "<Figure size 432x288 with 1 Axes>"
      ]
     },
     "metadata": {
      "needs_background": "light"
     },
     "output_type": "display_data"
    }
   ],
   "source": [
    "train.loc[train['Term']>=240,'Term1']=1\n",
    "train.loc[train['Term']<240,'Term1']=0\n",
    "sns.countplot(train['Term1'])"
   ]
  },
  {
   "cell_type": "code",
   "execution_count": 105,
   "id": "d0b080ac",
   "metadata": {},
   "outputs": [
    {
     "data": {
      "text/plain": [
       "0.9836589503639249"
      ]
     },
     "execution_count": 105,
     "metadata": {},
     "output_type": "execute_result"
    }
   ],
   "source": [
    "train.loc[train['Term1']==1,'MIS_Status'\n",
    "         ].sum()/train.loc[train['Term1']==1,'MIS_Status'].count()"
   ]
  },
  {
   "cell_type": "code",
   "execution_count": 106,
   "id": "2f26485f",
   "metadata": {},
   "outputs": [
    {
     "data": {
      "text/plain": [
       "0.7921241343819571"
      ]
     },
     "execution_count": 106,
     "metadata": {},
     "output_type": "execute_result"
    }
   ],
   "source": [
    "train.loc[train['Term1']==0,'MIS_Status'\n",
    "         ].sum()/train.loc[train['Term1']==0,'MIS_Status'].count()"
   ]
  },
  {
   "cell_type": "code",
   "execution_count": 47,
   "id": "6fe39588",
   "metadata": {},
   "outputs": [],
   "source": [
    "def term_transform(dataframe):\n",
    "    dataframe=dataframe.copy()\n",
    "    dataframe.loc[dataframe<240]=0\n",
    "    dataframe.loc[dataframe>=240]=1\n",
    "    return dataframe"
   ]
  },
  {
   "cell_type": "markdown",
   "id": "dfa6aa69",
   "metadata": {},
   "source": [
    "### 9. Recession"
   ]
  },
  {
   "cell_type": "markdown",
   "id": "2b8f9f68",
   "metadata": {},
   "source": [
    "#### a company can rent money from bank during recession means this company has a good credit in pay off full."
   ]
  },
  {
   "cell_type": "code",
   "execution_count": 50,
   "id": "0afd20e7",
   "metadata": {},
   "outputs": [],
   "source": [
    "train['DisbursementDate']=pd.to_datetime(train['DisbursementDate'])\n",
    "train['Recession']=0\n",
    "train.loc[train[(train['DisbursementDate']+pd.Timedelta('30 days')>='2007-12-1')&(train['DisbursementDate']+pd.Timedelta('30 days')<='2009-6-30')].index,['Recession']]=1"
   ]
  },
  {
   "cell_type": "code",
   "execution_count": 51,
   "id": "aa9265ab",
   "metadata": {},
   "outputs": [
    {
     "data": {
      "image/png": "[encoded data removed]",
      "text/plain": [
       "<Figure size 432x288 with 3 Axes>"
      ]
     },
     "metadata": {
      "needs_background": "light"
     },
     "output_type": "display_data"
    }
   ],
   "source": [
    "f0=plt.figure()\n",
    "f0.add_subplot(2,2,1)\n",
    "sns.countplot(train['Recession'])\n",
    "plt.xlabel(\"all condition\")\n",
    "f0.add_subplot(2,2,2)\n",
    "sns.countplot(train['Recession'].loc[train['MIS_Status']==1])\n",
    "plt.xlabel(\"Paid in Full\")\n",
    "f0.add_subplot(2,2,3)\n",
    "sns.countplot(train['Recession'].loc[train['MIS_Status']==0])\n",
    "plt.xlabel('charged off')\n",
    "f0.tight_layout()"
   ]
  },
  {
   "cell_type": "markdown",
   "id": "2881adff",
   "metadata": {},
   "source": [
    "#### There is a big difference of company rent in recession or not"
   ]
  },
  {
   "cell_type": "code",
   "execution_count": 107,
   "id": "f2409ecd",
   "metadata": {},
   "outputs": [
    {
     "data": {
      "text/plain": [
       "0.6591772825392964"
      ]
     },
     "execution_count": 107,
     "metadata": {},
     "output_type": "execute_result"
    }
   ],
   "source": [
    "train.loc[train['Recession']==1,'MIS_Status'\n",
    "         ].sum()/train.loc[train['Recession']==1,'MIS_Status'].count()"
   ]
  },
  {
   "cell_type": "code",
   "execution_count": 108,
   "id": "76c1685f",
   "metadata": {},
   "outputs": [
    {
     "data": {
      "text/plain": [
       "0.8354006359206109"
      ]
     },
     "execution_count": 108,
     "metadata": {},
     "output_type": "execute_result"
    }
   ],
   "source": [
    "train.loc[train['Recession']==0,'MIS_Status'\n",
    "         ].sum()/train.loc[train['Recession']==0,'MIS_Status'].count()"
   ]
  },
  {
   "cell_type": "markdown",
   "id": "dcd438e3",
   "metadata": {},
   "source": [
    "### 10. State"
   ]
  },
  {
   "cell_type": "markdown",
   "id": "22c6e59d",
   "metadata": {},
   "source": [
    "#### different states means different economic conditions."
   ]
  },
  {
   "cell_type": "code",
   "execution_count": 52,
   "id": "8f1d0c48",
   "metadata": {},
   "outputs": [
    {
     "data": {
      "text/plain": [
       "<AxesSubplot:xlabel='MIS_Status', ylabel='State'>"
      ]
     },
     "execution_count": 52,
     "metadata": {},
     "output_type": "execute_result"
    },
    {
     "data": {
      "image/png": "[encoded data removed]",
      "text/plain": [
       "<Figure size 360x720 with 1 Axes>"
      ]
     },
     "metadata": {
      "needs_background": "light"
     },
     "output_type": "display_data"
    }
   ],
   "source": [
    "state=(1-train.groupby('State')['MIS_Status'].sum()/train.groupby('State')['MIS_Status'].count()).reset_index()\n",
    "plt.figure(figsize=(5, 10))\n",
    "sns.barplot(x='MIS_Status',y='State',data=state,color='gray')"
   ]
  },
  {
   "cell_type": "code",
   "execution_count": 113,
   "id": "6b10ec68",
   "metadata": {},
   "outputs": [
    {
     "data": {
      "text/plain": [
       "array([[<AxesSubplot:title={'center':'MIS_Status'}>]], dtype=object)"
      ]
     },
     "execution_count": 113,
     "metadata": {},
     "output_type": "execute_result"
    },
    {
     "data": {
      "image/png": "[encoded data removed]",
      "text/plain": [
       "<Figure size 432x288 with 1 Axes>"
      ]
     },
     "metadata": {
      "needs_background": "light"
     },
     "output_type": "display_data"
    }
   ],
   "source": [
    "state.hist()"
   ]
  },
  {
   "cell_type": "markdown",
   "id": "6ec3934c",
   "metadata": {},
   "source": [
    "### 11.NewExist?"
   ]
  },
  {
   "cell_type": "markdown",
   "id": "5ad5fcfd",
   "metadata": {},
   "source": [
    "#### whether a company is new or not make sense in whether it can pay off full."
   ]
  },
  {
   "cell_type": "code",
   "execution_count": 53,
   "id": "c527a945",
   "metadata": {},
   "outputs": [
    {
     "data": {
      "text/plain": [
       "<AxesSubplot:>"
      ]
     },
     "execution_count": 53,
     "metadata": {},
     "output_type": "execute_result"
    },
    {
     "data": {
      "image/png": "[encoded data removed]",
      "text/plain": [
       "<Figure size 432x288 with 1 Axes>"
      ]
     },
     "metadata": {
      "needs_background": "light"
     },
     "output_type": "display_data"
    }
   ],
   "source": [
    "train['NewExist'].hist()"
   ]
  },
  {
   "cell_type": "code",
   "execution_count": 54,
   "id": "7bf3fca0",
   "metadata": {},
   "outputs": [
    {
     "data": {
      "image/png": "[encoded data removed]",
      "text/plain": [
       "<Figure size 432x288 with 2 Axes>"
      ]
     },
     "metadata": {
      "needs_background": "light"
     },
     "output_type": "display_data"
    }
   ],
   "source": [
    "f0=plt.figure()\n",
    "f0.add_subplot(2,1,1)\n",
    "sns.countplot(train['NewExist'].loc[train['MIS_Status']==1])\n",
    "plt.xlabel(\"Paid in Full\")\n",
    "f0.add_subplot(2,1,2)\n",
    "sns.countplot(train['NewExist'].loc[train['MIS_Status']==0])\n",
    "plt.xlabel('charged off')\n",
    "f0.tight_layout()"
   ]
  },
  {
   "cell_type": "code",
   "execution_count": 114,
   "id": "a87499e4",
   "metadata": {},
   "outputs": [
    {
     "data": {
      "text/plain": [
       "0.8291540397821393"
      ]
     },
     "execution_count": 114,
     "metadata": {},
     "output_type": "execute_result"
    }
   ],
   "source": [
    "train.loc[train['NewExist']==1,'MIS_Status'\n",
    "         ].sum()/train.loc[train['NewExist']==1,'MIS_Status'].count()"
   ]
  },
  {
   "cell_type": "code",
   "execution_count": 115,
   "id": "564d10dc",
   "metadata": {},
   "outputs": [
    {
     "data": {
      "text/plain": [
       "0.93026941362916"
      ]
     },
     "execution_count": 115,
     "metadata": {},
     "output_type": "execute_result"
    }
   ],
   "source": [
    "train.loc[train['NewExist']==0,'MIS_Status'\n",
    "         ].sum()/train.loc[train['NewExist']==0,'MIS_Status'].count()"
   ]
  },
  {
   "cell_type": "code",
   "execution_count": 116,
   "id": "62d5cc2a",
   "metadata": {},
   "outputs": [
    {
     "data": {
      "text/plain": [
       "0.8126786349327608"
      ]
     },
     "execution_count": 116,
     "metadata": {},
     "output_type": "execute_result"
    }
   ],
   "source": [
    "train.loc[train['NewExist']==2,'MIS_Status'\n",
    "         ].sum()/train.loc[train['NewExist']==2,'MIS_Status'].count()"
   ]
  },
  {
   "cell_type": "markdown",
   "id": "e7c4333e",
   "metadata": {},
   "source": [
    "## Initial Logistic Model (25%)"
   ]
  },
  {
   "cell_type": "markdown",
   "id": "da2001a9",
   "metadata": {},
   "source": [
    "#### we choose 8 features: \n",
    "\n",
    "'ratio_SBA_G'\n",
    "\n",
    "'State'\n",
    "\n",
    "'Recession'\n",
    "\n",
    "'industry_type'\n",
    "\n",
    "'same_state'\n",
    "\n",
    "'NewExist'\n",
    "\n",
    "'grossofdisbursement'\n",
    "                                    "
   ]
  },
  {
   "cell_type": "code",
   "execution_count": 123,
   "id": "0f5998e2",
   "metadata": {},
   "outputs": [],
   "source": [
    "feat_cols = ['State','Term1', 'industry_type','Recession','SBA_Appv', 'GrAppv','DisbursementGross','same_state',\n",
    "           'NewExist']\n",
    "out_col = 'MIS_Status'\n",
    "train_x = train[feat_cols]\n",
    "train_y = train[out_col]"
   ]
  },
  {
   "cell_type": "code",
   "execution_count": 58,
   "id": "e8e91a97",
   "metadata": {},
   "outputs": [
    {
     "data": {
      "text/plain": [
       "0.6615344603381015"
      ]
     },
     "execution_count": 58,
     "metadata": {},
     "output_type": "execute_result"
    }
   ],
   "source": [
    "lm_pipe = Pipeline([\n",
    "    ('columns', ColumnTransformer([\n",
    "        ('ratio_SBA_G', FunctionTransformer(SBA_G_ratio), ['SBA_Appv', 'GrAppv']),\n",
    "        #('GrossDisbursement', FunctionTransformer(log_transformer), ['DisbursementGross1']),\n",
    "        #('industry_type', FunctionTransformer(industry_type1), ['NAICS']),\n",
    "        #('DisbursementGross', FunctionTransformer(Gross), ['DisbursementGross','SBA_Appv']),\n",
    "        ('feature', OneHotEncoder(drop='first'), ['State','Recession','industry_type',\n",
    "                                                  'same_state',\n",
    "                                                 'NewExist']),\n",
    "        #('u', RandomUnderSampler(sampling_strategy=0.5))\n",
    "        ('grossofdisbursement', Pipeline([\n",
    "        \n",
    "        ('trans1',FunctionTransformer(remove_symbol)),\n",
    "        ('log', FunctionTransformer(np.log1p)),\n",
    "        ('std', StandardScaler()),\n",
    "        ('fill', SimpleImputer(strategy='constant', fill_value=0))]),\n",
    "         ['DisbursementGross'])  \n",
    "    ])),\n",
    "    ('model', LogisticRegression(class_weight='balanced',penalty='none'))\n",
    "])\n",
    "lm_pipe.fit(train_x,train_y)\n",
    "accuracy_score(train_y,lm_pipe.predict(train_x))"
   ]
  },
  {
   "cell_type": "code",
   "execution_count": 59,
   "id": "39e6a934",
   "metadata": {},
   "outputs": [
    {
     "name": "stdout",
     "output_type": "stream",
     "text": [
      "              precision    recall  f1-score   support\n",
      "\n",
      "           0       0.29      0.66      0.41     94400\n",
      "           1       0.90      0.66      0.76    443900\n",
      "\n",
      "    accuracy                           0.66    538300\n",
      "   macro avg       0.60      0.66      0.59    538300\n",
      "weighted avg       0.80      0.66      0.70    538300\n",
      "\n"
     ]
    },
    {
     "data": {
      "image/png": "[encoded data removed]",
      "text/plain": [
       "<Figure size 432x288 with 2 Axes>"
      ]
     },
     "metadata": {
      "needs_background": "light"
     },
     "output_type": "display_data"
    }
   ],
   "source": [
    "metric_count(train_y,lm_pipe.predict(train_x))"
   ]
  },
  {
   "cell_type": "markdown",
   "id": "af6eb9df",
   "metadata": {},
   "source": [
    "## tune data"
   ]
  },
  {
   "cell_type": "code",
   "execution_count": 60,
   "id": "dfaf4417",
   "metadata": {},
   "outputs": [],
   "source": [
    "def data_unitransform(dataframe):\n",
    "    #1. urban or rural?\n",
    "    #2. same state?\n",
    "    dataframe['same_state']=0\n",
    "    dataframe.loc[dataframe['BankState']==dataframe['State'],'same_state']=1\n",
    "    #3.create job?\n",
    "    dataframe.loc[dataframe['CreateJob']==0,'whetherCreateJob']=0\n",
    "    dataframe.loc[dataframe['CreateJob']>0,'whetherCreateJob']=1\n",
    "    #4.retain job?\n",
    "    dataframe.loc[dataframe['RetainedJob']==0,'whetherRetainedJob']=0\n",
    "    dataframe.loc[dataframe['RetainedJob']>0,'whetherRetainedJob']=1\n",
    "    #5. The proportion guaranteed by SBA\n",
    "    #6. DisbursementGross\n",
    "    #dataframe['DisbursementGross1']=dataframe['DisbursementGross'].str.replace('$','').str.replace(',','').astype(\"float64\")\n",
    "    #7. Industry\n",
    "    dataframe['NAICS']=dataframe['NAICS'].astype(str)\n",
    "    dataframe['industry_type']=dataframe['NAICS'].apply(industry_type)\n",
    "    #8.term\n",
    "    dataframe.loc[dataframe['Term']>=240,'Term1']=1\n",
    "    dataframe.loc[dataframe['Term']<240,'Term1']=0\n",
    "    #9.Recession\n",
    "    dataframe['DisbursementDate']=pd.to_datetime(dataframe['DisbursementDate'])\n",
    "    dataframe['Recession']=0\n",
    "    dataframe.loc[dataframe[(dataframe['DisbursementDate']+pd.Timedelta('30 days')>='2007-12-1')&(dataframe['DisbursementDate']+pd.Timedelta('30 days')<='2009-6-30')].index,['Recession']]=1\n",
    "    #10.state\n",
    "    #11.newExist\n",
    "    #return dataframe"
   ]
  },
  {
   "cell_type": "code",
   "execution_count": 124,
   "id": "b6f093ce",
   "metadata": {},
   "outputs": [],
   "source": [
    "data_unitransform(tune)\n",
    "tune_x=tune[feat_cols]\n",
    "tune_y=tune[out_col]\n",
    "pure_y = lm_pipe.predict(tune_x)"
   ]
  },
  {
   "cell_type": "code",
   "execution_count": 125,
   "id": "4e2d3962",
   "metadata": {},
   "outputs": [
    {
     "data": {
      "text/plain": [
       "0.6605313022478172"
      ]
     },
     "execution_count": 125,
     "metadata": {},
     "output_type": "execute_result"
    }
   ],
   "source": [
    "accuracy_score(tune_y, pure_y)"
   ]
  },
  {
   "cell_type": "code",
   "execution_count": 126,
   "id": "98fae015",
   "metadata": {},
   "outputs": [
    {
     "name": "stdout",
     "output_type": "stream",
     "text": [
      "              precision    recall  f1-score   support\n",
      "\n",
      "           0       0.29      0.66      0.41     23649\n",
      "           1       0.90      0.66      0.76    110926\n",
      "\n",
      "    accuracy                           0.66    134575\n",
      "   macro avg       0.60      0.66      0.58    134575\n",
      "weighted avg       0.79      0.66      0.70    134575\n",
      "\n"
     ]
    },
    {
     "data": {
      "image/png": "[encoded data removed]",
      "text/plain": [
       "<Figure size 432x288 with 2 Axes>"
      ]
     },
     "metadata": {
      "needs_background": "light"
     },
     "output_type": "display_data"
    }
   ],
   "source": [
    "metric_count(tune_y,pure_y)"
   ]
  },
  {
   "cell_type": "markdown",
   "id": "414dfab0",
   "metadata": {},
   "source": [
    "Accuracy:\n",
    "-  all features: 0.6391157347204162\n",
    "- without state: 0.6386104402749396\n",
    "- without Recession: 0.63031766672859\n",
    "- without Term: 0.6605313022478172\n",
    "- without industry_type: 0.634456622701096\n",
    "- without same_state: 0.5956752740107747\n",
    "- without newExists: 0.6413598365223853\n",
    "- without ratio between SBA and G: 0.6345086383057774\n",
    "- without gross: 0.6363960616756456"
   ]
  },
  {
   "cell_type": "markdown",
   "id": "b9ebea64",
   "metadata": {},
   "source": [
    "## Test data"
   ]
  },
  {
   "cell_type": "markdown",
   "id": "8b9af933",
   "metadata": {},
   "source": [
    "Thus, we use features without Term in Test data"
   ]
  },
  {
   "cell_type": "code",
   "execution_count": 127,
   "id": "d0a3baec",
   "metadata": {},
   "outputs": [],
   "source": [
    "data_unitransform(test)"
   ]
  },
  {
   "cell_type": "code",
   "execution_count": 128,
   "id": "c112e81f",
   "metadata": {},
   "outputs": [
    {
     "name": "stdout",
     "output_type": "stream",
     "text": [
      "              precision    recall  f1-score   support\n",
      "\n",
      "           0       0.30      0.67      0.41     39509\n",
      "           1       0.90      0.66      0.76    184783\n",
      "\n",
      "    accuracy                           0.66    224292\n",
      "   macro avg       0.60      0.66      0.59    224292\n",
      "weighted avg       0.80      0.66      0.70    224292\n",
      "\n"
     ]
    },
    {
     "data": {
      "image/png": "[encoded data removed]",
      "text/plain": [
       "<Figure size 432x288 with 2 Axes>"
      ]
     },
     "metadata": {
      "needs_background": "light"
     },
     "output_type": "display_data"
    }
   ],
   "source": [
    "test_x=test[feat_cols]\n",
    "test_y=test[out_col]\n",
    "pre_y = lm_pipe.predict(test_x)\n",
    "metric_count(test_y,pre_y)"
   ]
  },
  {
   "cell_type": "code",
   "execution_count": 129,
   "id": "552b31c5",
   "metadata": {},
   "outputs": [
    {
     "data": {
      "text/plain": [
       "array([[ 26320,  13189],\n",
       "       [ 62776, 122007]])"
      ]
     },
     "execution_count": 129,
     "metadata": {},
     "output_type": "execute_result"
    }
   ],
   "source": [
    "confusion_matrix(test_y,pre_y)"
   ]
  },
  {
   "cell_type": "markdown",
   "id": "f7003cb3",
   "metadata": {},
   "source": [
    "## Lasso Regression (15%)"
   ]
  },
  {
   "cell_type": "code",
   "execution_count": 130,
   "id": "a776452b",
   "metadata": {},
   "outputs": [],
   "source": [
    "feat_cols = ['State','UrbanRural','Term1', 'industry_type','Recession','SBA_Appv', 'GrAppv','DisbursementGross','same_state',\n",
    "            'whetherCreateJob','whetherRetainedJob','NewExist']\n",
    "out_col = 'MIS_Status'\n",
    "train_x = train[feat_cols]\n",
    "train_y = train[out_col]"
   ]
  },
  {
   "cell_type": "code",
   "execution_count": 70,
   "id": "90b14786",
   "metadata": {},
   "outputs": [],
   "source": [
    "lr_pipe = Pipeline([\n",
    "    ('columns', ColumnTransformer([\n",
    "        ('ratio_SBA_G', FunctionTransformer(SBA_G_ratio), ['SBA_Appv', 'GrAppv']),\n",
    "        #('GrossDisbursement', FunctionTransformer(log_transformer), ['DisbursementGross1']),\n",
    "        #('industry_type', FunctionTransformer(industry_type1), ['NAICS']),\n",
    "        #('DisbursementGross', FunctionTransformer(Gross), ['DisbursementGross','SBA_Appv']),\n",
    "        ('feature', OneHotEncoder(drop='first'), ['State','UrbanRural','Recession','Term1','industry_type','same_state',\n",
    "                                                 'whetherCreateJob','whetherRetainedJob','NewExist']),\n",
    "        #('u', RandomUnderSampler(sampling_strategy=0.5))\n",
    "        ('grossofdisbursement', Pipeline([\n",
    "        \n",
    "        ('trans1',FunctionTransformer(remove_symbol)),\n",
    "        ('log', FunctionTransformer(np.log1p)),\n",
    "        ('std', StandardScaler()),\n",
    "        ('fill', SimpleImputer(strategy='constant', fill_value=0))]),\n",
    "         ['DisbursementGross'])\n",
    "\n",
    "        \n",
    "        \n",
    "        \n",
    "    ])),\n",
    "    #('o',SMOTE(sampling_strategy=0.4)),\n",
    "    \n",
    "    \n",
    "    \n",
    "    #('model', LogisticRegression(class_weight='balanced',penalty='none'))\n",
    "    ('model', LogisticRegression(class_weight='balanced',penalty='l1',solver='liblinear'))\n",
    "])"
   ]
  },
  {
   "cell_type": "code",
   "execution_count": 71,
   "id": "8a5207a4",
   "metadata": {},
   "outputs": [
    {
     "data": {
      "text/plain": [
       "Pipeline(steps=[('columns',\n",
       "                 ColumnTransformer(transformers=[('ratio_SBA_G',\n",
       "                                                  FunctionTransformer(func=<function SBA_G_ratio at 0x7fd7e83aaaf0>),\n",
       "                                                  ['SBA_Appv', 'GrAppv']),\n",
       "                                                 ('feature',\n",
       "                                                  OneHotEncoder(drop='first'),\n",
       "                                                  ['State', 'UrbanRural',\n",
       "                                                   'Recession', 'Term1',\n",
       "                                                   'industry_type',\n",
       "                                                   'same_state',\n",
       "                                                   'whetherCreateJob',\n",
       "                                                   'whetherRetainedJob',\n",
       "                                                   'NewExist']),\n",
       "                                                 ('grossofdisbursement',\n",
       "                                                  Pipeline(steps=[('trans1',\n",
       "                                                                   FunctionTransformer(func=<function remove_symbol at 0x7fd7e5b024c0>)),\n",
       "                                                                  ('log',\n",
       "                                                                   FunctionTransformer(func=<ufunc 'log1p'>)),\n",
       "                                                                  ('std',\n",
       "                                                                   StandardScaler()),\n",
       "                                                                  ('fill',\n",
       "                                                                   SimpleImputer(fill_value=0,\n",
       "                                                                                 strategy='constant'))]),\n",
       "                                                  ['DisbursementGross'])])),\n",
       "                ('model',\n",
       "                 LogisticRegression(class_weight='balanced', penalty='l1',\n",
       "                                    solver='liblinear'))])"
      ]
     },
     "execution_count": 71,
     "metadata": {},
     "output_type": "execute_result"
    }
   ],
   "source": [
    "lr_pipe.fit(train_x,train_y)"
   ]
  },
  {
   "cell_type": "code",
   "execution_count": 131,
   "id": "39313c14",
   "metadata": {},
   "outputs": [
    {
     "data": {
      "text/plain": [
       "0.6487088983838009"
      ]
     },
     "execution_count": 131,
     "metadata": {},
     "output_type": "execute_result"
    }
   ],
   "source": [
    "accuracy_score(train_y,lr_pipe.predict(train_x))"
   ]
  },
  {
   "cell_type": "code",
   "execution_count": 132,
   "id": "5ae77b2a",
   "metadata": {},
   "outputs": [
    {
     "name": "stdout",
     "output_type": "stream",
     "text": [
      "              precision    recall  f1-score   support\n",
      "\n",
      "           0       0.30      0.76      0.43     94400\n",
      "           1       0.92      0.63      0.75    443900\n",
      "\n",
      "    accuracy                           0.65    538300\n",
      "   macro avg       0.61      0.69      0.59    538300\n",
      "weighted avg       0.82      0.65      0.69    538300\n",
      "\n"
     ]
    },
    {
     "data": {
      "image/png": "[encoded data removed]",
      "text/plain": [
       "<Figure size 432x288 with 2 Axes>"
      ]
     },
     "metadata": {
      "needs_background": "light"
     },
     "output_type": "display_data"
    }
   ],
   "source": [
    "metric_count(train_y,lr_pipe.predict(train_x))"
   ]
  },
  {
   "cell_type": "markdown",
   "id": "30ec6799",
   "metadata": {},
   "source": [
    "#### feature select"
   ]
  },
  {
   "cell_type": "code",
   "execution_count": null,
   "id": "cf672b5f",
   "metadata": {},
   "outputs": [],
   "source": [
    "tune_lr_pipe = Pipeline([\n",
    "    ('columns', ColumnTransformer([\n",
    "        ('ratio_SBA_G', FunctionTransformer(SBA_G_ratio), ['SBA_Appv', 'GrAppv']),\n",
    "        #('GrossDisbursement', FunctionTransformer(log_transformer), ['DisbursementGross1']),\n",
    "        #('industry_type', FunctionTransformer(industry_type1), ['NAICS']),\n",
    "        #('DisbursementGross', FunctionTransformer(Gross), ['DisbursementGross','SBA_Appv']),\n",
    "        ('feature', OneHotEncoder(drop='first'), ['State','UrbanRural','Recession','Term1','industry_type','same_state',\n",
    "                                                 'whetherCreateJob','whetherRetainedJob','NewExist']),\n",
    "        #('u', RandomUnderSampler(sampling_strategy=0.5))\n",
    "        ('grossofdisbursement', Pipeline([\n",
    "        \n",
    "        ('trans1',FunctionTransformer(remove_symbol)),\n",
    "        ('log', FunctionTransformer(np.log1p)),\n",
    "        ('std', StandardScaler()),\n",
    "        ('fill', SimpleImputer(strategy='constant', fill_value=0))]),\n",
    "         ['DisbursementGross'])     \n",
    "    ])),\n",
    "    ('model', GridSearchCV(LogisticRegression(class_weight='balanced',penalty='l1',solver='liblinear'),\n",
    "                           {\"C\":np.logspace(-3,3,7)},cv=10))\n",
    "     ])\n",
    "    \n",
    "    \n",
    "    \n",
    "    "
   ]
  },
  {
   "cell_type": "code",
   "execution_count": null,
   "id": "44a66550",
   "metadata": {},
   "outputs": [],
   "source": [
    "tune_lr_pipe.fit(train_x,train_y)"
   ]
  },
  {
   "cell_type": "code",
   "execution_count": null,
   "id": "143424e8",
   "metadata": {},
   "outputs": [],
   "source": [
    "tune_lr_pipe.best_params_"
   ]
  },
  {
   "cell_type": "markdown",
   "id": "b3f3a1e8",
   "metadata": {},
   "source": [
    "### test data"
   ]
  },
  {
   "cell_type": "code",
   "execution_count": 133,
   "id": "d458dcda",
   "metadata": {},
   "outputs": [
    {
     "name": "stdout",
     "output_type": "stream",
     "text": [
      "              precision    recall  f1-score   support\n",
      "\n",
      "           0       0.30      0.76      0.43     39509\n",
      "           1       0.92      0.62      0.74    184783\n",
      "\n",
      "    accuracy                           0.65    224292\n",
      "   macro avg       0.61      0.69      0.59    224292\n",
      "weighted avg       0.82      0.65      0.69    224292\n",
      "\n"
     ]
    },
    {
     "data": {
      "image/png": "[encoded data removed]",
      "text/plain": [
       "<Figure size 432x288 with 2 Axes>"
      ]
     },
     "metadata": {
      "needs_background": "light"
     },
     "output_type": "display_data"
    }
   ],
   "source": [
    "data_unitransform(test)\n",
    "test_x=test[feat_cols]\n",
    "test_y=test[out_col]\n",
    "pre_y = lr_pipe.predict(test_x)\n",
    "metric_count(test_y,pre_y)"
   ]
  },
  {
   "cell_type": "code",
   "execution_count": 134,
   "id": "08c2615d",
   "metadata": {},
   "outputs": [
    {
     "data": {
      "text/plain": [
       "array([[ 30115,   9394],\n",
       "       [ 69522, 115261]])"
      ]
     },
     "execution_count": 134,
     "metadata": {},
     "output_type": "execute_result"
    }
   ],
   "source": [
    "confusion_matrix(test_y,pre_y)"
   ]
  },
  {
   "cell_type": "markdown",
   "id": "5acff292",
   "metadata": {},
   "source": [
    "### ElasticNet (10%)"
   ]
  },
  {
   "cell_type": "code",
   "execution_count": 137,
   "id": "8d0680f1",
   "metadata": {},
   "outputs": [],
   "source": [
    "feat_cols = ['State','UrbanRural','Term1', 'industry_type','Recession','SBA_Appv', 'GrAppv','DisbursementGross','same_state',\n",
    "            'whetherCreateJob','whetherRetainedJob','NewExist']\n",
    "out_col = 'MIS_Status'\n",
    "train_x = train[feat_cols]\n",
    "train_y = train[out_col]"
   ]
  },
  {
   "cell_type": "code",
   "execution_count": 77,
   "id": "ae89f845",
   "metadata": {},
   "outputs": [
    {
     "name": "stdout",
     "output_type": "stream",
     "text": [
      "              precision    recall  f1-score   support\n",
      "\n",
      "           0       0.30      0.76      0.43     94400\n",
      "           1       0.92      0.63      0.75    443900\n",
      "\n",
      "    accuracy                           0.65    538300\n",
      "   macro avg       0.61      0.69      0.59    538300\n",
      "weighted avg       0.82      0.65      0.69    538300\n",
      "\n"
     ]
    },
    {
     "data": {
      "image/png": "[encoded data removed]",
      "text/plain": [
       "<Figure size 432x288 with 2 Axes>"
      ]
     },
     "metadata": {
      "needs_background": "light"
     },
     "output_type": "display_data"
    }
   ],
   "source": [
    "en_pipe = Pipeline([\n",
    "    ('columns', ColumnTransformer([\n",
    "        ('ratio_SBA_G', FunctionTransformer(SBA_G_ratio), ['SBA_Appv', 'GrAppv']),\n",
    "        #('GrossDisbursement', FunctionTransformer(log_transformer), ['DisbursementGross1']),\n",
    "        #('industry_type', FunctionTransformer(industry_type1), ['NAICS']),\n",
    "        #('DisbursementGross', FunctionTransformer(Gross), ['DisbursementGross','SBA_Appv']),\n",
    "        ('feature', OneHotEncoder(drop='first'), ['State','UrbanRural','Recession','Term1','industry_type','same_state',\n",
    "                                                 'whetherCreateJob','whetherRetainedJob','NewExist']),\n",
    "        #('u', RandomUnderSampler(sampling_strategy=0.5))\n",
    "        ('grossofdisbursement', Pipeline([\n",
    "        \n",
    "        ('trans1',FunctionTransformer(remove_symbol)),\n",
    "        ('log', FunctionTransformer(np.log1p)),\n",
    "        ('std', StandardScaler()),\n",
    "        ('fill', SimpleImputer(strategy='constant', fill_value=0))]),\n",
    "         ['DisbursementGross'])   \n",
    "    ])),\n",
    "\n",
    "    ('model', LogisticRegression(class_weight='balanced',penalty='l2',solver='saga'))\n",
    "])\n",
    "en_pipe.fit(train_x,train_y)\n",
    "accuracy_score(train_y,en_pipe.predict(train_x))\n",
    "metric_count(train_y,lr_pipe.predict(train_x))"
   ]
  },
  {
   "cell_type": "markdown",
   "id": "bd738bd7",
   "metadata": {},
   "source": [
    "### test data"
   ]
  },
  {
   "cell_type": "code",
   "execution_count": 138,
   "id": "723b1629",
   "metadata": {},
   "outputs": [
    {
     "name": "stdout",
     "output_type": "stream",
     "text": [
      "              precision    recall  f1-score   support\n",
      "\n",
      "           0       0.30      0.76      0.43     39509\n",
      "           1       0.92      0.62      0.74    184783\n",
      "\n",
      "    accuracy                           0.65    224292\n",
      "   macro avg       0.61      0.69      0.59    224292\n",
      "weighted avg       0.82      0.65      0.69    224292\n",
      "\n"
     ]
    },
    {
     "data": {
      "image/png": "[encoded data removed]",
      "text/plain": [
       "<Figure size 432x288 with 2 Axes>"
      ]
     },
     "metadata": {
      "needs_background": "light"
     },
     "output_type": "display_data"
    }
   ],
   "source": [
    "data_unitransform(test)\n",
    "test_x=test[feat_cols]\n",
    "test_y=test[out_col]\n",
    "pre_y = en_pipe.predict(test_x)\n",
    "metric_count(test_y,pre_y)"
   ]
  },
  {
   "cell_type": "code",
   "execution_count": 139,
   "id": "f301eac0",
   "metadata": {},
   "outputs": [
    {
     "data": {
      "text/plain": [
       "array([[ 30116,   9393],\n",
       "       [ 69524, 115259]])"
      ]
     },
     "execution_count": 139,
     "metadata": {},
     "output_type": "execute_result"
    }
   ],
   "source": [
    "confusion_matrix(test_y,pre_y)"
   ]
  },
  {
   "cell_type": "markdown",
   "id": "1c7a21b9",
   "metadata": {},
   "source": [
    "### Random Forest (10%)"
   ]
  },
  {
   "cell_type": "code",
   "execution_count": 140,
   "id": "7a9105d3",
   "metadata": {},
   "outputs": [],
   "source": [
    "feat_cols = ['State','UrbanRural','Term1', 'industry_type','Recession','SBA_Appv', 'GrAppv','DisbursementGross','same_state',\n",
    "            'whetherCreateJob','whetherRetainedJob','NewExist']\n",
    "out_col = 'MIS_Status'\n",
    "train_x = train[feat_cols]\n",
    "train_y = train[out_col]"
   ]
  },
  {
   "cell_type": "code",
   "execution_count": 92,
   "id": "fd13c36c",
   "metadata": {},
   "outputs": [
    {
     "name": "stdout",
     "output_type": "stream",
     "text": [
      "              precision    recall  f1-score   support\n",
      "\n",
      "           0       0.30      0.76      0.43     39509\n",
      "           1       0.92      0.62      0.74    184783\n",
      "\n",
      "    accuracy                           0.65    224292\n",
      "   macro avg       0.61      0.69      0.59    224292\n",
      "weighted avg       0.82      0.65      0.69    224292\n",
      "\n"
     ]
    },
    {
     "data": {
      "image/png": "[encoded data removed]",
      "text/plain": [
       "<Figure size 432x288 with 2 Axes>"
      ]
     },
     "metadata": {
      "needs_background": "light"
     },
     "output_type": "display_data"
    }
   ],
   "source": [
    "rf_pipe = Pipeline([\n",
    "    ('columns', ColumnTransformer([\n",
    "        ('ratio_SBA_G', FunctionTransformer(SBA_G_ratio), ['SBA_Appv', 'GrAppv']),\n",
    "        #('GrossDisbursement', FunctionTransformer(log_transformer), ['DisbursementGross1']),\n",
    "        #('industry_type', FunctionTransformer(industry_type1), ['NAICS']),\n",
    "        #('DisbursementGross', FunctionTransformer(Gross), ['DisbursementGross','SBA_Appv']),\n",
    "        ('feature', OneHotEncoder(drop='first'), ['State','UrbanRural','Recession','Term1','industry_type','same_state',\n",
    "                                                 'whetherCreateJob','whetherRetainedJob','NewExist']),\n",
    "        #('u', RandomUnderSampler(sampling_strategy=0.5))\n",
    "        ('grossofdisbursement', Pipeline([\n",
    "        \n",
    "        ('trans1',FunctionTransformer(remove_symbol)),\n",
    "        ('log', FunctionTransformer(np.log1p)),\n",
    "        ('std', StandardScaler()),\n",
    "        ('fill', SimpleImputer(strategy='constant', fill_value=0))]),\n",
    "         ['DisbursementGross'])   \n",
    "    ])),\n",
    "    ('model', RandomForestClassifier(class_weight='balanced',n_estimators=100))\n",
    "])\n",
    "rf_pipe.fit(train_x,train_y)\n",
    "accuracy_score(train_y,rf_pipe.predict(train_x))\n",
    "metric_count(test_y,pre_y)"
   ]
  },
  {
   "cell_type": "markdown",
   "id": "fea0af30",
   "metadata": {},
   "source": [
    "### tune data"
   ]
  },
  {
   "cell_type": "code",
   "execution_count": 93,
   "id": "e1415692",
   "metadata": {},
   "outputs": [
    {
     "name": "stdout",
     "output_type": "stream",
     "text": [
      "              precision    recall  f1-score   support\n",
      "\n",
      "           0       0.35      0.44      0.39     23649\n",
      "           1       0.87      0.83      0.85    110926\n",
      "\n",
      "    accuracy                           0.76    134575\n",
      "   macro avg       0.61      0.63      0.62    134575\n",
      "weighted avg       0.78      0.76      0.77    134575\n",
      "\n"
     ]
    },
    {
     "data": {
      "image/png": "[encoded data removed]",
      "text/plain": [
       "<Figure size 432x288 with 2 Axes>"
      ]
     },
     "metadata": {
      "needs_background": "light"
     },
     "output_type": "display_data"
    }
   ],
   "source": [
    "data_unitransform(tune)\n",
    "tune_x=tune[feat_cols]\n",
    "tune_y=tune[out_col]\n",
    "pure_y = rf_pipe.predict(tune_x)\n",
    "metric_count(tune_y,pure_y)"
   ]
  },
  {
   "cell_type": "markdown",
   "id": "25e0b10f",
   "metadata": {},
   "source": [
    "Accuracy on the tune data:\n",
    "- n_estimators=1: 0.74\n",
    "- n_estimators=5: 0.76\n",
    "- n_estimators=10: 0.76\n",
    "- n_estimators=20: 0.76\n",
    "- n_estimators=100: 0.76\n",
    "\n"
   ]
  },
  {
   "cell_type": "markdown",
   "id": "c64decc1",
   "metadata": {},
   "source": [
    "### test data"
   ]
  },
  {
   "cell_type": "code",
   "execution_count": 141,
   "id": "b05d4935",
   "metadata": {},
   "outputs": [
    {
     "name": "stdout",
     "output_type": "stream",
     "text": [
      "              precision    recall  f1-score   support\n",
      "\n",
      "           0       0.35      0.44      0.39     39509\n",
      "           1       0.87      0.83      0.85    184783\n",
      "\n",
      "    accuracy                           0.76    224292\n",
      "   macro avg       0.61      0.63      0.62    224292\n",
      "weighted avg       0.78      0.76      0.77    224292\n",
      "\n"
     ]
    },
    {
     "data": {
      "image/png": "[encoded data removed]",
      "text/plain": [
       "<Figure size 432x288 with 2 Axes>"
      ]
     },
     "metadata": {
      "needs_background": "light"
     },
     "output_type": "display_data"
    }
   ],
   "source": [
    "data_unitransform(test)\n",
    "test_x=test[feat_cols]\n",
    "test_y=test[out_col]\n",
    "pre_y = rf_pipe.predict(test_x)\n",
    "metric_count(test_y,pre_y)"
   ]
  },
  {
   "cell_type": "code",
   "execution_count": 142,
   "id": "09f8ed32",
   "metadata": {},
   "outputs": [
    {
     "data": {
      "text/plain": [
       "array([[ 17265,  22244],\n",
       "       [ 31486, 153297]])"
      ]
     },
     "execution_count": 142,
     "metadata": {},
     "output_type": "execute_result"
    }
   ],
   "source": [
    "confusion_matrix(test_y,pre_y)"
   ]
  },
  {
   "cell_type": "markdown",
   "id": "aea4d572",
   "metadata": {},
   "source": [
    "### Final Summary and Reflection (10%)"
   ]
  },
  {
   "cell_type": "code",
   "execution_count": 234,
   "id": "72e4d1b9",
   "metadata": {},
   "outputs": [
    {
     "data": {
      "text/html": [
       "<div>\n",
       "<style scoped>\n",
       "    .dataframe tbody tr th:only-of-type {\n",
       "        vertical-align: middle;\n",
       "    }\n",
       "\n",
       "    .dataframe tbody tr th {\n",
       "        vertical-align: top;\n",
       "    }\n",
       "\n",
       "    .dataframe thead th {\n",
       "        text-align: right;\n",
       "    }\n",
       "</style>\n",
       "<table border=\"1\" class=\"dataframe\">\n",
       "  <thead>\n",
       "    <tr style=\"text-align: right;\">\n",
       "      <th></th>\n",
       "      <th>Model</th>\n",
       "      <th>TP</th>\n",
       "      <th>FP</th>\n",
       "      <th>FN</th>\n",
       "      <th>TN</th>\n",
       "    </tr>\n",
       "  </thead>\n",
       "  <tbody>\n",
       "    <tr>\n",
       "      <th>0</th>\n",
       "      <td>Majority_classifer</td>\n",
       "      <td>0</td>\n",
       "      <td>94400</td>\n",
       "      <td>0</td>\n",
       "      <td>443900</td>\n",
       "    </tr>\n",
       "    <tr>\n",
       "      <th>1</th>\n",
       "      <td>Logistic</td>\n",
       "      <td>26320</td>\n",
       "      <td>13189</td>\n",
       "      <td>62776</td>\n",
       "      <td>122007</td>\n",
       "    </tr>\n",
       "    <tr>\n",
       "      <th>2</th>\n",
       "      <td>Lasso</td>\n",
       "      <td>30115</td>\n",
       "      <td>9394</td>\n",
       "      <td>69522</td>\n",
       "      <td>115261</td>\n",
       "    </tr>\n",
       "    <tr>\n",
       "      <th>3</th>\n",
       "      <td>ElasticNet</td>\n",
       "      <td>30116</td>\n",
       "      <td>9393</td>\n",
       "      <td>69524</td>\n",
       "      <td>115259</td>\n",
       "    </tr>\n",
       "    <tr>\n",
       "      <th>4</th>\n",
       "      <td>Random Forest</td>\n",
       "      <td>17265</td>\n",
       "      <td>22244</td>\n",
       "      <td>31486</td>\n",
       "      <td>153297</td>\n",
       "    </tr>\n",
       "  </tbody>\n",
       "</table>\n",
       "</div>"
      ],
      "text/plain": [
       "                Model     TP     FP     FN      TN\n",
       "0  Majority_classifer      0  94400      0  443900\n",
       "1            Logistic  26320  13189  62776  122007\n",
       "2               Lasso  30115   9394  69522  115261\n",
       "3          ElasticNet  30116   9393  69524  115259\n",
       "4       Random Forest  17265  22244  31486  153297"
      ]
     },
     "execution_count": 234,
     "metadata": {},
     "output_type": "execute_result"
    }
   ],
   "source": [
    "Metric=pd.DataFrame({'Model':['Majority_classifer','Logistic','Lasso','ElasticNet','Random Forest'],\n",
    "    'TP':[0,26320,30115,30116,17265],\n",
    "              'FP':[94400,13189,9394,9393,22244],\n",
    "              'FN':[0,62776,69522,69524,31486],\n",
    "              'TN':[443900,122007,115261,115259,153297]           \n",
    "             }\n",
    ")\n",
    "Metric"
   ]
  },
  {
   "cell_type": "code",
   "execution_count": 235,
   "id": "fc9b491a",
   "metadata": {},
   "outputs": [],
   "source": [
    "Metric['Accuracy']=(Metric['TP']+Metric['TN'])/(Metric['TP']+Metric['FP']+Metric['FN']+Metric['TN'])"
   ]
  },
  {
   "cell_type": "code",
   "execution_count": 236,
   "id": "19d3cb8c",
   "metadata": {},
   "outputs": [],
   "source": [
    "Metric['Precision']=Metric['TP']/(Metric['TP']+Metric['FP'])"
   ]
  },
  {
   "cell_type": "code",
   "execution_count": 237,
   "id": "e90168c0",
   "metadata": {},
   "outputs": [],
   "source": [
    "Metric['Recall']=Metric['TP']/(Metric['TP']+Metric['FN'])"
   ]
  },
  {
   "cell_type": "code",
   "execution_count": 238,
   "id": "fa15e1c6",
   "metadata": {},
   "outputs": [],
   "source": [
    "Metric['Specificity']=Metric['TN']/(Metric['TN']+Metric['FP'])"
   ]
  },
  {
   "cell_type": "code",
   "execution_count": 239,
   "id": "899483a3",
   "metadata": {},
   "outputs": [],
   "source": [
    "Metric['Cost']=Metric['TP']*5+Metric['FN']"
   ]
  },
  {
   "cell_type": "code",
   "execution_count": 240,
   "id": "ba793f76",
   "metadata": {},
   "outputs": [
    {
     "data": {
      "text/html": [
       "<div>\n",
       "<style scoped>\n",
       "    .dataframe tbody tr th:only-of-type {\n",
       "        vertical-align: middle;\n",
       "    }\n",
       "\n",
       "    .dataframe tbody tr th {\n",
       "        vertical-align: top;\n",
       "    }\n",
       "\n",
       "    .dataframe thead th {\n",
       "        text-align: right;\n",
       "    }\n",
       "</style>\n",
       "<table border=\"1\" class=\"dataframe\">\n",
       "  <thead>\n",
       "    <tr style=\"text-align: right;\">\n",
       "      <th></th>\n",
       "      <th>Model</th>\n",
       "      <th>TP</th>\n",
       "      <th>FP</th>\n",
       "      <th>FN</th>\n",
       "      <th>TN</th>\n",
       "      <th>Accuracy</th>\n",
       "      <th>Precision</th>\n",
       "      <th>Recall</th>\n",
       "      <th>Specificity</th>\n",
       "      <th>Cost</th>\n",
       "    </tr>\n",
       "  </thead>\n",
       "  <tbody>\n",
       "    <tr>\n",
       "      <th>0</th>\n",
       "      <td>Majority_classifer</td>\n",
       "      <td>0</td>\n",
       "      <td>94400</td>\n",
       "      <td>0</td>\n",
       "      <td>443900</td>\n",
       "      <td>0.824633</td>\n",
       "      <td>0.000000</td>\n",
       "      <td>NaN</td>\n",
       "      <td>0.824633</td>\n",
       "      <td>0</td>\n",
       "    </tr>\n",
       "    <tr>\n",
       "      <th>1</th>\n",
       "      <td>Logistic</td>\n",
       "      <td>26320</td>\n",
       "      <td>13189</td>\n",
       "      <td>62776</td>\n",
       "      <td>122007</td>\n",
       "      <td>0.661312</td>\n",
       "      <td>0.666177</td>\n",
       "      <td>0.295412</td>\n",
       "      <td>0.902445</td>\n",
       "      <td>194376</td>\n",
       "    </tr>\n",
       "    <tr>\n",
       "      <th>2</th>\n",
       "      <td>Lasso</td>\n",
       "      <td>30115</td>\n",
       "      <td>9394</td>\n",
       "      <td>69522</td>\n",
       "      <td>115261</td>\n",
       "      <td>0.648155</td>\n",
       "      <td>0.762231</td>\n",
       "      <td>0.302247</td>\n",
       "      <td>0.924640</td>\n",
       "      <td>220097</td>\n",
       "    </tr>\n",
       "    <tr>\n",
       "      <th>3</th>\n",
       "      <td>ElasticNet</td>\n",
       "      <td>30116</td>\n",
       "      <td>9393</td>\n",
       "      <td>69524</td>\n",
       "      <td>115259</td>\n",
       "      <td>0.648151</td>\n",
       "      <td>0.762257</td>\n",
       "      <td>0.302248</td>\n",
       "      <td>0.924646</td>\n",
       "      <td>220104</td>\n",
       "    </tr>\n",
       "    <tr>\n",
       "      <th>4</th>\n",
       "      <td>Random Forest</td>\n",
       "      <td>17265</td>\n",
       "      <td>22244</td>\n",
       "      <td>31486</td>\n",
       "      <td>153297</td>\n",
       "      <td>0.760446</td>\n",
       "      <td>0.436989</td>\n",
       "      <td>0.354147</td>\n",
       "      <td>0.873283</td>\n",
       "      <td>117811</td>\n",
       "    </tr>\n",
       "  </tbody>\n",
       "</table>\n",
       "</div>"
      ],
      "text/plain": [
       "                Model     TP     FP     FN      TN  Accuracy  Precision  \\\n",
       "0  Majority_classifer      0  94400      0  443900  0.824633   0.000000   \n",
       "1            Logistic  26320  13189  62776  122007  0.661312   0.666177   \n",
       "2               Lasso  30115   9394  69522  115261  0.648155   0.762231   \n",
       "3          ElasticNet  30116   9393  69524  115259  0.648151   0.762257   \n",
       "4       Random Forest  17265  22244  31486  153297  0.760446   0.436989   \n",
       "\n",
       "     Recall  Specificity    Cost  \n",
       "0       NaN     0.824633       0  \n",
       "1  0.295412     0.902445  194376  \n",
       "2  0.302247     0.924640  220097  \n",
       "3  0.302248     0.924646  220104  \n",
       "4  0.354147     0.873283  117811  "
      ]
     },
     "execution_count": 240,
     "metadata": {},
     "output_type": "execute_result"
    }
   ],
   "source": [
    "Metric"
   ]
  },
  {
   "cell_type": "code",
   "execution_count": 243,
   "id": "11b0eacc",
   "metadata": {},
   "outputs": [
    {
     "data": {
      "image/png": "[encoded data removed]",
      "text/plain": [
       "<Figure size 432x288 with 1 Axes>"
      ]
     },
     "metadata": {
      "needs_background": "light"
     },
     "output_type": "display_data"
    }
   ],
   "source": [
    "labels = Metric['Model'].values.tolist()\n",
    "a = Metric['Precision'].values.tolist()\n",
    "b = Metric['Accuracy'].values.tolist()\n",
    "c = Metric['Specificity'].values.tolist()\n",
    "d = Metric['Recall'].values.tolist()\n",
    "#e = Metric['Recall'].values.tolist()   \n",
    "\n",
    "\n",
    "x = np.arange(len(labels))  # 标签位置\n",
    "width = 0.2  # 柱状图的宽度，可以根据自己的需求和审美来改\n",
    "\n",
    "fig, ax = plt.subplots()\n",
    "rects1 = ax.bar(x - width*2, a, width, label='Precision')\n",
    "rects2 = ax.bar(x - width+0.01, b, width, label='Accuracy')\n",
    "rects3 = ax.bar(x + 0.02, c, width, label='Specificity')\n",
    "rects4 = ax.bar(x + width+ 0.03, d, width, label='Recall')\n",
    "#rects5 = ax.bar(x + width*2 + 0.04, e, width, label='e')\n",
    "ax.set_ylabel('Results', fontsize=16)\n",
    "ax.set_xlabel('Models', fontsize=16)\n",
    "ax.set_title('comparision')\n",
    "ax.set_xticks(x)\n",
    "ax.set_xticklabels(labels)\n",
    "ax.legend()\n",
    "fig.tight_layout()"
   ]
  },
  {
   "cell_type": "code",
   "execution_count": 245,
   "id": "db4b4f0f",
   "metadata": {},
   "outputs": [],
   "source": [
    "Metric['FNR']=Metric['FN']/(Metric['FN']+Metric['TP'])\n",
    "Metric['FPR']=Metric['FP']/(Metric['TN']+Metric['FP'])"
   ]
  },
  {
   "cell_type": "code",
   "execution_count": 246,
   "id": "8b203144",
   "metadata": {},
   "outputs": [
    {
     "data": {
      "text/html": [
       "<div>\n",
       "<style scoped>\n",
       "    .dataframe tbody tr th:only-of-type {\n",
       "        vertical-align: middle;\n",
       "    }\n",
       "\n",
       "    .dataframe tbody tr th {\n",
       "        vertical-align: top;\n",
       "    }\n",
       "\n",
       "    .dataframe thead th {\n",
       "        text-align: right;\n",
       "    }\n",
       "</style>\n",
       "<table border=\"1\" class=\"dataframe\">\n",
       "  <thead>\n",
       "    <tr style=\"text-align: right;\">\n",
       "      <th></th>\n",
       "      <th>Model</th>\n",
       "      <th>TP</th>\n",
       "      <th>FP</th>\n",
       "      <th>FN</th>\n",
       "      <th>TN</th>\n",
       "      <th>Accuracy</th>\n",
       "      <th>Precision</th>\n",
       "      <th>Recall</th>\n",
       "      <th>Specificity</th>\n",
       "      <th>Cost</th>\n",
       "      <th>FNR</th>\n",
       "      <th>FPR</th>\n",
       "    </tr>\n",
       "  </thead>\n",
       "  <tbody>\n",
       "    <tr>\n",
       "      <th>0</th>\n",
       "      <td>Majority_classifer</td>\n",
       "      <td>0</td>\n",
       "      <td>94400</td>\n",
       "      <td>0</td>\n",
       "      <td>443900</td>\n",
       "      <td>0.824633</td>\n",
       "      <td>0.000000</td>\n",
       "      <td>NaN</td>\n",
       "      <td>0.824633</td>\n",
       "      <td>0</td>\n",
       "      <td>NaN</td>\n",
       "      <td>0.175367</td>\n",
       "    </tr>\n",
       "    <tr>\n",
       "      <th>1</th>\n",
       "      <td>Logistic</td>\n",
       "      <td>26320</td>\n",
       "      <td>13189</td>\n",
       "      <td>62776</td>\n",
       "      <td>122007</td>\n",
       "      <td>0.661312</td>\n",
       "      <td>0.666177</td>\n",
       "      <td>0.295412</td>\n",
       "      <td>0.902445</td>\n",
       "      <td>194376</td>\n",
       "      <td>0.704588</td>\n",
       "      <td>0.097555</td>\n",
       "    </tr>\n",
       "    <tr>\n",
       "      <th>2</th>\n",
       "      <td>Lasso</td>\n",
       "      <td>30115</td>\n",
       "      <td>9394</td>\n",
       "      <td>69522</td>\n",
       "      <td>115261</td>\n",
       "      <td>0.648155</td>\n",
       "      <td>0.762231</td>\n",
       "      <td>0.302247</td>\n",
       "      <td>0.924640</td>\n",
       "      <td>220097</td>\n",
       "      <td>0.697753</td>\n",
       "      <td>0.075360</td>\n",
       "    </tr>\n",
       "    <tr>\n",
       "      <th>3</th>\n",
       "      <td>ElasticNet</td>\n",
       "      <td>30116</td>\n",
       "      <td>9393</td>\n",
       "      <td>69524</td>\n",
       "      <td>115259</td>\n",
       "      <td>0.648151</td>\n",
       "      <td>0.762257</td>\n",
       "      <td>0.302248</td>\n",
       "      <td>0.924646</td>\n",
       "      <td>220104</td>\n",
       "      <td>0.697752</td>\n",
       "      <td>0.075354</td>\n",
       "    </tr>\n",
       "    <tr>\n",
       "      <th>4</th>\n",
       "      <td>Random Forest</td>\n",
       "      <td>17265</td>\n",
       "      <td>22244</td>\n",
       "      <td>31486</td>\n",
       "      <td>153297</td>\n",
       "      <td>0.760446</td>\n",
       "      <td>0.436989</td>\n",
       "      <td>0.354147</td>\n",
       "      <td>0.873283</td>\n",
       "      <td>117811</td>\n",
       "      <td>0.645853</td>\n",
       "      <td>0.126717</td>\n",
       "    </tr>\n",
       "  </tbody>\n",
       "</table>\n",
       "</div>"
      ],
      "text/plain": [
       "                Model     TP     FP     FN      TN  Accuracy  Precision  \\\n",
       "0  Majority_classifer      0  94400      0  443900  0.824633   0.000000   \n",
       "1            Logistic  26320  13189  62776  122007  0.661312   0.666177   \n",
       "2               Lasso  30115   9394  69522  115261  0.648155   0.762231   \n",
       "3          ElasticNet  30116   9393  69524  115259  0.648151   0.762257   \n",
       "4       Random Forest  17265  22244  31486  153297  0.760446   0.436989   \n",
       "\n",
       "     Recall  Specificity    Cost       FNR       FPR  \n",
       "0       NaN     0.824633       0       NaN  0.175367  \n",
       "1  0.295412     0.902445  194376  0.704588  0.097555  \n",
       "2  0.302247     0.924640  220097  0.697753  0.075360  \n",
       "3  0.302248     0.924646  220104  0.697752  0.075354  \n",
       "4  0.354147     0.873283  117811  0.645853  0.126717  "
      ]
     },
     "execution_count": 246,
     "metadata": {},
     "output_type": "execute_result"
    }
   ],
   "source": [
    "Metric"
   ]
  },
  {
   "cell_type": "markdown",
   "id": "3bb926fa",
   "metadata": {},
   "source": [
    "### conclusion:"
   ]
  },
  {
   "cell_type": "markdown",
   "id": "f4a4615d",
   "metadata": {},
   "source": [
    "Through this assigment, I find that Feature engineering is very important in data analysis. Before that I was thought that what I need to do is put all the variables into the Model, what a stuip idea. Feature engineering asks you to compare each features under the output. And the feature should have logical reason that it havs in the result.\n",
    "\n",
    "Pipeline is very useful in machine learning. However, I meet difficulty in put all the transformations in the pipeline. I always meet bugs during the process.\n",
    "\n",
    "Regularization actually helps improve the model and it can reduce the posibility of overfitting. \n",
    "\n",
    "For the heavy imbalanced dataset, I use class_weight='balanced' as a parameter in each model to make the results more credible. it shows that it is helpful.\n"
   ]
  },
  {
   "cell_type": "code",
   "execution_count": null,
   "id": "0aadfbe4",
   "metadata": {},
   "outputs": [],
   "source": []
  }
 ],
 "metadata": {
  "kernelspec": {
   "display_name": "Python 3",
   "language": "python",
   "name": "python3"
  },
  "language_info": {
   "codemirror_mode": {
    "name": "ipython",
    "version": 3
   },
   "file_extension": ".py",
   "mimetype": "text/x-python",
   "name": "python",
   "nbconvert_exporter": "python",
   "pygments_lexer": "ipython3",
   "version": "3.8.8"
  }
 },
 "nbformat": 4,
 "nbformat_minor": 5
}
