{
 "cells": [
  {
   "cell_type": "code",
   "execution_count": 1,
   "id": "95892113",
   "metadata": {},
   "outputs": [],
   "source": [
    "import pandas as pd\n",
    "import numpy as np\n",
    "import seaborn as sns\n",
    "import matplotlib.pyplot as plt\n",
    "from census import Census\n",
    "import statsmodels.formula.api as smf\n",
    "import statsmodels.api as sm\n",
    "import scipy.stats as sps\n",
    "from sklearn.preprocessing import FunctionTransformer, OneHotEncoder, StandardScaler, PolynomialFeatures\n",
    "from sklearn.compose import ColumnTransformer\n",
    "from sklearn.pipeline import Pipeline\n",
    "from sklearn.linear_model import LinearRegression, ElasticNetCV,LogisticRegression\n",
    "from sklearn.model_selection import train_test_split,GridSearchCV\n",
    "from sklearn.metrics import mean_squared_error,accuracy_score,precision_score,classification_report\n",
    "from sklearn.ensemble import RandomForestClassifier\n",
    "from sklearn.datasets import make_classification\n",
    "from sklearn.impute import SimpleImputer\n",
    "import sklearn\n",
    "import warnings\n",
    "warnings.filterwarnings(\"ignore\")"
   ]
  },
  {
   "cell_type": "code",
   "execution_count": 2,
   "id": "572e0c8e",
   "metadata": {},
   "outputs": [],
   "source": [
    "rng = np.random.RandomState(20211105)"
   ]
  },
  {
   "cell_type": "code",
   "execution_count": 3,
   "id": "29fa8a9f",
   "metadata": {},
   "outputs": [],
   "source": [
    "def metric_count(y,y_hat):\n",
    "    accuracy_score(y,y_hat)\n",
    "    fpr, tpr, thresh = sklearn.metrics.roc_curve(y, y_hat)\n",
    "    precision, recall, thresholds = sklearn.metrics.precision_recall_curve(y, y_hat)\n",
    "    f0=plt.figure()\n",
    "    f0.add_subplot(2,2,1)\n",
    "    plt.fill_between(fpr, tpr, 0, color='lightgrey')\n",
    "    plt.plot(np.linspace(0, 1), np.linspace(0, 1), color='red', linestyle=':')\n",
    "    plt.plot(fpr, tpr)\n",
    "    plt.xlabel('False Positive Rate')\n",
    "    plt.ylabel('True Positive Rate')\n",
    "    plt.title('ROC')\n",
    "    #plt.show()\n",
    "    f0.add_subplot(2,2,2)\n",
    "    #precision, recall, thresholds = sklearn.metrics.precision_recall_curve(y, y_hat)\n",
    "    plt.plot(recall, precision)\n",
    "    plt.xlabel('Recall')\n",
    "    plt.ylabel('Precision')\n",
    "    plt.title('P-R')\n",
    "    #plt.show()\n",
    "    f0.tight_layout()\n",
    "    return print(classification_report(y,y_hat))"
   ]
  },
  {
   "cell_type": "markdown",
   "id": "33eb7f84",
   "metadata": {},
   "source": [
    "## Data Prep and Exploration (30%)"
   ]
  },
  {
   "cell_type": "code",
   "execution_count": 4,
   "id": "af2ffc5c",
   "metadata": {},
   "outputs": [
    {
     "data": {
      "text/html": [
       "<div>\n",
       "<style scoped>\n",
       "    .dataframe tbody tr th:only-of-type {\n",
       "        vertical-align: middle;\n",
       "    }\n",
       "\n",
       "    .dataframe tbody tr th {\n",
       "        vertical-align: top;\n",
       "    }\n",
       "\n",
       "    .dataframe thead th {\n",
       "        text-align: right;\n",
       "    }\n",
       "</style>\n",
       "<table border=\"1\" class=\"dataframe\">\n",
       "  <thead>\n",
       "    <tr style=\"text-align: right;\">\n",
       "      <th></th>\n",
       "      <th>LoanNr_ChkDgt</th>\n",
       "      <th>Name</th>\n",
       "      <th>City</th>\n",
       "      <th>State</th>\n",
       "      <th>Zip</th>\n",
       "      <th>Bank</th>\n",
       "      <th>BankState</th>\n",
       "      <th>NAICS</th>\n",
       "      <th>ApprovalDate</th>\n",
       "      <th>ApprovalFY</th>\n",
       "      <th>...</th>\n",
       "      <th>RevLineCr</th>\n",
       "      <th>LowDoc</th>\n",
       "      <th>ChgOffDate</th>\n",
       "      <th>DisbursementDate</th>\n",
       "      <th>DisbursementGross</th>\n",
       "      <th>BalanceGross</th>\n",
       "      <th>MIS_Status</th>\n",
       "      <th>ChgOffPrinGr</th>\n",
       "      <th>GrAppv</th>\n",
       "      <th>SBA_Appv</th>\n",
       "    </tr>\n",
       "  </thead>\n",
       "  <tbody>\n",
       "    <tr>\n",
       "      <th>0</th>\n",
       "      <td>1000014003</td>\n",
       "      <td>ABC HOBBYCRAFT</td>\n",
       "      <td>EVANSVILLE</td>\n",
       "      <td>IN</td>\n",
       "      <td>47711</td>\n",
       "      <td>FIFTH THIRD BANK</td>\n",
       "      <td>OH</td>\n",
       "      <td>451120</td>\n",
       "      <td>28-Feb-97</td>\n",
       "      <td>1997</td>\n",
       "      <td>...</td>\n",
       "      <td>N</td>\n",
       "      <td>Y</td>\n",
       "      <td>NaN</td>\n",
       "      <td>28-Feb-99</td>\n",
       "      <td>$60,000.00</td>\n",
       "      <td>$0.00</td>\n",
       "      <td>P I F</td>\n",
       "      <td>$0.00</td>\n",
       "      <td>$60,000.00</td>\n",
       "      <td>$48,000.00</td>\n",
       "    </tr>\n",
       "    <tr>\n",
       "      <th>1</th>\n",
       "      <td>1000024006</td>\n",
       "      <td>LANDMARK BAR &amp; GRILLE (THE)</td>\n",
       "      <td>NEW PARIS</td>\n",
       "      <td>IN</td>\n",
       "      <td>46526</td>\n",
       "      <td>1ST SOURCE BANK</td>\n",
       "      <td>IN</td>\n",
       "      <td>722410</td>\n",
       "      <td>28-Feb-97</td>\n",
       "      <td>1997</td>\n",
       "      <td>...</td>\n",
       "      <td>N</td>\n",
       "      <td>Y</td>\n",
       "      <td>NaN</td>\n",
       "      <td>31-May-97</td>\n",
       "      <td>$40,000.00</td>\n",
       "      <td>$0.00</td>\n",
       "      <td>P I F</td>\n",
       "      <td>$0.00</td>\n",
       "      <td>$40,000.00</td>\n",
       "      <td>$32,000.00</td>\n",
       "    </tr>\n",
       "    <tr>\n",
       "      <th>2</th>\n",
       "      <td>1000034009</td>\n",
       "      <td>WHITLOCK DDS, TODD M.</td>\n",
       "      <td>BLOOMINGTON</td>\n",
       "      <td>IN</td>\n",
       "      <td>47401</td>\n",
       "      <td>GRANT COUNTY STATE BANK</td>\n",
       "      <td>IN</td>\n",
       "      <td>621210</td>\n",
       "      <td>28-Feb-97</td>\n",
       "      <td>1997</td>\n",
       "      <td>...</td>\n",
       "      <td>N</td>\n",
       "      <td>N</td>\n",
       "      <td>NaN</td>\n",
       "      <td>31-Dec-97</td>\n",
       "      <td>$287,000.00</td>\n",
       "      <td>$0.00</td>\n",
       "      <td>P I F</td>\n",
       "      <td>$0.00</td>\n",
       "      <td>$287,000.00</td>\n",
       "      <td>$215,250.00</td>\n",
       "    </tr>\n",
       "    <tr>\n",
       "      <th>3</th>\n",
       "      <td>1000044001</td>\n",
       "      <td>BIG BUCKS PAWN &amp; JEWELRY, LLC</td>\n",
       "      <td>BROKEN ARROW</td>\n",
       "      <td>OK</td>\n",
       "      <td>74012</td>\n",
       "      <td>1ST NATL BK &amp; TR CO OF BROKEN</td>\n",
       "      <td>OK</td>\n",
       "      <td>0</td>\n",
       "      <td>28-Feb-97</td>\n",
       "      <td>1997</td>\n",
       "      <td>...</td>\n",
       "      <td>N</td>\n",
       "      <td>Y</td>\n",
       "      <td>NaN</td>\n",
       "      <td>30-Jun-97</td>\n",
       "      <td>$35,000.00</td>\n",
       "      <td>$0.00</td>\n",
       "      <td>P I F</td>\n",
       "      <td>$0.00</td>\n",
       "      <td>$35,000.00</td>\n",
       "      <td>$28,000.00</td>\n",
       "    </tr>\n",
       "    <tr>\n",
       "      <th>4</th>\n",
       "      <td>1000054004</td>\n",
       "      <td>ANASTASIA CONFECTIONS, INC.</td>\n",
       "      <td>ORLANDO</td>\n",
       "      <td>FL</td>\n",
       "      <td>32801</td>\n",
       "      <td>FLORIDA BUS. DEVEL CORP</td>\n",
       "      <td>FL</td>\n",
       "      <td>0</td>\n",
       "      <td>28-Feb-97</td>\n",
       "      <td>1997</td>\n",
       "      <td>...</td>\n",
       "      <td>N</td>\n",
       "      <td>N</td>\n",
       "      <td>NaN</td>\n",
       "      <td>14-May-97</td>\n",
       "      <td>$229,000.00</td>\n",
       "      <td>$0.00</td>\n",
       "      <td>P I F</td>\n",
       "      <td>$0.00</td>\n",
       "      <td>$229,000.00</td>\n",
       "      <td>$229,000.00</td>\n",
       "    </tr>\n",
       "  </tbody>\n",
       "</table>\n",
       "<p>5 rows × 27 columns</p>\n",
       "</div>"
      ],
      "text/plain": [
       "   LoanNr_ChkDgt                           Name          City State    Zip  \\\n",
       "0     1000014003                 ABC HOBBYCRAFT    EVANSVILLE    IN  47711   \n",
       "1     1000024006    LANDMARK BAR & GRILLE (THE)     NEW PARIS    IN  46526   \n",
       "2     1000034009          WHITLOCK DDS, TODD M.   BLOOMINGTON    IN  47401   \n",
       "3     1000044001  BIG BUCKS PAWN & JEWELRY, LLC  BROKEN ARROW    OK  74012   \n",
       "4     1000054004    ANASTASIA CONFECTIONS, INC.       ORLANDO    FL  32801   \n",
       "\n",
       "                            Bank BankState   NAICS ApprovalDate ApprovalFY  \\\n",
       "0               FIFTH THIRD BANK        OH  451120    28-Feb-97       1997   \n",
       "1                1ST SOURCE BANK        IN  722410    28-Feb-97       1997   \n",
       "2        GRANT COUNTY STATE BANK        IN  621210    28-Feb-97       1997   \n",
       "3  1ST NATL BK & TR CO OF BROKEN        OK       0    28-Feb-97       1997   \n",
       "4        FLORIDA BUS. DEVEL CORP        FL       0    28-Feb-97       1997   \n",
       "\n",
       "   ...  RevLineCr  LowDoc  ChgOffDate  DisbursementDate  DisbursementGross  \\\n",
       "0  ...          N       Y         NaN         28-Feb-99        $60,000.00    \n",
       "1  ...          N       Y         NaN         31-May-97        $40,000.00    \n",
       "2  ...          N       N         NaN         31-Dec-97       $287,000.00    \n",
       "3  ...          N       Y         NaN         30-Jun-97        $35,000.00    \n",
       "4  ...          N       N         NaN         14-May-97       $229,000.00    \n",
       "\n",
       "   BalanceGross  MIS_Status ChgOffPrinGr        GrAppv      SBA_Appv  \n",
       "0        $0.00        P I F       $0.00    $60,000.00    $48,000.00   \n",
       "1        $0.00        P I F       $0.00    $40,000.00    $32,000.00   \n",
       "2        $0.00        P I F       $0.00   $287,000.00   $215,250.00   \n",
       "3        $0.00        P I F       $0.00    $35,000.00    $28,000.00   \n",
       "4        $0.00        P I F       $0.00   $229,000.00   $229,000.00   \n",
       "\n",
       "[5 rows x 27 columns]"
      ]
     },
     "execution_count": 4,
     "metadata": {},
     "output_type": "execute_result"
    }
   ],
   "source": [
    "SBAnational=pd.read_csv('SBAnational.CSV')\n",
    "SBAnational.head()"
   ]
  },
  {
   "cell_type": "code",
   "execution_count": 5,
   "id": "9507964d",
   "metadata": {},
   "outputs": [],
   "source": [
    "SBAnationalpredictable=SBAnational[SBAnational.MIS_Status.notnull()]\n",
    "SBAnationalpredictable.MIS_Status.replace(('CHGOFF',\"P I F\"),(0,1),inplace=True)"
   ]
  },
  {
   "cell_type": "code",
   "execution_count": 6,
   "id": "43107250",
   "metadata": {},
   "outputs": [],
   "source": [
    "train, test = train_test_split(SBAnationalpredictable, test_size=0.25, random_state=12345)\n",
    "train, tune = train_test_split(train, test_size=0.2, random_state=1234)"
   ]
  },
  {
   "cell_type": "code",
   "execution_count": 7,
   "id": "add12ea7",
   "metadata": {},
   "outputs": [
    {
     "data": {
      "text/plain": [
       "538300"
      ]
     },
     "execution_count": 7,
     "metadata": {},
     "output_type": "execute_result"
    }
   ],
   "source": [
    "train['MIS_Status'].count()"
   ]
  },
  {
   "cell_type": "code",
   "execution_count": 8,
   "id": "9eb76903",
   "metadata": {},
   "outputs": [
    {
     "data": {
      "text/plain": [
       "443900"
      ]
     },
     "execution_count": 8,
     "metadata": {},
     "output_type": "execute_result"
    }
   ],
   "source": [
    "train['MIS_Status'].sum()"
   ]
  },
  {
   "cell_type": "code",
   "execution_count": 9,
   "id": "cb0073da",
   "metadata": {},
   "outputs": [
    {
     "data": {
      "text/plain": [
       "0.8246331042169793"
      ]
     },
     "execution_count": 9,
     "metadata": {},
     "output_type": "execute_result"
    }
   ],
   "source": [
    "default_ratio=train['MIS_Status'].sum()/train['MIS_Status'].count()\n",
    "default_ratio"
   ]
  },
  {
   "cell_type": "code",
   "execution_count": 10,
   "id": "04246293",
   "metadata": {},
   "outputs": [
    {
     "name": "stdout",
     "output_type": "stream",
     "text": [
      "              precision    recall  f1-score   support\n",
      "\n",
      "           0       0.00      0.00      0.00     94400\n",
      "           1       0.82      1.00      0.90    443900\n",
      "\n",
      "    accuracy                           0.82    538300\n",
      "   macro avg       0.41      0.50      0.45    538300\n",
      "weighted avg       0.68      0.82      0.75    538300\n",
      "\n"
     ]
    },
    {
     "data": {
      "image/png": "[encoded data removed]",
      "text/plain": [
       "<Figure size 432x288 with 2 Axes>"
      ]
     },
     "metadata": {
      "needs_background": "light"
     },
     "output_type": "display_data"
    }
   ],
   "source": [
    "train['majority-class classifier']=1\n",
    "metric_count(train['MIS_Status'],train['majority-class classifier'])"
   ]
  },
  {
   "cell_type": "code",
   "execution_count": 11,
   "id": "a372780e",
   "metadata": {},
   "outputs": [
    {
     "data": {
      "text/plain": [
       "(0.8246331042169793, 0.8246331042169793, 1.0)"
      ]
     },
     "execution_count": 11,
     "metadata": {},
     "output_type": "execute_result"
    }
   ],
   "source": [
    "accuracy=train['MIS_Status'].sum()/train['MIS_Status'].count()\n",
    "precision=train['MIS_Status'].sum()/train['MIS_Status'].count()\n",
    "recall=train['MIS_Status'].sum()/train['MIS_Status'].sum()\n",
    "accuracy,precision,recall"
   ]
  },
  {
   "cell_type": "markdown",
   "id": "df4b9645",
   "metadata": {},
   "source": [
    "## Feature Engineering"
   ]
  },
  {
   "cell_type": "markdown",
   "id": "0645da4b",
   "metadata": {},
   "source": [
    "### 1. Urban or Rural?"
   ]
  },
  {
   "cell_type": "code",
   "execution_count": 12,
   "id": "457c63b4",
   "metadata": {},
   "outputs": [
    {
     "data": {
      "image/png": "[encoded data removed]",
      "text/plain": [
       "<Figure size 432x288 with 2 Axes>"
      ]
     },
     "metadata": {
      "needs_background": "light"
     },
     "output_type": "display_data"
    }
   ],
   "source": [
    "f0=plt.figure()\n",
    "f0.add_subplot(2,1,1)\n",
    "sns.countplot(train.loc[train['MIS_Status']==0,'UrbanRural'])\n",
    "plt.xlabel('charged off')\n",
    "f0.add_subplot(2,1,2)\n",
    "sns.countplot(train.loc[train['MIS_Status']==1,'UrbanRural'])\n",
    "plt.xlabel(\"Paid in Full\")\n",
    "f0.tight_layout()"
   ]
  },
  {
   "cell_type": "code",
   "execution_count": 13,
   "id": "05db3533",
   "metadata": {},
   "outputs": [
    {
     "data": {
      "text/plain": [
       "0.9290401460983688"
      ]
     },
     "execution_count": 13,
     "metadata": {},
     "output_type": "execute_result"
    }
   ],
   "source": [
    "train.loc[train['UrbanRural']==0,'MIS_Status'].sum()/train.loc[train['UrbanRural']==0,'MIS_Status'].count()"
   ]
  },
  {
   "cell_type": "code",
   "execution_count": 14,
   "id": "da51a0a7",
   "metadata": {},
   "outputs": [
    {
     "data": {
      "text/plain": [
       "0.7553054902532622"
      ]
     },
     "execution_count": 14,
     "metadata": {},
     "output_type": "execute_result"
    }
   ],
   "source": [
    "train.loc[train['UrbanRural']==1,'MIS_Status'].sum()/train.loc[train['UrbanRural']==1,'MIS_Status'].count()"
   ]
  },
  {
   "cell_type": "code",
   "execution_count": 15,
   "id": "90a10069",
   "metadata": {},
   "outputs": [
    {
     "data": {
      "text/plain": [
       "0.8128525605574605"
      ]
     },
     "execution_count": 15,
     "metadata": {},
     "output_type": "execute_result"
    }
   ],
   "source": [
    "train.loc[train['UrbanRural']==2,'MIS_Status'].sum()/train.loc[train['UrbanRural']==2,'MIS_Status'].count()"
   ]
  },
  {
   "cell_type": "markdown",
   "id": "aa31fcf5",
   "metadata": {},
   "source": [
    "|urban or rural?|   0=undefined    | 1=urban | 2=rural     |\n",
    "|:---    | :----:     |    :----:   |          ---: |\n",
    "| percentage of pay in full | 0.9290401460983688          | 0.7553054902532622     | 0.8128525605574605 |\n"
   ]
  },
  {
   "cell_type": "markdown",
   "id": "9cc7f211",
   "metadata": {},
   "source": [
    "### 2. Is industry in the same state with bank?"
   ]
  },
  {
   "cell_type": "code",
   "execution_count": 16,
   "id": "2c9a83a3",
   "metadata": {
    "scrolled": true
   },
   "outputs": [
    {
     "data": {
      "text/plain": [
       "<AxesSubplot:xlabel='MIS_Status', ylabel='count'>"
      ]
     },
     "execution_count": 16,
     "metadata": {},
     "output_type": "execute_result"
    },
    {
     "data": {
      "image/png": "[encoded data removed]",
      "text/plain": [
       "<Figure size 432x288 with 1 Axes>"
      ]
     },
     "metadata": {
      "needs_background": "light"
     },
     "output_type": "display_data"
    }
   ],
   "source": [
    "sns.countplot(train.loc[train['BankState']==train['State'],'MIS_Status'])"
   ]
  },
  {
   "cell_type": "code",
   "execution_count": 17,
   "id": "f65fd78f",
   "metadata": {},
   "outputs": [
    {
     "data": {
      "text/plain": [
       "0.8948582090865884"
      ]
     },
     "execution_count": 17,
     "metadata": {},
     "output_type": "execute_result"
    }
   ],
   "source": [
    "train.loc[train['BankState']==train['State'],'MIS_Status'].sum()/train.loc[train['BankState']==train['State'],'MIS_Status'].count()"
   ]
  },
  {
   "cell_type": "code",
   "execution_count": 18,
   "id": "c2f92a73",
   "metadata": {},
   "outputs": [
    {
     "data": {
      "text/plain": [
       "0.7461800161255433"
      ]
     },
     "execution_count": 18,
     "metadata": {},
     "output_type": "execute_result"
    }
   ],
   "source": [
    "train.loc[train['BankState']!=train['State'],'MIS_Status'].sum()/train.loc[train['BankState']!=train['State'],'MIS_Status'].count()"
   ]
  },
  {
   "cell_type": "markdown",
   "id": "cc4346b5",
   "metadata": {},
   "source": [
    "convert from int to 0/1"
   ]
  },
  {
   "cell_type": "code",
   "execution_count": 19,
   "id": "98bdd77a",
   "metadata": {},
   "outputs": [],
   "source": [
    "train['same_state']=0\n",
    "train.loc[train['BankState']==train['State'],'same_state']=1"
   ]
  },
  {
   "cell_type": "markdown",
   "id": "b912076f",
   "metadata": {},
   "source": [
    "### 3. CreateJob"
   ]
  },
  {
   "cell_type": "code",
   "execution_count": 20,
   "id": "5a287c10",
   "metadata": {},
   "outputs": [
    {
     "data": {
      "text/html": [
       "<div>\n",
       "<style scoped>\n",
       "    .dataframe tbody tr th:only-of-type {\n",
       "        vertical-align: middle;\n",
       "    }\n",
       "\n",
       "    .dataframe tbody tr th {\n",
       "        vertical-align: top;\n",
       "    }\n",
       "\n",
       "    .dataframe thead th {\n",
       "        text-align: right;\n",
       "    }\n",
       "</style>\n",
       "<table border=\"1\" class=\"dataframe\">\n",
       "  <thead>\n",
       "    <tr style=\"text-align: right;\">\n",
       "      <th></th>\n",
       "      <th>count</th>\n",
       "      <th>mean</th>\n",
       "      <th>std</th>\n",
       "      <th>min</th>\n",
       "      <th>25%</th>\n",
       "      <th>50%</th>\n",
       "      <th>75%</th>\n",
       "      <th>max</th>\n",
       "    </tr>\n",
       "    <tr>\n",
       "      <th>MIS_Status</th>\n",
       "      <th></th>\n",
       "      <th></th>\n",
       "      <th></th>\n",
       "      <th></th>\n",
       "      <th></th>\n",
       "      <th></th>\n",
       "      <th></th>\n",
       "      <th></th>\n",
       "    </tr>\n",
       "  </thead>\n",
       "  <tbody>\n",
       "    <tr>\n",
       "      <th>0</th>\n",
       "      <td>94400.0</td>\n",
       "      <td>14.060403</td>\n",
       "      <td>328.952250</td>\n",
       "      <td>0.0</td>\n",
       "      <td>0.0</td>\n",
       "      <td>0.0</td>\n",
       "      <td>2.0</td>\n",
       "      <td>8800.0</td>\n",
       "    </tr>\n",
       "    <tr>\n",
       "      <th>1</th>\n",
       "      <td>443900.0</td>\n",
       "      <td>7.333613</td>\n",
       "      <td>214.411292</td>\n",
       "      <td>0.0</td>\n",
       "      <td>0.0</td>\n",
       "      <td>0.0</td>\n",
       "      <td>1.0</td>\n",
       "      <td>8800.0</td>\n",
       "    </tr>\n",
       "  </tbody>\n",
       "</table>\n",
       "</div>"
      ],
      "text/plain": [
       "               count       mean         std  min  25%  50%  75%     max\n",
       "MIS_Status                                                             \n",
       "0            94400.0  14.060403  328.952250  0.0  0.0  0.0  2.0  8800.0\n",
       "1           443900.0   7.333613  214.411292  0.0  0.0  0.0  1.0  8800.0"
      ]
     },
     "execution_count": 20,
     "metadata": {},
     "output_type": "execute_result"
    }
   ],
   "source": [
    "train.groupby('MIS_Status')['CreateJob'].describe()"
   ]
  },
  {
   "cell_type": "code",
   "execution_count": 21,
   "id": "140af17d",
   "metadata": {},
   "outputs": [
    {
     "data": {
      "text/plain": [
       "<AxesSubplot:xlabel='MIS_Status', ylabel='CreateJob'>"
      ]
     },
     "execution_count": 21,
     "metadata": {},
     "output_type": "execute_result"
    },
    {
     "data": {
      "image/png": "[encoded data removed]",
      "text/plain": [
       "<Figure size 432x288 with 1 Axes>"
      ]
     },
     "metadata": {
      "needs_background": "light"
     },
     "output_type": "display_data"
    }
   ],
   "source": [
    "sns.boxplot(x='MIS_Status',y='CreateJob',data=train,color='white', showmeans=True)"
   ]
  },
  {
   "cell_type": "code",
   "execution_count": 22,
   "id": "aad1b8fe",
   "metadata": {},
   "outputs": [
    {
     "data": {
      "image/png": "[encoded data removed]",
      "text/plain": [
       "<Figure size 432x288 with 2 Axes>"
      ]
     },
     "metadata": {
      "needs_background": "light"
     },
     "output_type": "display_data"
    }
   ],
   "source": [
    "train.loc[train['CreateJob']==0,'whetherCreateJob']=0\n",
    "train.loc[train['CreateJob']>0,'whetherCreateJob']=1\n",
    "f0=plt.figure()\n",
    "f0.add_subplot(2,1,1)\n",
    "sns.countplot(train.loc[train['MIS_Status']==0,'whetherCreateJob'])\n",
    "plt.xlabel('charged off')\n",
    "f0.add_subplot(2,1,2)\n",
    "sns.countplot(train.loc[train['MIS_Status']==1,'whetherCreateJob'])\n",
    "plt.xlabel(\"Paid in Full\")\n",
    "f0.tight_layout()"
   ]
  },
  {
   "cell_type": "code",
   "execution_count": 23,
   "id": "a9fd1ac4",
   "metadata": {},
   "outputs": [
    {
     "data": {
      "text/plain": [
       "0.7810003656397766"
      ]
     },
     "execution_count": 23,
     "metadata": {},
     "output_type": "execute_result"
    }
   ],
   "source": [
    "train.loc[train['whetherCreateJob']==1,'MIS_Status'].sum()/train.loc[train['whetherCreateJob']==1,'MIS_Status'].count()"
   ]
  },
  {
   "cell_type": "markdown",
   "id": "16e2003a",
   "metadata": {},
   "source": [
    "### 4. retain job"
   ]
  },
  {
   "cell_type": "code",
   "execution_count": 24,
   "id": "23bfbfb6",
   "metadata": {},
   "outputs": [
    {
     "data": {
      "text/html": [
       "<div>\n",
       "<style scoped>\n",
       "    .dataframe tbody tr th:only-of-type {\n",
       "        vertical-align: middle;\n",
       "    }\n",
       "\n",
       "    .dataframe tbody tr th {\n",
       "        vertical-align: top;\n",
       "    }\n",
       "\n",
       "    .dataframe thead th {\n",
       "        text-align: right;\n",
       "    }\n",
       "</style>\n",
       "<table border=\"1\" class=\"dataframe\">\n",
       "  <thead>\n",
       "    <tr style=\"text-align: right;\">\n",
       "      <th></th>\n",
       "      <th>count</th>\n",
       "      <th>mean</th>\n",
       "      <th>std</th>\n",
       "      <th>min</th>\n",
       "      <th>25%</th>\n",
       "      <th>50%</th>\n",
       "      <th>75%</th>\n",
       "      <th>max</th>\n",
       "    </tr>\n",
       "    <tr>\n",
       "      <th>MIS_Status</th>\n",
       "      <th></th>\n",
       "      <th></th>\n",
       "      <th></th>\n",
       "      <th></th>\n",
       "      <th></th>\n",
       "      <th></th>\n",
       "      <th></th>\n",
       "      <th></th>\n",
       "    </tr>\n",
       "  </thead>\n",
       "  <tbody>\n",
       "    <tr>\n",
       "      <th>0</th>\n",
       "      <td>94400.0</td>\n",
       "      <td>16.734555</td>\n",
       "      <td>329.598724</td>\n",
       "      <td>0.0</td>\n",
       "      <td>0.0</td>\n",
       "      <td>2.0</td>\n",
       "      <td>5.0</td>\n",
       "      <td>8800.0</td>\n",
       "    </tr>\n",
       "    <tr>\n",
       "      <th>1</th>\n",
       "      <td>443900.0</td>\n",
       "      <td>9.654368</td>\n",
       "      <td>215.183879</td>\n",
       "      <td>0.0</td>\n",
       "      <td>0.0</td>\n",
       "      <td>0.0</td>\n",
       "      <td>4.0</td>\n",
       "      <td>9500.0</td>\n",
       "    </tr>\n",
       "  </tbody>\n",
       "</table>\n",
       "</div>"
      ],
      "text/plain": [
       "               count       mean         std  min  25%  50%  75%     max\n",
       "MIS_Status                                                             \n",
       "0            94400.0  16.734555  329.598724  0.0  0.0  2.0  5.0  8800.0\n",
       "1           443900.0   9.654368  215.183879  0.0  0.0  0.0  4.0  9500.0"
      ]
     },
     "execution_count": 24,
     "metadata": {},
     "output_type": "execute_result"
    }
   ],
   "source": [
    "train.groupby('MIS_Status')['RetainedJob'].describe()"
   ]
  },
  {
   "cell_type": "code",
   "execution_count": 25,
   "id": "6b2e939e",
   "metadata": {},
   "outputs": [
    {
     "data": {
      "text/plain": [
       "<AxesSubplot:xlabel='MIS_Status', ylabel='RetainedJob'>"
      ]
     },
     "execution_count": 25,
     "metadata": {},
     "output_type": "execute_result"
    },
    {
     "data": {
      "image/png": "[encoded data removed]",
      "text/plain": [
       "<Figure size 432x288 with 1 Axes>"
      ]
     },
     "metadata": {
      "needs_background": "light"
     },
     "output_type": "display_data"
    }
   ],
   "source": [
    "sns.boxplot(x='MIS_Status',y='RetainedJob',data=train,color='white', showmeans=True)"
   ]
  },
  {
   "cell_type": "code",
   "execution_count": 26,
   "id": "1e2a69ae",
   "metadata": {},
   "outputs": [
    {
     "data": {
      "image/png": "[encoded data removed]",
      "text/plain": [
       "<Figure size 432x288 with 2 Axes>"
      ]
     },
     "metadata": {
      "needs_background": "light"
     },
     "output_type": "display_data"
    }
   ],
   "source": [
    "train.loc[train['RetainedJob']==0,'whetherRetainedJob']=0\n",
    "train.loc[train['RetainedJob']>0,'whetherRetainedJob']=1\n",
    "f0=plt.figure()\n",
    "f0.add_subplot(2,1,1)\n",
    "sns.countplot(train.loc[train['MIS_Status']==0,'whetherRetainedJob'])\n",
    "plt.xlabel('charged off')\n",
    "f0.add_subplot(2,1,2)\n",
    "sns.countplot(train.loc[train['MIS_Status']==1,'whetherRetainedJob'])\n",
    "plt.xlabel(\"Paid in Full\")\n",
    "f0.tight_layout()"
   ]
  },
  {
   "cell_type": "markdown",
   "id": "5d677fba",
   "metadata": {},
   "source": [
    "### 5. The proportion guaranteed by SBA"
   ]
  },
  {
   "cell_type": "code",
   "execution_count": 27,
   "id": "8ccedb57",
   "metadata": {},
   "outputs": [],
   "source": [
    "def SBA_G_ratio(mat):\n",
    "    rows, cols = mat.shape\n",
    "    assert cols == 2\n",
    "    mat.iloc[:, 0]=mat.iloc[:, 0].str.replace('$','').str.replace(',','').astype(\"float64\")\n",
    "    mat.iloc[:, 1]=mat.iloc[:, 1].str.replace('$','').str.replace(',','').astype(\"float64\")\n",
    "    if hasattr(mat, 'iloc'):\n",
    "        # Pandas object, use iloc\n",
    "        res = mat.iloc[:, 0] / mat.iloc[:, 1]\n",
    "        return res.to_frame()\n",
    "    else:\n",
    "        # probably a numpy array\n",
    "        res = mat[:, 0] / mat[:, 1]\n",
    "        return res.reshape((rows, 1))"
   ]
  },
  {
   "cell_type": "code",
   "execution_count": 28,
   "id": "21141421",
   "metadata": {},
   "outputs": [],
   "source": [
    "#train['SBA_Appv']=train['SBA_Appv'].str.replace('$','').str.replace(',','').astype(\"float64\")\n",
    "#train['GrAppv']=train['GrAppv'].str.replace('$','').str.replace(',','').astype(\"float64\")\n",
    "train['SBA_G_ration']=SBA_G_ratio(train[['SBA_Appv','GrAppv']])"
   ]
  },
  {
   "cell_type": "code",
   "execution_count": 29,
   "id": "0338f28f",
   "metadata": {},
   "outputs": [
    {
     "data": {
      "text/plain": [
       "<AxesSubplot:xlabel='MIS_Status', ylabel='SBA_G_ration'>"
      ]
     },
     "execution_count": 29,
     "metadata": {},
     "output_type": "execute_result"
    },
    {
     "data": {
      "image/png": "[encoded data removed]",
      "text/plain": [
       "<Figure size 432x288 with 1 Axes>"
      ]
     },
     "metadata": {
      "needs_background": "light"
     },
     "output_type": "display_data"
    }
   ],
   "source": [
    "sns.boxplot(x='MIS_Status',y='SBA_G_ration',data=train,color='white', showmeans=True)"
   ]
  },
  {
   "cell_type": "markdown",
   "id": "ee5e2efc",
   "metadata": {},
   "source": [
    "### 6. DisbursementGross"
   ]
  },
  {
   "cell_type": "code",
   "execution_count": 30,
   "id": "93728c63",
   "metadata": {},
   "outputs": [],
   "source": [
    "def remove_symbol(dataframe):\n",
    "    dataframe=dataframe.copy()\n",
    "    dataframe['DisbursementGross']=dataframe['DisbursementGross'].str.replace('$','').str.replace(',','').astype(\"float64\")\n",
    "    return dataframe"
   ]
  },
  {
   "cell_type": "code",
   "execution_count": 31,
   "id": "00563aea",
   "metadata": {},
   "outputs": [],
   "source": [
    "train['DisbursementGross1']=train['DisbursementGross'].str.replace('$','').str.replace(',','').astype(\"float64\")"
   ]
  },
  {
   "cell_type": "code",
   "execution_count": 32,
   "id": "c3f70949",
   "metadata": {},
   "outputs": [
    {
     "data": {
      "text/plain": [
       "<AxesSubplot:xlabel='MIS_Status', ylabel='DisbursementGross1'>"
      ]
     },
     "execution_count": 32,
     "metadata": {},
     "output_type": "execute_result"
    },
    {
     "data": {
      "image/png": "[encoded data removed]",
      "text/plain": [
       "<Figure size 432x288 with 1 Axes>"
      ]
     },
     "metadata": {
      "needs_background": "light"
     },
     "output_type": "display_data"
    }
   ],
   "source": [
    "sns.boxplot(x='MIS_Status',y='DisbursementGross1',data=train,color='white', showmeans=True)"
   ]
  },
  {
   "cell_type": "code",
   "execution_count": 33,
   "id": "7cee443f",
   "metadata": {},
   "outputs": [
    {
     "data": {
      "text/plain": [
       "<AxesSubplot:xlabel='MIS_Status', ylabel='DisbursementGross2'>"
      ]
     },
     "execution_count": 33,
     "metadata": {},
     "output_type": "execute_result"
    },
    {
     "data": {
      "image/png": "[encoded data removed]",
      "text/plain": [
       "<Figure size 432x288 with 1 Axes>"
      ]
     },
     "metadata": {
      "needs_background": "light"
     },
     "output_type": "display_data"
    }
   ],
   "source": [
    "train['DisbursementGross2']=np.log(train['DisbursementGross1'])\n",
    "sns.boxplot(x='MIS_Status',y='DisbursementGross2',data=train,color='white', showmeans=True)"
   ]
  },
  {
   "cell_type": "code",
   "execution_count": 34,
   "id": "d4a66f65",
   "metadata": {},
   "outputs": [],
   "source": [
    "def log_transformer(dataframe):\n",
    "    return np.log(dataframe)"
   ]
  },
  {
   "cell_type": "markdown",
   "id": "f7a739ec",
   "metadata": {},
   "source": [
    "### 7. Industry"
   ]
  },
  {
   "cell_type": "code",
   "execution_count": 35,
   "id": "90af371d",
   "metadata": {},
   "outputs": [],
   "source": [
    "train['NAICS']=train['NAICS'].astype(str)"
   ]
  },
  {
   "cell_type": "code",
   "execution_count": 36,
   "id": "5132d18f",
   "metadata": {},
   "outputs": [],
   "source": [
    "def industry_type(num):\n",
    "    string=num[0:2]\n",
    "    if string=='21'or string=='11'or string=='55'or string=='62':\n",
    "        return \"low\"\n",
    "    elif string=='52' or string=='53':\n",
    "        return \"high\"\n",
    "    else:\n",
    "        return \"median\""
   ]
  },
  {
   "cell_type": "code",
   "execution_count": 37,
   "id": "d2d1d2cc",
   "metadata": {},
   "outputs": [],
   "source": [
    "train['industry_type']=train['NAICS'].apply(industry_type)"
   ]
  },
  {
   "cell_type": "code",
   "execution_count": 38,
   "id": "92f629b3",
   "metadata": {},
   "outputs": [
    {
     "data": {
      "image/png": "[encoded data removed]",
      "text/plain": [
       "<Figure size 432x288 with 3 Axes>"
      ]
     },
     "metadata": {
      "needs_background": "light"
     },
     "output_type": "display_data"
    }
   ],
   "source": [
    "f0=plt.figure()\n",
    "f0.add_subplot(2,2,1)\n",
    "sns.countplot(train['industry_type'])\n",
    "plt.xlabel(\"all condition\")\n",
    "f0.add_subplot(2,2,2)\n",
    "sns.countplot(train['industry_type'].loc[train['MIS_Status']==1])\n",
    "plt.xlabel(\"Paid in Full\")\n",
    "f0.add_subplot(2,2,3)\n",
    "sns.countplot(train['industry_type'].loc[train['MIS_Status']==0])\n",
    "plt.xlabel('charged off')\n",
    "f0.tight_layout()"
   ]
  },
  {
   "cell_type": "code",
   "execution_count": 39,
   "id": "d3ed873d",
   "metadata": {},
   "outputs": [
    {
     "data": {
      "text/plain": [
       "0.8988865257099963"
      ]
     },
     "execution_count": 39,
     "metadata": {},
     "output_type": "execute_result"
    }
   ],
   "source": [
    "train.loc[train['industry_type']=='low','MIS_Status'].sum()/train.loc[train['industry_type']=='low','MIS_Status'].count()"
   ]
  },
  {
   "cell_type": "code",
   "execution_count": 40,
   "id": "ed9ea6f3",
   "metadata": {},
   "outputs": [
    {
     "data": {
      "text/plain": [
       "0.821647358086582"
      ]
     },
     "execution_count": 40,
     "metadata": {},
     "output_type": "execute_result"
    }
   ],
   "source": [
    "train.loc[train['industry_type']=='median','MIS_Status'].sum()/train.loc[train['industry_type']=='median','MIS_Status'].count()"
   ]
  },
  {
   "cell_type": "code",
   "execution_count": 41,
   "id": "66b43977",
   "metadata": {},
   "outputs": [
    {
     "data": {
      "text/plain": [
       "0.7160194174757282"
      ]
     },
     "execution_count": 41,
     "metadata": {},
     "output_type": "execute_result"
    }
   ],
   "source": [
    "train.loc[train['industry_type']=='high','MIS_Status'].sum()/train.loc[train['industry_type']=='high','MIS_Status'].count()"
   ]
  },
  {
   "cell_type": "markdown",
   "id": "25b17343",
   "metadata": {},
   "source": [
    "### 8. Term"
   ]
  },
  {
   "cell_type": "code",
   "execution_count": 42,
   "id": "effbb618",
   "metadata": {},
   "outputs": [
    {
     "data": {
      "text/plain": [
       "<AxesSubplot:xlabel='Term1', ylabel='count'>"
      ]
     },
     "execution_count": 42,
     "metadata": {},
     "output_type": "execute_result"
    },
    {
     "data": {
      "image/png": "[encoded data removed]",
      "text/plain": [
       "<Figure size 432x288 with 1 Axes>"
      ]
     },
     "metadata": {
      "needs_background": "light"
     },
     "output_type": "display_data"
    }
   ],
   "source": [
    "train.loc[train['Term']>=240,'Term1']=1\n",
    "train.loc[train['Term']<240,'Term1']=0\n",
    "sns.countplot(train['Term1'])"
   ]
  },
  {
   "cell_type": "code",
   "execution_count": 43,
   "id": "6fe39588",
   "metadata": {},
   "outputs": [],
   "source": [
    "def term_transform(dataframe):\n",
    "    dataframe=dataframe.copy()\n",
    "    dataframe.loc[dataframe<240]=0\n",
    "    dataframe.loc[dataframe>=240]=1\n",
    "    return dataframe"
   ]
  },
  {
   "cell_type": "code",
   "execution_count": 44,
   "id": "f2345e6d",
   "metadata": {},
   "outputs": [
    {
     "data": {
      "text/plain": [
       "180471     84\n",
       "831515     23\n",
       "820462    246\n",
       "568393     36\n",
       "667814     84\n",
       "         ... \n",
       "413260     60\n",
       "568439    180\n",
       "449887    120\n",
       "86022     104\n",
       "896298     84\n",
       "Name: Term, Length: 538300, dtype: int64"
      ]
     },
     "execution_count": 44,
     "metadata": {},
     "output_type": "execute_result"
    }
   ],
   "source": [
    "train['Term']"
   ]
  },
  {
   "cell_type": "code",
   "execution_count": 45,
   "id": "2e6b7a45",
   "metadata": {},
   "outputs": [
    {
     "data": {
      "text/plain": [
       "180471    0\n",
       "831515    0\n",
       "820462    1\n",
       "568393    0\n",
       "667814    0\n",
       "         ..\n",
       "413260    0\n",
       "568439    0\n",
       "449887    0\n",
       "86022     0\n",
       "896298    0\n",
       "Name: Term, Length: 538300, dtype: int64"
      ]
     },
     "execution_count": 45,
     "metadata": {},
     "output_type": "execute_result"
    }
   ],
   "source": [
    "term_transform(train['Term'])"
   ]
  },
  {
   "cell_type": "markdown",
   "id": "dfa6aa69",
   "metadata": {},
   "source": [
    "### 9. Recession"
   ]
  },
  {
   "cell_type": "code",
   "execution_count": 46,
   "id": "0afd20e7",
   "metadata": {},
   "outputs": [],
   "source": [
    "train['DisbursementDate']=pd.to_datetime(train['DisbursementDate'])\n",
    "train['Recession']=0\n",
    "train.loc[train[(train['DisbursementDate']+pd.Timedelta('30 days')>='2007-12-1')&(train['DisbursementDate']+pd.Timedelta('30 days')<='2009-6-30')].index,['Recession']]=1"
   ]
  },
  {
   "cell_type": "code",
   "execution_count": 47,
   "id": "aa9265ab",
   "metadata": {},
   "outputs": [
    {
     "data": {
      "image/png": "[encoded data removed]",
      "text/plain": [
       "<Figure size 432x288 with 3 Axes>"
      ]
     },
     "metadata": {
      "needs_background": "light"
     },
     "output_type": "display_data"
    }
   ],
   "source": [
    "f0=plt.figure()\n",
    "f0.add_subplot(2,2,1)\n",
    "sns.countplot(train['Recession'])\n",
    "plt.xlabel(\"all condition\")\n",
    "f0.add_subplot(2,2,2)\n",
    "sns.countplot(train['Recession'].loc[train['MIS_Status']==1])\n",
    "plt.xlabel(\"Paid in Full\")\n",
    "f0.add_subplot(2,2,3)\n",
    "sns.countplot(train['Recession'].loc[train['MIS_Status']==0])\n",
    "plt.xlabel('charged off')\n",
    "f0.tight_layout()"
   ]
  },
  {
   "cell_type": "markdown",
   "id": "dcd438e3",
   "metadata": {},
   "source": [
    "### 10. State"
   ]
  },
  {
   "cell_type": "code",
   "execution_count": 48,
   "id": "8f1d0c48",
   "metadata": {},
   "outputs": [
    {
     "data": {
      "text/plain": [
       "<AxesSubplot:xlabel='MIS_Status', ylabel='State'>"
      ]
     },
     "execution_count": 48,
     "metadata": {},
     "output_type": "execute_result"
    },
    {
     "data": {
      "image/png": "[encoded data removed]",
      "text/plain": [
       "<Figure size 360x720 with 1 Axes>"
      ]
     },
     "metadata": {
      "needs_background": "light"
     },
     "output_type": "display_data"
    }
   ],
   "source": [
    "state=(1-train.groupby('State')['MIS_Status'].sum()/train.groupby('State')['MIS_Status'].count()).reset_index()\n",
    "plt.figure(figsize=(5, 10))\n",
    "sns.barplot(x='MIS_Status',y='State',data=state,color='gray')"
   ]
  },
  {
   "cell_type": "markdown",
   "id": "6ec3934c",
   "metadata": {},
   "source": [
    "### 11.NewExist?"
   ]
  },
  {
   "cell_type": "code",
   "execution_count": 49,
   "id": "c527a945",
   "metadata": {},
   "outputs": [
    {
     "data": {
      "text/plain": [
       "<AxesSubplot:>"
      ]
     },
     "execution_count": 49,
     "metadata": {},
     "output_type": "execute_result"
    },
    {
     "data": {
      "image/png": "[encoded data removed]",
      "text/plain": [
       "<Figure size 432x288 with 1 Axes>"
      ]
     },
     "metadata": {
      "needs_background": "light"
     },
     "output_type": "display_data"
    }
   ],
   "source": [
    "train['NewExist'].hist()"
   ]
  },
  {
   "cell_type": "code",
   "execution_count": 50,
   "id": "7bf3fca0",
   "metadata": {},
   "outputs": [
    {
     "data": {
      "image/png": "[encoded data removed]",
      "text/plain": [
       "<Figure size 432x288 with 2 Axes>"
      ]
     },
     "metadata": {
      "needs_background": "light"
     },
     "output_type": "display_data"
    }
   ],
   "source": [
    "f0=plt.figure()\n",
    "f0.add_subplot(2,1,1)\n",
    "sns.countplot(train['NewExist'].loc[train['MIS_Status']==1])\n",
    "plt.xlabel(\"Paid in Full\")\n",
    "f0.add_subplot(2,1,2)\n",
    "sns.countplot(train['NewExist'].loc[train['MIS_Status']==0])\n",
    "plt.xlabel('charged off')\n",
    "f0.tight_layout()"
   ]
  },
  {
   "cell_type": "code",
   "execution_count": null,
   "id": "a87499e4",
   "metadata": {},
   "outputs": [],
   "source": []
  },
  {
   "cell_type": "markdown",
   "id": "67a4f754",
   "metadata": {},
   "source": [
    "### Train set"
   ]
  },
  {
   "cell_type": "code",
   "execution_count": 134,
   "id": "a776452b",
   "metadata": {},
   "outputs": [],
   "source": [
    "feat_cols = ['State','UrbanRural','Term1', 'industry_type','Recession','SBA_Appv', 'GrAppv','DisbursementGross','same_state',\n",
    "            'whetherCreateJob','whetherRetainedJob','NewExist']\n",
    "out_col = 'MIS_Status'\n",
    "train_x = train[feat_cols]\n",
    "train_y = train[out_col]"
   ]
  },
  {
   "cell_type": "markdown",
   "id": "e7c4333e",
   "metadata": {},
   "source": [
    "## Initial Logistic Model (25%)"
   ]
  },
  {
   "cell_type": "markdown",
   "id": "af6eb9df",
   "metadata": {},
   "source": [
    "## tune data"
   ]
  },
  {
   "cell_type": "code",
   "execution_count": 135,
   "id": "dfaf4417",
   "metadata": {},
   "outputs": [],
   "source": [
    "def data_unitransform(dataframe):\n",
    "    #1. urban or rural?\n",
    "    #2. same state?\n",
    "    dataframe['same_state']=0\n",
    "    dataframe.loc[dataframe['BankState']==dataframe['State'],'same_state']=1\n",
    "    #3.create job?\n",
    "    dataframe.loc[dataframe['CreateJob']==0,'whetherCreateJob']=0\n",
    "    dataframe.loc[dataframe['CreateJob']>0,'whetherCreateJob']=1\n",
    "    #4.retain job?\n",
    "    dataframe.loc[dataframe['RetainedJob']==0,'whetherRetainedJob']=0\n",
    "    dataframe.loc[dataframe['RetainedJob']>0,'whetherRetainedJob']=1\n",
    "    #5. The proportion guaranteed by SBA\n",
    "    #6. DisbursementGross\n",
    "    #dataframe['DisbursementGross1']=dataframe['DisbursementGross'].str.replace('$','').str.replace(',','').astype(\"float64\")\n",
    "    #7. Industry\n",
    "    dataframe['NAICS']=dataframe['NAICS'].astype(str)\n",
    "    dataframe['industry_type']=dataframe['NAICS'].apply(industry_type)\n",
    "    #8.term\n",
    "    dataframe.loc[dataframe['Term']>=240,'Term1']=1\n",
    "    dataframe.loc[dataframe['Term']<240,'Term1']=0\n",
    "    #9.Recession\n",
    "    dataframe['DisbursementDate']=pd.to_datetime(dataframe['DisbursementDate'])\n",
    "    dataframe['Recession']=0\n",
    "    dataframe.loc[dataframe[(dataframe['DisbursementDate']+pd.Timedelta('30 days')>='2007-12-1')&(dataframe['DisbursementDate']+pd.Timedelta('30 days')<='2009-6-30')].index,['Recession']]=1\n",
    "    #10.state\n",
    "    #11.newExist\n",
    "    #return dataframe"
   ]
  },
  {
   "cell_type": "code",
   "execution_count": 136,
   "id": "fa15e1c6",
   "metadata": {},
   "outputs": [],
   "source": [
    "tune_lr_pipe = Pipeline([\n",
    "    ('columns', ColumnTransformer([\n",
    "        ('ratio_SBA_G', FunctionTransformer(SBA_G_ratio), ['SBA_Appv', 'GrAppv']),\n",
    "        #('GrossDisbursement', FunctionTransformer(log_transformer), ['DisbursementGross1']),\n",
    "        #('industry_type', FunctionTransformer(industry_type1), ['NAICS']),\n",
    "        #('DisbursementGross', FunctionTransformer(Gross), ['DisbursementGross','SBA_Appv']),\n",
    "        ('feature', OneHotEncoder(drop='first'), ['State','UrbanRural','Recession','Term1','industry_type','same_state',\n",
    "                                                 'whetherCreateJob','whetherRetainedJob','NewExist']),\n",
    "        #('u', RandomUnderSampler(sampling_strategy=0.5))\n",
    "        ('grossofdisbursement', Pipeline([\n",
    "        \n",
    "        ('trans1',FunctionTransformer(remove_symbol)),\n",
    "        ('log', FunctionTransformer(np.log1p)),\n",
    "        ('std', StandardScaler()),\n",
    "        ('fill', SimpleImputer(strategy='constant', fill_value=0))]),\n",
    "         ['DisbursementGross'])     \n",
    "    ])),\n",
    "    ('model', GridSearchCV(LogisticRegression(class_weight='balanced',penalty='l1',solver='liblinear'),\n",
    "                           {\"C\":np.logspace(-3,3,7)},cv=10))\n",
    "     ])"
   ]
  },
  {
   "cell_type": "code",
   "execution_count": null,
   "id": "899483a3",
   "metadata": {},
   "outputs": [],
   "source": [
    "tune_lr_pipe.fit(train_x,train_y)\n",
    "tune_lr_pipe.best_params_"
   ]
  },
  {
   "cell_type": "code",
   "execution_count": null,
   "id": "b74701f9",
   "metadata": {},
   "outputs": [],
   "source": []
  }
 ],
 "metadata": {
  "kernelspec": {
   "display_name": "Python 3",
   "language": "python",
   "name": "python3"
  },
  "language_info": {
   "codemirror_mode": {
    "name": "ipython",
    "version": 3
   },
   "file_extension": ".py",
   "mimetype": "text/x-python",
   "name": "python",
   "nbconvert_exporter": "python",
   "pygments_lexer": "ipython3",
   "version": "3.8.8"
  }
 },
 "nbformat": 4,
 "nbformat_minor": 5
}
