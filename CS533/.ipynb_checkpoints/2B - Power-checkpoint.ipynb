{
 "cells": [
  {
   "cell_type": "markdown",
   "id": "31e5dd6d",
   "metadata": {},
   "source": [
    "# Class 2B — By Your Powers Combined\n",
    "\n",
    "This is the team activity for **Class 2B** (Thursday, Sep. 2, 2021).\n",
    "\n",
    "When you have completed the activity, upload the notebook and a PDF export to the *Weeek 2 Assignment* in Canvas, and make sure all team members have a copy of the final notebook.\n",
    "\n",
    "This notebook is intended for you to fill out. The instructions are written inline, with empty cells for you to work. Feel free to add additional code and/or markdown cells as needed, to present the results and to provide appropriate interpretive commentary."
   ]
  },
  {
   "cell_type": "markdown",
   "id": "060c20e7",
   "metadata": {},
   "source": [
    "## 🗄 Data\n",
    "\n",
    "This assignment uses Version 1.3.0 of the [Global Power Plant Database](https://datasets.wri.org/dataset/globalpowerplantdatabase).  Download and unpack those files.\n",
    "\n",
    "One of the files, `A_Global_Database_of_Power_Plants.pdf`, contains documentation about the data."
   ]
  },
  {
   "cell_type": "markdown",
   "id": "2ed1c40e",
   "metadata": {},
   "source": [
    "## 🛠 Setup\n",
    "\n",
    "As usual, we need to start by setting up our Python environment."
   ]
  },
  {
   "cell_type": "code",
   "execution_count": null,
   "id": "32a09bfb",
   "metadata": {},
   "outputs": [],
   "source": [
    "import pandas as pd\n",
    "import numpy as np\n",
    "import seaborn as sns\n",
    "import matplotlib.pyplot as plt"
   ]
  },
  {
   "cell_type": "markdown",
   "id": "72080279",
   "metadata": {},
   "source": [
    "Turn on Matplotlib rendering:"
   ]
  },
  {
   "cell_type": "code",
   "execution_count": null,
   "id": "850fe012",
   "metadata": {},
   "outputs": [],
   "source": [
    "%matplotlib inline"
   ]
  },
  {
   "cell_type": "markdown",
   "id": "e1021cc3",
   "metadata": {},
   "source": [
    "And read the data, using `pandas.read_csv`:"
   ]
  },
  {
   "cell_type": "code",
   "execution_count": null,
   "id": "9aadb57a",
   "metadata": {},
   "outputs": [],
   "source": []
  },
  {
   "cell_type": "markdown",
   "id": "2723674b",
   "metadata": {},
   "source": [
    "## 🏡 Structural Description\n",
    "\n",
    "How many **observations** are in this data?"
   ]
  },
  {
   "cell_type": "code",
   "execution_count": null,
   "id": "e3f6c2c7",
   "metadata": {},
   "outputs": [],
   "source": []
  },
  {
   "cell_type": "markdown",
   "id": "a87ff719",
   "metadata": {},
   "source": [
    "How many **variables** are in this data?"
   ]
  },
  {
   "cell_type": "code",
   "execution_count": null,
   "id": "04220e35",
   "metadata": {},
   "outputs": [],
   "source": []
  },
  {
   "cell_type": "markdown",
   "id": "19f1f820",
   "metadata": {},
   "source": [
    "What are some of the variables in this data? Look at both the column names, and the documentation (particularly Table 3), to identify some of the variables we have here."
   ]
  },
  {
   "cell_type": "code",
   "execution_count": null,
   "id": "ab4af4d9",
   "metadata": {},
   "outputs": [],
   "source": []
  },
  {
   "cell_type": "markdown",
   "id": "4e5d1d3d",
   "metadata": {},
   "source": [
    "Do the Pandas types match what you would expect from the expected data type? Are there any surprises?"
   ]
  },
  {
   "cell_type": "code",
   "execution_count": null,
   "id": "653195f0",
   "metadata": {},
   "outputs": [],
   "source": []
  },
  {
   "cell_type": "markdown",
   "id": "c8093a24",
   "metadata": {},
   "source": [
    "## ❓ Questions\n",
    "\n",
    "Identify **2 questions** that you could try to answer with this data, and write them in the Markdown cell below."
   ]
  },
  {
   "cell_type": "markdown",
   "id": "ea3e135a",
   "metadata": {},
   "source": []
  },
  {
   "cell_type": "markdown",
   "id": "17c4042d",
   "metadata": {},
   "source": [
    "## 🙋‍♀️ Check-In Breakpoint 🙋‍♂️\n",
    "\n",
    "This is where we're going to do an initial check-in and cross-team discussion."
   ]
  },
  {
   "cell_type": "markdown",
   "id": "034a87eb",
   "metadata": {},
   "source": [
    "## Distributions\n",
    "\n",
    "What is the distribution of power production capacity **per plant**? Describe graphically and numerically."
   ]
  },
  {
   "cell_type": "code",
   "execution_count": null,
   "id": "f27b46a5",
   "metadata": {},
   "outputs": [],
   "source": []
  },
  {
   "cell_type": "markdown",
   "id": "d8a3c6da",
   "metadata": {},
   "source": [
    "What is the distribution of power production capacity **per country**? Describe graphically and numerically."
   ]
  },
  {
   "cell_type": "code",
   "execution_count": null,
   "id": "4598aa80",
   "metadata": {},
   "outputs": [],
   "source": []
  },
  {
   "cell_type": "markdown",
   "id": "8fbf573b",
   "metadata": {},
   "source": [
    "## Exploration\n",
    "\n",
    "How many power plants are there of each fuel type?\n",
    "\n",
    "> **Hint:** This is easiest to view with a **horizontal bar plot**.  You can do this by using Pandas group-by, and calling `.plot.barh()` on the resulting series; or by using Seaborn's `countplot`, with `y='primary_fuel'` instead of `x='primary_fuel'`."
   ]
  },
  {
   "cell_type": "code",
   "execution_count": null,
   "id": "8dd9f98a",
   "metadata": {},
   "outputs": [],
   "source": []
  },
  {
   "cell_type": "markdown",
   "id": "9d893dbf",
   "metadata": {},
   "source": [
    "How much **total production capacity** is there of each fuel type?"
   ]
  },
  {
   "cell_type": "code",
   "execution_count": null,
   "id": "c3b98e90",
   "metadata": {},
   "outputs": [],
   "source": []
  },
  {
   "cell_type": "markdown",
   "id": "bd4c5dd1",
   "metadata": {},
   "source": [
    "## ❔ Question\n",
    "\n",
    "Pick one of the questions (either one of yours, or one of the other teams'). I recommend picking a simple one! State the question:"
   ]
  },
  {
   "cell_type": "markdown",
   "id": "d3ed73e7",
   "metadata": {},
   "source": []
  },
  {
   "cell_type": "markdown",
   "id": "a322b926",
   "metadata": {},
   "source": [
    "Describe, in English, a precise mechanism by which you will compute this measurement (including the variable(s), grouping, aggregates, etc. involved):"
   ]
  },
  {
   "cell_type": "code",
   "execution_count": null,
   "id": "82686cbb",
   "metadata": {},
   "outputs": [],
   "source": []
  },
  {
   "cell_type": "markdown",
   "id": "00d1943c",
   "metadata": {},
   "source": [
    "Attempt to answer it with the tools we have seen so far:"
   ]
  },
  {
   "cell_type": "code",
   "execution_count": null,
   "id": "2942f4ff",
   "metadata": {},
   "outputs": [],
   "source": []
  },
  {
   "cell_type": "markdown",
   "id": "bf993d27",
   "metadata": {},
   "source": [
    "## 🏁 We're Done!\n",
    "\n",
    "Submit to Canvas"
   ]
  }
 ],
 "metadata": {
  "kernelspec": {
   "display_name": "Python 3",
   "language": "python",
   "name": "python3"
  },
  "language_info": {
   "codemirror_mode": {
    "name": "ipython",
    "version": 3
   },
   "file_extension": ".py",
   "mimetype": "text/x-python",
   "name": "python",
   "nbconvert_exporter": "python",
   "pygments_lexer": "ipython3",
   "version": "3.8.10"
  }
 },
 "nbformat": 4,
 "nbformat_minor": 5
}
