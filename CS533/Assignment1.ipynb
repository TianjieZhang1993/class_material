{
 "cells": [
  {
   "cell_type": "markdown",
   "id": "4e7b0f4d",
   "metadata": {},
   "source": [
    "**🇨🇳Name: TJ Zhang**\n",
    "\n",
    "**Email: tjzhang@u.boisestate.edu**\n",
    "\n",
    "**Phone: (208) 807-8072**\n",
    "\n",
    "**Sept 11, 2021**"
   ]
  },
  {
   "cell_type": "markdown",
   "id": "69e788cf",
   "metadata": {},
   "source": [
    "# Assignment 1"
   ]
  },
  {
   "cell_type": "markdown",
   "id": "260fa71e",
   "metadata": {},
   "source": [
    "## Question 1 (10%)\n",
    "\n",
    "☘️1. A basic structural description of the data set (10%):\n",
    "\n",
    "- How many schools and variables?\n",
    "\n",
    "- How many schools are there per state?\n",
    "\n",
    "- How are schools-per-state distributed? Compute a state-level variable ‘# of schools’, and describe its distribution numerically and visually.\n"
   ]
  },
  {
   "cell_type": "markdown",
   "id": "d6000f2f",
   "metadata": {},
   "source": [
    "### 🚩**How many schools and variables?**"
   ]
  },
  {
   "cell_type": "code",
   "execution_count": 1,
   "id": "5ebaea37",
   "metadata": {},
   "outputs": [
    {
     "data": {
      "text/html": [
       "<div>\n",
       "<style scoped>\n",
       "    .dataframe tbody tr th:only-of-type {\n",
       "        vertical-align: middle;\n",
       "    }\n",
       "\n",
       "    .dataframe tbody tr th {\n",
       "        vertical-align: top;\n",
       "    }\n",
       "\n",
       "    .dataframe thead th {\n",
       "        text-align: right;\n",
       "    }\n",
       "</style>\n",
       "<table border=\"1\" class=\"dataframe\">\n",
       "  <thead>\n",
       "    <tr style=\"text-align: right;\">\n",
       "      <th></th>\n",
       "      <th>UNITID</th>\n",
       "      <th>OPEID</th>\n",
       "      <th>OPEID6</th>\n",
       "      <th>INSTNM</th>\n",
       "      <th>CITY</th>\n",
       "      <th>STABBR</th>\n",
       "      <th>ZIP</th>\n",
       "      <th>ACCREDAGENCY</th>\n",
       "      <th>INSTURL</th>\n",
       "      <th>NPCURL</th>\n",
       "      <th>...</th>\n",
       "      <th>FEDSCHCD</th>\n",
       "      <th>BOOKSUPPLY</th>\n",
       "      <th>ROOMBOARD_ON</th>\n",
       "      <th>OTHEREXPENSE_ON</th>\n",
       "      <th>ROOMBOARD_OFF</th>\n",
       "      <th>OTHEREXPENSE_OFF</th>\n",
       "      <th>OTHEREXPENSE_FAM</th>\n",
       "      <th>ENDOWBEGIN</th>\n",
       "      <th>ENDOWEND</th>\n",
       "      <th>DOLPROVIDER</th>\n",
       "    </tr>\n",
       "  </thead>\n",
       "  <tbody>\n",
       "    <tr>\n",
       "      <th>0</th>\n",
       "      <td>100654</td>\n",
       "      <td>100200</td>\n",
       "      <td>1002</td>\n",
       "      <td>Alabama A &amp; M University</td>\n",
       "      <td>Normal</td>\n",
       "      <td>AL</td>\n",
       "      <td>35762</td>\n",
       "      <td>Southern Association of Colleges and Schools C...</td>\n",
       "      <td>www.aamu.edu/</td>\n",
       "      <td>www.aamu.edu/admissions-aid/tuition-fees/net-p...</td>\n",
       "      <td>...</td>\n",
       "      <td>001002</td>\n",
       "      <td>1600.0</td>\n",
       "      <td>9240.0</td>\n",
       "      <td>3090.0</td>\n",
       "      <td>9240.0</td>\n",
       "      <td>3090.0</td>\n",
       "      <td>3090.0</td>\n",
       "      <td>NaN</td>\n",
       "      <td>NaN</td>\n",
       "      <td>0</td>\n",
       "    </tr>\n",
       "    <tr>\n",
       "      <th>1</th>\n",
       "      <td>100663</td>\n",
       "      <td>105200</td>\n",
       "      <td>1052</td>\n",
       "      <td>University of Alabama at Birmingham</td>\n",
       "      <td>Birmingham</td>\n",
       "      <td>AL</td>\n",
       "      <td>35294-0110</td>\n",
       "      <td>Southern Association of Colleges and Schools C...</td>\n",
       "      <td>https://www.uab.edu/</td>\n",
       "      <td>https://uab.studentaidcalculator.com/survey.aspx</td>\n",
       "      <td>...</td>\n",
       "      <td>001052</td>\n",
       "      <td>1200.0</td>\n",
       "      <td>12307.0</td>\n",
       "      <td>5555.0</td>\n",
       "      <td>12307.0</td>\n",
       "      <td>5555.0</td>\n",
       "      <td>5555.0</td>\n",
       "      <td>524675419.0</td>\n",
       "      <td>537349307.0</td>\n",
       "      <td>0</td>\n",
       "    </tr>\n",
       "    <tr>\n",
       "      <th>2</th>\n",
       "      <td>100690</td>\n",
       "      <td>2503400</td>\n",
       "      <td>25034</td>\n",
       "      <td>Amridge University</td>\n",
       "      <td>Montgomery</td>\n",
       "      <td>AL</td>\n",
       "      <td>36117-3553</td>\n",
       "      <td>Southern Association of Colleges and Schools C...</td>\n",
       "      <td>www.amridgeuniversity.edu/</td>\n",
       "      <td>www2.amridgeuniversity.edu:9091/</td>\n",
       "      <td>...</td>\n",
       "      <td>016885</td>\n",
       "      <td>900.0</td>\n",
       "      <td>NaN</td>\n",
       "      <td>NaN</td>\n",
       "      <td>9600.0</td>\n",
       "      <td>1600.0</td>\n",
       "      <td>1600.0</td>\n",
       "      <td>174804.0</td>\n",
       "      <td>174805.0</td>\n",
       "      <td>0</td>\n",
       "    </tr>\n",
       "    <tr>\n",
       "      <th>3</th>\n",
       "      <td>100706</td>\n",
       "      <td>105500</td>\n",
       "      <td>1055</td>\n",
       "      <td>University of Alabama in Huntsville</td>\n",
       "      <td>Huntsville</td>\n",
       "      <td>AL</td>\n",
       "      <td>35899</td>\n",
       "      <td>Southern Association of Colleges and Schools C...</td>\n",
       "      <td>www.uah.edu/</td>\n",
       "      <td>finaid.uah.edu/</td>\n",
       "      <td>...</td>\n",
       "      <td>001055</td>\n",
       "      <td>2120.0</td>\n",
       "      <td>10400.0</td>\n",
       "      <td>3994.0</td>\n",
       "      <td>10400.0</td>\n",
       "      <td>3994.0</td>\n",
       "      <td>3994.0</td>\n",
       "      <td>79465021.0</td>\n",
       "      <td>77250279.0</td>\n",
       "      <td>1</td>\n",
       "    </tr>\n",
       "    <tr>\n",
       "      <th>4</th>\n",
       "      <td>100724</td>\n",
       "      <td>100500</td>\n",
       "      <td>1005</td>\n",
       "      <td>Alabama State University</td>\n",
       "      <td>Montgomery</td>\n",
       "      <td>AL</td>\n",
       "      <td>36104-0271</td>\n",
       "      <td>Southern Association of Colleges and Schools C...</td>\n",
       "      <td>www.alasu.edu/</td>\n",
       "      <td>www.alasu.edu/cost-aid/tuition-costs/net-price...</td>\n",
       "      <td>...</td>\n",
       "      <td>001005</td>\n",
       "      <td>1600.0</td>\n",
       "      <td>6050.0</td>\n",
       "      <td>3392.0</td>\n",
       "      <td>7320.0</td>\n",
       "      <td>4228.0</td>\n",
       "      <td>4228.0</td>\n",
       "      <td>99638681.0</td>\n",
       "      <td>94536751.0</td>\n",
       "      <td>0</td>\n",
       "    </tr>\n",
       "    <tr>\n",
       "      <th>...</th>\n",
       "      <td>...</td>\n",
       "      <td>...</td>\n",
       "      <td>...</td>\n",
       "      <td>...</td>\n",
       "      <td>...</td>\n",
       "      <td>...</td>\n",
       "      <td>...</td>\n",
       "      <td>...</td>\n",
       "      <td>...</td>\n",
       "      <td>...</td>\n",
       "      <td>...</td>\n",
       "      <td>...</td>\n",
       "      <td>...</td>\n",
       "      <td>...</td>\n",
       "      <td>...</td>\n",
       "      <td>...</td>\n",
       "      <td>...</td>\n",
       "      <td>...</td>\n",
       "      <td>...</td>\n",
       "      <td>...</td>\n",
       "      <td>...</td>\n",
       "    </tr>\n",
       "    <tr>\n",
       "      <th>6689</th>\n",
       "      <td>48511113</td>\n",
       "      <td>157115</td>\n",
       "      <td>1571</td>\n",
       "      <td>Georgia Military College - Eastman</td>\n",
       "      <td>Eastman</td>\n",
       "      <td>GA</td>\n",
       "      <td>310236109</td>\n",
       "      <td>Southern Association of Colleges and Schools C...</td>\n",
       "      <td>https://www.gmc.edu/index.cms</td>\n",
       "      <td>NaN</td>\n",
       "      <td>...</td>\n",
       "      <td>001571</td>\n",
       "      <td>NaN</td>\n",
       "      <td>NaN</td>\n",
       "      <td>NaN</td>\n",
       "      <td>NaN</td>\n",
       "      <td>NaN</td>\n",
       "      <td>NaN</td>\n",
       "      <td>NaN</td>\n",
       "      <td>NaN</td>\n",
       "      <td>0</td>\n",
       "    </tr>\n",
       "    <tr>\n",
       "      <th>6690</th>\n",
       "      <td>48616901</td>\n",
       "      <td>4204801</td>\n",
       "      <td>42048</td>\n",
       "      <td>American College of Barbering - Florence</td>\n",
       "      <td>Florence</td>\n",
       "      <td>KY</td>\n",
       "      <td>410421801</td>\n",
       "      <td>National Accrediting Commission of Career Arts...</td>\n",
       "      <td>NaN</td>\n",
       "      <td>NaN</td>\n",
       "      <td>...</td>\n",
       "      <td>042048</td>\n",
       "      <td>NaN</td>\n",
       "      <td>NaN</td>\n",
       "      <td>NaN</td>\n",
       "      <td>NaN</td>\n",
       "      <td>NaN</td>\n",
       "      <td>NaN</td>\n",
       "      <td>NaN</td>\n",
       "      <td>NaN</td>\n",
       "      <td>0</td>\n",
       "    </tr>\n",
       "    <tr>\n",
       "      <th>6691</th>\n",
       "      <td>49005401</td>\n",
       "      <td>4182601</td>\n",
       "      <td>41826</td>\n",
       "      <td>HCI College - Fort Lauderdale Campus</td>\n",
       "      <td>Fort Lauderdale</td>\n",
       "      <td>FL</td>\n",
       "      <td>33309</td>\n",
       "      <td>Accrediting Commission of Career Schools and C...</td>\n",
       "      <td>www.hci.edu/</td>\n",
       "      <td>NaN</td>\n",
       "      <td>...</td>\n",
       "      <td>041826</td>\n",
       "      <td>NaN</td>\n",
       "      <td>NaN</td>\n",
       "      <td>NaN</td>\n",
       "      <td>NaN</td>\n",
       "      <td>NaN</td>\n",
       "      <td>NaN</td>\n",
       "      <td>NaN</td>\n",
       "      <td>NaN</td>\n",
       "      <td>0</td>\n",
       "    </tr>\n",
       "    <tr>\n",
       "      <th>6692</th>\n",
       "      <td>49146401</td>\n",
       "      <td>4227001</td>\n",
       "      <td>42270</td>\n",
       "      <td>ABC Adult School - Cabrillo Lane</td>\n",
       "      <td>Cerritos</td>\n",
       "      <td>CA</td>\n",
       "      <td>907037748</td>\n",
       "      <td>Council on Occupational Education</td>\n",
       "      <td>NaN</td>\n",
       "      <td>NaN</td>\n",
       "      <td>...</td>\n",
       "      <td>042270</td>\n",
       "      <td>NaN</td>\n",
       "      <td>NaN</td>\n",
       "      <td>NaN</td>\n",
       "      <td>NaN</td>\n",
       "      <td>NaN</td>\n",
       "      <td>NaN</td>\n",
       "      <td>NaN</td>\n",
       "      <td>NaN</td>\n",
       "      <td>1</td>\n",
       "    </tr>\n",
       "    <tr>\n",
       "      <th>6693</th>\n",
       "      <td>49175601</td>\n",
       "      <td>4270001</td>\n",
       "      <td>42700</td>\n",
       "      <td>Urban Barber College - San Jose</td>\n",
       "      <td>San Jose</td>\n",
       "      <td>CA</td>\n",
       "      <td>95133</td>\n",
       "      <td>National Accrediting Commission of Career Arts...</td>\n",
       "      <td>www.urbanbarbercollege.com/</td>\n",
       "      <td>NaN</td>\n",
       "      <td>...</td>\n",
       "      <td>042700</td>\n",
       "      <td>NaN</td>\n",
       "      <td>NaN</td>\n",
       "      <td>NaN</td>\n",
       "      <td>NaN</td>\n",
       "      <td>NaN</td>\n",
       "      <td>NaN</td>\n",
       "      <td>NaN</td>\n",
       "      <td>NaN</td>\n",
       "      <td>1</td>\n",
       "    </tr>\n",
       "  </tbody>\n",
       "</table>\n",
       "<p>6694 rows × 2392 columns</p>\n",
       "</div>"
      ],
      "text/plain": [
       "        UNITID    OPEID  OPEID6                                    INSTNM  \\\n",
       "0       100654   100200    1002                  Alabama A & M University   \n",
       "1       100663   105200    1052       University of Alabama at Birmingham   \n",
       "2       100690  2503400   25034                        Amridge University   \n",
       "3       100706   105500    1055       University of Alabama in Huntsville   \n",
       "4       100724   100500    1005                  Alabama State University   \n",
       "...        ...      ...     ...                                       ...   \n",
       "6689  48511113   157115    1571        Georgia Military College - Eastman   \n",
       "6690  48616901  4204801   42048  American College of Barbering - Florence   \n",
       "6691  49005401  4182601   41826      HCI College - Fort Lauderdale Campus   \n",
       "6692  49146401  4227001   42270          ABC Adult School - Cabrillo Lane   \n",
       "6693  49175601  4270001   42700           Urban Barber College - San Jose   \n",
       "\n",
       "                 CITY STABBR         ZIP  \\\n",
       "0              Normal     AL       35762   \n",
       "1          Birmingham     AL  35294-0110   \n",
       "2          Montgomery     AL  36117-3553   \n",
       "3          Huntsville     AL       35899   \n",
       "4          Montgomery     AL  36104-0271   \n",
       "...               ...    ...         ...   \n",
       "6689          Eastman     GA   310236109   \n",
       "6690         Florence     KY   410421801   \n",
       "6691  Fort Lauderdale     FL       33309   \n",
       "6692         Cerritos     CA   907037748   \n",
       "6693         San Jose     CA       95133   \n",
       "\n",
       "                                           ACCREDAGENCY  \\\n",
       "0     Southern Association of Colleges and Schools C...   \n",
       "1     Southern Association of Colleges and Schools C...   \n",
       "2     Southern Association of Colleges and Schools C...   \n",
       "3     Southern Association of Colleges and Schools C...   \n",
       "4     Southern Association of Colleges and Schools C...   \n",
       "...                                                 ...   \n",
       "6689  Southern Association of Colleges and Schools C...   \n",
       "6690  National Accrediting Commission of Career Arts...   \n",
       "6691  Accrediting Commission of Career Schools and C...   \n",
       "6692                  Council on Occupational Education   \n",
       "6693  National Accrediting Commission of Career Arts...   \n",
       "\n",
       "                            INSTURL  \\\n",
       "0                     www.aamu.edu/   \n",
       "1              https://www.uab.edu/   \n",
       "2        www.amridgeuniversity.edu/   \n",
       "3                      www.uah.edu/   \n",
       "4                    www.alasu.edu/   \n",
       "...                             ...   \n",
       "6689  https://www.gmc.edu/index.cms   \n",
       "6690                            NaN   \n",
       "6691                   www.hci.edu/   \n",
       "6692                            NaN   \n",
       "6693    www.urbanbarbercollege.com/   \n",
       "\n",
       "                                                 NPCURL  ...  FEDSCHCD  \\\n",
       "0     www.aamu.edu/admissions-aid/tuition-fees/net-p...  ...    001002   \n",
       "1      https://uab.studentaidcalculator.com/survey.aspx  ...    001052   \n",
       "2                      www2.amridgeuniversity.edu:9091/  ...    016885   \n",
       "3                                       finaid.uah.edu/  ...    001055   \n",
       "4     www.alasu.edu/cost-aid/tuition-costs/net-price...  ...    001005   \n",
       "...                                                 ...  ...       ...   \n",
       "6689                                                NaN  ...    001571   \n",
       "6690                                                NaN  ...    042048   \n",
       "6691                                                NaN  ...    041826   \n",
       "6692                                                NaN  ...    042270   \n",
       "6693                                                NaN  ...    042700   \n",
       "\n",
       "      BOOKSUPPLY  ROOMBOARD_ON  OTHEREXPENSE_ON  ROOMBOARD_OFF  \\\n",
       "0         1600.0        9240.0           3090.0         9240.0   \n",
       "1         1200.0       12307.0           5555.0        12307.0   \n",
       "2          900.0           NaN              NaN         9600.0   \n",
       "3         2120.0       10400.0           3994.0        10400.0   \n",
       "4         1600.0        6050.0           3392.0         7320.0   \n",
       "...          ...           ...              ...            ...   \n",
       "6689         NaN           NaN              NaN            NaN   \n",
       "6690         NaN           NaN              NaN            NaN   \n",
       "6691         NaN           NaN              NaN            NaN   \n",
       "6692         NaN           NaN              NaN            NaN   \n",
       "6693         NaN           NaN              NaN            NaN   \n",
       "\n",
       "      OTHEREXPENSE_OFF  OTHEREXPENSE_FAM   ENDOWBEGIN     ENDOWEND  \\\n",
       "0               3090.0            3090.0          NaN          NaN   \n",
       "1               5555.0            5555.0  524675419.0  537349307.0   \n",
       "2               1600.0            1600.0     174804.0     174805.0   \n",
       "3               3994.0            3994.0   79465021.0   77250279.0   \n",
       "4               4228.0            4228.0   99638681.0   94536751.0   \n",
       "...                ...               ...          ...          ...   \n",
       "6689               NaN               NaN          NaN          NaN   \n",
       "6690               NaN               NaN          NaN          NaN   \n",
       "6691               NaN               NaN          NaN          NaN   \n",
       "6692               NaN               NaN          NaN          NaN   \n",
       "6693               NaN               NaN          NaN          NaN   \n",
       "\n",
       "      DOLPROVIDER  \n",
       "0               0  \n",
       "1               0  \n",
       "2               0  \n",
       "3               1  \n",
       "4               0  \n",
       "...           ...  \n",
       "6689            0  \n",
       "6690            0  \n",
       "6691            0  \n",
       "6692            1  \n",
       "6693            1  \n",
       "\n",
       "[6694 rows x 2392 columns]"
      ]
     },
     "execution_count": 1,
     "metadata": {},
     "output_type": "execute_result"
    }
   ],
   "source": [
    "import numpy as np\n",
    "import pandas as pd\n",
    "import seaborn as sns\n",
    "import matplotlib.pyplot as plt\n",
    "%matplotlib inline\n",
    "collegescorecard=pd.read_csv('Most-Recent-Cohorts-All-Data-Elements.csv',low_memory=False)\n",
    "collegescorecard"
   ]
  },
  {
   "cell_type": "code",
   "execution_count": 2,
   "id": "6b5aaf37",
   "metadata": {},
   "outputs": [
    {
     "name": "stdout",
     "output_type": "stream",
     "text": [
      "<class 'pandas.core.frame.DataFrame'>\n",
      "RangeIndex: 6694 entries, 0 to 6693\n",
      "Columns: 2392 entries, UNITID to DOLPROVIDER\n",
      "dtypes: float64(639), int64(15), object(1738)\n",
      "memory usage: 122.2+ MB\n"
     ]
    }
   ],
   "source": [
    "collegescorecard.info()"
   ]
  },
  {
   "cell_type": "markdown",
   "id": "7f6ed38b",
   "metadata": {},
   "source": [
    "- How many schools?\n",
    "\n",
    "**INSTNM means institutions in this dataset**"
   ]
  },
  {
   "cell_type": "code",
   "execution_count": 3,
   "id": "53c4038b",
   "metadata": {},
   "outputs": [
    {
     "data": {
      "text/plain": [
       "6571"
      ]
     },
     "execution_count": 3,
     "metadata": {},
     "output_type": "execute_result"
    }
   ],
   "source": [
    "schoolsnum=collegescorecard.groupby('INSTNM').count()\n",
    "len(schoolsnum)"
   ]
  },
  {
   "cell_type": "markdown",
   "id": "5eb5a005",
   "metadata": {},
   "source": [
    "- How many variables?"
   ]
  },
  {
   "cell_type": "code",
   "execution_count": 4,
   "id": "9f991002",
   "metadata": {},
   "outputs": [
    {
     "data": {
      "text/plain": [
       "2392"
      ]
     },
     "execution_count": 4,
     "metadata": {},
     "output_type": "execute_result"
    }
   ],
   "source": [
    "len(collegescorecard.columns)"
   ]
  },
  {
   "cell_type": "markdown",
   "id": "d01e8330",
   "metadata": {},
   "source": [
    "### 🚩**How many schools are there per state?**"
   ]
  },
  {
   "cell_type": "code",
   "execution_count": 5,
   "id": "4a78fa13",
   "metadata": {},
   "outputs": [
    {
     "data": {
      "text/plain": [
       "STABBR\n",
       "AK      9\n",
       "AL     89\n",
       "AR     92\n",
       "AS      1\n",
       "AZ    114\n",
       "CA    693\n",
       "CO    101\n",
       "CT     79\n",
       "DC     25\n",
       "DE     21\n",
       "FL    378\n",
       "FM      1\n",
       "GA    175\n",
       "GU      3\n",
       "HI     21\n",
       "IA     80\n",
       "ID     38\n",
       "IL    258\n",
       "IN    139\n",
       "KS     80\n",
       "KY     90\n",
       "LA    121\n",
       "MA    156\n",
       "MD     85\n",
       "ME     38\n",
       "MH      1\n",
       "MI    192\n",
       "MN    112\n",
       "MO    158\n",
       "MP      1\n",
       "MS     59\n",
       "MT     32\n",
       "NC    179\n",
       "ND     26\n",
       "NE     42\n",
       "NH     37\n",
       "NJ    168\n",
       "NM     49\n",
       "NV     38\n",
       "NY    455\n",
       "OH    289\n",
       "OK    108\n",
       "OR     78\n",
       "PA    353\n",
       "PR    144\n",
       "PW      1\n",
       "RI     23\n",
       "SC    100\n",
       "SD     28\n",
       "TN    155\n",
       "TX    433\n",
       "UT     71\n",
       "VA    168\n",
       "VI      2\n",
       "VT     22\n",
       "WA    105\n",
       "WI     95\n",
       "WV     73\n",
       "WY     10\n",
       "Name: INSTNM, dtype: int64"
      ]
     },
     "execution_count": 5,
     "metadata": {},
     "output_type": "execute_result"
    }
   ],
   "source": [
    "schoolsnumperstate=collegescorecard.groupby('STABBR')['INSTNM'].count()\n",
    "schoolsnumperstate"
   ]
  },
  {
   "cell_type": "markdown",
   "id": "436fc2df",
   "metadata": {},
   "source": [
    "### 🚩**How are schools-per-state distributed? Compute a state-level variable ‘# of schools’, and describe its distribution numerically and visually.**"
   ]
  },
  {
   "cell_type": "markdown",
   "id": "0919bacd",
   "metadata": {},
   "source": [
    "- Numerically"
   ]
  },
  {
   "cell_type": "code",
   "execution_count": 6,
   "id": "1d5dae34",
   "metadata": {},
   "outputs": [
    {
     "data": {
      "text/plain": [
       "count     59.000000\n",
       "mean     113.457627\n",
       "std      129.991156\n",
       "min        1.000000\n",
       "25%       27.000000\n",
       "50%       80.000000\n",
       "75%      149.500000\n",
       "max      693.000000\n",
       "Name: INSTNM, dtype: float64"
      ]
     },
     "execution_count": 6,
     "metadata": {},
     "output_type": "execute_result"
    }
   ],
   "source": [
    "schoolsnumperstate.describe()"
   ]
  },
  {
   "cell_type": "markdown",
   "id": "811c9534",
   "metadata": {},
   "source": [
    "- Visuallly"
   ]
  },
  {
   "cell_type": "code",
   "execution_count": 7,
   "id": "f6fbc39c",
   "metadata": {},
   "outputs": [
    {
     "data": {
      "text/plain": [
       "<AxesSubplot:ylabel='Frequency'>"
      ]
     },
     "execution_count": 7,
     "metadata": {},
     "output_type": "execute_result"
    },
    {
     "data": {
      "image/png": "[encoded data removed]",
      "text/plain": [
       "<Figure size 432x288 with 1 Axes>"
      ]
     },
     "metadata": {
      "needs_background": "light"
     },
     "output_type": "display_data"
    }
   ],
   "source": [
    "schoolsnumperstate.plot.hist(bins=100)"
   ]
  },
  {
   "cell_type": "markdown",
   "id": "868ff563",
   "metadata": {},
   "source": [
    "## Question 2 (15%)\n",
    "\n",
    "☘️2. The distribution of the overall completion rate (15%):\n",
    "\n",
    "- Provide choice of completion rate variable with a justification for that choice.\n",
    "\n",
    "- Describe the distribution of that variable numerically and visually.\n",
    "\n",
    "- What is the mean? Is the distribution skewed?"
   ]
  },
  {
   "cell_type": "markdown",
   "id": "eb0027ef",
   "metadata": {},
   "source": [
    "### 🚩**Provide choice of completion rate variable with a justification for that choice.**\n",
    "\n",
    "*I would choose C150_4 & C150_L4 as completion rate variable.*\n",
    "\n",
    "*C150_4 means the completion rate of students who complete within 150 percent of the experted time to completion for 4-year instutions.*\n",
    "\n",
    "*C150_L4 means the completion rate of students who complete within 150 percent of the experted time to completion for less-than-4-year instutions.*\n",
    "\n",
    "Because: \n",
    "1. The 150 percent rates are available disaggregated by race and by Pell Grant/Direct Subsidized Load recipient status. We can make more comparasions depend on these.\n",
    "2. The C150_4 and C150_L4 includes the C100_4 and C100_4L, which contains more data."
   ]
  },
  {
   "cell_type": "markdown",
   "id": "804ea1d6",
   "metadata": {},
   "source": [
    "### 🚩**Describe the distribution of that variable numerically and visually.**"
   ]
  },
  {
   "cell_type": "markdown",
   "id": "4a0a2f2b",
   "metadata": {},
   "source": [
    "- Numerically"
   ]
  },
  {
   "cell_type": "code",
   "execution_count": 8,
   "id": "ff709952",
   "metadata": {},
   "outputs": [
    {
     "data": {
      "text/plain": [
       "count    2275.000000\n",
       "mean        0.514775\n",
       "std         0.218660\n",
       "min         0.000000\n",
       "25%         0.357950\n",
       "50%         0.517500\n",
       "75%         0.668350\n",
       "max         1.000000\n",
       "Name: C150_4, dtype: float64"
      ]
     },
     "execution_count": 8,
     "metadata": {},
     "output_type": "execute_result"
    }
   ],
   "source": [
    "collegescorecard['C150_4'].describe()"
   ]
  },
  {
   "cell_type": "code",
   "execution_count": 9,
   "id": "c712875e",
   "metadata": {},
   "outputs": [
    {
     "data": {
      "text/plain": [
       "count    3224.000000\n",
       "mean        0.581108\n",
       "std         0.244454\n",
       "min         0.000000\n",
       "25%         0.367375\n",
       "50%         0.619000\n",
       "75%         0.769200\n",
       "max         1.000000\n",
       "Name: C150_L4, dtype: float64"
      ]
     },
     "execution_count": 9,
     "metadata": {},
     "output_type": "execute_result"
    }
   ],
   "source": [
    "collegescorecard['C150_L4'].describe()"
   ]
  },
  {
   "cell_type": "markdown",
   "id": "e46b3127",
   "metadata": {},
   "source": [
    "**🌞If we combine the C150_4 and C150_L4 together, the distribution is shown below.**"
   ]
  },
  {
   "cell_type": "code",
   "execution_count": 10,
   "id": "a74a1e3f",
   "metadata": {},
   "outputs": [
    {
     "data": {
      "text/plain": [
       "count    5499.000000\n",
       "mean        0.553665\n",
       "std         0.236376\n",
       "min         0.000000\n",
       "25%         0.363800\n",
       "50%         0.568100\n",
       "75%         0.735800\n",
       "max         1.000000\n",
       "Name: C150_4, dtype: float64"
      ]
     },
     "execution_count": 10,
     "metadata": {},
     "output_type": "execute_result"
    }
   ],
   "source": [
    "collegescorecard['C150_4'].combine_first(collegescorecard['C150_L4']).describe()"
   ]
  },
  {
   "cell_type": "markdown",
   "id": "94cadd15",
   "metadata": {},
   "source": [
    "- Visually"
   ]
  },
  {
   "cell_type": "code",
   "execution_count": 11,
   "id": "1b46e6cf",
   "metadata": {},
   "outputs": [
    {
     "data": {
      "text/plain": [
       "<AxesSubplot:ylabel='Frequency'>"
      ]
     },
     "execution_count": 11,
     "metadata": {},
     "output_type": "execute_result"
    },
    {
     "data": {
      "image/png": "[encoded data removed]",
      "text/plain": [
       "<Figure size 432x288 with 1 Axes>"
      ]
     },
     "metadata": {
      "needs_background": "light"
     },
     "output_type": "display_data"
    }
   ],
   "source": [
    "collegescorecard['C150_4'].plot.hist(bins=50)"
   ]
  },
  {
   "cell_type": "code",
   "execution_count": 12,
   "id": "c4b14f24",
   "metadata": {
    "scrolled": true
   },
   "outputs": [
    {
     "data": {
      "text/plain": [
       "<AxesSubplot:ylabel='Frequency'>"
      ]
     },
     "execution_count": 12,
     "metadata": {},
     "output_type": "execute_result"
    },
    {
     "data": {
      "image/png": "[encoded data removed]",
      "text/plain": [
       "<Figure size 432x288 with 1 Axes>"
      ]
     },
     "metadata": {
      "needs_background": "light"
     },
     "output_type": "display_data"
    }
   ],
   "source": [
    "collegescorecard['C150_L4'].plot.hist(bins=50)"
   ]
  },
  {
   "cell_type": "markdown",
   "id": "8c5ca02a",
   "metadata": {},
   "source": [
    "**🌞If we combine the C150_4 and C150_L4 together, the distribution is shown below.**"
   ]
  },
  {
   "cell_type": "code",
   "execution_count": 13,
   "id": "2383cb09",
   "metadata": {},
   "outputs": [
    {
     "data": {
      "text/plain": [
       "<AxesSubplot:ylabel='Frequency'>"
      ]
     },
     "execution_count": 13,
     "metadata": {},
     "output_type": "execute_result"
    },
    {
     "data": {
      "image/png": "[encoded data removed]",
      "text/plain": [
       "<Figure size 432x288 with 1 Axes>"
      ]
     },
     "metadata": {
      "needs_background": "light"
     },
     "output_type": "display_data"
    }
   ],
   "source": [
    "collegescorecard['C150']=collegescorecard['C150_4'].combine_first(collegescorecard['C150_L4'])\n",
    "collegescorecard['C150'].plot.hist(bins=50)"
   ]
  },
  {
   "cell_type": "markdown",
   "id": "cb786d62",
   "metadata": {},
   "source": [
    "### 🚩**What is the mean? Is the distribution skewed?**"
   ]
  },
  {
   "cell_type": "markdown",
   "id": "05777a72",
   "metadata": {},
   "source": [
    "- The mean for four-year institutions is 0.514775; The distribution is symmetric.\n",
    "- The mean for less-than-four-year institutions is 0.581108; The distribution is a bimodal distribution.\n",
    "- 🌞If we combine the C150_4 and C150_L4 together,  the mean is 0.553665, and the distribution is left skewed."
   ]
  },
  {
   "cell_type": "markdown",
   "id": "0be65192",
   "metadata": {},
   "source": [
    "## Question 3 (15%)\n",
    "\n",
    "☘️3. The distribution of the admission rate, both numerically and graphically (15%).\n",
    "\n",
    "After describing the distribution of the continuous admission rate,compute the admissions category (open, low-selectivity, or high-selectivity).Do not hard-code the median — compute the median, and use the computed value (stored in a Python variable) to bucketize the admission rates. Show the distribution of admissions category (how many schools are in each category?)."
   ]
  },
  {
   "cell_type": "markdown",
   "id": "e913204b",
   "metadata": {},
   "source": [
    "**ADM_RATE means admission rate in this dataset**\n",
    "- Numerically distribution of admission rate"
   ]
  },
  {
   "cell_type": "code",
   "execution_count": 14,
   "id": "bee6cba9",
   "metadata": {},
   "outputs": [
    {
     "data": {
      "text/plain": [
       "count    1988.000000\n",
       "mean        0.689655\n",
       "std         0.220990\n",
       "min         0.000000\n",
       "25%         0.562725\n",
       "50%         0.726700\n",
       "75%         0.852550\n",
       "max         1.000000\n",
       "Name: ADM_RATE, dtype: float64"
      ]
     },
     "execution_count": 14,
     "metadata": {},
     "output_type": "execute_result"
    }
   ],
   "source": [
    "collegescorecard['ADM_RATE'].describe()"
   ]
  },
  {
   "cell_type": "markdown",
   "id": "6b643868",
   "metadata": {},
   "source": [
    "- Graphically distribution of admission rate"
   ]
  },
  {
   "cell_type": "code",
   "execution_count": 15,
   "id": "2c8dd5e4",
   "metadata": {},
   "outputs": [
    {
     "data": {
      "text/plain": [
       "0       0.9175\n",
       "1       0.7366\n",
       "2          NaN\n",
       "3       0.8257\n",
       "4       0.9690\n",
       "         ...  \n",
       "6689       NaN\n",
       "6690       NaN\n",
       "6691       NaN\n",
       "6692       NaN\n",
       "6693       NaN\n",
       "Name: ADM_RATE, Length: 6694, dtype: float64"
      ]
     },
     "execution_count": 15,
     "metadata": {},
     "output_type": "execute_result"
    }
   ],
   "source": [
    "collegescorecard['ADM_RATE']"
   ]
  },
  {
   "cell_type": "code",
   "execution_count": 16,
   "id": "b7ec9094",
   "metadata": {},
   "outputs": [
    {
     "data": {
      "text/plain": [
       "<AxesSubplot:ylabel='Frequency'>"
      ]
     },
     "execution_count": 16,
     "metadata": {},
     "output_type": "execute_result"
    },
    {
     "data": {
      "image/png": "[encoded data removed]",
      "text/plain": [
       "<Figure size 432x288 with 1 Axes>"
      ]
     },
     "metadata": {
      "needs_background": "light"
     },
     "output_type": "display_data"
    }
   ],
   "source": [
    "collegescorecard['ADM_RATE'].plot.hist(bins=100)"
   ]
  },
  {
   "cell_type": "markdown",
   "id": "def6688f",
   "metadata": {},
   "source": [
    "------------------------\n",
    "- **1 -> Open-admission schools**\n",
    "- **(0,0.726700) -> high-selectivity schools**\n",
    "- **(0.726700,1) -> low-selectivity schools**\n",
    "------------------------"
   ]
  },
  {
   "cell_type": "code",
   "execution_count": 17,
   "id": "044f2134",
   "metadata": {},
   "outputs": [
    {
     "data": {
      "text/html": [
       "<div>\n",
       "<style scoped>\n",
       "    .dataframe tbody tr th:only-of-type {\n",
       "        vertical-align: middle;\n",
       "    }\n",
       "\n",
       "    .dataframe tbody tr th {\n",
       "        vertical-align: top;\n",
       "    }\n",
       "\n",
       "    .dataframe thead th {\n",
       "        text-align: right;\n",
       "    }\n",
       "</style>\n",
       "<table border=\"1\" class=\"dataframe\">\n",
       "  <thead>\n",
       "    <tr style=\"text-align: right;\">\n",
       "      <th></th>\n",
       "      <th>UNITID</th>\n",
       "      <th>OPEID</th>\n",
       "      <th>OPEID6</th>\n",
       "      <th>INSTNM</th>\n",
       "      <th>CITY</th>\n",
       "      <th>STABBR</th>\n",
       "      <th>ZIP</th>\n",
       "      <th>ACCREDAGENCY</th>\n",
       "      <th>INSTURL</th>\n",
       "      <th>NPCURL</th>\n",
       "      <th>...</th>\n",
       "      <th>BOOKSUPPLY</th>\n",
       "      <th>ROOMBOARD_ON</th>\n",
       "      <th>OTHEREXPENSE_ON</th>\n",
       "      <th>ROOMBOARD_OFF</th>\n",
       "      <th>OTHEREXPENSE_OFF</th>\n",
       "      <th>OTHEREXPENSE_FAM</th>\n",
       "      <th>ENDOWBEGIN</th>\n",
       "      <th>ENDOWEND</th>\n",
       "      <th>DOLPROVIDER</th>\n",
       "      <th>C150</th>\n",
       "    </tr>\n",
       "  </thead>\n",
       "  <tbody>\n",
       "    <tr>\n",
       "      <th>0</th>\n",
       "      <td>100654</td>\n",
       "      <td>100200</td>\n",
       "      <td>1002</td>\n",
       "      <td>Alabama A &amp; M University</td>\n",
       "      <td>Normal</td>\n",
       "      <td>AL</td>\n",
       "      <td>35762</td>\n",
       "      <td>Southern Association of Colleges and Schools C...</td>\n",
       "      <td>www.aamu.edu/</td>\n",
       "      <td>www.aamu.edu/admissions-aid/tuition-fees/net-p...</td>\n",
       "      <td>...</td>\n",
       "      <td>1600.0</td>\n",
       "      <td>9240.0</td>\n",
       "      <td>3090.0</td>\n",
       "      <td>9240.0</td>\n",
       "      <td>3090.0</td>\n",
       "      <td>3090.0</td>\n",
       "      <td>NaN</td>\n",
       "      <td>NaN</td>\n",
       "      <td>0</td>\n",
       "      <td>0.2974</td>\n",
       "    </tr>\n",
       "    <tr>\n",
       "      <th>1</th>\n",
       "      <td>100663</td>\n",
       "      <td>105200</td>\n",
       "      <td>1052</td>\n",
       "      <td>University of Alabama at Birmingham</td>\n",
       "      <td>Birmingham</td>\n",
       "      <td>AL</td>\n",
       "      <td>35294-0110</td>\n",
       "      <td>Southern Association of Colleges and Schools C...</td>\n",
       "      <td>https://www.uab.edu/</td>\n",
       "      <td>https://uab.studentaidcalculator.com/survey.aspx</td>\n",
       "      <td>...</td>\n",
       "      <td>1200.0</td>\n",
       "      <td>12307.0</td>\n",
       "      <td>5555.0</td>\n",
       "      <td>12307.0</td>\n",
       "      <td>5555.0</td>\n",
       "      <td>5555.0</td>\n",
       "      <td>524675419.0</td>\n",
       "      <td>537349307.0</td>\n",
       "      <td>0</td>\n",
       "      <td>0.6340</td>\n",
       "    </tr>\n",
       "    <tr>\n",
       "      <th>3</th>\n",
       "      <td>100706</td>\n",
       "      <td>105500</td>\n",
       "      <td>1055</td>\n",
       "      <td>University of Alabama in Huntsville</td>\n",
       "      <td>Huntsville</td>\n",
       "      <td>AL</td>\n",
       "      <td>35899</td>\n",
       "      <td>Southern Association of Colleges and Schools C...</td>\n",
       "      <td>www.uah.edu/</td>\n",
       "      <td>finaid.uah.edu/</td>\n",
       "      <td>...</td>\n",
       "      <td>2120.0</td>\n",
       "      <td>10400.0</td>\n",
       "      <td>3994.0</td>\n",
       "      <td>10400.0</td>\n",
       "      <td>3994.0</td>\n",
       "      <td>3994.0</td>\n",
       "      <td>79465021.0</td>\n",
       "      <td>77250279.0</td>\n",
       "      <td>1</td>\n",
       "      <td>0.5768</td>\n",
       "    </tr>\n",
       "    <tr>\n",
       "      <th>4</th>\n",
       "      <td>100724</td>\n",
       "      <td>100500</td>\n",
       "      <td>1005</td>\n",
       "      <td>Alabama State University</td>\n",
       "      <td>Montgomery</td>\n",
       "      <td>AL</td>\n",
       "      <td>36104-0271</td>\n",
       "      <td>Southern Association of Colleges and Schools C...</td>\n",
       "      <td>www.alasu.edu/</td>\n",
       "      <td>www.alasu.edu/cost-aid/tuition-costs/net-price...</td>\n",
       "      <td>...</td>\n",
       "      <td>1600.0</td>\n",
       "      <td>6050.0</td>\n",
       "      <td>3392.0</td>\n",
       "      <td>7320.0</td>\n",
       "      <td>4228.0</td>\n",
       "      <td>4228.0</td>\n",
       "      <td>99638681.0</td>\n",
       "      <td>94536751.0</td>\n",
       "      <td>0</td>\n",
       "      <td>0.3276</td>\n",
       "    </tr>\n",
       "    <tr>\n",
       "      <th>5</th>\n",
       "      <td>100751</td>\n",
       "      <td>105100</td>\n",
       "      <td>1051</td>\n",
       "      <td>The University of Alabama</td>\n",
       "      <td>Tuscaloosa</td>\n",
       "      <td>AL</td>\n",
       "      <td>35487-0100</td>\n",
       "      <td>Southern Association of Colleges and Schools C...</td>\n",
       "      <td>www.ua.edu/</td>\n",
       "      <td>financialaid.ua.edu/net-price-calculator/</td>\n",
       "      <td>...</td>\n",
       "      <td>1000.0</td>\n",
       "      <td>13636.0</td>\n",
       "      <td>4600.0</td>\n",
       "      <td>13636.0</td>\n",
       "      <td>4600.0</td>\n",
       "      <td>5860.0</td>\n",
       "      <td>845934399.0</td>\n",
       "      <td>832842409.0</td>\n",
       "      <td>1</td>\n",
       "      <td>0.7110</td>\n",
       "    </tr>\n",
       "    <tr>\n",
       "      <th>...</th>\n",
       "      <td>...</td>\n",
       "      <td>...</td>\n",
       "      <td>...</td>\n",
       "      <td>...</td>\n",
       "      <td>...</td>\n",
       "      <td>...</td>\n",
       "      <td>...</td>\n",
       "      <td>...</td>\n",
       "      <td>...</td>\n",
       "      <td>...</td>\n",
       "      <td>...</td>\n",
       "      <td>...</td>\n",
       "      <td>...</td>\n",
       "      <td>...</td>\n",
       "      <td>...</td>\n",
       "      <td>...</td>\n",
       "      <td>...</td>\n",
       "      <td>...</td>\n",
       "      <td>...</td>\n",
       "      <td>...</td>\n",
       "      <td>...</td>\n",
       "    </tr>\n",
       "    <tr>\n",
       "      <th>6162</th>\n",
       "      <td>494287</td>\n",
       "      <td>2165104</td>\n",
       "      <td>21651</td>\n",
       "      <td>EDP University of Puerto Rico-Manati</td>\n",
       "      <td>Manati</td>\n",
       "      <td>PR</td>\n",
       "      <td>00674-0000</td>\n",
       "      <td>Middle States Commission on Higher Education</td>\n",
       "      <td>www.edpuniversity.edu/</td>\n",
       "      <td>edpuniversity.edu/coa_net_calculator/</td>\n",
       "      <td>...</td>\n",
       "      <td>600.0</td>\n",
       "      <td>NaN</td>\n",
       "      <td>NaN</td>\n",
       "      <td>6240.0</td>\n",
       "      <td>4650.0</td>\n",
       "      <td>4100.0</td>\n",
       "      <td>NaN</td>\n",
       "      <td>NaN</td>\n",
       "      <td>0</td>\n",
       "      <td>NaN</td>\n",
       "    </tr>\n",
       "    <tr>\n",
       "      <th>6166</th>\n",
       "      <td>494463</td>\n",
       "      <td>4280500</td>\n",
       "      <td>42805</td>\n",
       "      <td>Derech Hachaim Seminary</td>\n",
       "      <td>Monroe</td>\n",
       "      <td>NY</td>\n",
       "      <td>10950-6300</td>\n",
       "      <td>Association of Institutions of Jewish Studies</td>\n",
       "      <td>derechhachaimseminary.com/</td>\n",
       "      <td>derechhachaimseminary.com/links/</td>\n",
       "      <td>...</td>\n",
       "      <td>200.0</td>\n",
       "      <td>NaN</td>\n",
       "      <td>NaN</td>\n",
       "      <td>14560.0</td>\n",
       "      <td>3800.0</td>\n",
       "      <td>5600.0</td>\n",
       "      <td>NaN</td>\n",
       "      <td>NaN</td>\n",
       "      <td>0</td>\n",
       "      <td>NaN</td>\n",
       "    </tr>\n",
       "    <tr>\n",
       "      <th>6174</th>\n",
       "      <td>494685</td>\n",
       "      <td>4282700</td>\n",
       "      <td>42827</td>\n",
       "      <td>Urshan College</td>\n",
       "      <td>Wentzville</td>\n",
       "      <td>MO</td>\n",
       "      <td>63385</td>\n",
       "      <td>Higher Learning Commission</td>\n",
       "      <td>urshancollege.org/</td>\n",
       "      <td>urshancollege.org/tuitionandfees/net-price-cal...</td>\n",
       "      <td>...</td>\n",
       "      <td>1230.0</td>\n",
       "      <td>3998.0</td>\n",
       "      <td>501.0</td>\n",
       "      <td>3248.0</td>\n",
       "      <td>1999.0</td>\n",
       "      <td>1999.0</td>\n",
       "      <td>NaN</td>\n",
       "      <td>NaN</td>\n",
       "      <td>0</td>\n",
       "      <td>0.2727</td>\n",
       "    </tr>\n",
       "    <tr>\n",
       "      <th>6176</th>\n",
       "      <td>494700</td>\n",
       "      <td>4286300</td>\n",
       "      <td>42863</td>\n",
       "      <td>Xtylo Beauty College</td>\n",
       "      <td>Phoenix</td>\n",
       "      <td>AZ</td>\n",
       "      <td>85008-1303</td>\n",
       "      <td>National Accrediting Commission of Career Arts...</td>\n",
       "      <td>www.xtylocollege.com/</td>\n",
       "      <td>www.xtylocollege.com/</td>\n",
       "      <td>...</td>\n",
       "      <td>NaN</td>\n",
       "      <td>NaN</td>\n",
       "      <td>NaN</td>\n",
       "      <td>NaN</td>\n",
       "      <td>NaN</td>\n",
       "      <td>NaN</td>\n",
       "      <td>NaN</td>\n",
       "      <td>NaN</td>\n",
       "      <td>1</td>\n",
       "      <td>NaN</td>\n",
       "    </tr>\n",
       "    <tr>\n",
       "      <th>6183</th>\n",
       "      <td>494807</td>\n",
       "      <td>2482403</td>\n",
       "      <td>24824</td>\n",
       "      <td>Ponce Health Sciences University-East</td>\n",
       "      <td>Ponce</td>\n",
       "      <td>PR</td>\n",
       "      <td>00731-0000</td>\n",
       "      <td>Middle States Commission on Higher Education</td>\n",
       "      <td>https://www.psm.edu/</td>\n",
       "      <td>https://www.psm.edu/doc/npc/</td>\n",
       "      <td>...</td>\n",
       "      <td>600.0</td>\n",
       "      <td>NaN</td>\n",
       "      <td>NaN</td>\n",
       "      <td>8400.0</td>\n",
       "      <td>10500.0</td>\n",
       "      <td>9180.0</td>\n",
       "      <td>NaN</td>\n",
       "      <td>NaN</td>\n",
       "      <td>0</td>\n",
       "      <td>NaN</td>\n",
       "    </tr>\n",
       "  </tbody>\n",
       "</table>\n",
       "<p>1988 rows × 2393 columns</p>\n",
       "</div>"
      ],
      "text/plain": [
       "      UNITID    OPEID  OPEID6                                 INSTNM  \\\n",
       "0     100654   100200    1002               Alabama A & M University   \n",
       "1     100663   105200    1052    University of Alabama at Birmingham   \n",
       "3     100706   105500    1055    University of Alabama in Huntsville   \n",
       "4     100724   100500    1005               Alabama State University   \n",
       "5     100751   105100    1051              The University of Alabama   \n",
       "...      ...      ...     ...                                    ...   \n",
       "6162  494287  2165104   21651   EDP University of Puerto Rico-Manati   \n",
       "6166  494463  4280500   42805                Derech Hachaim Seminary   \n",
       "6174  494685  4282700   42827                         Urshan College   \n",
       "6176  494700  4286300   42863                   Xtylo Beauty College   \n",
       "6183  494807  2482403   24824  Ponce Health Sciences University-East   \n",
       "\n",
       "            CITY STABBR         ZIP  \\\n",
       "0         Normal     AL       35762   \n",
       "1     Birmingham     AL  35294-0110   \n",
       "3     Huntsville     AL       35899   \n",
       "4     Montgomery     AL  36104-0271   \n",
       "5     Tuscaloosa     AL  35487-0100   \n",
       "...          ...    ...         ...   \n",
       "6162      Manati     PR  00674-0000   \n",
       "6166      Monroe     NY  10950-6300   \n",
       "6174  Wentzville     MO       63385   \n",
       "6176     Phoenix     AZ  85008-1303   \n",
       "6183       Ponce     PR  00731-0000   \n",
       "\n",
       "                                           ACCREDAGENCY  \\\n",
       "0     Southern Association of Colleges and Schools C...   \n",
       "1     Southern Association of Colleges and Schools C...   \n",
       "3     Southern Association of Colleges and Schools C...   \n",
       "4     Southern Association of Colleges and Schools C...   \n",
       "5     Southern Association of Colleges and Schools C...   \n",
       "...                                                 ...   \n",
       "6162       Middle States Commission on Higher Education   \n",
       "6166      Association of Institutions of Jewish Studies   \n",
       "6174                         Higher Learning Commission   \n",
       "6176  National Accrediting Commission of Career Arts...   \n",
       "6183       Middle States Commission on Higher Education   \n",
       "\n",
       "                         INSTURL  \\\n",
       "0                  www.aamu.edu/   \n",
       "1           https://www.uab.edu/   \n",
       "3                   www.uah.edu/   \n",
       "4                 www.alasu.edu/   \n",
       "5                    www.ua.edu/   \n",
       "...                          ...   \n",
       "6162      www.edpuniversity.edu/   \n",
       "6166  derechhachaimseminary.com/   \n",
       "6174          urshancollege.org/   \n",
       "6176       www.xtylocollege.com/   \n",
       "6183        https://www.psm.edu/   \n",
       "\n",
       "                                                 NPCURL  ...  BOOKSUPPLY  \\\n",
       "0     www.aamu.edu/admissions-aid/tuition-fees/net-p...  ...      1600.0   \n",
       "1      https://uab.studentaidcalculator.com/survey.aspx  ...      1200.0   \n",
       "3                                       finaid.uah.edu/  ...      2120.0   \n",
       "4     www.alasu.edu/cost-aid/tuition-costs/net-price...  ...      1600.0   \n",
       "5             financialaid.ua.edu/net-price-calculator/  ...      1000.0   \n",
       "...                                                 ...  ...         ...   \n",
       "6162              edpuniversity.edu/coa_net_calculator/  ...       600.0   \n",
       "6166                   derechhachaimseminary.com/links/  ...       200.0   \n",
       "6174  urshancollege.org/tuitionandfees/net-price-cal...  ...      1230.0   \n",
       "6176                              www.xtylocollege.com/  ...         NaN   \n",
       "6183                       https://www.psm.edu/doc/npc/  ...       600.0   \n",
       "\n",
       "      ROOMBOARD_ON  OTHEREXPENSE_ON  ROOMBOARD_OFF  OTHEREXPENSE_OFF  \\\n",
       "0           9240.0           3090.0         9240.0            3090.0   \n",
       "1          12307.0           5555.0        12307.0            5555.0   \n",
       "3          10400.0           3994.0        10400.0            3994.0   \n",
       "4           6050.0           3392.0         7320.0            4228.0   \n",
       "5          13636.0           4600.0        13636.0            4600.0   \n",
       "...            ...              ...            ...               ...   \n",
       "6162           NaN              NaN         6240.0            4650.0   \n",
       "6166           NaN              NaN        14560.0            3800.0   \n",
       "6174        3998.0            501.0         3248.0            1999.0   \n",
       "6176           NaN              NaN            NaN               NaN   \n",
       "6183           NaN              NaN         8400.0           10500.0   \n",
       "\n",
       "      OTHEREXPENSE_FAM   ENDOWBEGIN     ENDOWEND  DOLPROVIDER    C150  \n",
       "0               3090.0          NaN          NaN            0  0.2974  \n",
       "1               5555.0  524675419.0  537349307.0            0  0.6340  \n",
       "3               3994.0   79465021.0   77250279.0            1  0.5768  \n",
       "4               4228.0   99638681.0   94536751.0            0  0.3276  \n",
       "5               5860.0  845934399.0  832842409.0            1  0.7110  \n",
       "...                ...          ...          ...          ...     ...  \n",
       "6162            4100.0          NaN          NaN            0     NaN  \n",
       "6166            5600.0          NaN          NaN            0     NaN  \n",
       "6174            1999.0          NaN          NaN            0  0.2727  \n",
       "6176               NaN          NaN          NaN            1     NaN  \n",
       "6183            9180.0          NaN          NaN            0     NaN  \n",
       "\n",
       "[1988 rows x 2393 columns]"
      ]
     },
     "execution_count": 17,
     "metadata": {},
     "output_type": "execute_result"
    }
   ],
   "source": [
    "COL_index=collegescorecard.loc[collegescorecard['ADM_RATE'] >=0]\n",
    "#COL_index=ids.set_index('UNITID')\n",
    "COL_index"
   ]
  },
  {
   "cell_type": "code",
   "execution_count": 18,
   "id": "d576029b",
   "metadata": {},
   "outputs": [
    {
     "data": {
      "text/plain": [
       "0       Open-admission Schools\n",
       "1       Open-admission Schools\n",
       "3       Open-admission Schools\n",
       "4       Open-admission Schools\n",
       "5       Open-admission Schools\n",
       "                 ...          \n",
       "6162    Open-admission Schools\n",
       "6166    Open-admission Schools\n",
       "6174    Open-admission Schools\n",
       "6176    Open-admission Schools\n",
       "6183    Open-admission Schools\n",
       "Length: 1988, dtype: object"
      ]
     },
     "execution_count": 18,
     "metadata": {},
     "output_type": "execute_result"
    }
   ],
   "source": [
    "Adam_Cat = pd.Series('Open-admission Schools', index=COL_index.index)\n",
    "Adam_Cat"
   ]
  },
  {
   "cell_type": "code",
   "execution_count": 19,
   "id": "199fef18",
   "metadata": {},
   "outputs": [
    {
     "data": {
      "text/plain": [
       "0       Low-selectivity Schools\n",
       "1       Low-selectivity Schools\n",
       "3       Low-selectivity Schools\n",
       "4       Low-selectivity Schools\n",
       "5       Low-selectivity Schools\n",
       "                 ...           \n",
       "6162     Open-admission Schools\n",
       "6166    Low-selectivity Schools\n",
       "6174    Low-selectivity Schools\n",
       "6176     Open-admission Schools\n",
       "6183    Low-selectivity Schools\n",
       "Length: 1988, dtype: object"
      ]
     },
     "execution_count": 19,
     "metadata": {},
     "output_type": "execute_result"
    }
   ],
   "source": [
    "Adam_Cat[COL_index.ADM_RATE < 1] = 'Low-selectivity Schools'\n",
    "Adam_Cat"
   ]
  },
  {
   "cell_type": "code",
   "execution_count": 20,
   "id": "e672ea38",
   "metadata": {},
   "outputs": [
    {
     "data": {
      "text/plain": [
       "0        Low-selectivity Schools\n",
       "1        Low-selectivity Schools\n",
       "3        Low-selectivity Schools\n",
       "4        Low-selectivity Schools\n",
       "5        Low-selectivity Schools\n",
       "                  ...           \n",
       "6162      Open-admission Schools\n",
       "6166     Low-selectivity Schools\n",
       "6174     Low-selectivity Schools\n",
       "6176      Open-admission Schools\n",
       "6183    High-selectivity Schools\n",
       "Length: 1988, dtype: object"
      ]
     },
     "execution_count": 20,
     "metadata": {},
     "output_type": "execute_result"
    }
   ],
   "source": [
    "Adam_Cat[COL_index.ADM_RATE <collegescorecard['ADM_RATE'].mean()] = 'High-selectivity Schools'\n",
    "Adam_Cat"
   ]
  },
  {
   "cell_type": "code",
   "execution_count": 21,
   "id": "9adca51a",
   "metadata": {},
   "outputs": [
    {
     "name": "stderr",
     "output_type": "stream",
     "text": [
      "<ipython-input-21-973f69463bb0>:1: SettingWithCopyWarning: \n",
      "A value is trying to be set on a copy of a slice from a DataFrame.\n",
      "Try using .loc[row_indexer,col_indexer] = value instead\n",
      "\n",
      "See the caveats in the documentation: https://pandas.pydata.org/pandas-docs/stable/user_guide/indexing.html#returning-a-view-versus-a-copy\n",
      "  COL_index['Adam_Cat'] = Adam_Cat\n"
     ]
    }
   ],
   "source": [
    "COL_index['Adam_Cat'] = Adam_Cat"
   ]
  },
  {
   "cell_type": "code",
   "execution_count": 22,
   "id": "3d693ef2",
   "metadata": {},
   "outputs": [
    {
     "name": "stderr",
     "output_type": "stream",
     "text": [
      "/Users/zhangtianjie/opt/anaconda3/lib/python3.8/site-packages/seaborn/_decorators.py:36: FutureWarning: Pass the following variable as a keyword arg: x. From version 0.12, the only valid positional argument will be `data`, and passing other arguments without an explicit keyword will result in an error or misinterpretation.\n",
      "  warnings.warn(\n"
     ]
    },
    {
     "data": {
      "text/plain": [
       "<AxesSubplot:xlabel='Adam_Cat', ylabel='count'>"
      ]
     },
     "execution_count": 22,
     "metadata": {},
     "output_type": "execute_result"
    },
    {
     "data": {
      "image/png": "[encoded data removed]",
      "text/plain": [
       "<Figure size 720x288 with 1 Axes>"
      ]
     },
     "metadata": {
      "needs_background": "light"
     },
     "output_type": "display_data"
    }
   ],
   "source": [
    "fig0, ax0 = plt.subplots(figsize=(10,4))\n",
    "sns.countplot(COL_index['Adam_Cat'],ax=ax0)"
   ]
  },
  {
   "cell_type": "markdown",
   "id": "b3587dab",
   "metadata": {},
   "source": [
    "🪡**Change this plot to an right order as Open->Low-selective->High-selective**"
   ]
  },
  {
   "cell_type": "code",
   "execution_count": 23,
   "id": "a368538a",
   "metadata": {},
   "outputs": [
    {
     "name": "stderr",
     "output_type": "stream",
     "text": [
      "<ipython-input-23-aabbcd33db4c>:4: SettingWithCopyWarning: \n",
      "A value is trying to be set on a copy of a slice from a DataFrame.\n",
      "Try using .loc[row_indexer,col_indexer] = value instead\n",
      "\n",
      "See the caveats in the documentation: https://pandas.pydata.org/pandas-docs/stable/user_guide/indexing.html#returning-a-view-versus-a-copy\n",
      "  COL_index['Adam_Cat'] = Adam_Cat\n",
      "/Users/zhangtianjie/opt/anaconda3/lib/python3.8/site-packages/seaborn/_decorators.py:36: FutureWarning: Pass the following variable as a keyword arg: x. From version 0.12, the only valid positional argument will be `data`, and passing other arguments without an explicit keyword will result in an error or misinterpretation.\n",
      "  warnings.warn(\n"
     ]
    },
    {
     "data": {
      "text/plain": [
       "<AxesSubplot:xlabel='Adam_Cat', ylabel='count'>"
      ]
     },
     "execution_count": 23,
     "metadata": {},
     "output_type": "execute_result"
    },
    {
     "data": {
      "image/png": "[encoded data removed]",
      "text/plain": [
       "<Figure size 720x288 with 1 Axes>"
      ]
     },
     "metadata": {
      "needs_background": "light"
     },
     "output_type": "display_data"
    }
   ],
   "source": [
    "Adam_Cat=Adam_Cat.astype('category')\n",
    "Adam_Cat = Adam_Cat.cat.reorder_categories(['Open-admission Schools', 'Low-selectivity Schools'\\\n",
    "                                              , 'High-selectivity Schools'])\n",
    "COL_index['Adam_Cat'] = Adam_Cat\n",
    "fig0, ax0 = plt.subplots(figsize=(10,4))\n",
    "sns.countplot(COL_index['Adam_Cat'],ax=ax0)"
   ]
  },
  {
   "cell_type": "markdown",
   "id": "dbe928ba",
   "metadata": {},
   "source": [
    "## Question 4 (30%)\n",
    "\n",
    "☘️4. The break down (sometimes called a disaggregation) of completion rate by race, by the school characteristics described in “Question”, and by one additional school characteristic you select (30%). Give a justification for your choice of characteristic — why do you think it might be interesting?\n",
    "\n",
    "You need to show these breakdowns both numerically and graphically. Box plots are useful for this, as are bar charts.\n",
    "\n",
    "Race is a per-student characteristic; schools report completion rate separately for each racial category, in addition to the overall completion rate. The resulting chart should have one bar or box for each racial group.\n",
    "\n",
    "The other characteristics — selectivity, public/private status, and your chosen additional one — are per-school statistics. The resulting chart should have one box or bar for each value of the chosen characteristic (e.g. for selectivity, these are open, low, and high).\n",
    "\n",
    "Describe differences you see, with references to specific features in the charts. What kinds of schools seem to be doing the best in terms of getting students to completion?"
   ]
  },
  {
   "cell_type": "markdown",
   "id": "f300d410",
   "metadata": {},
   "source": [
    "**👑I think the break down of completion rate by race would be interesting.**\n",
    "\n",
    "**This is because:**\n",
    "\n",
    "**1. People from different races can find instructions in school choosing from this result.**\n",
    "    \n",
    "**2. Government can make policies to make it much more fair between different races from this comparision.**\n",
    "    \n",
    "**3. The Instruction can make decisions in how the courses or the student-help-center could be improved from the result.**"
   ]
  },
  {
   "cell_type": "code",
   "execution_count": 24,
   "id": "e987c113",
   "metadata": {},
   "outputs": [
    {
     "data": {
      "text/plain": [
       "<AxesSubplot:>"
      ]
     },
     "execution_count": 24,
     "metadata": {},
     "output_type": "execute_result"
    },
    {
     "data": {
      "image/png": "[encoded data removed]",
      "text/plain": [
       "<Figure size 1440x288 with 1 Axes>"
      ]
     },
     "metadata": {
      "needs_background": "light"
     },
     "output_type": "display_data"
    }
   ],
   "source": [
    "race_comp_rate=collegescorecard[['C150_4_BLACK','C150_4_WHITE','C150_4_HISP'\\\n",
    "                                 ,'C150_4_ASIAN','C150_4_AIAN','C150_4_NHPI'\\\n",
    "                                ,'C150_4_2MOR','C150_4_NRA','C150_4_UNKN',\\\n",
    "                                 'C150_L4_BLACK','C150_L4_WHITE','C150_L4_HISP'\\\n",
    "                                 ,'C150_L4_ASIAN','C150_L4_AIAN','C150_L4_NHPI'\\\n",
    "                                ,'C150_L4_2MOR','C150_L4_NRA','C150_L4_UNKN']]\n",
    "fig1, ax1 = plt.subplots(figsize=(20,4))\n",
    "race_comp_rate.plot.box(ax=ax1)"
   ]
  },
  {
   "cell_type": "code",
   "execution_count": 25,
   "id": "b4271144",
   "metadata": {},
   "outputs": [
    {
     "data": {
      "text/html": [
       "<div>\n",
       "<style scoped>\n",
       "    .dataframe tbody tr th:only-of-type {\n",
       "        vertical-align: middle;\n",
       "    }\n",
       "\n",
       "    .dataframe tbody tr th {\n",
       "        vertical-align: top;\n",
       "    }\n",
       "\n",
       "    .dataframe thead th {\n",
       "        text-align: right;\n",
       "    }\n",
       "</style>\n",
       "<table border=\"1\" class=\"dataframe\">\n",
       "  <thead>\n",
       "    <tr style=\"text-align: right;\">\n",
       "      <th></th>\n",
       "      <th>C150_4_BLACK</th>\n",
       "      <th>C150_4_WHITE</th>\n",
       "      <th>C150_4_HISP</th>\n",
       "      <th>C150_4_ASIAN</th>\n",
       "      <th>C150_4_AIAN</th>\n",
       "      <th>C150_4_NHPI</th>\n",
       "      <th>C150_4_2MOR</th>\n",
       "      <th>C150_4_NRA</th>\n",
       "      <th>C150_4_UNKN</th>\n",
       "      <th>C150_L4_BLACK</th>\n",
       "      <th>C150_L4_WHITE</th>\n",
       "      <th>C150_L4_HISP</th>\n",
       "      <th>C150_L4_ASIAN</th>\n",
       "      <th>C150_L4_AIAN</th>\n",
       "      <th>C150_L4_NHPI</th>\n",
       "      <th>C150_L4_2MOR</th>\n",
       "      <th>C150_L4_NRA</th>\n",
       "      <th>C150_L4_UNKN</th>\n",
       "    </tr>\n",
       "  </thead>\n",
       "  <tbody>\n",
       "    <tr>\n",
       "      <th>count</th>\n",
       "      <td>1996.000000</td>\n",
       "      <td>2166.000000</td>\n",
       "      <td>2043.000000</td>\n",
       "      <td>1745.000000</td>\n",
       "      <td>1375.000000</td>\n",
       "      <td>917.000000</td>\n",
       "      <td>1692.000000</td>\n",
       "      <td>1545.000000</td>\n",
       "      <td>1663.000000</td>\n",
       "      <td>1424.000000</td>\n",
       "      <td>1542.000000</td>\n",
       "      <td>1433.000000</td>\n",
       "      <td>1113.000000</td>\n",
       "      <td>939.000000</td>\n",
       "      <td>600.000000</td>\n",
       "      <td>1198.000000</td>\n",
       "      <td>611.000000</td>\n",
       "      <td>1010.000000</td>\n",
       "    </tr>\n",
       "    <tr>\n",
       "      <th>mean</th>\n",
       "      <td>0.412378</td>\n",
       "      <td>0.545440</td>\n",
       "      <td>0.479100</td>\n",
       "      <td>0.589433</td>\n",
       "      <td>0.422095</td>\n",
       "      <td>0.485076</td>\n",
       "      <td>0.484264</td>\n",
       "      <td>0.584106</td>\n",
       "      <td>0.500140</td>\n",
       "      <td>0.346607</td>\n",
       "      <td>0.487296</td>\n",
       "      <td>0.439160</td>\n",
       "      <td>0.483359</td>\n",
       "      <td>0.302609</td>\n",
       "      <td>0.388810</td>\n",
       "      <td>0.368862</td>\n",
       "      <td>0.392991</td>\n",
       "      <td>0.390750</td>\n",
       "    </tr>\n",
       "    <tr>\n",
       "      <th>std</th>\n",
       "      <td>0.259565</td>\n",
       "      <td>0.229411</td>\n",
       "      <td>0.251868</td>\n",
       "      <td>0.295950</td>\n",
       "      <td>0.365575</td>\n",
       "      <td>0.407148</td>\n",
       "      <td>0.272461</td>\n",
       "      <td>0.284143</td>\n",
       "      <td>0.293038</td>\n",
       "      <td>0.280290</td>\n",
       "      <td>0.247677</td>\n",
       "      <td>0.293221</td>\n",
       "      <td>0.335855</td>\n",
       "      <td>0.349415</td>\n",
       "      <td>0.409672</td>\n",
       "      <td>0.305125</td>\n",
       "      <td>0.337856</td>\n",
       "      <td>0.318932</td>\n",
       "    </tr>\n",
       "    <tr>\n",
       "      <th>min</th>\n",
       "      <td>0.000000</td>\n",
       "      <td>0.000000</td>\n",
       "      <td>0.000000</td>\n",
       "      <td>0.000000</td>\n",
       "      <td>0.000000</td>\n",
       "      <td>0.000000</td>\n",
       "      <td>0.000000</td>\n",
       "      <td>0.000000</td>\n",
       "      <td>0.000000</td>\n",
       "      <td>0.000000</td>\n",
       "      <td>0.000000</td>\n",
       "      <td>0.000000</td>\n",
       "      <td>0.000000</td>\n",
       "      <td>0.000000</td>\n",
       "      <td>0.000000</td>\n",
       "      <td>0.000000</td>\n",
       "      <td>0.000000</td>\n",
       "      <td>0.000000</td>\n",
       "    </tr>\n",
       "    <tr>\n",
       "      <th>25%</th>\n",
       "      <td>0.217400</td>\n",
       "      <td>0.396025</td>\n",
       "      <td>0.312500</td>\n",
       "      <td>0.400000</td>\n",
       "      <td>0.000000</td>\n",
       "      <td>0.000000</td>\n",
       "      <td>0.293750</td>\n",
       "      <td>0.416700</td>\n",
       "      <td>0.285700</td>\n",
       "      <td>0.127975</td>\n",
       "      <td>0.295525</td>\n",
       "      <td>0.209300</td>\n",
       "      <td>0.242400</td>\n",
       "      <td>0.000000</td>\n",
       "      <td>0.000000</td>\n",
       "      <td>0.142900</td>\n",
       "      <td>0.118050</td>\n",
       "      <td>0.142900</td>\n",
       "    </tr>\n",
       "    <tr>\n",
       "      <th>50%</th>\n",
       "      <td>0.391300</td>\n",
       "      <td>0.557900</td>\n",
       "      <td>0.485100</td>\n",
       "      <td>0.625000</td>\n",
       "      <td>0.375000</td>\n",
       "      <td>0.500000</td>\n",
       "      <td>0.500000</td>\n",
       "      <td>0.608700</td>\n",
       "      <td>0.500000</td>\n",
       "      <td>0.258100</td>\n",
       "      <td>0.428600</td>\n",
       "      <td>0.357100</td>\n",
       "      <td>0.444400</td>\n",
       "      <td>0.181800</td>\n",
       "      <td>0.250000</td>\n",
       "      <td>0.283100</td>\n",
       "      <td>0.326900</td>\n",
       "      <td>0.333300</td>\n",
       "    </tr>\n",
       "    <tr>\n",
       "      <th>75%</th>\n",
       "      <td>0.583300</td>\n",
       "      <td>0.703700</td>\n",
       "      <td>0.654850</td>\n",
       "      <td>0.809500</td>\n",
       "      <td>0.666700</td>\n",
       "      <td>1.000000</td>\n",
       "      <td>0.666700</td>\n",
       "      <td>0.800000</td>\n",
       "      <td>0.714300</td>\n",
       "      <td>0.515350</td>\n",
       "      <td>0.683500</td>\n",
       "      <td>0.666700</td>\n",
       "      <td>0.750000</td>\n",
       "      <td>0.500000</td>\n",
       "      <td>0.839250</td>\n",
       "      <td>0.516550</td>\n",
       "      <td>0.600000</td>\n",
       "      <td>0.600000</td>\n",
       "    </tr>\n",
       "    <tr>\n",
       "      <th>max</th>\n",
       "      <td>1.000000</td>\n",
       "      <td>1.000000</td>\n",
       "      <td>1.000000</td>\n",
       "      <td>1.000000</td>\n",
       "      <td>1.000000</td>\n",
       "      <td>1.000000</td>\n",
       "      <td>1.000000</td>\n",
       "      <td>1.000000</td>\n",
       "      <td>1.000000</td>\n",
       "      <td>1.000000</td>\n",
       "      <td>1.000000</td>\n",
       "      <td>1.000000</td>\n",
       "      <td>1.000000</td>\n",
       "      <td>1.000000</td>\n",
       "      <td>1.000000</td>\n",
       "      <td>1.000000</td>\n",
       "      <td>1.000000</td>\n",
       "      <td>1.000000</td>\n",
       "    </tr>\n",
       "  </tbody>\n",
       "</table>\n",
       "</div>"
      ],
      "text/plain": [
       "       C150_4_BLACK  C150_4_WHITE  C150_4_HISP  C150_4_ASIAN  C150_4_AIAN  \\\n",
       "count   1996.000000   2166.000000  2043.000000   1745.000000  1375.000000   \n",
       "mean       0.412378      0.545440     0.479100      0.589433     0.422095   \n",
       "std        0.259565      0.229411     0.251868      0.295950     0.365575   \n",
       "min        0.000000      0.000000     0.000000      0.000000     0.000000   \n",
       "25%        0.217400      0.396025     0.312500      0.400000     0.000000   \n",
       "50%        0.391300      0.557900     0.485100      0.625000     0.375000   \n",
       "75%        0.583300      0.703700     0.654850      0.809500     0.666700   \n",
       "max        1.000000      1.000000     1.000000      1.000000     1.000000   \n",
       "\n",
       "       C150_4_NHPI  C150_4_2MOR   C150_4_NRA  C150_4_UNKN  C150_L4_BLACK  \\\n",
       "count   917.000000  1692.000000  1545.000000  1663.000000    1424.000000   \n",
       "mean      0.485076     0.484264     0.584106     0.500140       0.346607   \n",
       "std       0.407148     0.272461     0.284143     0.293038       0.280290   \n",
       "min       0.000000     0.000000     0.000000     0.000000       0.000000   \n",
       "25%       0.000000     0.293750     0.416700     0.285700       0.127975   \n",
       "50%       0.500000     0.500000     0.608700     0.500000       0.258100   \n",
       "75%       1.000000     0.666700     0.800000     0.714300       0.515350   \n",
       "max       1.000000     1.000000     1.000000     1.000000       1.000000   \n",
       "\n",
       "       C150_L4_WHITE  C150_L4_HISP  C150_L4_ASIAN  C150_L4_AIAN  C150_L4_NHPI  \\\n",
       "count    1542.000000   1433.000000    1113.000000    939.000000    600.000000   \n",
       "mean        0.487296      0.439160       0.483359      0.302609      0.388810   \n",
       "std         0.247677      0.293221       0.335855      0.349415      0.409672   \n",
       "min         0.000000      0.000000       0.000000      0.000000      0.000000   \n",
       "25%         0.295525      0.209300       0.242400      0.000000      0.000000   \n",
       "50%         0.428600      0.357100       0.444400      0.181800      0.250000   \n",
       "75%         0.683500      0.666700       0.750000      0.500000      0.839250   \n",
       "max         1.000000      1.000000       1.000000      1.000000      1.000000   \n",
       "\n",
       "       C150_L4_2MOR  C150_L4_NRA  C150_L4_UNKN  \n",
       "count   1198.000000   611.000000   1010.000000  \n",
       "mean       0.368862     0.392991      0.390750  \n",
       "std        0.305125     0.337856      0.318932  \n",
       "min        0.000000     0.000000      0.000000  \n",
       "25%        0.142900     0.118050      0.142900  \n",
       "50%        0.283100     0.326900      0.333300  \n",
       "75%        0.516550     0.600000      0.600000  \n",
       "max        1.000000     1.000000      1.000000  "
      ]
     },
     "execution_count": 25,
     "metadata": {},
     "output_type": "execute_result"
    }
   ],
   "source": [
    "race_comp_rate.describe()"
   ]
  },
  {
   "cell_type": "markdown",
   "id": "a10750b1",
   "metadata": {},
   "source": [
    "**🧶However, we want to calculate the overall completion rate by race. Thus, I combine the C150_4 and C150_L4 together, as shown in below.**"
   ]
  },
  {
   "cell_type": "code",
   "execution_count": 26,
   "id": "135040ff",
   "metadata": {},
   "outputs": [
    {
     "data": {
      "text/plain": [
       "<AxesSubplot:>"
      ]
     },
     "execution_count": 26,
     "metadata": {},
     "output_type": "execute_result"
    },
    {
     "data": {
      "image/png": "[encoded data removed]",
      "text/plain": [
       "<Figure size 720x288 with 1 Axes>"
      ]
     },
     "metadata": {
      "needs_background": "light"
     },
     "output_type": "display_data"
    }
   ],
   "source": [
    "collegescorecard['BLACK']=collegescorecard['C150_4_BLACK'].combine_first(collegescorecard['C150_L4_BLACK'])\n",
    "collegescorecard['WHITE']=collegescorecard['C150_4_WHITE'].combine_first(collegescorecard['C150_L4_WHITE'])\n",
    "collegescorecard['HISP']=collegescorecard['C150_4_HISP'].combine_first(collegescorecard['C150_L4_HISP'])\n",
    "collegescorecard['ASIAN']=collegescorecard['C150_4_ASIAN'].combine_first(collegescorecard['C150_L4_ASIAN'])\n",
    "collegescorecard['AIAN']=collegescorecard['C150_4_AIAN'].combine_first(collegescorecard['C150_L4_AIAN'])\n",
    "collegescorecard['NHPI']=collegescorecard['C150_4_NHPI'].combine_first(collegescorecard['C150_L4_NHPI'])\n",
    "collegescorecard['2MOR']=collegescorecard['C150_4_2MOR'].combine_first(collegescorecard['C150_L4_2MOR'])\n",
    "collegescorecard['NRA']=collegescorecard['C150_4_NRA'].combine_first(collegescorecard['C150_L4_NRA'])\n",
    "collegescorecard['UNKN']=collegescorecard['C150_4_UNKN'].combine_first(collegescorecard['C150_L4_UNKN'])\n",
    "race_comp_rate_all=collegescorecard[['BLACK','WHITE','HISP','ASIAN','AIAN','NHPI','2MOR','NRA','UNKN']]\n",
    "fig2, ax2 = plt.subplots(figsize=(10,4))\n",
    "race_comp_rate_all.plot.box(ax=ax2)"
   ]
  },
  {
   "cell_type": "code",
   "execution_count": 27,
   "id": "f29fea76",
   "metadata": {},
   "outputs": [
    {
     "data": {
      "text/html": [
       "<div>\n",
       "<style scoped>\n",
       "    .dataframe tbody tr th:only-of-type {\n",
       "        vertical-align: middle;\n",
       "    }\n",
       "\n",
       "    .dataframe tbody tr th {\n",
       "        vertical-align: top;\n",
       "    }\n",
       "\n",
       "    .dataframe thead th {\n",
       "        text-align: right;\n",
       "    }\n",
       "</style>\n",
       "<table border=\"1\" class=\"dataframe\">\n",
       "  <thead>\n",
       "    <tr style=\"text-align: right;\">\n",
       "      <th></th>\n",
       "      <th>BLACK</th>\n",
       "      <th>WHITE</th>\n",
       "      <th>HISP</th>\n",
       "      <th>ASIAN</th>\n",
       "      <th>AIAN</th>\n",
       "      <th>NHPI</th>\n",
       "      <th>2MOR</th>\n",
       "      <th>NRA</th>\n",
       "      <th>UNKN</th>\n",
       "    </tr>\n",
       "  </thead>\n",
       "  <tbody>\n",
       "    <tr>\n",
       "      <th>count</th>\n",
       "      <td>3420.000000</td>\n",
       "      <td>3708.000000</td>\n",
       "      <td>3476.000000</td>\n",
       "      <td>2858.000000</td>\n",
       "      <td>2314.000000</td>\n",
       "      <td>1517.000000</td>\n",
       "      <td>2890.000000</td>\n",
       "      <td>2156.000000</td>\n",
       "      <td>2673.000000</td>\n",
       "    </tr>\n",
       "    <tr>\n",
       "      <th>mean</th>\n",
       "      <td>0.384992</td>\n",
       "      <td>0.521261</td>\n",
       "      <td>0.462634</td>\n",
       "      <td>0.548124</td>\n",
       "      <td>0.373609</td>\n",
       "      <td>0.447001</td>\n",
       "      <td>0.436426</td>\n",
       "      <td>0.529945</td>\n",
       "      <td>0.458807</td>\n",
       "    </tr>\n",
       "    <tr>\n",
       "      <th>std</th>\n",
       "      <td>0.270301</td>\n",
       "      <td>0.238871</td>\n",
       "      <td>0.270360</td>\n",
       "      <td>0.316299</td>\n",
       "      <td>0.363793</td>\n",
       "      <td>0.410721</td>\n",
       "      <td>0.291992</td>\n",
       "      <td>0.312375</td>\n",
       "      <td>0.307632</td>\n",
       "    </tr>\n",
       "    <tr>\n",
       "      <th>min</th>\n",
       "      <td>0.000000</td>\n",
       "      <td>0.000000</td>\n",
       "      <td>0.000000</td>\n",
       "      <td>0.000000</td>\n",
       "      <td>0.000000</td>\n",
       "      <td>0.000000</td>\n",
       "      <td>0.000000</td>\n",
       "      <td>0.000000</td>\n",
       "      <td>0.000000</td>\n",
       "    </tr>\n",
       "    <tr>\n",
       "      <th>25%</th>\n",
       "      <td>0.166700</td>\n",
       "      <td>0.339750</td>\n",
       "      <td>0.250000</td>\n",
       "      <td>0.333300</td>\n",
       "      <td>0.000000</td>\n",
       "      <td>0.000000</td>\n",
       "      <td>0.213150</td>\n",
       "      <td>0.304300</td>\n",
       "      <td>0.200000</td>\n",
       "    </tr>\n",
       "    <tr>\n",
       "      <th>50%</th>\n",
       "      <td>0.341000</td>\n",
       "      <td>0.518500</td>\n",
       "      <td>0.445600</td>\n",
       "      <td>0.555600</td>\n",
       "      <td>0.333300</td>\n",
       "      <td>0.400000</td>\n",
       "      <td>0.409350</td>\n",
       "      <td>0.545500</td>\n",
       "      <td>0.464300</td>\n",
       "    </tr>\n",
       "    <tr>\n",
       "      <th>75%</th>\n",
       "      <td>0.559475</td>\n",
       "      <td>0.699525</td>\n",
       "      <td>0.666700</td>\n",
       "      <td>0.800000</td>\n",
       "      <td>0.666700</td>\n",
       "      <td>1.000000</td>\n",
       "      <td>0.650000</td>\n",
       "      <td>0.775550</td>\n",
       "      <td>0.666700</td>\n",
       "    </tr>\n",
       "    <tr>\n",
       "      <th>max</th>\n",
       "      <td>1.000000</td>\n",
       "      <td>1.000000</td>\n",
       "      <td>1.000000</td>\n",
       "      <td>1.000000</td>\n",
       "      <td>1.000000</td>\n",
       "      <td>1.000000</td>\n",
       "      <td>1.000000</td>\n",
       "      <td>1.000000</td>\n",
       "      <td>1.000000</td>\n",
       "    </tr>\n",
       "  </tbody>\n",
       "</table>\n",
       "</div>"
      ],
      "text/plain": [
       "             BLACK        WHITE         HISP        ASIAN         AIAN  \\\n",
       "count  3420.000000  3708.000000  3476.000000  2858.000000  2314.000000   \n",
       "mean      0.384992     0.521261     0.462634     0.548124     0.373609   \n",
       "std       0.270301     0.238871     0.270360     0.316299     0.363793   \n",
       "min       0.000000     0.000000     0.000000     0.000000     0.000000   \n",
       "25%       0.166700     0.339750     0.250000     0.333300     0.000000   \n",
       "50%       0.341000     0.518500     0.445600     0.555600     0.333300   \n",
       "75%       0.559475     0.699525     0.666700     0.800000     0.666700   \n",
       "max       1.000000     1.000000     1.000000     1.000000     1.000000   \n",
       "\n",
       "              NHPI         2MOR          NRA         UNKN  \n",
       "count  1517.000000  2890.000000  2156.000000  2673.000000  \n",
       "mean      0.447001     0.436426     0.529945     0.458807  \n",
       "std       0.410721     0.291992     0.312375     0.307632  \n",
       "min       0.000000     0.000000     0.000000     0.000000  \n",
       "25%       0.000000     0.213150     0.304300     0.200000  \n",
       "50%       0.400000     0.409350     0.545500     0.464300  \n",
       "75%       1.000000     0.650000     0.775550     0.666700  \n",
       "max       1.000000     1.000000     1.000000     1.000000  "
      ]
     },
     "execution_count": 27,
     "metadata": {},
     "output_type": "execute_result"
    }
   ],
   "source": [
    "race_comp_rate_all.describe()"
   ]
  },
  {
   "cell_type": "markdown",
   "id": "23010114",
   "metadata": {},
   "source": [
    "### 🚩Describe differences you see, with references to specific features in the charts. What kinds of schools seem to be doing the best in terms of getting students to completion?"
   ]
  },
  {
   "cell_type": "markdown",
   "id": "c1c9b1df",
   "metadata": {},
   "source": [
    "1. The WHITE, ASIAN and NRA have a larger mean in completion rates than other races (more than 0.5). \n",
    "2. The BLACK, WHITE and HISP are the majority students in US as more than 3000 schools reports the completion rates of them. \n",
    "3. The distribution of completion rates by race in 4-year institutions and less-than-4-year institutions are similar.\n",
    "\n",
    "- **Schools, who can help students complete their studys best (have a higher mean of completion rates in overall) but can also balance the completion rates in different races, seems to be doing the best in terms of getting students to completion.**"
   ]
  },
  {
   "cell_type": "markdown",
   "id": "3e632891",
   "metadata": {},
   "source": [
    "## Question 5 (20%)\n",
    "\n",
    "☘️The answers to 5 questions of your choice from sections 3.1, 3.2, and 3.3 of 📃 Datasheets for Datasets, based on the documentation for the college scorecard data (20%). \n",
    "\n",
    "Questions should come from at least 2 different sections of the paper."
   ]
  },
  {
   "cell_type": "markdown",
   "id": "c6c0559a",
   "metadata": {},
   "source": [
    "**3.1 Motivation:**\n",
    "\n",
    "***🍎1. For what purpose was the dataset created?***\n",
    "\n",
    "*The College Scorecard project is designed to increase transparency, putting the power in the hands of\n",
    "students and families to compare how well individual postsecondary institutions are preparing their\n",
    "students to be successful. This project provides data to help students and families compare college costs\n",
    "and outcomes as they weigh the tradeoffs of different colleges, accounting for their own needs and\n",
    "educational goals*"
   ]
  },
  {
   "cell_type": "markdown",
   "id": "e1dbb66a",
   "metadata": {},
   "source": [
    "***🍎2. Who created the dataset and on behalf of which entity?***\n",
    "\n",
    "*The United States Department of Education, on behalf of Government*"
   ]
  },
  {
   "cell_type": "markdown",
   "id": "53c34cdb",
   "metadata": {},
   "source": [
    "**3.2 Composition:**\n",
    "\n",
    "***🍎3. How many instances are there in total?***\n",
    "\n",
    "*2392*"
   ]
  },
  {
   "cell_type": "markdown",
   "id": "0650a901",
   "metadata": {},
   "source": [
    "**3.3 Collection Process:**\n",
    "\n",
    "***🍎4. How was the data associated with each instance acquired?***\n",
    "\n",
    "*Many data elements are drawn directly from, or derived from, data reported to the IPEDS. Note that some colleges report combined data that pertain to more than one IPEDS institution. The reporting institution (called the “parent”) also indicates an estimated proportion of the data that applies to each of the institutions for which it is reporting (called “child” institutions). In the Scorecard data, these proportions are used to allocate data reported by parent institutions to the child institutions to simplify both consumer and research use of the data.*"
   ]
  },
  {
   "cell_type": "markdown",
   "id": "b5b1d159",
   "metadata": {},
   "source": [
    "***🍎5. Does the dataset relate to people?***\n",
    "\n",
    "*It relates to students*"
   ]
  },
  {
   "cell_type": "markdown",
   "id": "4494953c",
   "metadata": {},
   "source": [
    "## Question 6 (10%)\n",
    "\n",
    "☘️6. Write 2 paragraphs reflecting on what you learned about this data, higher education, and data science through this assignment (10%).\n"
   ]
  },
  {
   "cell_type": "markdown",
   "id": "f05f5953",
   "metadata": {},
   "source": [
    "1. 6571 schools were investigated and contained in this dataset. The distribution of the schools in each state is not even; Almost 700 schools in CA was included while in AS, FM, MH, MP, PW, only 1 institute was included.\n",
    "2. The distribution of the schools in different admission catlogs shows that the number of Low-selectivity schools is higher than Open-admission schools and High-electivity schools; Open-admission schools are the minority. The mean of overall completion rates is 0.553665, and the distribution of completion rate is a left-skewed. The completion rate has a break down by race. The WHITE, ASIAN and NRA have a larger mean in completion rates than other races (more than 0.5). The BLACK, WHITE and HISP are the majority students in US as more than 3000 schools reports the completion rates of them.\n"
   ]
  },
  {
   "cell_type": "markdown",
   "id": "cc905cd9",
   "metadata": {},
   "source": [
    "## Extra Credit"
   ]
  },
  {
   "cell_type": "markdown",
   "id": "3d415d73",
   "metadata": {},
   "source": [
    "❤️Look at differences in completion rates by race for schools with different characteristics. Do some kinds of schools seem to do better at racial equality in completion rates than others?"
   ]
  },
  {
   "cell_type": "code",
   "execution_count": 28,
   "id": "25d4eb2a",
   "metadata": {
    "scrolled": true
   },
   "outputs": [
    {
     "data": {
      "text/html": [
       "<div>\n",
       "<style scoped>\n",
       "    .dataframe tbody tr th:only-of-type {\n",
       "        vertical-align: middle;\n",
       "    }\n",
       "\n",
       "    .dataframe tbody tr th {\n",
       "        vertical-align: top;\n",
       "    }\n",
       "\n",
       "    .dataframe thead th {\n",
       "        text-align: right;\n",
       "    }\n",
       "</style>\n",
       "<table border=\"1\" class=\"dataframe\">\n",
       "  <thead>\n",
       "    <tr style=\"text-align: right;\">\n",
       "      <th></th>\n",
       "      <th>INSTNM</th>\n",
       "      <th>TUITIONFEE_IN</th>\n",
       "      <th>TUITIONFEE_OUT</th>\n",
       "    </tr>\n",
       "  </thead>\n",
       "  <tbody>\n",
       "    <tr>\n",
       "      <th>0</th>\n",
       "      <td>Alabama A &amp; M University</td>\n",
       "      <td>10024.0</td>\n",
       "      <td>18634.0</td>\n",
       "    </tr>\n",
       "    <tr>\n",
       "      <th>1</th>\n",
       "      <td>University of Alabama at Birmingham</td>\n",
       "      <td>8568.0</td>\n",
       "      <td>20400.0</td>\n",
       "    </tr>\n",
       "    <tr>\n",
       "      <th>2</th>\n",
       "      <td>Amridge University</td>\n",
       "      <td>6950.0</td>\n",
       "      <td>6950.0</td>\n",
       "    </tr>\n",
       "    <tr>\n",
       "      <th>3</th>\n",
       "      <td>University of Alabama in Huntsville</td>\n",
       "      <td>11122.0</td>\n",
       "      <td>23518.0</td>\n",
       "    </tr>\n",
       "    <tr>\n",
       "      <th>4</th>\n",
       "      <td>Alabama State University</td>\n",
       "      <td>11068.0</td>\n",
       "      <td>19396.0</td>\n",
       "    </tr>\n",
       "    <tr>\n",
       "      <th>...</th>\n",
       "      <td>...</td>\n",
       "      <td>...</td>\n",
       "      <td>...</td>\n",
       "    </tr>\n",
       "    <tr>\n",
       "      <th>6689</th>\n",
       "      <td>Georgia Military College - Eastman</td>\n",
       "      <td>6165.0</td>\n",
       "      <td>NaN</td>\n",
       "    </tr>\n",
       "    <tr>\n",
       "      <th>6690</th>\n",
       "      <td>American College of Barbering - Florence</td>\n",
       "      <td>NaN</td>\n",
       "      <td>NaN</td>\n",
       "    </tr>\n",
       "    <tr>\n",
       "      <th>6691</th>\n",
       "      <td>HCI College - Fort Lauderdale Campus</td>\n",
       "      <td>19404.0</td>\n",
       "      <td>NaN</td>\n",
       "    </tr>\n",
       "    <tr>\n",
       "      <th>6692</th>\n",
       "      <td>ABC Adult School - Cabrillo Lane</td>\n",
       "      <td>NaN</td>\n",
       "      <td>NaN</td>\n",
       "    </tr>\n",
       "    <tr>\n",
       "      <th>6693</th>\n",
       "      <td>Urban Barber College - San Jose</td>\n",
       "      <td>NaN</td>\n",
       "      <td>NaN</td>\n",
       "    </tr>\n",
       "  </tbody>\n",
       "</table>\n",
       "<p>6694 rows × 3 columns</p>\n",
       "</div>"
      ],
      "text/plain": [
       "                                        INSTNM  TUITIONFEE_IN  TUITIONFEE_OUT\n",
       "0                     Alabama A & M University        10024.0         18634.0\n",
       "1          University of Alabama at Birmingham         8568.0         20400.0\n",
       "2                           Amridge University         6950.0          6950.0\n",
       "3          University of Alabama in Huntsville        11122.0         23518.0\n",
       "4                     Alabama State University        11068.0         19396.0\n",
       "...                                        ...            ...             ...\n",
       "6689        Georgia Military College - Eastman         6165.0             NaN\n",
       "6690  American College of Barbering - Florence            NaN             NaN\n",
       "6691      HCI College - Fort Lauderdale Campus        19404.0             NaN\n",
       "6692          ABC Adult School - Cabrillo Lane            NaN             NaN\n",
       "6693           Urban Barber College - San Jose            NaN             NaN\n",
       "\n",
       "[6694 rows x 3 columns]"
      ]
     },
     "execution_count": 28,
     "metadata": {},
     "output_type": "execute_result"
    }
   ],
   "source": [
    "collegescorecard[['INSTNM','TUITIONFEE_IN','TUITIONFEE_OUT']]"
   ]
  },
  {
   "cell_type": "code",
   "execution_count": 29,
   "id": "b820b086",
   "metadata": {
    "scrolled": false
   },
   "outputs": [
    {
     "data": {
      "text/plain": [
       "<AxesSubplot:xlabel='Out-state-tuitionfee', ylabel='Race'>"
      ]
     },
     "execution_count": 29,
     "metadata": {},
     "output_type": "execute_result"
    },
    {
     "data": {
      "image/png": "[encoded data removed]",
      "text/plain": [
       "<Figure size 432x288 with 1 Axes>"
      ]
     },
     "metadata": {
      "needs_background": "light"
     },
     "output_type": "display_data"
    }
   ],
   "source": [
    "ax0=collegescorecard.plot.scatter(x='TUITIONFEE_OUT',y='BLACK',label='Black')\n",
    "collegescorecard.plot.scatter(x='TUITIONFEE_OUT',y='WHITE',xlabel='Out-state-tuitionfee',\\\n",
    "                              ylabel='Race',color='red',label='White', ax=ax0)\n",
    "#collegescorecard.plot.scatter(x='DIFF_OF_FEE',y='HISP',color='y',ax=ax)"
   ]
  },
  {
   "cell_type": "code",
   "execution_count": 30,
   "id": "f9393087",
   "metadata": {},
   "outputs": [
    {
     "data": {
      "text/plain": [
       "<AxesSubplot:xlabel='In-state-tuitionfee', ylabel='Race'>"
      ]
     },
     "execution_count": 30,
     "metadata": {},
     "output_type": "execute_result"
    },
    {
     "data": {
      "image/png": "[encoded data removed]",
      "text/plain": [
       "<Figure size 432x288 with 1 Axes>"
      ]
     },
     "metadata": {
      "needs_background": "light"
     },
     "output_type": "display_data"
    }
   ],
   "source": [
    "ax1=collegescorecard.plot.scatter(x='TUITIONFEE_IN',y='BLACK',label='Black')\n",
    "collegescorecard.plot.scatter(x='TUITIONFEE_IN',y='WHITE',xlabel='In-state-tuitionfee',\\\n",
    "                              ylabel='Race',color='red',label='White', ax=ax1)\n",
    "#collegescorecard.plot.scatter(x='DIFF_OF_FEE',y='HISP',color='y',ax=ax)"
   ]
  },
  {
   "cell_type": "markdown",
   "id": "ca4b9a7c",
   "metadata": {},
   "source": [
    "**🔍As we can see from the graph above, tuitionfee actually make sense in completion rate in different races. The White's completion rate is apparently higher when the tuitionfee is between 10000 and 50000. When the tuitionfee is lower than 10000 or higher than 50000, the completion rate between them is very similar, no matter in-state tuitionfee or out-of-state tuitionfee.**\n",
    "\n",
    "**So I think schools who can control the tuition fee lower than 10000 or higher than 50000 may result in a better racial equality in completion rate.**"
   ]
  },
  {
   "cell_type": "code",
   "execution_count": null,
   "id": "eecd95b8",
   "metadata": {},
   "outputs": [],
   "source": []
  }
 ],
 "metadata": {
  "kernelspec": {
   "display_name": "Python 3",
   "language": "python",
   "name": "python3"
  },
  "language_info": {
   "codemirror_mode": {
    "name": "ipython",
    "version": 3
   },
   "file_extension": ".py",
   "mimetype": "text/x-python",
   "name": "python",
   "nbconvert_exporter": "python",
   "pygments_lexer": "ipython3",
   "version": "3.8.8"
  }
 },
 "nbformat": 4,
 "nbformat_minor": 5
}
