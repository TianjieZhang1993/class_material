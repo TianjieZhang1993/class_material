{
 "cells": [
  {
   "cell_type": "markdown",
   "id": "5284cb88",
   "metadata": {},
   "source": [
    "# Week 5 Application Exercise\n",
    "\n",
    "This is the starting notebook for the Week 5 application exercise.  It is intended to demonstrate several things:\n",
    "\n",
    "- The use of simulation as a tool for understanding statistical methods\n",
    "- Performing hypothesis tests\n",
    "- The difference between paired and two-sample tests\n",
    "\n",
    "Save the notebook file and `.py` file into the same folder to start work on the assignment.\n",
    "\n",
    "Please treat the experiment as a black box and infer its behavior using the statistical techniques we have learned in class.  After class, I invite you to look at its source code and see how it works.\n",
    "\n",
    "The core idea of this is to identify whether “fabulators” under condition A have higher (or lower) nonsense production than under condition B.  The code will describe an experimental design, and allow you to “run” the experiment to draw samples."
   ]
  },
  {
   "cell_type": "markdown",
   "id": "80548e58",
   "metadata": {},
   "source": [
    "## Software Requirements\n",
    "\n",
    "This exercise requires an additional Python package that is not included in a default Anaconda install - the [seedbank](https://seedbank.lenskit.org) library.  You can install this with Pip:\n",
    "\n",
    "    pip install seedbank\n",
    "\n",
    "It's also available in Conda-Forge:\n",
    "\n",
    "    conda install -c conda-forge seedbank\n",
    "    \n",
    "Because it only has a few dependencies, and they are all included in almost all base Conda environments, the Pip installation works fine, and doesn't mix packages between Conda repositories."
   ]
  },
  {
   "cell_type": "markdown",
   "id": "8314057c",
   "metadata": {},
   "source": [
    "## Setup\n",
    "\n",
    "This project requires an additional \n",
    "\n",
    "We need to do our usual imports:"
   ]
  },
  {
   "cell_type": "code",
   "execution_count": 1,
   "id": "2a4945ac",
   "metadata": {},
   "outputs": [],
   "source": [
    "import pandas as pd\n",
    "import numpy as np\n",
    "import scipy.stats as stats\n",
    "import statsmodels.api as sm\n",
    "import seaborn as sns\n",
    "import matplotlib.pyplot as plt"
   ]
  },
  {
   "cell_type": "markdown",
   "id": "c4f888fa",
   "metadata": {},
   "source": [
    "Because we are using random number generation, we want to **seed** the random number generator.  If we initialize it with the a fixed seed, re-running the notebook repeatedly will produce the same results.  This is useful for debugging and reproducibility.  We'll often want to re-run with a *different* seed before submitting, just to make sure that our results aren't accidentally the result of a pathological choice of random seeds.\n",
    "\n",
    "The Seedbank library initializes and seeds a wide range of Python random number generators.  The basic usage is to directly seed with a call to `initialize` (for teaching notebooks, I often use the current date as my random seed):\n",
    "\n",
    "    import seedbank\n",
    "    seedbank.initialize(20210923)\n",
    "\n",
    "However, if we all ran that code, we would all get the same results, but for this exercise I would like different teams to get *different* results.  Therefore, we will take advantage of another Seedbank feature that allows us to specify additional string keys that get incorporated into the random seed.  In the following cell, edit it to use your team name:"
   ]
  },
  {
   "cell_type": "code",
   "execution_count": 2,
   "id": "fdb7e4c1",
   "metadata": {},
   "outputs": [
    {
     "data": {
      "text/plain": [
       "SeedSequence(\n",
       "    entropy=20210923,\n",
       "    spawn_key=(array([1652547376, 2490093471, 1609550347, 3146785967], dtype=uint32),),\n",
       ")"
      ]
     },
     "execution_count": 2,
     "metadata": {},
     "output_type": "execute_result"
    }
   ],
   "source": [
    "TEAM_NAME = 'DemoTeam'\n",
    "import seedbank\n",
    "seedbank.initialize(20210923, TEAM_NAME)"
   ]
  },
  {
   "cell_type": "markdown",
   "id": "5ccbc2ad",
   "metadata": {},
   "source": [
    "The last piece is to import our custom module to get a 'world' from which we can sample:"
   ]
  },
  {
   "cell_type": "code",
   "execution_count": 3,
   "id": "932461e7",
   "metadata": {},
   "outputs": [],
   "source": [
    "from cs533_w5_world import Experiment"
   ]
  },
  {
   "cell_type": "markdown",
   "id": "6bfd8a84",
   "metadata": {},
   "source": [
    "And then create our experiment:"
   ]
  },
  {
   "cell_type": "code",
   "execution_count": 4,
   "id": "a3b7ebe1",
   "metadata": {},
   "outputs": [],
   "source": [
    "exp = Experiment()"
   ]
  },
  {
   "cell_type": "markdown",
   "id": "31e35aa4",
   "metadata": {},
   "source": [
    "## Getting Data\n",
    "\n",
    "We first need to know where our data is coming from.  The experiment describes itself:"
   ]
  },
  {
   "cell_type": "code",
   "execution_count": 5,
   "id": "172d17fa",
   "metadata": {},
   "outputs": [
    {
     "name": "stdout",
     "output_type": "stream",
     "text": [
      "This experiment measures the nonsense output of fabulators under different\n",
      "conditions.  It measures each fabulator twice, under two different conditions,\n",
      "to see how much nonsense they produce in each condition.\n",
      "\n",
      "Your goal is to measure whether condition A causes fabulators to produce more\n",
      "(or less) nonsense than condition B.\n"
     ]
    }
   ],
   "source": [
    "print(exp.describe())"
   ]
  },
  {
   "cell_type": "markdown",
   "id": "16010148",
   "metadata": {},
   "source": [
    "We can run an instance of this experiment with size 50:"
   ]
  },
  {
   "cell_type": "code",
   "execution_count": 6,
   "id": "7e15129f",
   "metadata": {},
   "outputs": [
    {
     "data": {
      "text/html": [
       "<div>\n",
       "<style scoped>\n",
       "    .dataframe tbody tr th:only-of-type {\n",
       "        vertical-align: middle;\n",
       "    }\n",
       "\n",
       "    .dataframe tbody tr th {\n",
       "        vertical-align: top;\n",
       "    }\n",
       "\n",
       "    .dataframe thead th {\n",
       "        text-align: right;\n",
       "    }\n",
       "</style>\n",
       "<table border=\"1\" class=\"dataframe\">\n",
       "  <thead>\n",
       "    <tr style=\"text-align: right;\">\n",
       "      <th></th>\n",
       "      <th>subject</th>\n",
       "      <th>CondA_Nonsense</th>\n",
       "      <th>CondB_Nonsense</th>\n",
       "    </tr>\n",
       "  </thead>\n",
       "  <tbody>\n",
       "    <tr>\n",
       "      <th>0</th>\n",
       "      <td>1</td>\n",
       "      <td>491.270180</td>\n",
       "      <td>499.758309</td>\n",
       "    </tr>\n",
       "    <tr>\n",
       "      <th>1</th>\n",
       "      <td>2</td>\n",
       "      <td>488.037759</td>\n",
       "      <td>542.379451</td>\n",
       "    </tr>\n",
       "    <tr>\n",
       "      <th>2</th>\n",
       "      <td>3</td>\n",
       "      <td>487.521976</td>\n",
       "      <td>522.155873</td>\n",
       "    </tr>\n",
       "    <tr>\n",
       "      <th>3</th>\n",
       "      <td>4</td>\n",
       "      <td>493.054680</td>\n",
       "      <td>489.373105</td>\n",
       "    </tr>\n",
       "    <tr>\n",
       "      <th>4</th>\n",
       "      <td>5</td>\n",
       "      <td>494.986270</td>\n",
       "      <td>533.758312</td>\n",
       "    </tr>\n",
       "    <tr>\n",
       "      <th>5</th>\n",
       "      <td>6</td>\n",
       "      <td>478.886057</td>\n",
       "      <td>511.341658</td>\n",
       "    </tr>\n",
       "    <tr>\n",
       "      <th>6</th>\n",
       "      <td>7</td>\n",
       "      <td>497.455639</td>\n",
       "      <td>504.963985</td>\n",
       "    </tr>\n",
       "    <tr>\n",
       "      <th>7</th>\n",
       "      <td>8</td>\n",
       "      <td>486.829052</td>\n",
       "      <td>431.089760</td>\n",
       "    </tr>\n",
       "    <tr>\n",
       "      <th>8</th>\n",
       "      <td>9</td>\n",
       "      <td>498.118970</td>\n",
       "      <td>506.350791</td>\n",
       "    </tr>\n",
       "    <tr>\n",
       "      <th>9</th>\n",
       "      <td>10</td>\n",
       "      <td>496.422109</td>\n",
       "      <td>502.459254</td>\n",
       "    </tr>\n",
       "    <tr>\n",
       "      <th>10</th>\n",
       "      <td>11</td>\n",
       "      <td>493.626643</td>\n",
       "      <td>490.503260</td>\n",
       "    </tr>\n",
       "    <tr>\n",
       "      <th>11</th>\n",
       "      <td>12</td>\n",
       "      <td>474.291263</td>\n",
       "      <td>521.178619</td>\n",
       "    </tr>\n",
       "    <tr>\n",
       "      <th>12</th>\n",
       "      <td>13</td>\n",
       "      <td>487.382728</td>\n",
       "      <td>526.654665</td>\n",
       "    </tr>\n",
       "    <tr>\n",
       "      <th>13</th>\n",
       "      <td>14</td>\n",
       "      <td>489.348281</td>\n",
       "      <td>496.304961</td>\n",
       "    </tr>\n",
       "    <tr>\n",
       "      <th>14</th>\n",
       "      <td>15</td>\n",
       "      <td>492.855544</td>\n",
       "      <td>513.769348</td>\n",
       "    </tr>\n",
       "    <tr>\n",
       "      <th>15</th>\n",
       "      <td>16</td>\n",
       "      <td>491.373486</td>\n",
       "      <td>510.614888</td>\n",
       "    </tr>\n",
       "    <tr>\n",
       "      <th>16</th>\n",
       "      <td>17</td>\n",
       "      <td>491.052063</td>\n",
       "      <td>482.536816</td>\n",
       "    </tr>\n",
       "    <tr>\n",
       "      <th>17</th>\n",
       "      <td>18</td>\n",
       "      <td>485.741093</td>\n",
       "      <td>492.746486</td>\n",
       "    </tr>\n",
       "    <tr>\n",
       "      <th>18</th>\n",
       "      <td>19</td>\n",
       "      <td>495.436037</td>\n",
       "      <td>490.760080</td>\n",
       "    </tr>\n",
       "    <tr>\n",
       "      <th>19</th>\n",
       "      <td>20</td>\n",
       "      <td>476.848079</td>\n",
       "      <td>476.586964</td>\n",
       "    </tr>\n",
       "    <tr>\n",
       "      <th>20</th>\n",
       "      <td>21</td>\n",
       "      <td>493.581623</td>\n",
       "      <td>474.873868</td>\n",
       "    </tr>\n",
       "    <tr>\n",
       "      <th>21</th>\n",
       "      <td>22</td>\n",
       "      <td>500.601758</td>\n",
       "      <td>529.843916</td>\n",
       "    </tr>\n",
       "    <tr>\n",
       "      <th>22</th>\n",
       "      <td>23</td>\n",
       "      <td>491.641616</td>\n",
       "      <td>490.010542</td>\n",
       "    </tr>\n",
       "    <tr>\n",
       "      <th>23</th>\n",
       "      <td>24</td>\n",
       "      <td>492.260378</td>\n",
       "      <td>481.484246</td>\n",
       "    </tr>\n",
       "    <tr>\n",
       "      <th>24</th>\n",
       "      <td>25</td>\n",
       "      <td>499.686585</td>\n",
       "      <td>467.853878</td>\n",
       "    </tr>\n",
       "    <tr>\n",
       "      <th>25</th>\n",
       "      <td>26</td>\n",
       "      <td>484.068844</td>\n",
       "      <td>485.405172</td>\n",
       "    </tr>\n",
       "    <tr>\n",
       "      <th>26</th>\n",
       "      <td>27</td>\n",
       "      <td>486.243056</td>\n",
       "      <td>523.751403</td>\n",
       "    </tr>\n",
       "    <tr>\n",
       "      <th>27</th>\n",
       "      <td>28</td>\n",
       "      <td>498.845637</td>\n",
       "      <td>492.878041</td>\n",
       "    </tr>\n",
       "    <tr>\n",
       "      <th>28</th>\n",
       "      <td>29</td>\n",
       "      <td>495.797424</td>\n",
       "      <td>497.288666</td>\n",
       "    </tr>\n",
       "    <tr>\n",
       "      <th>29</th>\n",
       "      <td>30</td>\n",
       "      <td>490.684642</td>\n",
       "      <td>499.062874</td>\n",
       "    </tr>\n",
       "    <tr>\n",
       "      <th>30</th>\n",
       "      <td>31</td>\n",
       "      <td>482.445845</td>\n",
       "      <td>478.918477</td>\n",
       "    </tr>\n",
       "    <tr>\n",
       "      <th>31</th>\n",
       "      <td>32</td>\n",
       "      <td>484.295970</td>\n",
       "      <td>506.201143</td>\n",
       "    </tr>\n",
       "    <tr>\n",
       "      <th>32</th>\n",
       "      <td>33</td>\n",
       "      <td>491.247603</td>\n",
       "      <td>505.933285</td>\n",
       "    </tr>\n",
       "    <tr>\n",
       "      <th>33</th>\n",
       "      <td>34</td>\n",
       "      <td>491.369663</td>\n",
       "      <td>530.705623</td>\n",
       "    </tr>\n",
       "    <tr>\n",
       "      <th>34</th>\n",
       "      <td>35</td>\n",
       "      <td>486.559751</td>\n",
       "      <td>447.577876</td>\n",
       "    </tr>\n",
       "    <tr>\n",
       "      <th>35</th>\n",
       "      <td>36</td>\n",
       "      <td>485.900340</td>\n",
       "      <td>487.839573</td>\n",
       "    </tr>\n",
       "    <tr>\n",
       "      <th>36</th>\n",
       "      <td>37</td>\n",
       "      <td>486.202445</td>\n",
       "      <td>466.141689</td>\n",
       "    </tr>\n",
       "    <tr>\n",
       "      <th>37</th>\n",
       "      <td>38</td>\n",
       "      <td>491.168916</td>\n",
       "      <td>535.777416</td>\n",
       "    </tr>\n",
       "    <tr>\n",
       "      <th>38</th>\n",
       "      <td>39</td>\n",
       "      <td>491.593615</td>\n",
       "      <td>453.934807</td>\n",
       "    </tr>\n",
       "    <tr>\n",
       "      <th>39</th>\n",
       "      <td>40</td>\n",
       "      <td>481.662532</td>\n",
       "      <td>496.501428</td>\n",
       "    </tr>\n",
       "    <tr>\n",
       "      <th>40</th>\n",
       "      <td>41</td>\n",
       "      <td>489.835944</td>\n",
       "      <td>509.461719</td>\n",
       "    </tr>\n",
       "    <tr>\n",
       "      <th>41</th>\n",
       "      <td>42</td>\n",
       "      <td>486.429966</td>\n",
       "      <td>507.556906</td>\n",
       "    </tr>\n",
       "    <tr>\n",
       "      <th>42</th>\n",
       "      <td>43</td>\n",
       "      <td>489.906576</td>\n",
       "      <td>493.523532</td>\n",
       "    </tr>\n",
       "    <tr>\n",
       "      <th>43</th>\n",
       "      <td>44</td>\n",
       "      <td>492.008070</td>\n",
       "      <td>492.572720</td>\n",
       "    </tr>\n",
       "    <tr>\n",
       "      <th>44</th>\n",
       "      <td>45</td>\n",
       "      <td>483.182084</td>\n",
       "      <td>543.596316</td>\n",
       "    </tr>\n",
       "    <tr>\n",
       "      <th>45</th>\n",
       "      <td>46</td>\n",
       "      <td>495.219626</td>\n",
       "      <td>495.588072</td>\n",
       "    </tr>\n",
       "    <tr>\n",
       "      <th>46</th>\n",
       "      <td>47</td>\n",
       "      <td>489.943306</td>\n",
       "      <td>525.869654</td>\n",
       "    </tr>\n",
       "    <tr>\n",
       "      <th>47</th>\n",
       "      <td>48</td>\n",
       "      <td>485.345265</td>\n",
       "      <td>502.485654</td>\n",
       "    </tr>\n",
       "    <tr>\n",
       "      <th>48</th>\n",
       "      <td>49</td>\n",
       "      <td>496.998936</td>\n",
       "      <td>522.398009</td>\n",
       "    </tr>\n",
       "    <tr>\n",
       "      <th>49</th>\n",
       "      <td>50</td>\n",
       "      <td>492.427796</td>\n",
       "      <td>529.287665</td>\n",
       "    </tr>\n",
       "  </tbody>\n",
       "</table>\n",
       "</div>"
      ],
      "text/plain": [
       "    subject  CondA_Nonsense  CondB_Nonsense\n",
       "0         1      491.270180      499.758309\n",
       "1         2      488.037759      542.379451\n",
       "2         3      487.521976      522.155873\n",
       "3         4      493.054680      489.373105\n",
       "4         5      494.986270      533.758312\n",
       "5         6      478.886057      511.341658\n",
       "6         7      497.455639      504.963985\n",
       "7         8      486.829052      431.089760\n",
       "8         9      498.118970      506.350791\n",
       "9        10      496.422109      502.459254\n",
       "10       11      493.626643      490.503260\n",
       "11       12      474.291263      521.178619\n",
       "12       13      487.382728      526.654665\n",
       "13       14      489.348281      496.304961\n",
       "14       15      492.855544      513.769348\n",
       "15       16      491.373486      510.614888\n",
       "16       17      491.052063      482.536816\n",
       "17       18      485.741093      492.746486\n",
       "18       19      495.436037      490.760080\n",
       "19       20      476.848079      476.586964\n",
       "20       21      493.581623      474.873868\n",
       "21       22      500.601758      529.843916\n",
       "22       23      491.641616      490.010542\n",
       "23       24      492.260378      481.484246\n",
       "24       25      499.686585      467.853878\n",
       "25       26      484.068844      485.405172\n",
       "26       27      486.243056      523.751403\n",
       "27       28      498.845637      492.878041\n",
       "28       29      495.797424      497.288666\n",
       "29       30      490.684642      499.062874\n",
       "30       31      482.445845      478.918477\n",
       "31       32      484.295970      506.201143\n",
       "32       33      491.247603      505.933285\n",
       "33       34      491.369663      530.705623\n",
       "34       35      486.559751      447.577876\n",
       "35       36      485.900340      487.839573\n",
       "36       37      486.202445      466.141689\n",
       "37       38      491.168916      535.777416\n",
       "38       39      491.593615      453.934807\n",
       "39       40      481.662532      496.501428\n",
       "40       41      489.835944      509.461719\n",
       "41       42      486.429966      507.556906\n",
       "42       43      489.906576      493.523532\n",
       "43       44      492.008070      492.572720\n",
       "44       45      483.182084      543.596316\n",
       "45       46      495.219626      495.588072\n",
       "46       47      489.943306      525.869654\n",
       "47       48      485.345265      502.485654\n",
       "48       49      496.998936      522.398009\n",
       "49       50      492.427796      529.287665"
      ]
     },
     "execution_count": 6,
     "metadata": {},
     "output_type": "execute_result"
    }
   ],
   "source": [
    "SAMPLE_SIZE = 50\n",
    "data = exp.run_experiment(SAMPLE_SIZE)\n",
    "data"
   ]
  },
  {
   "cell_type": "markdown",
   "id": "b56f2529",
   "metadata": {},
   "source": [
    "## Comparing Conditions/Groups\n",
    "\n",
    "Review the experiment description.  You need to compare A and B with a *t*-test, but the precise details will depend on your experiment structure.\n",
    "\n",
    "✅ Do you need to use a **paired** t-test or an **independent two-sample** t-test for this analysis?"
   ]
  },
  {
   "cell_type": "markdown",
   "id": "39f10091",
   "metadata": {},
   "source": [
    "This analysis is **paired**, because each is studied twice.  Note that if you re-run with a different version of NumPy or on a different platform, you may get a different experimental description.  The description I received is:\n",
    "\n",
    "> This experiment measures the nonsense output of fabulators under different\n",
    "conditions.  It measures each fabulator twice, under two different conditions,\n",
    "to see how much nonsense they produce in each condition.\n",
    "> \n",
    "> Your goal is to measure whether condition A causes fabulators to produce more\n",
    "(or less) nonsense than condition B.\n"
   ]
  },
  {
   "cell_type": "markdown",
   "id": "259c6733",
   "metadata": {},
   "source": [
    "✅ What is the **null hypothesis** for the test with this data?"
   ]
  },
  {
   "cell_type": "markdown",
   "id": "ededc845",
   "metadata": {},
   "source": [
    "The null hypothesis is that average difference between conditions, taken over subjects is 0:\n",
    "\n",
    "$$H_0: \\mu_{A-B} = 0$$"
   ]
  },
  {
   "cell_type": "markdown",
   "id": "d84359a9",
   "metadata": {},
   "source": [
    "✅ Compute the means of both groups or conditions:"
   ]
  },
  {
   "cell_type": "code",
   "execution_count": 7,
   "id": "a219985b",
   "metadata": {},
   "outputs": [
    {
     "data": {
      "text/plain": [
       "489.95387441009194"
      ]
     },
     "execution_count": 7,
     "metadata": {},
     "output_type": "execute_result"
    }
   ],
   "source": [
    "meanA = data['CondA_Nonsense'].mean()\n",
    "meanA"
   ]
  },
  {
   "cell_type": "code",
   "execution_count": 8,
   "id": "b2a10310",
   "metadata": {},
   "outputs": [
    {
     "data": {
      "text/plain": [
       "500.39221510571775"
      ]
     },
     "execution_count": 8,
     "metadata": {},
     "output_type": "execute_result"
    }
   ],
   "source": [
    "meanB = data['CondB_Nonsense'].mean()\n",
    "meanB"
   ]
  },
  {
   "cell_type": "markdown",
   "id": "92b33018",
   "metadata": {},
   "source": [
    "✅ Compute the *difference* in means. How much more nonsense is produced in A vs. B?\n",
    "\n",
    "This is also called the *effect size* (or specifically, the *unstandardized effect size*)."
   ]
  },
  {
   "cell_type": "code",
   "execution_count": 11,
   "id": "c09c8c5d",
   "metadata": {},
   "outputs": [
    {
     "data": {
      "text/plain": [
       "-10.438340695625811"
      ]
     },
     "execution_count": 11,
     "metadata": {},
     "output_type": "execute_result"
    }
   ],
   "source": [
    "diff = meanA - meanB\n",
    "diff"
   ]
  },
  {
   "cell_type": "markdown",
   "id": "174c81f2",
   "metadata": {},
   "source": [
    "I mentioned in class to several of you that this is the *same* as the mean of the differences.  Let's see that:"
   ]
  },
  {
   "cell_type": "code",
   "execution_count": 10,
   "id": "29b70aed",
   "metadata": {},
   "outputs": [
    {
     "data": {
      "text/plain": [
       "-10.438340695625891"
      ]
     },
     "execution_count": 10,
     "metadata": {},
     "output_type": "execute_result"
    }
   ],
   "source": [
    "np.mean(data['CondA_Nonsense'] - data['CondB_Nonsense'])"
   ]
  },
  {
   "cell_type": "markdown",
   "id": "e931d0e6",
   "metadata": {},
   "source": [
    "This is because:\n",
    "\n",
    "$$\\begin{align*}\n",
    "\\bar{x_A - x_B} & = \\frac{\\sum (x_{Ai} - x_{Bi})}{n} \\\\\n",
    "& = \\frac{\\sum x_{Ai}}{n} - \\frac{\\sum x_{Bi}}{n} \\\\\n",
    "& = \\bar{x_A} - \\bar{x_B}\n",
    "\\end{align*}$$"
   ]
  },
  {
   "cell_type": "markdown",
   "id": "21379a06",
   "metadata": {},
   "source": [
    "✅ Run the appropriate *t*-test to test if this difference is statistically significant and obtain a *p*-value:\n",
    "\n",
    "I will use `stats.ttest_rel` for a paired T-test:"
   ]
  },
  {
   "cell_type": "code",
   "execution_count": 13,
   "id": "b6a42c30",
   "metadata": {},
   "outputs": [
    {
     "data": {
      "text/plain": [
       "Ttest_relResult(statistic=-3.028225882473857, pvalue=0.003916899922623179)"
      ]
     },
     "execution_count": 13,
     "metadata": {},
     "output_type": "execute_result"
    }
   ],
   "source": [
    "stats.ttest_rel(data['CondA_Nonsense'], data['CondB_Nonsense'])"
   ]
  },
  {
   "cell_type": "markdown",
   "id": "201b4092",
   "metadata": {},
   "source": [
    "✅ What does this result mean?"
   ]
  },
  {
   "cell_type": "markdown",
   "id": "14f0aa48",
   "metadata": {},
   "source": [
    "This means that there is a statistically significant difference in the amount of nonsense produced under the two conditions."
   ]
  },
  {
   "cell_type": "markdown",
   "id": "82f93e02",
   "metadata": {},
   "source": [
    "## Bootstrap\n",
    "\n",
    "✅ Bootstrap a confidence interval for the effect size (note that the bootstrap procedure will differ between paired and unpaired analyses):"
   ]
  },
  {
   "cell_type": "markdown",
   "id": "167e24c6",
   "metadata": {},
   "source": [
    "Since this is *paired*, we're going to bootstrap the mean differences.  First get an RNG:"
   ]
  },
  {
   "cell_type": "code",
   "execution_count": 14,
   "id": "4b2e8d95",
   "metadata": {},
   "outputs": [],
   "source": [
    "rng = seedbank.numpy_rng()"
   ]
  },
  {
   "cell_type": "markdown",
   "id": "1bbc6450",
   "metadata": {},
   "source": [
    "Compute the differences:"
   ]
  },
  {
   "cell_type": "code",
   "execution_count": 15,
   "id": "33723656",
   "metadata": {},
   "outputs": [
    {
     "data": {
      "text/plain": [
       "-10.438340695625891"
      ]
     },
     "execution_count": 15,
     "metadata": {},
     "output_type": "execute_result"
    }
   ],
   "source": [
    "diffs = data['CondA_Nonsense'] - data['CondB_Nonsense']\n",
    "np.mean(diffs)"
   ]
  },
  {
   "cell_type": "markdown",
   "id": "7dd18e86",
   "metadata": {},
   "source": [
    "And bootstrap:"
   ]
  },
  {
   "cell_type": "code",
   "execution_count": 16,
   "id": "7203755e",
   "metadata": {},
   "outputs": [
    {
     "data": {
      "text/plain": [
       "count    10000.000000\n",
       "mean       -10.484656\n",
       "std          3.393182\n",
       "min        -22.488613\n",
       "25%        -12.774479\n",
       "50%        -10.514809\n",
       "75%         -8.247773\n",
       "max          2.501482\n",
       "dtype: float64"
      ]
     },
     "execution_count": 16,
     "metadata": {},
     "output_type": "execute_result"
    }
   ],
   "source": [
    "NBOOT = 10000\n",
    "boot_means = np.array([np.mean(rng.choice(diffs, SAMPLE_SIZE, replace=True)) for i in range(NBOOT)])\n",
    "pd.Series(boot_means).describe()"
   ]
  },
  {
   "cell_type": "markdown",
   "id": "b0b05a80",
   "metadata": {},
   "source": [
    "Our confidence interval is the 0.025 and 0.975 quantiles:"
   ]
  },
  {
   "cell_type": "code",
   "execution_count": 17,
   "id": "39e0202e",
   "metadata": {},
   "outputs": [
    {
     "data": {
      "text/plain": [
       "array([-17.121503  ,  -3.75708957])"
      ]
     },
     "execution_count": 17,
     "metadata": {},
     "output_type": "execute_result"
    }
   ],
   "source": [
    "np.quantile(boot_means, [0.025, 0.975])"
   ]
  },
  {
   "cell_type": "markdown",
   "id": "cc7260fa",
   "metadata": {},
   "source": [
    "It excludes 0, which is consistent with our t-test."
   ]
  },
  {
   "cell_type": "markdown",
   "id": "4cd1e096",
   "metadata": {},
   "source": [
    "## Sampling Distribution\n",
    "\n",
    "✅ Compute the effect size of **100 runs** of your experiment.  Describe the distribution of these effect sizes numerically and graphically."
   ]
  },
  {
   "cell_type": "code",
   "execution_count": 18,
   "id": "409c89b9",
   "metadata": {},
   "outputs": [],
   "source": [
    "def run_eff(exp):\n",
    "    data = exp.run_experiment(SAMPLE_SIZE)\n",
    "    diff = data['CondA_Nonsense'].mean() - data['CondB_Nonsense'].mean()\n",
    "    return diff"
   ]
  },
  {
   "cell_type": "code",
   "execution_count": 26,
   "id": "425add60",
   "metadata": {},
   "outputs": [
    {
     "data": {
      "text/plain": [
       "<seaborn.axisgrid.FacetGrid at 0x1f7a7310fa0>"
      ]
     },
     "execution_count": 26,
     "metadata": {},
     "output_type": "execute_result"
    },
    {
     "data": {
      "image/png": "[encoded data removed]",
      "text/plain": [
       "<Figure size 360x360 with 1 Axes>"
      ]
     },
     "metadata": {
      "needs_background": "light"
     },
     "output_type": "display_data"
    }
   ],
   "source": [
    "rep_eff_sizes = pd.Series([run_eff(exp) for i in range(100)])\n",
    "rep_eff_sizes.name = 'EffectSize'\n",
    "sns.displot(x=rep_eff_sizes, kde=True)"
   ]
  },
  {
   "cell_type": "code",
   "execution_count": 23,
   "id": "8f44e20b",
   "metadata": {},
   "outputs": [
    {
     "data": {
      "text/plain": [
       "count    100.000000\n",
       "mean     -10.025099\n",
       "std        3.877443\n",
       "min      -21.229353\n",
       "25%      -12.713764\n",
       "50%       -9.810588\n",
       "75%       -7.110973\n",
       "max       -1.131715\n",
       "Name: EffectSize, dtype: float64"
      ]
     },
     "execution_count": 23,
     "metadata": {},
     "output_type": "execute_result"
    }
   ],
   "source": [
    "rep_eff_sizes.describe()"
   ]
  },
  {
   "cell_type": "markdown",
   "id": "e6eb4590",
   "metadata": {},
   "source": [
    "This looks perhaps slightly left-skewed, although it's close to symmetric, and theoretically should be symmetric (it should actually be normal, centered around the true mean)."
   ]
  },
  {
   "cell_type": "markdown",
   "id": "717153c6",
   "metadata": {},
   "source": [
    "⚠ While the confidence interval above will likely be close percentiles of the effect size distribution, they are not the same thing.  **Why is that?**"
   ]
  },
  {
   "cell_type": "markdown",
   "id": "98ab8d78",
   "metadata": {},
   "source": [
    "Because the *width* of the confidence interval is an estimate of the spread of the sampling distribution, but the confidence interval is not the quantiles of the sampling distribution.  The confidence interval is the result of the confidence interval procedure, and is an interval such that 95% of intervals computed with that procedure will contian the true mean, but it does directly compute properties of the sampling distribution."
   ]
  },
  {
   "cell_type": "markdown",
   "id": "c122678d",
   "metadata": {},
   "source": [
    "## The Answers\n",
    "\n",
    "The experiment can tell you the answers (do **not** run this until you have completed the rest):"
   ]
  },
  {
   "cell_type": "code",
   "execution_count": 27,
   "id": "c968cc90",
   "metadata": {},
   "outputs": [
    {
     "data": {
      "text/plain": [
       "'This was an paired experiment with effect size -10.0261'"
      ]
     },
     "execution_count": 27,
     "metadata": {},
     "output_type": "execute_result"
    }
   ],
   "source": [
    "exp.answers()"
   ]
  },
  {
   "cell_type": "markdown",
   "id": "3aa42ae0",
   "metadata": {},
   "source": [
    "We can see that our estimate of the effect size is pretty close to the true effect size, and also that the mean of the sampling distribution above is very close to the true effect size."
   ]
  },
  {
   "cell_type": "markdown",
   "id": "74886675",
   "metadata": {},
   "source": [
    "## Other Analysis\n",
    "\n",
    "If you have time, create a second experiment with the opposite configuration of your initial.  The experiment class takes a `paired` option that you can use to force a paired or unpaired design by passing `True` or `False`:\n",
    "\n",
    "    exp2 = Experiment(paired=True)\n",
    "\n",
    "If you needed a paired analysis above, create an unpaired experiment (`paired=False`); if you used an independent analysis above, create a paired analysis. Repeat as much of your analysis as you can with the new experimental design."
   ]
  },
  {
   "cell_type": "markdown",
   "id": "56cb1b51",
   "metadata": {},
   "source": [
    "**Note:** for the sake of time, I am not going to repeat everything.  I will capture the key differences."
   ]
  },
  {
   "cell_type": "code",
   "execution_count": 28,
   "id": "0c1a9a68",
   "metadata": {},
   "outputs": [
    {
     "name": "stdout",
     "output_type": "stream",
     "text": [
      "This experiment measures the nonsense output of fabulators under different\n",
      "conditions.\n",
      "\n",
      "This experiment randomly assigns each subject (fabulator) one of two different\n",
      "treatments, and measures the amount of nonsense they produce in a 10-minute period\n",
      "under otherwise-identical conditions.\n",
      "\n",
      "Your goal is to measure assess whether condition A results in more (or less) nonsense\n",
      "than condition B.\n"
     ]
    }
   ],
   "source": [
    "exp2 = Experiment(paired=False)\n",
    "print(exp2.describe())"
   ]
  },
  {
   "cell_type": "markdown",
   "id": "9e14e86f",
   "metadata": {},
   "source": [
    "Run it:"
   ]
  },
  {
   "cell_type": "code",
   "execution_count": 29,
   "id": "923d2576",
   "metadata": {},
   "outputs": [
    {
     "data": {
      "text/html": [
       "<div>\n",
       "<style scoped>\n",
       "    .dataframe tbody tr th:only-of-type {\n",
       "        vertical-align: middle;\n",
       "    }\n",
       "\n",
       "    .dataframe tbody tr th {\n",
       "        vertical-align: top;\n",
       "    }\n",
       "\n",
       "    .dataframe thead th {\n",
       "        text-align: right;\n",
       "    }\n",
       "</style>\n",
       "<table border=\"1\" class=\"dataframe\">\n",
       "  <thead>\n",
       "    <tr style=\"text-align: right;\">\n",
       "      <th></th>\n",
       "      <th>subject</th>\n",
       "      <th>Condition</th>\n",
       "      <th>Nonsense</th>\n",
       "    </tr>\n",
       "  </thead>\n",
       "  <tbody>\n",
       "    <tr>\n",
       "      <th>0</th>\n",
       "      <td>1</td>\n",
       "      <td>A</td>\n",
       "      <td>504.291637</td>\n",
       "    </tr>\n",
       "    <tr>\n",
       "      <th>1</th>\n",
       "      <td>2</td>\n",
       "      <td>A</td>\n",
       "      <td>508.474578</td>\n",
       "    </tr>\n",
       "    <tr>\n",
       "      <th>2</th>\n",
       "      <td>3</td>\n",
       "      <td>A</td>\n",
       "      <td>505.243652</td>\n",
       "    </tr>\n",
       "    <tr>\n",
       "      <th>3</th>\n",
       "      <td>4</td>\n",
       "      <td>A</td>\n",
       "      <td>504.728108</td>\n",
       "    </tr>\n",
       "    <tr>\n",
       "      <th>4</th>\n",
       "      <td>5</td>\n",
       "      <td>A</td>\n",
       "      <td>510.258252</td>\n",
       "    </tr>\n",
       "  </tbody>\n",
       "</table>\n",
       "</div>"
      ],
      "text/plain": [
       "   subject Condition    Nonsense\n",
       "0        1         A  504.291637\n",
       "1        2         A  508.474578\n",
       "2        3         A  505.243652\n",
       "3        4         A  504.728108\n",
       "4        5         A  510.258252"
      ]
     },
     "execution_count": 29,
     "metadata": {},
     "output_type": "execute_result"
    }
   ],
   "source": [
    "data2 = exp2.run_experiment(SAMPLE_SIZE)\n",
    "data2.head()"
   ]
  },
  {
   "cell_type": "markdown",
   "id": "a7594b31",
   "metadata": {},
   "source": [
    "Extract each group's nonsense into a series:"
   ]
  },
  {
   "cell_type": "code",
   "execution_count": 31,
   "id": "a00ee5d8",
   "metadata": {},
   "outputs": [],
   "source": [
    "nonA = data2.loc[data2['Condition'] == 'A', 'Nonsense']\n",
    "nonB = data2.loc[data2['Condition'] == 'B', 'Nonsense']"
   ]
  },
  {
   "cell_type": "markdown",
   "id": "e249d0f4",
   "metadata": {},
   "source": [
    "Compute means & effect size:"
   ]
  },
  {
   "cell_type": "code",
   "execution_count": 32,
   "id": "ef1d4434",
   "metadata": {},
   "outputs": [
    {
     "data": {
      "text/plain": [
       "(507.0520806265442, 517.6121418076871, -10.560061181142885)"
      ]
     },
     "execution_count": 32,
     "metadata": {},
     "output_type": "execute_result"
    }
   ],
   "source": [
    "meanA = nonA.mean()\n",
    "meanB = nonB.mean()\n",
    "diff = meanA - meanB\n",
    "meanA, meanB, diff"
   ]
  },
  {
   "cell_type": "markdown",
   "id": "ad94305c",
   "metadata": {},
   "source": [
    "And now we use an **independent** T-test:"
   ]
  },
  {
   "cell_type": "code",
   "execution_count": 35,
   "id": "6be0d8bf",
   "metadata": {},
   "outputs": [
    {
     "data": {
      "text/plain": [
       "Ttest_indResult(statistic=-3.0731508947557735, pvalue=0.0027430926439611023)"
      ]
     },
     "execution_count": 35,
     "metadata": {},
     "output_type": "execute_result"
    }
   ],
   "source": [
    "stats.ttest_ind(nonA, nonB)"
   ]
  },
  {
   "cell_type": "markdown",
   "id": "7907a358",
   "metadata": {},
   "source": [
    "Also statistically significant ($p < 0.01$)."
   ]
  },
  {
   "cell_type": "markdown",
   "id": "cd0f2463",
   "metadata": {},
   "source": [
    "Bootstrapping the mean CI requires sampling bootstrapped means, and then computing differences. We can actually do this a bit separately, because we can bootstrap means of each piece, and subtract them, because our resampling of the two groups is independent (how we sample one does not affect the other)."
   ]
  },
  {
   "cell_type": "code",
   "execution_count": 40,
   "id": "37917485",
   "metadata": {},
   "outputs": [
    {
     "data": {
      "text/plain": [
       "-10.512631253251318"
      ]
     },
     "execution_count": 40,
     "metadata": {},
     "output_type": "execute_result"
    }
   ],
   "source": [
    "bootA = np.array([np.mean(rng.choice(nonA, SAMPLE_SIZE, replace=True)) for i in range(NBOOT)])\n",
    "bootB = np.array([np.mean(rng.choice(nonB, SAMPLE_SIZE, replace=True)) for i in range(NBOOT)])\n",
    "bootDiff = bootA - bootB\n",
    "np.mean(bootDiff)"
   ]
  },
  {
   "cell_type": "code",
   "execution_count": 41,
   "id": "ddf03dd6",
   "metadata": {},
   "outputs": [
    {
     "data": {
      "text/plain": [
       "array([-17.30497105,  -3.85045231])"
      ]
     },
     "execution_count": 41,
     "metadata": {},
     "output_type": "execute_result"
    }
   ],
   "source": [
    "np.quantile(bootDiff, [0.025, 0.975])"
   ]
  },
  {
   "cell_type": "markdown",
   "id": "45b56d51",
   "metadata": {},
   "source": [
    "Similar as before (but this is an accident, effect sizes are random).\n",
    "\n",
    "What are the answers?"
   ]
  },
  {
   "cell_type": "code",
   "execution_count": 42,
   "id": "875ebe69",
   "metadata": {},
   "outputs": [
    {
     "data": {
      "text/plain": [
       "'This was an unpaired experiment with effect size -10.3937'"
      ]
     },
     "execution_count": 42,
     "metadata": {},
     "output_type": "execute_result"
    }
   ],
   "source": [
    "exp2.answers()"
   ]
  },
  {
   "cell_type": "code",
   "execution_count": null,
   "id": "d2a85da6",
   "metadata": {},
   "outputs": [],
   "source": []
  }
 ],
 "metadata": {
  "kernelspec": {
   "display_name": "Python 3",
   "language": "python",
   "name": "python3"
  },
  "language_info": {
   "codemirror_mode": {
    "name": "ipython",
    "version": 3
   },
   "file_extension": ".py",
   "mimetype": "text/x-python",
   "name": "python",
   "nbconvert_exporter": "python",
   "pygments_lexer": "ipython3",
   "version": "3.8.8"
  }
 },
 "nbformat": 4,
 "nbformat_minor": 5
}
